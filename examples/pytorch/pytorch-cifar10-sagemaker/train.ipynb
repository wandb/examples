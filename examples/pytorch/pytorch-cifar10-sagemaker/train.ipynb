{
 "cells": [
  {
   "cell_type": "code",
   "execution_count": null,
   "metadata": {},
   "outputs": [],
   "source": [
    "!pip install wandb"
   ]
  },
  {
   "cell_type": "markdown",
   "metadata": {},
   "source": [
    "## Logging into W&B\n",
    "\n",
    "Goto your [profile page](https://app.wandb.ai/profile) and copy an api key.  Add a new cell below and run the following:\n",
    "\n",
    "```bash\n",
    "!wandb login PASTE_API_KEY_HERE\n",
    "```\n",
    "\n",
    "You only need to run this once as it writes your credentials in your home directory."
   ]
  },
  {
   "cell_type": "code",
   "execution_count": null,
   "metadata": {},
   "outputs": [],
   "source": [
    "import sagemaker\n",
    "from sagemaker.tuner import IntegerParameter, CategoricalParameter, ContinuousParameter, HyperparameterTuner\n",
    "from sagemaker.pytorch import PyTorch\n",
    "import torchvision\n",
    "import torchvision.transforms as transforms\n",
    "import os\n",
    "import sys\n",
    "import wandb"
   ]
  },
  {
   "cell_type": "code",
   "execution_count": null,
   "metadata": {},
   "outputs": [],
   "source": [
    "sagemaker_session = sagemaker.Session()\n",
    "\n",
    "bucket = sagemaker_session.default_bucket()\n",
    "prefix = 'sagemaker/pytorch-cifar10'\n",
    "\n",
    "# If you are running this outside of a sagemaker notebook, you must set SAGEMAKER_ROLE\n",
    "role = os.getenv('SAGEMAKER_ROLE') or sagemaker.get_execution_role()\n",
    "wandb.sagemaker_auth(path=\"source\")\n",
    "inputs = \"s3://{}/{}\".format(bucket, prefix)"
   ]
  },
  {
   "cell_type": "code",
   "execution_count": null,
   "metadata": {},
   "outputs": [],
   "source": [
    "# Upload the dataset to S3, you only need to run this cell once.\n",
    "transform = transforms.Compose(\n",
    "    [transforms.ToTensor(),\n",
    "     transforms.Normalize((0.5, 0.5, 0.5), (0.5, 0.5, 0.5))])\n",
    "\n",
    "trainset = torchvision.datasets.CIFAR10(\n",
    "    'data', download=True, transform=transform)\n",
    "print(\"Uploading data...\")\n",
    "inputs = sagemaker_session.upload_data(\n",
    "    path='data', bucket=bucket, key_prefix=prefix)"
   ]
  },
  {
   "cell_type": "code",
   "execution_count": null,
   "metadata": {},
   "outputs": [],
   "source": [
    "# Define instance and global hyperparams\n",
    "estimator = PyTorch(entry_point=\"cifar10.py\",\n",
    "                    source_dir=os.getcwd() + \"/source\",\n",
    "                    role=role,\n",
    "                    framework_version='1.0.0.dev',\n",
    "                    train_instance_count=1,\n",
    "                    train_instance_type='ml.p2.xlarge',\n",
    "                    hyperparameters={\n",
    "                        'epochs': 50,\n",
    "                        'momentum': 0.9\n",
    "                    })"
   ]
  },
  {
   "cell_type": "code",
   "execution_count": null,
   "metadata": {},
   "outputs": [],
   "source": [
    "# Define the sweep\n",
    "hyperparameter_ranges = {\n",
    "    'lr': ContinuousParameter(0.0001, 0.01),\n",
    "    'hidden_nodes': IntegerParameter(20, 100),\n",
    "    'batch_size': CategoricalParameter([128, 256, 512]),\n",
    "    'conv1_channels': CategoricalParameter([32, 64, 128]),\n",
    "    'conv2_channels': CategoricalParameter([64, 128, 256, 512]),\n",
    "}\n",
    "\n",
    "objective_metric_name = 'average test accuracy'\n",
    "objective_type = 'Maximize'\n",
    "metric_definitions = [{'Name': 'average test accuracy',\n",
    "                       'Regex': 'Test Accuracy: ([0-9\\\\.]+)'}]\n",
    "\n",
    "tuner = HyperparameterTuner(estimator,\n",
    "                            objective_metric_name,\n",
    "                            hyperparameter_ranges,\n",
    "                            metric_definitions,\n",
    "                            max_jobs=1,\n",
    "                            max_parallel_jobs=1,\n",
    "                            objective_type=objective_type)"
   ]
  },
  {
   "cell_type": "code",
   "execution_count": null,
   "metadata": {},
   "outputs": [
    {
     "name": "stderr",
     "output_type": "stream",
     "text": [
      "INFO:sagemaker:Creating hyperparameter tuning job with name: sagemaker-pytorch-181124-1825\n"
     ]
    }
   ],
   "source": [
    "# Launch the sweep\n",
    "tuner.fit({'training': inputs})"
   ]
  }
 ],
 "metadata": {
  "kernelspec": {
   "display_name": "conda_pytorch_p36",
   "language": "python",
   "name": "conda_pytorch_p36"
  }
 },
 "nbformat": 4,
 "nbformat_minor": 2
}
