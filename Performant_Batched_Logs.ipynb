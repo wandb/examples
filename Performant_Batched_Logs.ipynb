{
  "nbformat": 4,
  "nbformat_minor": 0,
  "metadata": {
    "colab": {
      "name": "scratchpad",
      "provenance": [],
      "include_colab_link": true
    },
    "kernelspec": {
      "display_name": "Python 3",
      "name": "python3"
    }
  },
  "cells": [
    {
      "cell_type": "markdown",
      "metadata": {
        "id": "view-in-github",
        "colab_type": "text"
      },
      "source": [
        "<a href=\"https://colab.research.google.com/github/ariG23498/examples/blob/aritra-log/Performant_Batched_Logs.ipynb\" target=\"_parent\"><img src=\"https://colab.research.google.com/assets/colab-badge.svg\" alt=\"Open In Colab\"/></a>"
      ]
    },
    {
      "cell_type": "markdown",
      "metadata": {
        "id": "LYzNyVQEDfgy"
      },
      "source": [
        "In this notebook we will show you how to improve the performance of `wandb.log()` by batching small logs together.\n",
        "\n",
        "**Experimental Setup:**\n",
        "- Many small logs: As our baseline, we will be using a `run` to log a lot of times iteratively.\n",
        "- Batched: We will then batch the metrics in a way we need to log only once for a run.\n",
        "\n",
        "**Comparison:**\n",
        "In both the setups, we will be observing the time it takes for the code snippets to execute. We will then compare as our quantifier for performance.\n",
        "\n",
        "```\n",
        "[BEFORE] The time taken: 124.62167549133301\n",
        "```\n",
        "\n",
        "```\n",
        "[AFTER] The time taken: 6.337453842163086\n",
        "```"
      ]
    },
    {
      "cell_type": "code",
      "metadata": {
        "id": "lIYdn1woOS1n"
      },
      "source": [
        "# pip install the package\n",
        "! pip install wandb -qq"
      ],
      "execution_count": 3,
      "outputs": []
    },
    {
      "cell_type": "code",
      "metadata": {
        "id": "ClZiy8mEEmWG"
      },
      "source": [
        "# login with the credentials\n",
        "! wandb login"
      ],
      "execution_count": null,
      "outputs": []
    },
    {
      "cell_type": "code",
      "metadata": {
        "id": "fQ9uHf_XCsl3"
      },
      "source": [
        "import wandb\n",
        "import time\n",
        "import random"
      ],
      "execution_count": 7,
      "outputs": []
    },
    {
      "cell_type": "code",
      "metadata": {
        "id": "sq21nXhvCn_x"
      },
      "source": [
        "start_time = time.time()\n",
        "run = wandb.init(project=\"batched-log\", name=\"before\")\n",
        "with run:\n",
        "    for _ in range(100_000):\n",
        "        run.log({\"metric\":random.randint(1,100)})\n",
        "end_time = time.time()\n",
        "time_taken_before = end_time - start_time"
      ],
      "execution_count": null,
      "outputs": []
    },
    {
      "cell_type": "code",
      "metadata": {
        "colab": {
          "base_uri": "https://localhost:8080/"
        },
        "id": "q3lpqu8MHkwf",
        "outputId": "d34c8180-d2a5-429e-ce5d-c725275b08f0"
      },
      "source": [
        "print(f\"[BEFORE] The time taken: {time_taken_before}\")"
      ],
      "execution_count": 9,
      "outputs": [
        {
          "output_type": "stream",
          "text": [
            "[BEFORE] The time taken: 124.62167549133301\n"
          ],
          "name": "stdout"
        }
      ]
    },
    {
      "cell_type": "code",
      "metadata": {
        "id": "e6IAxmoTHZ3Q"
      },
      "source": [
        "start_time = time.time()\n",
        "run = wandb.init(entity=\"repro\", project=\"batched-log\", name=\"after\")\n",
        "metric = []\n",
        "for _ in range(100_000):\n",
        "    metric.append(random.randint(1,100))\n",
        "\n",
        "with run:\n",
        "    run.log({\"metric\":metric})\n",
        "end_time = time.time()\n",
        "time_taken_after = end_time - start_time"
      ],
      "execution_count": null,
      "outputs": []
    },
    {
      "cell_type": "code",
      "metadata": {
        "colab": {
          "base_uri": "https://localhost:8080/"
        },
        "id": "96AhhUrSHs6d",
        "outputId": "80257df1-3075-435b-ce0d-4aeefccfe07a"
      },
      "source": [
        "print(f\"[AFTER] The time taken: {time_taken_after}\")"
      ],
      "execution_count": 11,
      "outputs": [
        {
          "output_type": "stream",
          "text": [
            "[AFTER] The time taken: 6.337453842163086\n"
          ],
          "name": "stdout"
        }
      ]
    }
  ]
}