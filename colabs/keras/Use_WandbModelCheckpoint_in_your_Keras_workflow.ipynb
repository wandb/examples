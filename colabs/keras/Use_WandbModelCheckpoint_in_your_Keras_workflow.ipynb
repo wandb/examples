{
 "cells": [
  {
   "attachments": {},
   "cell_type": "markdown",
   "metadata": {},
   "source": [
    "<a href=\"https://colab.research.google.com/github/wandb/examples/blob/master/colabs/keras/Use_WandbModelCheckpoint_in_your_Keras_workflow.ipynb\" target=\"_parent\"><img src=\"https://colab.research.google.com/assets/colab-badge.svg\" alt=\"Open In Colab\"/></a>\n",
    "<!--- @wandbcode{intro-colab-keras-metricslogger} -->"
   ]
  },
  {
   "attachments": {},
   "cell_type": "markdown",
   "metadata": {},
   "source": [
    "<img src=\"http://wandb.me/logo-im-png\" width=\"400\" alt=\"Weights & Biases\" />\n",
    "\n",
    "<!--- @wandbcode{intro-colab-keras-metricslogger} -->"
   ]
  },
  {
   "attachments": {},
   "cell_type": "markdown",
   "metadata": {},
   "source": [
    "\n",
    "# Using Keras Checkpoint callback with Weights & Biases"
   ]
  },
  {
   "attachments": {},
   "cell_type": "markdown",
   "metadata": {},
   "source": [
    "\n",
    "Use Weights & Biases for machine learning experiment tracking, dataset versioning, and project collaboration.\n",
    "\n",
    "<img src=\"http://wandb.me/mini-diagram\" width=\"650\" alt=\"Weights & Biases\" />"
   ]
  },
  {
   "attachments": {},
   "cell_type": "markdown",
   "metadata": {},
   "source": [
    "This colab notebook introduces the `WandbModelCheckpoint` callback. Use this callback to log your model checkpoints to Weight and Biases [Artifacts](https://docs.wandb.ai/guides/data-and-model-versioning)."
   ]
  },
  {
   "attachments": {},
   "cell_type": "markdown",
   "metadata": {},
   "source": [
    "# 🌴 Setup and Installation\n",
    "\n",
    "First, let us install the latest version of Weights and Biases. We will then authenticate this colab instance to use W&B."
   ]
  },
  {
   "cell_type": "code",
   "execution_count": null,
   "metadata": {},
   "outputs": [],
   "source": [
    "!pip install -qq -U wandb"
   ]
  },
  {
   "cell_type": "code",
   "execution_count": null,
   "metadata": {},
   "outputs": [],
   "source": [
    "import os\n",
    "import tensorflow as tf\n",
    "from tensorflow.keras import layers\n",
    "from tensorflow.keras import models\n",
    "import tensorflow_datasets as tfds\n",
    "\n",
    "# Weights and Biases related imports\n",
    "import wandb\n",
    "from wandb.keras import WandbMetricsLogger\n",
    "from wandb.keras import WandbModelCheckpoint"
   ]
  },
  {
   "attachments": {},
   "cell_type": "markdown",
   "metadata": {},
   "source": [
    "If this is your first time using W&B or you are not logged in, the link that appears after running `wandb.login()` will take you to sign-up/login page. Signing up for a [free account](https://wandb.ai/signup) is as easy as a few clicks."
   ]
  },
  {
   "cell_type": "code",
   "execution_count": null,
   "metadata": {},
   "outputs": [],
   "source": [
    "wandb.login()"
   ]
  },
  {
   "attachments": {},
   "cell_type": "markdown",
   "metadata": {},
   "source": [
    "# 🌳 Hyperparameters\n",
    "\n",
    "Use of proper config system is a recommended best practice for reproducible machine learning. We can track the hyperparameters for every experiment using W&B. In this colab we will be using simple Python `dict` as our config system."
   ]
  },
  {
   "cell_type": "code",
   "execution_count": null,
   "metadata": {},
   "outputs": [],
   "source": [
    "configs = dict(\n",
    "    num_classes = 10,\n",
    "    shuffle_buffer = 1024,\n",
    "    batch_size = 64,\n",
    "    image_size = 28,\n",
    "    image_channels = 1,\n",
    "    earlystopping_patience = 3,\n",
    "    learning_rate = 1e-3,\n",
    "    epochs = 10\n",
    ")"
   ]
  },
  {
   "attachments": {},
   "cell_type": "markdown",
   "metadata": {},
   "source": [
    "# 🍁 Dataset\n",
    "\n",
    "In this colab, we will be using [CIFAR100](https://www.tensorflow.org/datasets/catalog/cifar100) dataset from TensorFlow Dataset catalog. We aim to build a simple image classification pipeline using TensorFlow/Keras."
   ]
  },
  {
   "cell_type": "code",
   "execution_count": null,
   "metadata": {},
   "outputs": [],
   "source": [
    "train_ds, valid_ds = tfds.load('fashion_mnist', split=['train', 'test'])"
   ]
  },
  {
   "cell_type": "code",
   "execution_count": null,
   "metadata": {},
   "outputs": [],
   "source": [
    "AUTOTUNE = tf.data.AUTOTUNE\n",
    "\n",
    "\n",
    "def parse_data(example):\n",
    "    # Get image\n",
    "    image = example[\"image\"]\n",
    "    # image = tf.image.convert_image_dtype(image, dtype=tf.float32)\n",
    "\n",
    "    # Get label\n",
    "    label = example[\"label\"]\n",
    "    label = tf.one_hot(label, depth=configs[\"num_classes\"])\n",
    "\n",
    "    return image, label\n",
    "\n",
    "\n",
    "def get_dataloader(ds, configs, dataloader_type=\"train\"):\n",
    "    dataloader = ds.map(parse_data, num_parallel_calls=AUTOTUNE)\n",
    "\n",
    "    if dataloader_type==\"train\":\n",
    "        dataloader = dataloader.shuffle(configs[\"shuffle_buffer\"])\n",
    "      \n",
    "    dataloader = (\n",
    "        dataloader\n",
    "        .batch(configs[\"batch_size\"])\n",
    "        .prefetch(AUTOTUNE)\n",
    "    )\n",
    "\n",
    "    return dataloader"
   ]
  },
  {
   "cell_type": "code",
   "execution_count": null,
   "metadata": {},
   "outputs": [],
   "source": [
    "trainloader = get_dataloader(train_ds, configs)\n",
    "validloader = get_dataloader(valid_ds, configs, dataloader_type=\"valid\")"
   ]
  },
  {
   "attachments": {},
   "cell_type": "markdown",
   "metadata": {},
   "source": [
    "# 🎄 Model"
   ]
  },
  {
   "cell_type": "code",
   "execution_count": null,
   "metadata": {},
   "outputs": [],
   "source": [
    "def get_model(configs):\n",
    "    backbone = tf.keras.applications.mobilenet_v2.MobileNetV2(weights='imagenet', include_top=False)\n",
    "    backbone.trainable = False\n",
    "\n",
    "    inputs = layers.Input(shape=(configs[\"image_size\"], configs[\"image_size\"], configs[\"image_channels\"]))\n",
    "    resize = layers.Resizing(32, 32)(inputs)\n",
    "    neck = layers.Conv2D(3, (3,3), padding=\"same\")(resize)\n",
    "    preprocess_input = tf.keras.applications.mobilenet.preprocess_input(neck)\n",
    "    x = backbone(preprocess_input)\n",
    "    x = layers.GlobalAveragePooling2D()(x)\n",
    "    outputs = layers.Dense(configs[\"num_classes\"], activation=\"softmax\")(x)\n",
    "\n",
    "    return models.Model(inputs=inputs, outputs=outputs)"
   ]
  },
  {
   "cell_type": "code",
   "execution_count": null,
   "metadata": {},
   "outputs": [],
   "source": [
    "tf.keras.backend.clear_session()\n",
    "model = get_model(configs)\n",
    "model.summary()"
   ]
  },
  {
   "attachments": {},
   "cell_type": "markdown",
   "metadata": {},
   "source": [
    "# 🌿 Compile Model"
   ]
  },
  {
   "cell_type": "code",
   "execution_count": null,
   "metadata": {},
   "outputs": [],
   "source": [
    "model.compile(\n",
    "    optimizer = \"adam\",\n",
    "    loss = \"categorical_crossentropy\",\n",
    "    metrics = [\"accuracy\", tf.keras.metrics.TopKCategoricalAccuracy(k=5, name='top@5_accuracy')]\n",
    ")"
   ]
  },
  {
   "attachments": {},
   "cell_type": "markdown",
   "metadata": {},
   "source": [
    "# 🌻 Train"
   ]
  },
  {
   "cell_type": "code",
   "execution_count": null,
   "metadata": {},
   "outputs": [],
   "source": [
    "# Initialize a W&B run\n",
    "run = wandb.init(\n",
    "    project = \"intro-keras\",\n",
    "    config = configs\n",
    ")\n",
    "\n",
    "# Train your model\n",
    "model.fit(\n",
    "    trainloader,\n",
    "    epochs = configs[\"epochs\"],\n",
    "    validation_data = validloader,\n",
    "    callbacks = [\n",
    "        WandbMetricsLogger(log_freq=10),\n",
    "        WandbModelCheckpoint(filepath=\"models/\") # Notice the use of WandbModelCheckpoint here\n",
    "    ]\n",
    ")\n",
    "\n",
    "# Close the W&B run\n",
    "run.finish()"
   ]
  }
 ],
 "metadata": {
  "accelerator": "GPU",
  "colab": {
   "include_colab_link": true,
   "provenance": [],
   "toc_visible": true
  },
  "kernelspec": {
   "display_name": "Python 3",
   "name": "python3"
  }
 },
 "nbformat": 4,
 "nbformat_minor": 0
}
