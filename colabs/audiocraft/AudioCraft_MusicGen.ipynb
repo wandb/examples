{
  "cells": [
    {
      "cell_type": "code",
      "execution_count": 1,
      "metadata": {
        "id": "EZU3hg4B1om6"
      },
      "outputs": [],
      "source": [
        "!pip install -q -U audiocraft wandb"
      ]
    },
    {
      "cell_type": "code",
      "execution_count": 2,
      "metadata": {
        "id": "RerQaiZt14r8"
      },
      "outputs": [],
      "source": [
        "import os\n",
        "import random\n",
        "from tempfile import TemporaryDirectory\n",
        "\n",
        "from scipy import signal\n",
        "from scipy.io import wavfile\n",
        "\n",
        "from audiocraft.models import MusicGen\n",
        "from audiocraft.data.audio import audio_write\n",
        "\n",
        "import wandb\n",
        "import numpy as np\n",
        "from tqdm.auto import tqdm\n",
        "import matplotlib.pyplot as plt"
      ]
    },
    {
      "cell_type": "code",
      "execution_count": 3,
      "metadata": {
        "colab": {
          "base_uri": "https://localhost:8080/",
          "height": 121
        },
        "id": "3MTX8GoE7AzN",
        "outputId": "b810614d-54e4-4b1c-ce8b-dc3d8b3faed0"
      },
      "outputs": [
        {
          "output_type": "stream",
          "name": "stderr",
          "text": [
            "\u001b[34m\u001b[1mwandb\u001b[0m: Currently logged in as: \u001b[33mmratanusarkar\u001b[0m. Use \u001b[1m`wandb login --relogin`\u001b[0m to force relogin\n"
          ]
        },
        {
          "output_type": "display_data",
          "data": {
            "text/plain": [
              "<IPython.core.display.HTML object>"
            ],
            "text/html": [
              "Tracking run with wandb version 0.15.9"
            ]
          },
          "metadata": {}
        },
        {
          "output_type": "display_data",
          "data": {
            "text/plain": [
              "<IPython.core.display.HTML object>"
            ],
            "text/html": [
              "Run data is saved locally in <code>/content/wandb/run-20230905_192320-2nmhb0rf</code>"
            ]
          },
          "metadata": {}
        },
        {
          "output_type": "display_data",
          "data": {
            "text/plain": [
              "<IPython.core.display.HTML object>"
            ],
            "text/html": [
              "Syncing run <strong><a href='https://wandb.ai/mratanusarkar/audiocraft/runs/2nmhb0rf' target=\"_blank\">warm-dew-9</a></strong> to <a href='https://wandb.ai/mratanusarkar/audiocraft' target=\"_blank\">Weights & Biases</a> (<a href='https://wandb.me/run' target=\"_blank\">docs</a>)<br/>"
            ]
          },
          "metadata": {}
        },
        {
          "output_type": "display_data",
          "data": {
            "text/plain": [
              "<IPython.core.display.HTML object>"
            ],
            "text/html": [
              " View project at <a href='https://wandb.ai/mratanusarkar/audiocraft' target=\"_blank\">https://wandb.ai/mratanusarkar/audiocraft</a>"
            ]
          },
          "metadata": {}
        },
        {
          "output_type": "display_data",
          "data": {
            "text/plain": [
              "<IPython.core.display.HTML object>"
            ],
            "text/html": [
              " View run at <a href='https://wandb.ai/mratanusarkar/audiocraft/runs/2nmhb0rf' target=\"_blank\">https://wandb.ai/mratanusarkar/audiocraft/runs/2nmhb0rf</a>"
            ]
          },
          "metadata": {}
        }
      ],
      "source": [
        "# @title ## MusicGen Configs\n",
        "\n",
        "# @markdown WandB Project Name\n",
        "project_name = \"audiocraft\" # @param {type:\"string\"}\n",
        "\n",
        "wandb.init(project=project_name, job_type=\"musicgen/inference\")\n",
        "\n",
        "config = wandb.config\n",
        "\n",
        "# @markdown Select the MusicGen variant\n",
        "config.model_name = \"small\" # @param [\"small\", \"medium\", \"large\", \"melody\"]\n",
        "\n",
        "# @markdown ---\n",
        "# @markdown ## Conditional Generation Configs\n",
        "\n",
        "# @markdown The prompt for generating audio. You can give multiple prompts separated by `|` in the input. You can also leave it blank for unconditional generation.\n",
        "config.prompts = \"happy rock | energetic EDM | sad jazz\" # @param {type:\"string\"}\n",
        "\n",
        "descriptions = [prompt.strip() for prompt in config.prompts.split(\"|\")]\n",
        "config.is_unconditional = config.prompts.strip() == \"\"\n",
        "\n",
        "# @markdown Number of audio samples generated, this is relevant only for unconditional generation, i.e, if `config.prompts` is left blank.\n",
        "config.num_samples = 4 # @param {type:\"slider\", min:1, max:10, step:1}\n",
        "\n",
        "# @markdown Specify the random seed\n",
        "seed = None # @param {type:\"raw\"}\n",
        "\n",
        "max_seed = int(1024 * 1024 * 1024)\n",
        "if not isinstance(seed, int):\n",
        "    seed = random.randint(1, max_seed)\n",
        "if seed < 0:\n",
        "    seed = - seed\n",
        "seed = seed % max_seed\n",
        "config.seed = seed\n",
        "\n",
        "# @markdown ---\n",
        "# @markdown ## Generation Parameters\n",
        "# @markdown Use sampling if True, else do argmax decoding\n",
        "config.use_sampling = True # @param {type:\"boolean\"}\n",
        "\n",
        "# @markdown `top_k` used for sampling; limits us to `k` number of  of the top tokens to consider.\n",
        "config.top_k = 250 # @param {type:\"slider\", min:0, max:1000, step:1}\n",
        "\n",
        "# @markdown `top_p` used for sampling; limits us to the top tokens within a probability mass `p`\n",
        "config.top_p = 0.0 # @param {type:\"slider\", min:0, max:1.0, step:0.01}\n",
        "\n",
        "# @markdown Softmax temperature parameter\n",
        "config.temperature = 1.0 # @param {type:\"slider\", min:0, max:1.0, step:0.01}\n",
        "\n",
        "# @markdown Duration of the generated waveform\n",
        "config.duration = 10 # @param {type:\"slider\", min:1, max:30, step:1}\n",
        "\n",
        "# @markdown Coefficient used for classifier free guidance\n",
        "config.cfg_coef = 3 # @param {type:\"slider\", min:1, max:100, step:1}\n",
        "\n",
        "# @markdown Whether to perform 2 forward for Classifier Free Guidance instead of batching together the two. This has some impact on how things are padded but seems to have little impact in practice.\n",
        "config.two_step_cfg = False # @param {type:\"boolean\"}\n",
        "\n",
        "# @markdown When doing extended generation (i.e. more than 30 seconds), by how much should we extend the audio each time. Larger values will mean less context is preserved, and shorter value will require extra computations.\n",
        "config.extend_stride = 18 # @param {type:\"slider\", min:1, max:30, step:1}"
      ]
    },
    {
      "cell_type": "code",
      "execution_count": 4,
      "metadata": {
        "colab": {
          "base_uri": "https://localhost:8080/"
        },
        "id": "SfM8rhVX7ES9",
        "outputId": "de6bb1e2-b2bb-45e3-cae6-082f3421b69a"
      },
      "outputs": [
        {
          "output_type": "stream",
          "name": "stdout",
          "text": []
        }
      ],
      "source": [
        "model = MusicGen.get_pretrained(config.model_name)\n",
        "model.set_generation_params(\n",
        "    use_sampling=config.use_sampling,\n",
        "    top_k=config.top_k,\n",
        "    top_p=config.top_p,\n",
        "    temperature=config.temperature,\n",
        "    duration=config.duration,\n",
        "    cfg_coef=config.cfg_coef,\n",
        "    two_step_cfg=config.two_step_cfg,\n",
        "    extend_stride=config.extend_stride\n",
        ")\n",
        "\n",
        "generated_wav = None\n",
        "if config.is_unconditional:\n",
        "    generated_wav = model.generate_unconditional(\n",
        "        num_samples=config.num_samples, progress=True\n",
        "    )\n",
        "else:\n",
        "    generated_wav = model.generate(descriptions, progress=True)"
      ]
    },
    {
      "cell_type": "code",
      "execution_count": 5,
      "metadata": {
        "id": "_n-1RthFVPYN"
      },
      "outputs": [],
      "source": [
        "def get_spectrogram(audio_file, output_file):\n",
        "    sample_rate, samples = wavfile.read(audio_file)\n",
        "    frequencies, times, Sxx = signal.spectrogram(samples, sample_rate)\n",
        "    log_Sxx = 10 * np.log10(Sxx + 1e-10)\n",
        "\n",
        "    vmin = np.percentile(log_Sxx, 5)\n",
        "    vmax = np.percentile(log_Sxx, 95)\n",
        "\n",
        "    fig, ax = plt.subplots()\n",
        "    cmap = plt.get_cmap('magma')\n",
        "\n",
        "    ax.pcolormesh(times, frequencies, log_Sxx, shading='gouraud', cmap=cmap, vmin=vmin, vmax=vmax)\n",
        "    ax.axis('off')\n",
        "\n",
        "    plt.subplots_adjust(left=0, right=1, top=1, bottom=0)\n",
        "    plt.savefig(output_file, format='png', bbox_inches='tight', pad_inches=0)\n",
        "    plt.close()\n",
        "\n",
        "    return wandb.Image(output_file)"
      ]
    },
    {
      "cell_type": "code",
      "execution_count": 6,
      "metadata": {
        "colab": {
          "base_uri": "https://localhost:8080/",
          "height": 202,
          "referenced_widgets": [
            "74bbecd023f9445ba0d0ed7bfe70eff0",
            "460638f2e75940ab9bfbb8462c999578",
            "14b96ae5b6b5474a9d6ff0f965a8254f",
            "429dc8b5310848d9bdb80fa2d9b1a195",
            "a83bab8c4015406ea684378707f06cf0",
            "3eb0c1ee2c9a40fda4bc1857c8682065",
            "18132d13b0fe4557bd3b2152359ba0ea",
            "b46500e1c40542538622d7025bf797e7"
          ]
        },
        "id": "4fcOpiYx7Fqf",
        "outputId": "8f6f48ea-090a-4c4a-96b1-dbc6e285abb2"
      },
      "outputs": [
        {
          "output_type": "stream",
          "name": "stderr",
          "text": [
            "CLIPPING /tmp/tmpwqlxlmtc/0 happening with proba (a bit of clipping is okay): 0.003078124951571226 maximum scale:  1.452661156654358\n",
            "CLIPPING /tmp/tmpwqlxlmtc/1 happening with proba (a bit of clipping is okay): 1.5625000742147677e-05 maximum scale:  1.2949298620224\n",
            "CLIPPING /tmp/tmpwqlxlmtc/2 happening with proba (a bit of clipping is okay): 0.00021875000675208867 maximum scale:  1.3656854629516602\n"
          ]
        },
        {
          "output_type": "display_data",
          "data": {
            "text/plain": [
              "<IPython.core.display.HTML object>"
            ],
            "text/html": [
              "Waiting for W&B process to finish... <strong style=\"color:green\">(success).</strong>"
            ]
          },
          "metadata": {}
        },
        {
          "output_type": "display_data",
          "data": {
            "text/plain": [
              "VBox(children=(Label(value='5.349 MB of 5.349 MB uploaded (0.000 MB deduped)\\r'), FloatProgress(value=0.999964…"
            ],
            "application/vnd.jupyter.widget-view+json": {
              "version_major": 2,
              "version_minor": 0,
              "model_id": "74bbecd023f9445ba0d0ed7bfe70eff0"
            }
          },
          "metadata": {}
        },
        {
          "output_type": "display_data",
          "data": {
            "text/plain": [
              "<IPython.core.display.HTML object>"
            ],
            "text/html": [
              " View run <strong style=\"color:#cdcd00\">warm-dew-9</strong> at: <a href='https://wandb.ai/mratanusarkar/audiocraft/runs/2nmhb0rf' target=\"_blank\">https://wandb.ai/mratanusarkar/audiocraft/runs/2nmhb0rf</a><br/>Synced 5 W&B file(s), 4 media file(s), 7 artifact file(s) and 0 other file(s)"
            ]
          },
          "metadata": {}
        },
        {
          "output_type": "display_data",
          "data": {
            "text/plain": [
              "<IPython.core.display.HTML object>"
            ],
            "text/html": [
              "Find logs at: <code>./wandb/run-20230905_192320-2nmhb0rf/logs</code>"
            ]
          },
          "metadata": {}
        }
      ],
      "source": [
        "temp_dir = TemporaryDirectory()\n",
        "wandb_table = wandb.Table(columns=[\"Prompt\", \"Audio\", \"Spectrogram\", \"Seed\"])\n",
        "\n",
        "for idx, wav in enumerate(generated_wav):\n",
        "    file_name = os.path.join(temp_dir.name, str(idx))\n",
        "    audio_write(\n",
        "        file_name,\n",
        "        wav.cpu(),\n",
        "        model.sample_rate,\n",
        "        strategy=\"loudness\",\n",
        "        loudness_compressor=True,\n",
        "    )\n",
        "    wandb_audio = wandb.Audio(file_name +  \".wav\")\n",
        "    wandb.log({\"Generated-Audio\": wandb_audio})\n",
        "    desc = descriptions[idx] if len(descriptions) > 1 else config.prompts\n",
        "    wandb_table.add_data(\n",
        "        desc,\n",
        "        wandb_audio,\n",
        "        get_spectrogram(\n",
        "            audio_file=file_name +  \".wav\",\n",
        "            output_file=os.path.join(temp_dir.name, str(idx) + \".png\")\n",
        "        ),\n",
        "        config.seed\n",
        "    )\n",
        "\n",
        "wandb.log({\"Generated-Audio-Table\": wandb_table})\n",
        "\n",
        "wandb.finish()\n",
        "temp_dir.cleanup()"
      ]
    },
    {
      "cell_type": "code",
      "execution_count": 6,
      "metadata": {
        "id": "7tYIL-auPawL"
      },
      "outputs": [],
      "source": []
    }
  ],
  "metadata": {
    "accelerator": "GPU",
    "colab": {
      "gpuType": "T4",
      "provenance": []
    },
    "kernelspec": {
      "display_name": "Python 3",
      "name": "python3"
    },
    "language_info": {
      "name": "python"
    },
    "widgets": {
      "application/vnd.jupyter.widget-state+json": {
        "74bbecd023f9445ba0d0ed7bfe70eff0": {
          "model_module": "@jupyter-widgets/controls",
          "model_name": "VBoxModel",
          "model_module_version": "1.5.0",
          "state": {
            "_dom_classes": [],
            "_model_module": "@jupyter-widgets/controls",
            "_model_module_version": "1.5.0",
            "_model_name": "VBoxModel",
            "_view_count": null,
            "_view_module": "@jupyter-widgets/controls",
            "_view_module_version": "1.5.0",
            "_view_name": "VBoxView",
            "box_style": "",
            "children": [
              "IPY_MODEL_460638f2e75940ab9bfbb8462c999578",
              "IPY_MODEL_14b96ae5b6b5474a9d6ff0f965a8254f"
            ],
            "layout": "IPY_MODEL_429dc8b5310848d9bdb80fa2d9b1a195"
          }
        },
        "460638f2e75940ab9bfbb8462c999578": {
          "model_module": "@jupyter-widgets/controls",
          "model_name": "LabelModel",
          "model_module_version": "1.5.0",
          "state": {
            "_dom_classes": [],
            "_model_module": "@jupyter-widgets/controls",
            "_model_module_version": "1.5.0",
            "_model_name": "LabelModel",
            "_view_count": null,
            "_view_module": "@jupyter-widgets/controls",
            "_view_module_version": "1.5.0",
            "_view_name": "LabelView",
            "description": "",
            "description_tooltip": null,
            "layout": "IPY_MODEL_a83bab8c4015406ea684378707f06cf0",
            "placeholder": "​",
            "style": "IPY_MODEL_3eb0c1ee2c9a40fda4bc1857c8682065",
            "value": "5.349 MB of 5.349 MB uploaded (0.000 MB deduped)\r"
          }
        },
        "14b96ae5b6b5474a9d6ff0f965a8254f": {
          "model_module": "@jupyter-widgets/controls",
          "model_name": "FloatProgressModel",
          "model_module_version": "1.5.0",
          "state": {
            "_dom_classes": [],
            "_model_module": "@jupyter-widgets/controls",
            "_model_module_version": "1.5.0",
            "_model_name": "FloatProgressModel",
            "_view_count": null,
            "_view_module": "@jupyter-widgets/controls",
            "_view_module_version": "1.5.0",
            "_view_name": "ProgressView",
            "bar_style": "",
            "description": "",
            "description_tooltip": null,
            "layout": "IPY_MODEL_18132d13b0fe4557bd3b2152359ba0ea",
            "max": 1,
            "min": 0,
            "orientation": "horizontal",
            "style": "IPY_MODEL_b46500e1c40542538622d7025bf797e7",
            "value": 0.9999641637896668
          }
        },
        "429dc8b5310848d9bdb80fa2d9b1a195": {
          "model_module": "@jupyter-widgets/base",
          "model_name": "LayoutModel",
          "model_module_version": "1.2.0",
          "state": {
            "_model_module": "@jupyter-widgets/base",
            "_model_module_version": "1.2.0",
            "_model_name": "LayoutModel",
            "_view_count": null,
            "_view_module": "@jupyter-widgets/base",
            "_view_module_version": "1.2.0",
            "_view_name": "LayoutView",
            "align_content": null,
            "align_items": null,
            "align_self": null,
            "border": null,
            "bottom": null,
            "display": null,
            "flex": null,
            "flex_flow": null,
            "grid_area": null,
            "grid_auto_columns": null,
            "grid_auto_flow": null,
            "grid_auto_rows": null,
            "grid_column": null,
            "grid_gap": null,
            "grid_row": null,
            "grid_template_areas": null,
            "grid_template_columns": null,
            "grid_template_rows": null,
            "height": null,
            "justify_content": null,
            "justify_items": null,
            "left": null,
            "margin": null,
            "max_height": null,
            "max_width": null,
            "min_height": null,
            "min_width": null,
            "object_fit": null,
            "object_position": null,
            "order": null,
            "overflow": null,
            "overflow_x": null,
            "overflow_y": null,
            "padding": null,
            "right": null,
            "top": null,
            "visibility": null,
            "width": null
          }
        },
        "a83bab8c4015406ea684378707f06cf0": {
          "model_module": "@jupyter-widgets/base",
          "model_name": "LayoutModel",
          "model_module_version": "1.2.0",
          "state": {
            "_model_module": "@jupyter-widgets/base",
            "_model_module_version": "1.2.0",
            "_model_name": "LayoutModel",
            "_view_count": null,
            "_view_module": "@jupyter-widgets/base",
            "_view_module_version": "1.2.0",
            "_view_name": "LayoutView",
            "align_content": null,
            "align_items": null,
            "align_self": null,
            "border": null,
            "bottom": null,
            "display": null,
            "flex": null,
            "flex_flow": null,
            "grid_area": null,
            "grid_auto_columns": null,
            "grid_auto_flow": null,
            "grid_auto_rows": null,
            "grid_column": null,
            "grid_gap": null,
            "grid_row": null,
            "grid_template_areas": null,
            "grid_template_columns": null,
            "grid_template_rows": null,
            "height": null,
            "justify_content": null,
            "justify_items": null,
            "left": null,
            "margin": null,
            "max_height": null,
            "max_width": null,
            "min_height": null,
            "min_width": null,
            "object_fit": null,
            "object_position": null,
            "order": null,
            "overflow": null,
            "overflow_x": null,
            "overflow_y": null,
            "padding": null,
            "right": null,
            "top": null,
            "visibility": null,
            "width": null
          }
        },
        "3eb0c1ee2c9a40fda4bc1857c8682065": {
          "model_module": "@jupyter-widgets/controls",
          "model_name": "DescriptionStyleModel",
          "model_module_version": "1.5.0",
          "state": {
            "_model_module": "@jupyter-widgets/controls",
            "_model_module_version": "1.5.0",
            "_model_name": "DescriptionStyleModel",
            "_view_count": null,
            "_view_module": "@jupyter-widgets/base",
            "_view_module_version": "1.2.0",
            "_view_name": "StyleView",
            "description_width": ""
          }
        },
        "18132d13b0fe4557bd3b2152359ba0ea": {
          "model_module": "@jupyter-widgets/base",
          "model_name": "LayoutModel",
          "model_module_version": "1.2.0",
          "state": {
            "_model_module": "@jupyter-widgets/base",
            "_model_module_version": "1.2.0",
            "_model_name": "LayoutModel",
            "_view_count": null,
            "_view_module": "@jupyter-widgets/base",
            "_view_module_version": "1.2.0",
            "_view_name": "LayoutView",
            "align_content": null,
            "align_items": null,
            "align_self": null,
            "border": null,
            "bottom": null,
            "display": null,
            "flex": null,
            "flex_flow": null,
            "grid_area": null,
            "grid_auto_columns": null,
            "grid_auto_flow": null,
            "grid_auto_rows": null,
            "grid_column": null,
            "grid_gap": null,
            "grid_row": null,
            "grid_template_areas": null,
            "grid_template_columns": null,
            "grid_template_rows": null,
            "height": null,
            "justify_content": null,
            "justify_items": null,
            "left": null,
            "margin": null,
            "max_height": null,
            "max_width": null,
            "min_height": null,
            "min_width": null,
            "object_fit": null,
            "object_position": null,
            "order": null,
            "overflow": null,
            "overflow_x": null,
            "overflow_y": null,
            "padding": null,
            "right": null,
            "top": null,
            "visibility": null,
            "width": null
          }
        },
        "b46500e1c40542538622d7025bf797e7": {
          "model_module": "@jupyter-widgets/controls",
          "model_name": "ProgressStyleModel",
          "model_module_version": "1.5.0",
          "state": {
            "_model_module": "@jupyter-widgets/controls",
            "_model_module_version": "1.5.0",
            "_model_name": "ProgressStyleModel",
            "_view_count": null,
            "_view_module": "@jupyter-widgets/base",
            "_view_module_version": "1.2.0",
            "_view_name": "StyleView",
            "bar_color": null,
            "description_width": ""
          }
        }
      }
    }
  },
  "nbformat": 4,
  "nbformat_minor": 0
}