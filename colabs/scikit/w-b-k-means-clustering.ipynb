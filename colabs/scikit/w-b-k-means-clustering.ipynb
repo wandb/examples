{
  "nbformat": 4,
  "nbformat_minor": 0,
  "metadata": {
    "colab": {
      "name": "W&B🔥: K-Means Clustering",
      "provenance": [],
      "collapsed_sections": [],
      "authorship_tag": "ABX9TyMtRJv8UhCudGrWvBWITF+S",
      "include_colab_link": true
    },
    "kernelspec": {
      "name": "python3",
      "display_name": "Python 3"
    },
    "language_info": {
      "name": "python"
    }
  },
  "cells": [
    {
      "cell_type": "markdown",
      "metadata": {
        "id": "view-in-github",
        "colab_type": "text"
      },
      "source": [
        "<a href=\"https://colab.research.google.com/gist/SauravMaheshkar/ed3aff1777a8bee2e3e4538e2fce1b91/w-b-k-means-clustering.ipynb\" target=\"_parent\"><img src=\"https://colab.research.google.com/assets/colab-badge.svg\" alt=\"Open In Colab\"/></a>"
      ]
    },
    {
      "cell_type": "markdown",
      "metadata": {
        "id": "RWQi1ouJtmcm"
      },
      "source": [
        "# Author: [@SauravMaheshkar](https://twitter.com/MaheshkarSaurav)"
      ]
    },
    {
      "cell_type": "markdown",
      "metadata": {
        "id": "mpgjdWZeuEaG"
      },
      "source": [
        "# Packages 📦 and Basic Setup\n",
        "---"
      ]
    },
    {
      "cell_type": "markdown",
      "metadata": {
        "id": "l2fDMP_ruJjT"
      },
      "source": [
        "## Install Packages"
      ]
    },
    {
      "cell_type": "code",
      "metadata": {
        "id": "HnZK_VIStQCF"
      },
      "source": [
        "%%capture\n",
        "\n",
        "## Install the latest version of wandb client 🔥🔥\n",
        "!pip install -q --upgrade wandb\n",
        "\n",
        "import numpy as np\n",
        "from sklearn import datasets\n",
        "from sklearn.cluster import KMeans"
      ],
      "execution_count": 3,
      "outputs": []
    },
    {
      "cell_type": "markdown",
      "metadata": {
        "id": "aIhxKb6duUTc"
      },
      "source": [
        "## Project Configuration using **`wandb.config`**"
      ]
    },
    {
      "cell_type": "code",
      "metadata": {
        "id": "QWPjTY0XuTD4"
      },
      "source": [
        "import os\n",
        "import wandb\n",
        "\n",
        "# Paste your api key here\n",
        "os.environ[\"WANDB_API_KEY\"] = '...'\n",
        "\n",
        "\n",
        "# Initialize the run\n",
        "run = wandb.init(project='...', entity='...')\n",
        "\n",
        "# Feel free to change these and experiment !!\n",
        "config = wandb.config\n",
        "config.seed = 42\n",
        "config.n_clusters = 3\n",
        "config.dataset = 'iris'\n",
        "config.labels=['Setosa', 'Versicolour', 'Virginica']\n",
        "\n",
        "# Set random seed\n",
        "np.random.seed(config.seed)\n",
        "\n",
        "# Update the config\n",
        "wandb.config.update(config)"
      ],
      "execution_count": null,
      "outputs": []
    },
    {
      "cell_type": "markdown",
      "metadata": {
        "id": "8CGXsHLs0X2-"
      },
      "source": [
        "# 💿 The Dataset\n",
        "---"
      ]
    },
    {
      "cell_type": "code",
      "metadata": {
        "id": "dLS-zhP4xX4d"
      },
      "source": [
        "# Download the Iris dataset from sklearn\n",
        "iris = datasets.load_iris()\n",
        "\n",
        "# Get our data and target variables\n",
        "X = iris.data\n",
        "y = iris.target"
      ],
      "execution_count": 5,
      "outputs": []
    },
    {
      "cell_type": "markdown",
      "metadata": {
        "id": "smKolP5Z0v8y"
      },
      "source": [
        "# ✍️ Model Architecture & Training\n",
        "\n",
        "---"
      ]
    },
    {
      "cell_type": "code",
      "metadata": {
        "id": "b_G7bZI0xaAL"
      },
      "source": [
        "# Define the Estimator\n",
        "est = KMeans(n_clusters = config.n_clusters, random_state = config.seed)\n",
        "\n",
        "# Compute the Clusters\n",
        "est.fit(X)\n",
        "\n",
        "# Update our config with the cluster centers\n",
        "wandb.config.update({'labels' : est.cluster_centers_})\n",
        "\n",
        "# Plot the Clusters to W&B\n",
        "wandb.sklearn.plot_clusterer(est, X, cluster_labels = est.fit_predict(X), labels=config.labels, model_name='KMeans')\n",
        "\n",
        "# Finish the W&B Process\n",
        "wandb.finish()"
      ],
      "execution_count": null,
      "outputs": []
    }
  ]
}