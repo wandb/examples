{
 "cells": [
  {
   "cell_type": "markdown",
   "metadata": {},
   "source": [
    "<a href=\"https://colab.research.google.com/github/wandb/examples/blob/master/colabs/scikit/w-b-k-means-clustering.ipynb\" target=\"_parent\"><img src=\"https://colab.research.google.com/assets/colab-badge.svg\" alt=\"Open In Colab\"/></a>\n",
    "<!--- @wandbcode{simple-sklearn} -->"
   ]
  },
  {
   "cell_type": "markdown",
   "metadata": {},
   "source": [
    "<img src=\"https://wandb.me/logo-im-png\" width=\"400\" alt=\"Weights & Biases\" />\n",
    "\n",
    "<!--- @wandbcode{simple-sklearn} -->\n",
    "\n",
    "# 🏋️‍♀️ W&B + 🧪 Scikit-learn\n",
    "Use Weights & Biases for machine learning experiment tracking, dataset versioning, and project collaboration.\n",
    "\n",
    "\n",
    "<img src=\"https://wandb.me/mini-diagram\" width=\"650\" alt=\"Weights & Biases\" />\n",
    "\n",
    "\n",
    "## What this notebook covers:\n",
    "* Easy integration of Weights and Biases with Scikit. \n",
    "* W&B Scikit plots for model interpretation and diagnostics for regression, classification, and clustering.\n",
    "\n",
    "**Note**: Sections starting with _Step_ are all you need to integrate W&B to existing code.\n",
    "\n",
    "\n",
    "## The interactive W&B Dashboard will look like this:\n",
    "\n",
    "![](https://i.imgur.com/F1ZgR4A.png)"
   ]
  },
  {
   "cell_type": "markdown",
   "metadata": {},
   "source": [
    "# Author: [@SauravMaheshkar](https://twitter.com/MaheshkarSaurav)"
   ]
  },
  {
   "cell_type": "markdown",
   "metadata": {},
   "source": [
    "# Packages 📦 and Basic Setup\n",
    "---"
   ]
  },
  {
   "cell_type": "markdown",
   "metadata": {},
   "source": [
    "## Install Packages"
   ]
  },
  {
   "cell_type": "markdown",
   "metadata": {},
   "source": [
    "Install the latest version of wandb client 🔥🔥"
   ]
  },
  {
   "cell_type": "code",
   "execution_count": null,
   "metadata": {},
   "outputs": [],
   "source": [
    "!pip install -qU wandb"
   ]
  },
  {
   "cell_type": "code",
   "execution_count": null,
   "metadata": {},
   "outputs": [],
   "source": [
    "import numpy as np\n",
    "from sklearn import datasets\n",
    "from sklearn.cluster import KMeans"
   ]
  },
  {
   "cell_type": "markdown",
   "metadata": {},
   "source": [
    "## Project Configuration using **`wandb.config`**"
   ]
  },
  {
   "cell_type": "code",
   "execution_count": null,
   "metadata": {},
   "outputs": [],
   "source": [
    "import os\n",
    "import wandb"
   ]
  },
  {
   "cell_type": "markdown",
   "metadata": {},
   "source": [
    "log to your weights and biases account"
   ]
  },
  {
   "cell_type": "code",
   "execution_count": null,
   "metadata": {},
   "outputs": [],
   "source": [
    "wandb.login()"
   ]
  },
  {
   "cell_type": "code",
   "execution_count": null,
   "metadata": {},
   "outputs": [],
   "source": [
    "# Initialize the run\n",
    "run = wandb.init(project='simple-scikit')\n",
    "\n",
    "# Feel free to change these and experiment !!\n",
    "config = wandb.config\n",
    "config.seed = 42\n",
    "config.n_clusters = 3\n",
    "config.dataset = 'iris'\n",
    "config.labels=['Setosa', 'Versicolour', 'Virginica']\n",
    "\n",
    "# Set random seed\n",
    "np.random.seed(config.seed)\n",
    "\n",
    "# Update the config\n",
    "wandb.config.update(config)"
   ]
  },
  {
   "cell_type": "markdown",
   "metadata": {},
   "source": [
    "# 💿 The Dataset\n",
    "---"
   ]
  },
  {
   "cell_type": "code",
   "execution_count": null,
   "metadata": {},
   "outputs": [],
   "source": [
    "# Download the Iris dataset from sklearn\n",
    "iris = datasets.load_iris()\n",
    "\n",
    "# Get our data and target variables\n",
    "X = iris.data\n",
    "y = iris.target"
   ]
  },
  {
   "cell_type": "markdown",
   "metadata": {},
   "source": [
    "# ✍️ Model Architecture & Training\n",
    "\n",
    "---"
   ]
  },
  {
   "cell_type": "code",
   "execution_count": null,
   "metadata": {},
   "outputs": [],
   "source": [
    "# Define the Estimator\n",
    "est = KMeans(n_clusters = config.n_clusters, random_state = config.seed)\n",
    "\n",
    "# Compute the Clusters\n",
    "est.fit(X)\n",
    "\n",
    "# Update our config with the cluster centers\n",
    "wandb.config.update({'labels' : est.cluster_centers_})\n",
    "\n",
    "# Plot the Clusters to W&B\n",
    "wandb.sklearn.plot_clusterer(est, X, cluster_labels = est.fit_predict(X), labels=config.labels, model_name='KMeans')\n",
    "\n",
    "# Finish the W&B Process\n",
    "wandb.finish()"
   ]
  }
 ],
 "metadata": {
  "accelerator": "GPU",
  "colab": {
   "include_colab_link": true,
   "provenance": [],
   "toc_visible": true
  },
  "kernelspec": {
   "display_name": "Python 3",
   "name": "python3"
  }
 },
 "nbformat": 4,
 "nbformat_minor": 4
}
