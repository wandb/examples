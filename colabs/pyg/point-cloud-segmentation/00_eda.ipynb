{
 "cells": [
  {
   "cell_type": "markdown",
   "id": "04fdcaca",
   "metadata": {},
   "source": [
    "<a href=\"https://colab.research.google.com/github/wandb/examples/blob/master/colabs/pyg/point-cloud-segmentation/00_eda.ipynb\" target=\"_parent\"><img src=\"https://colab.research.google.com/assets/colab-badge.svg\" alt=\"Open In Colab\"/></a>\n",
    "<!--- @wandbcode{pyg-dgcnn-train} -->"
   ]
  },
  {
   "attachments": {},
   "cell_type": "markdown",
   "id": "aead1b54",
   "metadata": {},
   "source": [
    "# 🔥🔥 Explore ShapeNet Dataset using PyTorch Geometric and Weights & Biases 🪄🐝\n",
    "\n",
    "<!--- @wandbcode{pyg-dgcnn-train} -->\n",
    "\n",
    "[![](https://colab.research.google.com/assets/colab-badge.svg)](https://colab.research.google.com/github/wandb/examples/blob/pyg/point-cloud-segmentation/colabs/pyg/point-cloud-segmentation/00_eda.ipynb)\n",
    "\n",
    "This notebook demonstrates how to fetch and load the ShapeNet dataset for point cloud classification and segmentation tasks using [PyTorch Geometric](https://www.pyg.org/) and explore the dataset using [Weights & Biases](https://wandb.ai/site).\n",
    "\n",
    "If you wish to know how to train and evaluate the model on the ShapeNetCore dataset using Weights & Biases, you can check out the following notebooks:\n",
    "\n",
    "**Train DGCNN:** [![](https://colab.research.google.com/assets/colab-badge.svg)](https://colab.research.google.com/github/wandb/examples/blob/pyg/point-cloud-segmentation/colabs/pyg/point-cloud-segmentation/01_dgcnn_train.ipynb)\n",
    "\n",
    "**Evaluate DGCNN:** [![](https://colab.research.google.com/assets/colab-badge.svg)](https://colab.research.google.com/github/wandb/examples/blob/pyg/point-cloud-segmentation/colabs/pyg/point-cloud-segmentation/02_dgcnn_evaluate.ipynb)"
   ]
  },
  {
   "cell_type": "markdown",
   "id": "e4c9ae80",
   "metadata": {},
   "source": [
    "# Install Required Packages"
   ]
  },
  {
   "cell_type": "code",
   "execution_count": null,
   "id": "73e2ae10",
   "metadata": {},
   "outputs": [],
   "source": [
    "import os\n",
    "import torch\n",
    "os.environ['TORCH'] = torch.__version__\n",
    "print(torch.__version__)"
   ]
  },
  {
   "cell_type": "code",
   "execution_count": null,
   "id": "d47b401b",
   "metadata": {},
   "outputs": [],
   "source": [
    "!pip install -q torch-scatter -f https://data.pyg.org/whl/torch-${TORCH}.html\n",
    "!pip install -q torch-sparse -f https://data.pyg.org/whl/torch-${TORCH}.html\n",
    "!pip install -q torch-cluster -f https://data.pyg.org/whl/torch-${TORCH}.html\n",
    "!pip install -q git+https://github.com/pyg-team/pytorch_geometric.git\n",
    "!pip install -q wandb"
   ]
  },
  {
   "cell_type": "markdown",
   "id": "1a4901c4",
   "metadata": {},
   "source": [
    "## Import Libraries"
   ]
  },
  {
   "cell_type": "code",
   "execution_count": null,
   "id": "5fd069a9",
   "metadata": {},
   "outputs": [],
   "source": [
    "import os\n",
    "\n",
    "import wandb\n",
    "import numpy as np\n",
    "from tqdm.auto import tqdm\n",
    "\n",
    "import torch\n",
    "import torch.nn.functional as F\n",
    "from torch_scatter import scatter\n",
    "from torchmetrics.functional import jaccard_index\n",
    "\n",
    "import torch_geometric.transforms as T\n",
    "from torch_geometric.datasets import ShapeNet\n",
    "from torch_geometric.loader import DataLoader\n",
    "from torch_geometric.nn import MLP, DynamicEdgeConv"
   ]
  },
  {
   "cell_type": "code",
   "execution_count": null,
   "id": "86448a88",
   "metadata": {},
   "outputs": [],
   "source": [
    "wandb_project = \"pyg-point-cloud\" #@param {\"type\": \"string\"}\n",
    "wandb_run_name = \"evaluate-dgcnn\" #@param {\"type\": \"string\"}\n",
    "\n",
    "wandb.init(project=wandb_project, name=wandb_run_name, job_type=\"visualize\")\n",
    "\n",
    "config = wandb.config\n",
    "config.category = 'Airplane' #@param [\"Bag\", \"Cap\", \"Car\", \"Chair\", \"Earphone\", \"Guitar\", \"Knife\", \"Lamp\", \"Laptop\", \"Motorbike\", \"Mug\", \"Pistol\", \"Rocket\", \"Skateboard\", \"Table\"] {type:\"raw\"}\n",
    "\n",
    "path = os.path.join('ShapeNet', config.category)\n",
    "pre_transform = T.NormalizeScale()\n",
    "train_dataset = ShapeNet(path, config.category, split='trainval', pre_transform=pre_transform)\n",
    "test_dataset = ShapeNet(path, config.category, split='test', pre_transform=pre_transform)"
   ]
  },
  {
   "cell_type": "markdown",
   "id": "b21a452e",
   "metadata": {},
   "source": [
    "## Visualize Train-Val Dataset"
   ]
  },
  {
   "cell_type": "code",
   "execution_count": null,
   "id": "a23f6557",
   "metadata": {},
   "outputs": [],
   "source": [
    "segmentation_class_frequency = {}\n",
    "for idx in tqdm(range(len(train_dataset))):\n",
    "    pc_viz = train_dataset[idx].pos.numpy().tolist()\n",
    "    segmentation_label = train_dataset[idx].y.numpy().tolist()\n",
    "    for label in set(segmentation_label):\n",
    "        segmentation_class_frequency[label] = segmentation_label.count(label)\n",
    "\n",
    "class_offset = min(list(segmentation_class_frequency.keys()))"
   ]
  },
  {
   "cell_type": "code",
   "execution_count": null,
   "id": "e4d8432b",
   "metadata": {},
   "outputs": [],
   "source": [
    "table = wandb.Table(columns=[\n",
    "    \"Point-Cloud\", \"Segmentation-Class-Frequency\", \"Model-Category\", \"Split\"\n",
    "])\n",
    "for idx in tqdm(range(len(train_dataset))):\n",
    "    pc_viz = train_dataset[idx].pos.numpy().tolist()\n",
    "    segmentation_label = train_dataset[idx].y.numpy().tolist()\n",
    "    \n",
    "    frequency_dict = {key: 0 for key in segmentation_class_frequency.keys()}\n",
    "    for label in set(segmentation_label):\n",
    "        frequency_dict[label] = segmentation_label.count(label)\n",
    "    \n",
    "    for j in range(len(pc_viz)):\n",
    "        pc_viz[j] += [segmentation_label[j] + 1 - class_offset]\n",
    "    \n",
    "    table.add_data(\n",
    "        wandb.Object3D(np.array(pc_viz)), frequency_dict, config.category, \"Train-Val\"\n",
    "    )"
   ]
  },
  {
   "cell_type": "code",
   "execution_count": null,
   "id": "983e9511",
   "metadata": {},
   "outputs": [],
   "source": [
    "data = [[key, segmentation_class_frequency[key]] for key in segmentation_class_frequency.keys()]\n",
    "wandb.log({\n",
    "    f\"ShapeNet Class-Frequency Distribution for {config.category} Train-Val Set\" : wandb.plot.bar(\n",
    "        wandb.Table(data=data, columns = [\"Class\", \"Frequency\"]),\n",
    "        \"Class\", \"Frequency\",\n",
    "        title=f\"ShapeNet Class-Frequency Distribution for {config.category} Train-Val Set\"\n",
    "    )\n",
    "})"
   ]
  },
  {
   "cell_type": "markdown",
   "id": "385112bc",
   "metadata": {},
   "source": [
    "## Visualize Test Dataset"
   ]
  },
  {
   "cell_type": "code",
   "execution_count": null,
   "id": "b201d63f",
   "metadata": {},
   "outputs": [],
   "source": [
    "segmentation_class_frequency = {}\n",
    "for idx in tqdm(range(len(test_dataset))):\n",
    "    pc_viz = train_dataset[idx].pos.numpy().tolist()\n",
    "    segmentation_label = train_dataset[idx].y.numpy().tolist()\n",
    "    for label in set(segmentation_label):\n",
    "        segmentation_class_frequency[label] = segmentation_label.count(label)"
   ]
  },
  {
   "cell_type": "code",
   "execution_count": null,
   "id": "f12b2662",
   "metadata": {},
   "outputs": [],
   "source": [
    "for idx in tqdm(range(len(test_dataset))):\n",
    "    pc_viz = train_dataset[idx].pos.numpy().tolist()\n",
    "    segmentation_label = train_dataset[idx].y.numpy().tolist()\n",
    "    \n",
    "    frequency_dict = {key: 0 for key in segmentation_class_frequency.keys()}\n",
    "    for label in set(segmentation_label):\n",
    "        frequency_dict[label] = segmentation_label.count(label)\n",
    "    \n",
    "    for j in range(len(pc_viz)):\n",
    "        pc_viz[j] += [segmentation_label[j] + 1 - class_offset]\n",
    "    \n",
    "    table.add_data(\n",
    "        wandb.Object3D(np.array(pc_viz)), frequency_dict, config.category, \"Test\"\n",
    "    )\n",
    "\n",
    "wandb.log({\"ShapeNet-Dataset\": table})"
   ]
  },
  {
   "cell_type": "code",
   "execution_count": null,
   "id": "79838e77",
   "metadata": {},
   "outputs": [],
   "source": [
    "data = [[key, segmentation_class_frequency[key]] for key in segmentation_class_frequency.keys()]\n",
    "wandb.log({\n",
    "    f\"ShapeNet Class-Frequency Distribution for Test Set\" : wandb.plot.bar(\n",
    "        wandb.Table(data=data, columns = [\"Class\", \"Frequency\"]),\n",
    "        \"Class\", \"Frequency\",\n",
    "        title=f\"ShapeNet Class-Frequency Distribution for Test Set\"\n",
    "    )\n",
    "})"
   ]
  },
  {
   "cell_type": "code",
   "execution_count": null,
   "id": "2b9e5b69",
   "metadata": {},
   "outputs": [],
   "source": [
    "wandb.finish()"
   ]
  }
 ],
 "metadata": {
  "accelerator": "GPU",
  "colab": {
   "include_colab_link": true,
   "provenance": [],
   "toc_visible": true
  },
  "kernelspec": {
   "display_name": "Python 3",
   "name": "python3"
  }
 },
 "nbformat": 4,
 "nbformat_minor": 5
}
