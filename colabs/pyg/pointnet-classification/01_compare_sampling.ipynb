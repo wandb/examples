{
 "cells": [
  {
   "cell_type": "markdown",
   "id": "fb05c584",
   "metadata": {},
   "source": [
    "<a href=\"https://colab.research.google.com/github/wandb/examples/blob/master/colabs/pyg/pointnet-classification/01_compare_sampling.ipynb\" target=\"_parent\"><img src=\"https://colab.research.google.com/assets/colab-badge.svg\" alt=\"Open In Colab\"/></a>\n",
    "<!--- @wandbcode{pyg-sampling} -->"
   ]
  },
  {
   "attachments": {},
   "cell_type": "markdown",
   "id": "5df60be8",
   "metadata": {},
   "source": [
    "# 🔥🔥 Explore Graph Sampling Techniques using PyTorch Geometric and Weights & Biases 🪄🐝\n",
    "\n",
    "<!--- @wandbcode{pyg-sampling} -->\n",
    "\n",
    "If you wish to know how to explore and visualize point cloud datasets using PyTorch Geometric and Weights & Biases, you can check out the following notebook:\n",
    "\n",
    "[![](https://colab.research.google.com/assets/colab-badge.svg)](http://wandb.me/pyg-modelnet-eda)"
   ]
  },
  {
   "attachments": {},
   "cell_type": "markdown",
   "id": "1a0b2ded",
   "metadata": {},
   "source": [
    "## Install Required Libraries"
   ]
  },
  {
   "cell_type": "code",
   "execution_count": null,
   "id": "91f14e02",
   "metadata": {},
   "outputs": [],
   "source": [
    "import os\n",
    "import torch\n",
    "os.environ['TORCH'] = torch.__version__\n",
    "print(torch.__version__)"
   ]
  },
  {
   "attachments": {},
   "cell_type": "markdown",
   "id": "dc2c1fd0",
   "metadata": {},
   "source": [
    "We now install PyTorch Geometric according to our PyTorch Version. We also install Weights & Biases."
   ]
  },
  {
   "attachments": {},
   "cell_type": "markdown",
   "id": "67d64c57",
   "metadata": {},
   "source": [
    "!pip install -q torch-scatter -f https://data.pyg.org/whl/torch-${TORCH}.html\n",
    "!pip install -q torch-sparse -f https://data.pyg.org/whl/torch-${TORCH}.html\n",
    "!pip install -q torch-cluster -f https://data.pyg.org/whl/torch-${TORCH}.html\n",
    "!pip install -q git+https://github.com/pyg-team/pytorch_geometric.git\n",
    "!pip install -q wandb"
   ]
  },
  {
   "attachments": {},
   "cell_type": "markdown",
   "id": "94b145bd",
   "metadata": {},
   "source": [
    "### Import Libraries"
   ]
  },
  {
   "cell_type": "code",
   "execution_count": null,
   "id": "f2d40f2f",
   "metadata": {},
   "outputs": [],
   "source": [
    "import random\n",
    "import numpy as np\n",
    "from glob import glob\n",
    "from tqdm.auto import tqdm\n",
    "from matplotlib import pyplot as plt\n",
    "\n",
    "import wandb\n",
    "import networkx as nx\n",
    "from pyvis.network import Network\n",
    "\n",
    "import torch\n",
    "import torch.nn.functional as F\n",
    "\n",
    "import torch_geometric.transforms as T\n",
    "from torch_geometric.datasets import ModelNet\n",
    "from torch_geometric.loader import DataLoader\n",
    "from torch_geometric.utils import to_networkx\n",
    "from torch_geometric.nn import knn_graph, radius_graph"
   ]
  },
  {
   "cell_type": "code",
   "execution_count": null,
   "id": "c40b87cd",
   "metadata": {},
   "outputs": [],
   "source": [
    "pre_transform = T.NormalizeScale()\n",
    "transform = T.SamplePoints(128)\n",
    "low_train_dataset = ModelNet(\n",
    "    root=\"ModelNet10\",\n",
    "    name='10',\n",
    "    train=True,\n",
    "    transform=transform,\n",
    "    pre_transform=pre_transform\n",
    ")\n",
    "\n",
    "pre_transform = T.NormalizeScale()\n",
    "transform = T.SamplePoints(2048)\n",
    "high_train_dataset = ModelNet(\n",
    "    root=\"ModelNet10\",\n",
    "    name='10',\n",
    "    train=True,\n",
    "    transform=transform,\n",
    "    pre_transform=pre_transform\n",
    ")"
   ]
  },
  {
   "attachments": {},
   "cell_type": "markdown",
   "id": "97c44de0",
   "metadata": {},
   "source": [
    "We take a single point cloud from the dataset and compare the KNN-sampled subgraph and radius-sampled subgraph by visualizing the subgraphs as [`wandb.Html`](https://docs.wandb.ai/ref/python/data-types/html) on a [Weights & Biases Table](https://docs.wandb.ai/guides/data-vis)."
   ]
  },
  {
   "cell_type": "code",
   "execution_count": null,
   "id": "a59c651e",
   "metadata": {},
   "outputs": [],
   "source": [
    "with wandb.init(\n",
    "    project=\"pyg-point-cloud\",\n",
    "    name=\"sampling/modelnet10\",\n",
    "    entity=\"geekyrakshit\",\n",
    "    job_type=\"eda\"\n",
    "):\n",
    "    table = wandb.Table(columns=[\n",
    "        \"Model\", \"KNN-Sampled-Subgraph\", \"Nearest-Neighbours\", \"Radius-Sampled-Subgraph\", \"Radius\"\n",
    "    ])\n",
    "        \n",
    "    sample_data = low_train_dataset[0]\n",
    "\n",
    "    sample_data.edge_index = knn_graph(sample_data.pos, k=6)\n",
    "    G = to_networkx(sample_data, to_undirected=True)\n",
    "    nt = Network('500px', '500px')\n",
    "    nt.from_nx(G)\n",
    "    knn_sampled = wandb.Html(nt.generate_html())\n",
    "\n",
    "    sample_data = low_train_dataset[0]\n",
    "    sample_data.edge_index = radius_graph(sample_data.pos, r=0.5)\n",
    "    G = to_networkx(sample_data, to_undirected=True)\n",
    "    nx.draw(G)\n",
    "    nt = Network('500px', '500px')\n",
    "    nt.from_nx(G)\n",
    "    radius_sampled = wandb.Html(nt.generate_html())\n",
    "    \n",
    "    table.add_data(\n",
    "        wandb.Object3D(high_train_dataset[0].pos.numpy()), knn_sampled, 6, radius_sampled, 0.\n",
    "    )\n",
    "    \n",
    "    wandb.log({\"Sampling-Comparison\": table})"
   ]
  },
  {
   "attachments": {},
   "cell_type": "markdown",
   "id": "0059f0b5",
   "metadata": {},
   "source": [
    "Next, you can check out the following notebook to learn how to train the PointNet++ architecture using PyTorch Geometric and Weights & Biases\n",
    "\n",
    "[![](https://colab.research.google.com/assets/colab-badge.svg)](http://wandb.me/pyg-pointnet2-train)"
   ]
  }
 ],
 "metadata": {
  "accelerator": "GPU",
  "colab": {
   "include_colab_link": true,
   "provenance": [],
   "toc_visible": true
  },
  "kernelspec": {
   "display_name": "Python 3",
   "name": "python3"
  }
 },
 "nbformat": 4,
 "nbformat_minor": 5
}
