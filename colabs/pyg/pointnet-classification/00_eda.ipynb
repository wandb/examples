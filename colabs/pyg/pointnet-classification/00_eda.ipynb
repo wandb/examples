{
 "cells": [
  {
   "cell_type": "markdown",
   "id": "5d2c4f72",
   "metadata": {},
   "source": [
    "<a href=\"https://colab.research.google.com/github/wandb/examples/blob/master/colabs/pyg/pointnet-classification/00_eda.ipynb\" target=\"_parent\"><img src=\"https://colab.research.google.com/assets/colab-badge.svg\" alt=\"Open In Colab\"/></a>\n",
    "<!--- @wandbcode{pyg-modelnet-eda} -->"
   ]
  },
  {
   "attachments": {},
   "cell_type": "markdown",
   "id": "af680e31",
   "metadata": {},
   "source": [
    "# 🔥🔥 Explore ModelNet Datasets using PyTorch Geometric and Weights & Biases 🪄🐝\n",
    "\n",
    "<!--- @wandbcode{pyg-modelnet-eda} -->"
   ]
  },
  {
   "attachments": {},
   "cell_type": "markdown",
   "id": "7a9396ad",
   "metadata": {},
   "source": [
    "## Install Required Libraries"
   ]
  },
  {
   "cell_type": "code",
   "execution_count": null,
   "id": "b6c91a7f",
   "metadata": {},
   "outputs": [],
   "source": [
    "import os\n",
    "import torch\n",
    "os.environ['TORCH'] = torch.__version__\n",
    "print(torch.__version__)"
   ]
  },
  {
   "attachments": {},
   "cell_type": "markdown",
   "id": "cde43ebd",
   "metadata": {},
   "source": [
    "We now install PyTorch Geometric according to our PyTorch Version. We also install Weights & Biases."
   ]
  },
  {
   "cell_type": "code",
   "execution_count": null,
   "id": "9fff54b7",
   "metadata": {},
   "outputs": [],
   "source": [
    "!pip install -q torch-scatter -f https://data.pyg.org/whl/torch-${TORCH}.html\n",
    "!pip install -q torch-sparse -f https://data.pyg.org/whl/torch-${TORCH}.html\n",
    "!pip install -q torch-cluster -f https://data.pyg.org/whl/torch-${TORCH}.html\n",
    "!pip install -q git+https://github.com/pyg-team/pytorch_geometric.git\n",
    "!pip install -q wandb"
   ]
  },
  {
   "attachments": {},
   "cell_type": "markdown",
   "id": "aba4b30e",
   "metadata": {},
   "source": [
    "### Import Libraries"
   ]
  },
  {
   "cell_type": "code",
   "execution_count": null,
   "id": "6acaec36",
   "metadata": {},
   "outputs": [],
   "source": [
    "from glob import glob\n",
    "from PIL import Image\n",
    "from tqdm.auto import tqdm\n",
    "\n",
    "import wandb\n",
    "\n",
    "import torch\n",
    "import torch.nn.functional as F\n",
    "\n",
    "import numpy as np\n",
    "import networkx as nx\n",
    "import matplotlib.pyplot as plt\n",
    "from pyvis.network import Network\n",
    "from mpl_toolkits.mplot3d import Axes3D\n",
    "\n",
    "import torch_geometric.transforms as T\n",
    "from torch_geometric.datasets import ModelNet\n",
    "from torch_geometric.loader import DataLoader\n",
    "from torch_geometric.utils import to_networkx\n",
    "from torch_geometric.nn import knn_graph, radius_graph"
   ]
  },
  {
   "attachments": {},
   "cell_type": "markdown",
   "id": "46895a21",
   "metadata": {},
   "source": [
    "## Initialize Weights & Biases\n",
    "\n",
    "We need to call [`wandb.init()`](https://docs.wandb.ai/ref/python/init) once at the beginning of our program to initialize a new job. This creates a new run in W&B and launches a background process to sync data."
   ]
  },
  {
   "cell_type": "code",
   "execution_count": null,
   "id": "b2a7db44",
   "metadata": {},
   "outputs": [],
   "source": [
    "wandb_project = \"pyg-point-cloud\" #@param {\"type\": \"string\"}\n",
    "wandb_run_name = \"modelnet10/train/sampling-comparison\" #@param {\"type\": \"string\"}\n",
    "\n",
    "\n",
    "wandb.init(project=wandb_project, name=wandb_run_name, job_type=\"eda\")\n",
    "\n",
    "# Set experiment configs to be synced with wandb\n",
    "config = wandb.config\n",
    "config.display_sample = 2048  #@param {type:\"slider\", min:256, max:4096, step:16}\n",
    "config.modelnet_dataset_alias = \"ModelNet10\" #@param [\"ModelNet10\", \"ModelNet40\"] {type:\"raw\"}\n",
    "\n",
    "# Classes for ModelNet10 and ModelNet40\n",
    "categories = sorted([\n",
    "    x.split(os.sep)[-2]\n",
    "    for x in glob(os.path.join(\n",
    "        config.modelnet_dataset_alias, \"raw\", '*', ''\n",
    "    ))\n",
    "])\n",
    "\n",
    "\n",
    "config.categories = categories"
   ]
  },
  {
   "attachments": {},
   "cell_type": "markdown",
   "id": "efd2ad10",
   "metadata": {},
   "source": [
    "## Load ModelNet Dataset using PyTorch Geometric"
   ]
  },
  {
   "cell_type": "code",
   "execution_count": null,
   "id": "3dfb1e50",
   "metadata": {},
   "outputs": [],
   "source": [
    "pre_transform = T.NormalizeScale()\n",
    "transform = T.SamplePoints(config.display_sample)\n",
    "train_dataset = ModelNet(\n",
    "    root=config.modelnet_dataset_alias,\n",
    "    name=config.modelnet_dataset_alias[-2:],\n",
    "    train=True,\n",
    "    transform=transform,\n",
    "    pre_transform=pre_transform\n",
    ")\n",
    "val_dataset = ModelNet(\n",
    "    root=config.modelnet_dataset_alias,\n",
    "    name=config.modelnet_dataset_alias[-2:],\n",
    "    train=False,\n",
    "    transform=transform,\n",
    "    pre_transform=pre_transform\n",
    ")"
   ]
  },
  {
   "attachments": {},
   "cell_type": "markdown",
   "id": "b038fb22",
   "metadata": {},
   "source": [
    "## Log Data to [`wandb.Table`](https://docs.wandb.ai/ref/python/data-types/table)\n",
    "\n",
    "We now log the dataset using a [Weights & Biases Table](https://docs.wandb.ai/guides/data-vis), which includes visualizing the individual point clouds as W&B's interactive 3D visualization format [`wandb.object3D`](https://docs.wandb.ai/ref/python/data-types/object3d). We also log the frequency distribution of the classes in the dataset using [`wandb.plot`](https://docs.wandb.ai/guides/track/log/plots)."
   ]
  },
  {
   "cell_type": "code",
   "execution_count": null,
   "id": "66342479",
   "metadata": {},
   "outputs": [],
   "source": [
    "table = wandb.Table(columns=[\"Model\", \"Class\", \"Split\"])\n",
    "category_dict = {key: 0 for key in config.categories}\n",
    "for idx in tqdm(range(len(train_dataset[:20]))):\n",
    "    point_cloud = wandb.Object3D(train_dataset[idx].pos.numpy())\n",
    "    category = config.categories[int(train_dataset[idx].y.item())]\n",
    "    category_dict[category] += 1\n",
    "    table.add_data(\n",
    "        point_cloud,\n",
    "        category,\n",
    "        \"Train\"\n",
    "    )\n",
    "\n",
    "data = [[key, category_dict[key]] for key in config.categories]\n",
    "wandb.log({\n",
    "    f\"{config.modelnet_dataset_alias} Class-Frequency Distribution\" : wandb.plot.bar(\n",
    "        wandb.Table(data=data, columns = [\"Class\", \"Frequency\"]),\n",
    "        \"Class\", \"Frequency\",\n",
    "        title=f\"{config.modelnet_dataset_alias} Class-Frequency Distribution\"\n",
    "    )\n",
    "})"
   ]
  },
  {
   "cell_type": "code",
   "execution_count": null,
   "id": "21978686",
   "metadata": {},
   "outputs": [],
   "source": [
    "table = wandb.Table(columns=[\"Model\", \"Class\", \"Split\"])\n",
    "category_dict = {key: 0 for key in config.categories}\n",
    "for idx in tqdm(range(len(val_dataset[:100]))):\n",
    "    point_cloud = wandb.Object3D(val_dataset[idx].pos.numpy())\n",
    "    category = config.categories[int(val_dataset[idx].y.item())]\n",
    "    category_dict[category] += 1\n",
    "    table.add_data(\n",
    "        point_cloud,\n",
    "        category,\n",
    "        \"Test\"\n",
    "    )\n",
    "wandb.log({config.modelnet_dataset_alias: table})\n",
    "\n",
    "data = [[key, category_dict[key]] for key in config.categories]\n",
    "wandb.log({\n",
    "    f\"{config.modelnet_dataset_alias} Class-Frequency Distribution\" : wandb.plot.bar(\n",
    "        wandb.Table(data=data, columns = [\"Class\", \"Frequency\"]),\n",
    "        \"Class\", \"Frequency\",\n",
    "        title=f\"{config.modelnet_dataset_alias} Class-Frequency Distribution\"\n",
    "    )\n",
    "})"
   ]
  },
  {
   "cell_type": "code",
   "execution_count": null,
   "id": "46c5fea5",
   "metadata": {},
   "outputs": [],
   "source": [
    "wandb.finish()"
   ]
  },
  {
   "attachments": {},
   "cell_type": "markdown",
   "id": "e9efd334",
   "metadata": {},
   "source": [
    "Next, you can check out the following notebook to learn how to compare different sampling strategies in PyTorch Geometric using Weights & Biases\n",
    "\n",
    "[![](https://colab.research.google.com/assets/colab-badge.svg)](http://wandb.me/pyg-sampling)"
   ]
  }
 ],
 "metadata": {
  "accelerator": "GPU",
  "colab": {
   "include_colab_link": true,
   "provenance": [],
   "toc_visible": true
  },
  "kernelspec": {
   "display_name": "Python 3",
   "name": "python3"
  }
 },
 "nbformat": 4,
 "nbformat_minor": 5
}
