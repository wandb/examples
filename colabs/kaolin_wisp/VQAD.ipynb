{
 "cells": [
  {
   "cell_type": "markdown",
   "metadata": {},
   "source": [
    "<a href=\"https://colab.research.google.com/github/wandb/examples/blob/master/colabs/kaolin_wisp/VQAD.ipynb\" target=\"_parent\"><img src=\"https://colab.research.google.com/assets/colab-badge.svg\" alt=\"Open In Colab\"/></a>\n",
    "<!--- @wandbcode{kaolin-wisp-colab} -->"
   ]
  },
  {
   "cell_type": "markdown",
   "metadata": {},
   "source": [
    "# 🔥🔥 Kaolin-Wisp + WandB Demo 🪄🐝\n",
    "\n",
    "<!--- @wandbcode{kaolin-wisp-colab} -->"
   ]
  },
  {
   "cell_type": "markdown",
   "metadata": {},
   "source": [
    "## Install Kaolin Core and Kaolin Wisp"
   ]
  },
  {
   "cell_type": "code",
   "execution_count": null,
   "metadata": {},
   "outputs": [],
   "source": [
    "# Install OpenEXR\n",
    "!sudo apt-get update\n",
    "!sudo apt-get install libopenexr-dev\n",
    "\n",
    "# Install Kaolin\n",
    "!git clone --recursive https://github.com/NVIDIAGameWorks/kaolin\n",
    "%cd kaolin\n",
    "!python setup.py develop\n",
    "!python -c \"import kaolin; print(kaolin.__version__)\"\n",
    "%cd ..\n",
    "\n",
    "# Install Kaolin-Wisp\n",
    "!git clone --depth 1 https://github.com/NVIDIAGameWorks/kaolin-wisp\n",
    "%cd kaolin-wisp\n",
    "!pip install -q -r requirements.txt\n",
    "!pip install -q --upgrade wandb\n",
    "!python setup.py develop\n",
    "%cd .."
   ]
  },
  {
   "cell_type": "markdown",
   "metadata": {},
   "source": [
    "## Download Sample Data for a V8 Model Engine"
   ]
  },
  {
   "cell_type": "code",
   "execution_count": null,
   "metadata": {},
   "outputs": [],
   "source": [
    "# Download Dataset\n",
    "!gdown https://drive.google.com/uc?id=18hY0DpX2bK-q9iY_cog5Q0ZI7YEjephE\n",
    "!unzip -q V8.zip\n",
    "!rm V8.zip"
   ]
  },
  {
   "cell_type": "markdown",
   "metadata": {},
   "source": [
    "## Train VQAD"
   ]
  },
  {
   "cell_type": "markdown",
   "metadata": {},
   "source": [
    "A great aspect of Kaolin Wisp is that it comes with the goodness of [Weights & Biases](https://wandb.ai/site) integrated with itself!!!\n",
    "\n",
    "To track training and validation metrics, render 3D interactive plots, reproduce your configurations and results, and many more features in your Weights & Biases workspace just add the additional flag `--wandb_project <your-project-name>` when initializing the training script.\n",
    "\n",
    "The complete list of features supported by Weights & Biases:\n",
    "\n",
    "- Log training and validation metrics in real time.\n",
    "\n",
    "- Log system metrics in real time.\n",
    "\n",
    "- Log RGB, RGBA, Depth renderings etc. during training.\n",
    "\n",
    "- Log interactive 360 degree renderings post training \n",
    "in all levels of detail.\n",
    "\n",
    "- Log model checkpoints as [Weights & Biases artifacts](https://wandb.ai/site/artifacts).\n",
    "\n",
    "- Sync experiment configs for reproducibility.\n",
    "\n",
    "- Host Tensorboard instance inside Weights & Biases run.\n",
    "\n",
    "The full list of optional arguments related to logging on Weights & Biases include:\n",
    "\n",
    "- `--wandb_project`: Name of Weights & Biases project\n",
    "\n",
    "- `--wandb_run_name`: Name of Weights & Biases run [Optional]\n",
    "- `--wandb_entity`: Name of Weights & Biases entity under which your project resides [Optional]\n",
    "\n",
    "- `--wandb_viz_nerf_angles`: Number of angles in the 360 degree renderings [Optional, default set to 20]\n",
    "\n",
    "- `--wandb_viz_nerf_distance`: Camera distance to visualize Scene from for 360 degree renderings on Weights & Biases [Optional, default set to 3]"
   ]
  },
  {
   "cell_type": "code",
   "execution_count": null,
   "metadata": {},
   "outputs": [],
   "source": [
    "%cd kaolin-wisp\n",
    "!WISP_HEADLESS=1 python3 app/main.py \\\n",
    "    --config configs/vqad_nerf.yaml \\\n",
    "    --dataset-path ../V8_/ \\\n",
    "    --dataset-num-workers 4 \\\n",
    "    --wandb_project \"vector-quantized-auto-decoder\" \\\n",
    "    --wandb_run_name test-vqad-nerf/V8 \\\n",
    "    --wandb_viz_nerf_distance 5"
   ]
  },
  {
   "cell_type": "markdown",
   "metadata": {},
   "source": [
    "If you wish to train using one of the numerous scenes from the [RTMV Dataset](http://www.cs.umd.edu/~mmeshry/projects/rtmv/), you can replace the gdown URL with one of the tar files from [here](https://drive.google.com/drive/folders/1cc5ArA16pEznMd92z7pwgD1Z4uBqafUN). You also need to change the `--dataset-path` paramter while training to the respective path of the model that you wish to train on."
   ]
  }
 ],
 "metadata": {
  "accelerator": "GPU",
  "colab": {
   "include_colab_link": true,
   "provenance": [],
   "toc_visible": true
  },
  "kernelspec": {
   "display_name": "Python 3",
   "name": "python3"
  }
 },
 "nbformat": 4,
 "nbformat_minor": 0
}
