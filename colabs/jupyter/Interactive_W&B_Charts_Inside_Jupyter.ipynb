{
 "cells": [
  {
   "cell_type": "markdown",
   "metadata": {},
   "source": [
    "<img src=\"https://wandb.me/logo-im-png\" width=\"400\" alt=\"Weights & Biases\" />\n"
   ]
  },
  {
   "cell_type": "markdown",
   "metadata": {},
   "source": [
    "<a href=\"https://colab.research.google.com/github/wandb/examples/blob/master/colabs/jupyter/Interactive_W%26B_Charts_Inside_Jupyter.ipynb\" target=\"_parent\"><img src=\"https://colab.research.google.com/assets/colab-badge.svg\" alt=\"Open In Colab\"/></a>"
   ]
  },
  {
   "cell_type": "markdown",
   "metadata": {},
   "source": [
    "\n",
    "Use Weights & Biases for machine learning experiment tracking, dataset versioning, and project collaboration.\n"
   ]
  },
  {
   "cell_type": "markdown",
   "metadata": {},
   "source": [
    "<img src=\"http://wandb.me/mini-diagram\" width=\"650\" alt=\"Weights & Biases\" />"
   ]
  },
  {
   "cell_type": "markdown",
   "metadata": {},
   "source": [
    "# Use W&B without leaving Jupyter\n"
   ]
  },
  {
   "cell_type": "markdown",
   "metadata": {},
   "source": [
    "Jupyter is the preferred development environment for many ML practitioners\n",
    "because it supports rapid experimentation and\n",
    "highly visual workflows (including creating charts).\n",
    "Plus tools like Google Colab, Kaggle Kernels, and Paperspace Gradient\n",
    "make it easy to share and collaborate on notebooks.\n",
    "\n",
    "Quick experiments, visualization, and collaboration\n",
    "are core values of W&B,\n",
    "so we've made it easy to use W&B inside Jupyter.\n",
    "\n",
    "In a nutshell, the steps are:\n",
    "\n",
    "1. Use one of two methods to get hold of a `Run`, `Sweep`, or `Report` object, depending on whether you're logging to a new experiment or analyzing an old one.\n",
    "2. `.display` the object to get a live dashboard beneath a cell.\n",
    "3. Interact with the dashboard: log new results, create charts, or review metadata."
   ]
  },
  {
   "cell_type": "markdown",
   "metadata": {},
   "source": [
    "Here's a (static) preview of one such dashboard:"
   ]
  },
  {
   "cell_type": "markdown",
   "metadata": {},
   "source": [
    "\n",
    "<img src=\"https://i.imgur.com/LhtnH1B.png\" alt= \"weights and biases jupyter integration\" width=\"500\" />\n",
    "\n"
   ]
  },
  {
   "cell_type": "markdown",
   "metadata": {},
   "source": [
    "## Import, install, and log in"
   ]
  },
  {
   "cell_type": "code",
   "execution_count": null,
   "metadata": {},
   "outputs": [],
   "source": [
    "%%capture\n",
    "!pip install wandb -qqq"
   ]
  },
  {
   "cell_type": "code",
   "execution_count": null,
   "metadata": {},
   "outputs": [],
   "source": [
    "import wandb\n",
    "\n",
    "wandb.login()"
   ]
  },
  {
   "cell_type": "markdown",
   "metadata": {},
   "source": [
    "## Method 1: `display` and log to a live W&B `Run`"
   ]
  },
  {
   "cell_type": "markdown",
   "metadata": {},
   "source": [
    "The result of the last line of each cell in a Jupyter notebook is \"displayed\" automatically.\n",
    "\n",
    "Our W&B pages hook into this system:\n",
    "they are rendered as an interactive window."
   ]
  },
  {
   "cell_type": "markdown",
   "metadata": {},
   "source": [
    "First we need to kick the run off with\n",
    "[`wandb.init`](https://docs.wandb.ai/guides/track/launch)."
   ]
  },
  {
   "cell_type": "code",
   "execution_count": null,
   "metadata": {},
   "outputs": [],
   "source": [
    "run = wandb.init(project=\"jupyter-projo\",\n",
    "                 config={\"batch_size\": 128,\n",
    "                         \"learning_rate\": 0.01,\n",
    "                         \"dataset\": \"CIFAR-100\"})"
   ]
  },
  {
   "cell_type": "markdown",
   "metadata": {},
   "source": [
    "Then we create an interactive dashboard of the size we want for the run and display it."
   ]
  },
  {
   "cell_type": "code",
   "execution_count": null,
   "metadata": {},
   "outputs": [],
   "source": [
    "run.display(height=720)"
   ]
  },
  {
   "cell_type": "markdown",
   "metadata": {},
   "source": [
    "Anything logged as part of this experiment (until you call `wandb.finish`)\n",
    "will be added to that chart.\n",
    "\n",
    "Run the cell below to watch the metrics stream in live!"
   ]
  },
  {
   "cell_type": "code",
   "execution_count": null,
   "metadata": {},
   "outputs": [],
   "source": [
    "import time\n",
    "\n",
    "for ii in range(30):\n",
    "  wandb.log({\"acc\": 1 - 2 ** -ii, \"loss\": 2 ** -ii})\n",
    "  time.sleep(0.5)"
   ]
  },
  {
   "cell_type": "markdown",
   "metadata": {},
   "source": [
    "> **Anything else you can do from the\n",
    "[Run Page](https://docs.wandb.ai/ref/app/pages/run-page)\n",
    "can be done here** --\n",
    "[edit a chart](https://docs.wandb.ai/ref/app/pages/run-page#charts-tab),\n",
    "create a shareable link to it,\n",
    "and send it to collaborator;\n",
    "review your [system metrics](https://docs.wandb.ai/ref/app/pages/run-page#system-tabs)\n",
    "or the\n",
    "[logs from the standard out](https://docs.wandb.ai/ref/app/pages/run-page#logs-tab)\n",
    "or the\n",
    "[datasets and models you've logged](https://docs.wandb.ai/ref/app/pages/run-page#artifacts-tab);\n",
    "check the\n",
    "[configuration metadata](https://docs.wandb.ai/ref/app/pages/run-page#overview-tab).\n"
   ]
  },
  {
   "cell_type": "markdown",
   "metadata": {},
   "source": [
    "`wandb` also prints a URL. That URL points to [the webpage](https://docs.wandb.ai/ref/app/pages/run-page)\n",
    "where your run's results are stored -- nothing to worry about if your notebook crashes or your kernel dies, it's all there!"
   ]
  },
  {
   "cell_type": "markdown",
   "metadata": {},
   "source": [
    "### Finishing the run"
   ]
  },
  {
   "cell_type": "markdown",
   "metadata": {},
   "source": [
    "When you are done with your experiment,\n",
    "call `wandb.finish` to let us know there's nothing more to log.\n",
    "\n",
    "We'll print out a handy summary and history of your run,\n",
    "plus links to the webpages where all your run's information is stored.\n",
    "\n",
    "> **Hot Tip!** If you turn on [code saving](https://docs.wandb.ai/ref/app/features/panels/code) in your W&B [settings](https://wandb.ai/settings),\n",
    "we'll also save a copy of the notebook and its \"session history\": all the cells you ran, in order, in the state that you ran them in, with their outputs. Handy!"
   ]
  },
  {
   "cell_type": "code",
   "execution_count": null,
   "metadata": {},
   "outputs": [],
   "source": [
    "if wandb.run is not None:\n",
    "  wandb.finish()"
   ]
  },
  {
   "cell_type": "markdown",
   "metadata": {},
   "source": [
    "## Method 2: `display` and analyze a finished W&B `Run`"
   ]
  },
  {
   "cell_type": "markdown",
   "metadata": {},
   "source": [
    "Interaction with W&B dashboards for training runs\n",
    "isn't limited to watching information come in live\n",
    "from the comfort of a notebook interface.\n",
    "\n",
    "All of the information you log to or create within W&B\n",
    "is available in perpetuity and programmatically via the W&B\n",
    "[Public API](https://docs.wandb.ai/guides/track/public-api-guide)."
   ]
  },
  {
   "cell_type": "code",
   "execution_count": null,
   "metadata": {},
   "outputs": [],
   "source": [
    "api = wandb.Api()"
   ]
  },
  {
   "cell_type": "markdown",
   "metadata": {},
   "source": [
    "In this example, we'll take a look at the training run for a chess piece detector\n",
    "created using [YOLOv5](https://ultralytics.com/yolov5),\n",
    "which includes a [W&B integration](https://docs.wandb.ai/guides/integrations/yolov5).\n",
    "\n",
    "You can train your own with [this colab](http://wandb.me/yolo-chess)."
   ]
  },
  {
   "cell_type": "code",
   "execution_count": null,
   "metadata": {},
   "outputs": [],
   "source": [
    "team, project, run_id = \"wandb\", \"yolo-chess\", \"33fp7u8d\"\n",
    "run = api.run(f\"{team}/{project}/{run_id}\")\n",
    "\n",
    "run.display(height=1080)  # you may need to zoom out to see the whole window!"
   ]
  },
  {
   "cell_type": "markdown",
   "metadata": {},
   "source": [
    "# But it's not just about `Run`s"
   ]
  },
  {
   "cell_type": "markdown",
   "metadata": {},
   "source": [
    "Anything you can do in a W&B workspace can be done from inside Jupyter\n",
    "if you have the URL for the workspace.\n",
    "\n",
    "That means that, without leaving Jupyter, you can use W&B to:"
   ]
  },
  {
   "cell_type": "markdown",
   "metadata": {},
   "source": [
    "### Interactively analyze data in [Tables](https://docs.wandb.ai/guides/data-vis)"
   ]
  },
  {
   "cell_type": "markdown",
   "metadata": {},
   "source": [
    "And it doesn't have to be your own work -- it can be a `coworker`'s page as well."
   ]
  },
  {
   "cell_type": "code",
   "execution_count": null,
   "metadata": {},
   "outputs": [],
   "source": [
    "coworker, project, run_id = \"stacey\", \"model_iterz\", \"10x1nnh2\"\n",
    "run = api.run(f\"{coworker}/{project}/{run_id}\")\n",
    "\n",
    "run.display(height=720)"
   ]
  },
  {
   "cell_type": "markdown",
   "metadata": {},
   "source": [
    "### Analyze the results of hyperparameter [Sweeps](https://docs.wandb.ai/guides/sweeps)"
   ]
  },
  {
   "cell_type": "code",
   "execution_count": null,
   "metadata": {},
   "outputs": [],
   "source": [
    "entity, project, sweep_id = \"charlesfrye\", \"mnist-sweeps\", \"n60n6wv1\"\n",
    "sweep = api.sweep(f\"{entity}/{project}/{sweep_id}\")\n",
    "\n",
    "sweep.display(height=1080)  # you may need to zoom out to see the whole window!"
   ]
  },
  {
   "cell_type": "markdown",
   "metadata": {},
   "source": [
    "## Share results in [Reports](https://docs.wandb.ai/guides/reports)"
   ]
  },
  {
   "cell_type": "code",
   "execution_count": null,
   "metadata": {},
   "outputs": [],
   "source": [
    "entity, project = \"charlesfrye\", \"mnist-sweeps\"\n",
    "report_name = \"Third-Pass-Trying-Different-Shapes--VmlldzoxNjY1NDk\"\n",
    "url = f\"https://wandb.ai/{entity}/{project}/reports/{report_name}\"\n",
    "\n",
    "%wandb {entity}/{project}/reports/{report_name} -h 1024"
   ]
  }
 ],
 "metadata": {
  "kernelspec": {
   "display_name": "Python 3",
   "name": "python3"
  }
 },
 "nbformat": 4,
 "nbformat_minor": 0
}
