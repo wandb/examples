{
  "cells": [
    {
      "cell_type": "markdown",
      "metadata": {
        "id": "view-in-github",
        "colab_type": "text"
      },
      "source": [
        "<a href=\"https://colab.research.google.com/github/wandb/examples/blob/update_reports_import_statement/colabs/intro/Report_API_Quickstart.ipynb\" target=\"_parent\"><img src=\"https://colab.research.google.com/assets/colab-badge.svg\" alt=\"Open In Colab\"/></a>"
      ]
    },
    {
      "cell_type": "markdown",
      "metadata": {
        "id": "LT3gAkpM7NDM"
      },
      "source": [
        "<a href=\"https://colab.research.google.com/github/wandb/examples/blob/master/colabs/intro/Report_API_Quickstart.ipynb\" target=\"_parent\"><img src=\"https://colab.research.google.com/assets/colab-badge.svg\" alt=\"Open In Colab\"/></a>\n",
        "<!--- @wandbcode{python-report-api} -->"
      ]
    },
    {
      "cell_type": "markdown",
      "metadata": {
        "id": "cPVgUCLA7NDN"
      },
      "source": [
        "<img src=\"http://wandb.me/logo-im-png\" width=\"400\" alt=\"Weights & Biases\" />\n",
        "<!--- @wandbcode{python-report-api} -->"
      ]
    },
    {
      "cell_type": "markdown",
      "metadata": {
        "id": "moxpZmPF7NDN"
      },
      "source": [
        "## What is the Report API?\n",
        "- Programmatically create and modify reports in Python, including support for editing blocks, panels, and runsets.\n",
        "- Create report templates to reuse and share with others\n",
        "\n"
      ]
    },
    {
      "cell_type": "markdown",
      "metadata": {
        "id": "T0EnG9_O7NDN"
      },
      "source": [
        "## Quick Links\n",
        "- [🚀 Quickstart Guide](#quickstart) (~5min)\n",
        "- [❓ FAQ](#faq)\n",
        "- [📌 Complete Examples](#complete_examples)"
      ]
    },
    {
      "cell_type": "code",
      "execution_count": 2,
      "metadata": {
        "colab": {
          "base_uri": "https://localhost:8080/"
        },
        "id": "S1e3tnre7NDO",
        "outputId": "7a5fdc7f-9224-44fe-b867-d03b62119492"
      },
      "outputs": [
        {
          "output_type": "stream",
          "name": "stdout",
          "text": [
            "\u001b[2K   \u001b[90m━━━━━━━━━━━━━━━━━━━━━━━━━━━━━━━━━━━━━━━━\u001b[0m \u001b[32m9.3/9.3 MB\u001b[0m \u001b[31m63.8 MB/s\u001b[0m eta \u001b[36m0:00:00\u001b[0m\n",
            "\u001b[2K   \u001b[90m━━━━━━━━━━━━━━━━━━━━━━━━━━━━━━━━━━━━━━━━\u001b[0m \u001b[32m76.7/76.7 kB\u001b[0m \u001b[31m5.1 MB/s\u001b[0m eta \u001b[36m0:00:00\u001b[0m\n",
            "\u001b[2K   \u001b[90m━━━━━━━━━━━━━━━━━━━━━━━━━━━━━━━━━━━━━━━━\u001b[0m \u001b[32m207.3/207.3 kB\u001b[0m \u001b[31m11.7 MB/s\u001b[0m eta \u001b[36m0:00:00\u001b[0m\n",
            "\u001b[2K   \u001b[90m━━━━━━━━━━━━━━━━━━━━━━━━━━━━━━━━━━━━━━━━\u001b[0m \u001b[32m309.1/309.1 kB\u001b[0m \u001b[31m18.9 MB/s\u001b[0m eta \u001b[36m0:00:00\u001b[0m\n",
            "\u001b[2K   \u001b[90m━━━━━━━━━━━━━━━━━━━━━━━━━━━━━━━━━━━━━━━━\u001b[0m \u001b[32m62.7/62.7 kB\u001b[0m \u001b[31m4.8 MB/s\u001b[0m eta \u001b[36m0:00:00\u001b[0m\n",
            "\u001b[?25h"
          ]
        }
      ],
      "source": [
        "!pip install wandb wandb-workspaces -qqq"
      ]
    },
    {
      "cell_type": "markdown",
      "metadata": {
        "id": "-_yQjU607NDO"
      },
      "source": [
        "## Setup"
      ]
    },
    {
      "cell_type": "code",
      "execution_count": 3,
      "metadata": {
        "colab": {
          "base_uri": "https://localhost:8080/",
          "height": 1000,
          "referenced_widgets": [
            "bb6503c120244204894ad5d54c32fae6",
            "43ba957862fe4da7b22590b2c125b6fe",
            "03ef157e73c64c5fa9d0ddcef6c0fcae",
            "929b16bae2fd4bd7a2e02dd6cc4a83f5",
            "2e8eaf5b82804db4ba049f4510c9a25d",
            "fe764631a7f44711aa638b8c0cd9dda7",
            "de9c6356bea1459aacb307dada2bf2ba",
            "5e6e3abaa9d74bba82d47a23d2b765f1",
            "cdd0cfc4aaf449bc9f6f6c0788761003",
            "673f666d3cbf4f48b91e584118fdefe5",
            "8a40bd7528bc4e0786b53ee2b9104cb4",
            "4f830122c1814603b51b7972f2ccd6d0",
            "e94db70485e643c8b2879d37f4e52710",
            "78641b50ba05481ea340ba2b077ea089",
            "5fee00dbb6ab45a89471b28b431921f8",
            "2c903452e5f644ed91a1660257e96142",
            "d3f1a4c7b8ec40e1a5fb002617e78332",
            "e9090f827ccf45f08ef925a9869d8d2d",
            "b4e050aff6cd401eb57365d856ae2ac4",
            "c1e6aaacd2804a3ca53e3bc709998d07",
            "d3693bacc48042859822254124e10986",
            "0c774bcbd9294fbdb4fb7296e348844a",
            "1788845ce955492f984a3c2ee2c5377b",
            "5bd854dd29b34848bb10d91270ad5077",
            "4d21e38356ee4057b4c11a2945e8a242",
            "b9f46b48b1bb47928072431a7d086953",
            "a80434228e8144699aa870f95988f10c",
            "21297483aaf64cee97634fd5c8953c3e",
            "9fc8ce61886548fba6e0294a66fe0ae8",
            "0dc4964e21504d99983feb65ba4f9762",
            "e0295cf135c5471a9853a85e001eeb0a",
            "10dbba2f47fd4c2380c5a29f205e2532",
            "43431ce62f53499a9f650915bdf0220b",
            "60533ebf2b204ebd954a7f1dcdaf95c1",
            "285927881e7f4b608aa9c804c09ad3dd",
            "0f9fab9907e045f4b32050bc4d21903a",
            "de003928e64d4141b7ffa2838f2a8d63",
            "c0d08b4955d14c84927062257373de84",
            "c94d685f5d9a45fdafbb06a8e5eb5c9a",
            "427a9e9164b54506a195dfdae4e85df7",
            "6c11dc459b1c42fa916053b668fdd192",
            "aa4aca39508d412982b1685baad68851",
            "5caf1222d8e747f884a76a3ad47e8719",
            "175a7d4201594314b19dc3f1c74aebc4",
            "4398ea70f6164ebb855e43b8f571a16f",
            "a6a6d66f0228444bb228bcbf96502a93",
            "649bc2e655ff4c309d9ef96ee9562727",
            "4b457ac51e614b388fdd439db8ccdb34",
            "bb33eaed1d774e0cbe96f2f13baea894",
            "1c4a5915211347fead807fce0ea87149",
            "ce3b1e656ebe435eabac7d7caf2bf820",
            "9838165888b0445ebe65bbdd275e74d3",
            "505f31a2211d4d168044513e672c86b4",
            "abbc62eb5991407ca8d9b087b79c285e",
            "7733534143984bcaae6672ff997a0406",
            "75ad4026f3ea4155a7999a3d3526f044",
            "645f4d3115ec450e9b107a689dc9a24b",
            "9a2468f31c7041269d4df623d1b02651",
            "87d4d8daf4c248c898f646438b3f0b18",
            "aa3e9134b7b14e95ab3b6d6937409e2e",
            "dc74ff3172b64922a49ba43d7d7c12e6",
            "2e27970e610248539f6a8e3926700f39",
            "4c30129390bf45a3a753a2678c3f2bb6",
            "ddf0555ed6d44634b1b3e51ed5d0ce13",
            "87f8699a5fd14bc28767607f40acb4d7",
            "30b37d020e0a4b2795b85e7e67ea477a",
            "d4527a14c8524a05a39f6b1c3c15a81c",
            "7e9f27a0fa694c6e9061f86a2ae1c677",
            "e7f90d2cdd224687beb8ef561504a53c",
            "8e47efd32844466b9b35079296aedbcd",
            "1363f807f43d4e61999e3f71d6b99317",
            "bfb0b98324374122a1331f5898cd00c1",
            "35290546c8df4e4eb864ac7fcc020068",
            "01d788e665a94e17ab7f495080077215",
            "953d003330d0462fa16bf85f792adc5f",
            "c9232219c0f54b74b1c953258246c252",
            "c546d75bcd1c48618a4abfc1859d2e69",
            "4224678764b84441952c205511f6566d",
            "e61510557d08485ab5c8ef4dfd2c945b",
            "69fff52910654b1482d1412c01ab1979",
            "8268f6f2b0794868aaade8659c13bb78",
            "09db51806d864feb938c536b34796fc2",
            "c067c291cf2a42d9954f67b175906c69",
            "d80f52c716d1469da6151d891bd9fb06",
            "8d5231e5f9d743fcac1e2165f0332669",
            "81a3cd5b546e493597bad2174ab56472",
            "70cc44acdcb2489ba7dbb3c18ee518b7",
            "c31b21a9aea2481b9e3df69112581e70",
            "950645eac0b84098814f8949a9a3d20b",
            "c214df696a134c8a88360b5843bc0d3f",
            "65167aed067841348570efba9f42ad6a",
            "4417f9a6ebdf460ab6c77ad2a833e261",
            "c4f1c330c38947439bf0d5f9a6a8acbc",
            "0a850d10db644f8a9fea32a1453469c9",
            "8569ef19e626436897995ed7ed0cdd48",
            "2b2560174db444f7800acad8bf192865",
            "bfbc44bc22cd4b2588ad9affd274bcd5",
            "b791a8bce74149ada9938d5e150ed355",
            "57ad6d7ded7f4e6794827a96d2cea88b",
            "a8507d2a72f443259e80794da4d5c3cc",
            "68e41eb8563447aea23494422e1af1ec",
            "40600a5102124e5ca60742b466ba7900",
            "2c35039ff88347fe9fb21002bbc3371e",
            "77b76f7646514a2a81cd6c1fa88bb274",
            "f35c7db3c8424e33ad01ea9570ae44ee",
            "eaaf772c137446168aac7e55bbb79d19",
            "59e1edf680844ee3b4c0a8c5f8f9b192",
            "15536ce19ea943f594e0c075c9949e2c",
            "e0eef0967ea64e9e8000ab8234a4d740",
            "2aeef870990842d2b27b46d836a06662",
            "b7b48cf05b894da7be1b1a671fd901e1",
            "9ec01f3c4b094a9cb59b71c6c5deaa3d"
          ]
        },
        "id": "9UGFOwXG7NDO",
        "outputId": "e03d2461-06d3-4c7d-e692-e583e3745120"
      },
      "outputs": [
        {
          "output_type": "display_data",
          "data": {
            "text/plain": [
              "<IPython.core.display.Javascript object>"
            ],
            "application/javascript": [
              "\n",
              "        window._wandbApiKey = new Promise((resolve, reject) => {\n",
              "            function loadScript(url) {\n",
              "            return new Promise(function(resolve, reject) {\n",
              "                let newScript = document.createElement(\"script\");\n",
              "                newScript.onerror = reject;\n",
              "                newScript.onload = resolve;\n",
              "                document.body.appendChild(newScript);\n",
              "                newScript.src = url;\n",
              "            });\n",
              "            }\n",
              "            loadScript(\"https://cdn.jsdelivr.net/npm/postmate/build/postmate.min.js\").then(() => {\n",
              "            const iframe = document.createElement('iframe')\n",
              "            iframe.style.cssText = \"width:0;height:0;border:none\"\n",
              "            document.body.appendChild(iframe)\n",
              "            const handshake = new Postmate({\n",
              "                container: iframe,\n",
              "                url: 'https://wandb.ai/authorize'\n",
              "            });\n",
              "            const timeout = setTimeout(() => reject(\"Couldn't auto authenticate\"), 5000)\n",
              "            handshake.then(function(child) {\n",
              "                child.on('authorize', data => {\n",
              "                    clearTimeout(timeout)\n",
              "                    resolve(data)\n",
              "                });\n",
              "            });\n",
              "            })\n",
              "        });\n",
              "    "
            ]
          },
          "metadata": {}
        },
        {
          "output_type": "stream",
          "name": "stderr",
          "text": [
            "\u001b[34m\u001b[1mwandb\u001b[0m: Logging into wandb.ai. (Learn how to deploy a W&B server locally: https://wandb.me/wandb-server)\n",
            "\u001b[34m\u001b[1mwandb\u001b[0m: You can find your API key in your browser here: https://wandb.ai/authorize\n",
            "wandb: Paste an API key from your profile and hit enter, or press ctrl+c to quit:"
          ]
        },
        {
          "name": "stdout",
          "output_type": "stream",
          "text": [
            " ··········\n"
          ]
        },
        {
          "output_type": "stream",
          "name": "stderr",
          "text": [
            "\u001b[34m\u001b[1mwandb\u001b[0m: Appending key for api.wandb.ai to your netrc file: /root/.netrc\n",
            "\u001b[34m\u001b[1mwandb\u001b[0m: Currently logged in as: \u001b[33msephmard\u001b[0m. Use \u001b[1m`wandb login --relogin`\u001b[0m to force relogin\n"
          ]
        },
        {
          "output_type": "display_data",
          "data": {
            "text/plain": [
              "<IPython.core.display.HTML object>"
            ],
            "text/html": [
              "Tracking run with wandb version 0.17.7"
            ]
          },
          "metadata": {}
        },
        {
          "output_type": "display_data",
          "data": {
            "text/plain": [
              "<IPython.core.display.HTML object>"
            ],
            "text/html": [
              "Run data is saved locally in <code>/content/wandb/run-20240820_122419-to6m8qbk</code>"
            ]
          },
          "metadata": {}
        },
        {
          "output_type": "display_data",
          "data": {
            "text/plain": [
              "<IPython.core.display.HTML object>"
            ],
            "text/html": [
              "Syncing run <strong><a href='https://wandb.ai/sephmard/report-api-quickstart/runs/to6m8qbk' target=\"_blank\">adventurous-aardvark-1</a></strong> to <a href='https://wandb.ai/sephmard/report-api-quickstart' target=\"_blank\">Weights & Biases</a> (<a href='https://wandb.me/run' target=\"_blank\">docs</a>)<br/>"
            ]
          },
          "metadata": {}
        },
        {
          "output_type": "display_data",
          "data": {
            "text/plain": [
              "<IPython.core.display.HTML object>"
            ],
            "text/html": [
              " View project at <a href='https://wandb.ai/sephmard/report-api-quickstart' target=\"_blank\">https://wandb.ai/sephmard/report-api-quickstart</a>"
            ]
          },
          "metadata": {}
        },
        {
          "output_type": "display_data",
          "data": {
            "text/plain": [
              "<IPython.core.display.HTML object>"
            ],
            "text/html": [
              " View run at <a href='https://wandb.ai/sephmard/report-api-quickstart/runs/to6m8qbk' target=\"_blank\">https://wandb.ai/sephmard/report-api-quickstart/runs/to6m8qbk</a>"
            ]
          },
          "metadata": {}
        },
        {
          "output_type": "display_data",
          "data": {
            "text/plain": [
              "VBox(children=(Label(value='0.134 MB of 0.134 MB uploaded (0.009 MB deduped)\\r'), FloatProgress(value=1.0, max…"
            ],
            "application/vnd.jupyter.widget-view+json": {
              "version_major": 2,
              "version_minor": 0,
              "model_id": "bb6503c120244204894ad5d54c32fae6"
            }
          },
          "metadata": {}
        },
        {
          "output_type": "display_data",
          "data": {
            "text/plain": [
              "<IPython.core.display.HTML object>"
            ],
            "text/html": [
              "W&B sync reduced upload amount by 7.0%"
            ]
          },
          "metadata": {}
        },
        {
          "output_type": "display_data",
          "data": {
            "text/plain": [
              "<IPython.core.display.HTML object>"
            ],
            "text/html": [
              "<style>\n",
              "    table.wandb td:nth-child(1) { padding: 0 10px; text-align: left ; width: auto;} td:nth-child(2) {text-align: left ; width: 100%}\n",
              "    .wandb-row { display: flex; flex-direction: row; flex-wrap: wrap; justify-content: flex-start; width: 100% }\n",
              "    .wandb-col { display: flex; flex-direction: column; flex-basis: 100%; flex: 1; padding: 10px; }\n",
              "    </style>\n",
              "<div class=\"wandb-row\"><div class=\"wandb-col\"><h3>Run history:</h3><br/><table class=\"wandb\"><tr><td>acc</td><td>▁▂▄▃▄▄▅▄▅▅▆▆▆▆▆▆▆▆▇▆▇▇▇▇▇▆▇▆▇▇▆▇▇▇█▇▇▇█▇</td></tr><tr><td>loss</td><td>█▇▆▆▄▄▄▄▄▄▄▃▄▃▃▃▂▃▃▃▂▂▃▂▂▂▂▂▁▂▁▂▂▁▂▂▂▂▁▂</td></tr><tr><td>val_acc</td><td>▁▂▄▄▄▅▅▆▅▅▅▆▆▆▆▆▆▇▆▇▆▆▇▇▇▇▇▇▇▇▇▇█▇▇▇███▇</td></tr><tr><td>val_loss</td><td>█▅▆▅▄▃▃▄▄▄▃▃▃▃▃▃▂▂▂▂▃▃▂▂▂▂▁▁▂▂▂▁▂▂▁▂▂▁▁▂</td></tr></table><br/></div><div class=\"wandb-col\"><h3>Run summary:</h3><br/><table class=\"wandb\"><tr><td>acc</td><td>3.58581</td></tr><tr><td>loss</td><td>0.14713</td></tr><tr><td>val_acc</td><td>3.49424</td></tr><tr><td>val_loss</td><td>0.10292</td></tr></table><br/></div></div>"
            ]
          },
          "metadata": {}
        },
        {
          "output_type": "display_data",
          "data": {
            "text/plain": [
              "<IPython.core.display.HTML object>"
            ],
            "text/html": [
              " View run <strong style=\"color:#cdcd00\">adventurous-aardvark-1</strong> at: <a href='https://wandb.ai/sephmard/report-api-quickstart/runs/to6m8qbk' target=\"_blank\">https://wandb.ai/sephmard/report-api-quickstart/runs/to6m8qbk</a><br/> View project at: <a href='https://wandb.ai/sephmard/report-api-quickstart' target=\"_blank\">https://wandb.ai/sephmard/report-api-quickstart</a><br/>Synced 4 W&B file(s), 0 media file(s), 4 artifact file(s) and 1 other file(s)"
            ]
          },
          "metadata": {}
        },
        {
          "output_type": "display_data",
          "data": {
            "text/plain": [
              "<IPython.core.display.HTML object>"
            ],
            "text/html": [
              "Find logs at: <code>./wandb/run-20240820_122419-to6m8qbk/logs</code>"
            ]
          },
          "metadata": {}
        },
        {
          "output_type": "display_data",
          "data": {
            "text/plain": [
              "<IPython.core.display.HTML object>"
            ],
            "text/html": [
              "The new W&B backend becomes opt-out in version 0.18.0; try it out with `wandb.require(\"core\")`! See https://wandb.me/wandb-core for more information."
            ]
          },
          "metadata": {}
        },
        {
          "output_type": "display_data",
          "data": {
            "text/plain": [
              "<IPython.core.display.HTML object>"
            ],
            "text/html": [
              "Tracking run with wandb version 0.17.7"
            ]
          },
          "metadata": {}
        },
        {
          "output_type": "display_data",
          "data": {
            "text/plain": [
              "<IPython.core.display.HTML object>"
            ],
            "text/html": [
              "Run data is saved locally in <code>/content/wandb/run-20240820_122428-pmvjz3vo</code>"
            ]
          },
          "metadata": {}
        },
        {
          "output_type": "display_data",
          "data": {
            "text/plain": [
              "<IPython.core.display.HTML object>"
            ],
            "text/html": [
              "Syncing run <strong><a href='https://wandb.ai/sephmard/report-api-quickstart/runs/pmvjz3vo' target=\"_blank\">bountiful-badger-2</a></strong> to <a href='https://wandb.ai/sephmard/report-api-quickstart' target=\"_blank\">Weights & Biases</a> (<a href='https://wandb.me/run' target=\"_blank\">docs</a>)<br/>"
            ]
          },
          "metadata": {}
        },
        {
          "output_type": "display_data",
          "data": {
            "text/plain": [
              "<IPython.core.display.HTML object>"
            ],
            "text/html": [
              " View project at <a href='https://wandb.ai/sephmard/report-api-quickstart' target=\"_blank\">https://wandb.ai/sephmard/report-api-quickstart</a>"
            ]
          },
          "metadata": {}
        },
        {
          "output_type": "display_data",
          "data": {
            "text/plain": [
              "<IPython.core.display.HTML object>"
            ],
            "text/html": [
              " View run at <a href='https://wandb.ai/sephmard/report-api-quickstart/runs/pmvjz3vo' target=\"_blank\">https://wandb.ai/sephmard/report-api-quickstart/runs/pmvjz3vo</a>"
            ]
          },
          "metadata": {}
        },
        {
          "output_type": "display_data",
          "data": {
            "text/plain": [
              "VBox(children=(Label(value='0.124 MB of 0.134 MB uploaded (0.009 MB deduped)\\r'), FloatProgress(value=0.925064…"
            ],
            "application/vnd.jupyter.widget-view+json": {
              "version_major": 2,
              "version_minor": 0,
              "model_id": "cdd0cfc4aaf449bc9f6f6c0788761003"
            }
          },
          "metadata": {}
        },
        {
          "output_type": "display_data",
          "data": {
            "text/plain": [
              "<IPython.core.display.HTML object>"
            ],
            "text/html": [
              "W&B sync reduced upload amount by 6.5%"
            ]
          },
          "metadata": {}
        },
        {
          "output_type": "display_data",
          "data": {
            "text/plain": [
              "<IPython.core.display.HTML object>"
            ],
            "text/html": [
              "<style>\n",
              "    table.wandb td:nth-child(1) { padding: 0 10px; text-align: left ; width: auto;} td:nth-child(2) {text-align: left ; width: 100%}\n",
              "    .wandb-row { display: flex; flex-direction: row; flex-wrap: wrap; justify-content: flex-start; width: 100% }\n",
              "    .wandb-col { display: flex; flex-direction: column; flex-basis: 100%; flex: 1; padding: 10px; }\n",
              "    </style>\n",
              "<div class=\"wandb-row\"><div class=\"wandb-col\"><h3>Run history:</h3><br/><table class=\"wandb\"><tr><td>acc</td><td>▁▃▄▄▄▅▅▅▆▅▅▆▅▆▆▆▆▆▆▆▆▇▆▇▇▇▇▇▇▇██▇▇▇▇█▇▇█</td></tr><tr><td>loss</td><td>█▅▅▄▅▄▃▃▃▄▃▃▃▃▂▃▂▃▃▂▂▂▃▂▂▂▂▁▁▁▂▁▁▁▂▁▂▂▁▁</td></tr><tr><td>val_acc</td><td>▁▃▃▄▄▄▅▅▆▅▆▆▆▆▇▆▇▆▇▇▆▇▇▇█▆▇▇▇▇▆▇▇▇███▇█▇</td></tr><tr><td>val_loss</td><td>█▆▅▄▄▄▄▄▄▄▄▃▂▃▃▂▃▃▂▃▂▃▂▃▁▂▂▂▂▁▂▂▁▂▁▂▁▁▂▁</td></tr></table><br/></div><div class=\"wandb-col\"><h3>Run summary:</h3><br/><table class=\"wandb\"><tr><td>acc</td><td>3.83226</td></tr><tr><td>loss</td><td>-0.09636</td></tr><tr><td>val_acc</td><td>3.44363</td></tr><tr><td>val_loss</td><td>-0.00137</td></tr></table><br/></div></div>"
            ]
          },
          "metadata": {}
        },
        {
          "output_type": "display_data",
          "data": {
            "text/plain": [
              "<IPython.core.display.HTML object>"
            ],
            "text/html": [
              " View run <strong style=\"color:#cdcd00\">bountiful-badger-2</strong> at: <a href='https://wandb.ai/sephmard/report-api-quickstart/runs/pmvjz3vo' target=\"_blank\">https://wandb.ai/sephmard/report-api-quickstart/runs/pmvjz3vo</a><br/> View project at: <a href='https://wandb.ai/sephmard/report-api-quickstart' target=\"_blank\">https://wandb.ai/sephmard/report-api-quickstart</a><br/>Synced 4 W&B file(s), 0 media file(s), 4 artifact file(s) and 1 other file(s)"
            ]
          },
          "metadata": {}
        },
        {
          "output_type": "display_data",
          "data": {
            "text/plain": [
              "<IPython.core.display.HTML object>"
            ],
            "text/html": [
              "Find logs at: <code>./wandb/run-20240820_122428-pmvjz3vo/logs</code>"
            ]
          },
          "metadata": {}
        },
        {
          "output_type": "display_data",
          "data": {
            "text/plain": [
              "<IPython.core.display.HTML object>"
            ],
            "text/html": [
              "The new W&B backend becomes opt-out in version 0.18.0; try it out with `wandb.require(\"core\")`! See https://wandb.me/wandb-core for more information."
            ]
          },
          "metadata": {}
        },
        {
          "output_type": "display_data",
          "data": {
            "text/plain": [
              "<IPython.core.display.HTML object>"
            ],
            "text/html": [
              "Tracking run with wandb version 0.17.7"
            ]
          },
          "metadata": {}
        },
        {
          "output_type": "display_data",
          "data": {
            "text/plain": [
              "<IPython.core.display.HTML object>"
            ],
            "text/html": [
              "Run data is saved locally in <code>/content/wandb/run-20240820_122437-vb7v1d1p</code>"
            ]
          },
          "metadata": {}
        },
        {
          "output_type": "display_data",
          "data": {
            "text/plain": [
              "<IPython.core.display.HTML object>"
            ],
            "text/html": [
              "Syncing run <strong><a href='https://wandb.ai/sephmard/report-api-quickstart/runs/vb7v1d1p' target=\"_blank\">clairvoyant-chipmunk-3</a></strong> to <a href='https://wandb.ai/sephmard/report-api-quickstart' target=\"_blank\">Weights & Biases</a> (<a href='https://wandb.me/run' target=\"_blank\">docs</a>)<br/>"
            ]
          },
          "metadata": {}
        },
        {
          "output_type": "display_data",
          "data": {
            "text/plain": [
              "<IPython.core.display.HTML object>"
            ],
            "text/html": [
              " View project at <a href='https://wandb.ai/sephmard/report-api-quickstart' target=\"_blank\">https://wandb.ai/sephmard/report-api-quickstart</a>"
            ]
          },
          "metadata": {}
        },
        {
          "output_type": "display_data",
          "data": {
            "text/plain": [
              "<IPython.core.display.HTML object>"
            ],
            "text/html": [
              " View run at <a href='https://wandb.ai/sephmard/report-api-quickstart/runs/vb7v1d1p' target=\"_blank\">https://wandb.ai/sephmard/report-api-quickstart/runs/vb7v1d1p</a>"
            ]
          },
          "metadata": {}
        },
        {
          "output_type": "display_data",
          "data": {
            "text/plain": [
              "VBox(children=(Label(value='0.135 MB of 0.156 MB uploaded (0.009 MB deduped)\\r'), FloatProgress(value=0.862678…"
            ],
            "application/vnd.jupyter.widget-view+json": {
              "version_major": 2,
              "version_minor": 0,
              "model_id": "d3f1a4c7b8ec40e1a5fb002617e78332"
            }
          },
          "metadata": {}
        },
        {
          "output_type": "display_data",
          "data": {
            "text/plain": [
              "<IPython.core.display.HTML object>"
            ],
            "text/html": [
              "W&B sync reduced upload amount by 6.0%"
            ]
          },
          "metadata": {}
        },
        {
          "output_type": "display_data",
          "data": {
            "text/plain": [
              "<IPython.core.display.HTML object>"
            ],
            "text/html": [
              "<style>\n",
              "    table.wandb td:nth-child(1) { padding: 0 10px; text-align: left ; width: auto;} td:nth-child(2) {text-align: left ; width: 100%}\n",
              "    .wandb-row { display: flex; flex-direction: row; flex-wrap: wrap; justify-content: flex-start; width: 100% }\n",
              "    .wandb-col { display: flex; flex-direction: column; flex-basis: 100%; flex: 1; padding: 10px; }\n",
              "    </style>\n",
              "<div class=\"wandb-row\"><div class=\"wandb-col\"><h3>Run history:</h3><br/><table class=\"wandb\"><tr><td>acc</td><td>▁▃▄▄▅▅▆▅▆▆▅▆▆▇▇▇▆▇▆▇▇▇▇▆█▇▇▇██▇██▇▇▇██▇█</td></tr><tr><td>loss</td><td>█▇▆▆▅▅▅▄▄▄▄▄▂▂▃▃▃▃▂▃▂▂▂▂▃▁▂▂▂▂▁▂▂▂▂▂▁▁▂▂</td></tr><tr><td>val_acc</td><td>▁▂▃▄▄▄▄▅▅▅▆▆▆▆▆▆▇▆▇▇▆▇▇▇▇▇▆▇▇▇▇▇█▇▇▇█▇▇█</td></tr><tr><td>val_loss</td><td>█▆▆▅▅▅▃▃▄▃▄▃▃▂▂▃▃▃▂▂▃▃▃▂▂▂▂▂▃▂▂▂▂▂▁▂▁▁▁▁</td></tr></table><br/></div><div class=\"wandb-col\"><h3>Run summary:</h3><br/><table class=\"wandb\"><tr><td>acc</td><td>3.18097</td></tr><tr><td>loss</td><td>0.20961</td></tr><tr><td>val_acc</td><td>2.69594</td></tr><tr><td>val_loss</td><td>0.13361</td></tr></table><br/></div></div>"
            ]
          },
          "metadata": {}
        },
        {
          "output_type": "display_data",
          "data": {
            "text/plain": [
              "<IPython.core.display.HTML object>"
            ],
            "text/html": [
              " View run <strong style=\"color:#cdcd00\">clairvoyant-chipmunk-3</strong> at: <a href='https://wandb.ai/sephmard/report-api-quickstart/runs/vb7v1d1p' target=\"_blank\">https://wandb.ai/sephmard/report-api-quickstart/runs/vb7v1d1p</a><br/> View project at: <a href='https://wandb.ai/sephmard/report-api-quickstart' target=\"_blank\">https://wandb.ai/sephmard/report-api-quickstart</a><br/>Synced 4 W&B file(s), 0 media file(s), 4 artifact file(s) and 1 other file(s)"
            ]
          },
          "metadata": {}
        },
        {
          "output_type": "display_data",
          "data": {
            "text/plain": [
              "<IPython.core.display.HTML object>"
            ],
            "text/html": [
              "Find logs at: <code>./wandb/run-20240820_122437-vb7v1d1p/logs</code>"
            ]
          },
          "metadata": {}
        },
        {
          "output_type": "display_data",
          "data": {
            "text/plain": [
              "<IPython.core.display.HTML object>"
            ],
            "text/html": [
              "The new W&B backend becomes opt-out in version 0.18.0; try it out with `wandb.require(\"core\")`! See https://wandb.me/wandb-core for more information."
            ]
          },
          "metadata": {}
        },
        {
          "output_type": "display_data",
          "data": {
            "text/plain": [
              "<IPython.core.display.HTML object>"
            ],
            "text/html": [
              "Tracking run with wandb version 0.17.7"
            ]
          },
          "metadata": {}
        },
        {
          "output_type": "display_data",
          "data": {
            "text/plain": [
              "<IPython.core.display.HTML object>"
            ],
            "text/html": [
              "Run data is saved locally in <code>/content/wandb/run-20240820_122445-o70l3jcf</code>"
            ]
          },
          "metadata": {}
        },
        {
          "output_type": "display_data",
          "data": {
            "text/plain": [
              "<IPython.core.display.HTML object>"
            ],
            "text/html": [
              "Syncing run <strong><a href='https://wandb.ai/sephmard/report-api-quickstart/runs/o70l3jcf' target=\"_blank\">dastardly-duck-4</a></strong> to <a href='https://wandb.ai/sephmard/report-api-quickstart' target=\"_blank\">Weights & Biases</a> (<a href='https://wandb.me/run' target=\"_blank\">docs</a>)<br/>"
            ]
          },
          "metadata": {}
        },
        {
          "output_type": "display_data",
          "data": {
            "text/plain": [
              "<IPython.core.display.HTML object>"
            ],
            "text/html": [
              " View project at <a href='https://wandb.ai/sephmard/report-api-quickstart' target=\"_blank\">https://wandb.ai/sephmard/report-api-quickstart</a>"
            ]
          },
          "metadata": {}
        },
        {
          "output_type": "display_data",
          "data": {
            "text/plain": [
              "<IPython.core.display.HTML object>"
            ],
            "text/html": [
              " View run at <a href='https://wandb.ai/sephmard/report-api-quickstart/runs/o70l3jcf' target=\"_blank\">https://wandb.ai/sephmard/report-api-quickstart/runs/o70l3jcf</a>"
            ]
          },
          "metadata": {}
        },
        {
          "output_type": "display_data",
          "data": {
            "text/plain": [
              "VBox(children=(Label(value='0.167 MB of 0.167 MB uploaded (0.009 MB deduped)\\r'), FloatProgress(value=1.0, max…"
            ],
            "application/vnd.jupyter.widget-view+json": {
              "version_major": 2,
              "version_minor": 0,
              "model_id": "4d21e38356ee4057b4c11a2945e8a242"
            }
          },
          "metadata": {}
        },
        {
          "output_type": "display_data",
          "data": {
            "text/plain": [
              "<IPython.core.display.HTML object>"
            ],
            "text/html": [
              "W&B sync reduced upload amount by 5.6%"
            ]
          },
          "metadata": {}
        },
        {
          "output_type": "display_data",
          "data": {
            "text/plain": [
              "<IPython.core.display.HTML object>"
            ],
            "text/html": [
              "<style>\n",
              "    table.wandb td:nth-child(1) { padding: 0 10px; text-align: left ; width: auto;} td:nth-child(2) {text-align: left ; width: 100%}\n",
              "    .wandb-row { display: flex; flex-direction: row; flex-wrap: wrap; justify-content: flex-start; width: 100% }\n",
              "    .wandb-col { display: flex; flex-direction: column; flex-basis: 100%; flex: 1; padding: 10px; }\n",
              "    </style>\n",
              "<div class=\"wandb-row\"><div class=\"wandb-col\"><h3>Run history:</h3><br/><table class=\"wandb\"><tr><td>acc</td><td>▁▂▃▄▄▄▅▅▅▆▆▆▆▆▆▆▅▇▇▆▇▇▇▇▇▇▇█▇▆▇▇▇▇▇██▇▇█</td></tr><tr><td>loss</td><td>█▆▅▅▅▄▄▄▃▄▃▄▄▃▃▃▃▃▃▂▂▂▂▃▂▂▂▃▂▁▂▃▂▂▂▂▂▂▂▁</td></tr><tr><td>val_acc</td><td>▁▂▃▄▄▄▅▅▆▆▅▆▆▆▆▆▆▆▇▇▇▇▆▆▇▇▇▇█▇▇████▇███▇</td></tr><tr><td>val_loss</td><td>█▇▆▅▅▅▅▄▅▄▃▃▄▃▃▃▃▃▃▂▂▃▃▃▂▃▃▂▂▃▂▂▃▂▂▁▂▂▂▁</td></tr></table><br/></div><div class=\"wandb-col\"><h3>Run summary:</h3><br/><table class=\"wandb\"><tr><td>acc</td><td>3.47403</td></tr><tr><td>loss</td><td>-0.00415</td></tr><tr><td>val_acc</td><td>2.91685</td></tr><tr><td>val_loss</td><td>0.05506</td></tr></table><br/></div></div>"
            ]
          },
          "metadata": {}
        },
        {
          "output_type": "display_data",
          "data": {
            "text/plain": [
              "<IPython.core.display.HTML object>"
            ],
            "text/html": [
              " View run <strong style=\"color:#cdcd00\">dastardly-duck-4</strong> at: <a href='https://wandb.ai/sephmard/report-api-quickstart/runs/o70l3jcf' target=\"_blank\">https://wandb.ai/sephmard/report-api-quickstart/runs/o70l3jcf</a><br/> View project at: <a href='https://wandb.ai/sephmard/report-api-quickstart' target=\"_blank\">https://wandb.ai/sephmard/report-api-quickstart</a><br/>Synced 4 W&B file(s), 0 media file(s), 4 artifact file(s) and 1 other file(s)"
            ]
          },
          "metadata": {}
        },
        {
          "output_type": "display_data",
          "data": {
            "text/plain": [
              "<IPython.core.display.HTML object>"
            ],
            "text/html": [
              "Find logs at: <code>./wandb/run-20240820_122445-o70l3jcf/logs</code>"
            ]
          },
          "metadata": {}
        },
        {
          "output_type": "display_data",
          "data": {
            "text/plain": [
              "<IPython.core.display.HTML object>"
            ],
            "text/html": [
              "The new W&B backend becomes opt-out in version 0.18.0; try it out with `wandb.require(\"core\")`! See https://wandb.me/wandb-core for more information."
            ]
          },
          "metadata": {}
        },
        {
          "output_type": "display_data",
          "data": {
            "text/plain": [
              "<IPython.core.display.HTML object>"
            ],
            "text/html": [
              "Tracking run with wandb version 0.17.7"
            ]
          },
          "metadata": {}
        },
        {
          "output_type": "display_data",
          "data": {
            "text/plain": [
              "<IPython.core.display.HTML object>"
            ],
            "text/html": [
              "Run data is saved locally in <code>/content/wandb/run-20240820_122453-op5cpbkc</code>"
            ]
          },
          "metadata": {}
        },
        {
          "output_type": "display_data",
          "data": {
            "text/plain": [
              "<IPython.core.display.HTML object>"
            ],
            "text/html": [
              "Syncing run <strong><a href='https://wandb.ai/sephmard/report-api-quickstart/runs/op5cpbkc' target=\"_blank\">eloquent-elephant-5</a></strong> to <a href='https://wandb.ai/sephmard/report-api-quickstart' target=\"_blank\">Weights & Biases</a> (<a href='https://wandb.me/run' target=\"_blank\">docs</a>)<br/>"
            ]
          },
          "metadata": {}
        },
        {
          "output_type": "display_data",
          "data": {
            "text/plain": [
              "<IPython.core.display.HTML object>"
            ],
            "text/html": [
              " View project at <a href='https://wandb.ai/sephmard/report-api-quickstart' target=\"_blank\">https://wandb.ai/sephmard/report-api-quickstart</a>"
            ]
          },
          "metadata": {}
        },
        {
          "output_type": "display_data",
          "data": {
            "text/plain": [
              "<IPython.core.display.HTML object>"
            ],
            "text/html": [
              " View run at <a href='https://wandb.ai/sephmard/report-api-quickstart/runs/op5cpbkc' target=\"_blank\">https://wandb.ai/sephmard/report-api-quickstart/runs/op5cpbkc</a>"
            ]
          },
          "metadata": {}
        },
        {
          "output_type": "display_data",
          "data": {
            "text/plain": [
              "VBox(children=(Label(value='0.935 MB of 0.935 MB uploaded (0.009 MB deduped)\\r'), FloatProgress(value=1.0, max…"
            ],
            "application/vnd.jupyter.widget-view+json": {
              "version_major": 2,
              "version_minor": 0,
              "model_id": "43431ce62f53499a9f650915bdf0220b"
            }
          },
          "metadata": {}
        },
        {
          "output_type": "display_data",
          "data": {
            "text/plain": [
              "<IPython.core.display.HTML object>"
            ],
            "text/html": [
              "W&B sync reduced upload amount by 1.0%"
            ]
          },
          "metadata": {}
        },
        {
          "output_type": "display_data",
          "data": {
            "text/plain": [
              "<IPython.core.display.HTML object>"
            ],
            "text/html": [
              " View run <strong style=\"color:#cdcd00\">eloquent-elephant-5</strong> at: <a href='https://wandb.ai/sephmard/report-api-quickstart/runs/op5cpbkc' target=\"_blank\">https://wandb.ai/sephmard/report-api-quickstart/runs/op5cpbkc</a><br/> View project at: <a href='https://wandb.ai/sephmard/report-api-quickstart' target=\"_blank\">https://wandb.ai/sephmard/report-api-quickstart</a><br/>Synced 4 W&B file(s), 2 media file(s), 6 artifact file(s) and 1 other file(s)"
            ]
          },
          "metadata": {}
        },
        {
          "output_type": "display_data",
          "data": {
            "text/plain": [
              "<IPython.core.display.HTML object>"
            ],
            "text/html": [
              "Find logs at: <code>./wandb/run-20240820_122453-op5cpbkc/logs</code>"
            ]
          },
          "metadata": {}
        },
        {
          "output_type": "display_data",
          "data": {
            "text/plain": [
              "<IPython.core.display.HTML object>"
            ],
            "text/html": [
              "The new W&B backend becomes opt-out in version 0.18.0; try it out with `wandb.require(\"core\")`! See https://wandb.me/wandb-core for more information."
            ]
          },
          "metadata": {}
        },
        {
          "output_type": "display_data",
          "data": {
            "text/plain": [
              "VBox(children=(Label(value='Waiting for wandb.init()...\\r'), FloatProgress(value=0.011112667677778316, max=1.0…"
            ],
            "application/vnd.jupyter.widget-view+json": {
              "version_major": 2,
              "version_minor": 0,
              "model_id": "6c11dc459b1c42fa916053b668fdd192"
            }
          },
          "metadata": {}
        },
        {
          "output_type": "display_data",
          "data": {
            "text/plain": [
              "<IPython.core.display.HTML object>"
            ],
            "text/html": [
              "Tracking run with wandb version 0.17.7"
            ]
          },
          "metadata": {}
        },
        {
          "output_type": "display_data",
          "data": {
            "text/plain": [
              "<IPython.core.display.HTML object>"
            ],
            "text/html": [
              "Run data is saved locally in <code>/content/wandb/run-20240820_122501-zdnc8l1m</code>"
            ]
          },
          "metadata": {}
        },
        {
          "output_type": "display_data",
          "data": {
            "text/plain": [
              "<IPython.core.display.HTML object>"
            ],
            "text/html": [
              "Syncing run <strong><a href='https://wandb.ai/sephmard/lineage-example/runs/zdnc8l1m' target=\"_blank\">jolly-bird-17</a></strong> to <a href='https://wandb.ai/sephmard/lineage-example' target=\"_blank\">Weights & Biases</a> (<a href='https://wandb.me/run' target=\"_blank\">docs</a>)<br/>"
            ]
          },
          "metadata": {}
        },
        {
          "output_type": "display_data",
          "data": {
            "text/plain": [
              "<IPython.core.display.HTML object>"
            ],
            "text/html": [
              " View project at <a href='https://wandb.ai/sephmard/lineage-example' target=\"_blank\">https://wandb.ai/sephmard/lineage-example</a>"
            ]
          },
          "metadata": {}
        },
        {
          "output_type": "display_data",
          "data": {
            "text/plain": [
              "<IPython.core.display.HTML object>"
            ],
            "text/html": [
              " View run at <a href='https://wandb.ai/sephmard/lineage-example/runs/zdnc8l1m' target=\"_blank\">https://wandb.ai/sephmard/lineage-example/runs/zdnc8l1m</a>"
            ]
          },
          "metadata": {}
        },
        {
          "output_type": "display_data",
          "data": {
            "text/plain": [
              "VBox(children=(Label(value='1.305 MB of 1.327 MB uploaded (1.143 MB deduped)\\r'), FloatProgress(value=0.983859…"
            ],
            "application/vnd.jupyter.widget-view+json": {
              "version_major": 2,
              "version_minor": 0,
              "model_id": "bb33eaed1d774e0cbe96f2f13baea894"
            }
          },
          "metadata": {}
        },
        {
          "output_type": "display_data",
          "data": {
            "text/plain": [
              "<IPython.core.display.HTML object>"
            ],
            "text/html": [
              "W&B sync reduced upload amount by 86.2%"
            ]
          },
          "metadata": {}
        },
        {
          "output_type": "display_data",
          "data": {
            "text/plain": [
              "<IPython.core.display.HTML object>"
            ],
            "text/html": [
              " View run <strong style=\"color:#cdcd00\">jolly-bird-17</strong> at: <a href='https://wandb.ai/sephmard/lineage-example/runs/zdnc8l1m' target=\"_blank\">https://wandb.ai/sephmard/lineage-example/runs/zdnc8l1m</a><br/> View project at: <a href='https://wandb.ai/sephmard/lineage-example' target=\"_blank\">https://wandb.ai/sephmard/lineage-example</a><br/>Synced 4 W&B file(s), 0 media file(s), 13 artifact file(s) and 1 other file(s)"
            ]
          },
          "metadata": {}
        },
        {
          "output_type": "display_data",
          "data": {
            "text/plain": [
              "<IPython.core.display.HTML object>"
            ],
            "text/html": [
              "Find logs at: <code>./wandb/run-20240820_122501-zdnc8l1m/logs</code>"
            ]
          },
          "metadata": {}
        },
        {
          "output_type": "display_data",
          "data": {
            "text/plain": [
              "<IPython.core.display.HTML object>"
            ],
            "text/html": [
              "The new W&B backend becomes opt-out in version 0.18.0; try it out with `wandb.require(\"core\")`! See https://wandb.me/wandb-core for more information."
            ]
          },
          "metadata": {}
        },
        {
          "output_type": "display_data",
          "data": {
            "text/plain": [
              "<IPython.core.display.HTML object>"
            ],
            "text/html": [
              "Tracking run with wandb version 0.17.7"
            ]
          },
          "metadata": {}
        },
        {
          "output_type": "display_data",
          "data": {
            "text/plain": [
              "<IPython.core.display.HTML object>"
            ],
            "text/html": [
              "Run data is saved locally in <code>/content/wandb/run-20240820_122513-8v5u3evu</code>"
            ]
          },
          "metadata": {}
        },
        {
          "output_type": "display_data",
          "data": {
            "text/plain": [
              "<IPython.core.display.HTML object>"
            ],
            "text/html": [
              "Syncing run <strong><a href='https://wandb.ai/sephmard/lineage-example/runs/8v5u3evu' target=\"_blank\">fresh-tree-18</a></strong> to <a href='https://wandb.ai/sephmard/lineage-example' target=\"_blank\">Weights & Biases</a> (<a href='https://wandb.me/run' target=\"_blank\">docs</a>)<br/>"
            ]
          },
          "metadata": {}
        },
        {
          "output_type": "display_data",
          "data": {
            "text/plain": [
              "<IPython.core.display.HTML object>"
            ],
            "text/html": [
              " View project at <a href='https://wandb.ai/sephmard/lineage-example' target=\"_blank\">https://wandb.ai/sephmard/lineage-example</a>"
            ]
          },
          "metadata": {}
        },
        {
          "output_type": "display_data",
          "data": {
            "text/plain": [
              "<IPython.core.display.HTML object>"
            ],
            "text/html": [
              " View run at <a href='https://wandb.ai/sephmard/lineage-example/runs/8v5u3evu' target=\"_blank\">https://wandb.ai/sephmard/lineage-example/runs/8v5u3evu</a>"
            ]
          },
          "metadata": {}
        },
        {
          "output_type": "display_data",
          "data": {
            "text/plain": [
              "VBox(children=(Label(value='1.335 MB of 1.335 MB uploaded (1.143 MB deduped)\\r'), FloatProgress(value=1.0, max…"
            ],
            "application/vnd.jupyter.widget-view+json": {
              "version_major": 2,
              "version_minor": 0,
              "model_id": "645f4d3115ec450e9b107a689dc9a24b"
            }
          },
          "metadata": {}
        },
        {
          "output_type": "display_data",
          "data": {
            "text/plain": [
              "<IPython.core.display.HTML object>"
            ],
            "text/html": [
              "W&B sync reduced upload amount by 85.6%"
            ]
          },
          "metadata": {}
        },
        {
          "output_type": "display_data",
          "data": {
            "text/plain": [
              "<IPython.core.display.HTML object>"
            ],
            "text/html": [
              " View run <strong style=\"color:#cdcd00\">fresh-tree-18</strong> at: <a href='https://wandb.ai/sephmard/lineage-example/runs/8v5u3evu' target=\"_blank\">https://wandb.ai/sephmard/lineage-example/runs/8v5u3evu</a><br/> View project at: <a href='https://wandb.ai/sephmard/lineage-example' target=\"_blank\">https://wandb.ai/sephmard/lineage-example</a><br/>Synced 4 W&B file(s), 0 media file(s), 13 artifact file(s) and 1 other file(s)"
            ]
          },
          "metadata": {}
        },
        {
          "output_type": "display_data",
          "data": {
            "text/plain": [
              "<IPython.core.display.HTML object>"
            ],
            "text/html": [
              "Find logs at: <code>./wandb/run-20240820_122513-8v5u3evu/logs</code>"
            ]
          },
          "metadata": {}
        },
        {
          "output_type": "display_data",
          "data": {
            "text/plain": [
              "<IPython.core.display.HTML object>"
            ],
            "text/html": [
              "The new W&B backend becomes opt-out in version 0.18.0; try it out with `wandb.require(\"core\")`! See https://wandb.me/wandb-core for more information."
            ]
          },
          "metadata": {}
        },
        {
          "output_type": "display_data",
          "data": {
            "text/plain": [
              "<IPython.core.display.HTML object>"
            ],
            "text/html": [
              "Tracking run with wandb version 0.17.7"
            ]
          },
          "metadata": {}
        },
        {
          "output_type": "display_data",
          "data": {
            "text/plain": [
              "<IPython.core.display.HTML object>"
            ],
            "text/html": [
              "Run data is saved locally in <code>/content/wandb/run-20240820_122526-4zq52iem</code>"
            ]
          },
          "metadata": {}
        },
        {
          "output_type": "display_data",
          "data": {
            "text/plain": [
              "<IPython.core.display.HTML object>"
            ],
            "text/html": [
              "Syncing run <strong><a href='https://wandb.ai/sephmard/lineage-example/runs/4zq52iem' target=\"_blank\">rural-forest-19</a></strong> to <a href='https://wandb.ai/sephmard/lineage-example' target=\"_blank\">Weights & Biases</a> (<a href='https://wandb.me/run' target=\"_blank\">docs</a>)<br/>"
            ]
          },
          "metadata": {}
        },
        {
          "output_type": "display_data",
          "data": {
            "text/plain": [
              "<IPython.core.display.HTML object>"
            ],
            "text/html": [
              " View project at <a href='https://wandb.ai/sephmard/lineage-example' target=\"_blank\">https://wandb.ai/sephmard/lineage-example</a>"
            ]
          },
          "metadata": {}
        },
        {
          "output_type": "display_data",
          "data": {
            "text/plain": [
              "<IPython.core.display.HTML object>"
            ],
            "text/html": [
              " View run at <a href='https://wandb.ai/sephmard/lineage-example/runs/4zq52iem' target=\"_blank\">https://wandb.ai/sephmard/lineage-example/runs/4zq52iem</a>"
            ]
          },
          "metadata": {}
        },
        {
          "output_type": "display_data",
          "data": {
            "text/plain": [
              "VBox(children=(Label(value='1.323 MB of 1.344 MB uploaded (1.143 MB deduped)\\r'), FloatProgress(value=0.984358…"
            ],
            "application/vnd.jupyter.widget-view+json": {
              "version_major": 2,
              "version_minor": 0,
              "model_id": "87f8699a5fd14bc28767607f40acb4d7"
            }
          },
          "metadata": {}
        },
        {
          "output_type": "display_data",
          "data": {
            "text/plain": [
              "<IPython.core.display.HTML object>"
            ],
            "text/html": [
              "W&B sync reduced upload amount by 85.1%"
            ]
          },
          "metadata": {}
        },
        {
          "output_type": "display_data",
          "data": {
            "text/plain": [
              "<IPython.core.display.HTML object>"
            ],
            "text/html": [
              " View run <strong style=\"color:#cdcd00\">rural-forest-19</strong> at: <a href='https://wandb.ai/sephmard/lineage-example/runs/4zq52iem' target=\"_blank\">https://wandb.ai/sephmard/lineage-example/runs/4zq52iem</a><br/> View project at: <a href='https://wandb.ai/sephmard/lineage-example' target=\"_blank\">https://wandb.ai/sephmard/lineage-example</a><br/>Synced 4 W&B file(s), 0 media file(s), 13 artifact file(s) and 1 other file(s)"
            ]
          },
          "metadata": {}
        },
        {
          "output_type": "display_data",
          "data": {
            "text/plain": [
              "<IPython.core.display.HTML object>"
            ],
            "text/html": [
              "Find logs at: <code>./wandb/run-20240820_122526-4zq52iem/logs</code>"
            ]
          },
          "metadata": {}
        },
        {
          "output_type": "display_data",
          "data": {
            "text/plain": [
              "<IPython.core.display.HTML object>"
            ],
            "text/html": [
              "The new W&B backend becomes opt-out in version 0.18.0; try it out with `wandb.require(\"core\")`! See https://wandb.me/wandb-core for more information."
            ]
          },
          "metadata": {}
        },
        {
          "output_type": "display_data",
          "data": {
            "text/plain": [
              "<IPython.core.display.HTML object>"
            ],
            "text/html": [
              "Tracking run with wandb version 0.17.7"
            ]
          },
          "metadata": {}
        },
        {
          "output_type": "display_data",
          "data": {
            "text/plain": [
              "<IPython.core.display.HTML object>"
            ],
            "text/html": [
              "Run data is saved locally in <code>/content/wandb/run-20240820_122542-0i20epp8</code>"
            ]
          },
          "metadata": {}
        },
        {
          "output_type": "display_data",
          "data": {
            "text/plain": [
              "<IPython.core.display.HTML object>"
            ],
            "text/html": [
              "Syncing run <strong><a href='https://wandb.ai/sephmard/lineage-example/runs/0i20epp8' target=\"_blank\">stellar-pyramid-20</a></strong> to <a href='https://wandb.ai/sephmard/lineage-example' target=\"_blank\">Weights & Biases</a> (<a href='https://wandb.me/run' target=\"_blank\">docs</a>)<br/>"
            ]
          },
          "metadata": {}
        },
        {
          "output_type": "display_data",
          "data": {
            "text/plain": [
              "<IPython.core.display.HTML object>"
            ],
            "text/html": [
              " View project at <a href='https://wandb.ai/sephmard/lineage-example' target=\"_blank\">https://wandb.ai/sephmard/lineage-example</a>"
            ]
          },
          "metadata": {}
        },
        {
          "output_type": "display_data",
          "data": {
            "text/plain": [
              "<IPython.core.display.HTML object>"
            ],
            "text/html": [
              " View run at <a href='https://wandb.ai/sephmard/lineage-example/runs/0i20epp8' target=\"_blank\">https://wandb.ai/sephmard/lineage-example/runs/0i20epp8</a>"
            ]
          },
          "metadata": {}
        },
        {
          "output_type": "display_data",
          "data": {
            "text/plain": [
              "VBox(children=(Label(value='1.332 MB of 1.353 MB uploaded (1.143 MB deduped)\\r'), FloatProgress(value=0.984460…"
            ],
            "application/vnd.jupyter.widget-view+json": {
              "version_major": 2,
              "version_minor": 0,
              "model_id": "35290546c8df4e4eb864ac7fcc020068"
            }
          },
          "metadata": {}
        },
        {
          "output_type": "display_data",
          "data": {
            "text/plain": [
              "<IPython.core.display.HTML object>"
            ],
            "text/html": [
              "W&B sync reduced upload amount by 84.5%"
            ]
          },
          "metadata": {}
        },
        {
          "output_type": "display_data",
          "data": {
            "text/plain": [
              "<IPython.core.display.HTML object>"
            ],
            "text/html": [
              " View run <strong style=\"color:#cdcd00\">stellar-pyramid-20</strong> at: <a href='https://wandb.ai/sephmard/lineage-example/runs/0i20epp8' target=\"_blank\">https://wandb.ai/sephmard/lineage-example/runs/0i20epp8</a><br/> View project at: <a href='https://wandb.ai/sephmard/lineage-example' target=\"_blank\">https://wandb.ai/sephmard/lineage-example</a><br/>Synced 4 W&B file(s), 0 media file(s), 13 artifact file(s) and 1 other file(s)"
            ]
          },
          "metadata": {}
        },
        {
          "output_type": "display_data",
          "data": {
            "text/plain": [
              "<IPython.core.display.HTML object>"
            ],
            "text/html": [
              "Find logs at: <code>./wandb/run-20240820_122542-0i20epp8/logs</code>"
            ]
          },
          "metadata": {}
        },
        {
          "output_type": "display_data",
          "data": {
            "text/plain": [
              "<IPython.core.display.HTML object>"
            ],
            "text/html": [
              "The new W&B backend becomes opt-out in version 0.18.0; try it out with `wandb.require(\"core\")`! See https://wandb.me/wandb-core for more information."
            ]
          },
          "metadata": {}
        },
        {
          "output_type": "display_data",
          "data": {
            "text/plain": [
              "<IPython.core.display.HTML object>"
            ],
            "text/html": [
              "Tracking run with wandb version 0.17.7"
            ]
          },
          "metadata": {}
        },
        {
          "output_type": "display_data",
          "data": {
            "text/plain": [
              "<IPython.core.display.HTML object>"
            ],
            "text/html": [
              "Run data is saved locally in <code>/content/wandb/run-20240820_122554-d3n6cnwr</code>"
            ]
          },
          "metadata": {}
        },
        {
          "output_type": "display_data",
          "data": {
            "text/plain": [
              "<IPython.core.display.HTML object>"
            ],
            "text/html": [
              "Syncing run <strong><a href='https://wandb.ai/sephmard/lineage-example/runs/d3n6cnwr' target=\"_blank\">silver-breeze-21</a></strong> to <a href='https://wandb.ai/sephmard/lineage-example' target=\"_blank\">Weights & Biases</a> (<a href='https://wandb.me/run' target=\"_blank\">docs</a>)<br/>"
            ]
          },
          "metadata": {}
        },
        {
          "output_type": "display_data",
          "data": {
            "text/plain": [
              "<IPython.core.display.HTML object>"
            ],
            "text/html": [
              " View project at <a href='https://wandb.ai/sephmard/lineage-example' target=\"_blank\">https://wandb.ai/sephmard/lineage-example</a>"
            ]
          },
          "metadata": {}
        },
        {
          "output_type": "display_data",
          "data": {
            "text/plain": [
              "<IPython.core.display.HTML object>"
            ],
            "text/html": [
              " View run at <a href='https://wandb.ai/sephmard/lineage-example/runs/d3n6cnwr' target=\"_blank\">https://wandb.ai/sephmard/lineage-example/runs/d3n6cnwr</a>"
            ]
          },
          "metadata": {}
        },
        {
          "output_type": "display_data",
          "data": {
            "text/plain": [
              "VBox(children=(Label(value='1.362 MB of 1.362 MB uploaded (1.143 MB deduped)\\r'), FloatProgress(value=1.0, max…"
            ],
            "application/vnd.jupyter.widget-view+json": {
              "version_major": 2,
              "version_minor": 0,
              "model_id": "8268f6f2b0794868aaade8659c13bb78"
            }
          },
          "metadata": {}
        },
        {
          "output_type": "display_data",
          "data": {
            "text/plain": [
              "<IPython.core.display.HTML object>"
            ],
            "text/html": [
              "W&B sync reduced upload amount by 84.0%"
            ]
          },
          "metadata": {}
        },
        {
          "output_type": "display_data",
          "data": {
            "text/plain": [
              "<IPython.core.display.HTML object>"
            ],
            "text/html": [
              " View run <strong style=\"color:#cdcd00\">silver-breeze-21</strong> at: <a href='https://wandb.ai/sephmard/lineage-example/runs/d3n6cnwr' target=\"_blank\">https://wandb.ai/sephmard/lineage-example/runs/d3n6cnwr</a><br/> View project at: <a href='https://wandb.ai/sephmard/lineage-example' target=\"_blank\">https://wandb.ai/sephmard/lineage-example</a><br/>Synced 4 W&B file(s), 0 media file(s), 13 artifact file(s) and 1 other file(s)"
            ]
          },
          "metadata": {}
        },
        {
          "output_type": "display_data",
          "data": {
            "text/plain": [
              "<IPython.core.display.HTML object>"
            ],
            "text/html": [
              "Find logs at: <code>./wandb/run-20240820_122554-d3n6cnwr/logs</code>"
            ]
          },
          "metadata": {}
        },
        {
          "output_type": "display_data",
          "data": {
            "text/plain": [
              "<IPython.core.display.HTML object>"
            ],
            "text/html": [
              "The new W&B backend becomes opt-out in version 0.18.0; try it out with `wandb.require(\"core\")`! See https://wandb.me/wandb-core for more information."
            ]
          },
          "metadata": {}
        },
        {
          "output_type": "display_data",
          "data": {
            "text/plain": [
              "<IPython.core.display.HTML object>"
            ],
            "text/html": [
              "Tracking run with wandb version 0.17.7"
            ]
          },
          "metadata": {}
        },
        {
          "output_type": "display_data",
          "data": {
            "text/plain": [
              "<IPython.core.display.HTML object>"
            ],
            "text/html": [
              "Run data is saved locally in <code>/content/wandb/run-20240820_122609-inodeosl</code>"
            ]
          },
          "metadata": {}
        },
        {
          "output_type": "display_data",
          "data": {
            "text/plain": [
              "<IPython.core.display.HTML object>"
            ],
            "text/html": [
              "Syncing run <strong><a href='https://wandb.ai/sephmard/lineage-example/runs/inodeosl' target=\"_blank\">glamorous-wildflower-22</a></strong> to <a href='https://wandb.ai/sephmard/lineage-example' target=\"_blank\">Weights & Biases</a> (<a href='https://wandb.me/run' target=\"_blank\">docs</a>)<br/>"
            ]
          },
          "metadata": {}
        },
        {
          "output_type": "display_data",
          "data": {
            "text/plain": [
              "<IPython.core.display.HTML object>"
            ],
            "text/html": [
              " View project at <a href='https://wandb.ai/sephmard/lineage-example' target=\"_blank\">https://wandb.ai/sephmard/lineage-example</a>"
            ]
          },
          "metadata": {}
        },
        {
          "output_type": "display_data",
          "data": {
            "text/plain": [
              "<IPython.core.display.HTML object>"
            ],
            "text/html": [
              " View run at <a href='https://wandb.ai/sephmard/lineage-example/runs/inodeosl' target=\"_blank\">https://wandb.ai/sephmard/lineage-example/runs/inodeosl</a>"
            ]
          },
          "metadata": {}
        },
        {
          "output_type": "display_data",
          "data": {
            "text/plain": [
              "VBox(children=(Label(value='1.350 MB of 1.371 MB uploaded (1.143 MB deduped)\\r'), FloatProgress(value=0.984660…"
            ],
            "application/vnd.jupyter.widget-view+json": {
              "version_major": 2,
              "version_minor": 0,
              "model_id": "950645eac0b84098814f8949a9a3d20b"
            }
          },
          "metadata": {}
        },
        {
          "output_type": "display_data",
          "data": {
            "text/plain": [
              "<IPython.core.display.HTML object>"
            ],
            "text/html": [
              "W&B sync reduced upload amount by 83.4%"
            ]
          },
          "metadata": {}
        },
        {
          "output_type": "display_data",
          "data": {
            "text/plain": [
              "<IPython.core.display.HTML object>"
            ],
            "text/html": [
              " View run <strong style=\"color:#cdcd00\">glamorous-wildflower-22</strong> at: <a href='https://wandb.ai/sephmard/lineage-example/runs/inodeosl' target=\"_blank\">https://wandb.ai/sephmard/lineage-example/runs/inodeosl</a><br/> View project at: <a href='https://wandb.ai/sephmard/lineage-example' target=\"_blank\">https://wandb.ai/sephmard/lineage-example</a><br/>Synced 4 W&B file(s), 0 media file(s), 13 artifact file(s) and 1 other file(s)"
            ]
          },
          "metadata": {}
        },
        {
          "output_type": "display_data",
          "data": {
            "text/plain": [
              "<IPython.core.display.HTML object>"
            ],
            "text/html": [
              "Find logs at: <code>./wandb/run-20240820_122609-inodeosl/logs</code>"
            ]
          },
          "metadata": {}
        },
        {
          "output_type": "display_data",
          "data": {
            "text/plain": [
              "<IPython.core.display.HTML object>"
            ],
            "text/html": [
              "The new W&B backend becomes opt-out in version 0.18.0; try it out with `wandb.require(\"core\")`! See https://wandb.me/wandb-core for more information."
            ]
          },
          "metadata": {}
        },
        {
          "output_type": "display_data",
          "data": {
            "text/plain": [
              "<IPython.core.display.HTML object>"
            ],
            "text/html": [
              "Tracking run with wandb version 0.17.7"
            ]
          },
          "metadata": {}
        },
        {
          "output_type": "display_data",
          "data": {
            "text/plain": [
              "<IPython.core.display.HTML object>"
            ],
            "text/html": [
              "Run data is saved locally in <code>/content/wandb/run-20240820_122621-ppjoiaap</code>"
            ]
          },
          "metadata": {}
        },
        {
          "output_type": "display_data",
          "data": {
            "text/plain": [
              "<IPython.core.display.HTML object>"
            ],
            "text/html": [
              "Syncing run <strong><a href='https://wandb.ai/sephmard/lineage-example/runs/ppjoiaap' target=\"_blank\">resilient-water-23</a></strong> to <a href='https://wandb.ai/sephmard/lineage-example' target=\"_blank\">Weights & Biases</a> (<a href='https://wandb.me/run' target=\"_blank\">docs</a>)<br/>"
            ]
          },
          "metadata": {}
        },
        {
          "output_type": "display_data",
          "data": {
            "text/plain": [
              "<IPython.core.display.HTML object>"
            ],
            "text/html": [
              " View project at <a href='https://wandb.ai/sephmard/lineage-example' target=\"_blank\">https://wandb.ai/sephmard/lineage-example</a>"
            ]
          },
          "metadata": {}
        },
        {
          "output_type": "display_data",
          "data": {
            "text/plain": [
              "<IPython.core.display.HTML object>"
            ],
            "text/html": [
              " View run at <a href='https://wandb.ai/sephmard/lineage-example/runs/ppjoiaap' target=\"_blank\">https://wandb.ai/sephmard/lineage-example/runs/ppjoiaap</a>"
            ]
          },
          "metadata": {}
        },
        {
          "output_type": "display_data",
          "data": {
            "text/plain": [
              "VBox(children=(Label(value='1.359 MB of 1.369 MB uploaded (1.143 MB deduped)\\r'), FloatProgress(value=0.992793…"
            ],
            "application/vnd.jupyter.widget-view+json": {
              "version_major": 2,
              "version_minor": 0,
              "model_id": "bfbc44bc22cd4b2588ad9affd274bcd5"
            }
          },
          "metadata": {}
        },
        {
          "output_type": "display_data",
          "data": {
            "text/plain": [
              "<IPython.core.display.HTML object>"
            ],
            "text/html": [
              "W&B sync reduced upload amount by 82.9%"
            ]
          },
          "metadata": {}
        },
        {
          "output_type": "display_data",
          "data": {
            "text/plain": [
              "<IPython.core.display.HTML object>"
            ],
            "text/html": [
              " View run <strong style=\"color:#cdcd00\">resilient-water-23</strong> at: <a href='https://wandb.ai/sephmard/lineage-example/runs/ppjoiaap' target=\"_blank\">https://wandb.ai/sephmard/lineage-example/runs/ppjoiaap</a><br/> View project at: <a href='https://wandb.ai/sephmard/lineage-example' target=\"_blank\">https://wandb.ai/sephmard/lineage-example</a><br/>Synced 4 W&B file(s), 0 media file(s), 13 artifact file(s) and 1 other file(s)"
            ]
          },
          "metadata": {}
        },
        {
          "output_type": "display_data",
          "data": {
            "text/plain": [
              "<IPython.core.display.HTML object>"
            ],
            "text/html": [
              "Find logs at: <code>./wandb/run-20240820_122621-ppjoiaap/logs</code>"
            ]
          },
          "metadata": {}
        },
        {
          "output_type": "display_data",
          "data": {
            "text/plain": [
              "<IPython.core.display.HTML object>"
            ],
            "text/html": [
              "The new W&B backend becomes opt-out in version 0.18.0; try it out with `wandb.require(\"core\")`! See https://wandb.me/wandb-core for more information."
            ]
          },
          "metadata": {}
        },
        {
          "output_type": "display_data",
          "data": {
            "text/plain": [
              "<IPython.core.display.HTML object>"
            ],
            "text/html": [
              "Tracking run with wandb version 0.17.7"
            ]
          },
          "metadata": {}
        },
        {
          "output_type": "display_data",
          "data": {
            "text/plain": [
              "<IPython.core.display.HTML object>"
            ],
            "text/html": [
              "Run data is saved locally in <code>/content/wandb/run-20240820_122632-6fz111w4</code>"
            ]
          },
          "metadata": {}
        },
        {
          "output_type": "display_data",
          "data": {
            "text/plain": [
              "<IPython.core.display.HTML object>"
            ],
            "text/html": [
              "Syncing run <strong><a href='https://wandb.ai/sephmard/lineage-example/runs/6fz111w4' target=\"_blank\">effortless-sound-24</a></strong> to <a href='https://wandb.ai/sephmard/lineage-example' target=\"_blank\">Weights & Biases</a> (<a href='https://wandb.me/run' target=\"_blank\">docs</a>)<br/>"
            ]
          },
          "metadata": {}
        },
        {
          "output_type": "display_data",
          "data": {
            "text/plain": [
              "<IPython.core.display.HTML object>"
            ],
            "text/html": [
              " View project at <a href='https://wandb.ai/sephmard/lineage-example' target=\"_blank\">https://wandb.ai/sephmard/lineage-example</a>"
            ]
          },
          "metadata": {}
        },
        {
          "output_type": "display_data",
          "data": {
            "text/plain": [
              "<IPython.core.display.HTML object>"
            ],
            "text/html": [
              " View run at <a href='https://wandb.ai/sephmard/lineage-example/runs/6fz111w4' target=\"_blank\">https://wandb.ai/sephmard/lineage-example/runs/6fz111w4</a>"
            ]
          },
          "metadata": {}
        },
        {
          "output_type": "display_data",
          "data": {
            "text/plain": [
              "VBox(children=(Label(value='0.612 MB of 0.633 MB uploaded (0.387 MB deduped)\\r'), FloatProgress(value=0.966773…"
            ],
            "application/vnd.jupyter.widget-view+json": {
              "version_major": 2,
              "version_minor": 0,
              "model_id": "f35c7db3c8424e33ad01ea9570ae44ee"
            }
          },
          "metadata": {}
        },
        {
          "output_type": "display_data",
          "data": {
            "text/plain": [
              "<IPython.core.display.HTML object>"
            ],
            "text/html": [
              "W&B sync reduced upload amount by 61.2%"
            ]
          },
          "metadata": {}
        },
        {
          "output_type": "display_data",
          "data": {
            "text/plain": [
              "<IPython.core.display.HTML object>"
            ],
            "text/html": [
              " View run <strong style=\"color:#cdcd00\">effortless-sound-24</strong> at: <a href='https://wandb.ai/sephmard/lineage-example/runs/6fz111w4' target=\"_blank\">https://wandb.ai/sephmard/lineage-example/runs/6fz111w4</a><br/> View project at: <a href='https://wandb.ai/sephmard/lineage-example' target=\"_blank\">https://wandb.ai/sephmard/lineage-example</a><br/>Synced 4 W&B file(s), 0 media file(s), 7 artifact file(s) and 1 other file(s)"
            ]
          },
          "metadata": {}
        },
        {
          "output_type": "display_data",
          "data": {
            "text/plain": [
              "<IPython.core.display.HTML object>"
            ],
            "text/html": [
              "Find logs at: <code>./wandb/run-20240820_122632-6fz111w4/logs</code>"
            ]
          },
          "metadata": {}
        },
        {
          "output_type": "display_data",
          "data": {
            "text/plain": [
              "<IPython.core.display.HTML object>"
            ],
            "text/html": [
              "The new W&B backend becomes opt-out in version 0.18.0; try it out with `wandb.require(\"core\")`! See https://wandb.me/wandb-core for more information."
            ]
          },
          "metadata": {}
        }
      ],
      "source": [
        "#@title ## Log Runs { run: \"auto\", display-mode: \"form\" }\n",
        "#@markdown If this is your first time here, consider running the setup code for a better docs experience!\n",
        "#@markdown If you have run the setup code before, you can uncheck the box below to avoid unnecessary logging.\n",
        "\n",
        "LOG_DUMMY_RUNS = True #@param {type: \"boolean\"}\n",
        "\n",
        "\n",
        "import requests\n",
        "from PIL import Image\n",
        "from io import BytesIO\n",
        "import wandb\n",
        "import pandas as pd\n",
        "from itertools import product\n",
        "import random\n",
        "import math\n",
        "\n",
        "import wandb\n",
        "import random\n",
        "import string\n",
        "\n",
        "ENTITY = wandb.apis.PublicApi().default_entity\n",
        "PROJECT = \"report-api-quickstart\" #@param {type: \"string\"}\n",
        "LINEAGE_PROJECT = \"lineage-example\" #@param {type: \"string\"}\n",
        "\n",
        "\n",
        "def get_image(url):\n",
        "    r = requests.get(url)\n",
        "    return Image.open(BytesIO(r.content))\n",
        "\n",
        "\n",
        "def log_dummy_data():\n",
        "    run_names = [\n",
        "        \"adventurous-aardvark-1\",\n",
        "        \"bountiful-badger-2\",\n",
        "        \"clairvoyant-chipmunk-3\",\n",
        "        \"dastardly-duck-4\",\n",
        "        \"eloquent-elephant-5\",\n",
        "        \"flippant-flamingo-6\",\n",
        "        \"giddy-giraffe-7\",\n",
        "        \"haughty-hippo-8\",\n",
        "        \"ignorant-iguana-9\",\n",
        "        \"jolly-jackal-10\",\n",
        "        \"kind-koala-11\",\n",
        "        \"laughing-lemur-12\",\n",
        "        \"manic-mandrill-13\",\n",
        "        \"neighbourly-narwhal-14\",\n",
        "        \"oblivious-octopus-15\",\n",
        "        \"philistine-platypus-16\",\n",
        "        \"quant-quail-17\",\n",
        "        \"rowdy-rhino-18\",\n",
        "        \"solid-snake-19\",\n",
        "        \"timid-tarantula-20\",\n",
        "        \"understanding-unicorn-21\",\n",
        "        \"voracious-vulture-22\",\n",
        "        \"wu-tang-23\",\n",
        "        \"xenic-xerneas-24\",\n",
        "        \"yielding-yveltal-25\",\n",
        "        \"zooming-zygarde-26\",\n",
        "    ]\n",
        "\n",
        "    opts = [\"adam\", \"sgd\"]\n",
        "    encoders = [\"resnet18\", \"resnet50\"]\n",
        "    learning_rates = [0.01]\n",
        "    for (i, run_name), (opt, encoder, lr) in zip(\n",
        "        enumerate(run_names), product(opts, encoders, learning_rates)\n",
        "    ):\n",
        "        config = {\n",
        "            \"optimizer\": opt,\n",
        "            \"encoder\": encoder,\n",
        "            \"learning_rate\": lr,\n",
        "            \"momentum\": 0.1 * random.random(),\n",
        "        }\n",
        "        displacement1 = random.random() * 2\n",
        "        displacement2 = random.random() * 4\n",
        "        with wandb.init(\n",
        "            entity=ENTITY, project=PROJECT, config=config, name=run_name\n",
        "        ) as run:\n",
        "            for step in range(1000):\n",
        "                wandb.log(\n",
        "                    {\n",
        "                        \"acc\": 0.1\n",
        "                        + 0.4\n",
        "                        * (\n",
        "                            math.log(1 + step + random.random())\n",
        "                            + random.random() * run.config.learning_rate\n",
        "                            + random.random()\n",
        "                            + displacement1\n",
        "                            + random.random() * run.config.momentum\n",
        "                        ),\n",
        "                        \"val_acc\": 0.1\n",
        "                        + 0.4\n",
        "                        * (\n",
        "                            math.log(1 + step + random.random())\n",
        "                            + random.random() * run.config.learning_rate\n",
        "                            - random.random()\n",
        "                            + displacement1\n",
        "                        ),\n",
        "                        \"loss\": 0.1\n",
        "                        + 0.08\n",
        "                        * (\n",
        "                            3.5\n",
        "                            - math.log(1 + step + random.random())\n",
        "                            + random.random() * run.config.momentum\n",
        "                            + random.random()\n",
        "                            + displacement2\n",
        "                        ),\n",
        "                        \"val_loss\": 0.1\n",
        "                        + 0.04\n",
        "                        * (\n",
        "                            4.5\n",
        "                            - math.log(1 + step + random.random())\n",
        "                            + random.random() * run.config.learning_rate\n",
        "                            - random.random()\n",
        "                            + displacement2\n",
        "                        ),\n",
        "                    }\n",
        "                )\n",
        "\n",
        "    with wandb.init(\n",
        "        entity=ENTITY, project=PROJECT, config=config, name=run_names[i + 1]\n",
        "    ) as run:\n",
        "        img = get_image(\n",
        "            \"https://www.akc.org/wp-content/uploads/2017/11/Shiba-Inu-standing-in-profile-outdoors.jpg\"\n",
        "        )\n",
        "        image = wandb.Image(img)\n",
        "        df = pd.DataFrame(\n",
        "            {\n",
        "                \"int\": [1, 2, 3, 4],\n",
        "                \"float\": [1.2, 2.3, 3.4, 4.5],\n",
        "                \"str\": [\"a\", \"b\", \"c\", \"d\"],\n",
        "                \"img\": [image] * 4,\n",
        "            }\n",
        "        )\n",
        "        run.log({\"img\": image, \"my-table\": df})\n",
        "\n",
        "\n",
        "class Step:\n",
        "    def __init__(self, j, r, u, o, at=None):\n",
        "        self.job_type = j\n",
        "        self.runs = r\n",
        "        self.uses_per_run = u\n",
        "        self.outputs_per_run = o\n",
        "        self.artifact_type = at if at is not None else \"model\"\n",
        "        self.artifacts = []\n",
        "\n",
        "\n",
        "def create_artifact(name: str, type: str, content: str):\n",
        "    art = wandb.Artifact(name, type)\n",
        "    with open(\"boom.txt\", \"w\") as f:\n",
        "        f.write(content)\n",
        "    art.add_file(\"boom.txt\", \"test-name\")\n",
        "\n",
        "    img = get_image(\n",
        "        \"https://www.akc.org/wp-content/uploads/2017/11/Shiba-Inu-standing-in-profile-outdoors.jpg\"\n",
        "    )\n",
        "    image = wandb.Image(img)\n",
        "    df = pd.DataFrame(\n",
        "        {\n",
        "            \"int\": [1, 2, 3, 4],\n",
        "            \"float\": [1.2, 2.3, 3.4, 4.5],\n",
        "            \"str\": [\"a\", \"b\", \"c\", \"d\"],\n",
        "            \"img\": [image] * 4,\n",
        "        }\n",
        "    )\n",
        "    art.add(wandb.Table(dataframe=df), \"dataframe\")\n",
        "    return art\n",
        "\n",
        "\n",
        "def log_dummy_lineage():\n",
        "    pipeline = [\n",
        "        Step(\"dataset-generator\", 1, 0, 3, \"dataset\"),\n",
        "        Step(\"trainer\", 4, (1, 2), 3),\n",
        "        Step(\"evaluator\", 2, 1, 3),\n",
        "        Step(\"ensemble\", 1, 1, 1),\n",
        "    ]\n",
        "    for (i, step) in enumerate(pipeline):\n",
        "        for _ in range(step.runs):\n",
        "            with wandb.init(project=LINEAGE_PROJECT, job_type=step.job_type) as run:\n",
        "                # use\n",
        "                uses = step.uses_per_run\n",
        "                if type(uses) == tuple:\n",
        "                    uses = random.choice(list(uses))\n",
        "\n",
        "                if i > 0:\n",
        "                    prev_step = pipeline[i - 1]\n",
        "                    input_artifacts = random.sample(prev_step.artifacts, uses)\n",
        "                    for a in input_artifacts:\n",
        "                        run.use_artifact(a)\n",
        "                # log output artifacts\n",
        "                for j in range(step.outputs_per_run):\n",
        "                    # name = ''.join(random.choices(string.ascii_lowercase + string.digits, k=6))\n",
        "                    name = f\"{step.artifact_type}-{j}\"\n",
        "                    content = \"\".join(\n",
        "                        random.choices(string.ascii_lowercase + string.digits, k=12)\n",
        "                    )\n",
        "                    art = create_artifact(name, step.artifact_type, content)\n",
        "                    run.log_artifact(art)\n",
        "                    art.wait()\n",
        "\n",
        "                    # save in pipeline\n",
        "                    step.artifacts.append(art)\n",
        "\n",
        "if LOG_DUMMY_RUNS:\n",
        "  log_dummy_data()\n",
        "  log_dummy_lineage()"
      ]
    },
    {
      "cell_type": "markdown",
      "metadata": {
        "id": "4tqli7A_7NDP"
      },
      "source": [
        "\n",
        "# 🚀 Quickstart! <a id='quickstart'></a>"
      ]
    },
    {
      "cell_type": "code",
      "execution_count": 4,
      "metadata": {
        "id": "EmDzg3wS7NDP"
      },
      "outputs": [],
      "source": [
        "import wandb_workspaces.reports.v2 as wr"
      ]
    },
    {
      "cell_type": "markdown",
      "metadata": {
        "id": "eheAid__7NDP"
      },
      "source": [
        "## Create, save, and load reports\n",
        "- NOTE: Reports are not saved automatically to reduce clutter.  Explicitly save the report by calling `report.save()`"
      ]
    },
    {
      "cell_type": "code",
      "execution_count": 5,
      "metadata": {
        "colab": {
          "base_uri": "https://localhost:8080/",
          "height": 1000
        },
        "id": "RVlOoOaK7NDP",
        "outputId": "115209ff-1571-4f2e-b6ae-5dd4d7f2087e"
      },
      "outputs": [
        {
          "output_type": "stream",
          "name": "stderr",
          "text": [
            "\u001b[34m\u001b[1mwandb\u001b[0m: Saved report to: https://wandb.ai/sephmard/report-api-quickstart/reports/Quickstart-Report--Vmlldzo5MDkxNTA5\n"
          ]
        },
        {
          "output_type": "execute_result",
          "data": {
            "text/plain": [
              "Report(project='report-api-quickstart', entity='sephmard', title='Quickstart Report', width='readable', description='That was easy!', id='Vmlldzo5MDkxNTA5')"
            ],
            "text/html": [
              "<iframe src='https://wandb.ai/sephmard/report-api-quickstart/reports/Quickstart-Report--Vmlldzo5MDkxNTA5?jupyter=true' style='border:none;width:100%;height:1024px;'></iframe>"
            ]
          },
          "metadata": {},
          "execution_count": 5
        }
      ],
      "source": [
        "report = wr.Report(\n",
        "    project=PROJECT,\n",
        "    title='Quickstart Report',\n",
        "    description=\"That was easy!\"\n",
        ")                                 # Create\n",
        "report.save()                     # Save\n",
        "wr.Report.from_url(report.url)    # Load"
      ]
    },
    {
      "cell_type": "markdown",
      "metadata": {
        "id": "d3M7hocj7NDP"
      },
      "source": [
        "## Add content via blocks\n",
        "- Use blocks to add content like text, images, code, and more\n",
        "- See `wr.blocks` for all available blocks"
      ]
    },
    {
      "cell_type": "code",
      "execution_count": 6,
      "metadata": {
        "colab": {
          "base_uri": "https://localhost:8080/",
          "height": 1000
        },
        "id": "ZaSE1j897NDP",
        "outputId": "b16a523a-0870-45b3-920f-1c8ff785592f"
      },
      "outputs": [
        {
          "output_type": "stream",
          "name": "stderr",
          "text": [
            "\u001b[34m\u001b[1mwandb\u001b[0m: Saved report to: https://wandb.ai/sephmard/report-api-quickstart/reports/Quickstart-Report--Vmlldzo5MDkxNTA5\n"
          ]
        },
        {
          "output_type": "execute_result",
          "data": {
            "text/plain": [
              "Report(project='report-api-quickstart', entity='sephmard', title='Quickstart Report', width='readable', description='That was easy!', blocks=[TableOfContents(), H1(text='Text and images example'), P(text='Lorem ipsum dolor sit amet. Aut laborum perspiciatis sit odit omnis aut aliquam voluptatibus ut rerum molestiae sed assumenda nulla ut minus illo sit sunt explicabo? Sed quia architecto est voluptatem magni sit molestiae dolores. Non animi repellendus ea enim internos et iste itaque quo labore mollitia aut omnis totam.'), Image(url='https://api.wandb.ai/files/telidavies/images/projects/831572/8ad61fd1.png', caption='Craiyon generated images'), P(text='Et voluptatem galisum quo facilis sequi quo suscipit sunt sed iste iure! Est voluptas adipisci et doloribus commodi ab tempore numquam qui tempora adipisci. Eum sapiente cupiditate ut natus aliquid sit dolor consequatur?')], id='Vmlldzo5MDkxNTA5')"
            ],
            "text/html": [
              "<iframe src='https://wandb.ai/sephmard/report-api-quickstart/reports/Quickstart-Report--Vmlldzo5MDkxNTA5?jupyter=true' style='border:none;width:100%;height:1024px;'></iframe>"
            ]
          },
          "metadata": {},
          "execution_count": 6
        }
      ],
      "source": [
        "report.blocks = [\n",
        "    wr.TableOfContents(),\n",
        "    wr.H1(\"Text and images example\"),\n",
        "    wr.P(\"Lorem ipsum dolor sit amet. Aut laborum perspiciatis sit odit omnis aut aliquam voluptatibus ut rerum molestiae sed assumenda nulla ut minus illo sit sunt explicabo? Sed quia architecto est voluptatem magni sit molestiae dolores. Non animi repellendus ea enim internos et iste itaque quo labore mollitia aut omnis totam.\"),\n",
        "    wr.Image('https://api.wandb.ai/files/telidavies/images/projects/831572/8ad61fd1.png', caption='Craiyon generated images'),\n",
        "    wr.P(\"Et voluptatem galisum quo facilis sequi quo suscipit sunt sed iste iure! Est voluptas adipisci et doloribus commodi ab tempore numquam qui tempora adipisci. Eum sapiente cupiditate ut natus aliquid sit dolor consequatur?\"),\n",
        "]\n",
        "report.save()"
      ]
    },
    {
      "cell_type": "markdown",
      "metadata": {
        "id": "bMNTXROu7NDQ"
      },
      "source": [
        "## Add charts and more via Panel Grid\n",
        "- `PanelGrid` is a special type of block that holds `runsets` and `panels`\n",
        "  - `runsets` organize data logged to W&B\n",
        "  - `panels` visualize runset data.  For a full set of panels, see `wr.panels`"
      ]
    },
    {
      "cell_type": "code",
      "execution_count": 7,
      "metadata": {
        "colab": {
          "base_uri": "https://localhost:8080/",
          "height": 1000
        },
        "id": "2lpA3H4R7NDQ",
        "outputId": "62697d31-0093-43df-a53b-2a0fdc1e685e"
      },
      "outputs": [
        {
          "output_type": "stream",
          "name": "stderr",
          "text": [
            "\u001b[34m\u001b[1mwandb\u001b[0m: Saved report to: https://wandb.ai/sephmard/report-api-quickstart/reports/Quickstart-Report--Vmlldzo5MDkxNTA5\n"
          ]
        },
        {
          "output_type": "execute_result",
          "data": {
            "text/plain": [
              "Report(project='report-api-quickstart', entity='sephmard', title='Quickstart Report', width='readable', description='That was easy!', blocks=[TableOfContents(), H1(text='Panel Grid Example'), PanelGrid(runsets=[Runset(entity='sephmard', project='report-api-quickstart', name='First Run Set', order=[OrderBy(name='CreatedTimestamp', ascending=False)]), Runset(entity='sephmard', project='report-api-quickstart', name='Elephants Only!', query='elephant', order=[OrderBy(name='CreatedTimestamp', ascending=False)])], panels=[LinePlot(x='Step', y=['val_acc'], smoothing_factor=0.8, layout=Layout(x=0, y=0, w=8, h=6)), BarPlot(metrics=['acc'], orientation='h', layout=Layout(x=8, y=0, w=8, h=6)), MediaBrowser(num_columns=1, media_keys=['img'], layout=Layout(x=16, y=0, w=8, h=6)), RunComparer(diff_only='split', layout=Layout(x=0, y=6, w=24, h=9))], active_runset=0), H1(text='Text and images example'), P(text='Lorem ipsum dolor sit amet. Aut laborum perspiciatis sit odit omnis aut aliquam voluptatibus ut rerum molestiae sed assumenda nulla ut minus illo sit sunt explicabo? Sed quia architecto est voluptatem magni sit molestiae dolores. Non animi repellendus ea enim internos et iste itaque quo labore mollitia aut omnis totam.'), Image(url='https://api.wandb.ai/files/telidavies/images/projects/831572/8ad61fd1.png', caption='Craiyon generated images'), P(text='Et voluptatem galisum quo facilis sequi quo suscipit sunt sed iste iure! Est voluptas adipisci et doloribus commodi ab tempore numquam qui tempora adipisci. Eum sapiente cupiditate ut natus aliquid sit dolor consequatur?')], id='Vmlldzo5MDkxNTA5')"
            ],
            "text/html": [
              "<iframe src='https://wandb.ai/sephmard/report-api-quickstart/reports/Quickstart-Report--Vmlldzo5MDkxNTA5?jupyter=true' style='border:none;width:100%;height:1024px;'></iframe>"
            ]
          },
          "metadata": {},
          "execution_count": 7
        }
      ],
      "source": [
        "pg = wr.PanelGrid(\n",
        "    runsets=[\n",
        "        wr.Runset(ENTITY, PROJECT, \"First Run Set\"),\n",
        "        wr.Runset(ENTITY, PROJECT, \"Elephants Only!\", query=\"elephant\"),\n",
        "    ],\n",
        "    panels=[\n",
        "        wr.LinePlot(x='Step', y=['val_acc'], smoothing_factor=0.8),\n",
        "        wr.BarPlot(metrics=['acc']),\n",
        "        wr.MediaBrowser(media_keys=['img'], num_columns=1),  # Note: media_keys as a list\n",
        "        wr.RunComparer(diff_only='split', layout={'w': 24, 'h': 9}),\n",
        "    ]\n",
        ")\n",
        "\n",
        "report.blocks = report.blocks[:1] + [wr.H1(\"Panel Grid Example\"), pg] + report.blocks[1:]\n",
        "report.save()"
      ]
    },
    {
      "cell_type": "markdown",
      "metadata": {
        "id": "fbtBNA5k7NDQ"
      },
      "source": [
        "## Add data lineage with Artifact blocks\n",
        "- There are equivalent weave panels as well"
      ]
    },
    {
      "cell_type": "code",
      "execution_count": 8,
      "metadata": {
        "colab": {
          "base_uri": "https://localhost:8080/",
          "height": 1000
        },
        "id": "rI-kgZpU7NDQ",
        "outputId": "fcd16e5b-d6b1-470c-c01d-ee032cfc2d8c"
      },
      "outputs": [
        {
          "output_type": "stream",
          "name": "stderr",
          "text": [
            "\u001b[34m\u001b[1mwandb\u001b[0m: Saved report to: https://wandb.ai/sephmard/report-api-quickstart/reports/Quickstart-Report--Vmlldzo5MDkxNTA5\n"
          ]
        },
        {
          "output_type": "execute_result",
          "data": {
            "text/plain": [
              "Report(project='report-api-quickstart', entity='sephmard', title='Quickstart Report', width='readable', description='That was easy!', blocks=[TableOfContents(), H1(text='Artifact lineage example'), WeaveBlockArtifact(entity='sephmard', project='lineage-example', artifact='model-1', tab='lineage'), H1(text='Panel Grid Example'), PanelGrid(runsets=[Runset(entity='sephmard', project='report-api-quickstart', name='First Run Set', order=[OrderBy(name='CreatedTimestamp', ascending=False)]), Runset(entity='sephmard', project='report-api-quickstart', name='Elephants Only!', query='elephant', order=[OrderBy(name='CreatedTimestamp', ascending=False)])], panels=[LinePlot(x='Step', y=['val_acc'], smoothing_factor=0.8, layout=Layout(x=0, y=0, w=8, h=6)), BarPlot(metrics=['acc'], orientation='h', layout=Layout(x=8, y=0, w=8, h=6)), MediaBrowser(num_columns=1, media_keys=['img'], layout=Layout(x=16, y=0, w=8, h=6)), RunComparer(diff_only='split', layout=Layout(x=0, y=6, w=24, h=9))], active_runset=0), H1(text='Text and images example'), P(text='Lorem ipsum dolor sit amet. Aut laborum perspiciatis sit odit omnis aut aliquam voluptatibus ut rerum molestiae sed assumenda nulla ut minus illo sit sunt explicabo? Sed quia architecto est voluptatem magni sit molestiae dolores. Non animi repellendus ea enim internos et iste itaque quo labore mollitia aut omnis totam.'), Image(url='https://api.wandb.ai/files/telidavies/images/projects/831572/8ad61fd1.png', caption='Craiyon generated images'), P(text='Et voluptatem galisum quo facilis sequi quo suscipit sunt sed iste iure! Est voluptas adipisci et doloribus commodi ab tempore numquam qui tempora adipisci. Eum sapiente cupiditate ut natus aliquid sit dolor consequatur?')], id='Vmlldzo5MDkxNTA5')"
            ],
            "text/html": [
              "<iframe src='https://wandb.ai/sephmard/report-api-quickstart/reports/Quickstart-Report--Vmlldzo5MDkxNTA5?jupyter=true' style='border:none;width:100%;height:1024px;'></iframe>"
            ]
          },
          "metadata": {},
          "execution_count": 8
        }
      ],
      "source": [
        "artifact_lineage = wr.WeaveBlockArtifact(entity=ENTITY, project=LINEAGE_PROJECT, artifact='model-1', tab='lineage')\n",
        "\n",
        "report.blocks = report.blocks[:1] + [wr.H1(\"Artifact lineage example\"), artifact_lineage] + report.blocks[1:]\n",
        "report.save()"
      ]
    },
    {
      "cell_type": "markdown",
      "metadata": {
        "id": "b2mMLGUK7NDQ"
      },
      "source": [
        "## Customize run colors\n",
        "- Pass in a `dict[run_name, color]`"
      ]
    },
    {
      "cell_type": "code",
      "execution_count": 9,
      "metadata": {
        "colab": {
          "base_uri": "https://localhost:8080/",
          "height": 1000
        },
        "id": "kE72SArq7NDQ",
        "outputId": "c59950f7-8db6-4de9-84db-a2d596a2d997"
      },
      "outputs": [
        {
          "output_type": "stream",
          "name": "stderr",
          "text": [
            "\u001b[34m\u001b[1mwandb\u001b[0m: Saved report to: https://wandb.ai/sephmard/report-api-quickstart/reports/Quickstart-Report--Vmlldzo5MDkxNTA5\n"
          ]
        },
        {
          "output_type": "execute_result",
          "data": {
            "text/plain": [
              "Report(project='report-api-quickstart', entity='sephmard', title='Quickstart Report', width='readable', description='That was easy!', blocks=[TableOfContents(), H1(text='Artifact lineage example'), WeaveBlockArtifact(entity='sephmard', project='lineage-example', artifact='model-1', tab='lineage'), H1(text='Panel Grid Example'), PanelGrid(runsets=[Runset(entity='sephmard', project='report-api-quickstart', name='First Run Set', order=[OrderBy(name='CreatedTimestamp', ascending=False)]), Runset(entity='sephmard', project='report-api-quickstart', name='Elephants Only!', query='elephant', order=[OrderBy(name='CreatedTimestamp', ascending=False)])], panels=[LinePlot(x='Step', y=['val_acc'], smoothing_factor=0.8, layout=Layout(x=0, y=0, w=8, h=6)), BarPlot(metrics=['acc'], orientation='h', layout=Layout(x=8, y=0, w=8, h=6)), MediaBrowser(num_columns=1, media_keys=['img'], layout=Layout(x=16, y=0, w=8, h=6)), RunComparer(diff_only='split', layout=Layout(x=0, y=6, w=24, h=9))], active_runset=0, custom_run_colors={'adventurous-aardvark-1': '#e84118', 'bountiful-badger-2': '#fbc531', 'clairvoyant-chipmunk-3': '#4cd137', 'dastardly-duck-4': '#00a8ff', 'eloquent-elephant-5': '#9c88ff'}), H1(text='Text and images example'), P(text='Lorem ipsum dolor sit amet. Aut laborum perspiciatis sit odit omnis aut aliquam voluptatibus ut rerum molestiae sed assumenda nulla ut minus illo sit sunt explicabo? Sed quia architecto est voluptatem magni sit molestiae dolores. Non animi repellendus ea enim internos et iste itaque quo labore mollitia aut omnis totam.'), Image(url='https://api.wandb.ai/files/telidavies/images/projects/831572/8ad61fd1.png', caption='Craiyon generated images'), P(text='Et voluptatem galisum quo facilis sequi quo suscipit sunt sed iste iure! Est voluptas adipisci et doloribus commodi ab tempore numquam qui tempora adipisci. Eum sapiente cupiditate ut natus aliquid sit dolor consequatur?')], id='Vmlldzo5MDkxNTA5')"
            ],
            "text/html": [
              "<iframe src='https://wandb.ai/sephmard/report-api-quickstart/reports/Quickstart-Report--Vmlldzo5MDkxNTA5?jupyter=true' style='border:none;width:100%;height:1024px;'></iframe>"
            ]
          },
          "metadata": {},
          "execution_count": 9
        }
      ],
      "source": [
        "pg.custom_run_colors = {\n",
        "  'adventurous-aardvark-1': '#e84118',\n",
        "  'bountiful-badger-2':     '#fbc531',\n",
        "  'clairvoyant-chipmunk-3': '#4cd137',\n",
        "  'dastardly-duck-4':       '#00a8ff',\n",
        "  'eloquent-elephant-5':    '#9c88ff',\n",
        "}\n",
        "report.save()"
      ]
    },
    {
      "cell_type": "markdown",
      "metadata": {
        "id": "WGp-6c9m7NDQ"
      },
      "source": [
        "## Customize group colors\n",
        "- Pass in a `dict[ordertuple, color]`, where `ordertuple: tuple[runset_name, *groupby_values]`\n",
        "- For example:\n",
        "  - Your runset is named `MyRunset`\n",
        "  - Your runset groupby is `[\"encoder\", \"optimizer\"]`\n",
        "  - Then your tuple can be `(\"MyRunset\", \"resnet18\", \"adam\")`"
      ]
    },
    {
      "cell_type": "code",
      "execution_count": 11,
      "metadata": {
        "colab": {
          "base_uri": "https://localhost:8080/",
          "height": 1000
        },
        "id": "QtL2U_f67NDQ",
        "outputId": "8710b04f-4844-42de-c55d-075cd5547c34"
      },
      "outputs": [
        {
          "output_type": "stream",
          "name": "stderr",
          "text": [
            "\u001b[34m\u001b[1mwandb\u001b[0m: Saved report to: https://wandb.ai/sephmard/report-api-quickstart/reports/Quickstart-Report--Vmlldzo5MDkxNTA5\n"
          ]
        },
        {
          "output_type": "execute_result",
          "data": {
            "text/plain": [
              "Report(project='report-api-quickstart', entity='sephmard', title='Quickstart Report', width='readable', description='That was easy!', blocks=[TableOfContents(), H1(text='Artifact lineage example'), WeaveBlockArtifact(entity='sephmard', project='lineage-example', artifact='model-1', tab='lineage'), H1(text='Panel Grid Example'), PanelGrid(runsets=[Runset(entity='sephmard', project='report-api-quickstart', name='First Run Set', order=[OrderBy(name='CreatedTimestamp', ascending=False)]), Runset(entity='sephmard', project='report-api-quickstart', name='Elephants Only!', query='elephant', order=[OrderBy(name='CreatedTimestamp', ascending=False)])], panels=[LinePlot(x='Step', y=['val_acc'], smoothing_factor=0.8, layout=Layout(x=0, y=0, w=8, h=6)), BarPlot(metrics=['acc'], orientation='h', layout=Layout(x=8, y=0, w=8, h=6)), MediaBrowser(num_columns=1, media_keys=['img'], layout=Layout(x=16, y=0, w=8, h=6)), RunComparer(diff_only='split', layout=Layout(x=0, y=6, w=24, h=9))], active_runset=0, custom_run_colors={RunsetGroup(runset_name='Grouping', keys=(RunsetGroupKey(key='encoder', value='resnet50'),)): 'red', RunsetGroup(runset_name='Grouping', keys=(RunsetGroupKey(key='encoder', value='resnet18'),)): 'blue', 'adventurous-aardvark-1': '#e84118', 'bountiful-badger-2': '#fbc531', 'clairvoyant-chipmunk-3': '#4cd137', 'dastardly-duck-4': '#00a8ff', 'eloquent-elephant-5': '#9c88ff'}), H1(text='Text and images example'), P(text='Lorem ipsum dolor sit amet. Aut laborum perspiciatis sit odit omnis aut aliquam voluptatibus ut rerum molestiae sed assumenda nulla ut minus illo sit sunt explicabo? Sed quia architecto est voluptatem magni sit molestiae dolores. Non animi repellendus ea enim internos et iste itaque quo labore mollitia aut omnis totam.'), Image(url='https://api.wandb.ai/files/telidavies/images/projects/831572/8ad61fd1.png', caption='Craiyon generated images'), P(text='Et voluptatem galisum quo facilis sequi quo suscipit sunt sed iste iure! Est voluptas adipisci et doloribus commodi ab tempore numquam qui tempora adipisci. Eum sapiente cupiditate ut natus aliquid sit dolor consequatur?')], id='Vmlldzo5MDkxNTA5')"
            ],
            "text/html": [
              "<iframe src='https://wandb.ai/sephmard/report-api-quickstart/reports/Quickstart-Report--Vmlldzo5MDkxNTA5?jupyter=true' style='border:none;width:100%;height:1024px;'></iframe>"
            ]
          },
          "metadata": {},
          "execution_count": 11
        }
      ],
      "source": [
        "pg.custom_run_colors = {\n",
        "    wr.RunsetGroup(runset_name='Grouping', keys=[wr.RunsetGroupKey(key=\"encoder\", value='resnet50')]): 'red',\n",
        "    wr.RunsetGroup(runset_name='Grouping', keys=[wr.RunsetGroupKey(key=\"encoder\", value='resnet18')]): 'blue',\n",
        "\n",
        "    # Ungrouped run colors\n",
        "    'adventurous-aardvark-1': '#e84118',\n",
        "    'bountiful-badger-2':     '#fbc531',\n",
        "    'clairvoyant-chipmunk-3': '#4cd137',\n",
        "    'dastardly-duck-4':       '#00a8ff',\n",
        "    'eloquent-elephant-5':    '#9c88ff',\n",
        "}\n",
        "\n",
        "# Save the report\n",
        "report.save()"
      ]
    },
    {
      "cell_type": "markdown",
      "metadata": {
        "id": "pqu2LPgz7NDQ"
      },
      "source": [
        "# ❓ FAQ <a id='faq'></a>"
      ]
    },
    {
      "cell_type": "markdown",
      "metadata": {
        "id": "JoqlTYR77NDQ"
      },
      "source": [
        "## My chart is not rendering as expected.\n",
        "- We try to guess the column type, but sometimes we fail.\n",
        "- Try prefixing:\n",
        "  - `c::` for config values\n",
        "  - `s::` for summary metrics\n",
        "  - e.g. if your config value was `optimizer`, try `c::optimizer`"
      ]
    },
    {
      "cell_type": "markdown",
      "metadata": {
        "id": "c--gAdKg7NDQ"
      },
      "source": [
        "## My report is too wide/narrow\n",
        "- Change the report's width to the right size for you."
      ]
    },
    {
      "cell_type": "code",
      "execution_count": 12,
      "metadata": {
        "colab": {
          "base_uri": "https://localhost:8080/",
          "height": 1000
        },
        "id": "RQrUg8E17NDQ",
        "outputId": "aa5e8c7b-ddf6-4ebf-b9a9-5583014eef9d"
      },
      "outputs": [
        {
          "output_type": "stream",
          "name": "stderr",
          "text": [
            "\u001b[34m\u001b[1mwandb\u001b[0m: Saved report to: https://wandb.ai/sephmard/report-api-quickstart/reports/Quickstart-Report--Vmlldzo5MDkxNjA5\n",
            "\u001b[34m\u001b[1mwandb\u001b[0m: Saved report to: https://wandb.ai/sephmard/report-api-quickstart/reports/Quickstart-Report--Vmlldzo5MDkxNjA5\n"
          ]
        },
        {
          "output_type": "execute_result",
          "data": {
            "text/plain": [
              "Report(project='report-api-quickstart', entity='sephmard', title='Quickstart Report', width='fluid', description='That was easy!', blocks=[TableOfContents(), H1(text='Artifact lineage example'), WeaveBlockArtifact(entity='sephmard', project='lineage-example', artifact='model-1', tab='lineage'), H1(text='Panel Grid Example'), PanelGrid(runsets=[Runset(entity='sephmard', project='report-api-quickstart', name='First Run Set', order=[OrderBy(name='CreatedTimestamp', ascending=False)]), Runset(entity='sephmard', project='report-api-quickstart', name='Elephants Only!', query='elephant', order=[OrderBy(name='CreatedTimestamp', ascending=False)])], panels=[LinePlot(x='Step', y=['val_acc'], smoothing_factor=0.8, layout=Layout(x=0, y=0, w=8, h=6)), BarPlot(metrics=['acc'], orientation='h', layout=Layout(x=8, y=0, w=8, h=6)), MediaBrowser(num_columns=1, media_keys=['img'], layout=Layout(x=16, y=0, w=8, h=6)), RunComparer(diff_only='split', layout=Layout(x=0, y=6, w=24, h=9))], active_runset=0, custom_run_colors={RunsetGroup(runset_name='Grouping', keys=(RunsetGroupKey(key='encoder', value='resnet50'),)): 'red', RunsetGroup(runset_name='Grouping', keys=(RunsetGroupKey(key='encoder', value='resnet18'),)): 'blue', 'adventurous-aardvark-1': '#e84118', 'bountiful-badger-2': '#fbc531', 'clairvoyant-chipmunk-3': '#4cd137', 'dastardly-duck-4': '#00a8ff', 'eloquent-elephant-5': '#9c88ff'}), H1(text='Text and images example'), P(text='Lorem ipsum dolor sit amet. Aut laborum perspiciatis sit odit omnis aut aliquam voluptatibus ut rerum molestiae sed assumenda nulla ut minus illo sit sunt explicabo? Sed quia architecto est voluptatem magni sit molestiae dolores. Non animi repellendus ea enim internos et iste itaque quo labore mollitia aut omnis totam.'), Image(url='https://api.wandb.ai/files/telidavies/images/projects/831572/8ad61fd1.png', caption='Craiyon generated images'), P(text='Et voluptatem galisum quo facilis sequi quo suscipit sunt sed iste iure! Est voluptas adipisci et doloribus commodi ab tempore numquam qui tempora adipisci. Eum sapiente cupiditate ut natus aliquid sit dolor consequatur?')], id='Vmlldzo5MDkxNjA5')"
            ],
            "text/html": [
              "<iframe src='https://wandb.ai/sephmard/report-api-quickstart/reports/Quickstart-Report--Vmlldzo5MDkxNjA5?jupyter=true' style='border:none;width:100%;height:1024px;'></iframe>"
            ]
          },
          "metadata": {},
          "execution_count": 12
        }
      ],
      "source": [
        "report2 = report.save(clone=True)\n",
        "report2.width = 'fluid'\n",
        "report2.save()"
      ]
    },
    {
      "cell_type": "markdown",
      "metadata": {
        "id": "ZBRQ0-Np7NDQ"
      },
      "source": [
        "## How do I resize panels?\n",
        "- Pass a `dict[dim, int]` to `panel.layout`\n",
        "- `dim` is a dimension, which can be `x`, `y` (the coordiantes of the top left corner) `w`, `h` (the size of the panel)\n",
        "- You can pass any or all dimensions at once\n",
        "- The space between two dots in a panel grid is 2."
      ]
    },
    {
      "cell_type": "code",
      "execution_count": 13,
      "metadata": {
        "colab": {
          "base_uri": "https://localhost:8080/",
          "height": 1000
        },
        "id": "83rhYSSD7NDQ",
        "outputId": "c86d10a4-1fea-4ef4-e2c9-483cd65e112b"
      },
      "outputs": [
        {
          "output_type": "stream",
          "name": "stderr",
          "text": [
            "\u001b[34m\u001b[1mwandb\u001b[0m: Saved report to: https://wandb.ai/sephmard/report-api-quickstart/reports/Resizing-panels--Vmlldzo5MDkxNjE2\n"
          ]
        },
        {
          "output_type": "execute_result",
          "data": {
            "text/plain": [
              "Report(project='report-api-quickstart', entity='sephmard', title='Resizing panels', width='readable', description='Look at this wide parallel coordinates plot!', blocks=[PanelGrid(runsets=[Runset(name='Run set', order=[OrderBy(name='CreatedTimestamp', ascending=False)])], panels=[ParallelCoordinatesPlot(columns=[ParallelCoordinatesPlotColumn(metric='Step'), ParallelCoordinatesPlotColumn(metric='c::model'), ParallelCoordinatesPlotColumn(metric='c::optimizer'), ParallelCoordinatesPlotColumn(metric='Step'), ParallelCoordinatesPlotColumn(metric='val_acc'), ParallelCoordinatesPlotColumn(metric='val_loss')], layout=Layout(x=0, y=0, w=24, h=9))], active_runset=0)], id='Vmlldzo5MDkxNjE2')"
            ],
            "text/html": [
              "<iframe src='https://wandb.ai/sephmard/report-api-quickstart/reports/Resizing-panels--Vmlldzo5MDkxNjE2?jupyter=true' style='border:none;width:100%;height:1024px;'></iframe>"
            ]
          },
          "metadata": {},
          "execution_count": 13
        }
      ],
      "source": [
        "import wandb_workspaces.reports.v2 as wr\n",
        "\n",
        "# Define your report with updated parameters and structure\n",
        "report = wr.Report(\n",
        "    project=PROJECT,\n",
        "    title=\"Resizing panels\",\n",
        "    description=\"Look at this wide parallel coordinates plot!\",\n",
        "    blocks=[\n",
        "        wr.PanelGrid(\n",
        "            panels=[\n",
        "                wr.ParallelCoordinatesPlot(\n",
        "                    columns=[\n",
        "                        wr.ParallelCoordinatesPlotColumn(metric=\"Step\"),\n",
        "                        wr.ParallelCoordinatesPlotColumn(metric=\"c::model\"),\n",
        "                        wr.ParallelCoordinatesPlotColumn(metric=\"c::optimizer\"),\n",
        "                        wr.ParallelCoordinatesPlotColumn(metric=\"Step\"),\n",
        "                        wr.ParallelCoordinatesPlotColumn(metric=\"val_acc\"),\n",
        "                        wr.ParallelCoordinatesPlotColumn(metric=\"val_loss\"),\n",
        "                    ],\n",
        "                    layout=wr.Layout(w=24, h=9)  # Adjusting the layout for the plot size\n",
        "                ),\n",
        "            ]\n",
        "        )\n",
        "    ]\n",
        ")\n",
        "\n",
        "# Save the report\n",
        "report.save()\n"
      ]
    },
    {
      "cell_type": "markdown",
      "metadata": {
        "id": "qQTtzZ9r7NDQ"
      },
      "source": [
        "## What blocks are available?\n",
        "- See `wr.blocks` for a list of blocks.\n",
        "- In an IDE or notebook, you can also do `wr.blocks.<tab>` to get autocomplete."
      ]
    },
    {
      "cell_type": "code",
      "execution_count": 22,
      "metadata": {
        "colab": {
          "base_uri": "https://localhost:8080/",
          "height": 1000
        },
        "id": "valQfFTQ7NDQ",
        "outputId": "0aa910c4-ba0c-4a0a-8a2b-6591f93a3ae2"
      },
      "outputs": [
        {
          "output_type": "stream",
          "name": "stderr",
          "text": [
            "\u001b[34m\u001b[1mwandb\u001b[0m: Saved report to: https://wandb.ai/sephmard/report-api-quickstart/reports/W&B-Block-Gallery--Vmlldzo5MDkxNzE1\n"
          ]
        },
        {
          "output_type": "execute_result",
          "data": {
            "text/plain": [
              "Report(project='report-api-quickstart', entity='sephmard', title='W&B Block Gallery', width='readable', description='Check out all of the blocks available in W&B', blocks=[H1(text='Heading 1'), P(text='Normal paragraph'), H2(text='Heading 2'), P(text=['here is some text, followed by', InlineCode(text='select * from code in line'), 'and then latex', InlineLatex(text='e=mc^2')]), H3(text='Heading 3'), CodeBlock(code='this:\\n- is\\n- a\\ncool:\\n- yaml\\n- file', language='yaml'), WeaveBlockSummaryTable(entity='sephmard', project='report-api-quickstart', table_name='my-table'), WeaveBlockArtifact(entity='sephmard', project='lineage-example', artifact='model-1', tab='lineage'), WeaveBlockArtifactVersionedFile(entity='sephmard', project='lineage-example', artifact='model-1', version='v0', file='dataframe.table.json'), MarkdownBlock(text='Markdown cell with *italics* and **bold** and $e=mc^2$'), LatexBlock(text='\\\\gamma^2+\\\\theta^2=\\\\omega^2\\n\\\\\\\\ a^2 + b^2 = c^2'), Image(url='https://api.wandb.ai/files/megatruong/images/projects/918598/350382db.gif', caption=\"It's a me, Pikachu\"), UnorderedList(items=['Bullet 1', 'Bullet 2']), OrderedList(items=['Ordered 1', 'Ordered 2']), CheckedList(items=[CheckedListItem(text='Unchecked', checked=False), CheckedListItem(text='Checked', checked=True)]), BlockQuote(text='Block Quote 1\\nBlock Quote 2\\nBlock Quote 3'), CalloutBlock(text='Callout 1\\nCallout 2\\nCallout 3'), HorizontalRule(), Video(url='https://www.youtube.com/embed/6riDJMI-Y8U')], id='Vmlldzo5MDkxNzE1')"
            ],
            "text/html": [
              "<iframe src='https://wandb.ai/sephmard/report-api-quickstart/reports/W&B-Block-Gallery--Vmlldzo5MDkxNzE1?jupyter=true' style='border:none;width:100%;height:1024px;'></iframe>"
            ]
          },
          "metadata": {},
          "execution_count": 22
        }
      ],
      "source": [
        "report = wr.Report(\n",
        "    project=PROJECT,\n",
        "    title='W&B Block Gallery',\n",
        "    description=\"Check out all of the blocks available in W&B\",\n",
        "    blocks=[\n",
        "        wr.H1(text=\"Heading 1\"),\n",
        "        wr.P(text=\"Normal paragraph\"),\n",
        "        wr.H2(text=\"Heading 2\"),\n",
        "        wr.P(\n",
        "            text=[\n",
        "                \"here is some text, followed by\",\n",
        "                wr.InlineCode(text=\"select * from code in line\"),\n",
        "                \"and then latex\",\n",
        "                wr.InlineLatex(text=\"e=mc^2\"),\n",
        "            ]\n",
        "        ),\n",
        "        wr.H3(text=\"Heading 3\"),\n",
        "        wr.CodeBlock(\n",
        "            code=\"this:\\n- is\\n- a\\ncool:\\n- yaml\\n- file\",\n",
        "            language=\"yaml\",\n",
        "        ),\n",
        "        wr.WeaveBlockSummaryTable(\n",
        "            entity=ENTITY,\n",
        "            project=PROJECT,\n",
        "            table_name='my-table'\n",
        "        ),\n",
        "        wr.WeaveBlockArtifact(\n",
        "            entity=ENTITY,\n",
        "            project=LINEAGE_PROJECT,\n",
        "            artifact='model-1',\n",
        "            tab='lineage'\n",
        "        ),\n",
        "        wr.WeaveBlockArtifactVersionedFile(\n",
        "            entity=ENTITY,\n",
        "            project=LINEAGE_PROJECT,\n",
        "            artifact='model-1',\n",
        "            version='v0',\n",
        "            file=\"dataframe.table.json\"\n",
        "        ),\n",
        "        wr.MarkdownBlock(text=\"Markdown cell with *italics* and **bold** and $e=mc^2$\"),\n",
        "        wr.LatexBlock(text=\"\\\\gamma^2+\\\\theta^2=\\\\omega^2\\n\\\\\\\\ a^2 + b^2 = c^2\"),\n",
        "        wr.Image(url=\"https://api.wandb.ai/files/megatruong/images/projects/918598/350382db.gif\", caption=\"It's a me, Pikachu\"),\n",
        "        wr.UnorderedList(items=[\"Bullet 1\", \"Bullet 2\"]),\n",
        "        wr.OrderedList(items=[\"Ordered 1\", \"Ordered 2\"]),\n",
        "        wr.CheckedList(items=[\n",
        "            wr.CheckedListItem(text=\"Unchecked\", checked=False),\n",
        "            wr.CheckedListItem(text=\"Checked\", checked=True)\n",
        "        ]),\n",
        "        wr.BlockQuote(text=\"Block Quote 1\\nBlock Quote 2\\nBlock Quote 3\"),\n",
        "        wr.CalloutBlock(text=\"Callout 1\\nCallout 2\\nCallout 3\"),\n",
        "        wr.HorizontalRule(),\n",
        "        wr.Video(url=\"https://www.youtube.com/embed/6riDJMI-Y8U\"),\n",
        "    ]\n",
        ")\n",
        "\n",
        "# Save the report\n",
        "report.save()\n"
      ]
    },
    {
      "cell_type": "markdown",
      "metadata": {
        "id": "-koIg4Dp7NDQ"
      },
      "source": [
        "## What panels are available?\n",
        "- See `wr.panels` for a list of panels\n",
        "- In an IDE or notebook, you can also do `wr.panels.<tab>` to get autocomplete.\n",
        "- Panels have a lot of settings.  Inspect the panel to see what you can do!"
      ]
    },
    {
      "cell_type": "code",
      "execution_count": 27,
      "metadata": {
        "colab": {
          "base_uri": "https://localhost:8080/",
          "height": 436
        },
        "id": "E95cCJQK7NDQ",
        "outputId": "b05e7fd6-bb52-4e7d-da9d-932ac5a53d7a"
      },
      "outputs": [
        {
          "output_type": "error",
          "ename": "ValidationError",
          "evalue": "2 validation errors for WeaveBlockSummaryTable\nentity\n  Field required [type=missing, input_value=ArgsKwargs((), {'table_name': 'my-table'}), input_type=ArgsKwargs]\n    For further information visit https://errors.pydantic.dev/2.8/v/missing\nproject\n  Field required [type=missing, input_value=ArgsKwargs((), {'table_name': 'my-table'}), input_type=ArgsKwargs]\n    For further information visit https://errors.pydantic.dev/2.8/v/missing",
          "traceback": [
            "\u001b[0;31m---------------------------------------------------------------------------\u001b[0m",
            "\u001b[0;31mValidationError\u001b[0m                           Traceback (most recent call last)",
            "\u001b[0;32m<ipython-input-27-0636af8dbbe3>\u001b[0m in \u001b[0;36m<cell line: 3>\u001b[0;34m()\u001b[0m\n\u001b[1;32m     87\u001b[0m                     \u001b[0mchart_fields\u001b[0m\u001b[0;34m=\u001b[0m\u001b[0;34m{\u001b[0m\u001b[0;34m'x'\u001b[0m\u001b[0;34m:\u001b[0m \u001b[0;34m'val_loss'\u001b[0m\u001b[0;34m,\u001b[0m \u001b[0;34m'y'\u001b[0m\u001b[0;34m:\u001b[0m \u001b[0;34m'val_acc'\u001b[0m\u001b[0;34m}\u001b[0m\u001b[0;34m\u001b[0m\u001b[0;34m\u001b[0m\u001b[0m\n\u001b[1;32m     88\u001b[0m                 ),\n\u001b[0;32m---> 89\u001b[0;31m                 \u001b[0mwr\u001b[0m\u001b[0;34m.\u001b[0m\u001b[0mWeaveBlockSummaryTable\u001b[0m\u001b[0;34m(\u001b[0m\u001b[0mtable_name\u001b[0m\u001b[0;34m=\u001b[0m\u001b[0;34m\"my-table\"\u001b[0m\u001b[0;34m)\u001b[0m\u001b[0;34m,\u001b[0m\u001b[0;34m\u001b[0m\u001b[0;34m\u001b[0m\u001b[0m\n\u001b[0m\u001b[1;32m     90\u001b[0m                 \u001b[0mwr\u001b[0m\u001b[0;34m.\u001b[0m\u001b[0mWeaveBlockArtifact\u001b[0m\u001b[0;34m(\u001b[0m\u001b[0martifact\u001b[0m\u001b[0;34m=\u001b[0m\u001b[0;34m'model-1'\u001b[0m\u001b[0;34m,\u001b[0m \u001b[0mtab\u001b[0m\u001b[0;34m=\u001b[0m\u001b[0;34m'lineage'\u001b[0m\u001b[0;34m)\u001b[0m\u001b[0;34m,\u001b[0m\u001b[0;34m\u001b[0m\u001b[0;34m\u001b[0m\u001b[0m\n\u001b[1;32m     91\u001b[0m                 \u001b[0mwr\u001b[0m\u001b[0;34m.\u001b[0m\u001b[0mWeaveBlockArtifactVersionedFile\u001b[0m\u001b[0;34m(\u001b[0m\u001b[0martifact\u001b[0m\u001b[0;34m=\u001b[0m\u001b[0;34m'model-1'\u001b[0m\u001b[0;34m,\u001b[0m \u001b[0mversion\u001b[0m\u001b[0;34m=\u001b[0m\u001b[0;34m'v0'\u001b[0m\u001b[0;34m,\u001b[0m \u001b[0mfile\u001b[0m\u001b[0;34m=\u001b[0m\u001b[0;34m\"dataframe.table.json\"\u001b[0m\u001b[0;34m)\u001b[0m\u001b[0;34m,\u001b[0m\u001b[0;34m\u001b[0m\u001b[0;34m\u001b[0m\u001b[0m\n",
            "\u001b[0;32m/usr/local/lib/python3.10/dist-packages/pydantic/_internal/_dataclasses.py\u001b[0m in \u001b[0;36m__init__\u001b[0;34m(__dataclass_self__, *args, **kwargs)\u001b[0m\n\u001b[1;32m    139\u001b[0m         \u001b[0m__tracebackhide__\u001b[0m \u001b[0;34m=\u001b[0m \u001b[0;32mTrue\u001b[0m\u001b[0;34m\u001b[0m\u001b[0;34m\u001b[0m\u001b[0m\n\u001b[1;32m    140\u001b[0m         \u001b[0ms\u001b[0m \u001b[0;34m=\u001b[0m \u001b[0m__dataclass_self__\u001b[0m\u001b[0;34m\u001b[0m\u001b[0;34m\u001b[0m\u001b[0m\n\u001b[0;32m--> 141\u001b[0;31m         \u001b[0ms\u001b[0m\u001b[0;34m.\u001b[0m\u001b[0m__pydantic_validator__\u001b[0m\u001b[0;34m.\u001b[0m\u001b[0mvalidate_python\u001b[0m\u001b[0;34m(\u001b[0m\u001b[0mArgsKwargs\u001b[0m\u001b[0;34m(\u001b[0m\u001b[0margs\u001b[0m\u001b[0;34m,\u001b[0m \u001b[0mkwargs\u001b[0m\u001b[0;34m)\u001b[0m\u001b[0;34m,\u001b[0m \u001b[0mself_instance\u001b[0m\u001b[0;34m=\u001b[0m\u001b[0ms\u001b[0m\u001b[0;34m)\u001b[0m\u001b[0;34m\u001b[0m\u001b[0;34m\u001b[0m\u001b[0m\n\u001b[0m\u001b[1;32m    142\u001b[0m \u001b[0;34m\u001b[0m\u001b[0m\n\u001b[1;32m    143\u001b[0m     \u001b[0m__init__\u001b[0m\u001b[0;34m.\u001b[0m\u001b[0m__qualname__\u001b[0m \u001b[0;34m=\u001b[0m \u001b[0;34mf'{cls.__qualname__}.__init__'\u001b[0m\u001b[0;34m\u001b[0m\u001b[0;34m\u001b[0m\u001b[0m\n",
            "\u001b[0;31mValidationError\u001b[0m: 2 validation errors for WeaveBlockSummaryTable\nentity\n  Field required [type=missing, input_value=ArgsKwargs((), {'table_name': 'my-table'}), input_type=ArgsKwargs]\n    For further information visit https://errors.pydantic.dev/2.8/v/missing\nproject\n  Field required [type=missing, input_value=ArgsKwargs((), {'table_name': 'my-table'}), input_type=ArgsKwargs]\n    For further information visit https://errors.pydantic.dev/2.8/v/missing"
          ]
        }
      ],
      "source": [
        "import wandb_workspaces.reports.v2 as wr\n",
        "\n",
        "report = wr.Report(\n",
        "    project=PROJECT,\n",
        "    title='W&B Panel Gallery',\n",
        "    description=\"Check out all of the panels available in W&B\",\n",
        "    width='fluid',\n",
        "    blocks=[\n",
        "        wr.PanelGrid(\n",
        "            runsets=[\n",
        "                wr.Runset(project=LINEAGE_PROJECT),\n",
        "                wr.Runset(),\n",
        "            ],\n",
        "            panels=[\n",
        "                wr.MediaBrowser(media_keys=[\"img\"]),\n",
        "                wr.MarkdownPanel(markdown=\"Hello *italic* **bold** $e=mc^2$ `something`\"),\n",
        "\n",
        "                # LinePlot with various settings enabled\n",
        "                wr.LinePlot(\n",
        "                    title=\"Validation Accuracy over Time\",\n",
        "                    x=\"Step\",\n",
        "                    y=[\"val_acc\"],\n",
        "                    range_x=(0, 1000),\n",
        "                    range_y=(1, 4),\n",
        "                    log_x=True,\n",
        "                    log_y=False,\n",
        "                    title_x=\"Training steps\",\n",
        "                    title_y=\"Validation Accuracy\",\n",
        "                    ignore_outliers=True,\n",
        "                    groupby='encoder',\n",
        "                    groupby_aggfunc=\"mean\",  # Use string directly\n",
        "                    groupby_rangefunc=\"minmax\",  # Use string directly\n",
        "                    smoothing_factor=0.5,\n",
        "                    smoothing_type=\"gaussian\",  # Use string directly\n",
        "                    smoothing_show_original=True,\n",
        "                    max_runs_to_show=10,\n",
        "                    font_size=\"large\",  # Use string directly\n",
        "                    legend_position=\"west\",  # Use string directly\n",
        "                ),\n",
        "                wr.ScatterPlot(\n",
        "                    title=\"Validation Accuracy vs. Validation Loss\",\n",
        "                    x=\"val_acc\",\n",
        "                    y=\"val_loss\",\n",
        "                    log_x=False,\n",
        "                    log_y=False,\n",
        "                    running_ymin=True,\n",
        "                    running_ymean=True,\n",
        "                    running_ymax=True,\n",
        "                    font_size=\"small\",  # Use string directly\n",
        "                    regression=True,\n",
        "                ),\n",
        "                wr.BarPlot(\n",
        "                    title=\"Validation Loss by Encoder\",\n",
        "                    metrics=[\"val_loss\"],\n",
        "                    orientation='h',\n",
        "                    range_x=(0, 0.11),\n",
        "                    title_x=\"Validation Loss\",\n",
        "                    groupby='encoder',\n",
        "                    groupby_aggfunc=\"median\",  # Use string directly\n",
        "                    groupby_rangefunc=\"stddev\",  # Use string directly\n",
        "                    max_runs_to_show=20,\n",
        "                    max_bars_to_show=3,\n",
        "                    font_size=\"auto\",  # Use string directly\n",
        "                ),\n",
        "                wr.ScalarChart(\n",
        "                    title=\"Maximum Number of Steps\",\n",
        "                    metric=\"Step\",\n",
        "                    groupby_aggfunc=\"max\",  # Use string directly\n",
        "                    groupby_rangefunc=\"stderr\",  # Use string directly\n",
        "                    font_size=\"large\",  # Use string directly\n",
        "                ),\n",
        "                wr.CodeComparer(diff=\"split\"),  # Corrected\n",
        "                wr.ParallelCoordinatesPlot(\n",
        "                    columns=[\n",
        "                        wr.ParallelCoordinatesPlotColumn(\"Step\"),\n",
        "                        wr.ParallelCoordinatesPlotColumn(\"c::model\"),\n",
        "                        wr.ParallelCoordinatesPlotColumn(\"c::optimizer\"),\n",
        "                        wr.ParallelCoordinatesPlotColumn(\"val_acc\"),\n",
        "                        wr.ParallelCoordinatesPlotColumn(\"val_loss\"),\n",
        "                    ],\n",
        "                ),\n",
        "                wr.ParameterImportancePlot(with_respect_to=\"val_loss\"),\n",
        "                wr.RunComparer(diff_only=True),\n",
        "                wr.CustomChart(\n",
        "                    query={'summary': ['val_loss', 'val_acc']},\n",
        "                    chart_name='wandb/scatter/v0',\n",
        "                    chart_fields={'x': 'val_loss', 'y': 'val_acc'}\n",
        "                ),\n",
        "                wr.WeaveBlockSummaryTable(table_name=\"my-table\"),\n",
        "                wr.WeaveBlockArtifact(artifact='model-1', tab='lineage'),\n",
        "                wr.WeaveBlockArtifactVersionedFile(artifact='model-1', version='v0', file=\"dataframe.table.json\"),\n",
        "            ],\n",
        "        ),\n",
        "    ]\n",
        ")\n",
        "report.save()\n"
      ]
    },
    {
      "cell_type": "markdown",
      "metadata": {
        "id": "_ImXrBtN7NDR"
      },
      "source": [
        "## How can I link related reports together?\n",
        "- Suppose have have two reports like below:"
      ]
    },
    {
      "cell_type": "code",
      "execution_count": 31,
      "metadata": {
        "colab": {
          "base_uri": "https://localhost:8080/",
          "height": 384
        },
        "id": "ueOH3zoS7NDR",
        "outputId": "770c2bc0-5e18-407a-c862-ce40e1558c95"
      },
      "outputs": [
        {
          "output_type": "error",
          "ename": "ValidationError",
          "evalue": "1 validation error for MediaBrowser\nmedia_keys\n  Input should be a valid list [type=list_type, input_value='videos', input_type=str]\n    For further information visit https://errors.pydantic.dev/2.8/v/list_type",
          "traceback": [
            "\u001b[0;31m---------------------------------------------------------------------------\u001b[0m",
            "\u001b[0;31mValidationError\u001b[0m                           Traceback (most recent call last)",
            "\u001b[0;32m<ipython-input-31-4382e42bc869>\u001b[0m in \u001b[0;36m<cell line: 1>\u001b[0;34m()\u001b[0m\n\u001b[1;32m      9\u001b[0m             panels=[\n\u001b[1;32m     10\u001b[0m                 \u001b[0mwr\u001b[0m\u001b[0;34m.\u001b[0m\u001b[0mLinePlot\u001b[0m\u001b[0;34m(\u001b[0m\u001b[0mx\u001b[0m\u001b[0;34m=\u001b[0m\u001b[0;34m'global_step'\u001b[0m\u001b[0;34m,\u001b[0m \u001b[0my\u001b[0m\u001b[0;34m=\u001b[0m\u001b[0;34m[\u001b[0m\u001b[0;34m'charts/episodic_return'\u001b[0m\u001b[0;34m]\u001b[0m\u001b[0;34m,\u001b[0m \u001b[0msmoothing_factor\u001b[0m\u001b[0;34m=\u001b[0m\u001b[0;36m0.85\u001b[0m\u001b[0;34m,\u001b[0m \u001b[0mgroupby_aggfunc\u001b[0m\u001b[0;34m=\u001b[0m\u001b[0;34m'mean'\u001b[0m\u001b[0;34m,\u001b[0m \u001b[0mgroupby_rangefunc\u001b[0m\u001b[0;34m=\u001b[0m\u001b[0;34m'minmax'\u001b[0m\u001b[0;34m,\u001b[0m \u001b[0mlayout\u001b[0m\u001b[0;34m=\u001b[0m\u001b[0;34m{\u001b[0m\u001b[0;34m'x'\u001b[0m\u001b[0;34m:\u001b[0m \u001b[0;36m0\u001b[0m\u001b[0;34m,\u001b[0m \u001b[0;34m'y'\u001b[0m\u001b[0;34m:\u001b[0m \u001b[0;36m0\u001b[0m\u001b[0;34m,\u001b[0m \u001b[0;34m'w'\u001b[0m\u001b[0;34m:\u001b[0m \u001b[0;36m12\u001b[0m\u001b[0;34m,\u001b[0m \u001b[0;34m'h'\u001b[0m\u001b[0;34m:\u001b[0m \u001b[0;36m8\u001b[0m\u001b[0;34m}\u001b[0m\u001b[0;34m)\u001b[0m\u001b[0;34m,\u001b[0m\u001b[0;34m\u001b[0m\u001b[0;34m\u001b[0m\u001b[0m\n\u001b[0;32m---> 11\u001b[0;31m                 \u001b[0mwr\u001b[0m\u001b[0;34m.\u001b[0m\u001b[0mMediaBrowser\u001b[0m\u001b[0;34m(\u001b[0m\u001b[0mmedia_keys\u001b[0m\u001b[0;34m=\u001b[0m\u001b[0;34m\"videos\"\u001b[0m\u001b[0;34m,\u001b[0m \u001b[0mnum_columns\u001b[0m\u001b[0;34m=\u001b[0m\u001b[0;36m4\u001b[0m\u001b[0;34m,\u001b[0m \u001b[0mlayout\u001b[0m\u001b[0;34m=\u001b[0m\u001b[0;34m{\u001b[0m\u001b[0;34m'w'\u001b[0m\u001b[0;34m:\u001b[0m \u001b[0;36m12\u001b[0m\u001b[0;34m,\u001b[0m \u001b[0;34m'h'\u001b[0m\u001b[0;34m:\u001b[0m \u001b[0;36m8\u001b[0m\u001b[0;34m}\u001b[0m\u001b[0;34m)\u001b[0m\u001b[0;34m,\u001b[0m\u001b[0;34m\u001b[0m\u001b[0;34m\u001b[0m\u001b[0m\n\u001b[0m\u001b[1;32m     12\u001b[0m             ],\n\u001b[1;32m     13\u001b[0m             runsets=[\n",
            "\u001b[0;32m/usr/local/lib/python3.10/dist-packages/pydantic/_internal/_dataclasses.py\u001b[0m in \u001b[0;36m__init__\u001b[0;34m(__dataclass_self__, *args, **kwargs)\u001b[0m\n\u001b[1;32m    139\u001b[0m         \u001b[0m__tracebackhide__\u001b[0m \u001b[0;34m=\u001b[0m \u001b[0;32mTrue\u001b[0m\u001b[0;34m\u001b[0m\u001b[0;34m\u001b[0m\u001b[0m\n\u001b[1;32m    140\u001b[0m         \u001b[0ms\u001b[0m \u001b[0;34m=\u001b[0m \u001b[0m__dataclass_self__\u001b[0m\u001b[0;34m\u001b[0m\u001b[0;34m\u001b[0m\u001b[0m\n\u001b[0;32m--> 141\u001b[0;31m         \u001b[0ms\u001b[0m\u001b[0;34m.\u001b[0m\u001b[0m__pydantic_validator__\u001b[0m\u001b[0;34m.\u001b[0m\u001b[0mvalidate_python\u001b[0m\u001b[0;34m(\u001b[0m\u001b[0mArgsKwargs\u001b[0m\u001b[0;34m(\u001b[0m\u001b[0margs\u001b[0m\u001b[0;34m,\u001b[0m \u001b[0mkwargs\u001b[0m\u001b[0;34m)\u001b[0m\u001b[0;34m,\u001b[0m \u001b[0mself_instance\u001b[0m\u001b[0;34m=\u001b[0m\u001b[0ms\u001b[0m\u001b[0;34m)\u001b[0m\u001b[0;34m\u001b[0m\u001b[0;34m\u001b[0m\u001b[0m\n\u001b[0m\u001b[1;32m    142\u001b[0m \u001b[0;34m\u001b[0m\u001b[0m\n\u001b[1;32m    143\u001b[0m     \u001b[0m__init__\u001b[0m\u001b[0;34m.\u001b[0m\u001b[0m__qualname__\u001b[0m \u001b[0;34m=\u001b[0m \u001b[0;34mf'{cls.__qualname__}.__init__'\u001b[0m\u001b[0;34m\u001b[0m\u001b[0;34m\u001b[0m\u001b[0m\n",
            "\u001b[0;31mValidationError\u001b[0m: 1 validation error for MediaBrowser\nmedia_keys\n  Input should be a valid list [type=list_type, input_value='videos', input_type=str]\n    For further information visit https://errors.pydantic.dev/2.8/v/list_type"
          ]
        }
      ],
      "source": [
        "report1 = wr.Report(\n",
        "    PROJECT,\n",
        "    title='Report 1',\n",
        "    description=\"Great content coming from Report 1\",\n",
        "    blocks=[\n",
        "        wr.H1('Heading from Report 1'),\n",
        "        wr.P('Lorem ipsum dolor sit amet. Aut fuga minus nam vero saepeA aperiam eum omnis dolorum et ducimus tempore aut illum quis aut alias vero. Sed explicabo illum est eius quianon vitae sed voluptatem incidunt. Vel architecto assumenda Ad voluptatem quo dicta provident et velit officia. Aut galisum inventoreSed dolore a illum adipisci a aliquam quidem sit corporis quia cum magnam similique.'),\n",
        "        wr.PanelGrid(\n",
        "            panels=[\n",
        "                wr.LinePlot(x='global_step', y=['charts/episodic_return'], smoothing_factor=0.85, groupby_aggfunc='mean', groupby_rangefunc='minmax', layout={'x': 0, 'y': 0, 'w': 12, 'h': 8}),\n",
        "                wr.MediaBrowser(media_keys=\"videos\", num_columns=4, layout={'w': 12, 'h': 8}),\n",
        "            ],\n",
        "            runsets=[\n",
        "                wr.Runset(entity='openrlbenchmark', project='cleanrl', query='bigfish', groupby=['env_id', 'exp_name'])\n",
        "            ],\n",
        "            custom_run_colors={\n",
        "                ('Run set', 'bigfish', 'ppg_procgen'): \"#2980b9\",\n",
        "                ('Run set', 'bigfish', 'ppo_procgen'): \"#e74c3c\",\n",
        "            }\n",
        "        ),\n",
        "    ]\n",
        ").save()\n",
        "\n",
        "report2 = wr.Report(\n",
        "    PROJECT,\n",
        "    title='Report 2',\n",
        "    description=\"Great content coming from Report 2\",\n",
        "    blocks=[\n",
        "        wr.H1('Heading from Report 2'),\n",
        "        wr.P('Est quod ducimus ut distinctio corruptiid optio qui cupiditate quibusdam ea corporis modi. Eum architecto vero sed error dignissimosEa repudiandae a recusandae sint ut sint molestiae ea pariatur quae. In pariatur voluptas ad facere neque 33 suscipit et odit nostrum ut internos molestiae est modi enim. Et rerum inventoreAut internos et dolores delectus aut Quis sunt sed nostrum magnam ab dolores dicta.'),\n",
        "        wr.PanelGrid(\n",
        "            panels=[\n",
        "                wr.LinePlot(x='global_step', y=['charts/SPS']),\n",
        "                wr.LinePlot(x='global_step', y=['charts/episodic_length']),\n",
        "                wr.LinePlot(x='global_step', y=['charts/episodic_return']),\n",
        "            ],\n",
        "            runsets=[\n",
        "                wr.Runset(\"openrlbenchmark\", \"cleanrl\", \"DQN\", groupby=[\"exp_name\"]).set_filters_with_python_expr(\"env_id == 'BreakoutNoFrameskip-v4' and exp_name == 'dqn_atari'\"),\n",
        "                wr.Runset(\"openrlbenchmark\", \"cleanrl\", \"SAC-discrete 0.8\", groupby=[\"exp_name\"]).set_filters_with_python_expr(\"env_id == 'BreakoutNoFrameskip-v4' and exp_name == 'sac_atari' and target_entropy_scale == 0.8\"),\n",
        "                wr.Runset(\"openrlbenchmark\", \"cleanrl\", \"SAC-discrete 0.88\", groupby=[\"exp_name\"]).set_filters_with_python_expr(\"env_id == 'BreakoutNoFrameskip-v4' and exp_name == 'sac_atari' and target_entropy_scale == 0.88\"),\n",
        "            ],\n",
        "            custom_run_colors={\n",
        "                ('DQN',               'dqn_atari'): '#e84118',\n",
        "                ('SAC-discrete 0.8',  'sac_atari'): '#fbc531',\n",
        "                ('SAC-discrete 0.88', 'sac_atari'): '#00a8ff',\n",
        "            }\n",
        "        ),\n",
        "    ]\n",
        ").save()"
      ]
    },
    {
      "cell_type": "markdown",
      "metadata": {
        "id": "NOhlK4G47NDR"
      },
      "source": [
        "### Combine blocks into a new report"
      ]
    },
    {
      "cell_type": "code",
      "execution_count": null,
      "metadata": {
        "id": "vfRryyUM7NDR"
      },
      "outputs": [],
      "source": [
        "report = wr.Report(PROJECT,\n",
        "    title=\"Report with links\",\n",
        "    description=\"Use `wr.Link(text, url)` to add links inside normal text, or use normal markdown syntax in a MarkdownBlock\",\n",
        "    blocks=[\n",
        "        wr.H1(\"This is a normal heading\"),\n",
        "        wr.P(\"And here is some normal text\"),\n",
        "\n",
        "        wr.H1([\"This is a heading \", wr.Link(\"with a link!\", url=\"https://wandb.ai/\")]),\n",
        "        wr.P([\"Most text formats support \", wr.Link(\"adding links\", url=\"https://wandb.ai/\")]),\n",
        "\n",
        "        wr.MarkdownBlock(\"\"\"You can also use markdown syntax for [links](https://wandb.ai/)\"\"\")\n",
        "    ]\n",
        ")\n",
        "report.save()"
      ]
    },
    {
      "cell_type": "code",
      "execution_count": null,
      "metadata": {
        "id": "9GWSIsVp7NDU"
      },
      "outputs": [],
      "source": [
        "report3 = wr.Report(\n",
        "    PROJECT,\n",
        "    title=\"Combined blocks report\",\n",
        "    description=\"This report combines blocks from both Report 1 and Report 2\",\n",
        "    blocks=[*report1.blocks, *report2.blocks]\n",
        ")\n",
        "report3.save()"
      ]
    },
    {
      "cell_type": "markdown",
      "metadata": {
        "id": "idHLd-1h7NDU"
      },
      "source": [
        "### Reference the two reports in a gallery block"
      ]
    },
    {
      "cell_type": "code",
      "execution_count": null,
      "metadata": {
        "id": "ghXboOfw7NDU"
      },
      "outputs": [],
      "source": [
        "report4 = wr.Report(\n",
        "    PROJECT,\n",
        "    title=\"Referenced reports via Gallery\",\n",
        "    description=\"This report has gallery links to Report1 and Report 2\",\n",
        "    blocks=[wr.Gallery(ids=[report1.id, report2.id])]\n",
        ")\n",
        "report4.save()"
      ]
    },
    {
      "cell_type": "markdown",
      "metadata": {
        "id": "vR2sWXD67NDU"
      },
      "source": [
        "## Can I build the report up from smaller pieces / all at once?\n",
        "Yep.  We'll demonstrate by putting together a report with a parallel coordinates plot.\n",
        "\n",
        "NOTE: this section assumes you have run the [sweeps notebook](https://colab.research.google.com/github/wandb/examples/blob/master/colabs/pytorch/Organizing_Hyperparameter_Sweeps_in_PyTorch_with_W%26B.ipynb) already."
      ]
    },
    {
      "cell_type": "markdown",
      "metadata": {
        "id": "CAxho1Cm7NDU"
      },
      "source": [
        "### Build it up incrementally\n",
        "As you might do if you were creating a report in the UI"
      ]
    },
    {
      "cell_type": "markdown",
      "metadata": {
        "id": "1EFobQP87NDU"
      },
      "source": [
        "1. Create a report"
      ]
    },
    {
      "cell_type": "code",
      "execution_count": null,
      "metadata": {
        "id": "EVKJ8QND7NDU"
      },
      "outputs": [],
      "source": [
        "report = wr.Report(project=PROJECT, title='Parallel Coordinates Example', description=\"Using the pytorch sweeps demo\")"
      ]
    },
    {
      "cell_type": "markdown",
      "metadata": {
        "id": "ehmADFWm7NDU"
      },
      "source": [
        "2. Add a panel grid"
      ]
    },
    {
      "cell_type": "code",
      "execution_count": null,
      "metadata": {
        "id": "qKdW4a_-7NDV"
      },
      "outputs": [],
      "source": [
        "pg = wr.PanelGrid()\n",
        "report.blocks = [pg]"
      ]
    },
    {
      "cell_type": "markdown",
      "metadata": {
        "id": "GTC2n_fZ7NDV"
      },
      "source": [
        "3. Specify your runsets"
      ]
    },
    {
      "cell_type": "code",
      "execution_count": null,
      "metadata": {
        "id": "UV4xQDru7NDV"
      },
      "outputs": [],
      "source": [
        "pg.runsets = [wr.Runset(project='pytorch-sweeps-demo')]"
      ]
    },
    {
      "cell_type": "markdown",
      "metadata": {
        "id": "a2vjUG8n7NDV"
      },
      "source": [
        "4. Specify your panels"
      ]
    },
    {
      "cell_type": "code",
      "execution_count": null,
      "metadata": {
        "id": "kLgQrDNp7NDV"
      },
      "outputs": [],
      "source": [
        "pg.panels = [\n",
        "    wr.ParallelCoordinatesPlot(\n",
        "        columns=[\n",
        "            wr.PCColumn(metric=\"c::batch_size\"),\n",
        "            wr.PCColumn(metric=\"c::dropout\"),\n",
        "            wr.PCColumn(metric=\"c::epochs\"),\n",
        "            wr.PCColumn(metric=\"c::fc_layer_size\"),\n",
        "            wr.PCColumn(metric=\"c::learning_rate\"),\n",
        "            wr.PCColumn(metric=\"c::optimizer\"),\n",
        "            wr.PCColumn(metric=\"loss\"),\n",
        "        ]\n",
        "    )\n",
        "]\n"
      ]
    },
    {
      "cell_type": "markdown",
      "metadata": {
        "id": "5QcXrwKp7NDV"
      },
      "source": [
        "5. Save the report"
      ]
    },
    {
      "cell_type": "code",
      "execution_count": null,
      "metadata": {
        "id": "2rfXotd97NDV"
      },
      "outputs": [],
      "source": [
        "report.save()"
      ]
    },
    {
      "cell_type": "markdown",
      "metadata": {
        "id": "bbt1ZEAG7NDV"
      },
      "source": [
        "### The same thing all-in-one"
      ]
    },
    {
      "cell_type": "code",
      "execution_count": null,
      "metadata": {
        "id": "wpMLhshr7NDV"
      },
      "outputs": [],
      "source": [
        "report = wr.Report(\n",
        "    project=PROJECT,\n",
        "    title=\"Parallel Coordinates Example (all-in-one)\",\n",
        "    description=\"Using the pytorch sweeps demo (same as the other one but written in one expression)\",\n",
        "    blocks=[\n",
        "        wr.PanelGrid(\n",
        "            runsets=[wr.Runset(project=\"pytorch-sweeps-demo\")],\n",
        "            panels=[\n",
        "                wr.ParallelCoordinatesPlot(\n",
        "                    columns=[\n",
        "                        wr.PCColumn(metric='c::batch_size'),\n",
        "                        wr.PCColumn(metric='c::dropout'),\n",
        "                        wr.PCColumn(metric='c::epochs'),\n",
        "                        wr.PCColumn(metric='c::fc_layer_size'),\n",
        "                        wr.PCColumn(metric='c::learning_rate'),\n",
        "                        wr.PCColumn(metric='c::optimizer'),\n",
        "                        wr.PCColumn(metric='loss'),\n",
        "                    ]\n",
        "                )\n",
        "            ],\n",
        "        )\n",
        "    ],\n",
        ")"
      ]
    },
    {
      "cell_type": "code",
      "execution_count": null,
      "metadata": {
        "id": "qy-M-uzd7NDV"
      },
      "outputs": [],
      "source": [
        "report.save()"
      ]
    },
    {
      "cell_type": "markdown",
      "metadata": {
        "id": "pXt2x1L07NDV"
      },
      "source": [
        "## I tried mutating an object in list but it didn't work!\n",
        "tl;dr: It should always work if you assign a value to the attribute instead of mutating.  If you really need to mutate, do it before assignment.\n",
        "\n",
        "---\n",
        "\n",
        "This can happen in a few places that contain lists of wandb objects, e.g.:\n",
        "- `report.blocks`\n",
        "- `panel_grid.panels`\n",
        "- `panel_grid.runsets`"
      ]
    },
    {
      "cell_type": "code",
      "execution_count": null,
      "metadata": {
        "id": "0EbcQqOM7NDV"
      },
      "outputs": [],
      "source": [
        "report = wr.Report(project=PROJECT)"
      ]
    },
    {
      "cell_type": "markdown",
      "metadata": {
        "id": "H0J06T757NDV"
      },
      "source": [
        "Good: Assign `b`"
      ]
    },
    {
      "cell_type": "code",
      "execution_count": null,
      "metadata": {
        "id": "tgMca01g7NDV"
      },
      "outputs": [],
      "source": [
        "b = wr.H1(text=[\"Hello\", \" World!\"])\n",
        "report.blocks = [b]\n",
        "assert b.text == [\"Hello\", \" World!\"]\n",
        "assert report.blocks[0].text == [\"Hello\", \" World!\"]"
      ]
    },
    {
      "cell_type": "markdown",
      "metadata": {
        "id": "uDQ8wSn77NDV"
      },
      "source": [
        "Bad: Mutate `b` without reassigning"
      ]
    },
    {
      "cell_type": "code",
      "execution_count": null,
      "metadata": {
        "id": "xMX5Xr0x7NDV"
      },
      "outputs": [],
      "source": [
        "b.text = [\"Something\", \" New\"]\n",
        "assert b.text == [\"Something\", \" New\"]\n",
        "assert report.blocks[0].text == [\"Hello\", \" World!\"]"
      ]
    },
    {
      "cell_type": "markdown",
      "metadata": {
        "id": "KUMkP_9t7NDV"
      },
      "source": [
        "Good: Mutate `b` and then reassign it"
      ]
    },
    {
      "cell_type": "code",
      "execution_count": null,
      "metadata": {
        "id": "Wif3JPMo7NDV"
      },
      "outputs": [],
      "source": [
        "report.blocks = [b]\n",
        "assert b.text == [\"Something\", \" New\"]\n",
        "assert report.blocks[0].text == [\"Something\", \" New\"]"
      ]
    },
    {
      "cell_type": "markdown",
      "metadata": {
        "id": "ZjKXlG_K7NDV"
      },
      "source": [
        "## How do I show tables?"
      ]
    },
    {
      "cell_type": "code",
      "execution_count": null,
      "metadata": {
        "id": "2MhP1QHj7NDV"
      },
      "outputs": [],
      "source": [
        "report = wr.Report(project=PROJECT, title='Adding tables to reports', description=\"Add tables with WeaveBlockSummaryTable or WeavePanelSummaryTable\")"
      ]
    },
    {
      "cell_type": "markdown",
      "metadata": {
        "id": "--NzoKxd7NDV"
      },
      "source": [
        "### Using weave blocks"
      ]
    },
    {
      "cell_type": "code",
      "execution_count": null,
      "metadata": {
        "id": "6tiULcAy7NDV"
      },
      "outputs": [],
      "source": [
        "report.blocks += [wr.WeaveBlockSummaryTable(ENTITY, PROJECT, \"my-table\")]\n",
        "report.save()"
      ]
    },
    {
      "cell_type": "markdown",
      "metadata": {
        "id": "_x51jW1Z7NDV"
      },
      "source": [
        "### Using weave panels (via PanelGrid)"
      ]
    },
    {
      "cell_type": "code",
      "execution_count": null,
      "metadata": {
        "id": "_M0G_uXY7NDV"
      },
      "outputs": [],
      "source": [
        "report.blocks += [\n",
        "    wr.PanelGrid(\n",
        "        panels=[wr.WeavePanelSummaryTable(\"my-table\")]\n",
        "    )\n",
        "]\n",
        "report.save()"
      ]
    },
    {
      "cell_type": "markdown",
      "metadata": {
        "id": "mXVwb7wo7NDW"
      },
      "source": [
        "## How do I show artifact lineage / versions?"
      ]
    },
    {
      "cell_type": "code",
      "execution_count": null,
      "metadata": {
        "id": "JWEcTKUO7NDW"
      },
      "outputs": [],
      "source": [
        "report = wr.Report(project=PROJECT, title='Adding artifact lineage to reports', description=\"via WeaveBlockArtifact, WeaveBlockArtifactVersionedFile, or their panel equivalents\")"
      ]
    },
    {
      "cell_type": "markdown",
      "metadata": {
        "id": "2T1gBqLY7NDW"
      },
      "source": [
        "### Using weave blocks"
      ]
    },
    {
      "cell_type": "code",
      "execution_count": null,
      "metadata": {
        "id": "OqYh3kE67NDW"
      },
      "outputs": [],
      "source": [
        "report.blocks += [\n",
        "    wr.WeaveBlockArtifact(ENTITY, LINEAGE_PROJECT, \"model-1\", \"lineage\"),\n",
        "    wr.WeaveBlockArtifactVersionedFile(ENTITY, LINEAGE_PROJECT, \"model-1\", \"v0\", \"dataframe.table.json\")\n",
        "]\n",
        "report.save()"
      ]
    },
    {
      "cell_type": "markdown",
      "metadata": {
        "id": "B6g_Lwnw7NDW"
      },
      "source": [
        "### Using weave panels (via PanelGrid)"
      ]
    },
    {
      "cell_type": "code",
      "execution_count": null,
      "metadata": {
        "id": "xM-a4S1B7NDW"
      },
      "outputs": [],
      "source": [
        "report.blocks += [\n",
        "    wr.PanelGrid(panels=[\n",
        "        wr.WeavePanelArtifact(\"\", \"lineage\"),\n",
        "        wr.WeavePanelArtifactVersionedFile(\"\", \"v0\", \"dataframe.table.json\")\n",
        "    ])\n",
        "]\n",
        "report.save()"
      ]
    },
    {
      "cell_type": "markdown",
      "metadata": {
        "id": "ztNFjEtw7NDW"
      },
      "source": [
        "## How can I create report templates?\n",
        "- See some of the examples in `wr.templates`\n",
        "- The most straightforward way is to create a function that returns your target report and/or its blocks."
      ]
    },
    {
      "cell_type": "markdown",
      "metadata": {
        "id": "_4rXmMFF7NDW"
      },
      "source": [
        "### A basic template\n",
        "- Just use a function"
      ]
    },
    {
      "cell_type": "code",
      "execution_count": 26,
      "metadata": {
        "id": "uJE73hdx7NDW"
      },
      "outputs": [],
      "source": [
        "def my_report_template(title, description, project, metric):\n",
        "    return wr.Report(\n",
        "        title=title,\n",
        "        description=description,\n",
        "        project=project,\n",
        "        blocks=[\n",
        "            wr.H1(f\"Look at our amazing metric called `{metric}`\"),\n",
        "            wr.PanelGrid(\n",
        "                panels=[wr.LinePlot(x='Step', y=metric, layout={'w': 24, 'h': 8})],\n",
        "            )\n",
        "        ]\n",
        "    ).save()"
      ]
    },
    {
      "cell_type": "code",
      "execution_count": null,
      "metadata": {
        "id": "M6l8AqaX7NDW"
      },
      "outputs": [],
      "source": [
        "my_report_template('My templated report', \"Here's an example of how you can make a function for templates\", PROJECT, 'val_acc')"
      ]
    },
    {
      "cell_type": "markdown",
      "metadata": {
        "id": "x3Qyy5Gt7NDW"
      },
      "source": [
        "### More advanced templates"
      ]
    },
    {
      "cell_type": "code",
      "execution_count": null,
      "metadata": {
        "id": "npO4aqQJ7NDW"
      },
      "outputs": [],
      "source": [
        "def create_header():\n",
        "  return [\n",
        "    wr.P(),\n",
        "    wr.HorizontalRule(),\n",
        "    wr.P(),\n",
        "    wr.Image(\n",
        "      \"https://camo.githubusercontent.com/83839f20c90facc062330f8fee5a7ab910fdd04b80b4c4c7e89d6d8137543540/68747470733a2f2f692e696d6775722e636f6d2f676236423469672e706e67\"\n",
        "    ),\n",
        "    wr.P(),\n",
        "    wr.HorizontalRule(),\n",
        "    wr.P(),\n",
        "  ]\n",
        "\n",
        "def create_footer():\n",
        "  return [\n",
        "    wr.P(),\n",
        "    wr.HorizontalRule(),\n",
        "    wr.P(),\n",
        "    wr.H1(\"Disclaimer\"),\n",
        "    wr.P(\n",
        "      \"The views and opinions expressed in this report are those of the authors and do not necessarily reflect the official policy or position of Weights & Biases. blah blah blah blah blah boring text at the bottom\"\n",
        "    ),\n",
        "    wr.P(),\n",
        "    wr.HorizontalRule(),\n",
        "  ]\n",
        "\n",
        "def create_main_content(metric):\n",
        "  return [\n",
        "    wr.H1(f\"Look at our amazing metric called `{metric}`\"),\n",
        "    wr.PanelGrid(\n",
        "      panels=[wr.LinePlot(x='Step', y=metric, layout={'w': 24, 'h': 8})],\n",
        "    )\n",
        "  ]\n",
        "\n",
        "def create_templated_report_with_header_and_footer(title, project, metric):\n",
        "  return wr.Report(\n",
        "    title=title,\n",
        "    project=project,\n",
        "    blocks=[\n",
        "      *create_header(),\n",
        "      *create_main_content(metric),\n",
        "      *create_footer(),\n",
        "    ]).save()"
      ]
    },
    {
      "cell_type": "code",
      "execution_count": null,
      "metadata": {
        "id": "eGesmbFr7NDW"
      },
      "outputs": [],
      "source": [
        "create_templated_report_with_header_and_footer(title=\"Another templated report\", project=PROJECT, metric='val_acc')"
      ]
    },
    {
      "cell_type": "markdown",
      "metadata": {
        "id": "ILh2Y-Ny7NDW"
      },
      "source": [
        "# 📌 Complete Examples <a id='complete_examples'></a>"
      ]
    },
    {
      "cell_type": "markdown",
      "metadata": {
        "id": "S9xQQ2hf7NDW"
      },
      "source": [
        "## Reinforcement Learning (RL)"
      ]
    },
    {
      "cell_type": "code",
      "execution_count": 25,
      "metadata": {
        "colab": {
          "base_uri": "https://localhost:8080/",
          "height": 384
        },
        "id": "wzQoQlvs7NDW",
        "outputId": "84c8cff3-c91b-455f-9d1e-11bf8590361f"
      },
      "outputs": [
        {
          "output_type": "error",
          "ename": "ValidationError",
          "evalue": "1 validation error for MediaBrowser\nmedia_keys\n  Input should be a valid list [type=list_type, input_value='videos', input_type=str]\n    For further information visit https://errors.pydantic.dev/2.8/v/list_type",
          "traceback": [
            "\u001b[0;31m---------------------------------------------------------------------------\u001b[0m",
            "\u001b[0;31mValidationError\u001b[0m                           Traceback (most recent call last)",
            "\u001b[0;32m<ipython-input-25-d71fee6e698c>\u001b[0m in \u001b[0;36m<cell line: 1>\u001b[0;34m()\u001b[0m\n\u001b[1;32m     11\u001b[0m             panels=[\n\u001b[1;32m     12\u001b[0m                 \u001b[0mwr\u001b[0m\u001b[0;34m.\u001b[0m\u001b[0mLinePlot\u001b[0m\u001b[0;34m(\u001b[0m\u001b[0mx\u001b[0m\u001b[0;34m=\u001b[0m\u001b[0;34m'global_step'\u001b[0m\u001b[0;34m,\u001b[0m \u001b[0my\u001b[0m\u001b[0;34m=\u001b[0m\u001b[0;34m[\u001b[0m\u001b[0;34m'charts/episodic_return'\u001b[0m\u001b[0;34m]\u001b[0m\u001b[0;34m,\u001b[0m \u001b[0msmoothing_factor\u001b[0m\u001b[0;34m=\u001b[0m\u001b[0;36m0.85\u001b[0m\u001b[0;34m,\u001b[0m \u001b[0mgroupby_aggfunc\u001b[0m\u001b[0;34m=\u001b[0m\u001b[0;34m'mean'\u001b[0m\u001b[0;34m,\u001b[0m \u001b[0mgroupby_rangefunc\u001b[0m\u001b[0;34m=\u001b[0m\u001b[0;34m'minmax'\u001b[0m\u001b[0;34m,\u001b[0m \u001b[0mlayout\u001b[0m\u001b[0;34m=\u001b[0m\u001b[0;34m{\u001b[0m\u001b[0;34m'x'\u001b[0m\u001b[0;34m:\u001b[0m \u001b[0;36m0\u001b[0m\u001b[0;34m,\u001b[0m \u001b[0;34m'y'\u001b[0m\u001b[0;34m:\u001b[0m \u001b[0;36m0\u001b[0m\u001b[0;34m,\u001b[0m \u001b[0;34m'w'\u001b[0m\u001b[0;34m:\u001b[0m \u001b[0;36m12\u001b[0m\u001b[0;34m,\u001b[0m \u001b[0;34m'h'\u001b[0m\u001b[0;34m:\u001b[0m \u001b[0;36m8\u001b[0m\u001b[0;34m}\u001b[0m\u001b[0;34m)\u001b[0m\u001b[0;34m,\u001b[0m\u001b[0;34m\u001b[0m\u001b[0;34m\u001b[0m\u001b[0m\n\u001b[0;32m---> 13\u001b[0;31m                 \u001b[0mwr\u001b[0m\u001b[0;34m.\u001b[0m\u001b[0mMediaBrowser\u001b[0m\u001b[0;34m(\u001b[0m\u001b[0mmedia_keys\u001b[0m\u001b[0;34m=\u001b[0m\u001b[0;34m\"videos\"\u001b[0m\u001b[0;34m,\u001b[0m \u001b[0mnum_columns\u001b[0m\u001b[0;34m=\u001b[0m\u001b[0;36m4\u001b[0m\u001b[0;34m,\u001b[0m \u001b[0mlayout\u001b[0m\u001b[0;34m=\u001b[0m\u001b[0;34m{\u001b[0m\u001b[0;34m'w'\u001b[0m\u001b[0;34m:\u001b[0m \u001b[0;36m12\u001b[0m\u001b[0;34m,\u001b[0m \u001b[0;34m'h'\u001b[0m\u001b[0;34m:\u001b[0m \u001b[0;36m8\u001b[0m\u001b[0;34m}\u001b[0m\u001b[0;34m)\u001b[0m\u001b[0;34m,\u001b[0m\u001b[0;34m\u001b[0m\u001b[0;34m\u001b[0m\u001b[0m\n\u001b[0m\u001b[1;32m     14\u001b[0m             ],\n\u001b[1;32m     15\u001b[0m             runsets=[\n",
            "\u001b[0;32m/usr/local/lib/python3.10/dist-packages/pydantic/_internal/_dataclasses.py\u001b[0m in \u001b[0;36m__init__\u001b[0;34m(__dataclass_self__, *args, **kwargs)\u001b[0m\n\u001b[1;32m    139\u001b[0m         \u001b[0m__tracebackhide__\u001b[0m \u001b[0;34m=\u001b[0m \u001b[0;32mTrue\u001b[0m\u001b[0;34m\u001b[0m\u001b[0;34m\u001b[0m\u001b[0m\n\u001b[1;32m    140\u001b[0m         \u001b[0ms\u001b[0m \u001b[0;34m=\u001b[0m \u001b[0m__dataclass_self__\u001b[0m\u001b[0;34m\u001b[0m\u001b[0;34m\u001b[0m\u001b[0m\n\u001b[0;32m--> 141\u001b[0;31m         \u001b[0ms\u001b[0m\u001b[0;34m.\u001b[0m\u001b[0m__pydantic_validator__\u001b[0m\u001b[0;34m.\u001b[0m\u001b[0mvalidate_python\u001b[0m\u001b[0;34m(\u001b[0m\u001b[0mArgsKwargs\u001b[0m\u001b[0;34m(\u001b[0m\u001b[0margs\u001b[0m\u001b[0;34m,\u001b[0m \u001b[0mkwargs\u001b[0m\u001b[0;34m)\u001b[0m\u001b[0;34m,\u001b[0m \u001b[0mself_instance\u001b[0m\u001b[0;34m=\u001b[0m\u001b[0ms\u001b[0m\u001b[0;34m)\u001b[0m\u001b[0;34m\u001b[0m\u001b[0;34m\u001b[0m\u001b[0m\n\u001b[0m\u001b[1;32m    142\u001b[0m \u001b[0;34m\u001b[0m\u001b[0m\n\u001b[1;32m    143\u001b[0m     \u001b[0m__init__\u001b[0m\u001b[0;34m.\u001b[0m\u001b[0m__qualname__\u001b[0m \u001b[0;34m=\u001b[0m \u001b[0;34mf'{cls.__qualname__}.__init__'\u001b[0m\u001b[0;34m\u001b[0m\u001b[0;34m\u001b[0m\u001b[0m\n",
            "\u001b[0;31mValidationError\u001b[0m: 1 validation error for MediaBrowser\nmedia_keys\n  Input should be a valid list [type=list_type, input_value='videos', input_type=str]\n    For further information visit https://errors.pydantic.dev/2.8/v/list_type"
          ]
        }
      ],
      "source": [
        "wr.Report(\n",
        "    project=PROJECT,\n",
        "    title='Reinforcement Learning Report',\n",
        "    description='Aut totam dolores aut galisum atque aut placeat quia. Vel quisquam omnis ut quibusdam doloremque a delectus quia in omnis deserunt. Quo ipsum beatae aut veniam earum non ipsa reiciendis et fugiat asperiores est veritatis magni et corrupti internos. Ut quis libero ut alias reiciendis et animi delectus.',\n",
        "    blocks=[\n",
        "        wr.TableOfContents(),\n",
        "        wr.H1(\"Ea quidem illo est dolorem illo.\"),\n",
        "        wr.P(\"Lorem ipsum dolor sit amet, consectetur adipiscing elit. Sed ac eros ut nunc venenatis tincidunt vel ut dolor. Sed sed felis dictum, congue risus vel, aliquet dolor. Donec ut risus vel leo dictum tristique. Nunc sed urna mi. Morbi nulla turpis, vehicula eu maximus ut, gravida id libero. Duis porta risus leo, quis lobortis enim ultrices a. Donec quam augue, vestibulum vitae mollis at, tincidunt non orci. Morbi faucibus dignissim tempor. Vestibulum ornare augue a orci tincidunt porta. Pellentesque et ante et purus gravida euismod. Maecenas sit amet sollicitudin felis, sed egestas nunc.\"),\n",
        "        wr.H2('Et sunt sunt eum asperiores ratione.'),\n",
        "        wr.PanelGrid(\n",
        "            panels=[\n",
        "                wr.LinePlot(x='global_step', y=['charts/episodic_return'], smoothing_factor=0.85, groupby_aggfunc='mean', groupby_rangefunc='minmax', layout={'x': 0, 'y': 0, 'w': 12, 'h': 8}),\n",
        "                wr.MediaBrowser(media_keys=\"videos\", num_columns=4, layout={'w': 12, 'h': 8}),\n",
        "            ],\n",
        "            runsets=[\n",
        "                wr.Runset(entity='openrlbenchmark', project='cleanrl', query='bigfish', groupby=['env_id', 'exp_name'])\n",
        "            ],\n",
        "            custom_run_colors={\n",
        "                ('Run set', 'bigfish', 'ppg_procgen'): \"#2980b9\",\n",
        "                ('Run set', 'bigfish', 'ppo_procgen'): \"#e74c3c\",\n",
        "            }\n",
        "        ),\n",
        "        wr.H2('Sit officia inventore non omnis deleniti.'),\n",
        "        wr.PanelGrid(\n",
        "            panels=[\n",
        "                wr.LinePlot(x='global_step', y=['charts/episodic_return'], smoothing_factor=0.85, groupby_aggfunc='mean', groupby_rangefunc='minmax', layout={'x': 0, 'y': 0, 'w': 12, 'h': 8}),\n",
        "                wr.MediaBrowser(media_keys=\"videos\", num_columns=4, layout={'w': 12, 'h': 8}),\n",
        "            ],\n",
        "            runsets=[\n",
        "                wr.Runset(entity='openrlbenchmark', project='cleanrl', query='starpilot', groupby=['env_id', 'exp_name'])\n",
        "            ],\n",
        "            custom_run_colors={\n",
        "                ('Run set', 'starpilot', 'ppg_procgen'): \"#2980b9\",\n",
        "                ('Run set', 'starpilot', 'ppo_procgen'): \"#e74c3c\",\n",
        "            }\n",
        "        ),\n",
        "        wr.H2('Aut amet nesciunt vel quisquam repellendus sed labore voluptas.'),\n",
        "        wr.PanelGrid(\n",
        "            panels=[\n",
        "                wr.LinePlot(x='global_step', y=['charts/episodic_return'], smoothing_factor=0.85, groupby_aggfunc='mean', groupby_rangefunc='minmax', layout={'x': 0, 'y': 0, 'w': 12, 'h': 8}),\n",
        "                wr.MediaBrowser(media_keys=\"videos\", num_columns=4, layout={'x': 0, 'y': 0, 'w': 12, 'h': 8}),\n",
        "            ],\n",
        "            runsets=[\n",
        "                wr.Runset(entity='openrlbenchmark', project='cleanrl', query='bossfight', groupby=['env_id', 'exp_name'])\n",
        "            ],\n",
        "            custom_run_colors={\n",
        "                ('Run set', 'bossfight', 'ppg_procgen'): \"#2980b9\",\n",
        "                ('Run set', 'bossfight', 'ppo_procgen'): \"#e74c3c\",\n",
        "            }\n",
        "        ),\n",
        "        wr.HorizontalRule(),\n",
        "        wr.H1(\"Sed consectetur vero et voluptas voluptatem et adipisci blanditiis.\"),\n",
        "        wr.P(\"Sit aliquid repellendus et numquam provident quo quaerat earum 33 sunt illo et quos voluptate est officia deleniti. Vel architecto nulla ex nulla voluptatibus qui saepe officiis quo illo excepturi ea dolorum reprehenderit.\"),\n",
        "        wr.H2(\"Qui debitis iure 33 voluptatum eligendi.\"),\n",
        "        wr.P(\"Non veniam laudantium et fugit distinctio qui aliquid eius sed laudantium consequatur et quia perspiciatis. Et odio inventore est voluptas fugiat id perspiciatis dolorum et perferendis recusandae vel Quis odio 33 beatae veritatis. Ex sunt accusamus aut soluta eligendi sed perspiciatis maxime 33 dolorem dolorum est aperiam minima. Et earum rerum eos illo sint eos temporibus similique ea fuga iste sed quia soluta sit doloribus corporis sed tenetur excepturi?\"),\n",
        "        wr.PanelGrid(\n",
        "            panels=[\n",
        "                wr.LinePlot(x='global_step', y=['charts/SPS']),\n",
        "                wr.LinePlot(x='global_step', y=['charts/episodic_length']),\n",
        "                wr.LinePlot(x='global_step', y=['charts/episodic_return']),\n",
        "            ],\n",
        "            runsets=[\n",
        "                wr.Runset(\"openrlbenchmark\", \"cleanrl\", \"DQN\", groupby=[\"exp_name\"]).set_filters_with_python_expr(\"env_id == 'BreakoutNoFrameskip-v4' and exp_name == 'dqn_atari'\"),\n",
        "                wr.Runset(\"openrlbenchmark\", \"cleanrl\", \"SAC-discrete 0.8\", groupby=[\"exp_name\"]).set_filters_with_python_expr(\"env_id == 'BreakoutNoFrameskip-v4' and exp_name == 'sac_atari' and target_entropy_scale == 0.8\"),\n",
        "                wr.Runset(\"openrlbenchmark\", \"cleanrl\", \"SAC-discrete 0.88\", groupby=[\"exp_name\"]).set_filters_with_python_expr(\"env_id == 'BreakoutNoFrameskip-v4' and exp_name == 'sac_atari' and target_entropy_scale == 0.88\"),\n",
        "            ],\n",
        "            custom_run_colors={\n",
        "                ('DQN',               'dqn_atari'): '#e84118',\n",
        "                ('SAC-discrete 0.8',  'sac_atari'): '#fbc531',\n",
        "                ('SAC-discrete 0.88', 'sac_atari'): '#00a8ff',\n",
        "            }\n",
        "        ),\n",
        "    ]\n",
        ").save()"
      ]
    },
    {
      "cell_type": "markdown",
      "metadata": {
        "id": "lKzeGFRg7NDW"
      },
      "source": [
        "## Customer Landing Page"
      ]
    },
    {
      "cell_type": "code",
      "execution_count": null,
      "metadata": {
        "id": "LyayakfB7NDW"
      },
      "outputs": [],
      "source": [
        "report = wr.templates.create_customer_landing_page(\n",
        "    project=PROJECT,\n",
        "    company_name='Company',\n",
        "    main_contact='Contact McContact (email@company.com)',\n",
        "    slack_link='https://company.slack.com/blah',\n",
        ")\n",
        "report.save()"
      ]
    },
    {
      "cell_type": "markdown",
      "metadata": {
        "id": "n8fyWPPR7NDW"
      },
      "source": [
        "## Enterprise Report with Branded Header and Footer"
      ]
    },
    {
      "cell_type": "code",
      "execution_count": null,
      "metadata": {
        "id": "VzeSgfz77NDW"
      },
      "outputs": [],
      "source": [
        "report = wr.templates.create_enterprise_report(\n",
        "    project=PROJECT,\n",
        "    body=[\n",
        "        wr.H1(\"Ea quidem illo est dolorem illo.\"),\n",
        "        wr.P(\"Lorem ipsum dolor sit amet, consectetur adipiscing elit. Sed ac eros ut nunc venenatis tincidunt vel ut dolor. Sed sed felis dictum, congue risus vel, aliquet dolor. Donec ut risus vel leo dictum tristique. Nunc sed urna mi. Morbi nulla turpis, vehicula eu maximus ut, gravida id libero. Duis porta risus leo, quis lobortis enim ultrices a. Donec quam augue, vestibulum vitae mollis at, tincidunt non orci. Morbi faucibus dignissim tempor. Vestibulum ornare augue a orci tincidunt porta. Pellentesque et ante et purus gravida euismod. Maecenas sit amet sollicitudin felis, sed egestas nunc.\"),\n",
        "        wr.H2('Et sunt sunt eum asperiores ratione.'),\n",
        "        wr.PanelGrid(\n",
        "            panels=[\n",
        "                wr.LinePlot(x='global_step', y=['charts/episodic_return'], smoothing_factor=0.85, groupby_aggfunc='mean', groupby_rangefunc='minmax', layout={'x': 0, 'y': 0, 'w': 12, 'h': 8}),\n",
        "                wr.MediaBrowser(media_keys=\"videos\", num_columns=4, layout={'w': 12, 'h': 8}),\n",
        "            ],\n",
        "            runsets=[\n",
        "                wr.Runset(entity='openrlbenchmark', project='cleanrl', query='bigfish', groupby=['env_id', 'exp_name'])\n",
        "            ],\n",
        "            custom_run_colors={\n",
        "                ('Run set', 'bigfish', 'ppg_procgen'): \"#2980b9\",\n",
        "                ('Run set', 'bigfish', 'ppo_procgen'): \"#e74c3c\",\n",
        "            }\n",
        "        ),\n",
        "        wr.H2('Sit officia inventore non omnis deleniti.'),\n",
        "        wr.PanelGrid(\n",
        "            panels=[\n",
        "                wr.LinePlot(x='global_step', y=['charts/episodic_return'], smoothing_factor=0.85, groupby_aggfunc='mean', groupby_rangefunc='minmax', layout={'x': 0, 'y': 0, 'w': 12, 'h': 8}),\n",
        "                wr.MediaBrowser(media_keys=\"videos\", num_columns=4, layout={'w': 12, 'h': 8}),\n",
        "            ],\n",
        "            runsets=[\n",
        "                wr.Runset(entity='openrlbenchmark', project='cleanrl', query='starpilot', groupby=['env_id', 'exp_name'])\n",
        "            ],\n",
        "            custom_run_colors={\n",
        "                ('Run set', 'starpilot', 'ppg_procgen'): \"#2980b9\",\n",
        "                ('Run set', 'starpilot', 'ppo_procgen'): \"#e74c3c\",\n",
        "            }\n",
        "        ),\n",
        "    ]\n",
        ")\n",
        "report.save()"
      ]
    }
  ],
  "metadata": {
    "accelerator": "GPU",
    "colab": {
      "provenance": [],
      "toc_visible": true,
      "include_colab_link": true
    },
    "kernelspec": {
      "display_name": "Python 3",
      "name": "python3"
    },
    "widgets": {
      "application/vnd.jupyter.widget-state+json": {
        "bb6503c120244204894ad5d54c32fae6": {
          "model_module": "@jupyter-widgets/controls",
          "model_name": "VBoxModel",
          "model_module_version": "1.5.0",
          "state": {
            "_dom_classes": [],
            "_model_module": "@jupyter-widgets/controls",
            "_model_module_version": "1.5.0",
            "_model_name": "VBoxModel",
            "_view_count": null,
            "_view_module": "@jupyter-widgets/controls",
            "_view_module_version": "1.5.0",
            "_view_name": "VBoxView",
            "box_style": "",
            "children": [
              "IPY_MODEL_43ba957862fe4da7b22590b2c125b6fe",
              "IPY_MODEL_03ef157e73c64c5fa9d0ddcef6c0fcae"
            ],
            "layout": "IPY_MODEL_929b16bae2fd4bd7a2e02dd6cc4a83f5"
          }
        },
        "43ba957862fe4da7b22590b2c125b6fe": {
          "model_module": "@jupyter-widgets/controls",
          "model_name": "LabelModel",
          "model_module_version": "1.5.0",
          "state": {
            "_dom_classes": [],
            "_model_module": "@jupyter-widgets/controls",
            "_model_module_version": "1.5.0",
            "_model_name": "LabelModel",
            "_view_count": null,
            "_view_module": "@jupyter-widgets/controls",
            "_view_module_version": "1.5.0",
            "_view_name": "LabelView",
            "description": "",
            "description_tooltip": null,
            "layout": "IPY_MODEL_2e8eaf5b82804db4ba049f4510c9a25d",
            "placeholder": "​",
            "style": "IPY_MODEL_fe764631a7f44711aa638b8c0cd9dda7",
            "value": "0.134 MB of 0.134 MB uploaded (0.009 MB deduped)\r"
          }
        },
        "03ef157e73c64c5fa9d0ddcef6c0fcae": {
          "model_module": "@jupyter-widgets/controls",
          "model_name": "FloatProgressModel",
          "model_module_version": "1.5.0",
          "state": {
            "_dom_classes": [],
            "_model_module": "@jupyter-widgets/controls",
            "_model_module_version": "1.5.0",
            "_model_name": "FloatProgressModel",
            "_view_count": null,
            "_view_module": "@jupyter-widgets/controls",
            "_view_module_version": "1.5.0",
            "_view_name": "ProgressView",
            "bar_style": "",
            "description": "",
            "description_tooltip": null,
            "layout": "IPY_MODEL_de9c6356bea1459aacb307dada2bf2ba",
            "max": 1,
            "min": 0,
            "orientation": "horizontal",
            "style": "IPY_MODEL_5e6e3abaa9d74bba82d47a23d2b765f1",
            "value": 1
          }
        },
        "929b16bae2fd4bd7a2e02dd6cc4a83f5": {
          "model_module": "@jupyter-widgets/base",
          "model_name": "LayoutModel",
          "model_module_version": "1.2.0",
          "state": {
            "_model_module": "@jupyter-widgets/base",
            "_model_module_version": "1.2.0",
            "_model_name": "LayoutModel",
            "_view_count": null,
            "_view_module": "@jupyter-widgets/base",
            "_view_module_version": "1.2.0",
            "_view_name": "LayoutView",
            "align_content": null,
            "align_items": null,
            "align_self": null,
            "border": null,
            "bottom": null,
            "display": null,
            "flex": null,
            "flex_flow": null,
            "grid_area": null,
            "grid_auto_columns": null,
            "grid_auto_flow": null,
            "grid_auto_rows": null,
            "grid_column": null,
            "grid_gap": null,
            "grid_row": null,
            "grid_template_areas": null,
            "grid_template_columns": null,
            "grid_template_rows": null,
            "height": null,
            "justify_content": null,
            "justify_items": null,
            "left": null,
            "margin": null,
            "max_height": null,
            "max_width": null,
            "min_height": null,
            "min_width": null,
            "object_fit": null,
            "object_position": null,
            "order": null,
            "overflow": null,
            "overflow_x": null,
            "overflow_y": null,
            "padding": null,
            "right": null,
            "top": null,
            "visibility": null,
            "width": null
          }
        },
        "2e8eaf5b82804db4ba049f4510c9a25d": {
          "model_module": "@jupyter-widgets/base",
          "model_name": "LayoutModel",
          "model_module_version": "1.2.0",
          "state": {
            "_model_module": "@jupyter-widgets/base",
            "_model_module_version": "1.2.0",
            "_model_name": "LayoutModel",
            "_view_count": null,
            "_view_module": "@jupyter-widgets/base",
            "_view_module_version": "1.2.0",
            "_view_name": "LayoutView",
            "align_content": null,
            "align_items": null,
            "align_self": null,
            "border": null,
            "bottom": null,
            "display": null,
            "flex": null,
            "flex_flow": null,
            "grid_area": null,
            "grid_auto_columns": null,
            "grid_auto_flow": null,
            "grid_auto_rows": null,
            "grid_column": null,
            "grid_gap": null,
            "grid_row": null,
            "grid_template_areas": null,
            "grid_template_columns": null,
            "grid_template_rows": null,
            "height": null,
            "justify_content": null,
            "justify_items": null,
            "left": null,
            "margin": null,
            "max_height": null,
            "max_width": null,
            "min_height": null,
            "min_width": null,
            "object_fit": null,
            "object_position": null,
            "order": null,
            "overflow": null,
            "overflow_x": null,
            "overflow_y": null,
            "padding": null,
            "right": null,
            "top": null,
            "visibility": null,
            "width": null
          }
        },
        "fe764631a7f44711aa638b8c0cd9dda7": {
          "model_module": "@jupyter-widgets/controls",
          "model_name": "DescriptionStyleModel",
          "model_module_version": "1.5.0",
          "state": {
            "_model_module": "@jupyter-widgets/controls",
            "_model_module_version": "1.5.0",
            "_model_name": "DescriptionStyleModel",
            "_view_count": null,
            "_view_module": "@jupyter-widgets/base",
            "_view_module_version": "1.2.0",
            "_view_name": "StyleView",
            "description_width": ""
          }
        },
        "de9c6356bea1459aacb307dada2bf2ba": {
          "model_module": "@jupyter-widgets/base",
          "model_name": "LayoutModel",
          "model_module_version": "1.2.0",
          "state": {
            "_model_module": "@jupyter-widgets/base",
            "_model_module_version": "1.2.0",
            "_model_name": "LayoutModel",
            "_view_count": null,
            "_view_module": "@jupyter-widgets/base",
            "_view_module_version": "1.2.0",
            "_view_name": "LayoutView",
            "align_content": null,
            "align_items": null,
            "align_self": null,
            "border": null,
            "bottom": null,
            "display": null,
            "flex": null,
            "flex_flow": null,
            "grid_area": null,
            "grid_auto_columns": null,
            "grid_auto_flow": null,
            "grid_auto_rows": null,
            "grid_column": null,
            "grid_gap": null,
            "grid_row": null,
            "grid_template_areas": null,
            "grid_template_columns": null,
            "grid_template_rows": null,
            "height": null,
            "justify_content": null,
            "justify_items": null,
            "left": null,
            "margin": null,
            "max_height": null,
            "max_width": null,
            "min_height": null,
            "min_width": null,
            "object_fit": null,
            "object_position": null,
            "order": null,
            "overflow": null,
            "overflow_x": null,
            "overflow_y": null,
            "padding": null,
            "right": null,
            "top": null,
            "visibility": null,
            "width": null
          }
        },
        "5e6e3abaa9d74bba82d47a23d2b765f1": {
          "model_module": "@jupyter-widgets/controls",
          "model_name": "ProgressStyleModel",
          "model_module_version": "1.5.0",
          "state": {
            "_model_module": "@jupyter-widgets/controls",
            "_model_module_version": "1.5.0",
            "_model_name": "ProgressStyleModel",
            "_view_count": null,
            "_view_module": "@jupyter-widgets/base",
            "_view_module_version": "1.2.0",
            "_view_name": "StyleView",
            "bar_color": null,
            "description_width": ""
          }
        },
        "cdd0cfc4aaf449bc9f6f6c0788761003": {
          "model_module": "@jupyter-widgets/controls",
          "model_name": "VBoxModel",
          "model_module_version": "1.5.0",
          "state": {
            "_dom_classes": [],
            "_model_module": "@jupyter-widgets/controls",
            "_model_module_version": "1.5.0",
            "_model_name": "VBoxModel",
            "_view_count": null,
            "_view_module": "@jupyter-widgets/controls",
            "_view_module_version": "1.5.0",
            "_view_name": "VBoxView",
            "box_style": "",
            "children": [
              "IPY_MODEL_673f666d3cbf4f48b91e584118fdefe5",
              "IPY_MODEL_8a40bd7528bc4e0786b53ee2b9104cb4"
            ],
            "layout": "IPY_MODEL_4f830122c1814603b51b7972f2ccd6d0"
          }
        },
        "673f666d3cbf4f48b91e584118fdefe5": {
          "model_module": "@jupyter-widgets/controls",
          "model_name": "LabelModel",
          "model_module_version": "1.5.0",
          "state": {
            "_dom_classes": [],
            "_model_module": "@jupyter-widgets/controls",
            "_model_module_version": "1.5.0",
            "_model_name": "LabelModel",
            "_view_count": null,
            "_view_module": "@jupyter-widgets/controls",
            "_view_module_version": "1.5.0",
            "_view_name": "LabelView",
            "description": "",
            "description_tooltip": null,
            "layout": "IPY_MODEL_e94db70485e643c8b2879d37f4e52710",
            "placeholder": "​",
            "style": "IPY_MODEL_78641b50ba05481ea340ba2b077ea089",
            "value": "0.145 MB of 0.145 MB uploaded (0.009 MB deduped)\r"
          }
        },
        "8a40bd7528bc4e0786b53ee2b9104cb4": {
          "model_module": "@jupyter-widgets/controls",
          "model_name": "FloatProgressModel",
          "model_module_version": "1.5.0",
          "state": {
            "_dom_classes": [],
            "_model_module": "@jupyter-widgets/controls",
            "_model_module_version": "1.5.0",
            "_model_name": "FloatProgressModel",
            "_view_count": null,
            "_view_module": "@jupyter-widgets/controls",
            "_view_module_version": "1.5.0",
            "_view_name": "ProgressView",
            "bar_style": "",
            "description": "",
            "description_tooltip": null,
            "layout": "IPY_MODEL_5fee00dbb6ab45a89471b28b431921f8",
            "max": 1,
            "min": 0,
            "orientation": "horizontal",
            "style": "IPY_MODEL_2c903452e5f644ed91a1660257e96142",
            "value": 1
          }
        },
        "4f830122c1814603b51b7972f2ccd6d0": {
          "model_module": "@jupyter-widgets/base",
          "model_name": "LayoutModel",
          "model_module_version": "1.2.0",
          "state": {
            "_model_module": "@jupyter-widgets/base",
            "_model_module_version": "1.2.0",
            "_model_name": "LayoutModel",
            "_view_count": null,
            "_view_module": "@jupyter-widgets/base",
            "_view_module_version": "1.2.0",
            "_view_name": "LayoutView",
            "align_content": null,
            "align_items": null,
            "align_self": null,
            "border": null,
            "bottom": null,
            "display": null,
            "flex": null,
            "flex_flow": null,
            "grid_area": null,
            "grid_auto_columns": null,
            "grid_auto_flow": null,
            "grid_auto_rows": null,
            "grid_column": null,
            "grid_gap": null,
            "grid_row": null,
            "grid_template_areas": null,
            "grid_template_columns": null,
            "grid_template_rows": null,
            "height": null,
            "justify_content": null,
            "justify_items": null,
            "left": null,
            "margin": null,
            "max_height": null,
            "max_width": null,
            "min_height": null,
            "min_width": null,
            "object_fit": null,
            "object_position": null,
            "order": null,
            "overflow": null,
            "overflow_x": null,
            "overflow_y": null,
            "padding": null,
            "right": null,
            "top": null,
            "visibility": null,
            "width": null
          }
        },
        "e94db70485e643c8b2879d37f4e52710": {
          "model_module": "@jupyter-widgets/base",
          "model_name": "LayoutModel",
          "model_module_version": "1.2.0",
          "state": {
            "_model_module": "@jupyter-widgets/base",
            "_model_module_version": "1.2.0",
            "_model_name": "LayoutModel",
            "_view_count": null,
            "_view_module": "@jupyter-widgets/base",
            "_view_module_version": "1.2.0",
            "_view_name": "LayoutView",
            "align_content": null,
            "align_items": null,
            "align_self": null,
            "border": null,
            "bottom": null,
            "display": null,
            "flex": null,
            "flex_flow": null,
            "grid_area": null,
            "grid_auto_columns": null,
            "grid_auto_flow": null,
            "grid_auto_rows": null,
            "grid_column": null,
            "grid_gap": null,
            "grid_row": null,
            "grid_template_areas": null,
            "grid_template_columns": null,
            "grid_template_rows": null,
            "height": null,
            "justify_content": null,
            "justify_items": null,
            "left": null,
            "margin": null,
            "max_height": null,
            "max_width": null,
            "min_height": null,
            "min_width": null,
            "object_fit": null,
            "object_position": null,
            "order": null,
            "overflow": null,
            "overflow_x": null,
            "overflow_y": null,
            "padding": null,
            "right": null,
            "top": null,
            "visibility": null,
            "width": null
          }
        },
        "78641b50ba05481ea340ba2b077ea089": {
          "model_module": "@jupyter-widgets/controls",
          "model_name": "DescriptionStyleModel",
          "model_module_version": "1.5.0",
          "state": {
            "_model_module": "@jupyter-widgets/controls",
            "_model_module_version": "1.5.0",
            "_model_name": "DescriptionStyleModel",
            "_view_count": null,
            "_view_module": "@jupyter-widgets/base",
            "_view_module_version": "1.2.0",
            "_view_name": "StyleView",
            "description_width": ""
          }
        },
        "5fee00dbb6ab45a89471b28b431921f8": {
          "model_module": "@jupyter-widgets/base",
          "model_name": "LayoutModel",
          "model_module_version": "1.2.0",
          "state": {
            "_model_module": "@jupyter-widgets/base",
            "_model_module_version": "1.2.0",
            "_model_name": "LayoutModel",
            "_view_count": null,
            "_view_module": "@jupyter-widgets/base",
            "_view_module_version": "1.2.0",
            "_view_name": "LayoutView",
            "align_content": null,
            "align_items": null,
            "align_self": null,
            "border": null,
            "bottom": null,
            "display": null,
            "flex": null,
            "flex_flow": null,
            "grid_area": null,
            "grid_auto_columns": null,
            "grid_auto_flow": null,
            "grid_auto_rows": null,
            "grid_column": null,
            "grid_gap": null,
            "grid_row": null,
            "grid_template_areas": null,
            "grid_template_columns": null,
            "grid_template_rows": null,
            "height": null,
            "justify_content": null,
            "justify_items": null,
            "left": null,
            "margin": null,
            "max_height": null,
            "max_width": null,
            "min_height": null,
            "min_width": null,
            "object_fit": null,
            "object_position": null,
            "order": null,
            "overflow": null,
            "overflow_x": null,
            "overflow_y": null,
            "padding": null,
            "right": null,
            "top": null,
            "visibility": null,
            "width": null
          }
        },
        "2c903452e5f644ed91a1660257e96142": {
          "model_module": "@jupyter-widgets/controls",
          "model_name": "ProgressStyleModel",
          "model_module_version": "1.5.0",
          "state": {
            "_model_module": "@jupyter-widgets/controls",
            "_model_module_version": "1.5.0",
            "_model_name": "ProgressStyleModel",
            "_view_count": null,
            "_view_module": "@jupyter-widgets/base",
            "_view_module_version": "1.2.0",
            "_view_name": "StyleView",
            "bar_color": null,
            "description_width": ""
          }
        },
        "d3f1a4c7b8ec40e1a5fb002617e78332": {
          "model_module": "@jupyter-widgets/controls",
          "model_name": "VBoxModel",
          "model_module_version": "1.5.0",
          "state": {
            "_dom_classes": [],
            "_model_module": "@jupyter-widgets/controls",
            "_model_module_version": "1.5.0",
            "_model_name": "VBoxModel",
            "_view_count": null,
            "_view_module": "@jupyter-widgets/controls",
            "_view_module_version": "1.5.0",
            "_view_name": "VBoxView",
            "box_style": "",
            "children": [
              "IPY_MODEL_e9090f827ccf45f08ef925a9869d8d2d",
              "IPY_MODEL_b4e050aff6cd401eb57365d856ae2ac4"
            ],
            "layout": "IPY_MODEL_c1e6aaacd2804a3ca53e3bc709998d07"
          }
        },
        "e9090f827ccf45f08ef925a9869d8d2d": {
          "model_module": "@jupyter-widgets/controls",
          "model_name": "LabelModel",
          "model_module_version": "1.5.0",
          "state": {
            "_dom_classes": [],
            "_model_module": "@jupyter-widgets/controls",
            "_model_module_version": "1.5.0",
            "_model_name": "LabelModel",
            "_view_count": null,
            "_view_module": "@jupyter-widgets/controls",
            "_view_module_version": "1.5.0",
            "_view_name": "LabelView",
            "description": "",
            "description_tooltip": null,
            "layout": "IPY_MODEL_d3693bacc48042859822254124e10986",
            "placeholder": "​",
            "style": "IPY_MODEL_0c774bcbd9294fbdb4fb7296e348844a",
            "value": "0.156 MB of 0.156 MB uploaded (0.009 MB deduped)\r"
          }
        },
        "b4e050aff6cd401eb57365d856ae2ac4": {
          "model_module": "@jupyter-widgets/controls",
          "model_name": "FloatProgressModel",
          "model_module_version": "1.5.0",
          "state": {
            "_dom_classes": [],
            "_model_module": "@jupyter-widgets/controls",
            "_model_module_version": "1.5.0",
            "_model_name": "FloatProgressModel",
            "_view_count": null,
            "_view_module": "@jupyter-widgets/controls",
            "_view_module_version": "1.5.0",
            "_view_name": "ProgressView",
            "bar_style": "",
            "description": "",
            "description_tooltip": null,
            "layout": "IPY_MODEL_1788845ce955492f984a3c2ee2c5377b",
            "max": 1,
            "min": 0,
            "orientation": "horizontal",
            "style": "IPY_MODEL_5bd854dd29b34848bb10d91270ad5077",
            "value": 1
          }
        },
        "c1e6aaacd2804a3ca53e3bc709998d07": {
          "model_module": "@jupyter-widgets/base",
          "model_name": "LayoutModel",
          "model_module_version": "1.2.0",
          "state": {
            "_model_module": "@jupyter-widgets/base",
            "_model_module_version": "1.2.0",
            "_model_name": "LayoutModel",
            "_view_count": null,
            "_view_module": "@jupyter-widgets/base",
            "_view_module_version": "1.2.0",
            "_view_name": "LayoutView",
            "align_content": null,
            "align_items": null,
            "align_self": null,
            "border": null,
            "bottom": null,
            "display": null,
            "flex": null,
            "flex_flow": null,
            "grid_area": null,
            "grid_auto_columns": null,
            "grid_auto_flow": null,
            "grid_auto_rows": null,
            "grid_column": null,
            "grid_gap": null,
            "grid_row": null,
            "grid_template_areas": null,
            "grid_template_columns": null,
            "grid_template_rows": null,
            "height": null,
            "justify_content": null,
            "justify_items": null,
            "left": null,
            "margin": null,
            "max_height": null,
            "max_width": null,
            "min_height": null,
            "min_width": null,
            "object_fit": null,
            "object_position": null,
            "order": null,
            "overflow": null,
            "overflow_x": null,
            "overflow_y": null,
            "padding": null,
            "right": null,
            "top": null,
            "visibility": null,
            "width": null
          }
        },
        "d3693bacc48042859822254124e10986": {
          "model_module": "@jupyter-widgets/base",
          "model_name": "LayoutModel",
          "model_module_version": "1.2.0",
          "state": {
            "_model_module": "@jupyter-widgets/base",
            "_model_module_version": "1.2.0",
            "_model_name": "LayoutModel",
            "_view_count": null,
            "_view_module": "@jupyter-widgets/base",
            "_view_module_version": "1.2.0",
            "_view_name": "LayoutView",
            "align_content": null,
            "align_items": null,
            "align_self": null,
            "border": null,
            "bottom": null,
            "display": null,
            "flex": null,
            "flex_flow": null,
            "grid_area": null,
            "grid_auto_columns": null,
            "grid_auto_flow": null,
            "grid_auto_rows": null,
            "grid_column": null,
            "grid_gap": null,
            "grid_row": null,
            "grid_template_areas": null,
            "grid_template_columns": null,
            "grid_template_rows": null,
            "height": null,
            "justify_content": null,
            "justify_items": null,
            "left": null,
            "margin": null,
            "max_height": null,
            "max_width": null,
            "min_height": null,
            "min_width": null,
            "object_fit": null,
            "object_position": null,
            "order": null,
            "overflow": null,
            "overflow_x": null,
            "overflow_y": null,
            "padding": null,
            "right": null,
            "top": null,
            "visibility": null,
            "width": null
          }
        },
        "0c774bcbd9294fbdb4fb7296e348844a": {
          "model_module": "@jupyter-widgets/controls",
          "model_name": "DescriptionStyleModel",
          "model_module_version": "1.5.0",
          "state": {
            "_model_module": "@jupyter-widgets/controls",
            "_model_module_version": "1.5.0",
            "_model_name": "DescriptionStyleModel",
            "_view_count": null,
            "_view_module": "@jupyter-widgets/base",
            "_view_module_version": "1.2.0",
            "_view_name": "StyleView",
            "description_width": ""
          }
        },
        "1788845ce955492f984a3c2ee2c5377b": {
          "model_module": "@jupyter-widgets/base",
          "model_name": "LayoutModel",
          "model_module_version": "1.2.0",
          "state": {
            "_model_module": "@jupyter-widgets/base",
            "_model_module_version": "1.2.0",
            "_model_name": "LayoutModel",
            "_view_count": null,
            "_view_module": "@jupyter-widgets/base",
            "_view_module_version": "1.2.0",
            "_view_name": "LayoutView",
            "align_content": null,
            "align_items": null,
            "align_self": null,
            "border": null,
            "bottom": null,
            "display": null,
            "flex": null,
            "flex_flow": null,
            "grid_area": null,
            "grid_auto_columns": null,
            "grid_auto_flow": null,
            "grid_auto_rows": null,
            "grid_column": null,
            "grid_gap": null,
            "grid_row": null,
            "grid_template_areas": null,
            "grid_template_columns": null,
            "grid_template_rows": null,
            "height": null,
            "justify_content": null,
            "justify_items": null,
            "left": null,
            "margin": null,
            "max_height": null,
            "max_width": null,
            "min_height": null,
            "min_width": null,
            "object_fit": null,
            "object_position": null,
            "order": null,
            "overflow": null,
            "overflow_x": null,
            "overflow_y": null,
            "padding": null,
            "right": null,
            "top": null,
            "visibility": null,
            "width": null
          }
        },
        "5bd854dd29b34848bb10d91270ad5077": {
          "model_module": "@jupyter-widgets/controls",
          "model_name": "ProgressStyleModel",
          "model_module_version": "1.5.0",
          "state": {
            "_model_module": "@jupyter-widgets/controls",
            "_model_module_version": "1.5.0",
            "_model_name": "ProgressStyleModel",
            "_view_count": null,
            "_view_module": "@jupyter-widgets/base",
            "_view_module_version": "1.2.0",
            "_view_name": "StyleView",
            "bar_color": null,
            "description_width": ""
          }
        },
        "4d21e38356ee4057b4c11a2945e8a242": {
          "model_module": "@jupyter-widgets/controls",
          "model_name": "VBoxModel",
          "model_module_version": "1.5.0",
          "state": {
            "_dom_classes": [],
            "_model_module": "@jupyter-widgets/controls",
            "_model_module_version": "1.5.0",
            "_model_name": "VBoxModel",
            "_view_count": null,
            "_view_module": "@jupyter-widgets/controls",
            "_view_module_version": "1.5.0",
            "_view_name": "VBoxView",
            "box_style": "",
            "children": [
              "IPY_MODEL_b9f46b48b1bb47928072431a7d086953",
              "IPY_MODEL_a80434228e8144699aa870f95988f10c"
            ],
            "layout": "IPY_MODEL_21297483aaf64cee97634fd5c8953c3e"
          }
        },
        "b9f46b48b1bb47928072431a7d086953": {
          "model_module": "@jupyter-widgets/controls",
          "model_name": "LabelModel",
          "model_module_version": "1.5.0",
          "state": {
            "_dom_classes": [],
            "_model_module": "@jupyter-widgets/controls",
            "_model_module_version": "1.5.0",
            "_model_name": "LabelModel",
            "_view_count": null,
            "_view_module": "@jupyter-widgets/controls",
            "_view_module_version": "1.5.0",
            "_view_name": "LabelView",
            "description": "",
            "description_tooltip": null,
            "layout": "IPY_MODEL_9fc8ce61886548fba6e0294a66fe0ae8",
            "placeholder": "​",
            "style": "IPY_MODEL_0dc4964e21504d99983feb65ba4f9762",
            "value": "0.167 MB of 0.167 MB uploaded (0.009 MB deduped)\r"
          }
        },
        "a80434228e8144699aa870f95988f10c": {
          "model_module": "@jupyter-widgets/controls",
          "model_name": "FloatProgressModel",
          "model_module_version": "1.5.0",
          "state": {
            "_dom_classes": [],
            "_model_module": "@jupyter-widgets/controls",
            "_model_module_version": "1.5.0",
            "_model_name": "FloatProgressModel",
            "_view_count": null,
            "_view_module": "@jupyter-widgets/controls",
            "_view_module_version": "1.5.0",
            "_view_name": "ProgressView",
            "bar_style": "",
            "description": "",
            "description_tooltip": null,
            "layout": "IPY_MODEL_e0295cf135c5471a9853a85e001eeb0a",
            "max": 1,
            "min": 0,
            "orientation": "horizontal",
            "style": "IPY_MODEL_10dbba2f47fd4c2380c5a29f205e2532",
            "value": 1
          }
        },
        "21297483aaf64cee97634fd5c8953c3e": {
          "model_module": "@jupyter-widgets/base",
          "model_name": "LayoutModel",
          "model_module_version": "1.2.0",
          "state": {
            "_model_module": "@jupyter-widgets/base",
            "_model_module_version": "1.2.0",
            "_model_name": "LayoutModel",
            "_view_count": null,
            "_view_module": "@jupyter-widgets/base",
            "_view_module_version": "1.2.0",
            "_view_name": "LayoutView",
            "align_content": null,
            "align_items": null,
            "align_self": null,
            "border": null,
            "bottom": null,
            "display": null,
            "flex": null,
            "flex_flow": null,
            "grid_area": null,
            "grid_auto_columns": null,
            "grid_auto_flow": null,
            "grid_auto_rows": null,
            "grid_column": null,
            "grid_gap": null,
            "grid_row": null,
            "grid_template_areas": null,
            "grid_template_columns": null,
            "grid_template_rows": null,
            "height": null,
            "justify_content": null,
            "justify_items": null,
            "left": null,
            "margin": null,
            "max_height": null,
            "max_width": null,
            "min_height": null,
            "min_width": null,
            "object_fit": null,
            "object_position": null,
            "order": null,
            "overflow": null,
            "overflow_x": null,
            "overflow_y": null,
            "padding": null,
            "right": null,
            "top": null,
            "visibility": null,
            "width": null
          }
        },
        "9fc8ce61886548fba6e0294a66fe0ae8": {
          "model_module": "@jupyter-widgets/base",
          "model_name": "LayoutModel",
          "model_module_version": "1.2.0",
          "state": {
            "_model_module": "@jupyter-widgets/base",
            "_model_module_version": "1.2.0",
            "_model_name": "LayoutModel",
            "_view_count": null,
            "_view_module": "@jupyter-widgets/base",
            "_view_module_version": "1.2.0",
            "_view_name": "LayoutView",
            "align_content": null,
            "align_items": null,
            "align_self": null,
            "border": null,
            "bottom": null,
            "display": null,
            "flex": null,
            "flex_flow": null,
            "grid_area": null,
            "grid_auto_columns": null,
            "grid_auto_flow": null,
            "grid_auto_rows": null,
            "grid_column": null,
            "grid_gap": null,
            "grid_row": null,
            "grid_template_areas": null,
            "grid_template_columns": null,
            "grid_template_rows": null,
            "height": null,
            "justify_content": null,
            "justify_items": null,
            "left": null,
            "margin": null,
            "max_height": null,
            "max_width": null,
            "min_height": null,
            "min_width": null,
            "object_fit": null,
            "object_position": null,
            "order": null,
            "overflow": null,
            "overflow_x": null,
            "overflow_y": null,
            "padding": null,
            "right": null,
            "top": null,
            "visibility": null,
            "width": null
          }
        },
        "0dc4964e21504d99983feb65ba4f9762": {
          "model_module": "@jupyter-widgets/controls",
          "model_name": "DescriptionStyleModel",
          "model_module_version": "1.5.0",
          "state": {
            "_model_module": "@jupyter-widgets/controls",
            "_model_module_version": "1.5.0",
            "_model_name": "DescriptionStyleModel",
            "_view_count": null,
            "_view_module": "@jupyter-widgets/base",
            "_view_module_version": "1.2.0",
            "_view_name": "StyleView",
            "description_width": ""
          }
        },
        "e0295cf135c5471a9853a85e001eeb0a": {
          "model_module": "@jupyter-widgets/base",
          "model_name": "LayoutModel",
          "model_module_version": "1.2.0",
          "state": {
            "_model_module": "@jupyter-widgets/base",
            "_model_module_version": "1.2.0",
            "_model_name": "LayoutModel",
            "_view_count": null,
            "_view_module": "@jupyter-widgets/base",
            "_view_module_version": "1.2.0",
            "_view_name": "LayoutView",
            "align_content": null,
            "align_items": null,
            "align_self": null,
            "border": null,
            "bottom": null,
            "display": null,
            "flex": null,
            "flex_flow": null,
            "grid_area": null,
            "grid_auto_columns": null,
            "grid_auto_flow": null,
            "grid_auto_rows": null,
            "grid_column": null,
            "grid_gap": null,
            "grid_row": null,
            "grid_template_areas": null,
            "grid_template_columns": null,
            "grid_template_rows": null,
            "height": null,
            "justify_content": null,
            "justify_items": null,
            "left": null,
            "margin": null,
            "max_height": null,
            "max_width": null,
            "min_height": null,
            "min_width": null,
            "object_fit": null,
            "object_position": null,
            "order": null,
            "overflow": null,
            "overflow_x": null,
            "overflow_y": null,
            "padding": null,
            "right": null,
            "top": null,
            "visibility": null,
            "width": null
          }
        },
        "10dbba2f47fd4c2380c5a29f205e2532": {
          "model_module": "@jupyter-widgets/controls",
          "model_name": "ProgressStyleModel",
          "model_module_version": "1.5.0",
          "state": {
            "_model_module": "@jupyter-widgets/controls",
            "_model_module_version": "1.5.0",
            "_model_name": "ProgressStyleModel",
            "_view_count": null,
            "_view_module": "@jupyter-widgets/base",
            "_view_module_version": "1.2.0",
            "_view_name": "StyleView",
            "bar_color": null,
            "description_width": ""
          }
        },
        "43431ce62f53499a9f650915bdf0220b": {
          "model_module": "@jupyter-widgets/controls",
          "model_name": "VBoxModel",
          "model_module_version": "1.5.0",
          "state": {
            "_dom_classes": [],
            "_model_module": "@jupyter-widgets/controls",
            "_model_module_version": "1.5.0",
            "_model_name": "VBoxModel",
            "_view_count": null,
            "_view_module": "@jupyter-widgets/controls",
            "_view_module_version": "1.5.0",
            "_view_name": "VBoxView",
            "box_style": "",
            "children": [
              "IPY_MODEL_60533ebf2b204ebd954a7f1dcdaf95c1",
              "IPY_MODEL_285927881e7f4b608aa9c804c09ad3dd"
            ],
            "layout": "IPY_MODEL_0f9fab9907e045f4b32050bc4d21903a"
          }
        },
        "60533ebf2b204ebd954a7f1dcdaf95c1": {
          "model_module": "@jupyter-widgets/controls",
          "model_name": "LabelModel",
          "model_module_version": "1.5.0",
          "state": {
            "_dom_classes": [],
            "_model_module": "@jupyter-widgets/controls",
            "_model_module_version": "1.5.0",
            "_model_name": "LabelModel",
            "_view_count": null,
            "_view_module": "@jupyter-widgets/controls",
            "_view_module_version": "1.5.0",
            "_view_name": "LabelView",
            "description": "",
            "description_tooltip": null,
            "layout": "IPY_MODEL_de003928e64d4141b7ffa2838f2a8d63",
            "placeholder": "​",
            "style": "IPY_MODEL_c0d08b4955d14c84927062257373de84",
            "value": "0.935 MB of 0.935 MB uploaded (0.009 MB deduped)\r"
          }
        },
        "285927881e7f4b608aa9c804c09ad3dd": {
          "model_module": "@jupyter-widgets/controls",
          "model_name": "FloatProgressModel",
          "model_module_version": "1.5.0",
          "state": {
            "_dom_classes": [],
            "_model_module": "@jupyter-widgets/controls",
            "_model_module_version": "1.5.0",
            "_model_name": "FloatProgressModel",
            "_view_count": null,
            "_view_module": "@jupyter-widgets/controls",
            "_view_module_version": "1.5.0",
            "_view_name": "ProgressView",
            "bar_style": "",
            "description": "",
            "description_tooltip": null,
            "layout": "IPY_MODEL_c94d685f5d9a45fdafbb06a8e5eb5c9a",
            "max": 1,
            "min": 0,
            "orientation": "horizontal",
            "style": "IPY_MODEL_427a9e9164b54506a195dfdae4e85df7",
            "value": 1
          }
        },
        "0f9fab9907e045f4b32050bc4d21903a": {
          "model_module": "@jupyter-widgets/base",
          "model_name": "LayoutModel",
          "model_module_version": "1.2.0",
          "state": {
            "_model_module": "@jupyter-widgets/base",
            "_model_module_version": "1.2.0",
            "_model_name": "LayoutModel",
            "_view_count": null,
            "_view_module": "@jupyter-widgets/base",
            "_view_module_version": "1.2.0",
            "_view_name": "LayoutView",
            "align_content": null,
            "align_items": null,
            "align_self": null,
            "border": null,
            "bottom": null,
            "display": null,
            "flex": null,
            "flex_flow": null,
            "grid_area": null,
            "grid_auto_columns": null,
            "grid_auto_flow": null,
            "grid_auto_rows": null,
            "grid_column": null,
            "grid_gap": null,
            "grid_row": null,
            "grid_template_areas": null,
            "grid_template_columns": null,
            "grid_template_rows": null,
            "height": null,
            "justify_content": null,
            "justify_items": null,
            "left": null,
            "margin": null,
            "max_height": null,
            "max_width": null,
            "min_height": null,
            "min_width": null,
            "object_fit": null,
            "object_position": null,
            "order": null,
            "overflow": null,
            "overflow_x": null,
            "overflow_y": null,
            "padding": null,
            "right": null,
            "top": null,
            "visibility": null,
            "width": null
          }
        },
        "de003928e64d4141b7ffa2838f2a8d63": {
          "model_module": "@jupyter-widgets/base",
          "model_name": "LayoutModel",
          "model_module_version": "1.2.0",
          "state": {
            "_model_module": "@jupyter-widgets/base",
            "_model_module_version": "1.2.0",
            "_model_name": "LayoutModel",
            "_view_count": null,
            "_view_module": "@jupyter-widgets/base",
            "_view_module_version": "1.2.0",
            "_view_name": "LayoutView",
            "align_content": null,
            "align_items": null,
            "align_self": null,
            "border": null,
            "bottom": null,
            "display": null,
            "flex": null,
            "flex_flow": null,
            "grid_area": null,
            "grid_auto_columns": null,
            "grid_auto_flow": null,
            "grid_auto_rows": null,
            "grid_column": null,
            "grid_gap": null,
            "grid_row": null,
            "grid_template_areas": null,
            "grid_template_columns": null,
            "grid_template_rows": null,
            "height": null,
            "justify_content": null,
            "justify_items": null,
            "left": null,
            "margin": null,
            "max_height": null,
            "max_width": null,
            "min_height": null,
            "min_width": null,
            "object_fit": null,
            "object_position": null,
            "order": null,
            "overflow": null,
            "overflow_x": null,
            "overflow_y": null,
            "padding": null,
            "right": null,
            "top": null,
            "visibility": null,
            "width": null
          }
        },
        "c0d08b4955d14c84927062257373de84": {
          "model_module": "@jupyter-widgets/controls",
          "model_name": "DescriptionStyleModel",
          "model_module_version": "1.5.0",
          "state": {
            "_model_module": "@jupyter-widgets/controls",
            "_model_module_version": "1.5.0",
            "_model_name": "DescriptionStyleModel",
            "_view_count": null,
            "_view_module": "@jupyter-widgets/base",
            "_view_module_version": "1.2.0",
            "_view_name": "StyleView",
            "description_width": ""
          }
        },
        "c94d685f5d9a45fdafbb06a8e5eb5c9a": {
          "model_module": "@jupyter-widgets/base",
          "model_name": "LayoutModel",
          "model_module_version": "1.2.0",
          "state": {
            "_model_module": "@jupyter-widgets/base",
            "_model_module_version": "1.2.0",
            "_model_name": "LayoutModel",
            "_view_count": null,
            "_view_module": "@jupyter-widgets/base",
            "_view_module_version": "1.2.0",
            "_view_name": "LayoutView",
            "align_content": null,
            "align_items": null,
            "align_self": null,
            "border": null,
            "bottom": null,
            "display": null,
            "flex": null,
            "flex_flow": null,
            "grid_area": null,
            "grid_auto_columns": null,
            "grid_auto_flow": null,
            "grid_auto_rows": null,
            "grid_column": null,
            "grid_gap": null,
            "grid_row": null,
            "grid_template_areas": null,
            "grid_template_columns": null,
            "grid_template_rows": null,
            "height": null,
            "justify_content": null,
            "justify_items": null,
            "left": null,
            "margin": null,
            "max_height": null,
            "max_width": null,
            "min_height": null,
            "min_width": null,
            "object_fit": null,
            "object_position": null,
            "order": null,
            "overflow": null,
            "overflow_x": null,
            "overflow_y": null,
            "padding": null,
            "right": null,
            "top": null,
            "visibility": null,
            "width": null
          }
        },
        "427a9e9164b54506a195dfdae4e85df7": {
          "model_module": "@jupyter-widgets/controls",
          "model_name": "ProgressStyleModel",
          "model_module_version": "1.5.0",
          "state": {
            "_model_module": "@jupyter-widgets/controls",
            "_model_module_version": "1.5.0",
            "_model_name": "ProgressStyleModel",
            "_view_count": null,
            "_view_module": "@jupyter-widgets/base",
            "_view_module_version": "1.2.0",
            "_view_name": "StyleView",
            "bar_color": null,
            "description_width": ""
          }
        },
        "6c11dc459b1c42fa916053b668fdd192": {
          "model_module": "@jupyter-widgets/controls",
          "model_name": "VBoxModel",
          "model_module_version": "1.5.0",
          "state": {
            "_dom_classes": [],
            "_model_module": "@jupyter-widgets/controls",
            "_model_module_version": "1.5.0",
            "_model_name": "VBoxModel",
            "_view_count": null,
            "_view_module": "@jupyter-widgets/controls",
            "_view_module_version": "1.5.0",
            "_view_name": "VBoxView",
            "box_style": "",
            "children": [
              "IPY_MODEL_aa4aca39508d412982b1685baad68851",
              "IPY_MODEL_5caf1222d8e747f884a76a3ad47e8719"
            ],
            "layout": "IPY_MODEL_175a7d4201594314b19dc3f1c74aebc4"
          }
        },
        "aa4aca39508d412982b1685baad68851": {
          "model_module": "@jupyter-widgets/controls",
          "model_name": "LabelModel",
          "model_module_version": "1.5.0",
          "state": {
            "_dom_classes": [],
            "_model_module": "@jupyter-widgets/controls",
            "_model_module_version": "1.5.0",
            "_model_name": "LabelModel",
            "_view_count": null,
            "_view_module": "@jupyter-widgets/controls",
            "_view_module_version": "1.5.0",
            "_view_name": "LabelView",
            "description": "",
            "description_tooltip": null,
            "layout": "IPY_MODEL_4398ea70f6164ebb855e43b8f571a16f",
            "placeholder": "​",
            "style": "IPY_MODEL_a6a6d66f0228444bb228bcbf96502a93",
            "value": "Waiting for wandb.init()...\r"
          }
        },
        "5caf1222d8e747f884a76a3ad47e8719": {
          "model_module": "@jupyter-widgets/controls",
          "model_name": "FloatProgressModel",
          "model_module_version": "1.5.0",
          "state": {
            "_dom_classes": [],
            "_model_module": "@jupyter-widgets/controls",
            "_model_module_version": "1.5.0",
            "_model_name": "FloatProgressModel",
            "_view_count": null,
            "_view_module": "@jupyter-widgets/controls",
            "_view_module_version": "1.5.0",
            "_view_name": "ProgressView",
            "bar_style": "",
            "description": "",
            "description_tooltip": null,
            "layout": "IPY_MODEL_649bc2e655ff4c309d9ef96ee9562727",
            "max": 1,
            "min": 0,
            "orientation": "horizontal",
            "style": "IPY_MODEL_4b457ac51e614b388fdd439db8ccdb34",
            "value": 1
          }
        },
        "175a7d4201594314b19dc3f1c74aebc4": {
          "model_module": "@jupyter-widgets/base",
          "model_name": "LayoutModel",
          "model_module_version": "1.2.0",
          "state": {
            "_model_module": "@jupyter-widgets/base",
            "_model_module_version": "1.2.0",
            "_model_name": "LayoutModel",
            "_view_count": null,
            "_view_module": "@jupyter-widgets/base",
            "_view_module_version": "1.2.0",
            "_view_name": "LayoutView",
            "align_content": null,
            "align_items": null,
            "align_self": null,
            "border": null,
            "bottom": null,
            "display": null,
            "flex": null,
            "flex_flow": null,
            "grid_area": null,
            "grid_auto_columns": null,
            "grid_auto_flow": null,
            "grid_auto_rows": null,
            "grid_column": null,
            "grid_gap": null,
            "grid_row": null,
            "grid_template_areas": null,
            "grid_template_columns": null,
            "grid_template_rows": null,
            "height": null,
            "justify_content": null,
            "justify_items": null,
            "left": null,
            "margin": null,
            "max_height": null,
            "max_width": null,
            "min_height": null,
            "min_width": null,
            "object_fit": null,
            "object_position": null,
            "order": null,
            "overflow": null,
            "overflow_x": null,
            "overflow_y": null,
            "padding": null,
            "right": null,
            "top": null,
            "visibility": null,
            "width": null
          }
        },
        "4398ea70f6164ebb855e43b8f571a16f": {
          "model_module": "@jupyter-widgets/base",
          "model_name": "LayoutModel",
          "model_module_version": "1.2.0",
          "state": {
            "_model_module": "@jupyter-widgets/base",
            "_model_module_version": "1.2.0",
            "_model_name": "LayoutModel",
            "_view_count": null,
            "_view_module": "@jupyter-widgets/base",
            "_view_module_version": "1.2.0",
            "_view_name": "LayoutView",
            "align_content": null,
            "align_items": null,
            "align_self": null,
            "border": null,
            "bottom": null,
            "display": null,
            "flex": null,
            "flex_flow": null,
            "grid_area": null,
            "grid_auto_columns": null,
            "grid_auto_flow": null,
            "grid_auto_rows": null,
            "grid_column": null,
            "grid_gap": null,
            "grid_row": null,
            "grid_template_areas": null,
            "grid_template_columns": null,
            "grid_template_rows": null,
            "height": null,
            "justify_content": null,
            "justify_items": null,
            "left": null,
            "margin": null,
            "max_height": null,
            "max_width": null,
            "min_height": null,
            "min_width": null,
            "object_fit": null,
            "object_position": null,
            "order": null,
            "overflow": null,
            "overflow_x": null,
            "overflow_y": null,
            "padding": null,
            "right": null,
            "top": null,
            "visibility": null,
            "width": null
          }
        },
        "a6a6d66f0228444bb228bcbf96502a93": {
          "model_module": "@jupyter-widgets/controls",
          "model_name": "DescriptionStyleModel",
          "model_module_version": "1.5.0",
          "state": {
            "_model_module": "@jupyter-widgets/controls",
            "_model_module_version": "1.5.0",
            "_model_name": "DescriptionStyleModel",
            "_view_count": null,
            "_view_module": "@jupyter-widgets/base",
            "_view_module_version": "1.2.0",
            "_view_name": "StyleView",
            "description_width": ""
          }
        },
        "649bc2e655ff4c309d9ef96ee9562727": {
          "model_module": "@jupyter-widgets/base",
          "model_name": "LayoutModel",
          "model_module_version": "1.2.0",
          "state": {
            "_model_module": "@jupyter-widgets/base",
            "_model_module_version": "1.2.0",
            "_model_name": "LayoutModel",
            "_view_count": null,
            "_view_module": "@jupyter-widgets/base",
            "_view_module_version": "1.2.0",
            "_view_name": "LayoutView",
            "align_content": null,
            "align_items": null,
            "align_self": null,
            "border": null,
            "bottom": null,
            "display": null,
            "flex": null,
            "flex_flow": null,
            "grid_area": null,
            "grid_auto_columns": null,
            "grid_auto_flow": null,
            "grid_auto_rows": null,
            "grid_column": null,
            "grid_gap": null,
            "grid_row": null,
            "grid_template_areas": null,
            "grid_template_columns": null,
            "grid_template_rows": null,
            "height": null,
            "justify_content": null,
            "justify_items": null,
            "left": null,
            "margin": null,
            "max_height": null,
            "max_width": null,
            "min_height": null,
            "min_width": null,
            "object_fit": null,
            "object_position": null,
            "order": null,
            "overflow": null,
            "overflow_x": null,
            "overflow_y": null,
            "padding": null,
            "right": null,
            "top": null,
            "visibility": null,
            "width": null
          }
        },
        "4b457ac51e614b388fdd439db8ccdb34": {
          "model_module": "@jupyter-widgets/controls",
          "model_name": "ProgressStyleModel",
          "model_module_version": "1.5.0",
          "state": {
            "_model_module": "@jupyter-widgets/controls",
            "_model_module_version": "1.5.0",
            "_model_name": "ProgressStyleModel",
            "_view_count": null,
            "_view_module": "@jupyter-widgets/base",
            "_view_module_version": "1.2.0",
            "_view_name": "StyleView",
            "bar_color": null,
            "description_width": ""
          }
        },
        "bb33eaed1d774e0cbe96f2f13baea894": {
          "model_module": "@jupyter-widgets/controls",
          "model_name": "VBoxModel",
          "model_module_version": "1.5.0",
          "state": {
            "_dom_classes": [],
            "_model_module": "@jupyter-widgets/controls",
            "_model_module_version": "1.5.0",
            "_model_name": "VBoxModel",
            "_view_count": null,
            "_view_module": "@jupyter-widgets/controls",
            "_view_module_version": "1.5.0",
            "_view_name": "VBoxView",
            "box_style": "",
            "children": [
              "IPY_MODEL_1c4a5915211347fead807fce0ea87149",
              "IPY_MODEL_ce3b1e656ebe435eabac7d7caf2bf820"
            ],
            "layout": "IPY_MODEL_9838165888b0445ebe65bbdd275e74d3"
          }
        },
        "1c4a5915211347fead807fce0ea87149": {
          "model_module": "@jupyter-widgets/controls",
          "model_name": "LabelModel",
          "model_module_version": "1.5.0",
          "state": {
            "_dom_classes": [],
            "_model_module": "@jupyter-widgets/controls",
            "_model_module_version": "1.5.0",
            "_model_name": "LabelModel",
            "_view_count": null,
            "_view_module": "@jupyter-widgets/controls",
            "_view_module_version": "1.5.0",
            "_view_name": "LabelView",
            "description": "",
            "description_tooltip": null,
            "layout": "IPY_MODEL_505f31a2211d4d168044513e672c86b4",
            "placeholder": "​",
            "style": "IPY_MODEL_abbc62eb5991407ca8d9b087b79c285e",
            "value": "1.327 MB of 1.327 MB uploaded (1.143 MB deduped)\r"
          }
        },
        "ce3b1e656ebe435eabac7d7caf2bf820": {
          "model_module": "@jupyter-widgets/controls",
          "model_name": "FloatProgressModel",
          "model_module_version": "1.5.0",
          "state": {
            "_dom_classes": [],
            "_model_module": "@jupyter-widgets/controls",
            "_model_module_version": "1.5.0",
            "_model_name": "FloatProgressModel",
            "_view_count": null,
            "_view_module": "@jupyter-widgets/controls",
            "_view_module_version": "1.5.0",
            "_view_name": "ProgressView",
            "bar_style": "",
            "description": "",
            "description_tooltip": null,
            "layout": "IPY_MODEL_7733534143984bcaae6672ff997a0406",
            "max": 1,
            "min": 0,
            "orientation": "horizontal",
            "style": "IPY_MODEL_75ad4026f3ea4155a7999a3d3526f044",
            "value": 1
          }
        },
        "9838165888b0445ebe65bbdd275e74d3": {
          "model_module": "@jupyter-widgets/base",
          "model_name": "LayoutModel",
          "model_module_version": "1.2.0",
          "state": {
            "_model_module": "@jupyter-widgets/base",
            "_model_module_version": "1.2.0",
            "_model_name": "LayoutModel",
            "_view_count": null,
            "_view_module": "@jupyter-widgets/base",
            "_view_module_version": "1.2.0",
            "_view_name": "LayoutView",
            "align_content": null,
            "align_items": null,
            "align_self": null,
            "border": null,
            "bottom": null,
            "display": null,
            "flex": null,
            "flex_flow": null,
            "grid_area": null,
            "grid_auto_columns": null,
            "grid_auto_flow": null,
            "grid_auto_rows": null,
            "grid_column": null,
            "grid_gap": null,
            "grid_row": null,
            "grid_template_areas": null,
            "grid_template_columns": null,
            "grid_template_rows": null,
            "height": null,
            "justify_content": null,
            "justify_items": null,
            "left": null,
            "margin": null,
            "max_height": null,
            "max_width": null,
            "min_height": null,
            "min_width": null,
            "object_fit": null,
            "object_position": null,
            "order": null,
            "overflow": null,
            "overflow_x": null,
            "overflow_y": null,
            "padding": null,
            "right": null,
            "top": null,
            "visibility": null,
            "width": null
          }
        },
        "505f31a2211d4d168044513e672c86b4": {
          "model_module": "@jupyter-widgets/base",
          "model_name": "LayoutModel",
          "model_module_version": "1.2.0",
          "state": {
            "_model_module": "@jupyter-widgets/base",
            "_model_module_version": "1.2.0",
            "_model_name": "LayoutModel",
            "_view_count": null,
            "_view_module": "@jupyter-widgets/base",
            "_view_module_version": "1.2.0",
            "_view_name": "LayoutView",
            "align_content": null,
            "align_items": null,
            "align_self": null,
            "border": null,
            "bottom": null,
            "display": null,
            "flex": null,
            "flex_flow": null,
            "grid_area": null,
            "grid_auto_columns": null,
            "grid_auto_flow": null,
            "grid_auto_rows": null,
            "grid_column": null,
            "grid_gap": null,
            "grid_row": null,
            "grid_template_areas": null,
            "grid_template_columns": null,
            "grid_template_rows": null,
            "height": null,
            "justify_content": null,
            "justify_items": null,
            "left": null,
            "margin": null,
            "max_height": null,
            "max_width": null,
            "min_height": null,
            "min_width": null,
            "object_fit": null,
            "object_position": null,
            "order": null,
            "overflow": null,
            "overflow_x": null,
            "overflow_y": null,
            "padding": null,
            "right": null,
            "top": null,
            "visibility": null,
            "width": null
          }
        },
        "abbc62eb5991407ca8d9b087b79c285e": {
          "model_module": "@jupyter-widgets/controls",
          "model_name": "DescriptionStyleModel",
          "model_module_version": "1.5.0",
          "state": {
            "_model_module": "@jupyter-widgets/controls",
            "_model_module_version": "1.5.0",
            "_model_name": "DescriptionStyleModel",
            "_view_count": null,
            "_view_module": "@jupyter-widgets/base",
            "_view_module_version": "1.2.0",
            "_view_name": "StyleView",
            "description_width": ""
          }
        },
        "7733534143984bcaae6672ff997a0406": {
          "model_module": "@jupyter-widgets/base",
          "model_name": "LayoutModel",
          "model_module_version": "1.2.0",
          "state": {
            "_model_module": "@jupyter-widgets/base",
            "_model_module_version": "1.2.0",
            "_model_name": "LayoutModel",
            "_view_count": null,
            "_view_module": "@jupyter-widgets/base",
            "_view_module_version": "1.2.0",
            "_view_name": "LayoutView",
            "align_content": null,
            "align_items": null,
            "align_self": null,
            "border": null,
            "bottom": null,
            "display": null,
            "flex": null,
            "flex_flow": null,
            "grid_area": null,
            "grid_auto_columns": null,
            "grid_auto_flow": null,
            "grid_auto_rows": null,
            "grid_column": null,
            "grid_gap": null,
            "grid_row": null,
            "grid_template_areas": null,
            "grid_template_columns": null,
            "grid_template_rows": null,
            "height": null,
            "justify_content": null,
            "justify_items": null,
            "left": null,
            "margin": null,
            "max_height": null,
            "max_width": null,
            "min_height": null,
            "min_width": null,
            "object_fit": null,
            "object_position": null,
            "order": null,
            "overflow": null,
            "overflow_x": null,
            "overflow_y": null,
            "padding": null,
            "right": null,
            "top": null,
            "visibility": null,
            "width": null
          }
        },
        "75ad4026f3ea4155a7999a3d3526f044": {
          "model_module": "@jupyter-widgets/controls",
          "model_name": "ProgressStyleModel",
          "model_module_version": "1.5.0",
          "state": {
            "_model_module": "@jupyter-widgets/controls",
            "_model_module_version": "1.5.0",
            "_model_name": "ProgressStyleModel",
            "_view_count": null,
            "_view_module": "@jupyter-widgets/base",
            "_view_module_version": "1.2.0",
            "_view_name": "StyleView",
            "bar_color": null,
            "description_width": ""
          }
        },
        "645f4d3115ec450e9b107a689dc9a24b": {
          "model_module": "@jupyter-widgets/controls",
          "model_name": "VBoxModel",
          "model_module_version": "1.5.0",
          "state": {
            "_dom_classes": [],
            "_model_module": "@jupyter-widgets/controls",
            "_model_module_version": "1.5.0",
            "_model_name": "VBoxModel",
            "_view_count": null,
            "_view_module": "@jupyter-widgets/controls",
            "_view_module_version": "1.5.0",
            "_view_name": "VBoxView",
            "box_style": "",
            "children": [
              "IPY_MODEL_9a2468f31c7041269d4df623d1b02651",
              "IPY_MODEL_87d4d8daf4c248c898f646438b3f0b18"
            ],
            "layout": "IPY_MODEL_aa3e9134b7b14e95ab3b6d6937409e2e"
          }
        },
        "9a2468f31c7041269d4df623d1b02651": {
          "model_module": "@jupyter-widgets/controls",
          "model_name": "LabelModel",
          "model_module_version": "1.5.0",
          "state": {
            "_dom_classes": [],
            "_model_module": "@jupyter-widgets/controls",
            "_model_module_version": "1.5.0",
            "_model_name": "LabelModel",
            "_view_count": null,
            "_view_module": "@jupyter-widgets/controls",
            "_view_module_version": "1.5.0",
            "_view_name": "LabelView",
            "description": "",
            "description_tooltip": null,
            "layout": "IPY_MODEL_dc74ff3172b64922a49ba43d7d7c12e6",
            "placeholder": "​",
            "style": "IPY_MODEL_2e27970e610248539f6a8e3926700f39",
            "value": "1.335 MB of 1.335 MB uploaded (1.143 MB deduped)\r"
          }
        },
        "87d4d8daf4c248c898f646438b3f0b18": {
          "model_module": "@jupyter-widgets/controls",
          "model_name": "FloatProgressModel",
          "model_module_version": "1.5.0",
          "state": {
            "_dom_classes": [],
            "_model_module": "@jupyter-widgets/controls",
            "_model_module_version": "1.5.0",
            "_model_name": "FloatProgressModel",
            "_view_count": null,
            "_view_module": "@jupyter-widgets/controls",
            "_view_module_version": "1.5.0",
            "_view_name": "ProgressView",
            "bar_style": "",
            "description": "",
            "description_tooltip": null,
            "layout": "IPY_MODEL_4c30129390bf45a3a753a2678c3f2bb6",
            "max": 1,
            "min": 0,
            "orientation": "horizontal",
            "style": "IPY_MODEL_ddf0555ed6d44634b1b3e51ed5d0ce13",
            "value": 1
          }
        },
        "aa3e9134b7b14e95ab3b6d6937409e2e": {
          "model_module": "@jupyter-widgets/base",
          "model_name": "LayoutModel",
          "model_module_version": "1.2.0",
          "state": {
            "_model_module": "@jupyter-widgets/base",
            "_model_module_version": "1.2.0",
            "_model_name": "LayoutModel",
            "_view_count": null,
            "_view_module": "@jupyter-widgets/base",
            "_view_module_version": "1.2.0",
            "_view_name": "LayoutView",
            "align_content": null,
            "align_items": null,
            "align_self": null,
            "border": null,
            "bottom": null,
            "display": null,
            "flex": null,
            "flex_flow": null,
            "grid_area": null,
            "grid_auto_columns": null,
            "grid_auto_flow": null,
            "grid_auto_rows": null,
            "grid_column": null,
            "grid_gap": null,
            "grid_row": null,
            "grid_template_areas": null,
            "grid_template_columns": null,
            "grid_template_rows": null,
            "height": null,
            "justify_content": null,
            "justify_items": null,
            "left": null,
            "margin": null,
            "max_height": null,
            "max_width": null,
            "min_height": null,
            "min_width": null,
            "object_fit": null,
            "object_position": null,
            "order": null,
            "overflow": null,
            "overflow_x": null,
            "overflow_y": null,
            "padding": null,
            "right": null,
            "top": null,
            "visibility": null,
            "width": null
          }
        },
        "dc74ff3172b64922a49ba43d7d7c12e6": {
          "model_module": "@jupyter-widgets/base",
          "model_name": "LayoutModel",
          "model_module_version": "1.2.0",
          "state": {
            "_model_module": "@jupyter-widgets/base",
            "_model_module_version": "1.2.0",
            "_model_name": "LayoutModel",
            "_view_count": null,
            "_view_module": "@jupyter-widgets/base",
            "_view_module_version": "1.2.0",
            "_view_name": "LayoutView",
            "align_content": null,
            "align_items": null,
            "align_self": null,
            "border": null,
            "bottom": null,
            "display": null,
            "flex": null,
            "flex_flow": null,
            "grid_area": null,
            "grid_auto_columns": null,
            "grid_auto_flow": null,
            "grid_auto_rows": null,
            "grid_column": null,
            "grid_gap": null,
            "grid_row": null,
            "grid_template_areas": null,
            "grid_template_columns": null,
            "grid_template_rows": null,
            "height": null,
            "justify_content": null,
            "justify_items": null,
            "left": null,
            "margin": null,
            "max_height": null,
            "max_width": null,
            "min_height": null,
            "min_width": null,
            "object_fit": null,
            "object_position": null,
            "order": null,
            "overflow": null,
            "overflow_x": null,
            "overflow_y": null,
            "padding": null,
            "right": null,
            "top": null,
            "visibility": null,
            "width": null
          }
        },
        "2e27970e610248539f6a8e3926700f39": {
          "model_module": "@jupyter-widgets/controls",
          "model_name": "DescriptionStyleModel",
          "model_module_version": "1.5.0",
          "state": {
            "_model_module": "@jupyter-widgets/controls",
            "_model_module_version": "1.5.0",
            "_model_name": "DescriptionStyleModel",
            "_view_count": null,
            "_view_module": "@jupyter-widgets/base",
            "_view_module_version": "1.2.0",
            "_view_name": "StyleView",
            "description_width": ""
          }
        },
        "4c30129390bf45a3a753a2678c3f2bb6": {
          "model_module": "@jupyter-widgets/base",
          "model_name": "LayoutModel",
          "model_module_version": "1.2.0",
          "state": {
            "_model_module": "@jupyter-widgets/base",
            "_model_module_version": "1.2.0",
            "_model_name": "LayoutModel",
            "_view_count": null,
            "_view_module": "@jupyter-widgets/base",
            "_view_module_version": "1.2.0",
            "_view_name": "LayoutView",
            "align_content": null,
            "align_items": null,
            "align_self": null,
            "border": null,
            "bottom": null,
            "display": null,
            "flex": null,
            "flex_flow": null,
            "grid_area": null,
            "grid_auto_columns": null,
            "grid_auto_flow": null,
            "grid_auto_rows": null,
            "grid_column": null,
            "grid_gap": null,
            "grid_row": null,
            "grid_template_areas": null,
            "grid_template_columns": null,
            "grid_template_rows": null,
            "height": null,
            "justify_content": null,
            "justify_items": null,
            "left": null,
            "margin": null,
            "max_height": null,
            "max_width": null,
            "min_height": null,
            "min_width": null,
            "object_fit": null,
            "object_position": null,
            "order": null,
            "overflow": null,
            "overflow_x": null,
            "overflow_y": null,
            "padding": null,
            "right": null,
            "top": null,
            "visibility": null,
            "width": null
          }
        },
        "ddf0555ed6d44634b1b3e51ed5d0ce13": {
          "model_module": "@jupyter-widgets/controls",
          "model_name": "ProgressStyleModel",
          "model_module_version": "1.5.0",
          "state": {
            "_model_module": "@jupyter-widgets/controls",
            "_model_module_version": "1.5.0",
            "_model_name": "ProgressStyleModel",
            "_view_count": null,
            "_view_module": "@jupyter-widgets/base",
            "_view_module_version": "1.2.0",
            "_view_name": "StyleView",
            "bar_color": null,
            "description_width": ""
          }
        },
        "87f8699a5fd14bc28767607f40acb4d7": {
          "model_module": "@jupyter-widgets/controls",
          "model_name": "VBoxModel",
          "model_module_version": "1.5.0",
          "state": {
            "_dom_classes": [],
            "_model_module": "@jupyter-widgets/controls",
            "_model_module_version": "1.5.0",
            "_model_name": "VBoxModel",
            "_view_count": null,
            "_view_module": "@jupyter-widgets/controls",
            "_view_module_version": "1.5.0",
            "_view_name": "VBoxView",
            "box_style": "",
            "children": [
              "IPY_MODEL_30b37d020e0a4b2795b85e7e67ea477a",
              "IPY_MODEL_d4527a14c8524a05a39f6b1c3c15a81c"
            ],
            "layout": "IPY_MODEL_7e9f27a0fa694c6e9061f86a2ae1c677"
          }
        },
        "30b37d020e0a4b2795b85e7e67ea477a": {
          "model_module": "@jupyter-widgets/controls",
          "model_name": "LabelModel",
          "model_module_version": "1.5.0",
          "state": {
            "_dom_classes": [],
            "_model_module": "@jupyter-widgets/controls",
            "_model_module_version": "1.5.0",
            "_model_name": "LabelModel",
            "_view_count": null,
            "_view_module": "@jupyter-widgets/controls",
            "_view_module_version": "1.5.0",
            "_view_name": "LabelView",
            "description": "",
            "description_tooltip": null,
            "layout": "IPY_MODEL_e7f90d2cdd224687beb8ef561504a53c",
            "placeholder": "​",
            "style": "IPY_MODEL_8e47efd32844466b9b35079296aedbcd",
            "value": "1.344 MB of 1.344 MB uploaded (1.143 MB deduped)\r"
          }
        },
        "d4527a14c8524a05a39f6b1c3c15a81c": {
          "model_module": "@jupyter-widgets/controls",
          "model_name": "FloatProgressModel",
          "model_module_version": "1.5.0",
          "state": {
            "_dom_classes": [],
            "_model_module": "@jupyter-widgets/controls",
            "_model_module_version": "1.5.0",
            "_model_name": "FloatProgressModel",
            "_view_count": null,
            "_view_module": "@jupyter-widgets/controls",
            "_view_module_version": "1.5.0",
            "_view_name": "ProgressView",
            "bar_style": "",
            "description": "",
            "description_tooltip": null,
            "layout": "IPY_MODEL_1363f807f43d4e61999e3f71d6b99317",
            "max": 1,
            "min": 0,
            "orientation": "horizontal",
            "style": "IPY_MODEL_bfb0b98324374122a1331f5898cd00c1",
            "value": 1
          }
        },
        "7e9f27a0fa694c6e9061f86a2ae1c677": {
          "model_module": "@jupyter-widgets/base",
          "model_name": "LayoutModel",
          "model_module_version": "1.2.0",
          "state": {
            "_model_module": "@jupyter-widgets/base",
            "_model_module_version": "1.2.0",
            "_model_name": "LayoutModel",
            "_view_count": null,
            "_view_module": "@jupyter-widgets/base",
            "_view_module_version": "1.2.0",
            "_view_name": "LayoutView",
            "align_content": null,
            "align_items": null,
            "align_self": null,
            "border": null,
            "bottom": null,
            "display": null,
            "flex": null,
            "flex_flow": null,
            "grid_area": null,
            "grid_auto_columns": null,
            "grid_auto_flow": null,
            "grid_auto_rows": null,
            "grid_column": null,
            "grid_gap": null,
            "grid_row": null,
            "grid_template_areas": null,
            "grid_template_columns": null,
            "grid_template_rows": null,
            "height": null,
            "justify_content": null,
            "justify_items": null,
            "left": null,
            "margin": null,
            "max_height": null,
            "max_width": null,
            "min_height": null,
            "min_width": null,
            "object_fit": null,
            "object_position": null,
            "order": null,
            "overflow": null,
            "overflow_x": null,
            "overflow_y": null,
            "padding": null,
            "right": null,
            "top": null,
            "visibility": null,
            "width": null
          }
        },
        "e7f90d2cdd224687beb8ef561504a53c": {
          "model_module": "@jupyter-widgets/base",
          "model_name": "LayoutModel",
          "model_module_version": "1.2.0",
          "state": {
            "_model_module": "@jupyter-widgets/base",
            "_model_module_version": "1.2.0",
            "_model_name": "LayoutModel",
            "_view_count": null,
            "_view_module": "@jupyter-widgets/base",
            "_view_module_version": "1.2.0",
            "_view_name": "LayoutView",
            "align_content": null,
            "align_items": null,
            "align_self": null,
            "border": null,
            "bottom": null,
            "display": null,
            "flex": null,
            "flex_flow": null,
            "grid_area": null,
            "grid_auto_columns": null,
            "grid_auto_flow": null,
            "grid_auto_rows": null,
            "grid_column": null,
            "grid_gap": null,
            "grid_row": null,
            "grid_template_areas": null,
            "grid_template_columns": null,
            "grid_template_rows": null,
            "height": null,
            "justify_content": null,
            "justify_items": null,
            "left": null,
            "margin": null,
            "max_height": null,
            "max_width": null,
            "min_height": null,
            "min_width": null,
            "object_fit": null,
            "object_position": null,
            "order": null,
            "overflow": null,
            "overflow_x": null,
            "overflow_y": null,
            "padding": null,
            "right": null,
            "top": null,
            "visibility": null,
            "width": null
          }
        },
        "8e47efd32844466b9b35079296aedbcd": {
          "model_module": "@jupyter-widgets/controls",
          "model_name": "DescriptionStyleModel",
          "model_module_version": "1.5.0",
          "state": {
            "_model_module": "@jupyter-widgets/controls",
            "_model_module_version": "1.5.0",
            "_model_name": "DescriptionStyleModel",
            "_view_count": null,
            "_view_module": "@jupyter-widgets/base",
            "_view_module_version": "1.2.0",
            "_view_name": "StyleView",
            "description_width": ""
          }
        },
        "1363f807f43d4e61999e3f71d6b99317": {
          "model_module": "@jupyter-widgets/base",
          "model_name": "LayoutModel",
          "model_module_version": "1.2.0",
          "state": {
            "_model_module": "@jupyter-widgets/base",
            "_model_module_version": "1.2.0",
            "_model_name": "LayoutModel",
            "_view_count": null,
            "_view_module": "@jupyter-widgets/base",
            "_view_module_version": "1.2.0",
            "_view_name": "LayoutView",
            "align_content": null,
            "align_items": null,
            "align_self": null,
            "border": null,
            "bottom": null,
            "display": null,
            "flex": null,
            "flex_flow": null,
            "grid_area": null,
            "grid_auto_columns": null,
            "grid_auto_flow": null,
            "grid_auto_rows": null,
            "grid_column": null,
            "grid_gap": null,
            "grid_row": null,
            "grid_template_areas": null,
            "grid_template_columns": null,
            "grid_template_rows": null,
            "height": null,
            "justify_content": null,
            "justify_items": null,
            "left": null,
            "margin": null,
            "max_height": null,
            "max_width": null,
            "min_height": null,
            "min_width": null,
            "object_fit": null,
            "object_position": null,
            "order": null,
            "overflow": null,
            "overflow_x": null,
            "overflow_y": null,
            "padding": null,
            "right": null,
            "top": null,
            "visibility": null,
            "width": null
          }
        },
        "bfb0b98324374122a1331f5898cd00c1": {
          "model_module": "@jupyter-widgets/controls",
          "model_name": "ProgressStyleModel",
          "model_module_version": "1.5.0",
          "state": {
            "_model_module": "@jupyter-widgets/controls",
            "_model_module_version": "1.5.0",
            "_model_name": "ProgressStyleModel",
            "_view_count": null,
            "_view_module": "@jupyter-widgets/base",
            "_view_module_version": "1.2.0",
            "_view_name": "StyleView",
            "bar_color": null,
            "description_width": ""
          }
        },
        "35290546c8df4e4eb864ac7fcc020068": {
          "model_module": "@jupyter-widgets/controls",
          "model_name": "VBoxModel",
          "model_module_version": "1.5.0",
          "state": {
            "_dom_classes": [],
            "_model_module": "@jupyter-widgets/controls",
            "_model_module_version": "1.5.0",
            "_model_name": "VBoxModel",
            "_view_count": null,
            "_view_module": "@jupyter-widgets/controls",
            "_view_module_version": "1.5.0",
            "_view_name": "VBoxView",
            "box_style": "",
            "children": [
              "IPY_MODEL_01d788e665a94e17ab7f495080077215",
              "IPY_MODEL_953d003330d0462fa16bf85f792adc5f"
            ],
            "layout": "IPY_MODEL_c9232219c0f54b74b1c953258246c252"
          }
        },
        "01d788e665a94e17ab7f495080077215": {
          "model_module": "@jupyter-widgets/controls",
          "model_name": "LabelModel",
          "model_module_version": "1.5.0",
          "state": {
            "_dom_classes": [],
            "_model_module": "@jupyter-widgets/controls",
            "_model_module_version": "1.5.0",
            "_model_name": "LabelModel",
            "_view_count": null,
            "_view_module": "@jupyter-widgets/controls",
            "_view_module_version": "1.5.0",
            "_view_name": "LabelView",
            "description": "",
            "description_tooltip": null,
            "layout": "IPY_MODEL_c546d75bcd1c48618a4abfc1859d2e69",
            "placeholder": "​",
            "style": "IPY_MODEL_4224678764b84441952c205511f6566d",
            "value": "1.353 MB of 1.353 MB uploaded (1.143 MB deduped)\r"
          }
        },
        "953d003330d0462fa16bf85f792adc5f": {
          "model_module": "@jupyter-widgets/controls",
          "model_name": "FloatProgressModel",
          "model_module_version": "1.5.0",
          "state": {
            "_dom_classes": [],
            "_model_module": "@jupyter-widgets/controls",
            "_model_module_version": "1.5.0",
            "_model_name": "FloatProgressModel",
            "_view_count": null,
            "_view_module": "@jupyter-widgets/controls",
            "_view_module_version": "1.5.0",
            "_view_name": "ProgressView",
            "bar_style": "",
            "description": "",
            "description_tooltip": null,
            "layout": "IPY_MODEL_e61510557d08485ab5c8ef4dfd2c945b",
            "max": 1,
            "min": 0,
            "orientation": "horizontal",
            "style": "IPY_MODEL_69fff52910654b1482d1412c01ab1979",
            "value": 1
          }
        },
        "c9232219c0f54b74b1c953258246c252": {
          "model_module": "@jupyter-widgets/base",
          "model_name": "LayoutModel",
          "model_module_version": "1.2.0",
          "state": {
            "_model_module": "@jupyter-widgets/base",
            "_model_module_version": "1.2.0",
            "_model_name": "LayoutModel",
            "_view_count": null,
            "_view_module": "@jupyter-widgets/base",
            "_view_module_version": "1.2.0",
            "_view_name": "LayoutView",
            "align_content": null,
            "align_items": null,
            "align_self": null,
            "border": null,
            "bottom": null,
            "display": null,
            "flex": null,
            "flex_flow": null,
            "grid_area": null,
            "grid_auto_columns": null,
            "grid_auto_flow": null,
            "grid_auto_rows": null,
            "grid_column": null,
            "grid_gap": null,
            "grid_row": null,
            "grid_template_areas": null,
            "grid_template_columns": null,
            "grid_template_rows": null,
            "height": null,
            "justify_content": null,
            "justify_items": null,
            "left": null,
            "margin": null,
            "max_height": null,
            "max_width": null,
            "min_height": null,
            "min_width": null,
            "object_fit": null,
            "object_position": null,
            "order": null,
            "overflow": null,
            "overflow_x": null,
            "overflow_y": null,
            "padding": null,
            "right": null,
            "top": null,
            "visibility": null,
            "width": null
          }
        },
        "c546d75bcd1c48618a4abfc1859d2e69": {
          "model_module": "@jupyter-widgets/base",
          "model_name": "LayoutModel",
          "model_module_version": "1.2.0",
          "state": {
            "_model_module": "@jupyter-widgets/base",
            "_model_module_version": "1.2.0",
            "_model_name": "LayoutModel",
            "_view_count": null,
            "_view_module": "@jupyter-widgets/base",
            "_view_module_version": "1.2.0",
            "_view_name": "LayoutView",
            "align_content": null,
            "align_items": null,
            "align_self": null,
            "border": null,
            "bottom": null,
            "display": null,
            "flex": null,
            "flex_flow": null,
            "grid_area": null,
            "grid_auto_columns": null,
            "grid_auto_flow": null,
            "grid_auto_rows": null,
            "grid_column": null,
            "grid_gap": null,
            "grid_row": null,
            "grid_template_areas": null,
            "grid_template_columns": null,
            "grid_template_rows": null,
            "height": null,
            "justify_content": null,
            "justify_items": null,
            "left": null,
            "margin": null,
            "max_height": null,
            "max_width": null,
            "min_height": null,
            "min_width": null,
            "object_fit": null,
            "object_position": null,
            "order": null,
            "overflow": null,
            "overflow_x": null,
            "overflow_y": null,
            "padding": null,
            "right": null,
            "top": null,
            "visibility": null,
            "width": null
          }
        },
        "4224678764b84441952c205511f6566d": {
          "model_module": "@jupyter-widgets/controls",
          "model_name": "DescriptionStyleModel",
          "model_module_version": "1.5.0",
          "state": {
            "_model_module": "@jupyter-widgets/controls",
            "_model_module_version": "1.5.0",
            "_model_name": "DescriptionStyleModel",
            "_view_count": null,
            "_view_module": "@jupyter-widgets/base",
            "_view_module_version": "1.2.0",
            "_view_name": "StyleView",
            "description_width": ""
          }
        },
        "e61510557d08485ab5c8ef4dfd2c945b": {
          "model_module": "@jupyter-widgets/base",
          "model_name": "LayoutModel",
          "model_module_version": "1.2.0",
          "state": {
            "_model_module": "@jupyter-widgets/base",
            "_model_module_version": "1.2.0",
            "_model_name": "LayoutModel",
            "_view_count": null,
            "_view_module": "@jupyter-widgets/base",
            "_view_module_version": "1.2.0",
            "_view_name": "LayoutView",
            "align_content": null,
            "align_items": null,
            "align_self": null,
            "border": null,
            "bottom": null,
            "display": null,
            "flex": null,
            "flex_flow": null,
            "grid_area": null,
            "grid_auto_columns": null,
            "grid_auto_flow": null,
            "grid_auto_rows": null,
            "grid_column": null,
            "grid_gap": null,
            "grid_row": null,
            "grid_template_areas": null,
            "grid_template_columns": null,
            "grid_template_rows": null,
            "height": null,
            "justify_content": null,
            "justify_items": null,
            "left": null,
            "margin": null,
            "max_height": null,
            "max_width": null,
            "min_height": null,
            "min_width": null,
            "object_fit": null,
            "object_position": null,
            "order": null,
            "overflow": null,
            "overflow_x": null,
            "overflow_y": null,
            "padding": null,
            "right": null,
            "top": null,
            "visibility": null,
            "width": null
          }
        },
        "69fff52910654b1482d1412c01ab1979": {
          "model_module": "@jupyter-widgets/controls",
          "model_name": "ProgressStyleModel",
          "model_module_version": "1.5.0",
          "state": {
            "_model_module": "@jupyter-widgets/controls",
            "_model_module_version": "1.5.0",
            "_model_name": "ProgressStyleModel",
            "_view_count": null,
            "_view_module": "@jupyter-widgets/base",
            "_view_module_version": "1.2.0",
            "_view_name": "StyleView",
            "bar_color": null,
            "description_width": ""
          }
        },
        "8268f6f2b0794868aaade8659c13bb78": {
          "model_module": "@jupyter-widgets/controls",
          "model_name": "VBoxModel",
          "model_module_version": "1.5.0",
          "state": {
            "_dom_classes": [],
            "_model_module": "@jupyter-widgets/controls",
            "_model_module_version": "1.5.0",
            "_model_name": "VBoxModel",
            "_view_count": null,
            "_view_module": "@jupyter-widgets/controls",
            "_view_module_version": "1.5.0",
            "_view_name": "VBoxView",
            "box_style": "",
            "children": [
              "IPY_MODEL_09db51806d864feb938c536b34796fc2",
              "IPY_MODEL_c067c291cf2a42d9954f67b175906c69"
            ],
            "layout": "IPY_MODEL_d80f52c716d1469da6151d891bd9fb06"
          }
        },
        "09db51806d864feb938c536b34796fc2": {
          "model_module": "@jupyter-widgets/controls",
          "model_name": "LabelModel",
          "model_module_version": "1.5.0",
          "state": {
            "_dom_classes": [],
            "_model_module": "@jupyter-widgets/controls",
            "_model_module_version": "1.5.0",
            "_model_name": "LabelModel",
            "_view_count": null,
            "_view_module": "@jupyter-widgets/controls",
            "_view_module_version": "1.5.0",
            "_view_name": "LabelView",
            "description": "",
            "description_tooltip": null,
            "layout": "IPY_MODEL_8d5231e5f9d743fcac1e2165f0332669",
            "placeholder": "​",
            "style": "IPY_MODEL_81a3cd5b546e493597bad2174ab56472",
            "value": "1.362 MB of 1.362 MB uploaded (1.143 MB deduped)\r"
          }
        },
        "c067c291cf2a42d9954f67b175906c69": {
          "model_module": "@jupyter-widgets/controls",
          "model_name": "FloatProgressModel",
          "model_module_version": "1.5.0",
          "state": {
            "_dom_classes": [],
            "_model_module": "@jupyter-widgets/controls",
            "_model_module_version": "1.5.0",
            "_model_name": "FloatProgressModel",
            "_view_count": null,
            "_view_module": "@jupyter-widgets/controls",
            "_view_module_version": "1.5.0",
            "_view_name": "ProgressView",
            "bar_style": "",
            "description": "",
            "description_tooltip": null,
            "layout": "IPY_MODEL_70cc44acdcb2489ba7dbb3c18ee518b7",
            "max": 1,
            "min": 0,
            "orientation": "horizontal",
            "style": "IPY_MODEL_c31b21a9aea2481b9e3df69112581e70",
            "value": 1
          }
        },
        "d80f52c716d1469da6151d891bd9fb06": {
          "model_module": "@jupyter-widgets/base",
          "model_name": "LayoutModel",
          "model_module_version": "1.2.0",
          "state": {
            "_model_module": "@jupyter-widgets/base",
            "_model_module_version": "1.2.0",
            "_model_name": "LayoutModel",
            "_view_count": null,
            "_view_module": "@jupyter-widgets/base",
            "_view_module_version": "1.2.0",
            "_view_name": "LayoutView",
            "align_content": null,
            "align_items": null,
            "align_self": null,
            "border": null,
            "bottom": null,
            "display": null,
            "flex": null,
            "flex_flow": null,
            "grid_area": null,
            "grid_auto_columns": null,
            "grid_auto_flow": null,
            "grid_auto_rows": null,
            "grid_column": null,
            "grid_gap": null,
            "grid_row": null,
            "grid_template_areas": null,
            "grid_template_columns": null,
            "grid_template_rows": null,
            "height": null,
            "justify_content": null,
            "justify_items": null,
            "left": null,
            "margin": null,
            "max_height": null,
            "max_width": null,
            "min_height": null,
            "min_width": null,
            "object_fit": null,
            "object_position": null,
            "order": null,
            "overflow": null,
            "overflow_x": null,
            "overflow_y": null,
            "padding": null,
            "right": null,
            "top": null,
            "visibility": null,
            "width": null
          }
        },
        "8d5231e5f9d743fcac1e2165f0332669": {
          "model_module": "@jupyter-widgets/base",
          "model_name": "LayoutModel",
          "model_module_version": "1.2.0",
          "state": {
            "_model_module": "@jupyter-widgets/base",
            "_model_module_version": "1.2.0",
            "_model_name": "LayoutModel",
            "_view_count": null,
            "_view_module": "@jupyter-widgets/base",
            "_view_module_version": "1.2.0",
            "_view_name": "LayoutView",
            "align_content": null,
            "align_items": null,
            "align_self": null,
            "border": null,
            "bottom": null,
            "display": null,
            "flex": null,
            "flex_flow": null,
            "grid_area": null,
            "grid_auto_columns": null,
            "grid_auto_flow": null,
            "grid_auto_rows": null,
            "grid_column": null,
            "grid_gap": null,
            "grid_row": null,
            "grid_template_areas": null,
            "grid_template_columns": null,
            "grid_template_rows": null,
            "height": null,
            "justify_content": null,
            "justify_items": null,
            "left": null,
            "margin": null,
            "max_height": null,
            "max_width": null,
            "min_height": null,
            "min_width": null,
            "object_fit": null,
            "object_position": null,
            "order": null,
            "overflow": null,
            "overflow_x": null,
            "overflow_y": null,
            "padding": null,
            "right": null,
            "top": null,
            "visibility": null,
            "width": null
          }
        },
        "81a3cd5b546e493597bad2174ab56472": {
          "model_module": "@jupyter-widgets/controls",
          "model_name": "DescriptionStyleModel",
          "model_module_version": "1.5.0",
          "state": {
            "_model_module": "@jupyter-widgets/controls",
            "_model_module_version": "1.5.0",
            "_model_name": "DescriptionStyleModel",
            "_view_count": null,
            "_view_module": "@jupyter-widgets/base",
            "_view_module_version": "1.2.0",
            "_view_name": "StyleView",
            "description_width": ""
          }
        },
        "70cc44acdcb2489ba7dbb3c18ee518b7": {
          "model_module": "@jupyter-widgets/base",
          "model_name": "LayoutModel",
          "model_module_version": "1.2.0",
          "state": {
            "_model_module": "@jupyter-widgets/base",
            "_model_module_version": "1.2.0",
            "_model_name": "LayoutModel",
            "_view_count": null,
            "_view_module": "@jupyter-widgets/base",
            "_view_module_version": "1.2.0",
            "_view_name": "LayoutView",
            "align_content": null,
            "align_items": null,
            "align_self": null,
            "border": null,
            "bottom": null,
            "display": null,
            "flex": null,
            "flex_flow": null,
            "grid_area": null,
            "grid_auto_columns": null,
            "grid_auto_flow": null,
            "grid_auto_rows": null,
            "grid_column": null,
            "grid_gap": null,
            "grid_row": null,
            "grid_template_areas": null,
            "grid_template_columns": null,
            "grid_template_rows": null,
            "height": null,
            "justify_content": null,
            "justify_items": null,
            "left": null,
            "margin": null,
            "max_height": null,
            "max_width": null,
            "min_height": null,
            "min_width": null,
            "object_fit": null,
            "object_position": null,
            "order": null,
            "overflow": null,
            "overflow_x": null,
            "overflow_y": null,
            "padding": null,
            "right": null,
            "top": null,
            "visibility": null,
            "width": null
          }
        },
        "c31b21a9aea2481b9e3df69112581e70": {
          "model_module": "@jupyter-widgets/controls",
          "model_name": "ProgressStyleModel",
          "model_module_version": "1.5.0",
          "state": {
            "_model_module": "@jupyter-widgets/controls",
            "_model_module_version": "1.5.0",
            "_model_name": "ProgressStyleModel",
            "_view_count": null,
            "_view_module": "@jupyter-widgets/base",
            "_view_module_version": "1.2.0",
            "_view_name": "StyleView",
            "bar_color": null,
            "description_width": ""
          }
        },
        "950645eac0b84098814f8949a9a3d20b": {
          "model_module": "@jupyter-widgets/controls",
          "model_name": "VBoxModel",
          "model_module_version": "1.5.0",
          "state": {
            "_dom_classes": [],
            "_model_module": "@jupyter-widgets/controls",
            "_model_module_version": "1.5.0",
            "_model_name": "VBoxModel",
            "_view_count": null,
            "_view_module": "@jupyter-widgets/controls",
            "_view_module_version": "1.5.0",
            "_view_name": "VBoxView",
            "box_style": "",
            "children": [
              "IPY_MODEL_c214df696a134c8a88360b5843bc0d3f",
              "IPY_MODEL_65167aed067841348570efba9f42ad6a"
            ],
            "layout": "IPY_MODEL_4417f9a6ebdf460ab6c77ad2a833e261"
          }
        },
        "c214df696a134c8a88360b5843bc0d3f": {
          "model_module": "@jupyter-widgets/controls",
          "model_name": "LabelModel",
          "model_module_version": "1.5.0",
          "state": {
            "_dom_classes": [],
            "_model_module": "@jupyter-widgets/controls",
            "_model_module_version": "1.5.0",
            "_model_name": "LabelModel",
            "_view_count": null,
            "_view_module": "@jupyter-widgets/controls",
            "_view_module_version": "1.5.0",
            "_view_name": "LabelView",
            "description": "",
            "description_tooltip": null,
            "layout": "IPY_MODEL_c4f1c330c38947439bf0d5f9a6a8acbc",
            "placeholder": "​",
            "style": "IPY_MODEL_0a850d10db644f8a9fea32a1453469c9",
            "value": "1.371 MB of 1.371 MB uploaded (1.143 MB deduped)\r"
          }
        },
        "65167aed067841348570efba9f42ad6a": {
          "model_module": "@jupyter-widgets/controls",
          "model_name": "FloatProgressModel",
          "model_module_version": "1.5.0",
          "state": {
            "_dom_classes": [],
            "_model_module": "@jupyter-widgets/controls",
            "_model_module_version": "1.5.0",
            "_model_name": "FloatProgressModel",
            "_view_count": null,
            "_view_module": "@jupyter-widgets/controls",
            "_view_module_version": "1.5.0",
            "_view_name": "ProgressView",
            "bar_style": "",
            "description": "",
            "description_tooltip": null,
            "layout": "IPY_MODEL_8569ef19e626436897995ed7ed0cdd48",
            "max": 1,
            "min": 0,
            "orientation": "horizontal",
            "style": "IPY_MODEL_2b2560174db444f7800acad8bf192865",
            "value": 1
          }
        },
        "4417f9a6ebdf460ab6c77ad2a833e261": {
          "model_module": "@jupyter-widgets/base",
          "model_name": "LayoutModel",
          "model_module_version": "1.2.0",
          "state": {
            "_model_module": "@jupyter-widgets/base",
            "_model_module_version": "1.2.0",
            "_model_name": "LayoutModel",
            "_view_count": null,
            "_view_module": "@jupyter-widgets/base",
            "_view_module_version": "1.2.0",
            "_view_name": "LayoutView",
            "align_content": null,
            "align_items": null,
            "align_self": null,
            "border": null,
            "bottom": null,
            "display": null,
            "flex": null,
            "flex_flow": null,
            "grid_area": null,
            "grid_auto_columns": null,
            "grid_auto_flow": null,
            "grid_auto_rows": null,
            "grid_column": null,
            "grid_gap": null,
            "grid_row": null,
            "grid_template_areas": null,
            "grid_template_columns": null,
            "grid_template_rows": null,
            "height": null,
            "justify_content": null,
            "justify_items": null,
            "left": null,
            "margin": null,
            "max_height": null,
            "max_width": null,
            "min_height": null,
            "min_width": null,
            "object_fit": null,
            "object_position": null,
            "order": null,
            "overflow": null,
            "overflow_x": null,
            "overflow_y": null,
            "padding": null,
            "right": null,
            "top": null,
            "visibility": null,
            "width": null
          }
        },
        "c4f1c330c38947439bf0d5f9a6a8acbc": {
          "model_module": "@jupyter-widgets/base",
          "model_name": "LayoutModel",
          "model_module_version": "1.2.0",
          "state": {
            "_model_module": "@jupyter-widgets/base",
            "_model_module_version": "1.2.0",
            "_model_name": "LayoutModel",
            "_view_count": null,
            "_view_module": "@jupyter-widgets/base",
            "_view_module_version": "1.2.0",
            "_view_name": "LayoutView",
            "align_content": null,
            "align_items": null,
            "align_self": null,
            "border": null,
            "bottom": null,
            "display": null,
            "flex": null,
            "flex_flow": null,
            "grid_area": null,
            "grid_auto_columns": null,
            "grid_auto_flow": null,
            "grid_auto_rows": null,
            "grid_column": null,
            "grid_gap": null,
            "grid_row": null,
            "grid_template_areas": null,
            "grid_template_columns": null,
            "grid_template_rows": null,
            "height": null,
            "justify_content": null,
            "justify_items": null,
            "left": null,
            "margin": null,
            "max_height": null,
            "max_width": null,
            "min_height": null,
            "min_width": null,
            "object_fit": null,
            "object_position": null,
            "order": null,
            "overflow": null,
            "overflow_x": null,
            "overflow_y": null,
            "padding": null,
            "right": null,
            "top": null,
            "visibility": null,
            "width": null
          }
        },
        "0a850d10db644f8a9fea32a1453469c9": {
          "model_module": "@jupyter-widgets/controls",
          "model_name": "DescriptionStyleModel",
          "model_module_version": "1.5.0",
          "state": {
            "_model_module": "@jupyter-widgets/controls",
            "_model_module_version": "1.5.0",
            "_model_name": "DescriptionStyleModel",
            "_view_count": null,
            "_view_module": "@jupyter-widgets/base",
            "_view_module_version": "1.2.0",
            "_view_name": "StyleView",
            "description_width": ""
          }
        },
        "8569ef19e626436897995ed7ed0cdd48": {
          "model_module": "@jupyter-widgets/base",
          "model_name": "LayoutModel",
          "model_module_version": "1.2.0",
          "state": {
            "_model_module": "@jupyter-widgets/base",
            "_model_module_version": "1.2.0",
            "_model_name": "LayoutModel",
            "_view_count": null,
            "_view_module": "@jupyter-widgets/base",
            "_view_module_version": "1.2.0",
            "_view_name": "LayoutView",
            "align_content": null,
            "align_items": null,
            "align_self": null,
            "border": null,
            "bottom": null,
            "display": null,
            "flex": null,
            "flex_flow": null,
            "grid_area": null,
            "grid_auto_columns": null,
            "grid_auto_flow": null,
            "grid_auto_rows": null,
            "grid_column": null,
            "grid_gap": null,
            "grid_row": null,
            "grid_template_areas": null,
            "grid_template_columns": null,
            "grid_template_rows": null,
            "height": null,
            "justify_content": null,
            "justify_items": null,
            "left": null,
            "margin": null,
            "max_height": null,
            "max_width": null,
            "min_height": null,
            "min_width": null,
            "object_fit": null,
            "object_position": null,
            "order": null,
            "overflow": null,
            "overflow_x": null,
            "overflow_y": null,
            "padding": null,
            "right": null,
            "top": null,
            "visibility": null,
            "width": null
          }
        },
        "2b2560174db444f7800acad8bf192865": {
          "model_module": "@jupyter-widgets/controls",
          "model_name": "ProgressStyleModel",
          "model_module_version": "1.5.0",
          "state": {
            "_model_module": "@jupyter-widgets/controls",
            "_model_module_version": "1.5.0",
            "_model_name": "ProgressStyleModel",
            "_view_count": null,
            "_view_module": "@jupyter-widgets/base",
            "_view_module_version": "1.2.0",
            "_view_name": "StyleView",
            "bar_color": null,
            "description_width": ""
          }
        },
        "bfbc44bc22cd4b2588ad9affd274bcd5": {
          "model_module": "@jupyter-widgets/controls",
          "model_name": "VBoxModel",
          "model_module_version": "1.5.0",
          "state": {
            "_dom_classes": [],
            "_model_module": "@jupyter-widgets/controls",
            "_model_module_version": "1.5.0",
            "_model_name": "VBoxModel",
            "_view_count": null,
            "_view_module": "@jupyter-widgets/controls",
            "_view_module_version": "1.5.0",
            "_view_name": "VBoxView",
            "box_style": "",
            "children": [
              "IPY_MODEL_b791a8bce74149ada9938d5e150ed355",
              "IPY_MODEL_57ad6d7ded7f4e6794827a96d2cea88b"
            ],
            "layout": "IPY_MODEL_a8507d2a72f443259e80794da4d5c3cc"
          }
        },
        "b791a8bce74149ada9938d5e150ed355": {
          "model_module": "@jupyter-widgets/controls",
          "model_name": "LabelModel",
          "model_module_version": "1.5.0",
          "state": {
            "_dom_classes": [],
            "_model_module": "@jupyter-widgets/controls",
            "_model_module_version": "1.5.0",
            "_model_name": "LabelModel",
            "_view_count": null,
            "_view_module": "@jupyter-widgets/controls",
            "_view_module_version": "1.5.0",
            "_view_name": "LabelView",
            "description": "",
            "description_tooltip": null,
            "layout": "IPY_MODEL_68e41eb8563447aea23494422e1af1ec",
            "placeholder": "​",
            "style": "IPY_MODEL_40600a5102124e5ca60742b466ba7900",
            "value": "1.380 MB of 1.380 MB uploaded (1.143 MB deduped)\r"
          }
        },
        "57ad6d7ded7f4e6794827a96d2cea88b": {
          "model_module": "@jupyter-widgets/controls",
          "model_name": "FloatProgressModel",
          "model_module_version": "1.5.0",
          "state": {
            "_dom_classes": [],
            "_model_module": "@jupyter-widgets/controls",
            "_model_module_version": "1.5.0",
            "_model_name": "FloatProgressModel",
            "_view_count": null,
            "_view_module": "@jupyter-widgets/controls",
            "_view_module_version": "1.5.0",
            "_view_name": "ProgressView",
            "bar_style": "",
            "description": "",
            "description_tooltip": null,
            "layout": "IPY_MODEL_2c35039ff88347fe9fb21002bbc3371e",
            "max": 1,
            "min": 0,
            "orientation": "horizontal",
            "style": "IPY_MODEL_77b76f7646514a2a81cd6c1fa88bb274",
            "value": 1
          }
        },
        "a8507d2a72f443259e80794da4d5c3cc": {
          "model_module": "@jupyter-widgets/base",
          "model_name": "LayoutModel",
          "model_module_version": "1.2.0",
          "state": {
            "_model_module": "@jupyter-widgets/base",
            "_model_module_version": "1.2.0",
            "_model_name": "LayoutModel",
            "_view_count": null,
            "_view_module": "@jupyter-widgets/base",
            "_view_module_version": "1.2.0",
            "_view_name": "LayoutView",
            "align_content": null,
            "align_items": null,
            "align_self": null,
            "border": null,
            "bottom": null,
            "display": null,
            "flex": null,
            "flex_flow": null,
            "grid_area": null,
            "grid_auto_columns": null,
            "grid_auto_flow": null,
            "grid_auto_rows": null,
            "grid_column": null,
            "grid_gap": null,
            "grid_row": null,
            "grid_template_areas": null,
            "grid_template_columns": null,
            "grid_template_rows": null,
            "height": null,
            "justify_content": null,
            "justify_items": null,
            "left": null,
            "margin": null,
            "max_height": null,
            "max_width": null,
            "min_height": null,
            "min_width": null,
            "object_fit": null,
            "object_position": null,
            "order": null,
            "overflow": null,
            "overflow_x": null,
            "overflow_y": null,
            "padding": null,
            "right": null,
            "top": null,
            "visibility": null,
            "width": null
          }
        },
        "68e41eb8563447aea23494422e1af1ec": {
          "model_module": "@jupyter-widgets/base",
          "model_name": "LayoutModel",
          "model_module_version": "1.2.0",
          "state": {
            "_model_module": "@jupyter-widgets/base",
            "_model_module_version": "1.2.0",
            "_model_name": "LayoutModel",
            "_view_count": null,
            "_view_module": "@jupyter-widgets/base",
            "_view_module_version": "1.2.0",
            "_view_name": "LayoutView",
            "align_content": null,
            "align_items": null,
            "align_self": null,
            "border": null,
            "bottom": null,
            "display": null,
            "flex": null,
            "flex_flow": null,
            "grid_area": null,
            "grid_auto_columns": null,
            "grid_auto_flow": null,
            "grid_auto_rows": null,
            "grid_column": null,
            "grid_gap": null,
            "grid_row": null,
            "grid_template_areas": null,
            "grid_template_columns": null,
            "grid_template_rows": null,
            "height": null,
            "justify_content": null,
            "justify_items": null,
            "left": null,
            "margin": null,
            "max_height": null,
            "max_width": null,
            "min_height": null,
            "min_width": null,
            "object_fit": null,
            "object_position": null,
            "order": null,
            "overflow": null,
            "overflow_x": null,
            "overflow_y": null,
            "padding": null,
            "right": null,
            "top": null,
            "visibility": null,
            "width": null
          }
        },
        "40600a5102124e5ca60742b466ba7900": {
          "model_module": "@jupyter-widgets/controls",
          "model_name": "DescriptionStyleModel",
          "model_module_version": "1.5.0",
          "state": {
            "_model_module": "@jupyter-widgets/controls",
            "_model_module_version": "1.5.0",
            "_model_name": "DescriptionStyleModel",
            "_view_count": null,
            "_view_module": "@jupyter-widgets/base",
            "_view_module_version": "1.2.0",
            "_view_name": "StyleView",
            "description_width": ""
          }
        },
        "2c35039ff88347fe9fb21002bbc3371e": {
          "model_module": "@jupyter-widgets/base",
          "model_name": "LayoutModel",
          "model_module_version": "1.2.0",
          "state": {
            "_model_module": "@jupyter-widgets/base",
            "_model_module_version": "1.2.0",
            "_model_name": "LayoutModel",
            "_view_count": null,
            "_view_module": "@jupyter-widgets/base",
            "_view_module_version": "1.2.0",
            "_view_name": "LayoutView",
            "align_content": null,
            "align_items": null,
            "align_self": null,
            "border": null,
            "bottom": null,
            "display": null,
            "flex": null,
            "flex_flow": null,
            "grid_area": null,
            "grid_auto_columns": null,
            "grid_auto_flow": null,
            "grid_auto_rows": null,
            "grid_column": null,
            "grid_gap": null,
            "grid_row": null,
            "grid_template_areas": null,
            "grid_template_columns": null,
            "grid_template_rows": null,
            "height": null,
            "justify_content": null,
            "justify_items": null,
            "left": null,
            "margin": null,
            "max_height": null,
            "max_width": null,
            "min_height": null,
            "min_width": null,
            "object_fit": null,
            "object_position": null,
            "order": null,
            "overflow": null,
            "overflow_x": null,
            "overflow_y": null,
            "padding": null,
            "right": null,
            "top": null,
            "visibility": null,
            "width": null
          }
        },
        "77b76f7646514a2a81cd6c1fa88bb274": {
          "model_module": "@jupyter-widgets/controls",
          "model_name": "ProgressStyleModel",
          "model_module_version": "1.5.0",
          "state": {
            "_model_module": "@jupyter-widgets/controls",
            "_model_module_version": "1.5.0",
            "_model_name": "ProgressStyleModel",
            "_view_count": null,
            "_view_module": "@jupyter-widgets/base",
            "_view_module_version": "1.2.0",
            "_view_name": "StyleView",
            "bar_color": null,
            "description_width": ""
          }
        },
        "f35c7db3c8424e33ad01ea9570ae44ee": {
          "model_module": "@jupyter-widgets/controls",
          "model_name": "VBoxModel",
          "model_module_version": "1.5.0",
          "state": {
            "_dom_classes": [],
            "_model_module": "@jupyter-widgets/controls",
            "_model_module_version": "1.5.0",
            "_model_name": "VBoxModel",
            "_view_count": null,
            "_view_module": "@jupyter-widgets/controls",
            "_view_module_version": "1.5.0",
            "_view_name": "VBoxView",
            "box_style": "",
            "children": [
              "IPY_MODEL_eaaf772c137446168aac7e55bbb79d19",
              "IPY_MODEL_59e1edf680844ee3b4c0a8c5f8f9b192"
            ],
            "layout": "IPY_MODEL_15536ce19ea943f594e0c075c9949e2c"
          }
        },
        "eaaf772c137446168aac7e55bbb79d19": {
          "model_module": "@jupyter-widgets/controls",
          "model_name": "LabelModel",
          "model_module_version": "1.5.0",
          "state": {
            "_dom_classes": [],
            "_model_module": "@jupyter-widgets/controls",
            "_model_module_version": "1.5.0",
            "_model_name": "LabelModel",
            "_view_count": null,
            "_view_module": "@jupyter-widgets/controls",
            "_view_module_version": "1.5.0",
            "_view_name": "LabelView",
            "description": "",
            "description_tooltip": null,
            "layout": "IPY_MODEL_e0eef0967ea64e9e8000ab8234a4d740",
            "placeholder": "​",
            "style": "IPY_MODEL_2aeef870990842d2b27b46d836a06662",
            "value": "0.633 MB of 0.633 MB uploaded (0.387 MB deduped)\r"
          }
        },
        "59e1edf680844ee3b4c0a8c5f8f9b192": {
          "model_module": "@jupyter-widgets/controls",
          "model_name": "FloatProgressModel",
          "model_module_version": "1.5.0",
          "state": {
            "_dom_classes": [],
            "_model_module": "@jupyter-widgets/controls",
            "_model_module_version": "1.5.0",
            "_model_name": "FloatProgressModel",
            "_view_count": null,
            "_view_module": "@jupyter-widgets/controls",
            "_view_module_version": "1.5.0",
            "_view_name": "ProgressView",
            "bar_style": "",
            "description": "",
            "description_tooltip": null,
            "layout": "IPY_MODEL_b7b48cf05b894da7be1b1a671fd901e1",
            "max": 1,
            "min": 0,
            "orientation": "horizontal",
            "style": "IPY_MODEL_9ec01f3c4b094a9cb59b71c6c5deaa3d",
            "value": 1
          }
        },
        "15536ce19ea943f594e0c075c9949e2c": {
          "model_module": "@jupyter-widgets/base",
          "model_name": "LayoutModel",
          "model_module_version": "1.2.0",
          "state": {
            "_model_module": "@jupyter-widgets/base",
            "_model_module_version": "1.2.0",
            "_model_name": "LayoutModel",
            "_view_count": null,
            "_view_module": "@jupyter-widgets/base",
            "_view_module_version": "1.2.0",
            "_view_name": "LayoutView",
            "align_content": null,
            "align_items": null,
            "align_self": null,
            "border": null,
            "bottom": null,
            "display": null,
            "flex": null,
            "flex_flow": null,
            "grid_area": null,
            "grid_auto_columns": null,
            "grid_auto_flow": null,
            "grid_auto_rows": null,
            "grid_column": null,
            "grid_gap": null,
            "grid_row": null,
            "grid_template_areas": null,
            "grid_template_columns": null,
            "grid_template_rows": null,
            "height": null,
            "justify_content": null,
            "justify_items": null,
            "left": null,
            "margin": null,
            "max_height": null,
            "max_width": null,
            "min_height": null,
            "min_width": null,
            "object_fit": null,
            "object_position": null,
            "order": null,
            "overflow": null,
            "overflow_x": null,
            "overflow_y": null,
            "padding": null,
            "right": null,
            "top": null,
            "visibility": null,
            "width": null
          }
        },
        "e0eef0967ea64e9e8000ab8234a4d740": {
          "model_module": "@jupyter-widgets/base",
          "model_name": "LayoutModel",
          "model_module_version": "1.2.0",
          "state": {
            "_model_module": "@jupyter-widgets/base",
            "_model_module_version": "1.2.0",
            "_model_name": "LayoutModel",
            "_view_count": null,
            "_view_module": "@jupyter-widgets/base",
            "_view_module_version": "1.2.0",
            "_view_name": "LayoutView",
            "align_content": null,
            "align_items": null,
            "align_self": null,
            "border": null,
            "bottom": null,
            "display": null,
            "flex": null,
            "flex_flow": null,
            "grid_area": null,
            "grid_auto_columns": null,
            "grid_auto_flow": null,
            "grid_auto_rows": null,
            "grid_column": null,
            "grid_gap": null,
            "grid_row": null,
            "grid_template_areas": null,
            "grid_template_columns": null,
            "grid_template_rows": null,
            "height": null,
            "justify_content": null,
            "justify_items": null,
            "left": null,
            "margin": null,
            "max_height": null,
            "max_width": null,
            "min_height": null,
            "min_width": null,
            "object_fit": null,
            "object_position": null,
            "order": null,
            "overflow": null,
            "overflow_x": null,
            "overflow_y": null,
            "padding": null,
            "right": null,
            "top": null,
            "visibility": null,
            "width": null
          }
        },
        "2aeef870990842d2b27b46d836a06662": {
          "model_module": "@jupyter-widgets/controls",
          "model_name": "DescriptionStyleModel",
          "model_module_version": "1.5.0",
          "state": {
            "_model_module": "@jupyter-widgets/controls",
            "_model_module_version": "1.5.0",
            "_model_name": "DescriptionStyleModel",
            "_view_count": null,
            "_view_module": "@jupyter-widgets/base",
            "_view_module_version": "1.2.0",
            "_view_name": "StyleView",
            "description_width": ""
          }
        },
        "b7b48cf05b894da7be1b1a671fd901e1": {
          "model_module": "@jupyter-widgets/base",
          "model_name": "LayoutModel",
          "model_module_version": "1.2.0",
          "state": {
            "_model_module": "@jupyter-widgets/base",
            "_model_module_version": "1.2.0",
            "_model_name": "LayoutModel",
            "_view_count": null,
            "_view_module": "@jupyter-widgets/base",
            "_view_module_version": "1.2.0",
            "_view_name": "LayoutView",
            "align_content": null,
            "align_items": null,
            "align_self": null,
            "border": null,
            "bottom": null,
            "display": null,
            "flex": null,
            "flex_flow": null,
            "grid_area": null,
            "grid_auto_columns": null,
            "grid_auto_flow": null,
            "grid_auto_rows": null,
            "grid_column": null,
            "grid_gap": null,
            "grid_row": null,
            "grid_template_areas": null,
            "grid_template_columns": null,
            "grid_template_rows": null,
            "height": null,
            "justify_content": null,
            "justify_items": null,
            "left": null,
            "margin": null,
            "max_height": null,
            "max_width": null,
            "min_height": null,
            "min_width": null,
            "object_fit": null,
            "object_position": null,
            "order": null,
            "overflow": null,
            "overflow_x": null,
            "overflow_y": null,
            "padding": null,
            "right": null,
            "top": null,
            "visibility": null,
            "width": null
          }
        },
        "9ec01f3c4b094a9cb59b71c6c5deaa3d": {
          "model_module": "@jupyter-widgets/controls",
          "model_name": "ProgressStyleModel",
          "model_module_version": "1.5.0",
          "state": {
            "_model_module": "@jupyter-widgets/controls",
            "_model_module_version": "1.5.0",
            "_model_name": "ProgressStyleModel",
            "_view_count": null,
            "_view_module": "@jupyter-widgets/base",
            "_view_module_version": "1.2.0",
            "_view_name": "StyleView",
            "bar_color": null,
            "description_width": ""
          }
        }
      }
    }
  },
  "nbformat": 4,
  "nbformat_minor": 0
}