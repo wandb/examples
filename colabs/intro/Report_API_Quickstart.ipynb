{
 "cells": [
  {
   "cell_type": "markdown",
   "metadata": {},
   "source": [
    "<a href=\"https://colab.research.google.com/github/wandb/examples/blob/master/colabs/intro/Report_API_Quickstart.ipynb\" target=\"_parent\"><img src=\"https://colab.research.google.com/assets/colab-badge.svg\" alt=\"Open In Colab\"/></a>\n",
    "<!--- @wandbcode{python-report-api} -->"
   ]
  },
  {
   "cell_type": "markdown",
   "metadata": {},
   "source": [
    "<img src=\"http://wandb.me/logo-im-png\" width=\"400\" alt=\"Weights & Biases\" />\n",
    "<!--- @wandbcode{python-report-api} -->"
   ]
  },
  {
   "cell_type": "markdown",
   "metadata": {},
   "source": [
    "## What is the Report API?\n",
    "- Programmatically create and modify reports in Python, including support for editing blocks, panels, and runsets.\n",
    "- Create report templates to reuse and share with others\n",
    "\n"
   ]
  },
  {
   "cell_type": "markdown",
   "metadata": {},
   "source": [
    "## Quick Links\n",
    "- [🚀 Quickstart Guide](#quickstart) (~5min)\n",
    "- [❓ FAQ](#faq)\n",
    "- [📌 Complete Examples](#complete_examples)"
   ]
  },
  {
   "cell_type": "code",
   "execution_count": null,
   "metadata": {},
   "outputs": [],
   "source": [
    "!pip install wandb -qqq"
   ]
  },
  {
   "cell_type": "markdown",
   "metadata": {},
   "source": [
    "## Setup"
   ]
  },
  {
   "cell_type": "code",
   "execution_count": null,
   "metadata": {},
   "outputs": [],
   "source": [
    "#@title ## Log Runs { run: \"auto\", display-mode: \"form\" }\n",
    "#@markdown If this is your first time here, consider running the setup code for a better docs experience!\n",
    "#@markdown If you have run the setup code before, you can uncheck the box below to avoid unnecessary logging.\n",
    "\n",
    "LOG_DUMMY_RUNS = True #@param {type: \"boolean\"}\n",
    "\n",
    "\n",
    "import requests\n",
    "from PIL import Image\n",
    "from io import BytesIO\n",
    "import wandb\n",
    "import pandas as pd\n",
    "from itertools import product\n",
    "import random\n",
    "import math\n",
    "\n",
    "import wandb\n",
    "import random\n",
    "import string\n",
    "\n",
    "ENTITY = wandb.apis.PublicApi().default_entity\n",
    "PROJECT = \"report-api-quickstart\" #@param {type: \"string\"}\n",
    "LINEAGE_PROJECT = \"lineage-example\" #@param {type: \"string\"}\n",
    "\n",
    "\n",
    "def get_image(url):\n",
    "    r = requests.get(url)\n",
    "    return Image.open(BytesIO(r.content))\n",
    "\n",
    "\n",
    "def log_dummy_data():\n",
    "    run_names = [\n",
    "        \"adventurous-aardvark-1\",\n",
    "        \"bountiful-badger-2\",\n",
    "        \"clairvoyant-chipmunk-3\",\n",
    "        \"dastardly-duck-4\",\n",
    "        \"eloquent-elephant-5\",\n",
    "        \"flippant-flamingo-6\",\n",
    "        \"giddy-giraffe-7\",\n",
    "        \"haughty-hippo-8\",\n",
    "        \"ignorant-iguana-9\",\n",
    "        \"jolly-jackal-10\",\n",
    "        \"kind-koala-11\",\n",
    "        \"laughing-lemur-12\",\n",
    "        \"manic-mandrill-13\",\n",
    "        \"neighbourly-narwhal-14\",\n",
    "        \"oblivious-octopus-15\",\n",
    "        \"philistine-platypus-16\",\n",
    "        \"quant-quail-17\",\n",
    "        \"rowdy-rhino-18\",\n",
    "        \"solid-snake-19\",\n",
    "        \"timid-tarantula-20\",\n",
    "        \"understanding-unicorn-21\",\n",
    "        \"voracious-vulture-22\",\n",
    "        \"wu-tang-23\",\n",
    "        \"xenic-xerneas-24\",\n",
    "        \"yielding-yveltal-25\",\n",
    "        \"zooming-zygarde-26\",\n",
    "    ]\n",
    "\n",
    "    opts = [\"adam\", \"sgd\"]\n",
    "    encoders = [\"resnet18\", \"resnet50\"]\n",
    "    learning_rates = [0.01]\n",
    "    for (i, run_name), (opt, encoder, lr) in zip(\n",
    "        enumerate(run_names), product(opts, encoders, learning_rates)\n",
    "    ):\n",
    "        config = {\n",
    "            \"optimizer\": opt,\n",
    "            \"encoder\": encoder,\n",
    "            \"learning_rate\": lr,\n",
    "            \"momentum\": 0.1 * random.random(),\n",
    "        }\n",
    "        displacement1 = random.random() * 2\n",
    "        displacement2 = random.random() * 4\n",
    "        with wandb.init(\n",
    "            entity=ENTITY, project=PROJECT, config=config, name=run_name\n",
    "        ) as run:\n",
    "            for step in range(1000):\n",
    "                wandb.log(\n",
    "                    {\n",
    "                        \"acc\": 0.1\n",
    "                        + 0.4\n",
    "                        * (\n",
    "                            math.log(1 + step + random.random())\n",
    "                            + random.random() * run.config.learning_rate\n",
    "                            + random.random()\n",
    "                            + displacement1\n",
    "                            + random.random() * run.config.momentum\n",
    "                        ),\n",
    "                        \"val_acc\": 0.1\n",
    "                        + 0.4\n",
    "                        * (\n",
    "                            math.log(1 + step + random.random())\n",
    "                            + random.random() * run.config.learning_rate\n",
    "                            - random.random()\n",
    "                            + displacement1\n",
    "                        ),\n",
    "                        \"loss\": 0.1\n",
    "                        + 0.08\n",
    "                        * (\n",
    "                            3.5\n",
    "                            - math.log(1 + step + random.random())\n",
    "                            + random.random() * run.config.momentum\n",
    "                            + random.random()\n",
    "                            + displacement2\n",
    "                        ),\n",
    "                        \"val_loss\": 0.1\n",
    "                        + 0.04\n",
    "                        * (\n",
    "                            4.5\n",
    "                            - math.log(1 + step + random.random())\n",
    "                            + random.random() * run.config.learning_rate\n",
    "                            - random.random()\n",
    "                            + displacement2\n",
    "                        ),\n",
    "                    }\n",
    "                )\n",
    "\n",
    "    with wandb.init(\n",
    "        entity=ENTITY, project=PROJECT, config=config, name=run_names[i + 1]\n",
    "    ) as run:\n",
    "        img = get_image(\n",
    "            \"https://www.akc.org/wp-content/uploads/2017/11/Shiba-Inu-standing-in-profile-outdoors.jpg\"\n",
    "        )\n",
    "        image = wandb.Image(img)\n",
    "        df = pd.DataFrame(\n",
    "            {\n",
    "                \"int\": [1, 2, 3, 4],\n",
    "                \"float\": [1.2, 2.3, 3.4, 4.5],\n",
    "                \"str\": [\"a\", \"b\", \"c\", \"d\"],\n",
    "                \"img\": [image] * 4,\n",
    "            }\n",
    "        )\n",
    "        run.log({\"img\": image, \"my-table\": df})\n",
    "\n",
    "\n",
    "class Step:\n",
    "    def __init__(self, j, r, u, o, at=None):\n",
    "        self.job_type = j\n",
    "        self.runs = r\n",
    "        self.uses_per_run = u\n",
    "        self.outputs_per_run = o\n",
    "        self.artifact_type = at if at is not None else \"model\"\n",
    "        self.artifacts = []\n",
    "\n",
    "\n",
    "def create_artifact(name: str, type: str, content: str):\n",
    "    art = wandb.Artifact(name, type)\n",
    "    with open(\"boom.txt\", \"w\") as f:\n",
    "        f.write(content)\n",
    "    art.add_file(\"boom.txt\", \"test-name\")\n",
    "\n",
    "    img = get_image(\n",
    "        \"https://www.akc.org/wp-content/uploads/2017/11/Shiba-Inu-standing-in-profile-outdoors.jpg\"\n",
    "    )\n",
    "    image = wandb.Image(img)\n",
    "    df = pd.DataFrame(\n",
    "        {\n",
    "            \"int\": [1, 2, 3, 4],\n",
    "            \"float\": [1.2, 2.3, 3.4, 4.5],\n",
    "            \"str\": [\"a\", \"b\", \"c\", \"d\"],\n",
    "            \"img\": [image] * 4,\n",
    "        }\n",
    "    )\n",
    "    art.add(wandb.Table(dataframe=df), \"dataframe\")\n",
    "    return art\n",
    "\n",
    "\n",
    "def log_dummy_lineage():\n",
    "    pipeline = [\n",
    "        Step(\"dataset-generator\", 1, 0, 3, \"dataset\"),\n",
    "        Step(\"trainer\", 4, (1, 2), 3),\n",
    "        Step(\"evaluator\", 2, 1, 3),\n",
    "        Step(\"ensemble\", 1, 1, 1),\n",
    "    ]\n",
    "    for (i, step) in enumerate(pipeline):\n",
    "        for _ in range(step.runs):\n",
    "            with wandb.init(project=LINEAGE_PROJECT, job_type=step.job_type) as run:\n",
    "                # use\n",
    "                uses = step.uses_per_run\n",
    "                if type(uses) == tuple:\n",
    "                    uses = random.choice(list(uses))\n",
    "\n",
    "                if i > 0:\n",
    "                    prev_step = pipeline[i - 1]\n",
    "                    input_artifacts = random.sample(prev_step.artifacts, uses)\n",
    "                    for a in input_artifacts:\n",
    "                        run.use_artifact(a)\n",
    "                # log output artifacts\n",
    "                for j in range(step.outputs_per_run):\n",
    "                    # name = ''.join(random.choices(string.ascii_lowercase + string.digits, k=6))\n",
    "                    name = f\"{step.artifact_type}-{j}\"\n",
    "                    content = \"\".join(\n",
    "                        random.choices(string.ascii_lowercase + string.digits, k=12)\n",
    "                    )\n",
    "                    art = create_artifact(name, step.artifact_type, content)\n",
    "                    run.log_artifact(art)\n",
    "                    art.wait()\n",
    "\n",
    "                    # save in pipeline\n",
    "                    step.artifacts.append(art)\n",
    "\n",
    "if LOG_DUMMY_RUNS:\n",
    "  log_dummy_data()\n",
    "  log_dummy_lineage()"
   ]
  },
  {
   "cell_type": "markdown",
   "metadata": {},
   "source": [
    "\n",
    "# 🚀 Quickstart! <a id='quickstart'></a>"
   ]
  },
  {
   "cell_type": "code",
   "execution_count": null,
   "metadata": {},
   "outputs": [],
   "source": [
    "import wandb_workspaces.reports.v2 as wr"
   ]
  },
  {
   "cell_type": "markdown",
   "metadata": {},
   "source": [
    "## Create, save, and load reports\n",
    "- NOTE: Reports are not saved automatically to reduce clutter.  Explicitly save the report by calling `report.save()`"
   ]
  },
  {
   "cell_type": "code",
   "execution_count": null,
   "metadata": {},
   "outputs": [],
   "source": [
    "report = wr.Report(\n",
    "    project=PROJECT,\n",
    "    title='Quickstart Report',\n",
    "    description=\"That was easy!\"\n",
    ")                                 # Create\n",
    "report.save()                     # Save\n",
    "wr.Report.from_url(report.url)    # Load"
   ]
  },
  {
   "cell_type": "markdown",
   "metadata": {},
   "source": [
    "## Add content via blocks\n",
    "- Use blocks to add content like text, images, code, and more\n",
    "- See `wr.blocks` for all available blocks"
   ]
  },
  {
   "cell_type": "code",
   "execution_count": null,
   "metadata": {},
   "outputs": [],
   "source": [
    "report.blocks = [\n",
    "    wr.TableOfContents(),\n",
    "    wr.H1(\"Text and images example\"),\n",
    "    wr.P(\"Lorem ipsum dolor sit amet. Aut laborum perspiciatis sit odit omnis aut aliquam voluptatibus ut rerum molestiae sed assumenda nulla ut minus illo sit sunt explicabo? Sed quia architecto est voluptatem magni sit molestiae dolores. Non animi repellendus ea enim internos et iste itaque quo labore mollitia aut omnis totam.\"),\n",
    "    wr.Image('https://api.wandb.ai/files/telidavies/images/projects/831572/8ad61fd1.png', caption='Craiyon generated images'),\n",
    "    wr.P(\"Et voluptatem galisum quo facilis sequi quo suscipit sunt sed iste iure! Est voluptas adipisci et doloribus commodi ab tempore numquam qui tempora adipisci. Eum sapiente cupiditate ut natus aliquid sit dolor consequatur?\"),\n",
    "]\n",
    "report.save()"
   ]
  },
  {
   "cell_type": "markdown",
   "metadata": {},
   "source": [
    "## Add charts and more via Panel Grid\n",
    "- `PanelGrid` is a special type of block that holds `runsets` and `panels`\n",
    "  - `runsets` organize data logged to W&B\n",
    "  - `panels` visualize runset data.  For a full set of panels, see `wr.panels`"
   ]
  },
  {
   "cell_type": "code",
   "execution_count": null,
   "metadata": {},
   "outputs": [],
   "source": [
    "pg = wr.PanelGrid(\n",
    "    runsets=[\n",
    "        wr.Runset(ENTITY, PROJECT, \"First Run Set\"),\n",
    "        wr.Runset(ENTITY, PROJECT, \"Elephants Only!\", query=\"elephant\"),\n",
    "    ],\n",
    "    panels=[\n",
    "        wr.LinePlot(x='Step', y=['val_acc'], smoothing_factor=0.8),\n",
    "        wr.BarPlot(metrics=['acc']),\n",
    "        wr.MediaBrowser(media_keys='img', num_columns=1),\n",
    "        wr.RunComparer(diff_only='split', layout={'w': 24, 'h': 9}),\n",
    "    ]\n",
    ")\n",
    "\n",
    "report.blocks = report.blocks[:1] + [wr.H1(\"Panel Grid Example\"), pg] + report.blocks[1:]\n",
    "report.save()"
   ]
  },
  {
   "cell_type": "markdown",
   "metadata": {},
   "source": [
    "## Add data lineage with Artifact blocks\n",
    "- There are equivalent weave panels as well"
   ]
  },
  {
   "cell_type": "code",
   "execution_count": null,
   "metadata": {},
   "outputs": [],
   "source": [
    "artifact_lineage = wr.WeaveBlockArtifact(entity=ENTITY, project=LINEAGE_PROJECT, artifact='model-1', tab='lineage')\n",
    "\n",
    "report.blocks = report.blocks[:1] + [wr.H1(\"Artifact lineage example\"), artifact_lineage] + report.blocks[1:]\n",
    "report.save()"
   ]
  },
  {
   "cell_type": "markdown",
   "metadata": {},
   "source": [
    "## Customize run colors\n",
    "- Pass in a `dict[run_name, color]`"
   ]
  },
  {
   "cell_type": "code",
   "execution_count": null,
   "metadata": {},
   "outputs": [],
   "source": [
    "pg.custom_run_colors = {\n",
    "  'adventurous-aardvark-1': '#e84118',\n",
    "  'bountiful-badger-2':     '#fbc531',\n",
    "  'clairvoyant-chipmunk-3': '#4cd137',\n",
    "  'dastardly-duck-4':       '#00a8ff',\n",
    "  'eloquent-elephant-5':    '#9c88ff',\n",
    "}\n",
    "report.save()"
   ]
  },
  {
   "cell_type": "markdown",
   "metadata": {},
   "source": [
    "## Customize run sets with grouping, filtering, and ordering\n",
    "- Click on the different run sets in the iframe below and see how they are different\n",
    "- Grouping: Pass in a list of columns to group by\n",
    "- Filtering: Use `set_filters_with_python_expr` and pass in a valid python expression.  The syntax is similar to `pandas.DataFrame.query`\n",
    "- Ordering: Pass in a list of columns where each value is prefixed with `+` for ascending or `-` for descending."
   ]
  },
  {
   "cell_type": "code",
   "execution_count": null,
   "metadata": {},
   "outputs": [],
   "source": [
    "pg.runsets = [\n",
    "    wr.Runset(ENTITY, PROJECT, name=\"Grouping\", groupby=[\"encoder\"]),\n",
    "    wr.Runset(ENTITY, PROJECT, name=\"Filtering\").set_filters_with_python_expr(\"encoder == 'resnet18' and loss < 0.05\"),\n",
    "    wr.Runset(ENTITY, PROJECT, name=\"Ordering\", order=[\"+momentum\", \"-Name\"]),\n",
    "]\n",
    "report.save()"
   ]
  },
  {
   "cell_type": "markdown",
   "metadata": {},
   "source": [
    "## Customize group colors\n",
    "- Pass in a `dict[ordertuple, color]`, where `ordertuple: tuple[runset_name, *groupby_values]`\n",
    "- For example:\n",
    "  - Your runset is named `MyRunset`\n",
    "  - Your runset groupby is `[\"encoder\", \"optimizer\"]`\n",
    "  - Then your tuple can be `(\"MyRunset\", \"resnet18\", \"adam\")`"
   ]
  },
  {
   "cell_type": "code",
   "execution_count": null,
   "metadata": {},
   "outputs": [],
   "source": [
    "pg.custom_run_colors = {\n",
    "  ('Grouping', 'resnet50'): 'red',\n",
    "  ('Grouping', 'resnet18'): 'blue',\n",
    "  \n",
    "  # you can do both grouped and ungrouped colors in the same dict\n",
    "  'adventurous-aardvark-1': '#e84118',\n",
    "  'bountiful-badger-2':     '#fbc531',\n",
    "  'clairvoyant-chipmunk-3': '#4cd137',\n",
    "  'dastardly-duck-4':       '#00a8ff',\n",
    "  'eloquent-elephant-5':    '#9c88ff',\n",
    "}\n",
    "report.save()"
   ]
  },
  {
   "cell_type": "markdown",
   "metadata": {},
   "source": [
    "# ❓ FAQ <a id='faq'></a>"
   ]
  },
  {
   "cell_type": "markdown",
   "metadata": {},
   "source": [
    "## My chart is not rendering as expected.\n",
    "- We try to guess the column type, but sometimes we fail.\n",
    "- Try prefixing:\n",
    "  - `c::` for config values\n",
    "  - `s::` for summary metrics\n",
    "  - e.g. if your config value was `optimizer`, try `c::optimizer`"
   ]
  },
  {
   "cell_type": "markdown",
   "metadata": {},
   "source": [
    "## My report is too wide/narrow\n",
    "- Change the report's width to the right size for you."
   ]
  },
  {
   "cell_type": "code",
   "execution_count": null,
   "metadata": {},
   "outputs": [],
   "source": [
    "report2 = report.save(clone=True)\n",
    "report2.width = 'fluid'\n",
    "report2.save()"
   ]
  },
  {
   "cell_type": "markdown",
   "metadata": {},
   "source": [
    "## How do I resize panels?\n",
    "- Pass a `dict[dim, int]` to `panel.layout`\n",
    "- `dim` is a dimension, which can be `x`, `y` (the coordiantes of the top left corner) `w`, `h` (the size of the panel)\n",
    "- You can pass any or all dimensions at once\n",
    "- The space between two dots in a panel grid is 2."
   ]
  },
  {
   "cell_type": "code",
   "execution_count": null,
   "metadata": {},
   "outputs": [],
   "source": [
    "report = wr.Report(\n",
    "    PROJECT,\n",
    "    title=\"Resizing panels\",\n",
    "    description=\"Look at this wide parallel coordinates plot!\",\n",
    "    blocks=[\n",
    "        wr.PanelGrid(\n",
    "            panels=[\n",
    "                wr.ParallelCoordinatesPlot(\n",
    "                    columns=[\n",
    "                        wr.PCColumn(\"Step\"),\n",
    "                        wr.PCColumn(\"c::model\"),\n",
    "                        wr.PCColumn(\"c::optimizer\"),\n",
    "                        wr.PCColumn(\"Step\"),\n",
    "                        wr.PCColumn(\"val_acc\"),\n",
    "                        wr.PCColumn(\"val_loss\"),\n",
    "                    ],\n",
    "                    layout={'w': 24, 'h': 9}  # change the layout!\n",
    "                ),\n",
    "            ]\n",
    "        )\n",
    "    ]\n",
    ")\n",
    "report.save()"
   ]
  },
  {
   "cell_type": "markdown",
   "metadata": {},
   "source": [
    "## What blocks are available?\n",
    "- See `wr.blocks` for a list of blocks.\n",
    "- In an IDE or notebook, you can also do `wr.blocks.<tab>` to get autocomplete."
   ]
  },
  {
   "cell_type": "code",
   "execution_count": null,
   "metadata": {},
   "outputs": [],
   "source": [
    "# Panel grid is omitted.  See next section for PanelGrid and panels\n",
    "report = wr.Report(\n",
    "    PROJECT,\n",
    "    title='W&B Block Gallery',\n",
    "    description=\"Check out all of the blocks available in W&B\",\n",
    "    blocks=[\n",
    "        wr.H1(text=\"Heading 1\"),\n",
    "        wr.P(text=\"Normal paragraph\"),\n",
    "        wr.H2(text=\"Heading 2\"),\n",
    "        wr.P(\n",
    "            [\n",
    "                \"here is some text, followed by\",\n",
    "                wr.InlineCode(\"select * from code in line\"),\n",
    "                \"and then latex\",\n",
    "                wr.InlineLaTeX(\"e=mc^2\"),\n",
    "            ]\n",
    "        ),\n",
    "        wr.H3(text=\"Heading 3\"),\n",
    "        wr.CodeBlock(\n",
    "            code=[\"this:\", \"- is\", \"- a\", \"cool:\", \"- yaml\", \"- file\"],\n",
    "            language=\"yaml\",\n",
    "        ),\n",
    "        wr.WeaveBlockSummaryTable(ENTITY, PROJECT, 'my-table'),\n",
    "        wr.WeaveBlockArtifact(ENTITY, LINEAGE_PROJECT, 'model-1', 'lineage'),\n",
    "        wr.WeaveBlockArtifactVersionedFile(ENTITY, LINEAGE_PROJECT, 'model-1', 'v0', \"dataframe.table.json\"),\n",
    "        wr.MarkdownBlock(text=\"Markdown cell with *italics* and **bold** and $e=mc^2$\"),\n",
    "        wr.LaTeXBlock(text=\"\\\\gamma^2+\\\\theta^2=\\\\omega^2\\n\\\\\\\\ a^2 + b^2 = c^2\"),\n",
    "        wr.Image(\"https://api.wandb.ai/files/megatruong/images/projects/918598/350382db.gif\", caption=\"It's a me, Pikachu\"),\n",
    "        wr.UnorderedList(items=[\"Bullet 1\", \"Bullet 2\"]),\n",
    "        wr.OrderedList(items=[\"Ordered 1\", \"Ordered 2\"]),\n",
    "        wr.CheckedList(items=[\"Unchecked\", \"Checked\"], checked=[False, True]),\n",
    "        wr.BlockQuote(text=\"Block Quote 1\\nBlock Quote 2\\nBlock Quote 3\"),\n",
    "        wr.CalloutBlock(text=[\"Callout 1\", \"Callout 2\", \"Callout 3\"]),\n",
    "        wr.HorizontalRule(),\n",
    "        wr.Video(url=\"https://www.youtube.com/embed/6riDJMI-Y8U\"),\n",
    "        wr.Spotify(spotify_id=\"5cfUlsdrdUE4dLMK7R9CFd\"),\n",
    "        wr.SoundCloud(url=\"https://api.soundcloud.com/tracks/1076901103\"),\n",
    "    ]\n",
    ").save()\n",
    "report.blocks += [wr.Gallery(ids=[report.id])]  # get report id on save\n",
    "report.save()"
   ]
  },
  {
   "cell_type": "markdown",
   "metadata": {},
   "source": [
    "## What panels are available?\n",
    "- See `wr.panels` for a list of panels\n",
    "- In an IDE or notebook, you can also do `wr.panels.<tab>` to get autocomplete.\n",
    "- Panels have a lot of settings.  Inspect the panel to see what you can do!"
   ]
  },
  {
   "cell_type": "code",
   "execution_count": null,
   "metadata": {},
   "outputs": [],
   "source": [
    "report = wr.Report(\n",
    "    project=PROJECT,\n",
    "    title='W&B Panel Gallery',\n",
    "    description=\"Check out all of the panels available in W&B\",\n",
    "    width='fluid',\n",
    "    blocks=[\n",
    "        wr.PanelGrid(\n",
    "            runsets=[\n",
    "                wr.Runset(project=LINEAGE_PROJECT),\n",
    "                wr.Runset(),\n",
    "            ],\n",
    "            panels=[\n",
    "                wr.MediaBrowser(media_keys=\"img\"),\n",
    "                wr.MarkdownPanel(\"Hello *italic* **bold** $e=mc^2$ `something`\"),\n",
    "                \n",
    "                # LinePlot showed with many settings enabled for example\n",
    "                wr.LinePlot(\n",
    "                    title=\"Validation Accuracy over Time\",\n",
    "                    x=\"Step\",\n",
    "                    y=[\"val_acc\"],\n",
    "                    range_x=[0, 1000],\n",
    "                    range_y=[1, 4],\n",
    "                    log_x=True,\n",
    "                    title_x=\"Training steps\",\n",
    "                    title_y=\"Validation Accuracy\",\n",
    "                    ignore_outliers=True,\n",
    "                    groupby='encoder',\n",
    "                    groupby_aggfunc=\"mean\",\n",
    "                    groupby_rangefunc=\"minmax\",\n",
    "                    smoothing_factor=0.5,\n",
    "                    smoothing_type=\"gaussian\",\n",
    "                    smoothing_show_original=True,\n",
    "                    max_runs_to_show=10,\n",
    "                    font_size=\"large\",\n",
    "                    legend_position=\"west\",\n",
    "                ),\n",
    "                wr.ScatterPlot(\n",
    "                    title=\"Validation Accuracy vs. Validation Loss\",\n",
    "                    x=\"val_acc\",\n",
    "                    y=\"val_loss\",\n",
    "                    log_x=False,\n",
    "                    log_y=False,\n",
    "                    running_ymin=True,\n",
    "                    running_ymean=True,\n",
    "                    running_ymax=True,\n",
    "                    font_size=\"small\",\n",
    "                    regression=True,\n",
    "                ),\n",
    "                wr.BarPlot(\n",
    "                    title=\"Validation Loss by Encoder\",\n",
    "                    metrics=[\"val_loss\"],\n",
    "                    orientation='h',\n",
    "                    range_x=[0, 0.11],\n",
    "                    title_x=\"Validation Loss\",\n",
    "                    # title_y=\"y axis title\",\n",
    "                    groupby='encoder',\n",
    "                    groupby_aggfunc=\"median\",\n",
    "                    groupby_rangefunc=\"stddev\",\n",
    "                    max_runs_to_show=20,\n",
    "                    max_bars_to_show=3,\n",
    "                    font_size=\"auto\",\n",
    "                ),\n",
    "                wr.ScalarChart(\n",
    "                    title=\"Maximum Number of Steps\",\n",
    "                    metric=\"Step\",\n",
    "                    groupby_aggfunc=\"max\",\n",
    "                    groupby_rangefunc=\"stderr\",\n",
    "                    font_size=\"large\",\n",
    "                ),\n",
    "                wr.CodeComparer(diff=\"split\"),\n",
    "                wr.ParallelCoordinatesPlot(\n",
    "                    columns=[\n",
    "                        wr.PCColumn(\"Step\"),\n",
    "                        wr.PCColumn(\"c::model\"),\n",
    "                        wr.PCColumn(\"c::optimizer\"),\n",
    "                        wr.PCColumn(\"Step\"),\n",
    "                        wr.PCColumn(\"val_acc\"),\n",
    "                        wr.PCColumn(\"val_loss\"),\n",
    "                    ],\n",
    "                ),\n",
    "                wr.ParameterImportancePlot(with_respect_to=\"val_loss\"),\n",
    "                wr.RunComparer(diff_only=\"split\"),\n",
    "                wr.CustomChart(\n",
    "                    query={'summary': ['val_loss', 'val_acc']},\n",
    "                    chart_name='wandb/scatter/v0',\n",
    "                    chart_fields={'x': 'val_loss', 'y': 'val_acc'}\n",
    "                ),\n",
    "                wr.WeavePanelSummaryTable(\"my-table\"),\n",
    "                wr.WeavePanelArtifact('model-1', 'lineage', layout={'w': 24, 'h': 12}),\n",
    "                wr.WeavePanelArtifactVersionedFile('model-1', 'v0', \"dataframe.table.json\", layout={'w': 24, 'h': 12}),\n",
    "            ],\n",
    "        ),\n",
    "    ]\n",
    ")\n",
    "report.save()"
   ]
  },
  {
   "cell_type": "markdown",
   "metadata": {},
   "source": [
    "## What above weave?\n",
    "- A limited subset of weave panels are available today, including Artifact, ArtifactVersionedFile, and SummaryTable\n",
    "- Stay tuned for future updates around weave support!"
   ]
  },
  {
   "cell_type": "markdown",
   "metadata": {},
   "source": [
    "## Can I use this in CI (e.g. create a report for each git commit?)\n",
    "- Yep!  Check out [this example](https://github.com/andrewtruong/wandb-gh-actions/actions/runs/3476558992) which creates a report via Github Actions"
   ]
  },
  {
   "cell_type": "markdown",
   "metadata": {},
   "source": [
    "## How can I link related reports together?\n",
    "- Suppose have have two reports like below:"
   ]
  },
  {
   "cell_type": "code",
   "execution_count": null,
   "metadata": {},
   "outputs": [],
   "source": [
    "report1 = wr.Report(\n",
    "    PROJECT,\n",
    "    title='Report 1',\n",
    "    description=\"Great content coming from Report 1\",\n",
    "    blocks=[\n",
    "        wr.H1('Heading from Report 1'),\n",
    "        wr.P('Lorem ipsum dolor sit amet. Aut fuga minus nam vero saepeA aperiam eum omnis dolorum et ducimus tempore aut illum quis aut alias vero. Sed explicabo illum est eius quianon vitae sed voluptatem incidunt. Vel architecto assumenda Ad voluptatem quo dicta provident et velit officia. Aut galisum inventoreSed dolore a illum adipisci a aliquam quidem sit corporis quia cum magnam similique.'),\n",
    "        wr.PanelGrid(\n",
    "            panels=[\n",
    "                wr.LinePlot(x='global_step', y=['charts/episodic_return'], smoothing_factor=0.85, groupby_aggfunc='mean', groupby_rangefunc='minmax', layout={'x': 0, 'y': 0, 'w': 12, 'h': 8}),\n",
    "                wr.MediaBrowser(media_keys=\"videos\", num_columns=4, layout={'w': 12, 'h': 8}),\n",
    "            ],\n",
    "            runsets=[\n",
    "                wr.Runset(entity='openrlbenchmark', project='cleanrl', query='bigfish', groupby=['env_id', 'exp_name'])\n",
    "            ],\n",
    "            custom_run_colors={\n",
    "                ('Run set', 'bigfish', 'ppg_procgen'): \"#2980b9\",\n",
    "                ('Run set', 'bigfish', 'ppo_procgen'): \"#e74c3c\",\n",
    "            }\n",
    "        ),\n",
    "    ]\n",
    ").save()\n",
    "\n",
    "report2 = wr.Report(\n",
    "    PROJECT,\n",
    "    title='Report 2',\n",
    "    description=\"Great content coming from Report 2\",\n",
    "    blocks=[\n",
    "        wr.H1('Heading from Report 2'),\n",
    "        wr.P('Est quod ducimus ut distinctio corruptiid optio qui cupiditate quibusdam ea corporis modi. Eum architecto vero sed error dignissimosEa repudiandae a recusandae sint ut sint molestiae ea pariatur quae. In pariatur voluptas ad facere neque 33 suscipit et odit nostrum ut internos molestiae est modi enim. Et rerum inventoreAut internos et dolores delectus aut Quis sunt sed nostrum magnam ab dolores dicta.'),\n",
    "        wr.PanelGrid(\n",
    "            panels=[\n",
    "                wr.LinePlot(x='global_step', y=['charts/SPS']),\n",
    "                wr.LinePlot(x='global_step', y=['charts/episodic_length']),\n",
    "                wr.LinePlot(x='global_step', y=['charts/episodic_return']),\n",
    "            ],\n",
    "            runsets=[\n",
    "                wr.Runset(\"openrlbenchmark\", \"cleanrl\", \"DQN\", groupby=[\"exp_name\"]).set_filters_with_python_expr(\"env_id == 'BreakoutNoFrameskip-v4' and exp_name == 'dqn_atari'\"),\n",
    "                wr.Runset(\"openrlbenchmark\", \"cleanrl\", \"SAC-discrete 0.8\", groupby=[\"exp_name\"]).set_filters_with_python_expr(\"env_id == 'BreakoutNoFrameskip-v4' and exp_name == 'sac_atari' and target_entropy_scale == 0.8\"),\n",
    "                wr.Runset(\"openrlbenchmark\", \"cleanrl\", \"SAC-discrete 0.88\", groupby=[\"exp_name\"]).set_filters_with_python_expr(\"env_id == 'BreakoutNoFrameskip-v4' and exp_name == 'sac_atari' and target_entropy_scale == 0.88\"),\n",
    "            ],\n",
    "            custom_run_colors={\n",
    "                ('DQN',               'dqn_atari'): '#e84118',\n",
    "                ('SAC-discrete 0.8',  'sac_atari'): '#fbc531',\n",
    "                ('SAC-discrete 0.88', 'sac_atari'): '#00a8ff',\n",
    "            }\n",
    "        ),\n",
    "    ]\n",
    ").save()"
   ]
  },
  {
   "cell_type": "markdown",
   "metadata": {},
   "source": [
    "### Combine blocks into a new report"
   ]
  },
  {
   "cell_type": "code",
   "execution_count": null,
   "metadata": {},
   "outputs": [],
   "source": [
    "report = wr.Report(PROJECT,\n",
    "    title=\"Report with links\",\n",
    "    description=\"Use `wr.Link(text, url)` to add links inside normal text, or use normal markdown syntax in a MarkdownBlock\",\n",
    "    blocks=[\n",
    "        wr.H1(\"This is a normal heading\"),\n",
    "        wr.P(\"And here is some normal text\"),\n",
    "\n",
    "        wr.H1([\"This is a heading \", wr.Link(\"with a link!\", url=\"https://wandb.ai/\")]),\n",
    "        wr.P([\"Most text formats support \", wr.Link(\"adding links\", url=\"https://wandb.ai/\")]),\n",
    "\n",
    "        wr.MarkdownBlock(\"\"\"You can also use markdown syntax for [links](https://wandb.ai/)\"\"\")\n",
    "    ]\n",
    ")\n",
    "report.save()"
   ]
  },
  {
   "cell_type": "code",
   "execution_count": null,
   "metadata": {},
   "outputs": [],
   "source": [
    "report3 = wr.Report(\n",
    "    PROJECT,\n",
    "    title=\"Combined blocks report\",\n",
    "    description=\"This report combines blocks from both Report 1 and Report 2\",\n",
    "    blocks=[*report1.blocks, *report2.blocks]\n",
    ")\n",
    "report3.save()"
   ]
  },
  {
   "cell_type": "markdown",
   "metadata": {},
   "source": [
    "### Reference the two reports in a gallery block"
   ]
  },
  {
   "cell_type": "code",
   "execution_count": null,
   "metadata": {},
   "outputs": [],
   "source": [
    "report4 = wr.Report(\n",
    "    PROJECT,\n",
    "    title=\"Referenced reports via Gallery\",\n",
    "    description=\"This report has gallery links to Report1 and Report 2\",\n",
    "    blocks=[wr.Gallery(ids=[report1.id, report2.id])]\n",
    ")\n",
    "report4.save()"
   ]
  },
  {
   "cell_type": "markdown",
   "metadata": {},
   "source": [
    "## How do I add links to text?\n",
    "- Use `wr.Link`"
   ]
  },
  {
   "cell_type": "markdown",
   "metadata": {},
   "source": [
    "## Do you support markdown?\n",
    "Yep\n",
    "- In blocks, use `wr.MarkdownBlock`\n",
    "- In panels, use `wr.MarkdownPanel`"
   ]
  },
  {
   "cell_type": "code",
   "execution_count": null,
   "metadata": {},
   "outputs": [],
   "source": [
    "markdown = \"\"\"\n",
    "# Ducat quicquam\n",
    "\n",
    "## Egit sit utque torta cuncta si oret\n",
    "\n",
    "Lorem markdownum voco sacrorum religata. Erat ante condita mellaque Cimmerios\n",
    "cultoribus pictas manu usquam illa umbra potentia inpedienda Padumque [euntes\n",
    "motae](http://nec.com/necsollemnia.aspx), detraxit! Accessus discrimen,\n",
    "Cyllenius *e* solum saepe terras perfringit amorem tenent consulit falce\n",
    "referemus tantum. Illo qui attonitas, Adonis ultra stabunt horret requiescere\n",
    "quae deam similis miserum consuetas: tantos aegram, metuam. Tetigere\n",
    "**invidiae** preces indicere populo semper, limine sui dumque, lustra\n",
    "alimentaque vidi nec corpusque aquarum habebat, in.\n",
    "\n",
    "\n",
    "## Aurea simile iunctoque dux semper verbis\n",
    "\n",
    "Vinctorum vidisset et caede officio, viae alia ratione aer regalia, etiamnum.\n",
    "Occupat tanta; vicem, Ithaceque, et ille nec exclamat. Honori carpserat visae\n",
    "magniloquo perluitur corpora tamen. Caput an Minervae sed vela est cecidere\n",
    "luctus umbras iunctisque referat. Accensis **aderis capillos** pendebant\n",
    "[retentas parvum](http://ipse.com/).\n",
    "\n",
    "    if (desktop(2)) {\n",
    "        laser_qwerty_optical.webcam += upsRoom + window;\n",
    "    }\n",
    "    if (type) {\n",
    "        memoryGrayscale(backbone, mask_multimedia_html);\n",
    "    }\n",
    "    if (natInterfaceFile == 23 + 92) {\n",
    "        interface_sku.platform = compressionMotherboard - error_veronica_ata;\n",
    "        dsl_windows = 57 * -2;\n",
    "        definition *= -4;\n",
    "    } else {\n",
    "        frame(4, market_chip_irq, megapixel_eide);\n",
    "    }\n",
    "    if (mashupApiFlash(-1, margin) - graphicSoftwareNas.ddr_samba_reimage(port)\n",
    "            != control_navigation_pseudocode(yahoo.microcomputerDimm(\n",
    "            mips_adsl))) {\n",
    "        postscriptViralDirectx(1, cron_router_voip(669103, managementPitch,\n",
    "                ospf_up_paper), frame);\n",
    "        servlet_cross_paper.controlLanguage(insertion_source.viewHorizontalRead(\n",
    "                enterprise, widget, parse_encoding), end);\n",
    "        script_e(rateRss(yobibyte, fddi, vci_hyper_joystick), surgeHeat / case);\n",
    "    }\n",
    "    pcmciaRealSystem.basic_exbibyte_controller = carrier.domainDesktop(-4 +\n",
    "            laptop + 5);\n",
    "\"\"\"\n",
    "\n",
    "report = wr.Report(\n",
    "    PROJECT,\n",
    "    title=\"Report with markdown\",\n",
    "    description=\"See what's possible with MarkdownBlock and MarkdownPanel\",\n",
    "    blocks=[\n",
    "        wr.MarkdownBlock(markdown),\n",
    "        wr.PanelGrid(\n",
    "            panels=[\n",
    "                wr.MarkdownPanel(markdown,                layout={'w': 12, 'h': 18}),\n",
    "                wr.LinePlot(x='Step', y=['val_acc'] ,     layout={'x': 12, 'y': 0}),\n",
    "                wr.LinePlot(x='Step', y=['val_loss'],     layout={'x': 12, 'y': 6}),\n",
    "                wr.ScatterPlot(x='val_loss', y='val_acc', layout={'x': 12, 'y': 12}),\n",
    "            ]\n",
    "        )\n",
    "    ]\n",
    ")\n",
    "report.save()"
   ]
  },
  {
   "cell_type": "markdown",
   "metadata": {},
   "source": [
    "## Can I build the report up from smaller pieces / all at once?\n",
    "Yep.  We'll demonstrate by putting together a report with a parallel coordinates plot.\n",
    "\n",
    "NOTE: this section assumes you have run the [sweeps notebook](https://colab.research.google.com/github/wandb/examples/blob/master/colabs/pytorch/Organizing_Hyperparameter_Sweeps_in_PyTorch_with_W%26B.ipynb) already."
   ]
  },
  {
   "cell_type": "markdown",
   "metadata": {},
   "source": [
    "### Build it up incrementally\n",
    "As you might do if you were creating a report in the UI"
   ]
  },
  {
   "cell_type": "markdown",
   "metadata": {},
   "source": [
    "1. Create a report"
   ]
  },
  {
   "cell_type": "code",
   "execution_count": null,
   "metadata": {},
   "outputs": [],
   "source": [
    "report = wr.Report(project=PROJECT, title='Parallel Coordinates Example', description=\"Using the pytorch sweeps demo\")"
   ]
  },
  {
   "cell_type": "markdown",
   "metadata": {},
   "source": [
    "2. Add a panel grid"
   ]
  },
  {
   "cell_type": "code",
   "execution_count": null,
   "metadata": {},
   "outputs": [],
   "source": [
    "pg = wr.PanelGrid()\n",
    "report.blocks = [pg]"
   ]
  },
  {
   "cell_type": "markdown",
   "metadata": {},
   "source": [
    "3. Specify your runsets"
   ]
  },
  {
   "cell_type": "code",
   "execution_count": null,
   "metadata": {},
   "outputs": [],
   "source": [
    "pg.runsets = [wr.Runset(project='pytorch-sweeps-demo')]"
   ]
  },
  {
   "cell_type": "markdown",
   "metadata": {},
   "source": [
    "4. Specify your panels"
   ]
  },
  {
   "cell_type": "code",
   "execution_count": null,
   "metadata": {},
   "outputs": [],
   "source": [
    "pg.panels = [\n",
    "    wr.ParallelCoordinatesPlot(\n",
    "        columns=[\n",
    "            wr.PCColumn(metric=\"c::batch_size\"),\n",
    "            wr.PCColumn(metric=\"c::dropout\"),\n",
    "            wr.PCColumn(metric=\"c::epochs\"),\n",
    "            wr.PCColumn(metric=\"c::fc_layer_size\"),\n",
    "            wr.PCColumn(metric=\"c::learning_rate\"),\n",
    "            wr.PCColumn(metric=\"c::optimizer\"),\n",
    "            wr.PCColumn(metric=\"loss\"),\n",
    "        ]\n",
    "    )\n",
    "]\n"
   ]
  },
  {
   "cell_type": "markdown",
   "metadata": {},
   "source": [
    "5. Save the report"
   ]
  },
  {
   "cell_type": "code",
   "execution_count": null,
   "metadata": {},
   "outputs": [],
   "source": [
    "report.save()"
   ]
  },
  {
   "cell_type": "markdown",
   "metadata": {},
   "source": [
    "### The same thing all-in-one"
   ]
  },
  {
   "cell_type": "code",
   "execution_count": null,
   "metadata": {},
   "outputs": [],
   "source": [
    "report = wr.Report(\n",
    "    project=PROJECT,\n",
    "    title=\"Parallel Coordinates Example (all-in-one)\",\n",
    "    description=\"Using the pytorch sweeps demo (same as the other one but written in one expression)\",\n",
    "    blocks=[\n",
    "        wr.PanelGrid(\n",
    "            runsets=[wr.Runset(project=\"pytorch-sweeps-demo\")],\n",
    "            panels=[\n",
    "                wr.ParallelCoordinatesPlot(\n",
    "                    columns=[\n",
    "                        wr.PCColumn(metric='c::batch_size'),\n",
    "                        wr.PCColumn(metric='c::dropout'),\n",
    "                        wr.PCColumn(metric='c::epochs'),\n",
    "                        wr.PCColumn(metric='c::fc_layer_size'),\n",
    "                        wr.PCColumn(metric='c::learning_rate'),\n",
    "                        wr.PCColumn(metric='c::optimizer'),\n",
    "                        wr.PCColumn(metric='loss'),\n",
    "                    ]\n",
    "                )\n",
    "            ],\n",
    "        )\n",
    "    ],\n",
    ")"
   ]
  },
  {
   "cell_type": "code",
   "execution_count": null,
   "metadata": {},
   "outputs": [],
   "source": [
    "report.save()"
   ]
  },
  {
   "cell_type": "markdown",
   "metadata": {},
   "source": [
    "## I tried mutating an object in list but it didn't work!\n",
    "tl;dr: It should always work if you assign a value to the attribute instead of mutating.  If you really need to mutate, do it before assignment.\n",
    "\n",
    "---\n",
    "\n",
    "This can happen in a few places that contain lists of wandb objects, e.g.:\n",
    "- `report.blocks`\n",
    "- `panel_grid.panels`\n",
    "- `panel_grid.runsets`"
   ]
  },
  {
   "cell_type": "code",
   "execution_count": null,
   "metadata": {},
   "outputs": [],
   "source": [
    "report = wr.Report(project=PROJECT)"
   ]
  },
  {
   "cell_type": "markdown",
   "metadata": {},
   "source": [
    "Good: Assign `b`"
   ]
  },
  {
   "cell_type": "code",
   "execution_count": null,
   "metadata": {},
   "outputs": [],
   "source": [
    "b = wr.H1(text=[\"Hello\", \" World!\"])\n",
    "report.blocks = [b]\n",
    "assert b.text == [\"Hello\", \" World!\"]\n",
    "assert report.blocks[0].text == [\"Hello\", \" World!\"]"
   ]
  },
  {
   "cell_type": "markdown",
   "metadata": {},
   "source": [
    "Bad: Mutate `b` without reassigning"
   ]
  },
  {
   "cell_type": "code",
   "execution_count": null,
   "metadata": {},
   "outputs": [],
   "source": [
    "b.text = [\"Something\", \" New\"]\n",
    "assert b.text == [\"Something\", \" New\"]\n",
    "assert report.blocks[0].text == [\"Hello\", \" World!\"]"
   ]
  },
  {
   "cell_type": "markdown",
   "metadata": {},
   "source": [
    "Good: Mutate `b` and then reassign it"
   ]
  },
  {
   "cell_type": "code",
   "execution_count": null,
   "metadata": {},
   "outputs": [],
   "source": [
    "report.blocks = [b]\n",
    "assert b.text == [\"Something\", \" New\"]\n",
    "assert report.blocks[0].text == [\"Something\", \" New\"]"
   ]
  },
  {
   "cell_type": "markdown",
   "metadata": {},
   "source": [
    "## How do I show tables?"
   ]
  },
  {
   "cell_type": "code",
   "execution_count": null,
   "metadata": {},
   "outputs": [],
   "source": [
    "report = wr.Report(project=PROJECT, title='Adding tables to reports', description=\"Add tables with WeaveBlockSummaryTable or WeavePanelSummaryTable\")"
   ]
  },
  {
   "cell_type": "markdown",
   "metadata": {},
   "source": [
    "### Using weave blocks"
   ]
  },
  {
   "cell_type": "code",
   "execution_count": null,
   "metadata": {},
   "outputs": [],
   "source": [
    "report.blocks += [wr.WeaveBlockSummaryTable(ENTITY, PROJECT, \"my-table\")]\n",
    "report.save()"
   ]
  },
  {
   "cell_type": "markdown",
   "metadata": {},
   "source": [
    "### Using weave panels (via PanelGrid)"
   ]
  },
  {
   "cell_type": "code",
   "execution_count": null,
   "metadata": {},
   "outputs": [],
   "source": [
    "report.blocks += [\n",
    "    wr.PanelGrid(\n",
    "        panels=[wr.WeavePanelSummaryTable(\"my-table\")]\n",
    "    )\n",
    "]\n",
    "report.save()"
   ]
  },
  {
   "cell_type": "markdown",
   "metadata": {},
   "source": [
    "## How do I show artifact lineage / versions?"
   ]
  },
  {
   "cell_type": "code",
   "execution_count": null,
   "metadata": {},
   "outputs": [],
   "source": [
    "report = wr.Report(project=PROJECT, title='Adding artifact lineage to reports', description=\"via WeaveBlockArtifact, WeaveBlockArtifactVersionedFile, or their panel equivalents\")"
   ]
  },
  {
   "cell_type": "markdown",
   "metadata": {},
   "source": [
    "### Using weave blocks"
   ]
  },
  {
   "cell_type": "code",
   "execution_count": null,
   "metadata": {},
   "outputs": [],
   "source": [
    "report.blocks += [\n",
    "    wr.WeaveBlockArtifact(ENTITY, LINEAGE_PROJECT, \"model-1\", \"lineage\"),\n",
    "    wr.WeaveBlockArtifactVersionedFile(ENTITY, LINEAGE_PROJECT, \"model-1\", \"v0\", \"dataframe.table.json\")\n",
    "]\n",
    "report.save()"
   ]
  },
  {
   "cell_type": "markdown",
   "metadata": {},
   "source": [
    "### Using weave panels (via PanelGrid)"
   ]
  },
  {
   "cell_type": "code",
   "execution_count": null,
   "metadata": {},
   "outputs": [],
   "source": [
    "report.blocks += [\n",
    "    wr.PanelGrid(panels=[\n",
    "        wr.WeavePanelArtifact(\"\", \"lineage\"),\n",
    "        wr.WeavePanelArtifactVersionedFile(\"\", \"v0\", \"dataframe.table.json\")\n",
    "    ])\n",
    "]\n",
    "report.save()"
   ]
  },
  {
   "cell_type": "markdown",
   "metadata": {},
   "source": [
    "## How can I create report templates?\n",
    "- See some of the examples in `wr.templates`\n",
    "- The most straightforward way is to create a function that returns your target report and/or its blocks."
   ]
  },
  {
   "cell_type": "markdown",
   "metadata": {},
   "source": [
    "### A basic template\n",
    "- Just use a function"
   ]
  },
  {
   "cell_type": "code",
   "execution_count": null,
   "metadata": {},
   "outputs": [],
   "source": [
    "def my_report_template(title, description, project, metric):\n",
    "    return wr.Report(\n",
    "        title=title,\n",
    "        description=description,\n",
    "        project=project,\n",
    "        blocks=[\n",
    "            wr.H1(f\"Look at our amazing metric called `{metric}`\"),\n",
    "            wr.PanelGrid(\n",
    "                panels=[wr.LinePlot(x='Step', y=metric, layout={'w': 24, 'h': 8})],\n",
    "            )\n",
    "        ]\n",
    "    ).save()"
   ]
  },
  {
   "cell_type": "code",
   "execution_count": null,
   "metadata": {},
   "outputs": [],
   "source": [
    "my_report_template('My templated report', \"Here's an example of how you can make a function for templates\", PROJECT, 'val_acc')"
   ]
  },
  {
   "cell_type": "markdown",
   "metadata": {},
   "source": [
    "### More advanced templates"
   ]
  },
  {
   "cell_type": "code",
   "execution_count": null,
   "metadata": {},
   "outputs": [],
   "source": [
    "def create_header():\n",
    "  return [\n",
    "    wr.P(),\n",
    "    wr.HorizontalRule(),\n",
    "    wr.P(),\n",
    "    wr.Image(\n",
    "      \"https://camo.githubusercontent.com/83839f20c90facc062330f8fee5a7ab910fdd04b80b4c4c7e89d6d8137543540/68747470733a2f2f692e696d6775722e636f6d2f676236423469672e706e67\"\n",
    "    ),\n",
    "    wr.P(),\n",
    "    wr.HorizontalRule(),\n",
    "    wr.P(),\n",
    "  ]\n",
    "\n",
    "def create_footer():\n",
    "  return [\n",
    "    wr.P(),\n",
    "    wr.HorizontalRule(),\n",
    "    wr.P(),\n",
    "    wr.H1(\"Disclaimer\"),\n",
    "    wr.P(\n",
    "      \"The views and opinions expressed in this report are those of the authors and do not necessarily reflect the official policy or position of Weights & Biases. blah blah blah blah blah boring text at the bottom\"\n",
    "    ),\n",
    "    wr.P(),\n",
    "    wr.HorizontalRule(),\n",
    "  ]\n",
    "\n",
    "def create_main_content(metric):\n",
    "  return [\n",
    "    wr.H1(f\"Look at our amazing metric called `{metric}`\"),\n",
    "    wr.PanelGrid(\n",
    "      panels=[wr.LinePlot(x='Step', y=metric, layout={'w': 24, 'h': 8})],\n",
    "    )\n",
    "  ]\n",
    "\n",
    "def create_templated_report_with_header_and_footer(title, project, metric):\n",
    "  return wr.Report(\n",
    "    title=title,\n",
    "    project=project,\n",
    "    blocks=[\n",
    "      *create_header(),\n",
    "      *create_main_content(metric),\n",
    "      *create_footer(),\n",
    "    ]).save()"
   ]
  },
  {
   "cell_type": "code",
   "execution_count": null,
   "metadata": {},
   "outputs": [],
   "source": [
    "create_templated_report_with_header_and_footer(title=\"Another templated report\", project=PROJECT, metric='val_acc')"
   ]
  },
  {
   "cell_type": "markdown",
   "metadata": {},
   "source": [
    "# 📌 Complete Examples <a id='complete_examples'></a>"
   ]
  },
  {
   "cell_type": "markdown",
   "metadata": {},
   "source": [
    "## Reinforcement Learning (RL)"
   ]
  },
  {
   "cell_type": "code",
   "execution_count": null,
   "metadata": {},
   "outputs": [],
   "source": [
    "wr.Report(\n",
    "    project=PROJECT,\n",
    "    title='Reinforcement Learning Report',\n",
    "    description='Aut totam dolores aut galisum atque aut placeat quia. Vel quisquam omnis ut quibusdam doloremque a delectus quia in omnis deserunt. Quo ipsum beatae aut veniam earum non ipsa reiciendis et fugiat asperiores est veritatis magni et corrupti internos. Ut quis libero ut alias reiciendis et animi delectus.',\n",
    "    blocks=[\n",
    "        wr.TableOfContents(),\n",
    "        wr.H1(\"Ea quidem illo est dolorem illo.\"),\n",
    "        wr.P(\"Lorem ipsum dolor sit amet, consectetur adipiscing elit. Sed ac eros ut nunc venenatis tincidunt vel ut dolor. Sed sed felis dictum, congue risus vel, aliquet dolor. Donec ut risus vel leo dictum tristique. Nunc sed urna mi. Morbi nulla turpis, vehicula eu maximus ut, gravida id libero. Duis porta risus leo, quis lobortis enim ultrices a. Donec quam augue, vestibulum vitae mollis at, tincidunt non orci. Morbi faucibus dignissim tempor. Vestibulum ornare augue a orci tincidunt porta. Pellentesque et ante et purus gravida euismod. Maecenas sit amet sollicitudin felis, sed egestas nunc.\"),\n",
    "        wr.H2('Et sunt sunt eum asperiores ratione.'),\n",
    "        wr.PanelGrid(\n",
    "            panels=[\n",
    "                wr.LinePlot(x='global_step', y=['charts/episodic_return'], smoothing_factor=0.85, groupby_aggfunc='mean', groupby_rangefunc='minmax', layout={'x': 0, 'y': 0, 'w': 12, 'h': 8}),\n",
    "                wr.MediaBrowser(media_keys=\"videos\", num_columns=4, layout={'w': 12, 'h': 8}),\n",
    "            ],\n",
    "            runsets=[\n",
    "                wr.Runset(entity='openrlbenchmark', project='cleanrl', query='bigfish', groupby=['env_id', 'exp_name'])\n",
    "            ],\n",
    "            custom_run_colors={\n",
    "                ('Run set', 'bigfish', 'ppg_procgen'): \"#2980b9\",\n",
    "                ('Run set', 'bigfish', 'ppo_procgen'): \"#e74c3c\",\n",
    "            }\n",
    "        ),\n",
    "        wr.H2('Sit officia inventore non omnis deleniti.'),\n",
    "        wr.PanelGrid(\n",
    "            panels=[\n",
    "                wr.LinePlot(x='global_step', y=['charts/episodic_return'], smoothing_factor=0.85, groupby_aggfunc='mean', groupby_rangefunc='minmax', layout={'x': 0, 'y': 0, 'w': 12, 'h': 8}),\n",
    "                wr.MediaBrowser(media_keys=\"videos\", num_columns=4, layout={'w': 12, 'h': 8}),\n",
    "            ],\n",
    "            runsets=[\n",
    "                wr.Runset(entity='openrlbenchmark', project='cleanrl', query='starpilot', groupby=['env_id', 'exp_name'])\n",
    "            ],\n",
    "            custom_run_colors={\n",
    "                ('Run set', 'starpilot', 'ppg_procgen'): \"#2980b9\",\n",
    "                ('Run set', 'starpilot', 'ppo_procgen'): \"#e74c3c\",\n",
    "            }\n",
    "        ),\n",
    "        wr.H2('Aut amet nesciunt vel quisquam repellendus sed labore voluptas.'),\n",
    "        wr.PanelGrid(\n",
    "            panels=[\n",
    "                wr.LinePlot(x='global_step', y=['charts/episodic_return'], smoothing_factor=0.85, groupby_aggfunc='mean', groupby_rangefunc='minmax', layout={'x': 0, 'y': 0, 'w': 12, 'h': 8}),\n",
    "                wr.MediaBrowser(media_keys=\"videos\", num_columns=4, layout={'x': 0, 'y': 0, 'w': 12, 'h': 8}),\n",
    "            ],\n",
    "            runsets=[\n",
    "                wr.Runset(entity='openrlbenchmark', project='cleanrl', query='bossfight', groupby=['env_id', 'exp_name'])\n",
    "            ],\n",
    "            custom_run_colors={\n",
    "                ('Run set', 'bossfight', 'ppg_procgen'): \"#2980b9\",\n",
    "                ('Run set', 'bossfight', 'ppo_procgen'): \"#e74c3c\",\n",
    "            }\n",
    "        ),\n",
    "        wr.HorizontalRule(),\n",
    "        wr.H1(\"Sed consectetur vero et voluptas voluptatem et adipisci blanditiis.\"),\n",
    "        wr.P(\"Sit aliquid repellendus et numquam provident quo quaerat earum 33 sunt illo et quos voluptate est officia deleniti. Vel architecto nulla ex nulla voluptatibus qui saepe officiis quo illo excepturi ea dolorum reprehenderit.\"),\n",
    "        wr.H2(\"Qui debitis iure 33 voluptatum eligendi.\"),\n",
    "        wr.P(\"Non veniam laudantium et fugit distinctio qui aliquid eius sed laudantium consequatur et quia perspiciatis. Et odio inventore est voluptas fugiat id perspiciatis dolorum et perferendis recusandae vel Quis odio 33 beatae veritatis. Ex sunt accusamus aut soluta eligendi sed perspiciatis maxime 33 dolorem dolorum est aperiam minima. Et earum rerum eos illo sint eos temporibus similique ea fuga iste sed quia soluta sit doloribus corporis sed tenetur excepturi?\"),\n",
    "        wr.PanelGrid(\n",
    "            panels=[\n",
    "                wr.LinePlot(x='global_step', y=['charts/SPS']),\n",
    "                wr.LinePlot(x='global_step', y=['charts/episodic_length']),\n",
    "                wr.LinePlot(x='global_step', y=['charts/episodic_return']),\n",
    "            ],\n",
    "            runsets=[\n",
    "                wr.Runset(\"openrlbenchmark\", \"cleanrl\", \"DQN\", groupby=[\"exp_name\"]).set_filters_with_python_expr(\"env_id == 'BreakoutNoFrameskip-v4' and exp_name == 'dqn_atari'\"),\n",
    "                wr.Runset(\"openrlbenchmark\", \"cleanrl\", \"SAC-discrete 0.8\", groupby=[\"exp_name\"]).set_filters_with_python_expr(\"env_id == 'BreakoutNoFrameskip-v4' and exp_name == 'sac_atari' and target_entropy_scale == 0.8\"),\n",
    "                wr.Runset(\"openrlbenchmark\", \"cleanrl\", \"SAC-discrete 0.88\", groupby=[\"exp_name\"]).set_filters_with_python_expr(\"env_id == 'BreakoutNoFrameskip-v4' and exp_name == 'sac_atari' and target_entropy_scale == 0.88\"),\n",
    "            ],\n",
    "            custom_run_colors={\n",
    "                ('DQN',               'dqn_atari'): '#e84118',\n",
    "                ('SAC-discrete 0.8',  'sac_atari'): '#fbc531',\n",
    "                ('SAC-discrete 0.88', 'sac_atari'): '#00a8ff',\n",
    "            }\n",
    "        ),\n",
    "    ]\n",
    ").save()"
   ]
  },
  {
   "cell_type": "markdown",
   "metadata": {},
   "source": [
    "## Customer Landing Page"
   ]
  },
  {
   "cell_type": "code",
   "execution_count": null,
   "metadata": {},
   "outputs": [],
   "source": [
    "report = wr.templates.create_customer_landing_page(\n",
    "    project=PROJECT,\n",
    "    company_name='Company',\n",
    "    main_contact='Contact McContact (email@company.com)',\n",
    "    slack_link='https://company.slack.com/blah',\n",
    ")\n",
    "report.save()"
   ]
  },
  {
   "cell_type": "markdown",
   "metadata": {},
   "source": [
    "## Enterprise Report with Branded Header and Footer"
   ]
  },
  {
   "cell_type": "code",
   "execution_count": null,
   "metadata": {},
   "outputs": [],
   "source": [
    "report = wr.templates.create_enterprise_report(\n",
    "    project=PROJECT,\n",
    "    body=[\n",
    "        wr.H1(\"Ea quidem illo est dolorem illo.\"),\n",
    "        wr.P(\"Lorem ipsum dolor sit amet, consectetur adipiscing elit. Sed ac eros ut nunc venenatis tincidunt vel ut dolor. Sed sed felis dictum, congue risus vel, aliquet dolor. Donec ut risus vel leo dictum tristique. Nunc sed urna mi. Morbi nulla turpis, vehicula eu maximus ut, gravida id libero. Duis porta risus leo, quis lobortis enim ultrices a. Donec quam augue, vestibulum vitae mollis at, tincidunt non orci. Morbi faucibus dignissim tempor. Vestibulum ornare augue a orci tincidunt porta. Pellentesque et ante et purus gravida euismod. Maecenas sit amet sollicitudin felis, sed egestas nunc.\"),\n",
    "        wr.H2('Et sunt sunt eum asperiores ratione.'),\n",
    "        wr.PanelGrid(\n",
    "            panels=[\n",
    "                wr.LinePlot(x='global_step', y=['charts/episodic_return'], smoothing_factor=0.85, groupby_aggfunc='mean', groupby_rangefunc='minmax', layout={'x': 0, 'y': 0, 'w': 12, 'h': 8}),\n",
    "                wr.MediaBrowser(media_keys=\"videos\", num_columns=4, layout={'w': 12, 'h': 8}),\n",
    "            ],\n",
    "            runsets=[\n",
    "                wr.Runset(entity='openrlbenchmark', project='cleanrl', query='bigfish', groupby=['env_id', 'exp_name'])\n",
    "            ],\n",
    "            custom_run_colors={\n",
    "                ('Run set', 'bigfish', 'ppg_procgen'): \"#2980b9\",\n",
    "                ('Run set', 'bigfish', 'ppo_procgen'): \"#e74c3c\",\n",
    "            }\n",
    "        ),\n",
    "        wr.H2('Sit officia inventore non omnis deleniti.'),\n",
    "        wr.PanelGrid(\n",
    "            panels=[\n",
    "                wr.LinePlot(x='global_step', y=['charts/episodic_return'], smoothing_factor=0.85, groupby_aggfunc='mean', groupby_rangefunc='minmax', layout={'x': 0, 'y': 0, 'w': 12, 'h': 8}),\n",
    "                wr.MediaBrowser(media_keys=\"videos\", num_columns=4, layout={'w': 12, 'h': 8}),\n",
    "            ],\n",
    "            runsets=[\n",
    "                wr.Runset(entity='openrlbenchmark', project='cleanrl', query='starpilot', groupby=['env_id', 'exp_name'])\n",
    "            ],\n",
    "            custom_run_colors={\n",
    "                ('Run set', 'starpilot', 'ppg_procgen'): \"#2980b9\",\n",
    "                ('Run set', 'starpilot', 'ppo_procgen'): \"#e74c3c\",\n",
    "            }\n",
    "        ),\n",
    "    ]\n",
    ")\n",
    "report.save()"
   ]
  }
 ],
 "metadata": {
  "accelerator": "GPU",
  "colab": {
   "include_colab_link": true,
   "provenance": [],
   "toc_visible": true
  },
  "kernelspec": {
   "display_name": "Python 3",
   "name": "python3"
  }
 },
 "nbformat": 4,
 "nbformat_minor": 0
}
