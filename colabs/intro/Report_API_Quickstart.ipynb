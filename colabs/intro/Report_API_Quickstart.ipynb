{
  "cells": [
    {
      "cell_type": "markdown",
      "metadata": {
        "id": "view-in-github",
        "colab_type": "text"
      },
      "source": [
        "<a href=\"https://colab.research.google.com/github/wandb/examples/blob/update_reports_import_statement/colabs/intro/Report_API_Quickstart.ipynb\" target=\"_parent\"><img src=\"https://colab.research.google.com/assets/colab-badge.svg\" alt=\"Open In Colab\"/></a>"
      ]
    },
    {
      "cell_type": "markdown",
      "metadata": {
        "id": "LT3gAkpM7NDM"
      },
      "source": [
        "<a href=\"https://colab.research.google.com/github/wandb/examples/blob/master/colabs/intro/Report_API_Quickstart.ipynb\" target=\"_parent\"><img src=\"https://colab.research.google.com/assets/colab-badge.svg\" alt=\"Open In Colab\"/></a>\n",
        "<!--- @wandbcode{python-report-api} -->"
      ]
    },
    {
      "cell_type": "markdown",
      "metadata": {
        "id": "cPVgUCLA7NDN"
      },
      "source": [
        "<img src=\"http://wandb.me/logo-im-png\" width=\"400\" alt=\"Weights & Biases\" />\n",
        "<!--- @wandbcode{python-report-api} -->"
      ]
    },
    {
      "cell_type": "markdown",
      "metadata": {
        "id": "moxpZmPF7NDN"
      },
      "source": [
        "## What is the Report API?\n",
        "- Programmatically create and modify reports in Python, including support for editing blocks, panels, and runsets.\n",
        "- Create report templates to reuse and share with others\n",
        "\n"
      ]
    },
    {
      "cell_type": "markdown",
      "metadata": {
        "id": "T0EnG9_O7NDN"
      },
      "source": [
        "## Quick Links\n",
        "- [🚀 Quickstart Guide](#quickstart) (~5min)\n",
        "- [❓ FAQ](#faq)\n",
        "- [📌 Complete Examples](#complete_examples)"
      ]
    },
    {
      "cell_type": "code",
      "execution_count": 1,
      "metadata": {
        "colab": {
          "base_uri": "https://localhost:8080/"
        },
        "id": "S1e3tnre7NDO",
        "outputId": "c81e758c-c7ac-4f49-f278-aa2338feadc6"
      },
      "outputs": [
        {
          "output_type": "stream",
          "name": "stdout",
          "text": [
            "\u001b[2K   \u001b[90m━━━━━━━━━━━━━━━━━━━━━━━━━━━━━━━━━━━━━━━━\u001b[0m \u001b[32m9.3/9.3 MB\u001b[0m \u001b[31m47.9 MB/s\u001b[0m eta \u001b[36m0:00:00\u001b[0m\n",
            "\u001b[2K   \u001b[90m━━━━━━━━━━━━━━━━━━━━━━━━━━━━━━━━━━━━━━━━\u001b[0m \u001b[32m76.7/76.7 kB\u001b[0m \u001b[31m3.6 MB/s\u001b[0m eta \u001b[36m0:00:00\u001b[0m\n",
            "\u001b[2K   \u001b[90m━━━━━━━━━━━━━━━━━━━━━━━━━━━━━━━━━━━━━━━━\u001b[0m \u001b[32m207.3/207.3 kB\u001b[0m \u001b[31m10.8 MB/s\u001b[0m eta \u001b[36m0:00:00\u001b[0m\n",
            "\u001b[2K   \u001b[90m━━━━━━━━━━━━━━━━━━━━━━━━━━━━━━━━━━━━━━━━\u001b[0m \u001b[32m309.1/309.1 kB\u001b[0m \u001b[31m19.3 MB/s\u001b[0m eta \u001b[36m0:00:00\u001b[0m\n",
            "\u001b[2K   \u001b[90m━━━━━━━━━━━━━━━━━━━━━━━━━━━━━━━━━━━━━━━━\u001b[0m \u001b[32m62.7/62.7 kB\u001b[0m \u001b[31m3.1 MB/s\u001b[0m eta \u001b[36m0:00:00\u001b[0m\n",
            "\u001b[?25h"
          ]
        }
      ],
      "source": [
        "!pip install wandb wandb-workspaces -qqq"
      ]
    },
    {
      "cell_type": "markdown",
      "metadata": {
        "id": "-_yQjU607NDO"
      },
      "source": [
        "## Setup"
      ]
    },
    {
      "cell_type": "code",
      "execution_count": 2,
      "metadata": {
        "colab": {
          "base_uri": "https://localhost:8080/",
          "height": 1000,
          "referenced_widgets": [
            "cc8a1942379a4d4a9e25275ebbabfec8",
            "caea23de078046b8908bd1ff567b09a2",
            "90edc6c8d6954e17bcb733b230f48083",
            "45bd35eed5144ea4a6f2255e258dea67",
            "e5e3b656910744449413cb066df4f3ab",
            "cb17ed4e32ff4a208f40ad0d13a18410",
            "bc7ca871032341be88598a89cbe2890c",
            "e6cd73414fe7451ea33f90cc1895fc4a",
            "97c3ee1ec4d2478bb539eb8d9e1fae10",
            "03c6b34298de4672b12a82d6974e832d",
            "da7804beb2124c9ea8117d00307e2230",
            "db81d4c76d754a77afd19ee245deef08",
            "4c013f4912974ac895909519b52b9a93",
            "66ece129626a4ba7b832640ac3c50ec6",
            "bb6dead6c0ef40f5a2f54fb0b1918df0",
            "8b0ca9cfd1a74204a06e269d3dd51694",
            "3bfe6893316845e59105dc3b4972c052",
            "c7260edeef2245c798b9a46209bf1b13",
            "66c1dcf96a504bbfb7819942fdb10236",
            "8b99f76414da47c786a5030ed82e8a4f",
            "c475be00a6d641a0adf520957cd39087",
            "ee2b88cd2b5247ccbcb0e640b873c11d",
            "cbc886a502ce46859adcc7c39ce9d0f5",
            "8dbdc901a44c4bc385a39533890bbb2d",
            "60d7e99a8b4149ee90f6d33b60717e43",
            "003fc28238d743ffbd992033a2274db5",
            "4552745a99984d1ab0ff63d6fdd2aec3",
            "ae36822dc20f464e945cb15e443be96b",
            "a67a3f3cd1bb45b59b2cd819987eeaea",
            "bf2b3cdb872f4df3ba5fec5a296fbe9c",
            "b58e5b7c0fc548c5b9cf7a3a625c25bd",
            "258d98ee0caf45328ecba4920cd12046",
            "59a9be80a3884a7d8678c38b38c76781",
            "0cb8bdb5e7d7470d955fedcd7f86a731",
            "8d7056676e1d400e997b5ae95b3e4a1d",
            "d5aa774587994387b85023ace6224c03",
            "3b17a6c5882e4daf97d65192920bdaa5",
            "8de24964596843048efa669f098d07a6",
            "e24cc0739dc442589816cae605ad5fb7",
            "3412a6443ba7452996b665668de9423e",
            "ec080e46ffdb41a689ef4b2a344f5c48",
            "ed70652acd0a42a5bba7b3f7607daf1f",
            "0c140d856cc74a8b92ef6166c0f89406",
            "cb3d763540664e3592954785e42b3592",
            "7b13a3a31e0548a39bf94ac64902164f",
            "6e1975bfa38b48cba8b1c4a91c6912de",
            "9b322e89321e4b9984fe6fdb71e2e2b7",
            "9625490ca4d34c93a7790ceb725aa333",
            "21e24356ef8e4ee89e156bdf12f052ac",
            "1a1f995bc4a0465390926716dc61d185",
            "008e3164c8e04864b7a7d0cefff4a8ef",
            "0eb3d9009f814ab7939381d95c5f3553",
            "4cb0d0da5e6e450a8c1138058cfd047b",
            "9570160fc177417c80fe9ad8739f06e4",
            "d8c47f4a8dd14874851e5ca5524caf86",
            "33dee98f901943d889c42a0d3ea8bb1a",
            "695ec5e51e844fe08970480af6cf673f",
            "baced93ad67141319b9cdeaba6f5e080",
            "06372f4f21ec4d56a7e1a296ad73758f",
            "c509ffee6bb74961b15516f5ca5c57ca",
            "64eb07ed9f924981afaa9a07c89d46dd",
            "1abfe8027d6b4bf1951acc7edfbd150f",
            "636bc6b5442a4f73a285102115526ee3",
            "48a8d506e12342ce8847b2426ef29291",
            "6e596ec5e4f5412e933e184c45080338",
            "fea4145acea44e80acce426802e94feb",
            "90f4bdc351c0496bad830140bdd965c8",
            "6adce86d9b2e4f829e63cdbde020262e",
            "743da28a9ac94674ab0d3cd277f8cd37",
            "5ef8190ecb494ee8a02ec7c40ecaecdd",
            "0bb563a4847d4de58b10cfc827c4d6b9",
            "c266d7d0c41b4a95bff2c9162e44152f",
            "6ec04ca45c4c4e6c97b14bc612f5798f",
            "98cae8d463c1488380c37ffb2d2d365f",
            "a94bb4839e9f465a8a287f70bafe9c60",
            "59031ac53652463c8f7ce661e680342a",
            "6fd16e3a314b429397ee0d4e575295b2",
            "30c31b99bb604b868c51f7da792666e2",
            "26440cec08bc4e9a87005a641e8de4e0",
            "f7898729fe6d4b93b103b9f968e5a9d6",
            "636baee728f14e57bd80e03a39ec55f0",
            "9fc695cdbcbe40fba5206d6677fc43e7",
            "38e5335a7c644915a518a3d54b6d05c8",
            "8901397b69c546939c8609847a199f8a",
            "3f57ac12ac7a45f2a6d0dcd7f3cf1128",
            "d39fa43c75f34a029c64dd452e3ecc8c",
            "fc83fab8acbd4fc8ad2793cde9f3013d",
            "a03da2728d734ca88a719c729c30fdb2",
            "7c59d339fb3147f9a3f76f3947a814bd",
            "6a954c3821e44e2d94437a86898d0360",
            "26e0deccf21544b5b29171a91764ac8f",
            "e2fc80c4f46941d8907a0ef0765c475f",
            "1ac5fd6564eb43bf8984883149c1fb41",
            "0c6a5aabc92e477699c13368529419a1",
            "c8255f560a3f468e9665c3c7b1b39ebb",
            "b6def1e026b34a83b57136275d65b6d6",
            "7388e06c99ba44f3bb7f0574c0bfbaeb",
            "ebdca8b212334b9787eb5e4ac7041477",
            "f7f3d7aba83b4d9b8182a730b8321f66",
            "0ad3cec56d324d4f932fc17870ca5fb8",
            "b1a5deadacae4ebca088e614d55b3d51",
            "7c31e75e624f40aeaea671bba8fe2015",
            "1016151c49654b85b14f16338deb41bf",
            "001e6c022aba464d846087bca9e955dd"
          ]
        },
        "id": "9UGFOwXG7NDO",
        "outputId": "b3648ecc-34c7-4087-e97b-dbe020e01b93"
      },
      "outputs": [
        {
          "output_type": "display_data",
          "data": {
            "text/plain": [
              "<IPython.core.display.Javascript object>"
            ],
            "application/javascript": [
              "\n",
              "        window._wandbApiKey = new Promise((resolve, reject) => {\n",
              "            function loadScript(url) {\n",
              "            return new Promise(function(resolve, reject) {\n",
              "                let newScript = document.createElement(\"script\");\n",
              "                newScript.onerror = reject;\n",
              "                newScript.onload = resolve;\n",
              "                document.body.appendChild(newScript);\n",
              "                newScript.src = url;\n",
              "            });\n",
              "            }\n",
              "            loadScript(\"https://cdn.jsdelivr.net/npm/postmate/build/postmate.min.js\").then(() => {\n",
              "            const iframe = document.createElement('iframe')\n",
              "            iframe.style.cssText = \"width:0;height:0;border:none\"\n",
              "            document.body.appendChild(iframe)\n",
              "            const handshake = new Postmate({\n",
              "                container: iframe,\n",
              "                url: 'https://wandb.ai/authorize'\n",
              "            });\n",
              "            const timeout = setTimeout(() => reject(\"Couldn't auto authenticate\"), 5000)\n",
              "            handshake.then(function(child) {\n",
              "                child.on('authorize', data => {\n",
              "                    clearTimeout(timeout)\n",
              "                    resolve(data)\n",
              "                });\n",
              "            });\n",
              "            })\n",
              "        });\n",
              "    "
            ]
          },
          "metadata": {}
        },
        {
          "output_type": "stream",
          "name": "stderr",
          "text": [
            "\u001b[34m\u001b[1mwandb\u001b[0m: Logging into wandb.ai. (Learn how to deploy a W&B server locally: https://wandb.me/wandb-server)\n",
            "\u001b[34m\u001b[1mwandb\u001b[0m: You can find your API key in your browser here: https://wandb.ai/authorize\n",
            "wandb: Paste an API key from your profile and hit enter, or press ctrl+c to quit:"
          ]
        },
        {
          "name": "stdout",
          "output_type": "stream",
          "text": [
            " ··········\n"
          ]
        },
        {
          "output_type": "stream",
          "name": "stderr",
          "text": [
            "\u001b[34m\u001b[1mwandb\u001b[0m: Appending key for api.wandb.ai to your netrc file: /root/.netrc\n",
            "\u001b[34m\u001b[1mwandb\u001b[0m: Currently logged in as: \u001b[33msephmard\u001b[0m. Use \u001b[1m`wandb login --relogin`\u001b[0m to force relogin\n"
          ]
        },
        {
          "output_type": "display_data",
          "data": {
            "text/plain": [
              "<IPython.core.display.HTML object>"
            ],
            "text/html": [
              "Tracking run with wandb version 0.17.7"
            ]
          },
          "metadata": {}
        },
        {
          "output_type": "display_data",
          "data": {
            "text/plain": [
              "<IPython.core.display.HTML object>"
            ],
            "text/html": [
              "Run data is saved locally in <code>/content/wandb/run-20240819_232109-obcbwfez</code>"
            ]
          },
          "metadata": {}
        },
        {
          "output_type": "display_data",
          "data": {
            "text/plain": [
              "<IPython.core.display.HTML object>"
            ],
            "text/html": [
              "Syncing run <strong><a href='https://wandb.ai/sephmard/report-api-quickstart/runs/obcbwfez' target=\"_blank\">adventurous-aardvark-1</a></strong> to <a href='https://wandb.ai/sephmard/report-api-quickstart' target=\"_blank\">Weights & Biases</a> (<a href='https://wandb.me/run' target=\"_blank\">docs</a>)<br/>"
            ]
          },
          "metadata": {}
        },
        {
          "output_type": "display_data",
          "data": {
            "text/plain": [
              "<IPython.core.display.HTML object>"
            ],
            "text/html": [
              " View project at <a href='https://wandb.ai/sephmard/report-api-quickstart' target=\"_blank\">https://wandb.ai/sephmard/report-api-quickstart</a>"
            ]
          },
          "metadata": {}
        },
        {
          "output_type": "display_data",
          "data": {
            "text/plain": [
              "<IPython.core.display.HTML object>"
            ],
            "text/html": [
              " View run at <a href='https://wandb.ai/sephmard/report-api-quickstart/runs/obcbwfez' target=\"_blank\">https://wandb.ai/sephmard/report-api-quickstart/runs/obcbwfez</a>"
            ]
          },
          "metadata": {}
        },
        {
          "output_type": "display_data",
          "data": {
            "text/plain": [
              "VBox(children=(Label(value='0.102 MB of 0.102 MB uploaded\\r'), FloatProgress(value=1.0, max=1.0)))"
            ],
            "application/vnd.jupyter.widget-view+json": {
              "version_major": 2,
              "version_minor": 0,
              "model_id": "cc8a1942379a4d4a9e25275ebbabfec8"
            }
          },
          "metadata": {}
        },
        {
          "output_type": "display_data",
          "data": {
            "text/plain": [
              "<IPython.core.display.HTML object>"
            ],
            "text/html": [
              "<style>\n",
              "    table.wandb td:nth-child(1) { padding: 0 10px; text-align: left ; width: auto;} td:nth-child(2) {text-align: left ; width: 100%}\n",
              "    .wandb-row { display: flex; flex-direction: row; flex-wrap: wrap; justify-content: flex-start; width: 100% }\n",
              "    .wandb-col { display: flex; flex-direction: column; flex-basis: 100%; flex: 1; padding: 10px; }\n",
              "    </style>\n",
              "<div class=\"wandb-row\"><div class=\"wandb-col\"><h3>Run history:</h3><br/><table class=\"wandb\"><tr><td>acc</td><td>▁▂▄▃▄▄▅▅▅▅▆▆▇▆▇▆▆▇▇▇▆▆▇▆▇▆▇█▇█▇▇▇█▇▇▇▇█▇</td></tr><tr><td>loss</td><td>█▆▅▄▄▄▄▄▄▃▃▃▃▃▃▂▃▃▃▂▃▂▁▂▂▂▂▁▂▂▁▂▂▁▁▁▂▁▂▂</td></tr><tr><td>val_acc</td><td>▁▂▃▄▄▅▄▅▄▅▆▆▆▅▆▆▆▇▇▆▆▇▆▇▇▆▇▇▆▇▆█▆▇███▇█▇</td></tr><tr><td>val_loss</td><td>█▆▆▅▅▄▄▅▄▃▃▃▃▄▃▃▃▃▂▂▃▂▂▂▃▂▃▂▂▁▂▂▁▁▂▂▁▂▁▁</td></tr></table><br/></div><div class=\"wandb-col\"><h3>Run summary:</h3><br/><table class=\"wandb\"><tr><td>acc</td><td>3.12443</td></tr><tr><td>loss</td><td>0.19695</td></tr><tr><td>val_acc</td><td>2.65058</td></tr><tr><td>val_loss</td><td>0.12585</td></tr></table><br/></div></div>"
            ]
          },
          "metadata": {}
        },
        {
          "output_type": "display_data",
          "data": {
            "text/plain": [
              "<IPython.core.display.HTML object>"
            ],
            "text/html": [
              " View run <strong style=\"color:#cdcd00\">adventurous-aardvark-1</strong> at: <a href='https://wandb.ai/sephmard/report-api-quickstart/runs/obcbwfez' target=\"_blank\">https://wandb.ai/sephmard/report-api-quickstart/runs/obcbwfez</a><br/> View project at: <a href='https://wandb.ai/sephmard/report-api-quickstart' target=\"_blank\">https://wandb.ai/sephmard/report-api-quickstart</a><br/>Synced 4 W&B file(s), 0 media file(s), 4 artifact file(s) and 1 other file(s)"
            ]
          },
          "metadata": {}
        },
        {
          "output_type": "display_data",
          "data": {
            "text/plain": [
              "<IPython.core.display.HTML object>"
            ],
            "text/html": [
              "Find logs at: <code>./wandb/run-20240819_232109-obcbwfez/logs</code>"
            ]
          },
          "metadata": {}
        },
        {
          "output_type": "display_data",
          "data": {
            "text/plain": [
              "<IPython.core.display.HTML object>"
            ],
            "text/html": [
              "The new W&B backend becomes opt-out in version 0.18.0; try it out with `wandb.require(\"core\")`! See https://wandb.me/wandb-core for more information."
            ]
          },
          "metadata": {}
        },
        {
          "output_type": "display_data",
          "data": {
            "text/plain": [
              "<IPython.core.display.HTML object>"
            ],
            "text/html": [
              "Tracking run with wandb version 0.17.7"
            ]
          },
          "metadata": {}
        },
        {
          "output_type": "display_data",
          "data": {
            "text/plain": [
              "<IPython.core.display.HTML object>"
            ],
            "text/html": [
              "Run data is saved locally in <code>/content/wandb/run-20240819_232118-ixsxw5zo</code>"
            ]
          },
          "metadata": {}
        },
        {
          "output_type": "display_data",
          "data": {
            "text/plain": [
              "<IPython.core.display.HTML object>"
            ],
            "text/html": [
              "Syncing run <strong><a href='https://wandb.ai/sephmard/report-api-quickstart/runs/ixsxw5zo' target=\"_blank\">bountiful-badger-2</a></strong> to <a href='https://wandb.ai/sephmard/report-api-quickstart' target=\"_blank\">Weights & Biases</a> (<a href='https://wandb.me/run' target=\"_blank\">docs</a>)<br/>"
            ]
          },
          "metadata": {}
        },
        {
          "output_type": "display_data",
          "data": {
            "text/plain": [
              "<IPython.core.display.HTML object>"
            ],
            "text/html": [
              " View project at <a href='https://wandb.ai/sephmard/report-api-quickstart' target=\"_blank\">https://wandb.ai/sephmard/report-api-quickstart</a>"
            ]
          },
          "metadata": {}
        },
        {
          "output_type": "display_data",
          "data": {
            "text/plain": [
              "<IPython.core.display.HTML object>"
            ],
            "text/html": [
              " View run at <a href='https://wandb.ai/sephmard/report-api-quickstart/runs/ixsxw5zo' target=\"_blank\">https://wandb.ai/sephmard/report-api-quickstart/runs/ixsxw5zo</a>"
            ]
          },
          "metadata": {}
        },
        {
          "output_type": "display_data",
          "data": {
            "text/plain": [
              "VBox(children=(Label(value='0.092 MB of 0.113 MB uploaded (0.009 MB deduped)\\r'), FloatProgress(value=0.813848…"
            ],
            "application/vnd.jupyter.widget-view+json": {
              "version_major": 2,
              "version_minor": 0,
              "model_id": "97c3ee1ec4d2478bb539eb8d9e1fae10"
            }
          },
          "metadata": {}
        },
        {
          "output_type": "display_data",
          "data": {
            "text/plain": [
              "<IPython.core.display.HTML object>"
            ],
            "text/html": [
              "W&B sync reduced upload amount by 8.3%"
            ]
          },
          "metadata": {}
        },
        {
          "output_type": "display_data",
          "data": {
            "text/plain": [
              "<IPython.core.display.HTML object>"
            ],
            "text/html": [
              "<style>\n",
              "    table.wandb td:nth-child(1) { padding: 0 10px; text-align: left ; width: auto;} td:nth-child(2) {text-align: left ; width: 100%}\n",
              "    .wandb-row { display: flex; flex-direction: row; flex-wrap: wrap; justify-content: flex-start; width: 100% }\n",
              "    .wandb-col { display: flex; flex-direction: column; flex-basis: 100%; flex: 1; padding: 10px; }\n",
              "    </style>\n",
              "<div class=\"wandb-row\"><div class=\"wandb-col\"><h3>Run history:</h3><br/><table class=\"wandb\"><tr><td>acc</td><td>▁▃▄▄▄▄▅▅▅▅▅▆▆▆▆▆▆▆▆▆▇▇▇▆▇▆▇▇▇▇▇██▇█▇▇▇█▇</td></tr><tr><td>loss</td><td>█▅▅▄▄▄▃▄▃▃▃▂▃▃▃▃▃▂▃▂▂▂▃▂▁▂▂▁▂▁▂▂▂▁▁▁▁▁▁▁</td></tr><tr><td>val_acc</td><td>▁▂▃▃▄▅▄▆▅▅▆▆▅▆▆▆▇▆▆▆▆▆▆▇▇▇▆█▇▆▆▇▇▇▇▇███▇</td></tr><tr><td>val_loss</td><td>█▇▅▆▅▄▄▄▄▃▃▃▂▂▃▃▃▂▂▃▃▃▂▂▃▂▁▂▂▂▁▂▂▂▁▁▁▁▁▂</td></tr></table><br/></div><div class=\"wandb-col\"><h3>Run summary:</h3><br/><table class=\"wandb\"><tr><td>acc</td><td>3.88046</td></tr><tr><td>loss</td><td>0.07646</td></tr><tr><td>val_acc</td><td>3.16668</td></tr><tr><td>val_loss</td><td>0.11364</td></tr></table><br/></div></div>"
            ]
          },
          "metadata": {}
        },
        {
          "output_type": "display_data",
          "data": {
            "text/plain": [
              "<IPython.core.display.HTML object>"
            ],
            "text/html": [
              " View run <strong style=\"color:#cdcd00\">bountiful-badger-2</strong> at: <a href='https://wandb.ai/sephmard/report-api-quickstart/runs/ixsxw5zo' target=\"_blank\">https://wandb.ai/sephmard/report-api-quickstart/runs/ixsxw5zo</a><br/> View project at: <a href='https://wandb.ai/sephmard/report-api-quickstart' target=\"_blank\">https://wandb.ai/sephmard/report-api-quickstart</a><br/>Synced 4 W&B file(s), 0 media file(s), 4 artifact file(s) and 1 other file(s)"
            ]
          },
          "metadata": {}
        },
        {
          "output_type": "display_data",
          "data": {
            "text/plain": [
              "<IPython.core.display.HTML object>"
            ],
            "text/html": [
              "Find logs at: <code>./wandb/run-20240819_232118-ixsxw5zo/logs</code>"
            ]
          },
          "metadata": {}
        },
        {
          "output_type": "display_data",
          "data": {
            "text/plain": [
              "<IPython.core.display.HTML object>"
            ],
            "text/html": [
              "The new W&B backend becomes opt-out in version 0.18.0; try it out with `wandb.require(\"core\")`! See https://wandb.me/wandb-core for more information."
            ]
          },
          "metadata": {}
        },
        {
          "output_type": "display_data",
          "data": {
            "text/plain": [
              "<IPython.core.display.HTML object>"
            ],
            "text/html": [
              "Tracking run with wandb version 0.17.7"
            ]
          },
          "metadata": {}
        },
        {
          "output_type": "display_data",
          "data": {
            "text/plain": [
              "<IPython.core.display.HTML object>"
            ],
            "text/html": [
              "Run data is saved locally in <code>/content/wandb/run-20240819_232125-oam6804u</code>"
            ]
          },
          "metadata": {}
        },
        {
          "output_type": "display_data",
          "data": {
            "text/plain": [
              "<IPython.core.display.HTML object>"
            ],
            "text/html": [
              "Syncing run <strong><a href='https://wandb.ai/sephmard/report-api-quickstart/runs/oam6804u' target=\"_blank\">clairvoyant-chipmunk-3</a></strong> to <a href='https://wandb.ai/sephmard/report-api-quickstart' target=\"_blank\">Weights & Biases</a> (<a href='https://wandb.me/run' target=\"_blank\">docs</a>)<br/>"
            ]
          },
          "metadata": {}
        },
        {
          "output_type": "display_data",
          "data": {
            "text/plain": [
              "<IPython.core.display.HTML object>"
            ],
            "text/html": [
              " View project at <a href='https://wandb.ai/sephmard/report-api-quickstart' target=\"_blank\">https://wandb.ai/sephmard/report-api-quickstart</a>"
            ]
          },
          "metadata": {}
        },
        {
          "output_type": "display_data",
          "data": {
            "text/plain": [
              "<IPython.core.display.HTML object>"
            ],
            "text/html": [
              " View run at <a href='https://wandb.ai/sephmard/report-api-quickstart/runs/oam6804u' target=\"_blank\">https://wandb.ai/sephmard/report-api-quickstart/runs/oam6804u</a>"
            ]
          },
          "metadata": {}
        },
        {
          "output_type": "display_data",
          "data": {
            "text/plain": [
              "VBox(children=(Label(value='0.103 MB of 0.113 MB uploaded (0.009 MB deduped)\\r'), FloatProgress(value=0.909434…"
            ],
            "application/vnd.jupyter.widget-view+json": {
              "version_major": 2,
              "version_minor": 0,
              "model_id": "3bfe6893316845e59105dc3b4972c052"
            }
          },
          "metadata": {}
        },
        {
          "output_type": "display_data",
          "data": {
            "text/plain": [
              "<IPython.core.display.HTML object>"
            ],
            "text/html": [
              "W&B sync reduced upload amount by 7.6%"
            ]
          },
          "metadata": {}
        },
        {
          "output_type": "display_data",
          "data": {
            "text/plain": [
              "<IPython.core.display.HTML object>"
            ],
            "text/html": [
              "<style>\n",
              "    table.wandb td:nth-child(1) { padding: 0 10px; text-align: left ; width: auto;} td:nth-child(2) {text-align: left ; width: 100%}\n",
              "    .wandb-row { display: flex; flex-direction: row; flex-wrap: wrap; justify-content: flex-start; width: 100% }\n",
              "    .wandb-col { display: flex; flex-direction: column; flex-basis: 100%; flex: 1; padding: 10px; }\n",
              "    </style>\n",
              "<div class=\"wandb-row\"><div class=\"wandb-col\"><h3>Run history:</h3><br/><table class=\"wandb\"><tr><td>acc</td><td>▁▃▄▄▅▅▅▅▆▅▅▆▅▆▆▆▆▇▇▆▇▇▆▇▇▇▆▇▇▇▇▇█▇▇▇▇███</td></tr><tr><td>loss</td><td>█▇▆▅▄▄▄▃▄▃▃▄▃▂▂▃▂▃▂▂▂▂▂▃▂▂▂▂▁▁▁▂▂▂▁▂▂▁▂▂</td></tr><tr><td>val_acc</td><td>▁▃▄▅▅▅▅▆▆▆▆▆▅▆▇▇▆▇▇▇▆▇▆▇▇▇▇██▇████▇██▇█▇</td></tr><tr><td>val_loss</td><td>█▆▅▄▄▅▄▃▄▃▃▃▃▂▃▃▃▂▃▂▃▃▃▂▂▂▂▁▁▂▂▂▁▂▂▂▁▂▂▁</td></tr></table><br/></div><div class=\"wandb-col\"><h3>Run summary:</h3><br/><table class=\"wandb\"><tr><td>acc</td><td>3.12776</td></tr><tr><td>loss</td><td>0.13164</td></tr><tr><td>val_acc</td><td>2.79557</td></tr><tr><td>val_loss</td><td>0.12091</td></tr></table><br/></div></div>"
            ]
          },
          "metadata": {}
        },
        {
          "output_type": "display_data",
          "data": {
            "text/plain": [
              "<IPython.core.display.HTML object>"
            ],
            "text/html": [
              " View run <strong style=\"color:#cdcd00\">clairvoyant-chipmunk-3</strong> at: <a href='https://wandb.ai/sephmard/report-api-quickstart/runs/oam6804u' target=\"_blank\">https://wandb.ai/sephmard/report-api-quickstart/runs/oam6804u</a><br/> View project at: <a href='https://wandb.ai/sephmard/report-api-quickstart' target=\"_blank\">https://wandb.ai/sephmard/report-api-quickstart</a><br/>Synced 4 W&B file(s), 0 media file(s), 4 artifact file(s) and 1 other file(s)"
            ]
          },
          "metadata": {}
        },
        {
          "output_type": "display_data",
          "data": {
            "text/plain": [
              "<IPython.core.display.HTML object>"
            ],
            "text/html": [
              "Find logs at: <code>./wandb/run-20240819_232125-oam6804u/logs</code>"
            ]
          },
          "metadata": {}
        },
        {
          "output_type": "display_data",
          "data": {
            "text/plain": [
              "<IPython.core.display.HTML object>"
            ],
            "text/html": [
              "The new W&B backend becomes opt-out in version 0.18.0; try it out with `wandb.require(\"core\")`! See https://wandb.me/wandb-core for more information."
            ]
          },
          "metadata": {}
        },
        {
          "output_type": "display_data",
          "data": {
            "text/plain": [
              "<IPython.core.display.HTML object>"
            ],
            "text/html": [
              "Tracking run with wandb version 0.17.7"
            ]
          },
          "metadata": {}
        },
        {
          "output_type": "display_data",
          "data": {
            "text/plain": [
              "<IPython.core.display.HTML object>"
            ],
            "text/html": [
              "Run data is saved locally in <code>/content/wandb/run-20240819_232136-5epla0yj</code>"
            ]
          },
          "metadata": {}
        },
        {
          "output_type": "display_data",
          "data": {
            "text/plain": [
              "<IPython.core.display.HTML object>"
            ],
            "text/html": [
              "Syncing run <strong><a href='https://wandb.ai/sephmard/report-api-quickstart/runs/5epla0yj' target=\"_blank\">dastardly-duck-4</a></strong> to <a href='https://wandb.ai/sephmard/report-api-quickstart' target=\"_blank\">Weights & Biases</a> (<a href='https://wandb.me/run' target=\"_blank\">docs</a>)<br/>"
            ]
          },
          "metadata": {}
        },
        {
          "output_type": "display_data",
          "data": {
            "text/plain": [
              "<IPython.core.display.HTML object>"
            ],
            "text/html": [
              " View project at <a href='https://wandb.ai/sephmard/report-api-quickstart' target=\"_blank\">https://wandb.ai/sephmard/report-api-quickstart</a>"
            ]
          },
          "metadata": {}
        },
        {
          "output_type": "display_data",
          "data": {
            "text/plain": [
              "<IPython.core.display.HTML object>"
            ],
            "text/html": [
              " View run at <a href='https://wandb.ai/sephmard/report-api-quickstart/runs/5epla0yj' target=\"_blank\">https://wandb.ai/sephmard/report-api-quickstart/runs/5epla0yj</a>"
            ]
          },
          "metadata": {}
        },
        {
          "output_type": "display_data",
          "data": {
            "text/plain": [
              "VBox(children=(Label(value='0.135 MB of 0.135 MB uploaded (0.009 MB deduped)\\r'), FloatProgress(value=1.0, max…"
            ],
            "application/vnd.jupyter.widget-view+json": {
              "version_major": 2,
              "version_minor": 0,
              "model_id": "60d7e99a8b4149ee90f6d33b60717e43"
            }
          },
          "metadata": {}
        },
        {
          "output_type": "display_data",
          "data": {
            "text/plain": [
              "<IPython.core.display.HTML object>"
            ],
            "text/html": [
              "W&B sync reduced upload amount by 7.0%"
            ]
          },
          "metadata": {}
        },
        {
          "output_type": "display_data",
          "data": {
            "text/plain": [
              "<IPython.core.display.HTML object>"
            ],
            "text/html": [
              "<style>\n",
              "    table.wandb td:nth-child(1) { padding: 0 10px; text-align: left ; width: auto;} td:nth-child(2) {text-align: left ; width: 100%}\n",
              "    .wandb-row { display: flex; flex-direction: row; flex-wrap: wrap; justify-content: flex-start; width: 100% }\n",
              "    .wandb-col { display: flex; flex-direction: column; flex-basis: 100%; flex: 1; padding: 10px; }\n",
              "    </style>\n",
              "<div class=\"wandb-row\"><div class=\"wandb-col\"><h3>Run history:</h3><br/><table class=\"wandb\"><tr><td>acc</td><td>▁▄▅▅▅▆▅▅▆▆▆▅▆▇▆▆▇▆▆▇▇▇▇▇▇▇█▇▇▇▇▇▇█▇█████</td></tr><tr><td>loss</td><td>█▆▅▄▅▄▄▃▃▃▄▃▃▃▂▃▃▂▃▂▂▃▂▃▃▂▂▃▂▂▂▂▂▁▂▁▂▂▁▁</td></tr><tr><td>val_acc</td><td>▁▂▃▄▄▅▅▅▅▆▆▆▆▇▆▅▆▆▆▇▆▇▇▆▇▇▇▇█▇▇▇█▇▇▇▇███</td></tr><tr><td>val_loss</td><td>█▆▅▅▄▄▃▃▃▃▃▄▃▃▂▃▂▃▃▃▃▂▂▂▂▂▂▂▂▂▂▂▂▁▂▂▁▂▂▁</td></tr></table><br/></div><div class=\"wandb-col\"><h3>Run summary:</h3><br/><table class=\"wandb\"><tr><td>acc</td><td>3.44081</td></tr><tr><td>loss</td><td>0.10934</td></tr><tr><td>val_acc</td><td>2.98565</td></tr><tr><td>val_loss</td><td>0.12042</td></tr></table><br/></div></div>"
            ]
          },
          "metadata": {}
        },
        {
          "output_type": "display_data",
          "data": {
            "text/plain": [
              "<IPython.core.display.HTML object>"
            ],
            "text/html": [
              " View run <strong style=\"color:#cdcd00\">dastardly-duck-4</strong> at: <a href='https://wandb.ai/sephmard/report-api-quickstart/runs/5epla0yj' target=\"_blank\">https://wandb.ai/sephmard/report-api-quickstart/runs/5epla0yj</a><br/> View project at: <a href='https://wandb.ai/sephmard/report-api-quickstart' target=\"_blank\">https://wandb.ai/sephmard/report-api-quickstart</a><br/>Synced 4 W&B file(s), 0 media file(s), 4 artifact file(s) and 1 other file(s)"
            ]
          },
          "metadata": {}
        },
        {
          "output_type": "display_data",
          "data": {
            "text/plain": [
              "<IPython.core.display.HTML object>"
            ],
            "text/html": [
              "Find logs at: <code>./wandb/run-20240819_232136-5epla0yj/logs</code>"
            ]
          },
          "metadata": {}
        },
        {
          "output_type": "display_data",
          "data": {
            "text/plain": [
              "<IPython.core.display.HTML object>"
            ],
            "text/html": [
              "The new W&B backend becomes opt-out in version 0.18.0; try it out with `wandb.require(\"core\")`! See https://wandb.me/wandb-core for more information."
            ]
          },
          "metadata": {}
        },
        {
          "output_type": "display_data",
          "data": {
            "text/plain": [
              "<IPython.core.display.HTML object>"
            ],
            "text/html": [
              "Tracking run with wandb version 0.17.7"
            ]
          },
          "metadata": {}
        },
        {
          "output_type": "display_data",
          "data": {
            "text/plain": [
              "<IPython.core.display.HTML object>"
            ],
            "text/html": [
              "Run data is saved locally in <code>/content/wandb/run-20240819_232144-ol2dncgt</code>"
            ]
          },
          "metadata": {}
        },
        {
          "output_type": "display_data",
          "data": {
            "text/plain": [
              "<IPython.core.display.HTML object>"
            ],
            "text/html": [
              "Syncing run <strong><a href='https://wandb.ai/sephmard/report-api-quickstart/runs/ol2dncgt' target=\"_blank\">eloquent-elephant-5</a></strong> to <a href='https://wandb.ai/sephmard/report-api-quickstart' target=\"_blank\">Weights & Biases</a> (<a href='https://wandb.me/run' target=\"_blank\">docs</a>)<br/>"
            ]
          },
          "metadata": {}
        },
        {
          "output_type": "display_data",
          "data": {
            "text/plain": [
              "<IPython.core.display.HTML object>"
            ],
            "text/html": [
              " View project at <a href='https://wandb.ai/sephmard/report-api-quickstart' target=\"_blank\">https://wandb.ai/sephmard/report-api-quickstart</a>"
            ]
          },
          "metadata": {}
        },
        {
          "output_type": "display_data",
          "data": {
            "text/plain": [
              "<IPython.core.display.HTML object>"
            ],
            "text/html": [
              " View run at <a href='https://wandb.ai/sephmard/report-api-quickstart/runs/ol2dncgt' target=\"_blank\">https://wandb.ai/sephmard/report-api-quickstart/runs/ol2dncgt</a>"
            ]
          },
          "metadata": {}
        },
        {
          "output_type": "display_data",
          "data": {
            "text/plain": [
              "VBox(children=(Label(value='0.903 MB of 0.903 MB uploaded (0.009 MB deduped)\\r'), FloatProgress(value=1.0, max…"
            ],
            "application/vnd.jupyter.widget-view+json": {
              "version_major": 2,
              "version_minor": 0,
              "model_id": "59a9be80a3884a7d8678c38b38c76781"
            }
          },
          "metadata": {}
        },
        {
          "output_type": "display_data",
          "data": {
            "text/plain": [
              "<IPython.core.display.HTML object>"
            ],
            "text/html": [
              "W&B sync reduced upload amount by 1.0%"
            ]
          },
          "metadata": {}
        },
        {
          "output_type": "display_data",
          "data": {
            "text/plain": [
              "<IPython.core.display.HTML object>"
            ],
            "text/html": [
              " View run <strong style=\"color:#cdcd00\">eloquent-elephant-5</strong> at: <a href='https://wandb.ai/sephmard/report-api-quickstart/runs/ol2dncgt' target=\"_blank\">https://wandb.ai/sephmard/report-api-quickstart/runs/ol2dncgt</a><br/> View project at: <a href='https://wandb.ai/sephmard/report-api-quickstart' target=\"_blank\">https://wandb.ai/sephmard/report-api-quickstart</a><br/>Synced 4 W&B file(s), 2 media file(s), 6 artifact file(s) and 1 other file(s)"
            ]
          },
          "metadata": {}
        },
        {
          "output_type": "display_data",
          "data": {
            "text/plain": [
              "<IPython.core.display.HTML object>"
            ],
            "text/html": [
              "Find logs at: <code>./wandb/run-20240819_232144-ol2dncgt/logs</code>"
            ]
          },
          "metadata": {}
        },
        {
          "output_type": "display_data",
          "data": {
            "text/plain": [
              "<IPython.core.display.HTML object>"
            ],
            "text/html": [
              "The new W&B backend becomes opt-out in version 0.18.0; try it out with `wandb.require(\"core\")`! See https://wandb.me/wandb-core for more information."
            ]
          },
          "metadata": {}
        },
        {
          "output_type": "display_data",
          "data": {
            "text/plain": [
              "<IPython.core.display.HTML object>"
            ],
            "text/html": [
              "Tracking run with wandb version 0.17.7"
            ]
          },
          "metadata": {}
        },
        {
          "output_type": "display_data",
          "data": {
            "text/plain": [
              "<IPython.core.display.HTML object>"
            ],
            "text/html": [
              "Run data is saved locally in <code>/content/wandb/run-20240819_232151-ca9b3s45</code>"
            ]
          },
          "metadata": {}
        },
        {
          "output_type": "display_data",
          "data": {
            "text/plain": [
              "<IPython.core.display.HTML object>"
            ],
            "text/html": [
              "Syncing run <strong><a href='https://wandb.ai/sephmard/lineage-example/runs/ca9b3s45' target=\"_blank\">sandy-frog-9</a></strong> to <a href='https://wandb.ai/sephmard/lineage-example' target=\"_blank\">Weights & Biases</a> (<a href='https://wandb.me/run' target=\"_blank\">docs</a>)<br/>"
            ]
          },
          "metadata": {}
        },
        {
          "output_type": "display_data",
          "data": {
            "text/plain": [
              "<IPython.core.display.HTML object>"
            ],
            "text/html": [
              " View project at <a href='https://wandb.ai/sephmard/lineage-example' target=\"_blank\">https://wandb.ai/sephmard/lineage-example</a>"
            ]
          },
          "metadata": {}
        },
        {
          "output_type": "display_data",
          "data": {
            "text/plain": [
              "<IPython.core.display.HTML object>"
            ],
            "text/html": [
              " View run at <a href='https://wandb.ai/sephmard/lineage-example/runs/ca9b3s45' target=\"_blank\">https://wandb.ai/sephmard/lineage-example/runs/ca9b3s45</a>"
            ]
          },
          "metadata": {}
        },
        {
          "output_type": "display_data",
          "data": {
            "text/plain": [
              "VBox(children=(Label(value='1.267 MB of 1.287 MB uploaded (1.134 MB deduped)\\r'), FloatProgress(value=0.983998…"
            ],
            "application/vnd.jupyter.widget-view+json": {
              "version_major": 2,
              "version_minor": 0,
              "model_id": "ec080e46ffdb41a689ef4b2a344f5c48"
            }
          },
          "metadata": {}
        },
        {
          "output_type": "display_data",
          "data": {
            "text/plain": [
              "<IPython.core.display.HTML object>"
            ],
            "text/html": [
              "W&B sync reduced upload amount by 88.1%"
            ]
          },
          "metadata": {}
        },
        {
          "output_type": "display_data",
          "data": {
            "text/plain": [
              "<IPython.core.display.HTML object>"
            ],
            "text/html": [
              " View run <strong style=\"color:#cdcd00\">sandy-frog-9</strong> at: <a href='https://wandb.ai/sephmard/lineage-example/runs/ca9b3s45' target=\"_blank\">https://wandb.ai/sephmard/lineage-example/runs/ca9b3s45</a><br/> View project at: <a href='https://wandb.ai/sephmard/lineage-example' target=\"_blank\">https://wandb.ai/sephmard/lineage-example</a><br/>Synced 4 W&B file(s), 0 media file(s), 13 artifact file(s) and 1 other file(s)"
            ]
          },
          "metadata": {}
        },
        {
          "output_type": "display_data",
          "data": {
            "text/plain": [
              "<IPython.core.display.HTML object>"
            ],
            "text/html": [
              "Find logs at: <code>./wandb/run-20240819_232151-ca9b3s45/logs</code>"
            ]
          },
          "metadata": {}
        },
        {
          "output_type": "display_data",
          "data": {
            "text/plain": [
              "<IPython.core.display.HTML object>"
            ],
            "text/html": [
              "The new W&B backend becomes opt-out in version 0.18.0; try it out with `wandb.require(\"core\")`! See https://wandb.me/wandb-core for more information."
            ]
          },
          "metadata": {}
        },
        {
          "output_type": "display_data",
          "data": {
            "text/plain": [
              "<IPython.core.display.HTML object>"
            ],
            "text/html": [
              "Tracking run with wandb version 0.17.7"
            ]
          },
          "metadata": {}
        },
        {
          "output_type": "display_data",
          "data": {
            "text/plain": [
              "<IPython.core.display.HTML object>"
            ],
            "text/html": [
              "Run data is saved locally in <code>/content/wandb/run-20240819_232204-os2sshvz</code>"
            ]
          },
          "metadata": {}
        },
        {
          "output_type": "display_data",
          "data": {
            "text/plain": [
              "<IPython.core.display.HTML object>"
            ],
            "text/html": [
              "Syncing run <strong><a href='https://wandb.ai/sephmard/lineage-example/runs/os2sshvz' target=\"_blank\">scarlet-snowball-10</a></strong> to <a href='https://wandb.ai/sephmard/lineage-example' target=\"_blank\">Weights & Biases</a> (<a href='https://wandb.me/run' target=\"_blank\">docs</a>)<br/>"
            ]
          },
          "metadata": {}
        },
        {
          "output_type": "display_data",
          "data": {
            "text/plain": [
              "<IPython.core.display.HTML object>"
            ],
            "text/html": [
              " View project at <a href='https://wandb.ai/sephmard/lineage-example' target=\"_blank\">https://wandb.ai/sephmard/lineage-example</a>"
            ]
          },
          "metadata": {}
        },
        {
          "output_type": "display_data",
          "data": {
            "text/plain": [
              "<IPython.core.display.HTML object>"
            ],
            "text/html": [
              " View run at <a href='https://wandb.ai/sephmard/lineage-example/runs/os2sshvz' target=\"_blank\">https://wandb.ai/sephmard/lineage-example/runs/os2sshvz</a>"
            ]
          },
          "metadata": {}
        },
        {
          "output_type": "display_data",
          "data": {
            "text/plain": [
              "VBox(children=(Label(value='1.275 MB of 1.275 MB uploaded (1.143 MB deduped)\\r'), FloatProgress(value=1.0, max…"
            ],
            "application/vnd.jupyter.widget-view+json": {
              "version_major": 2,
              "version_minor": 0,
              "model_id": "21e24356ef8e4ee89e156bdf12f052ac"
            }
          },
          "metadata": {}
        },
        {
          "output_type": "display_data",
          "data": {
            "text/plain": [
              "<IPython.core.display.HTML object>"
            ],
            "text/html": [
              "W&B sync reduced upload amount by 88.2%"
            ]
          },
          "metadata": {}
        },
        {
          "output_type": "display_data",
          "data": {
            "text/plain": [
              "<IPython.core.display.HTML object>"
            ],
            "text/html": [
              " View run <strong style=\"color:#cdcd00\">scarlet-snowball-10</strong> at: <a href='https://wandb.ai/sephmard/lineage-example/runs/os2sshvz' target=\"_blank\">https://wandb.ai/sephmard/lineage-example/runs/os2sshvz</a><br/> View project at: <a href='https://wandb.ai/sephmard/lineage-example' target=\"_blank\">https://wandb.ai/sephmard/lineage-example</a><br/>Synced 4 W&B file(s), 0 media file(s), 13 artifact file(s) and 1 other file(s)"
            ]
          },
          "metadata": {}
        },
        {
          "output_type": "display_data",
          "data": {
            "text/plain": [
              "<IPython.core.display.HTML object>"
            ],
            "text/html": [
              "Find logs at: <code>./wandb/run-20240819_232204-os2sshvz/logs</code>"
            ]
          },
          "metadata": {}
        },
        {
          "output_type": "display_data",
          "data": {
            "text/plain": [
              "<IPython.core.display.HTML object>"
            ],
            "text/html": [
              "The new W&B backend becomes opt-out in version 0.18.0; try it out with `wandb.require(\"core\")`! See https://wandb.me/wandb-core for more information."
            ]
          },
          "metadata": {}
        },
        {
          "output_type": "display_data",
          "data": {
            "text/plain": [
              "<IPython.core.display.HTML object>"
            ],
            "text/html": [
              "Tracking run with wandb version 0.17.7"
            ]
          },
          "metadata": {}
        },
        {
          "output_type": "display_data",
          "data": {
            "text/plain": [
              "<IPython.core.display.HTML object>"
            ],
            "text/html": [
              "Run data is saved locally in <code>/content/wandb/run-20240819_232215-x00oukc4</code>"
            ]
          },
          "metadata": {}
        },
        {
          "output_type": "display_data",
          "data": {
            "text/plain": [
              "<IPython.core.display.HTML object>"
            ],
            "text/html": [
              "Syncing run <strong><a href='https://wandb.ai/sephmard/lineage-example/runs/x00oukc4' target=\"_blank\">polished-dust-11</a></strong> to <a href='https://wandb.ai/sephmard/lineage-example' target=\"_blank\">Weights & Biases</a> (<a href='https://wandb.me/run' target=\"_blank\">docs</a>)<br/>"
            ]
          },
          "metadata": {}
        },
        {
          "output_type": "display_data",
          "data": {
            "text/plain": [
              "<IPython.core.display.HTML object>"
            ],
            "text/html": [
              " View project at <a href='https://wandb.ai/sephmard/lineage-example' target=\"_blank\">https://wandb.ai/sephmard/lineage-example</a>"
            ]
          },
          "metadata": {}
        },
        {
          "output_type": "display_data",
          "data": {
            "text/plain": [
              "<IPython.core.display.HTML object>"
            ],
            "text/html": [
              " View run at <a href='https://wandb.ai/sephmard/lineage-example/runs/x00oukc4' target=\"_blank\">https://wandb.ai/sephmard/lineage-example/runs/x00oukc4</a>"
            ]
          },
          "metadata": {}
        },
        {
          "output_type": "display_data",
          "data": {
            "text/plain": [
              "VBox(children=(Label(value='1.305 MB of 1.305 MB uploaded (1.143 MB deduped)\\r'), FloatProgress(value=1.0, max…"
            ],
            "application/vnd.jupyter.widget-view+json": {
              "version_major": 2,
              "version_minor": 0,
              "model_id": "695ec5e51e844fe08970480af6cf673f"
            }
          },
          "metadata": {}
        },
        {
          "output_type": "display_data",
          "data": {
            "text/plain": [
              "<IPython.core.display.HTML object>"
            ],
            "text/html": [
              "W&B sync reduced upload amount by 87.6%"
            ]
          },
          "metadata": {}
        },
        {
          "output_type": "display_data",
          "data": {
            "text/plain": [
              "<IPython.core.display.HTML object>"
            ],
            "text/html": [
              " View run <strong style=\"color:#cdcd00\">polished-dust-11</strong> at: <a href='https://wandb.ai/sephmard/lineage-example/runs/x00oukc4' target=\"_blank\">https://wandb.ai/sephmard/lineage-example/runs/x00oukc4</a><br/> View project at: <a href='https://wandb.ai/sephmard/lineage-example' target=\"_blank\">https://wandb.ai/sephmard/lineage-example</a><br/>Synced 4 W&B file(s), 0 media file(s), 13 artifact file(s) and 1 other file(s)"
            ]
          },
          "metadata": {}
        },
        {
          "output_type": "display_data",
          "data": {
            "text/plain": [
              "<IPython.core.display.HTML object>"
            ],
            "text/html": [
              "Find logs at: <code>./wandb/run-20240819_232215-x00oukc4/logs</code>"
            ]
          },
          "metadata": {}
        },
        {
          "output_type": "display_data",
          "data": {
            "text/plain": [
              "<IPython.core.display.HTML object>"
            ],
            "text/html": [
              "The new W&B backend becomes opt-out in version 0.18.0; try it out with `wandb.require(\"core\")`! See https://wandb.me/wandb-core for more information."
            ]
          },
          "metadata": {}
        },
        {
          "output_type": "display_data",
          "data": {
            "text/plain": [
              "<IPython.core.display.HTML object>"
            ],
            "text/html": [
              "Tracking run with wandb version 0.17.7"
            ]
          },
          "metadata": {}
        },
        {
          "output_type": "display_data",
          "data": {
            "text/plain": [
              "<IPython.core.display.HTML object>"
            ],
            "text/html": [
              "Run data is saved locally in <code>/content/wandb/run-20240819_232228-ik6nvt0m</code>"
            ]
          },
          "metadata": {}
        },
        {
          "output_type": "display_data",
          "data": {
            "text/plain": [
              "<IPython.core.display.HTML object>"
            ],
            "text/html": [
              "Syncing run <strong><a href='https://wandb.ai/sephmard/lineage-example/runs/ik6nvt0m' target=\"_blank\">volcanic-sound-12</a></strong> to <a href='https://wandb.ai/sephmard/lineage-example' target=\"_blank\">Weights & Biases</a> (<a href='https://wandb.me/run' target=\"_blank\">docs</a>)<br/>"
            ]
          },
          "metadata": {}
        },
        {
          "output_type": "display_data",
          "data": {
            "text/plain": [
              "<IPython.core.display.HTML object>"
            ],
            "text/html": [
              " View project at <a href='https://wandb.ai/sephmard/lineage-example' target=\"_blank\">https://wandb.ai/sephmard/lineage-example</a>"
            ]
          },
          "metadata": {}
        },
        {
          "output_type": "display_data",
          "data": {
            "text/plain": [
              "<IPython.core.display.HTML object>"
            ],
            "text/html": [
              " View run at <a href='https://wandb.ai/sephmard/lineage-example/runs/ik6nvt0m' target=\"_blank\">https://wandb.ai/sephmard/lineage-example/runs/ik6nvt0m</a>"
            ]
          },
          "metadata": {}
        },
        {
          "output_type": "display_data",
          "data": {
            "text/plain": [
              "VBox(children=(Label(value='1.293 MB of 1.314 MB uploaded (1.143 MB deduped)\\r'), FloatProgress(value=0.984321…"
            ],
            "application/vnd.jupyter.widget-view+json": {
              "version_major": 2,
              "version_minor": 0,
              "model_id": "6e596ec5e4f5412e933e184c45080338"
            }
          },
          "metadata": {}
        },
        {
          "output_type": "display_data",
          "data": {
            "text/plain": [
              "<IPython.core.display.HTML object>"
            ],
            "text/html": [
              "W&B sync reduced upload amount by 87.0%"
            ]
          },
          "metadata": {}
        },
        {
          "output_type": "display_data",
          "data": {
            "text/plain": [
              "<IPython.core.display.HTML object>"
            ],
            "text/html": [
              " View run <strong style=\"color:#cdcd00\">volcanic-sound-12</strong> at: <a href='https://wandb.ai/sephmard/lineage-example/runs/ik6nvt0m' target=\"_blank\">https://wandb.ai/sephmard/lineage-example/runs/ik6nvt0m</a><br/> View project at: <a href='https://wandb.ai/sephmard/lineage-example' target=\"_blank\">https://wandb.ai/sephmard/lineage-example</a><br/>Synced 4 W&B file(s), 0 media file(s), 13 artifact file(s) and 1 other file(s)"
            ]
          },
          "metadata": {}
        },
        {
          "output_type": "display_data",
          "data": {
            "text/plain": [
              "<IPython.core.display.HTML object>"
            ],
            "text/html": [
              "Find logs at: <code>./wandb/run-20240819_232228-ik6nvt0m/logs</code>"
            ]
          },
          "metadata": {}
        },
        {
          "output_type": "display_data",
          "data": {
            "text/plain": [
              "<IPython.core.display.HTML object>"
            ],
            "text/html": [
              "The new W&B backend becomes opt-out in version 0.18.0; try it out with `wandb.require(\"core\")`! See https://wandb.me/wandb-core for more information."
            ]
          },
          "metadata": {}
        },
        {
          "output_type": "display_data",
          "data": {
            "text/plain": [
              "<IPython.core.display.HTML object>"
            ],
            "text/html": [
              "Tracking run with wandb version 0.17.7"
            ]
          },
          "metadata": {}
        },
        {
          "output_type": "display_data",
          "data": {
            "text/plain": [
              "<IPython.core.display.HTML object>"
            ],
            "text/html": [
              "Run data is saved locally in <code>/content/wandb/run-20240819_232306-38g64msa</code>"
            ]
          },
          "metadata": {}
        },
        {
          "output_type": "display_data",
          "data": {
            "text/plain": [
              "<IPython.core.display.HTML object>"
            ],
            "text/html": [
              "Syncing run <strong><a href='https://wandb.ai/sephmard/lineage-example/runs/38g64msa' target=\"_blank\">breezy-paper-13</a></strong> to <a href='https://wandb.ai/sephmard/lineage-example' target=\"_blank\">Weights & Biases</a> (<a href='https://wandb.me/run' target=\"_blank\">docs</a>)<br/>"
            ]
          },
          "metadata": {}
        },
        {
          "output_type": "display_data",
          "data": {
            "text/plain": [
              "<IPython.core.display.HTML object>"
            ],
            "text/html": [
              " View project at <a href='https://wandb.ai/sephmard/lineage-example' target=\"_blank\">https://wandb.ai/sephmard/lineage-example</a>"
            ]
          },
          "metadata": {}
        },
        {
          "output_type": "display_data",
          "data": {
            "text/plain": [
              "<IPython.core.display.HTML object>"
            ],
            "text/html": [
              " View run at <a href='https://wandb.ai/sephmard/lineage-example/runs/38g64msa' target=\"_blank\">https://wandb.ai/sephmard/lineage-example/runs/38g64msa</a>"
            ]
          },
          "metadata": {}
        },
        {
          "output_type": "display_data",
          "data": {
            "text/plain": [
              "VBox(children=(Label(value='1.323 MB of 1.323 MB uploaded (1.143 MB deduped)\\r'), FloatProgress(value=1.0, max…"
            ],
            "application/vnd.jupyter.widget-view+json": {
              "version_major": 2,
              "version_minor": 0,
              "model_id": "6ec04ca45c4c4e6c97b14bc612f5798f"
            }
          },
          "metadata": {}
        },
        {
          "output_type": "display_data",
          "data": {
            "text/plain": [
              "<IPython.core.display.HTML object>"
            ],
            "text/html": [
              "W&B sync reduced upload amount by 86.4%"
            ]
          },
          "metadata": {}
        },
        {
          "output_type": "display_data",
          "data": {
            "text/plain": [
              "<IPython.core.display.HTML object>"
            ],
            "text/html": [
              " View run <strong style=\"color:#cdcd00\">breezy-paper-13</strong> at: <a href='https://wandb.ai/sephmard/lineage-example/runs/38g64msa' target=\"_blank\">https://wandb.ai/sephmard/lineage-example/runs/38g64msa</a><br/> View project at: <a href='https://wandb.ai/sephmard/lineage-example' target=\"_blank\">https://wandb.ai/sephmard/lineage-example</a><br/>Synced 4 W&B file(s), 0 media file(s), 13 artifact file(s) and 1 other file(s)"
            ]
          },
          "metadata": {}
        },
        {
          "output_type": "display_data",
          "data": {
            "text/plain": [
              "<IPython.core.display.HTML object>"
            ],
            "text/html": [
              "Find logs at: <code>./wandb/run-20240819_232306-38g64msa/logs</code>"
            ]
          },
          "metadata": {}
        },
        {
          "output_type": "display_data",
          "data": {
            "text/plain": [
              "<IPython.core.display.HTML object>"
            ],
            "text/html": [
              "The new W&B backend becomes opt-out in version 0.18.0; try it out with `wandb.require(\"core\")`! See https://wandb.me/wandb-core for more information."
            ]
          },
          "metadata": {}
        },
        {
          "output_type": "display_data",
          "data": {
            "text/plain": [
              "<IPython.core.display.HTML object>"
            ],
            "text/html": [
              "Tracking run with wandb version 0.17.7"
            ]
          },
          "metadata": {}
        },
        {
          "output_type": "display_data",
          "data": {
            "text/plain": [
              "<IPython.core.display.HTML object>"
            ],
            "text/html": [
              "Run data is saved locally in <code>/content/wandb/run-20240819_232319-31ilc173</code>"
            ]
          },
          "metadata": {}
        },
        {
          "output_type": "display_data",
          "data": {
            "text/plain": [
              "<IPython.core.display.HTML object>"
            ],
            "text/html": [
              "Syncing run <strong><a href='https://wandb.ai/sephmard/lineage-example/runs/31ilc173' target=\"_blank\">eternal-brook-14</a></strong> to <a href='https://wandb.ai/sephmard/lineage-example' target=\"_blank\">Weights & Biases</a> (<a href='https://wandb.me/run' target=\"_blank\">docs</a>)<br/>"
            ]
          },
          "metadata": {}
        },
        {
          "output_type": "display_data",
          "data": {
            "text/plain": [
              "<IPython.core.display.HTML object>"
            ],
            "text/html": [
              " View project at <a href='https://wandb.ai/sephmard/lineage-example' target=\"_blank\">https://wandb.ai/sephmard/lineage-example</a>"
            ]
          },
          "metadata": {}
        },
        {
          "output_type": "display_data",
          "data": {
            "text/plain": [
              "<IPython.core.display.HTML object>"
            ],
            "text/html": [
              " View run at <a href='https://wandb.ai/sephmard/lineage-example/runs/31ilc173' target=\"_blank\">https://wandb.ai/sephmard/lineage-example/runs/31ilc173</a>"
            ]
          },
          "metadata": {}
        },
        {
          "output_type": "display_data",
          "data": {
            "text/plain": [
              "VBox(children=(Label(value='1.332 MB of 1.332 MB uploaded (1.143 MB deduped)\\r'), FloatProgress(value=1.0, max…"
            ],
            "application/vnd.jupyter.widget-view+json": {
              "version_major": 2,
              "version_minor": 0,
              "model_id": "636baee728f14e57bd80e03a39ec55f0"
            }
          },
          "metadata": {}
        },
        {
          "output_type": "display_data",
          "data": {
            "text/plain": [
              "<IPython.core.display.HTML object>"
            ],
            "text/html": [
              "W&B sync reduced upload amount by 85.8%"
            ]
          },
          "metadata": {}
        },
        {
          "output_type": "display_data",
          "data": {
            "text/plain": [
              "<IPython.core.display.HTML object>"
            ],
            "text/html": [
              " View run <strong style=\"color:#cdcd00\">eternal-brook-14</strong> at: <a href='https://wandb.ai/sephmard/lineage-example/runs/31ilc173' target=\"_blank\">https://wandb.ai/sephmard/lineage-example/runs/31ilc173</a><br/> View project at: <a href='https://wandb.ai/sephmard/lineage-example' target=\"_blank\">https://wandb.ai/sephmard/lineage-example</a><br/>Synced 4 W&B file(s), 0 media file(s), 13 artifact file(s) and 1 other file(s)"
            ]
          },
          "metadata": {}
        },
        {
          "output_type": "display_data",
          "data": {
            "text/plain": [
              "<IPython.core.display.HTML object>"
            ],
            "text/html": [
              "Find logs at: <code>./wandb/run-20240819_232319-31ilc173/logs</code>"
            ]
          },
          "metadata": {}
        },
        {
          "output_type": "display_data",
          "data": {
            "text/plain": [
              "<IPython.core.display.HTML object>"
            ],
            "text/html": [
              "The new W&B backend becomes opt-out in version 0.18.0; try it out with `wandb.require(\"core\")`! See https://wandb.me/wandb-core for more information."
            ]
          },
          "metadata": {}
        },
        {
          "output_type": "display_data",
          "data": {
            "text/plain": [
              "<IPython.core.display.HTML object>"
            ],
            "text/html": [
              "Tracking run with wandb version 0.17.7"
            ]
          },
          "metadata": {}
        },
        {
          "output_type": "display_data",
          "data": {
            "text/plain": [
              "<IPython.core.display.HTML object>"
            ],
            "text/html": [
              "Run data is saved locally in <code>/content/wandb/run-20240819_232335-mcq42ax4</code>"
            ]
          },
          "metadata": {}
        },
        {
          "output_type": "display_data",
          "data": {
            "text/plain": [
              "<IPython.core.display.HTML object>"
            ],
            "text/html": [
              "Syncing run <strong><a href='https://wandb.ai/sephmard/lineage-example/runs/mcq42ax4' target=\"_blank\">wild-wildflower-15</a></strong> to <a href='https://wandb.ai/sephmard/lineage-example' target=\"_blank\">Weights & Biases</a> (<a href='https://wandb.me/run' target=\"_blank\">docs</a>)<br/>"
            ]
          },
          "metadata": {}
        },
        {
          "output_type": "display_data",
          "data": {
            "text/plain": [
              "<IPython.core.display.HTML object>"
            ],
            "text/html": [
              " View project at <a href='https://wandb.ai/sephmard/lineage-example' target=\"_blank\">https://wandb.ai/sephmard/lineage-example</a>"
            ]
          },
          "metadata": {}
        },
        {
          "output_type": "display_data",
          "data": {
            "text/plain": [
              "<IPython.core.display.HTML object>"
            ],
            "text/html": [
              " View run at <a href='https://wandb.ai/sephmard/lineage-example/runs/mcq42ax4' target=\"_blank\">https://wandb.ai/sephmard/lineage-example/runs/mcq42ax4</a>"
            ]
          },
          "metadata": {}
        },
        {
          "output_type": "display_data",
          "data": {
            "text/plain": [
              "VBox(children=(Label(value='1.320 MB of 1.341 MB uploaded (1.143 MB deduped)\\r'), FloatProgress(value=0.984636…"
            ],
            "application/vnd.jupyter.widget-view+json": {
              "version_major": 2,
              "version_minor": 0,
              "model_id": "7c59d339fb3147f9a3f76f3947a814bd"
            }
          },
          "metadata": {}
        },
        {
          "output_type": "display_data",
          "data": {
            "text/plain": [
              "<IPython.core.display.HTML object>"
            ],
            "text/html": [
              "W&B sync reduced upload amount by 85.3%"
            ]
          },
          "metadata": {}
        },
        {
          "output_type": "display_data",
          "data": {
            "text/plain": [
              "<IPython.core.display.HTML object>"
            ],
            "text/html": [
              " View run <strong style=\"color:#cdcd00\">wild-wildflower-15</strong> at: <a href='https://wandb.ai/sephmard/lineage-example/runs/mcq42ax4' target=\"_blank\">https://wandb.ai/sephmard/lineage-example/runs/mcq42ax4</a><br/> View project at: <a href='https://wandb.ai/sephmard/lineage-example' target=\"_blank\">https://wandb.ai/sephmard/lineage-example</a><br/>Synced 4 W&B file(s), 0 media file(s), 13 artifact file(s) and 1 other file(s)"
            ]
          },
          "metadata": {}
        },
        {
          "output_type": "display_data",
          "data": {
            "text/plain": [
              "<IPython.core.display.HTML object>"
            ],
            "text/html": [
              "Find logs at: <code>./wandb/run-20240819_232335-mcq42ax4/logs</code>"
            ]
          },
          "metadata": {}
        },
        {
          "output_type": "display_data",
          "data": {
            "text/plain": [
              "<IPython.core.display.HTML object>"
            ],
            "text/html": [
              "The new W&B backend becomes opt-out in version 0.18.0; try it out with `wandb.require(\"core\")`! See https://wandb.me/wandb-core for more information."
            ]
          },
          "metadata": {}
        },
        {
          "output_type": "display_data",
          "data": {
            "text/plain": [
              "<IPython.core.display.HTML object>"
            ],
            "text/html": [
              "Tracking run with wandb version 0.17.7"
            ]
          },
          "metadata": {}
        },
        {
          "output_type": "display_data",
          "data": {
            "text/plain": [
              "<IPython.core.display.HTML object>"
            ],
            "text/html": [
              "Run data is saved locally in <code>/content/wandb/run-20240819_232347-524djsdj</code>"
            ]
          },
          "metadata": {}
        },
        {
          "output_type": "display_data",
          "data": {
            "text/plain": [
              "<IPython.core.display.HTML object>"
            ],
            "text/html": [
              "Syncing run <strong><a href='https://wandb.ai/sephmard/lineage-example/runs/524djsdj' target=\"_blank\">royal-gorge-16</a></strong> to <a href='https://wandb.ai/sephmard/lineage-example' target=\"_blank\">Weights & Biases</a> (<a href='https://wandb.me/run' target=\"_blank\">docs</a>)<br/>"
            ]
          },
          "metadata": {}
        },
        {
          "output_type": "display_data",
          "data": {
            "text/plain": [
              "<IPython.core.display.HTML object>"
            ],
            "text/html": [
              " View project at <a href='https://wandb.ai/sephmard/lineage-example' target=\"_blank\">https://wandb.ai/sephmard/lineage-example</a>"
            ]
          },
          "metadata": {}
        },
        {
          "output_type": "display_data",
          "data": {
            "text/plain": [
              "<IPython.core.display.HTML object>"
            ],
            "text/html": [
              " View run at <a href='https://wandb.ai/sephmard/lineage-example/runs/524djsdj' target=\"_blank\">https://wandb.ai/sephmard/lineage-example/runs/524djsdj</a>"
            ]
          },
          "metadata": {}
        },
        {
          "output_type": "display_data",
          "data": {
            "text/plain": [
              "VBox(children=(Label(value='0.594 MB of 0.594 MB uploaded (0.387 MB deduped)\\r'), FloatProgress(value=1.0, max…"
            ],
            "application/vnd.jupyter.widget-view+json": {
              "version_major": 2,
              "version_minor": 0,
              "model_id": "7388e06c99ba44f3bb7f0574c0bfbaeb"
            }
          },
          "metadata": {}
        },
        {
          "output_type": "display_data",
          "data": {
            "text/plain": [
              "<IPython.core.display.HTML object>"
            ],
            "text/html": [
              "W&B sync reduced upload amount by 65.2%"
            ]
          },
          "metadata": {}
        },
        {
          "output_type": "display_data",
          "data": {
            "text/plain": [
              "<IPython.core.display.HTML object>"
            ],
            "text/html": [
              " View run <strong style=\"color:#cdcd00\">royal-gorge-16</strong> at: <a href='https://wandb.ai/sephmard/lineage-example/runs/524djsdj' target=\"_blank\">https://wandb.ai/sephmard/lineage-example/runs/524djsdj</a><br/> View project at: <a href='https://wandb.ai/sephmard/lineage-example' target=\"_blank\">https://wandb.ai/sephmard/lineage-example</a><br/>Synced 4 W&B file(s), 0 media file(s), 7 artifact file(s) and 1 other file(s)"
            ]
          },
          "metadata": {}
        },
        {
          "output_type": "display_data",
          "data": {
            "text/plain": [
              "<IPython.core.display.HTML object>"
            ],
            "text/html": [
              "Find logs at: <code>./wandb/run-20240819_232347-524djsdj/logs</code>"
            ]
          },
          "metadata": {}
        },
        {
          "output_type": "display_data",
          "data": {
            "text/plain": [
              "<IPython.core.display.HTML object>"
            ],
            "text/html": [
              "The new W&B backend becomes opt-out in version 0.18.0; try it out with `wandb.require(\"core\")`! See https://wandb.me/wandb-core for more information."
            ]
          },
          "metadata": {}
        }
      ],
      "source": [
        "#@title ## Log Runs { run: \"auto\", display-mode: \"form\" }\n",
        "#@markdown If this is your first time here, consider running the setup code for a better docs experience!\n",
        "#@markdown If you have run the setup code before, you can uncheck the box below to avoid unnecessary logging.\n",
        "\n",
        "LOG_DUMMY_RUNS = True #@param {type: \"boolean\"}\n",
        "\n",
        "\n",
        "import requests\n",
        "from PIL import Image\n",
        "from io import BytesIO\n",
        "import wandb\n",
        "import pandas as pd\n",
        "from itertools import product\n",
        "import random\n",
        "import math\n",
        "\n",
        "import wandb\n",
        "import random\n",
        "import string\n",
        "\n",
        "ENTITY = wandb.apis.PublicApi().default_entity\n",
        "PROJECT = \"report-api-quickstart\" #@param {type: \"string\"}\n",
        "LINEAGE_PROJECT = \"lineage-example\" #@param {type: \"string\"}\n",
        "\n",
        "\n",
        "def get_image(url):\n",
        "    r = requests.get(url)\n",
        "    return Image.open(BytesIO(r.content))\n",
        "\n",
        "\n",
        "def log_dummy_data():\n",
        "    run_names = [\n",
        "        \"adventurous-aardvark-1\",\n",
        "        \"bountiful-badger-2\",\n",
        "        \"clairvoyant-chipmunk-3\",\n",
        "        \"dastardly-duck-4\",\n",
        "        \"eloquent-elephant-5\",\n",
        "        \"flippant-flamingo-6\",\n",
        "        \"giddy-giraffe-7\",\n",
        "        \"haughty-hippo-8\",\n",
        "        \"ignorant-iguana-9\",\n",
        "        \"jolly-jackal-10\",\n",
        "        \"kind-koala-11\",\n",
        "        \"laughing-lemur-12\",\n",
        "        \"manic-mandrill-13\",\n",
        "        \"neighbourly-narwhal-14\",\n",
        "        \"oblivious-octopus-15\",\n",
        "        \"philistine-platypus-16\",\n",
        "        \"quant-quail-17\",\n",
        "        \"rowdy-rhino-18\",\n",
        "        \"solid-snake-19\",\n",
        "        \"timid-tarantula-20\",\n",
        "        \"understanding-unicorn-21\",\n",
        "        \"voracious-vulture-22\",\n",
        "        \"wu-tang-23\",\n",
        "        \"xenic-xerneas-24\",\n",
        "        \"yielding-yveltal-25\",\n",
        "        \"zooming-zygarde-26\",\n",
        "    ]\n",
        "\n",
        "    opts = [\"adam\", \"sgd\"]\n",
        "    encoders = [\"resnet18\", \"resnet50\"]\n",
        "    learning_rates = [0.01]\n",
        "    for (i, run_name), (opt, encoder, lr) in zip(\n",
        "        enumerate(run_names), product(opts, encoders, learning_rates)\n",
        "    ):\n",
        "        config = {\n",
        "            \"optimizer\": opt,\n",
        "            \"encoder\": encoder,\n",
        "            \"learning_rate\": lr,\n",
        "            \"momentum\": 0.1 * random.random(),\n",
        "        }\n",
        "        displacement1 = random.random() * 2\n",
        "        displacement2 = random.random() * 4\n",
        "        with wandb.init(\n",
        "            entity=ENTITY, project=PROJECT, config=config, name=run_name\n",
        "        ) as run:\n",
        "            for step in range(1000):\n",
        "                wandb.log(\n",
        "                    {\n",
        "                        \"acc\": 0.1\n",
        "                        + 0.4\n",
        "                        * (\n",
        "                            math.log(1 + step + random.random())\n",
        "                            + random.random() * run.config.learning_rate\n",
        "                            + random.random()\n",
        "                            + displacement1\n",
        "                            + random.random() * run.config.momentum\n",
        "                        ),\n",
        "                        \"val_acc\": 0.1\n",
        "                        + 0.4\n",
        "                        * (\n",
        "                            math.log(1 + step + random.random())\n",
        "                            + random.random() * run.config.learning_rate\n",
        "                            - random.random()\n",
        "                            + displacement1\n",
        "                        ),\n",
        "                        \"loss\": 0.1\n",
        "                        + 0.08\n",
        "                        * (\n",
        "                            3.5\n",
        "                            - math.log(1 + step + random.random())\n",
        "                            + random.random() * run.config.momentum\n",
        "                            + random.random()\n",
        "                            + displacement2\n",
        "                        ),\n",
        "                        \"val_loss\": 0.1\n",
        "                        + 0.04\n",
        "                        * (\n",
        "                            4.5\n",
        "                            - math.log(1 + step + random.random())\n",
        "                            + random.random() * run.config.learning_rate\n",
        "                            - random.random()\n",
        "                            + displacement2\n",
        "                        ),\n",
        "                    }\n",
        "                )\n",
        "\n",
        "    with wandb.init(\n",
        "        entity=ENTITY, project=PROJECT, config=config, name=run_names[i + 1]\n",
        "    ) as run:\n",
        "        img = get_image(\n",
        "            \"https://www.akc.org/wp-content/uploads/2017/11/Shiba-Inu-standing-in-profile-outdoors.jpg\"\n",
        "        )\n",
        "        image = wandb.Image(img)\n",
        "        df = pd.DataFrame(\n",
        "            {\n",
        "                \"int\": [1, 2, 3, 4],\n",
        "                \"float\": [1.2, 2.3, 3.4, 4.5],\n",
        "                \"str\": [\"a\", \"b\", \"c\", \"d\"],\n",
        "                \"img\": [image] * 4,\n",
        "            }\n",
        "        )\n",
        "        run.log({\"img\": image, \"my-table\": df})\n",
        "\n",
        "\n",
        "class Step:\n",
        "    def __init__(self, j, r, u, o, at=None):\n",
        "        self.job_type = j\n",
        "        self.runs = r\n",
        "        self.uses_per_run = u\n",
        "        self.outputs_per_run = o\n",
        "        self.artifact_type = at if at is not None else \"model\"\n",
        "        self.artifacts = []\n",
        "\n",
        "\n",
        "def create_artifact(name: str, type: str, content: str):\n",
        "    art = wandb.Artifact(name, type)\n",
        "    with open(\"boom.txt\", \"w\") as f:\n",
        "        f.write(content)\n",
        "    art.add_file(\"boom.txt\", \"test-name\")\n",
        "\n",
        "    img = get_image(\n",
        "        \"https://www.akc.org/wp-content/uploads/2017/11/Shiba-Inu-standing-in-profile-outdoors.jpg\"\n",
        "    )\n",
        "    image = wandb.Image(img)\n",
        "    df = pd.DataFrame(\n",
        "        {\n",
        "            \"int\": [1, 2, 3, 4],\n",
        "            \"float\": [1.2, 2.3, 3.4, 4.5],\n",
        "            \"str\": [\"a\", \"b\", \"c\", \"d\"],\n",
        "            \"img\": [image] * 4,\n",
        "        }\n",
        "    )\n",
        "    art.add(wandb.Table(dataframe=df), \"dataframe\")\n",
        "    return art\n",
        "\n",
        "\n",
        "def log_dummy_lineage():\n",
        "    pipeline = [\n",
        "        Step(\"dataset-generator\", 1, 0, 3, \"dataset\"),\n",
        "        Step(\"trainer\", 4, (1, 2), 3),\n",
        "        Step(\"evaluator\", 2, 1, 3),\n",
        "        Step(\"ensemble\", 1, 1, 1),\n",
        "    ]\n",
        "    for (i, step) in enumerate(pipeline):\n",
        "        for _ in range(step.runs):\n",
        "            with wandb.init(project=LINEAGE_PROJECT, job_type=step.job_type) as run:\n",
        "                # use\n",
        "                uses = step.uses_per_run\n",
        "                if type(uses) == tuple:\n",
        "                    uses = random.choice(list(uses))\n",
        "\n",
        "                if i > 0:\n",
        "                    prev_step = pipeline[i - 1]\n",
        "                    input_artifacts = random.sample(prev_step.artifacts, uses)\n",
        "                    for a in input_artifacts:\n",
        "                        run.use_artifact(a)\n",
        "                # log output artifacts\n",
        "                for j in range(step.outputs_per_run):\n",
        "                    # name = ''.join(random.choices(string.ascii_lowercase + string.digits, k=6))\n",
        "                    name = f\"{step.artifact_type}-{j}\"\n",
        "                    content = \"\".join(\n",
        "                        random.choices(string.ascii_lowercase + string.digits, k=12)\n",
        "                    )\n",
        "                    art = create_artifact(name, step.artifact_type, content)\n",
        "                    run.log_artifact(art)\n",
        "                    art.wait()\n",
        "\n",
        "                    # save in pipeline\n",
        "                    step.artifacts.append(art)\n",
        "\n",
        "if LOG_DUMMY_RUNS:\n",
        "  log_dummy_data()\n",
        "  log_dummy_lineage()"
      ]
    },
    {
      "cell_type": "markdown",
      "metadata": {
        "id": "4tqli7A_7NDP"
      },
      "source": [
        "\n",
        "# 🚀 Quickstart! <a id='quickstart'></a>"
      ]
    },
    {
      "cell_type": "code",
      "execution_count": 12,
      "metadata": {
        "id": "EmDzg3wS7NDP"
      },
      "outputs": [],
      "source": [
        "import wandb_workspaces.reports.v2 as wr"
      ]
    },
    {
      "cell_type": "markdown",
      "metadata": {
        "id": "eheAid__7NDP"
      },
      "source": [
        "## Create, save, and load reports\n",
        "- NOTE: Reports are not saved automatically to reduce clutter.  Explicitly save the report by calling `report.save()`"
      ]
    },
    {
      "cell_type": "code",
      "execution_count": 13,
      "metadata": {
        "colab": {
          "base_uri": "https://localhost:8080/",
          "height": 1000
        },
        "id": "RVlOoOaK7NDP",
        "outputId": "fddae5e8-ce5e-4d8c-e6b1-eab2ac763284"
      },
      "outputs": [
        {
          "output_type": "stream",
          "name": "stderr",
          "text": [
            "\u001b[34m\u001b[1mwandb\u001b[0m: Saved report to: https://wandb.ai/sephmard/report-api-quickstart/reports/Quickstart-Report--Vmlldzo5MDg0NTc0\n"
          ]
        },
        {
          "output_type": "execute_result",
          "data": {
            "text/plain": [
              "Report(project='report-api-quickstart', entity='sephmard', title='Quickstart Report', width='readable', description='That was easy!', id='Vmlldzo5MDg0NTc0')"
            ],
            "text/html": [
              "<iframe src='https://wandb.ai/sephmard/report-api-quickstart/reports/Quickstart-Report--Vmlldzo5MDg0NTc0?jupyter=true' style='border:none;width:100%;height:1024px;'></iframe>"
            ]
          },
          "metadata": {},
          "execution_count": 13
        }
      ],
      "source": [
        "report = wr.Report(\n",
        "    project=PROJECT,\n",
        "    title='Quickstart Report',\n",
        "    description=\"That was easy!\"\n",
        ")                                 # Create\n",
        "report.save()                     # Save\n",
        "wr.Report.from_url(report.url)    # Load"
      ]
    },
    {
      "cell_type": "markdown",
      "metadata": {
        "id": "d3M7hocj7NDP"
      },
      "source": [
        "## Add content via blocks\n",
        "- Use blocks to add content like text, images, code, and more\n",
        "- See `wr.blocks` for all available blocks"
      ]
    },
    {
      "cell_type": "code",
      "execution_count": 14,
      "metadata": {
        "colab": {
          "base_uri": "https://localhost:8080/",
          "height": 1000
        },
        "id": "ZaSE1j897NDP",
        "outputId": "2e8e1499-f123-4d51-aadb-734e75bf4327"
      },
      "outputs": [
        {
          "output_type": "stream",
          "name": "stderr",
          "text": [
            "\u001b[34m\u001b[1mwandb\u001b[0m: Saved report to: https://wandb.ai/sephmard/report-api-quickstart/reports/Quickstart-Report--Vmlldzo5MDg0NTc0\n"
          ]
        },
        {
          "output_type": "execute_result",
          "data": {
            "text/plain": [
              "Report(project='report-api-quickstart', entity='sephmard', title='Quickstart Report', width='readable', description='That was easy!', blocks=[TableOfContents(), H1(text='Text and images example'), P(text='Lorem ipsum dolor sit amet. Aut laborum perspiciatis sit odit omnis aut aliquam voluptatibus ut rerum molestiae sed assumenda nulla ut minus illo sit sunt explicabo? Sed quia architecto est voluptatem magni sit molestiae dolores. Non animi repellendus ea enim internos et iste itaque quo labore mollitia aut omnis totam.'), Image(url='https://api.wandb.ai/files/telidavies/images/projects/831572/8ad61fd1.png', caption='Craiyon generated images'), P(text='Et voluptatem galisum quo facilis sequi quo suscipit sunt sed iste iure! Est voluptas adipisci et doloribus commodi ab tempore numquam qui tempora adipisci. Eum sapiente cupiditate ut natus aliquid sit dolor consequatur?')], id='Vmlldzo5MDg0NTc0')"
            ],
            "text/html": [
              "<iframe src='https://wandb.ai/sephmard/report-api-quickstart/reports/Quickstart-Report--Vmlldzo5MDg0NTc0?jupyter=true' style='border:none;width:100%;height:1024px;'></iframe>"
            ]
          },
          "metadata": {},
          "execution_count": 14
        }
      ],
      "source": [
        "report.blocks = [\n",
        "    wr.TableOfContents(),\n",
        "    wr.H1(\"Text and images example\"),\n",
        "    wr.P(\"Lorem ipsum dolor sit amet. Aut laborum perspiciatis sit odit omnis aut aliquam voluptatibus ut rerum molestiae sed assumenda nulla ut minus illo sit sunt explicabo? Sed quia architecto est voluptatem magni sit molestiae dolores. Non animi repellendus ea enim internos et iste itaque quo labore mollitia aut omnis totam.\"),\n",
        "    wr.Image('https://api.wandb.ai/files/telidavies/images/projects/831572/8ad61fd1.png', caption='Craiyon generated images'),\n",
        "    wr.P(\"Et voluptatem galisum quo facilis sequi quo suscipit sunt sed iste iure! Est voluptas adipisci et doloribus commodi ab tempore numquam qui tempora adipisci. Eum sapiente cupiditate ut natus aliquid sit dolor consequatur?\"),\n",
        "]\n",
        "report.save()"
      ]
    },
    {
      "cell_type": "markdown",
      "metadata": {
        "id": "bMNTXROu7NDQ"
      },
      "source": [
        "## Add charts and more via Panel Grid\n",
        "- `PanelGrid` is a special type of block that holds `runsets` and `panels`\n",
        "  - `runsets` organize data logged to W&B\n",
        "  - `panels` visualize runset data.  For a full set of panels, see `wr.panels`"
      ]
    },
    {
      "cell_type": "code",
      "execution_count": 16,
      "metadata": {
        "colab": {
          "base_uri": "https://localhost:8080/",
          "height": 1000
        },
        "id": "2lpA3H4R7NDQ",
        "outputId": "4a6610b3-e06e-460e-9770-da56c12798c0"
      },
      "outputs": [
        {
          "output_type": "stream",
          "name": "stderr",
          "text": [
            "\u001b[34m\u001b[1mwandb\u001b[0m: \u001b[33mWARNING\u001b[0m A graphql request initiated by the public wandb API timed out (timeout=19 sec). Create a new API with an integer timeout larger than 19, e.g., `api = wandb.Api(timeout=29)` to increase the graphql timeout.\n",
            "\u001b[34m\u001b[1mwandb\u001b[0m: Saved report to: https://wandb.ai/sephmard/report-api-quickstart/reports/Quickstart-Report--Vmlldzo5MDg0NTc0\n"
          ]
        },
        {
          "output_type": "execute_result",
          "data": {
            "text/plain": [
              "Report(project='report-api-quickstart', entity='sephmard', title='Quickstart Report', width='readable', description='That was easy!', blocks=[TableOfContents(), H1(text='Panel Grid Example'), PanelGrid(runsets=[Runset(entity='sephmard', project='report-api-quickstart', name='First Run Set', order=[OrderBy(name='CreatedTimestamp', ascending=False)]), Runset(entity='sephmard', project='report-api-quickstart', name='Elephants Only!', query='elephant', order=[OrderBy(name='CreatedTimestamp', ascending=False)])], panels=[LinePlot(x='Step', y=['val_acc'], smoothing_factor=0.8, layout=Layout(x=0, y=0, w=8, h=6)), BarPlot(metrics=['acc'], orientation='h', layout=Layout(x=8, y=0, w=8, h=6)), MediaBrowser(num_columns=1, media_keys=['img'], layout=Layout(x=16, y=0, w=8, h=6)), RunComparer(diff_only='split', layout=Layout(x=0, y=6, w=24, h=9))], active_runset=0), H1(text='Text and images example'), P(text='Lorem ipsum dolor sit amet. Aut laborum perspiciatis sit odit omnis aut aliquam voluptatibus ut rerum molestiae sed assumenda nulla ut minus illo sit sunt explicabo? Sed quia architecto est voluptatem magni sit molestiae dolores. Non animi repellendus ea enim internos et iste itaque quo labore mollitia aut omnis totam.'), Image(url='https://api.wandb.ai/files/telidavies/images/projects/831572/8ad61fd1.png', caption='Craiyon generated images'), P(text='Et voluptatem galisum quo facilis sequi quo suscipit sunt sed iste iure! Est voluptas adipisci et doloribus commodi ab tempore numquam qui tempora adipisci. Eum sapiente cupiditate ut natus aliquid sit dolor consequatur?')], id='Vmlldzo5MDg0NTc0')"
            ],
            "text/html": [
              "<iframe src='https://wandb.ai/sephmard/report-api-quickstart/reports/Quickstart-Report--Vmlldzo5MDg0NTc0?jupyter=true' style='border:none;width:100%;height:1024px;'></iframe>"
            ]
          },
          "metadata": {},
          "execution_count": 16
        }
      ],
      "source": [
        "pg = wr.PanelGrid(\n",
        "    runsets=[\n",
        "        wr.Runset(ENTITY, PROJECT, \"First Run Set\"),\n",
        "        wr.Runset(ENTITY, PROJECT, \"Elephants Only!\", query=\"elephant\"),\n",
        "    ],\n",
        "    panels=[\n",
        "        wr.LinePlot(x='Step', y=['val_acc'], smoothing_factor=0.8),\n",
        "        wr.BarPlot(metrics=['acc']),\n",
        "        wr.MediaBrowser(media_keys=['img'], num_columns=1),  # Note: media_keys as a list\n",
        "        wr.RunComparer(diff_only='split', layout={'w': 24, 'h': 9}),\n",
        "    ]\n",
        ")\n",
        "\n",
        "report.blocks = report.blocks[:1] + [wr.H1(\"Panel Grid Example\"), pg] + report.blocks[1:]\n",
        "report.save()"
      ]
    },
    {
      "cell_type": "markdown",
      "metadata": {
        "id": "fbtBNA5k7NDQ"
      },
      "source": [
        "## Add data lineage with Artifact blocks\n",
        "- There are equivalent weave panels as well"
      ]
    },
    {
      "cell_type": "code",
      "execution_count": 17,
      "metadata": {
        "colab": {
          "base_uri": "https://localhost:8080/",
          "height": 1000
        },
        "id": "rI-kgZpU7NDQ",
        "outputId": "ad9acade-54d7-465a-f573-3e2677afcab1"
      },
      "outputs": [
        {
          "output_type": "stream",
          "name": "stderr",
          "text": [
            "\u001b[34m\u001b[1mwandb\u001b[0m: Saved report to: https://wandb.ai/sephmard/report-api-quickstart/reports/Quickstart-Report--Vmlldzo5MDg0NTc0\n"
          ]
        },
        {
          "output_type": "execute_result",
          "data": {
            "text/plain": [
              "Report(project='report-api-quickstart', entity='sephmard', title='Quickstart Report', width='readable', description='That was easy!', blocks=[TableOfContents(), H1(text='Artifact lineage example'), WeaveBlockArtifact(entity='sephmard', project='lineage-example', artifact='model-1', tab='lineage'), H1(text='Panel Grid Example'), PanelGrid(runsets=[Runset(entity='sephmard', project='report-api-quickstart', name='First Run Set', order=[OrderBy(name='CreatedTimestamp', ascending=False)]), Runset(entity='sephmard', project='report-api-quickstart', name='Elephants Only!', query='elephant', order=[OrderBy(name='CreatedTimestamp', ascending=False)])], panels=[LinePlot(x='Step', y=['val_acc'], smoothing_factor=0.8, layout=Layout(x=0, y=0, w=8, h=6)), BarPlot(metrics=['acc'], orientation='h', layout=Layout(x=8, y=0, w=8, h=6)), MediaBrowser(num_columns=1, media_keys=['img'], layout=Layout(x=16, y=0, w=8, h=6)), RunComparer(diff_only='split', layout=Layout(x=0, y=6, w=24, h=9))], active_runset=0), H1(text='Text and images example'), P(text='Lorem ipsum dolor sit amet. Aut laborum perspiciatis sit odit omnis aut aliquam voluptatibus ut rerum molestiae sed assumenda nulla ut minus illo sit sunt explicabo? Sed quia architecto est voluptatem magni sit molestiae dolores. Non animi repellendus ea enim internos et iste itaque quo labore mollitia aut omnis totam.'), Image(url='https://api.wandb.ai/files/telidavies/images/projects/831572/8ad61fd1.png', caption='Craiyon generated images'), P(text='Et voluptatem galisum quo facilis sequi quo suscipit sunt sed iste iure! Est voluptas adipisci et doloribus commodi ab tempore numquam qui tempora adipisci. Eum sapiente cupiditate ut natus aliquid sit dolor consequatur?')], id='Vmlldzo5MDg0NTc0')"
            ],
            "text/html": [
              "<iframe src='https://wandb.ai/sephmard/report-api-quickstart/reports/Quickstart-Report--Vmlldzo5MDg0NTc0?jupyter=true' style='border:none;width:100%;height:1024px;'></iframe>"
            ]
          },
          "metadata": {},
          "execution_count": 17
        }
      ],
      "source": [
        "artifact_lineage = wr.WeaveBlockArtifact(entity=ENTITY, project=LINEAGE_PROJECT, artifact='model-1', tab='lineage')\n",
        "\n",
        "report.blocks = report.blocks[:1] + [wr.H1(\"Artifact lineage example\"), artifact_lineage] + report.blocks[1:]\n",
        "report.save()"
      ]
    },
    {
      "cell_type": "markdown",
      "metadata": {
        "id": "b2mMLGUK7NDQ"
      },
      "source": [
        "## Customize run colors\n",
        "- Pass in a `dict[run_name, color]`"
      ]
    },
    {
      "cell_type": "code",
      "execution_count": 18,
      "metadata": {
        "colab": {
          "base_uri": "https://localhost:8080/",
          "height": 1000
        },
        "id": "kE72SArq7NDQ",
        "outputId": "555931fc-a3d0-4607-ee6e-041f36966d47"
      },
      "outputs": [
        {
          "output_type": "stream",
          "name": "stderr",
          "text": [
            "\u001b[34m\u001b[1mwandb\u001b[0m: Saved report to: https://wandb.ai/sephmard/report-api-quickstart/reports/Quickstart-Report--Vmlldzo5MDg0NTc0\n"
          ]
        },
        {
          "output_type": "execute_result",
          "data": {
            "text/plain": [
              "Report(project='report-api-quickstart', entity='sephmard', title='Quickstart Report', width='readable', description='That was easy!', blocks=[TableOfContents(), H1(text='Artifact lineage example'), WeaveBlockArtifact(entity='sephmard', project='lineage-example', artifact='model-1', tab='lineage'), H1(text='Panel Grid Example'), PanelGrid(runsets=[Runset(entity='sephmard', project='report-api-quickstart', name='First Run Set', order=[OrderBy(name='CreatedTimestamp', ascending=False)]), Runset(entity='sephmard', project='report-api-quickstart', name='Elephants Only!', query='elephant', order=[OrderBy(name='CreatedTimestamp', ascending=False)])], panels=[LinePlot(x='Step', y=['val_acc'], smoothing_factor=0.8, layout=Layout(x=0, y=0, w=8, h=6)), BarPlot(metrics=['acc'], orientation='h', layout=Layout(x=8, y=0, w=8, h=6)), MediaBrowser(num_columns=1, media_keys=['img'], layout=Layout(x=16, y=0, w=8, h=6)), RunComparer(diff_only='split', layout=Layout(x=0, y=6, w=24, h=9))], active_runset=0, custom_run_colors={'adventurous-aardvark-1': '#e84118', 'bountiful-badger-2': '#fbc531', 'clairvoyant-chipmunk-3': '#4cd137', 'dastardly-duck-4': '#00a8ff', 'eloquent-elephant-5': '#9c88ff'}), H1(text='Text and images example'), P(text='Lorem ipsum dolor sit amet. Aut laborum perspiciatis sit odit omnis aut aliquam voluptatibus ut rerum molestiae sed assumenda nulla ut minus illo sit sunt explicabo? Sed quia architecto est voluptatem magni sit molestiae dolores. Non animi repellendus ea enim internos et iste itaque quo labore mollitia aut omnis totam.'), Image(url='https://api.wandb.ai/files/telidavies/images/projects/831572/8ad61fd1.png', caption='Craiyon generated images'), P(text='Et voluptatem galisum quo facilis sequi quo suscipit sunt sed iste iure! Est voluptas adipisci et doloribus commodi ab tempore numquam qui tempora adipisci. Eum sapiente cupiditate ut natus aliquid sit dolor consequatur?')], id='Vmlldzo5MDg0NTc0')"
            ],
            "text/html": [
              "<iframe src='https://wandb.ai/sephmard/report-api-quickstart/reports/Quickstart-Report--Vmlldzo5MDg0NTc0?jupyter=true' style='border:none;width:100%;height:1024px;'></iframe>"
            ]
          },
          "metadata": {},
          "execution_count": 18
        }
      ],
      "source": [
        "pg.custom_run_colors = {\n",
        "  'adventurous-aardvark-1': '#e84118',\n",
        "  'bountiful-badger-2':     '#fbc531',\n",
        "  'clairvoyant-chipmunk-3': '#4cd137',\n",
        "  'dastardly-duck-4':       '#00a8ff',\n",
        "  'eloquent-elephant-5':    '#9c88ff',\n",
        "}\n",
        "report.save()"
      ]
    },
    {
      "cell_type": "markdown",
      "metadata": {
        "id": "Z72uzSON7NDQ"
      },
      "source": [
        "## Customize run sets with grouping, filtering, and ordering\n",
        "- Click on the different run sets in the iframe below and see how they are different\n",
        "- Grouping: Pass in a list of columns to group by\n",
        "- Filtering: Use `set_filters_with_python_expr` and pass in a valid python expression.  The syntax is similar to `pandas.DataFrame.query`\n",
        "- Ordering: Pass in a list of columns where each value is prefixed with `+` for ascending or `-` for descending."
      ]
    },
    {
      "cell_type": "code",
      "execution_count": 24,
      "metadata": {
        "colab": {
          "base_uri": "https://localhost:8080/",
          "height": 210
        },
        "id": "B29hwPpO7NDQ",
        "outputId": "2c7f5e83-7c8f-4dc1-d78e-f0b7e1f56d1a"
      },
      "outputs": [
        {
          "output_type": "error",
          "ename": "AttributeError",
          "evalue": "type object 'Report' has no attribute 'load'",
          "traceback": [
            "\u001b[0;31m---------------------------------------------------------------------------\u001b[0m",
            "\u001b[0;31mAttributeError\u001b[0m                            Traceback (most recent call last)",
            "\u001b[0;32m<ipython-input-24-ee8583c82a7f>\u001b[0m in \u001b[0;36m<cell line: 4>\u001b[0;34m()\u001b[0m\n\u001b[1;32m      2\u001b[0m \u001b[0;31m# Replace with your actual report ID or handle for fetching\u001b[0m\u001b[0;34m\u001b[0m\u001b[0;34m\u001b[0m\u001b[0m\n\u001b[1;32m      3\u001b[0m \u001b[0mreport_id\u001b[0m \u001b[0;34m=\u001b[0m \u001b[0;34m\"your_report_id\"\u001b[0m\u001b[0;34m\u001b[0m\u001b[0;34m\u001b[0m\u001b[0m\n\u001b[0;32m----> 4\u001b[0;31m \u001b[0mreport\u001b[0m \u001b[0;34m=\u001b[0m \u001b[0mwr\u001b[0m\u001b[0;34m.\u001b[0m\u001b[0mReport\u001b[0m\u001b[0;34m.\u001b[0m\u001b[0mload\u001b[0m\u001b[0;34m(\u001b[0m\u001b[0mreport_id\u001b[0m\u001b[0;34m)\u001b[0m\u001b[0;34m\u001b[0m\u001b[0;34m\u001b[0m\u001b[0m\n\u001b[0m\u001b[1;32m      5\u001b[0m \u001b[0;34m\u001b[0m\u001b[0m\n\u001b[1;32m      6\u001b[0m \u001b[0;31m# Define the PanelGrid with grouping, filtering, and ordering\u001b[0m\u001b[0;34m\u001b[0m\u001b[0;34m\u001b[0m\u001b[0m\n",
            "\u001b[0;31mAttributeError\u001b[0m: type object 'Report' has no attribute 'load'"
          ]
        }
      ],
      "source": [
        "\n",
        "\n",
        "# Assume you have an existing report to update\n",
        "# Replace with your actual report ID or handle for fetching\n",
        "report_id = \"your_report_id\"\n",
        "report = wr.Report.load(report_id)\n",
        "\n",
        "# Define the PanelGrid with grouping, filtering, and ordering\n",
        "pg = wr.PanelGrid(\n",
        "    runsets=[\n",
        "        wr.Runset(\n",
        "            name=\"Grouping\",\n",
        "            groupby=[\"encoder\"]  # Grouping by the \"encoder\" metric\n",
        "        ),\n",
        "        wr.Runset(\n",
        "            name=\"Filtering and Ordering\",\n",
        "            filter=\"encoder == 'resnet18' and loss < 0.05\",  # Apply filter\n",
        "            order=[\"+momentum\", \"-Name\"]  # Apply ordering\n",
        "        )\n",
        "    ],\n",
        "    panels=[\n",
        "        wr.LinePlot(x='Step', y=['val_acc'], smoothing_factor=0.8),\n",
        "        wr.BarPlot(metrics=['acc']),\n",
        "        wr.MediaBrowser(media_keys=['img'], num_columns=1),\n",
        "        wr.RunComparer(diff_only='split', layout={'w': 24, 'h': 9}),\n",
        "    ]\n",
        ")\n",
        "\n",
        "# Update the report with the new PanelGrid\n",
        "report.blocks = [wr.H1(\"Updated Panel Grid Example\")] + [pg] + report.blocks\n",
        "\n",
        "# Save the updated report\n",
        "report.save()\n",
        "\n",
        "print(\"Report updated with new panel grid, grouping, and ordering.\")\n"
      ]
    },
    {
      "cell_type": "markdown",
      "metadata": {
        "id": "WGp-6c9m7NDQ"
      },
      "source": [
        "## Customize group colors\n",
        "- Pass in a `dict[ordertuple, color]`, where `ordertuple: tuple[runset_name, *groupby_values]`\n",
        "- For example:\n",
        "  - Your runset is named `MyRunset`\n",
        "  - Your runset groupby is `[\"encoder\", \"optimizer\"]`\n",
        "  - Then your tuple can be `(\"MyRunset\", \"resnet18\", \"adam\")`"
      ]
    },
    {
      "cell_type": "code",
      "execution_count": 22,
      "metadata": {
        "colab": {
          "base_uri": "https://localhost:8080/",
          "height": 540
        },
        "id": "QtL2U_f67NDQ",
        "outputId": "7e8583a5-1fbe-42a1-b14d-9ed4ab25360c"
      },
      "outputs": [
        {
          "output_type": "error",
          "ename": "ValidationError",
          "evalue": "4 validation errors for PanelGrid\ncustom_run_colors.('Grouping', 'resnet50').[key].str\n  Input should be a valid string [type=string_type, input_value=('Grouping', 'resnet50'), input_type=tuple]\n    For further information visit https://errors.pydantic.dev/2.8/v/string_type\ncustom_run_colors.('Grouping', 'resnet50').[key].RunsetGroup\n  Input should be a dictionary or an instance of RunsetGroup [type=dataclass_type, input_value=('Grouping', 'resnet50'), input_type=tuple]\n    For further information visit https://errors.pydantic.dev/2.8/v/dataclass_type\ncustom_run_colors.('Grouping', 'resnet18').[key].str\n  Input should be a valid string [type=string_type, input_value=('Grouping', 'resnet18'), input_type=tuple]\n    For further information visit https://errors.pydantic.dev/2.8/v/string_type\ncustom_run_colors.('Grouping', 'resnet18').[key].RunsetGroup\n  Input should be a dictionary or an instance of RunsetGroup [type=dataclass_type, input_value=('Grouping', 'resnet18'), input_type=tuple]\n    For further information visit https://errors.pydantic.dev/2.8/v/dataclass_type",
          "traceback": [
            "\u001b[0;31m---------------------------------------------------------------------------\u001b[0m",
            "\u001b[0;31mValidationError\u001b[0m                           Traceback (most recent call last)",
            "\u001b[0;32m<ipython-input-22-95e96b658907>\u001b[0m in \u001b[0;36m<cell line: 2>\u001b[0;34m()\u001b[0m\n\u001b[0;32m----> 1\u001b[0;31m pg.custom_run_colors = {\n\u001b[0m\u001b[1;32m      2\u001b[0m   \u001b[0;34m(\u001b[0m\u001b[0;34m'Grouping'\u001b[0m\u001b[0;34m,\u001b[0m \u001b[0;34m'resnet50'\u001b[0m\u001b[0;34m)\u001b[0m\u001b[0;34m:\u001b[0m \u001b[0;34m'red'\u001b[0m\u001b[0;34m,\u001b[0m\u001b[0;34m\u001b[0m\u001b[0;34m\u001b[0m\u001b[0m\n\u001b[1;32m      3\u001b[0m   \u001b[0;34m(\u001b[0m\u001b[0;34m'Grouping'\u001b[0m\u001b[0;34m,\u001b[0m \u001b[0;34m'resnet18'\u001b[0m\u001b[0;34m)\u001b[0m\u001b[0;34m:\u001b[0m \u001b[0;34m'blue'\u001b[0m\u001b[0;34m,\u001b[0m\u001b[0;34m\u001b[0m\u001b[0;34m\u001b[0m\u001b[0m\n\u001b[1;32m      4\u001b[0m \u001b[0;34m\u001b[0m\u001b[0m\n\u001b[1;32m      5\u001b[0m   \u001b[0;31m# you can do both grouped and ungrouped colors in the same dict\u001b[0m\u001b[0;34m\u001b[0m\u001b[0;34m\u001b[0m\u001b[0m\n",
            "\u001b[0;32m/usr/local/lib/python3.10/dist-packages/pydantic/_internal/_dataclasses.py\u001b[0m in \u001b[0;36mvalidated_setattr\u001b[0;34m(instance, field, value)\u001b[0m\n\u001b[1;32m    188\u001b[0m         \u001b[0;34m@\u001b[0m\u001b[0mwraps\u001b[0m\u001b[0;34m(\u001b[0m\u001b[0mcls\u001b[0m\u001b[0;34m.\u001b[0m\u001b[0m__setattr__\u001b[0m\u001b[0;34m)\u001b[0m\u001b[0;34m\u001b[0m\u001b[0;34m\u001b[0m\u001b[0m\n\u001b[1;32m    189\u001b[0m         \u001b[0;32mdef\u001b[0m \u001b[0mvalidated_setattr\u001b[0m\u001b[0;34m(\u001b[0m\u001b[0minstance\u001b[0m\u001b[0;34m:\u001b[0m \u001b[0mAny\u001b[0m\u001b[0;34m,\u001b[0m \u001b[0mfield\u001b[0m\u001b[0;34m:\u001b[0m \u001b[0mstr\u001b[0m\u001b[0;34m,\u001b[0m \u001b[0mvalue\u001b[0m\u001b[0;34m:\u001b[0m \u001b[0mstr\u001b[0m\u001b[0;34m,\u001b[0m \u001b[0;34m/\u001b[0m\u001b[0;34m)\u001b[0m \u001b[0;34m->\u001b[0m \u001b[0;32mNone\u001b[0m\u001b[0;34m:\u001b[0m\u001b[0;34m\u001b[0m\u001b[0;34m\u001b[0m\u001b[0m\n\u001b[0;32m--> 190\u001b[0;31m             \u001b[0mvalidator\u001b[0m\u001b[0;34m.\u001b[0m\u001b[0mvalidate_assignment\u001b[0m\u001b[0;34m(\u001b[0m\u001b[0minstance\u001b[0m\u001b[0;34m,\u001b[0m \u001b[0mfield\u001b[0m\u001b[0;34m,\u001b[0m \u001b[0mvalue\u001b[0m\u001b[0;34m)\u001b[0m\u001b[0;34m\u001b[0m\u001b[0;34m\u001b[0m\u001b[0m\n\u001b[0m\u001b[1;32m    191\u001b[0m \u001b[0;34m\u001b[0m\u001b[0m\n\u001b[1;32m    192\u001b[0m         \u001b[0mcls\u001b[0m\u001b[0;34m.\u001b[0m\u001b[0m__setattr__\u001b[0m \u001b[0;34m=\u001b[0m \u001b[0mvalidated_setattr\u001b[0m\u001b[0;34m.\u001b[0m\u001b[0m__get__\u001b[0m\u001b[0;34m(\u001b[0m\u001b[0;32mNone\u001b[0m\u001b[0;34m,\u001b[0m \u001b[0mcls\u001b[0m\u001b[0;34m)\u001b[0m  \u001b[0;31m# type: ignore\u001b[0m\u001b[0;34m\u001b[0m\u001b[0;34m\u001b[0m\u001b[0m\n",
            "\u001b[0;31mValidationError\u001b[0m: 4 validation errors for PanelGrid\ncustom_run_colors.('Grouping', 'resnet50').[key].str\n  Input should be a valid string [type=string_type, input_value=('Grouping', 'resnet50'), input_type=tuple]\n    For further information visit https://errors.pydantic.dev/2.8/v/string_type\ncustom_run_colors.('Grouping', 'resnet50').[key].RunsetGroup\n  Input should be a dictionary or an instance of RunsetGroup [type=dataclass_type, input_value=('Grouping', 'resnet50'), input_type=tuple]\n    For further information visit https://errors.pydantic.dev/2.8/v/dataclass_type\ncustom_run_colors.('Grouping', 'resnet18').[key].str\n  Input should be a valid string [type=string_type, input_value=('Grouping', 'resnet18'), input_type=tuple]\n    For further information visit https://errors.pydantic.dev/2.8/v/string_type\ncustom_run_colors.('Grouping', 'resnet18').[key].RunsetGroup\n  Input should be a dictionary or an instance of RunsetGroup [type=dataclass_type, input_value=('Grouping', 'resnet18'), input_type=tuple]\n    For further information visit https://errors.pydantic.dev/2.8/v/dataclass_type"
          ]
        }
      ],
      "source": [
        "pg.custom_run_colors = {\n",
        "  ('Grouping', 'resnet50'): 'red',\n",
        "  ('Grouping', 'resnet18'): 'blue',\n",
        "\n",
        "  # you can do both grouped and ungrouped colors in the same dict\n",
        "  'adventurous-aardvark-1': '#e84118',\n",
        "  'bountiful-badger-2':     '#fbc531',\n",
        "  'clairvoyant-chipmunk-3': '#4cd137',\n",
        "  'dastardly-duck-4':       '#00a8ff',\n",
        "  'eloquent-elephant-5':    '#9c88ff',\n",
        "}\n",
        "report.save()"
      ]
    },
    {
      "cell_type": "markdown",
      "metadata": {
        "id": "pqu2LPgz7NDQ"
      },
      "source": [
        "# ❓ FAQ <a id='faq'></a>"
      ]
    },
    {
      "cell_type": "markdown",
      "metadata": {
        "id": "JoqlTYR77NDQ"
      },
      "source": [
        "## My chart is not rendering as expected.\n",
        "- We try to guess the column type, but sometimes we fail.\n",
        "- Try prefixing:\n",
        "  - `c::` for config values\n",
        "  - `s::` for summary metrics\n",
        "  - e.g. if your config value was `optimizer`, try `c::optimizer`"
      ]
    },
    {
      "cell_type": "markdown",
      "metadata": {
        "id": "c--gAdKg7NDQ"
      },
      "source": [
        "## My report is too wide/narrow\n",
        "- Change the report's width to the right size for you."
      ]
    },
    {
      "cell_type": "code",
      "execution_count": 32,
      "metadata": {
        "colab": {
          "base_uri": "https://localhost:8080/",
          "height": 1000
        },
        "id": "RQrUg8E17NDQ",
        "outputId": "fc226d9d-060a-447e-95de-3636284298be"
      },
      "outputs": [
        {
          "output_type": "stream",
          "name": "stderr",
          "text": [
            "\u001b[34m\u001b[1mwandb\u001b[0m: Saved report to: https://wandb.ai/sephmard/report-api-quickstart/reports/Quickstart-Report--Vmlldzo5MDg0NjUx\n",
            "\u001b[34m\u001b[1mwandb\u001b[0m: Saved report to: https://wandb.ai/sephmard/report-api-quickstart/reports/Quickstart-Report--Vmlldzo5MDg0NjUx\n"
          ]
        },
        {
          "output_type": "execute_result",
          "data": {
            "text/plain": [
              "Report(project='report-api-quickstart', entity='sephmard', title='Quickstart Report', width='fluid', description='That was easy!', blocks=[TableOfContents(), H1(text='Artifact lineage example'), WeaveBlockArtifact(entity='sephmard', project='lineage-example', artifact='model-1', tab='lineage'), H1(text='Panel Grid Example'), PanelGrid(runsets=[Runset(entity='sephmard', project='report-api-quickstart', name='First Run Set', order=[OrderBy(name='CreatedTimestamp', ascending=False)]), Runset(entity='sephmard', project='report-api-quickstart', name='Elephants Only!', query='elephant', order=[OrderBy(name='CreatedTimestamp', ascending=False)])], panels=[LinePlot(x='Step', y=['val_acc'], smoothing_factor=0.8, layout=Layout(x=0, y=0, w=8, h=6)), BarPlot(metrics=['acc'], orientation='h', layout=Layout(x=8, y=0, w=8, h=6)), MediaBrowser(num_columns=1, media_keys=['img'], layout=Layout(x=16, y=0, w=8, h=6)), RunComparer(diff_only='split', layout=Layout(x=0, y=6, w=24, h=9))], active_runset=0, custom_run_colors={'adventurous-aardvark-1': '#e84118', 'bountiful-badger-2': '#fbc531', 'clairvoyant-chipmunk-3': '#4cd137', 'dastardly-duck-4': '#00a8ff', 'eloquent-elephant-5': '#9c88ff'}), H1(text='Text and images example'), P(text='Lorem ipsum dolor sit amet. Aut laborum perspiciatis sit odit omnis aut aliquam voluptatibus ut rerum molestiae sed assumenda nulla ut minus illo sit sunt explicabo? Sed quia architecto est voluptatem magni sit molestiae dolores. Non animi repellendus ea enim internos et iste itaque quo labore mollitia aut omnis totam.'), Image(url='https://api.wandb.ai/files/telidavies/images/projects/831572/8ad61fd1.png', caption='Craiyon generated images'), P(text='Et voluptatem galisum quo facilis sequi quo suscipit sunt sed iste iure! Est voluptas adipisci et doloribus commodi ab tempore numquam qui tempora adipisci. Eum sapiente cupiditate ut natus aliquid sit dolor consequatur?')], id='Vmlldzo5MDg0NjUx')"
            ],
            "text/html": [
              "<iframe src='https://wandb.ai/sephmard/report-api-quickstart/reports/Quickstart-Report--Vmlldzo5MDg0NjUx?jupyter=true' style='border:none;width:100%;height:1024px;'></iframe>"
            ]
          },
          "metadata": {},
          "execution_count": 32
        }
      ],
      "source": [
        "report2 = report.save(clone=True)\n",
        "report2.width = 'fluid'\n",
        "report2.save()"
      ]
    },
    {
      "cell_type": "markdown",
      "metadata": {
        "id": "ZBRQ0-Np7NDQ"
      },
      "source": [
        "## How do I resize panels?\n",
        "- Pass a `dict[dim, int]` to `panel.layout`\n",
        "- `dim` is a dimension, which can be `x`, `y` (the coordiantes of the top left corner) `w`, `h` (the size of the panel)\n",
        "- You can pass any or all dimensions at once\n",
        "- The space between two dots in a panel grid is 2."
      ]
    },
    {
      "cell_type": "code",
      "execution_count": 40,
      "metadata": {
        "colab": {
          "base_uri": "https://localhost:8080/",
          "height": 1000
        },
        "id": "83rhYSSD7NDQ",
        "outputId": "77535089-69fc-455d-80c7-8049f55394a3"
      },
      "outputs": [
        {
          "output_type": "stream",
          "name": "stderr",
          "text": [
            "\u001b[34m\u001b[1mwandb\u001b[0m: Saved report to: https://wandb.ai/sephmard/report-api-quickstart/reports/Resizing-panels--Vmlldzo5MDg0NzEz\n"
          ]
        },
        {
          "output_type": "execute_result",
          "data": {
            "text/plain": [
              "Report(project='report-api-quickstart', entity='sephmard', title='Resizing panels', width='readable', description='Look at this wide parallel coordinates plot!', blocks=[PanelGrid(runsets=[Runset(name='Run set', order=[OrderBy(name='CreatedTimestamp', ascending=False)])], panels=[ParallelCoordinatesPlot(columns=[ParallelCoordinatesPlotColumn(metric='Step'), ParallelCoordinatesPlotColumn(metric='c::model'), ParallelCoordinatesPlotColumn(metric='c::optimizer'), ParallelCoordinatesPlotColumn(metric='Step'), ParallelCoordinatesPlotColumn(metric='val_acc'), ParallelCoordinatesPlotColumn(metric='val_loss')], layout=Layout(x=0, y=0, w=24, h=9))], active_runset=0)], id='Vmlldzo5MDg0NzEz')"
            ],
            "text/html": [
              "<iframe src='https://wandb.ai/sephmard/report-api-quickstart/reports/Resizing-panels--Vmlldzo5MDg0NzEz?jupyter=true' style='border:none;width:100%;height:1024px;'></iframe>"
            ]
          },
          "metadata": {},
          "execution_count": 40
        }
      ],
      "source": [
        "import wandb_workspaces.reports.v2 as wr\n",
        "\n",
        "# Define your report with updated parameters and structure\n",
        "report = wr.Report(\n",
        "    project=PROJECT,\n",
        "    title=\"Resizing panels\",\n",
        "    description=\"Look at this wide parallel coordinates plot!\",\n",
        "    blocks=[\n",
        "        wr.PanelGrid(\n",
        "            panels=[\n",
        "                wr.ParallelCoordinatesPlot(\n",
        "                    columns=[\n",
        "                        wr.ParallelCoordinatesPlotColumn(metric=\"Step\"),\n",
        "                        wr.ParallelCoordinatesPlotColumn(metric=\"c::model\"),\n",
        "                        wr.ParallelCoordinatesPlotColumn(metric=\"c::optimizer\"),\n",
        "                        wr.ParallelCoordinatesPlotColumn(metric=\"Step\"),\n",
        "                        wr.ParallelCoordinatesPlotColumn(metric=\"val_acc\"),\n",
        "                        wr.ParallelCoordinatesPlotColumn(metric=\"val_loss\"),\n",
        "                    ],\n",
        "                    layout=wr.Layout(w=24, h=9)  # Adjusting the layout for the plot size\n",
        "                ),\n",
        "            ]\n",
        "        )\n",
        "    ]\n",
        ")\n",
        "\n",
        "# Save the report\n",
        "report.save()\n"
      ]
    },
    {
      "cell_type": "markdown",
      "metadata": {
        "id": "qQTtzZ9r7NDQ"
      },
      "source": [
        "## What blocks are available?\n",
        "- See `wr.blocks` for a list of blocks.\n",
        "- In an IDE or notebook, you can also do `wr.blocks.<tab>` to get autocomplete."
      ]
    },
    {
      "cell_type": "code",
      "execution_count": 38,
      "metadata": {
        "colab": {
          "base_uri": "https://localhost:8080/",
          "height": 210
        },
        "id": "valQfFTQ7NDQ",
        "outputId": "508f0340-6f68-42d8-e221-5438db958c89"
      },
      "outputs": [
        {
          "output_type": "error",
          "ename": "AttributeError",
          "evalue": "module 'wandb_workspaces.reports.v2' has no attribute 'InlineLaTeX'",
          "traceback": [
            "\u001b[0;31m---------------------------------------------------------------------------\u001b[0m",
            "\u001b[0;31mAttributeError\u001b[0m                            Traceback (most recent call last)",
            "\u001b[0;32m<ipython-input-38-e12c444cdb9c>\u001b[0m in \u001b[0;36m<cell line: 2>\u001b[0;34m()\u001b[0m\n\u001b[1;32m     13\u001b[0m                 \u001b[0mwr\u001b[0m\u001b[0;34m.\u001b[0m\u001b[0mInlineCode\u001b[0m\u001b[0;34m(\u001b[0m\u001b[0;34m\"select * from code in line\"\u001b[0m\u001b[0;34m)\u001b[0m\u001b[0;34m,\u001b[0m\u001b[0;34m\u001b[0m\u001b[0;34m\u001b[0m\u001b[0m\n\u001b[1;32m     14\u001b[0m                 \u001b[0;34m\"and then latex\"\u001b[0m\u001b[0;34m,\u001b[0m\u001b[0;34m\u001b[0m\u001b[0;34m\u001b[0m\u001b[0m\n\u001b[0;32m---> 15\u001b[0;31m                 \u001b[0mwr\u001b[0m\u001b[0;34m.\u001b[0m\u001b[0mInlineLaTeX\u001b[0m\u001b[0;34m(\u001b[0m\u001b[0;34m\"e=mc^2\"\u001b[0m\u001b[0;34m)\u001b[0m\u001b[0;34m,\u001b[0m\u001b[0;34m\u001b[0m\u001b[0;34m\u001b[0m\u001b[0m\n\u001b[0m\u001b[1;32m     16\u001b[0m             ]\n\u001b[1;32m     17\u001b[0m         ),\n",
            "\u001b[0;31mAttributeError\u001b[0m: module 'wandb_workspaces.reports.v2' has no attribute 'InlineLaTeX'"
          ]
        }
      ],
      "source": [
        "# Panel grid is omitted.  See next section for PanelGrid and panels\n",
        "report = wr.Report(\n",
        "    PROJECT,\n",
        "    title='W&B Block Gallery',\n",
        "    description=\"Check out all of the blocks available in W&B\",\n",
        "    blocks=[\n",
        "        wr.H1(text=\"Heading 1\"),\n",
        "        wr.P(text=\"Normal paragraph\"),\n",
        "        wr.H2(text=\"Heading 2\"),\n",
        "        wr.P(\n",
        "            [\n",
        "                \"here is some text, followed by\",\n",
        "                wr.InlineCode(\"select * from code in line\"),\n",
        "                \"and then latex\",\n",
        "                wr.InlineLaTeX(\"e=mc^2\"),\n",
        "            ]\n",
        "        ),\n",
        "        wr.H3(text=\"Heading 3\"),\n",
        "        wr.CodeBlock(\n",
        "            code=[\"this:\", \"- is\", \"- a\", \"cool:\", \"- yaml\", \"- file\"],\n",
        "            language=\"yaml\",\n",
        "        ),\n",
        "        wr.WeaveBlockSummaryTable(ENTITY, PROJECT, 'my-table'),\n",
        "        wr.WeaveBlockArtifact(ENTITY, LINEAGE_PROJECT, 'model-1', 'lineage'),\n",
        "        wr.WeaveBlockArtifactVersionedFile(ENTITY, LINEAGE_PROJECT, 'model-1', 'v0', \"dataframe.table.json\"),\n",
        "        wr.MarkdownBlock(text=\"Markdown cell with *italics* and **bold** and $e=mc^2$\"),\n",
        "        wr.LaTeXBlock(text=\"\\\\gamma^2+\\\\theta^2=\\\\omega^2\\n\\\\\\\\ a^2 + b^2 = c^2\"),\n",
        "        wr.Image(\"https://api.wandb.ai/files/megatruong/images/projects/918598/350382db.gif\", caption=\"It's a me, Pikachu\"),\n",
        "        wr.UnorderedList(items=[\"Bullet 1\", \"Bullet 2\"]),\n",
        "        wr.OrderedList(items=[\"Ordered 1\", \"Ordered 2\"]),\n",
        "        wr.CheckedList(items=[\"Unchecked\", \"Checked\"], checked=[False, True]),\n",
        "        wr.BlockQuote(text=\"Block Quote 1\\nBlock Quote 2\\nBlock Quote 3\"),\n",
        "        wr.CalloutBlock(text=[\"Callout 1\", \"Callout 2\", \"Callout 3\"]),\n",
        "        wr.HorizontalRule(),\n",
        "        wr.Video(url=\"https://www.youtube.com/embed/6riDJMI-Y8U\"),\n",
        "        wr.Spotify(spotify_id=\"5cfUlsdrdUE4dLMK7R9CFd\"),\n",
        "        wr.SoundCloud(url=\"https://api.soundcloud.com/tracks/1076901103\"),\n",
        "    ]\n",
        ").save()\n",
        "report.blocks += [wr.Gallery(ids=[report.id])]  # get report id on save\n",
        "report.save()"
      ]
    },
    {
      "cell_type": "markdown",
      "metadata": {
        "id": "-koIg4Dp7NDQ"
      },
      "source": [
        "## What panels are available?\n",
        "- See `wr.panels` for a list of panels\n",
        "- In an IDE or notebook, you can also do `wr.panels.<tab>` to get autocomplete.\n",
        "- Panels have a lot of settings.  Inspect the panel to see what you can do!"
      ]
    },
    {
      "cell_type": "code",
      "execution_count": 30,
      "metadata": {
        "colab": {
          "base_uri": "https://localhost:8080/",
          "height": 384
        },
        "id": "E95cCJQK7NDQ",
        "outputId": "a5cdfa8e-6871-45c8-aff5-bc11df0a31d7"
      },
      "outputs": [
        {
          "output_type": "error",
          "ename": "ValidationError",
          "evalue": "1 validation error for MediaBrowser\nmedia_keys\n  Input should be a valid list [type=list_type, input_value='img', input_type=str]\n    For further information visit https://errors.pydantic.dev/2.8/v/list_type",
          "traceback": [
            "\u001b[0;31m---------------------------------------------------------------------------\u001b[0m",
            "\u001b[0;31mValidationError\u001b[0m                           Traceback (most recent call last)",
            "\u001b[0;32m<ipython-input-30-4496ea1296d2>\u001b[0m in \u001b[0;36m<cell line: 1>\u001b[0;34m()\u001b[0m\n\u001b[1;32m     11\u001b[0m             ],\n\u001b[1;32m     12\u001b[0m             panels=[\n\u001b[0;32m---> 13\u001b[0;31m                 \u001b[0mwr\u001b[0m\u001b[0;34m.\u001b[0m\u001b[0mMediaBrowser\u001b[0m\u001b[0;34m(\u001b[0m\u001b[0mmedia_keys\u001b[0m\u001b[0;34m=\u001b[0m\u001b[0;34m\"img\"\u001b[0m\u001b[0;34m)\u001b[0m\u001b[0;34m,\u001b[0m\u001b[0;34m\u001b[0m\u001b[0;34m\u001b[0m\u001b[0m\n\u001b[0m\u001b[1;32m     14\u001b[0m                 \u001b[0mwr\u001b[0m\u001b[0;34m.\u001b[0m\u001b[0mMarkdownPanel\u001b[0m\u001b[0;34m(\u001b[0m\u001b[0;34m\"Hello *italic* **bold** $e=mc^2$ `something`\"\u001b[0m\u001b[0;34m)\u001b[0m\u001b[0;34m,\u001b[0m\u001b[0;34m\u001b[0m\u001b[0;34m\u001b[0m\u001b[0m\n\u001b[1;32m     15\u001b[0m \u001b[0;34m\u001b[0m\u001b[0m\n",
            "\u001b[0;32m/usr/local/lib/python3.10/dist-packages/pydantic/_internal/_dataclasses.py\u001b[0m in \u001b[0;36m__init__\u001b[0;34m(__dataclass_self__, *args, **kwargs)\u001b[0m\n\u001b[1;32m    139\u001b[0m         \u001b[0m__tracebackhide__\u001b[0m \u001b[0;34m=\u001b[0m \u001b[0;32mTrue\u001b[0m\u001b[0;34m\u001b[0m\u001b[0;34m\u001b[0m\u001b[0m\n\u001b[1;32m    140\u001b[0m         \u001b[0ms\u001b[0m \u001b[0;34m=\u001b[0m \u001b[0m__dataclass_self__\u001b[0m\u001b[0;34m\u001b[0m\u001b[0;34m\u001b[0m\u001b[0m\n\u001b[0;32m--> 141\u001b[0;31m         \u001b[0ms\u001b[0m\u001b[0;34m.\u001b[0m\u001b[0m__pydantic_validator__\u001b[0m\u001b[0;34m.\u001b[0m\u001b[0mvalidate_python\u001b[0m\u001b[0;34m(\u001b[0m\u001b[0mArgsKwargs\u001b[0m\u001b[0;34m(\u001b[0m\u001b[0margs\u001b[0m\u001b[0;34m,\u001b[0m \u001b[0mkwargs\u001b[0m\u001b[0;34m)\u001b[0m\u001b[0;34m,\u001b[0m \u001b[0mself_instance\u001b[0m\u001b[0;34m=\u001b[0m\u001b[0ms\u001b[0m\u001b[0;34m)\u001b[0m\u001b[0;34m\u001b[0m\u001b[0;34m\u001b[0m\u001b[0m\n\u001b[0m\u001b[1;32m    142\u001b[0m \u001b[0;34m\u001b[0m\u001b[0m\n\u001b[1;32m    143\u001b[0m     \u001b[0m__init__\u001b[0m\u001b[0;34m.\u001b[0m\u001b[0m__qualname__\u001b[0m \u001b[0;34m=\u001b[0m \u001b[0;34mf'{cls.__qualname__}.__init__'\u001b[0m\u001b[0;34m\u001b[0m\u001b[0;34m\u001b[0m\u001b[0m\n",
            "\u001b[0;31mValidationError\u001b[0m: 1 validation error for MediaBrowser\nmedia_keys\n  Input should be a valid list [type=list_type, input_value='img', input_type=str]\n    For further information visit https://errors.pydantic.dev/2.8/v/list_type"
          ]
        }
      ],
      "source": [
        "report = wr.Report(\n",
        "    project=PROJECT,\n",
        "    title='W&B Panel Gallery',\n",
        "    description=\"Check out all of the panels available in W&B\",\n",
        "    width='fluid',\n",
        "    blocks=[\n",
        "        wr.PanelGrid(\n",
        "            runsets=[\n",
        "                wr.Runset(project=LINEAGE_PROJECT),\n",
        "                wr.Runset(),\n",
        "            ],\n",
        "            panels=[\n",
        "                wr.MediaBrowser(media_keys=\"img\"),\n",
        "                wr.MarkdownPanel(\"Hello *italic* **bold** $e=mc^2$ `something`\"),\n",
        "\n",
        "                # LinePlot showed with many settings enabled for example\n",
        "                wr.LinePlot(\n",
        "                    title=\"Validation Accuracy over Time\",\n",
        "                    x=\"Step\",\n",
        "                    y=[\"val_acc\"],\n",
        "                    range_x=[0, 1000],\n",
        "                    range_y=[1, 4],\n",
        "                    log_x=True,\n",
        "                    title_x=\"Training steps\",\n",
        "                    title_y=\"Validation Accuracy\",\n",
        "                    ignore_outliers=True,\n",
        "                    groupby='encoder',\n",
        "                    groupby_aggfunc=\"mean\",\n",
        "                    groupby_rangefunc=\"minmax\",\n",
        "                    smoothing_factor=0.5,\n",
        "                    smoothing_type=\"gaussian\",\n",
        "                    smoothing_show_original=True,\n",
        "                    max_runs_to_show=10,\n",
        "                    font_size=\"large\",\n",
        "                    legend_position=\"west\",\n",
        "                ),\n",
        "                wr.ScatterPlot(\n",
        "                    title=\"Validation Accuracy vs. Validation Loss\",\n",
        "                    x=\"val_acc\",\n",
        "                    y=\"val_loss\",\n",
        "                    log_x=False,\n",
        "                    log_y=False,\n",
        "                    running_ymin=True,\n",
        "                    running_ymean=True,\n",
        "                    running_ymax=True,\n",
        "                    font_size=\"small\",\n",
        "                    regression=True,\n",
        "                ),\n",
        "                wr.BarPlot(\n",
        "                    title=\"Validation Loss by Encoder\",\n",
        "                    metrics=[\"val_loss\"],\n",
        "                    orientation='h',\n",
        "                    range_x=[0, 0.11],\n",
        "                    title_x=\"Validation Loss\",\n",
        "                    # title_y=\"y axis title\",\n",
        "                    groupby='encoder',\n",
        "                    groupby_aggfunc=\"median\",\n",
        "                    groupby_rangefunc=\"stddev\",\n",
        "                    max_runs_to_show=20,\n",
        "                    max_bars_to_show=3,\n",
        "                    font_size=\"auto\",\n",
        "                ),\n",
        "                wr.ScalarChart(\n",
        "                    title=\"Maximum Number of Steps\",\n",
        "                    metric=\"Step\",\n",
        "                    groupby_aggfunc=\"max\",\n",
        "                    groupby_rangefunc=\"stderr\",\n",
        "                    font_size=\"large\",\n",
        "                ),\n",
        "                wr.CodeComparer(diff=\"split\"),\n",
        "                wr.ParallelCoordinatesPlot(\n",
        "                    columns=[\n",
        "                        wr.PCColumn(\"Step\"),\n",
        "                        wr.PCColumn(\"c::model\"),\n",
        "                        wr.PCColumn(\"c::optimizer\"),\n",
        "                        wr.PCColumn(\"Step\"),\n",
        "                        wr.PCColumn(\"val_acc\"),\n",
        "                        wr.PCColumn(\"val_loss\"),\n",
        "                    ],\n",
        "                ),\n",
        "                wr.ParameterImportancePlot(with_respect_to=\"val_loss\"),\n",
        "                wr.RunComparer(diff_only=\"split\"),\n",
        "                wr.CustomChart(\n",
        "                    query={'summary': ['val_loss', 'val_acc']},\n",
        "                    chart_name='wandb/scatter/v0',\n",
        "                    chart_fields={'x': 'val_loss', 'y': 'val_acc'}\n",
        "                ),\n",
        "                wr.WeavePanelSummaryTable(\"my-table\"),\n",
        "                wr.WeavePanelArtifact('model-1', 'lineage', layout={'w': 24, 'h': 12}),\n",
        "                wr.WeavePanelArtifactVersionedFile('model-1', 'v0', \"dataframe.table.json\", layout={'w': 24, 'h': 12}),\n",
        "            ],\n",
        "        ),\n",
        "    ]\n",
        ")\n",
        "report.save()"
      ]
    },
    {
      "cell_type": "markdown",
      "metadata": {
        "id": "C68YjFXC7NDR"
      },
      "source": [
        "## What above weave?\n",
        "- A limited subset of weave panels are available today, including Artifact, ArtifactVersionedFile, and SummaryTable\n",
        "- Stay tuned for future updates around weave support!"
      ]
    },
    {
      "cell_type": "markdown",
      "metadata": {
        "id": "kVRbTee17NDR"
      },
      "source": [
        "## Can I use this in CI (e.g. create a report for each git commit?)\n",
        "- Yep!  Check out [this example](https://github.com/andrewtruong/wandb-gh-actions/actions/runs/3476558992) which creates a report via Github Actions"
      ]
    },
    {
      "cell_type": "markdown",
      "metadata": {
        "id": "_ImXrBtN7NDR"
      },
      "source": [
        "## How can I link related reports together?\n",
        "- Suppose have have two reports like below:"
      ]
    },
    {
      "cell_type": "code",
      "execution_count": 31,
      "metadata": {
        "colab": {
          "base_uri": "https://localhost:8080/",
          "height": 384
        },
        "id": "ueOH3zoS7NDR",
        "outputId": "770c2bc0-5e18-407a-c862-ce40e1558c95"
      },
      "outputs": [
        {
          "output_type": "error",
          "ename": "ValidationError",
          "evalue": "1 validation error for MediaBrowser\nmedia_keys\n  Input should be a valid list [type=list_type, input_value='videos', input_type=str]\n    For further information visit https://errors.pydantic.dev/2.8/v/list_type",
          "traceback": [
            "\u001b[0;31m---------------------------------------------------------------------------\u001b[0m",
            "\u001b[0;31mValidationError\u001b[0m                           Traceback (most recent call last)",
            "\u001b[0;32m<ipython-input-31-4382e42bc869>\u001b[0m in \u001b[0;36m<cell line: 1>\u001b[0;34m()\u001b[0m\n\u001b[1;32m      9\u001b[0m             panels=[\n\u001b[1;32m     10\u001b[0m                 \u001b[0mwr\u001b[0m\u001b[0;34m.\u001b[0m\u001b[0mLinePlot\u001b[0m\u001b[0;34m(\u001b[0m\u001b[0mx\u001b[0m\u001b[0;34m=\u001b[0m\u001b[0;34m'global_step'\u001b[0m\u001b[0;34m,\u001b[0m \u001b[0my\u001b[0m\u001b[0;34m=\u001b[0m\u001b[0;34m[\u001b[0m\u001b[0;34m'charts/episodic_return'\u001b[0m\u001b[0;34m]\u001b[0m\u001b[0;34m,\u001b[0m \u001b[0msmoothing_factor\u001b[0m\u001b[0;34m=\u001b[0m\u001b[0;36m0.85\u001b[0m\u001b[0;34m,\u001b[0m \u001b[0mgroupby_aggfunc\u001b[0m\u001b[0;34m=\u001b[0m\u001b[0;34m'mean'\u001b[0m\u001b[0;34m,\u001b[0m \u001b[0mgroupby_rangefunc\u001b[0m\u001b[0;34m=\u001b[0m\u001b[0;34m'minmax'\u001b[0m\u001b[0;34m,\u001b[0m \u001b[0mlayout\u001b[0m\u001b[0;34m=\u001b[0m\u001b[0;34m{\u001b[0m\u001b[0;34m'x'\u001b[0m\u001b[0;34m:\u001b[0m \u001b[0;36m0\u001b[0m\u001b[0;34m,\u001b[0m \u001b[0;34m'y'\u001b[0m\u001b[0;34m:\u001b[0m \u001b[0;36m0\u001b[0m\u001b[0;34m,\u001b[0m \u001b[0;34m'w'\u001b[0m\u001b[0;34m:\u001b[0m \u001b[0;36m12\u001b[0m\u001b[0;34m,\u001b[0m \u001b[0;34m'h'\u001b[0m\u001b[0;34m:\u001b[0m \u001b[0;36m8\u001b[0m\u001b[0;34m}\u001b[0m\u001b[0;34m)\u001b[0m\u001b[0;34m,\u001b[0m\u001b[0;34m\u001b[0m\u001b[0;34m\u001b[0m\u001b[0m\n\u001b[0;32m---> 11\u001b[0;31m                 \u001b[0mwr\u001b[0m\u001b[0;34m.\u001b[0m\u001b[0mMediaBrowser\u001b[0m\u001b[0;34m(\u001b[0m\u001b[0mmedia_keys\u001b[0m\u001b[0;34m=\u001b[0m\u001b[0;34m\"videos\"\u001b[0m\u001b[0;34m,\u001b[0m \u001b[0mnum_columns\u001b[0m\u001b[0;34m=\u001b[0m\u001b[0;36m4\u001b[0m\u001b[0;34m,\u001b[0m \u001b[0mlayout\u001b[0m\u001b[0;34m=\u001b[0m\u001b[0;34m{\u001b[0m\u001b[0;34m'w'\u001b[0m\u001b[0;34m:\u001b[0m \u001b[0;36m12\u001b[0m\u001b[0;34m,\u001b[0m \u001b[0;34m'h'\u001b[0m\u001b[0;34m:\u001b[0m \u001b[0;36m8\u001b[0m\u001b[0;34m}\u001b[0m\u001b[0;34m)\u001b[0m\u001b[0;34m,\u001b[0m\u001b[0;34m\u001b[0m\u001b[0;34m\u001b[0m\u001b[0m\n\u001b[0m\u001b[1;32m     12\u001b[0m             ],\n\u001b[1;32m     13\u001b[0m             runsets=[\n",
            "\u001b[0;32m/usr/local/lib/python3.10/dist-packages/pydantic/_internal/_dataclasses.py\u001b[0m in \u001b[0;36m__init__\u001b[0;34m(__dataclass_self__, *args, **kwargs)\u001b[0m\n\u001b[1;32m    139\u001b[0m         \u001b[0m__tracebackhide__\u001b[0m \u001b[0;34m=\u001b[0m \u001b[0;32mTrue\u001b[0m\u001b[0;34m\u001b[0m\u001b[0;34m\u001b[0m\u001b[0m\n\u001b[1;32m    140\u001b[0m         \u001b[0ms\u001b[0m \u001b[0;34m=\u001b[0m \u001b[0m__dataclass_self__\u001b[0m\u001b[0;34m\u001b[0m\u001b[0;34m\u001b[0m\u001b[0m\n\u001b[0;32m--> 141\u001b[0;31m         \u001b[0ms\u001b[0m\u001b[0;34m.\u001b[0m\u001b[0m__pydantic_validator__\u001b[0m\u001b[0;34m.\u001b[0m\u001b[0mvalidate_python\u001b[0m\u001b[0;34m(\u001b[0m\u001b[0mArgsKwargs\u001b[0m\u001b[0;34m(\u001b[0m\u001b[0margs\u001b[0m\u001b[0;34m,\u001b[0m \u001b[0mkwargs\u001b[0m\u001b[0;34m)\u001b[0m\u001b[0;34m,\u001b[0m \u001b[0mself_instance\u001b[0m\u001b[0;34m=\u001b[0m\u001b[0ms\u001b[0m\u001b[0;34m)\u001b[0m\u001b[0;34m\u001b[0m\u001b[0;34m\u001b[0m\u001b[0m\n\u001b[0m\u001b[1;32m    142\u001b[0m \u001b[0;34m\u001b[0m\u001b[0m\n\u001b[1;32m    143\u001b[0m     \u001b[0m__init__\u001b[0m\u001b[0;34m.\u001b[0m\u001b[0m__qualname__\u001b[0m \u001b[0;34m=\u001b[0m \u001b[0;34mf'{cls.__qualname__}.__init__'\u001b[0m\u001b[0;34m\u001b[0m\u001b[0;34m\u001b[0m\u001b[0m\n",
            "\u001b[0;31mValidationError\u001b[0m: 1 validation error for MediaBrowser\nmedia_keys\n  Input should be a valid list [type=list_type, input_value='videos', input_type=str]\n    For further information visit https://errors.pydantic.dev/2.8/v/list_type"
          ]
        }
      ],
      "source": [
        "report1 = wr.Report(\n",
        "    PROJECT,\n",
        "    title='Report 1',\n",
        "    description=\"Great content coming from Report 1\",\n",
        "    blocks=[\n",
        "        wr.H1('Heading from Report 1'),\n",
        "        wr.P('Lorem ipsum dolor sit amet. Aut fuga minus nam vero saepeA aperiam eum omnis dolorum et ducimus tempore aut illum quis aut alias vero. Sed explicabo illum est eius quianon vitae sed voluptatem incidunt. Vel architecto assumenda Ad voluptatem quo dicta provident et velit officia. Aut galisum inventoreSed dolore a illum adipisci a aliquam quidem sit corporis quia cum magnam similique.'),\n",
        "        wr.PanelGrid(\n",
        "            panels=[\n",
        "                wr.LinePlot(x='global_step', y=['charts/episodic_return'], smoothing_factor=0.85, groupby_aggfunc='mean', groupby_rangefunc='minmax', layout={'x': 0, 'y': 0, 'w': 12, 'h': 8}),\n",
        "                wr.MediaBrowser(media_keys=\"videos\", num_columns=4, layout={'w': 12, 'h': 8}),\n",
        "            ],\n",
        "            runsets=[\n",
        "                wr.Runset(entity='openrlbenchmark', project='cleanrl', query='bigfish', groupby=['env_id', 'exp_name'])\n",
        "            ],\n",
        "            custom_run_colors={\n",
        "                ('Run set', 'bigfish', 'ppg_procgen'): \"#2980b9\",\n",
        "                ('Run set', 'bigfish', 'ppo_procgen'): \"#e74c3c\",\n",
        "            }\n",
        "        ),\n",
        "    ]\n",
        ").save()\n",
        "\n",
        "report2 = wr.Report(\n",
        "    PROJECT,\n",
        "    title='Report 2',\n",
        "    description=\"Great content coming from Report 2\",\n",
        "    blocks=[\n",
        "        wr.H1('Heading from Report 2'),\n",
        "        wr.P('Est quod ducimus ut distinctio corruptiid optio qui cupiditate quibusdam ea corporis modi. Eum architecto vero sed error dignissimosEa repudiandae a recusandae sint ut sint molestiae ea pariatur quae. In pariatur voluptas ad facere neque 33 suscipit et odit nostrum ut internos molestiae est modi enim. Et rerum inventoreAut internos et dolores delectus aut Quis sunt sed nostrum magnam ab dolores dicta.'),\n",
        "        wr.PanelGrid(\n",
        "            panels=[\n",
        "                wr.LinePlot(x='global_step', y=['charts/SPS']),\n",
        "                wr.LinePlot(x='global_step', y=['charts/episodic_length']),\n",
        "                wr.LinePlot(x='global_step', y=['charts/episodic_return']),\n",
        "            ],\n",
        "            runsets=[\n",
        "                wr.Runset(\"openrlbenchmark\", \"cleanrl\", \"DQN\", groupby=[\"exp_name\"]).set_filters_with_python_expr(\"env_id == 'BreakoutNoFrameskip-v4' and exp_name == 'dqn_atari'\"),\n",
        "                wr.Runset(\"openrlbenchmark\", \"cleanrl\", \"SAC-discrete 0.8\", groupby=[\"exp_name\"]).set_filters_with_python_expr(\"env_id == 'BreakoutNoFrameskip-v4' and exp_name == 'sac_atari' and target_entropy_scale == 0.8\"),\n",
        "                wr.Runset(\"openrlbenchmark\", \"cleanrl\", \"SAC-discrete 0.88\", groupby=[\"exp_name\"]).set_filters_with_python_expr(\"env_id == 'BreakoutNoFrameskip-v4' and exp_name == 'sac_atari' and target_entropy_scale == 0.88\"),\n",
        "            ],\n",
        "            custom_run_colors={\n",
        "                ('DQN',               'dqn_atari'): '#e84118',\n",
        "                ('SAC-discrete 0.8',  'sac_atari'): '#fbc531',\n",
        "                ('SAC-discrete 0.88', 'sac_atari'): '#00a8ff',\n",
        "            }\n",
        "        ),\n",
        "    ]\n",
        ").save()"
      ]
    },
    {
      "cell_type": "markdown",
      "metadata": {
        "id": "NOhlK4G47NDR"
      },
      "source": [
        "### Combine blocks into a new report"
      ]
    },
    {
      "cell_type": "code",
      "execution_count": null,
      "metadata": {
        "id": "vfRryyUM7NDR"
      },
      "outputs": [],
      "source": [
        "report = wr.Report(PROJECT,\n",
        "    title=\"Report with links\",\n",
        "    description=\"Use `wr.Link(text, url)` to add links inside normal text, or use normal markdown syntax in a MarkdownBlock\",\n",
        "    blocks=[\n",
        "        wr.H1(\"This is a normal heading\"),\n",
        "        wr.P(\"And here is some normal text\"),\n",
        "\n",
        "        wr.H1([\"This is a heading \", wr.Link(\"with a link!\", url=\"https://wandb.ai/\")]),\n",
        "        wr.P([\"Most text formats support \", wr.Link(\"adding links\", url=\"https://wandb.ai/\")]),\n",
        "\n",
        "        wr.MarkdownBlock(\"\"\"You can also use markdown syntax for [links](https://wandb.ai/)\"\"\")\n",
        "    ]\n",
        ")\n",
        "report.save()"
      ]
    },
    {
      "cell_type": "code",
      "execution_count": null,
      "metadata": {
        "id": "9GWSIsVp7NDU"
      },
      "outputs": [],
      "source": [
        "report3 = wr.Report(\n",
        "    PROJECT,\n",
        "    title=\"Combined blocks report\",\n",
        "    description=\"This report combines blocks from both Report 1 and Report 2\",\n",
        "    blocks=[*report1.blocks, *report2.blocks]\n",
        ")\n",
        "report3.save()"
      ]
    },
    {
      "cell_type": "markdown",
      "metadata": {
        "id": "idHLd-1h7NDU"
      },
      "source": [
        "### Reference the two reports in a gallery block"
      ]
    },
    {
      "cell_type": "code",
      "execution_count": null,
      "metadata": {
        "id": "ghXboOfw7NDU"
      },
      "outputs": [],
      "source": [
        "report4 = wr.Report(\n",
        "    PROJECT,\n",
        "    title=\"Referenced reports via Gallery\",\n",
        "    description=\"This report has gallery links to Report1 and Report 2\",\n",
        "    blocks=[wr.Gallery(ids=[report1.id, report2.id])]\n",
        ")\n",
        "report4.save()"
      ]
    },
    {
      "cell_type": "markdown",
      "metadata": {
        "id": "ZvezABJk7NDU"
      },
      "source": [
        "## How do I add links to text?\n",
        "- Use `wr.Link`"
      ]
    },
    {
      "cell_type": "markdown",
      "metadata": {
        "id": "1Anls8AV7NDU"
      },
      "source": [
        "## Do you support markdown?\n",
        "Yep\n",
        "- In blocks, use `wr.MarkdownBlock`\n",
        "- In panels, use `wr.MarkdownPanel`"
      ]
    },
    {
      "cell_type": "code",
      "execution_count": null,
      "metadata": {
        "id": "XHHI01K67NDU"
      },
      "outputs": [],
      "source": [
        "markdown = \"\"\"\n",
        "# Ducat quicquam\n",
        "\n",
        "## Egit sit utque torta cuncta si oret\n",
        "\n",
        "Lorem markdownum voco sacrorum religata. Erat ante condita mellaque Cimmerios\n",
        "cultoribus pictas manu usquam illa umbra potentia inpedienda Padumque [euntes\n",
        "motae](http://nec.com/necsollemnia.aspx), detraxit! Accessus discrimen,\n",
        "Cyllenius *e* solum saepe terras perfringit amorem tenent consulit falce\n",
        "referemus tantum. Illo qui attonitas, Adonis ultra stabunt horret requiescere\n",
        "quae deam similis miserum consuetas: tantos aegram, metuam. Tetigere\n",
        "**invidiae** preces indicere populo semper, limine sui dumque, lustra\n",
        "alimentaque vidi nec corpusque aquarum habebat, in.\n",
        "\n",
        "\n",
        "## Aurea simile iunctoque dux semper verbis\n",
        "\n",
        "Vinctorum vidisset et caede officio, viae alia ratione aer regalia, etiamnum.\n",
        "Occupat tanta; vicem, Ithaceque, et ille nec exclamat. Honori carpserat visae\n",
        "magniloquo perluitur corpora tamen. Caput an Minervae sed vela est cecidere\n",
        "luctus umbras iunctisque referat. Accensis **aderis capillos** pendebant\n",
        "[retentas parvum](http://ipse.com/).\n",
        "\n",
        "    if (desktop(2)) {\n",
        "        laser_qwerty_optical.webcam += upsRoom + window;\n",
        "    }\n",
        "    if (type) {\n",
        "        memoryGrayscale(backbone, mask_multimedia_html);\n",
        "    }\n",
        "    if (natInterfaceFile == 23 + 92) {\n",
        "        interface_sku.platform = compressionMotherboard - error_veronica_ata;\n",
        "        dsl_windows = 57 * -2;\n",
        "        definition *= -4;\n",
        "    } else {\n",
        "        frame(4, market_chip_irq, megapixel_eide);\n",
        "    }\n",
        "    if (mashupApiFlash(-1, margin) - graphicSoftwareNas.ddr_samba_reimage(port)\n",
        "            != control_navigation_pseudocode(yahoo.microcomputerDimm(\n",
        "            mips_adsl))) {\n",
        "        postscriptViralDirectx(1, cron_router_voip(669103, managementPitch,\n",
        "                ospf_up_paper), frame);\n",
        "        servlet_cross_paper.controlLanguage(insertion_source.viewHorizontalRead(\n",
        "                enterprise, widget, parse_encoding), end);\n",
        "        script_e(rateRss(yobibyte, fddi, vci_hyper_joystick), surgeHeat / case);\n",
        "    }\n",
        "    pcmciaRealSystem.basic_exbibyte_controller = carrier.domainDesktop(-4 +\n",
        "            laptop + 5);\n",
        "\"\"\"\n",
        "\n",
        "report = wr.Report(\n",
        "    PROJECT,\n",
        "    title=\"Report with markdown\",\n",
        "    description=\"See what's possible with MarkdownBlock and MarkdownPanel\",\n",
        "    blocks=[\n",
        "        wr.MarkdownBlock(markdown),\n",
        "        wr.PanelGrid(\n",
        "            panels=[\n",
        "                wr.MarkdownPanel(markdown,                layout={'w': 12, 'h': 18}),\n",
        "                wr.LinePlot(x='Step', y=['val_acc'] ,     layout={'x': 12, 'y': 0}),\n",
        "                wr.LinePlot(x='Step', y=['val_loss'],     layout={'x': 12, 'y': 6}),\n",
        "                wr.ScatterPlot(x='val_loss', y='val_acc', layout={'x': 12, 'y': 12}),\n",
        "            ]\n",
        "        )\n",
        "    ]\n",
        ")\n",
        "report.save()"
      ]
    },
    {
      "cell_type": "markdown",
      "metadata": {
        "id": "vR2sWXD67NDU"
      },
      "source": [
        "## Can I build the report up from smaller pieces / all at once?\n",
        "Yep.  We'll demonstrate by putting together a report with a parallel coordinates plot.\n",
        "\n",
        "NOTE: this section assumes you have run the [sweeps notebook](https://colab.research.google.com/github/wandb/examples/blob/master/colabs/pytorch/Organizing_Hyperparameter_Sweeps_in_PyTorch_with_W%26B.ipynb) already."
      ]
    },
    {
      "cell_type": "markdown",
      "metadata": {
        "id": "CAxho1Cm7NDU"
      },
      "source": [
        "### Build it up incrementally\n",
        "As you might do if you were creating a report in the UI"
      ]
    },
    {
      "cell_type": "markdown",
      "metadata": {
        "id": "1EFobQP87NDU"
      },
      "source": [
        "1. Create a report"
      ]
    },
    {
      "cell_type": "code",
      "execution_count": null,
      "metadata": {
        "id": "EVKJ8QND7NDU"
      },
      "outputs": [],
      "source": [
        "report = wr.Report(project=PROJECT, title='Parallel Coordinates Example', description=\"Using the pytorch sweeps demo\")"
      ]
    },
    {
      "cell_type": "markdown",
      "metadata": {
        "id": "ehmADFWm7NDU"
      },
      "source": [
        "2. Add a panel grid"
      ]
    },
    {
      "cell_type": "code",
      "execution_count": null,
      "metadata": {
        "id": "qKdW4a_-7NDV"
      },
      "outputs": [],
      "source": [
        "pg = wr.PanelGrid()\n",
        "report.blocks = [pg]"
      ]
    },
    {
      "cell_type": "markdown",
      "metadata": {
        "id": "GTC2n_fZ7NDV"
      },
      "source": [
        "3. Specify your runsets"
      ]
    },
    {
      "cell_type": "code",
      "execution_count": null,
      "metadata": {
        "id": "UV4xQDru7NDV"
      },
      "outputs": [],
      "source": [
        "pg.runsets = [wr.Runset(project='pytorch-sweeps-demo')]"
      ]
    },
    {
      "cell_type": "markdown",
      "metadata": {
        "id": "a2vjUG8n7NDV"
      },
      "source": [
        "4. Specify your panels"
      ]
    },
    {
      "cell_type": "code",
      "execution_count": null,
      "metadata": {
        "id": "kLgQrDNp7NDV"
      },
      "outputs": [],
      "source": [
        "pg.panels = [\n",
        "    wr.ParallelCoordinatesPlot(\n",
        "        columns=[\n",
        "            wr.PCColumn(metric=\"c::batch_size\"),\n",
        "            wr.PCColumn(metric=\"c::dropout\"),\n",
        "            wr.PCColumn(metric=\"c::epochs\"),\n",
        "            wr.PCColumn(metric=\"c::fc_layer_size\"),\n",
        "            wr.PCColumn(metric=\"c::learning_rate\"),\n",
        "            wr.PCColumn(metric=\"c::optimizer\"),\n",
        "            wr.PCColumn(metric=\"loss\"),\n",
        "        ]\n",
        "    )\n",
        "]\n"
      ]
    },
    {
      "cell_type": "markdown",
      "metadata": {
        "id": "5QcXrwKp7NDV"
      },
      "source": [
        "5. Save the report"
      ]
    },
    {
      "cell_type": "code",
      "execution_count": null,
      "metadata": {
        "id": "2rfXotd97NDV"
      },
      "outputs": [],
      "source": [
        "report.save()"
      ]
    },
    {
      "cell_type": "markdown",
      "metadata": {
        "id": "bbt1ZEAG7NDV"
      },
      "source": [
        "### The same thing all-in-one"
      ]
    },
    {
      "cell_type": "code",
      "execution_count": null,
      "metadata": {
        "id": "wpMLhshr7NDV"
      },
      "outputs": [],
      "source": [
        "report = wr.Report(\n",
        "    project=PROJECT,\n",
        "    title=\"Parallel Coordinates Example (all-in-one)\",\n",
        "    description=\"Using the pytorch sweeps demo (same as the other one but written in one expression)\",\n",
        "    blocks=[\n",
        "        wr.PanelGrid(\n",
        "            runsets=[wr.Runset(project=\"pytorch-sweeps-demo\")],\n",
        "            panels=[\n",
        "                wr.ParallelCoordinatesPlot(\n",
        "                    columns=[\n",
        "                        wr.PCColumn(metric='c::batch_size'),\n",
        "                        wr.PCColumn(metric='c::dropout'),\n",
        "                        wr.PCColumn(metric='c::epochs'),\n",
        "                        wr.PCColumn(metric='c::fc_layer_size'),\n",
        "                        wr.PCColumn(metric='c::learning_rate'),\n",
        "                        wr.PCColumn(metric='c::optimizer'),\n",
        "                        wr.PCColumn(metric='loss'),\n",
        "                    ]\n",
        "                )\n",
        "            ],\n",
        "        )\n",
        "    ],\n",
        ")"
      ]
    },
    {
      "cell_type": "code",
      "execution_count": null,
      "metadata": {
        "id": "qy-M-uzd7NDV"
      },
      "outputs": [],
      "source": [
        "report.save()"
      ]
    },
    {
      "cell_type": "markdown",
      "metadata": {
        "id": "pXt2x1L07NDV"
      },
      "source": [
        "## I tried mutating an object in list but it didn't work!\n",
        "tl;dr: It should always work if you assign a value to the attribute instead of mutating.  If you really need to mutate, do it before assignment.\n",
        "\n",
        "---\n",
        "\n",
        "This can happen in a few places that contain lists of wandb objects, e.g.:\n",
        "- `report.blocks`\n",
        "- `panel_grid.panels`\n",
        "- `panel_grid.runsets`"
      ]
    },
    {
      "cell_type": "code",
      "execution_count": null,
      "metadata": {
        "id": "0EbcQqOM7NDV"
      },
      "outputs": [],
      "source": [
        "report = wr.Report(project=PROJECT)"
      ]
    },
    {
      "cell_type": "markdown",
      "metadata": {
        "id": "H0J06T757NDV"
      },
      "source": [
        "Good: Assign `b`"
      ]
    },
    {
      "cell_type": "code",
      "execution_count": null,
      "metadata": {
        "id": "tgMca01g7NDV"
      },
      "outputs": [],
      "source": [
        "b = wr.H1(text=[\"Hello\", \" World!\"])\n",
        "report.blocks = [b]\n",
        "assert b.text == [\"Hello\", \" World!\"]\n",
        "assert report.blocks[0].text == [\"Hello\", \" World!\"]"
      ]
    },
    {
      "cell_type": "markdown",
      "metadata": {
        "id": "uDQ8wSn77NDV"
      },
      "source": [
        "Bad: Mutate `b` without reassigning"
      ]
    },
    {
      "cell_type": "code",
      "execution_count": null,
      "metadata": {
        "id": "xMX5Xr0x7NDV"
      },
      "outputs": [],
      "source": [
        "b.text = [\"Something\", \" New\"]\n",
        "assert b.text == [\"Something\", \" New\"]\n",
        "assert report.blocks[0].text == [\"Hello\", \" World!\"]"
      ]
    },
    {
      "cell_type": "markdown",
      "metadata": {
        "id": "KUMkP_9t7NDV"
      },
      "source": [
        "Good: Mutate `b` and then reassign it"
      ]
    },
    {
      "cell_type": "code",
      "execution_count": null,
      "metadata": {
        "id": "Wif3JPMo7NDV"
      },
      "outputs": [],
      "source": [
        "report.blocks = [b]\n",
        "assert b.text == [\"Something\", \" New\"]\n",
        "assert report.blocks[0].text == [\"Something\", \" New\"]"
      ]
    },
    {
      "cell_type": "markdown",
      "metadata": {
        "id": "ZjKXlG_K7NDV"
      },
      "source": [
        "## How do I show tables?"
      ]
    },
    {
      "cell_type": "code",
      "execution_count": null,
      "metadata": {
        "id": "2MhP1QHj7NDV"
      },
      "outputs": [],
      "source": [
        "report = wr.Report(project=PROJECT, title='Adding tables to reports', description=\"Add tables with WeaveBlockSummaryTable or WeavePanelSummaryTable\")"
      ]
    },
    {
      "cell_type": "markdown",
      "metadata": {
        "id": "--NzoKxd7NDV"
      },
      "source": [
        "### Using weave blocks"
      ]
    },
    {
      "cell_type": "code",
      "execution_count": null,
      "metadata": {
        "id": "6tiULcAy7NDV"
      },
      "outputs": [],
      "source": [
        "report.blocks += [wr.WeaveBlockSummaryTable(ENTITY, PROJECT, \"my-table\")]\n",
        "report.save()"
      ]
    },
    {
      "cell_type": "markdown",
      "metadata": {
        "id": "_x51jW1Z7NDV"
      },
      "source": [
        "### Using weave panels (via PanelGrid)"
      ]
    },
    {
      "cell_type": "code",
      "execution_count": null,
      "metadata": {
        "id": "_M0G_uXY7NDV"
      },
      "outputs": [],
      "source": [
        "report.blocks += [\n",
        "    wr.PanelGrid(\n",
        "        panels=[wr.WeavePanelSummaryTable(\"my-table\")]\n",
        "    )\n",
        "]\n",
        "report.save()"
      ]
    },
    {
      "cell_type": "markdown",
      "metadata": {
        "id": "mXVwb7wo7NDW"
      },
      "source": [
        "## How do I show artifact lineage / versions?"
      ]
    },
    {
      "cell_type": "code",
      "execution_count": null,
      "metadata": {
        "id": "JWEcTKUO7NDW"
      },
      "outputs": [],
      "source": [
        "report = wr.Report(project=PROJECT, title='Adding artifact lineage to reports', description=\"via WeaveBlockArtifact, WeaveBlockArtifactVersionedFile, or their panel equivalents\")"
      ]
    },
    {
      "cell_type": "markdown",
      "metadata": {
        "id": "2T1gBqLY7NDW"
      },
      "source": [
        "### Using weave blocks"
      ]
    },
    {
      "cell_type": "code",
      "execution_count": null,
      "metadata": {
        "id": "OqYh3kE67NDW"
      },
      "outputs": [],
      "source": [
        "report.blocks += [\n",
        "    wr.WeaveBlockArtifact(ENTITY, LINEAGE_PROJECT, \"model-1\", \"lineage\"),\n",
        "    wr.WeaveBlockArtifactVersionedFile(ENTITY, LINEAGE_PROJECT, \"model-1\", \"v0\", \"dataframe.table.json\")\n",
        "]\n",
        "report.save()"
      ]
    },
    {
      "cell_type": "markdown",
      "metadata": {
        "id": "B6g_Lwnw7NDW"
      },
      "source": [
        "### Using weave panels (via PanelGrid)"
      ]
    },
    {
      "cell_type": "code",
      "execution_count": null,
      "metadata": {
        "id": "xM-a4S1B7NDW"
      },
      "outputs": [],
      "source": [
        "report.blocks += [\n",
        "    wr.PanelGrid(panels=[\n",
        "        wr.WeavePanelArtifact(\"\", \"lineage\"),\n",
        "        wr.WeavePanelArtifactVersionedFile(\"\", \"v0\", \"dataframe.table.json\")\n",
        "    ])\n",
        "]\n",
        "report.save()"
      ]
    },
    {
      "cell_type": "markdown",
      "metadata": {
        "id": "ztNFjEtw7NDW"
      },
      "source": [
        "## How can I create report templates?\n",
        "- See some of the examples in `wr.templates`\n",
        "- The most straightforward way is to create a function that returns your target report and/or its blocks."
      ]
    },
    {
      "cell_type": "markdown",
      "metadata": {
        "id": "_4rXmMFF7NDW"
      },
      "source": [
        "### A basic template\n",
        "- Just use a function"
      ]
    },
    {
      "cell_type": "code",
      "execution_count": 26,
      "metadata": {
        "id": "uJE73hdx7NDW"
      },
      "outputs": [],
      "source": [
        "def my_report_template(title, description, project, metric):\n",
        "    return wr.Report(\n",
        "        title=title,\n",
        "        description=description,\n",
        "        project=project,\n",
        "        blocks=[\n",
        "            wr.H1(f\"Look at our amazing metric called `{metric}`\"),\n",
        "            wr.PanelGrid(\n",
        "                panels=[wr.LinePlot(x='Step', y=metric, layout={'w': 24, 'h': 8})],\n",
        "            )\n",
        "        ]\n",
        "    ).save()"
      ]
    },
    {
      "cell_type": "code",
      "execution_count": null,
      "metadata": {
        "id": "M6l8AqaX7NDW"
      },
      "outputs": [],
      "source": [
        "my_report_template('My templated report', \"Here's an example of how you can make a function for templates\", PROJECT, 'val_acc')"
      ]
    },
    {
      "cell_type": "markdown",
      "metadata": {
        "id": "x3Qyy5Gt7NDW"
      },
      "source": [
        "### More advanced templates"
      ]
    },
    {
      "cell_type": "code",
      "execution_count": null,
      "metadata": {
        "id": "npO4aqQJ7NDW"
      },
      "outputs": [],
      "source": [
        "def create_header():\n",
        "  return [\n",
        "    wr.P(),\n",
        "    wr.HorizontalRule(),\n",
        "    wr.P(),\n",
        "    wr.Image(\n",
        "      \"https://camo.githubusercontent.com/83839f20c90facc062330f8fee5a7ab910fdd04b80b4c4c7e89d6d8137543540/68747470733a2f2f692e696d6775722e636f6d2f676236423469672e706e67\"\n",
        "    ),\n",
        "    wr.P(),\n",
        "    wr.HorizontalRule(),\n",
        "    wr.P(),\n",
        "  ]\n",
        "\n",
        "def create_footer():\n",
        "  return [\n",
        "    wr.P(),\n",
        "    wr.HorizontalRule(),\n",
        "    wr.P(),\n",
        "    wr.H1(\"Disclaimer\"),\n",
        "    wr.P(\n",
        "      \"The views and opinions expressed in this report are those of the authors and do not necessarily reflect the official policy or position of Weights & Biases. blah blah blah blah blah boring text at the bottom\"\n",
        "    ),\n",
        "    wr.P(),\n",
        "    wr.HorizontalRule(),\n",
        "  ]\n",
        "\n",
        "def create_main_content(metric):\n",
        "  return [\n",
        "    wr.H1(f\"Look at our amazing metric called `{metric}`\"),\n",
        "    wr.PanelGrid(\n",
        "      panels=[wr.LinePlot(x='Step', y=metric, layout={'w': 24, 'h': 8})],\n",
        "    )\n",
        "  ]\n",
        "\n",
        "def create_templated_report_with_header_and_footer(title, project, metric):\n",
        "  return wr.Report(\n",
        "    title=title,\n",
        "    project=project,\n",
        "    blocks=[\n",
        "      *create_header(),\n",
        "      *create_main_content(metric),\n",
        "      *create_footer(),\n",
        "    ]).save()"
      ]
    },
    {
      "cell_type": "code",
      "execution_count": null,
      "metadata": {
        "id": "eGesmbFr7NDW"
      },
      "outputs": [],
      "source": [
        "create_templated_report_with_header_and_footer(title=\"Another templated report\", project=PROJECT, metric='val_acc')"
      ]
    },
    {
      "cell_type": "markdown",
      "metadata": {
        "id": "ILh2Y-Ny7NDW"
      },
      "source": [
        "# 📌 Complete Examples <a id='complete_examples'></a>"
      ]
    },
    {
      "cell_type": "markdown",
      "metadata": {
        "id": "S9xQQ2hf7NDW"
      },
      "source": [
        "## Reinforcement Learning (RL)"
      ]
    },
    {
      "cell_type": "code",
      "execution_count": 25,
      "metadata": {
        "colab": {
          "base_uri": "https://localhost:8080/",
          "height": 384
        },
        "id": "wzQoQlvs7NDW",
        "outputId": "84c8cff3-c91b-455f-9d1e-11bf8590361f"
      },
      "outputs": [
        {
          "output_type": "error",
          "ename": "ValidationError",
          "evalue": "1 validation error for MediaBrowser\nmedia_keys\n  Input should be a valid list [type=list_type, input_value='videos', input_type=str]\n    For further information visit https://errors.pydantic.dev/2.8/v/list_type",
          "traceback": [
            "\u001b[0;31m---------------------------------------------------------------------------\u001b[0m",
            "\u001b[0;31mValidationError\u001b[0m                           Traceback (most recent call last)",
            "\u001b[0;32m<ipython-input-25-d71fee6e698c>\u001b[0m in \u001b[0;36m<cell line: 1>\u001b[0;34m()\u001b[0m\n\u001b[1;32m     11\u001b[0m             panels=[\n\u001b[1;32m     12\u001b[0m                 \u001b[0mwr\u001b[0m\u001b[0;34m.\u001b[0m\u001b[0mLinePlot\u001b[0m\u001b[0;34m(\u001b[0m\u001b[0mx\u001b[0m\u001b[0;34m=\u001b[0m\u001b[0;34m'global_step'\u001b[0m\u001b[0;34m,\u001b[0m \u001b[0my\u001b[0m\u001b[0;34m=\u001b[0m\u001b[0;34m[\u001b[0m\u001b[0;34m'charts/episodic_return'\u001b[0m\u001b[0;34m]\u001b[0m\u001b[0;34m,\u001b[0m \u001b[0msmoothing_factor\u001b[0m\u001b[0;34m=\u001b[0m\u001b[0;36m0.85\u001b[0m\u001b[0;34m,\u001b[0m \u001b[0mgroupby_aggfunc\u001b[0m\u001b[0;34m=\u001b[0m\u001b[0;34m'mean'\u001b[0m\u001b[0;34m,\u001b[0m \u001b[0mgroupby_rangefunc\u001b[0m\u001b[0;34m=\u001b[0m\u001b[0;34m'minmax'\u001b[0m\u001b[0;34m,\u001b[0m \u001b[0mlayout\u001b[0m\u001b[0;34m=\u001b[0m\u001b[0;34m{\u001b[0m\u001b[0;34m'x'\u001b[0m\u001b[0;34m:\u001b[0m \u001b[0;36m0\u001b[0m\u001b[0;34m,\u001b[0m \u001b[0;34m'y'\u001b[0m\u001b[0;34m:\u001b[0m \u001b[0;36m0\u001b[0m\u001b[0;34m,\u001b[0m \u001b[0;34m'w'\u001b[0m\u001b[0;34m:\u001b[0m \u001b[0;36m12\u001b[0m\u001b[0;34m,\u001b[0m \u001b[0;34m'h'\u001b[0m\u001b[0;34m:\u001b[0m \u001b[0;36m8\u001b[0m\u001b[0;34m}\u001b[0m\u001b[0;34m)\u001b[0m\u001b[0;34m,\u001b[0m\u001b[0;34m\u001b[0m\u001b[0;34m\u001b[0m\u001b[0m\n\u001b[0;32m---> 13\u001b[0;31m                 \u001b[0mwr\u001b[0m\u001b[0;34m.\u001b[0m\u001b[0mMediaBrowser\u001b[0m\u001b[0;34m(\u001b[0m\u001b[0mmedia_keys\u001b[0m\u001b[0;34m=\u001b[0m\u001b[0;34m\"videos\"\u001b[0m\u001b[0;34m,\u001b[0m \u001b[0mnum_columns\u001b[0m\u001b[0;34m=\u001b[0m\u001b[0;36m4\u001b[0m\u001b[0;34m,\u001b[0m \u001b[0mlayout\u001b[0m\u001b[0;34m=\u001b[0m\u001b[0;34m{\u001b[0m\u001b[0;34m'w'\u001b[0m\u001b[0;34m:\u001b[0m \u001b[0;36m12\u001b[0m\u001b[0;34m,\u001b[0m \u001b[0;34m'h'\u001b[0m\u001b[0;34m:\u001b[0m \u001b[0;36m8\u001b[0m\u001b[0;34m}\u001b[0m\u001b[0;34m)\u001b[0m\u001b[0;34m,\u001b[0m\u001b[0;34m\u001b[0m\u001b[0;34m\u001b[0m\u001b[0m\n\u001b[0m\u001b[1;32m     14\u001b[0m             ],\n\u001b[1;32m     15\u001b[0m             runsets=[\n",
            "\u001b[0;32m/usr/local/lib/python3.10/dist-packages/pydantic/_internal/_dataclasses.py\u001b[0m in \u001b[0;36m__init__\u001b[0;34m(__dataclass_self__, *args, **kwargs)\u001b[0m\n\u001b[1;32m    139\u001b[0m         \u001b[0m__tracebackhide__\u001b[0m \u001b[0;34m=\u001b[0m \u001b[0;32mTrue\u001b[0m\u001b[0;34m\u001b[0m\u001b[0;34m\u001b[0m\u001b[0m\n\u001b[1;32m    140\u001b[0m         \u001b[0ms\u001b[0m \u001b[0;34m=\u001b[0m \u001b[0m__dataclass_self__\u001b[0m\u001b[0;34m\u001b[0m\u001b[0;34m\u001b[0m\u001b[0m\n\u001b[0;32m--> 141\u001b[0;31m         \u001b[0ms\u001b[0m\u001b[0;34m.\u001b[0m\u001b[0m__pydantic_validator__\u001b[0m\u001b[0;34m.\u001b[0m\u001b[0mvalidate_python\u001b[0m\u001b[0;34m(\u001b[0m\u001b[0mArgsKwargs\u001b[0m\u001b[0;34m(\u001b[0m\u001b[0margs\u001b[0m\u001b[0;34m,\u001b[0m \u001b[0mkwargs\u001b[0m\u001b[0;34m)\u001b[0m\u001b[0;34m,\u001b[0m \u001b[0mself_instance\u001b[0m\u001b[0;34m=\u001b[0m\u001b[0ms\u001b[0m\u001b[0;34m)\u001b[0m\u001b[0;34m\u001b[0m\u001b[0;34m\u001b[0m\u001b[0m\n\u001b[0m\u001b[1;32m    142\u001b[0m \u001b[0;34m\u001b[0m\u001b[0m\n\u001b[1;32m    143\u001b[0m     \u001b[0m__init__\u001b[0m\u001b[0;34m.\u001b[0m\u001b[0m__qualname__\u001b[0m \u001b[0;34m=\u001b[0m \u001b[0;34mf'{cls.__qualname__}.__init__'\u001b[0m\u001b[0;34m\u001b[0m\u001b[0;34m\u001b[0m\u001b[0m\n",
            "\u001b[0;31mValidationError\u001b[0m: 1 validation error for MediaBrowser\nmedia_keys\n  Input should be a valid list [type=list_type, input_value='videos', input_type=str]\n    For further information visit https://errors.pydantic.dev/2.8/v/list_type"
          ]
        }
      ],
      "source": [
        "wr.Report(\n",
        "    project=PROJECT,\n",
        "    title='Reinforcement Learning Report',\n",
        "    description='Aut totam dolores aut galisum atque aut placeat quia. Vel quisquam omnis ut quibusdam doloremque a delectus quia in omnis deserunt. Quo ipsum beatae aut veniam earum non ipsa reiciendis et fugiat asperiores est veritatis magni et corrupti internos. Ut quis libero ut alias reiciendis et animi delectus.',\n",
        "    blocks=[\n",
        "        wr.TableOfContents(),\n",
        "        wr.H1(\"Ea quidem illo est dolorem illo.\"),\n",
        "        wr.P(\"Lorem ipsum dolor sit amet, consectetur adipiscing elit. Sed ac eros ut nunc venenatis tincidunt vel ut dolor. Sed sed felis dictum, congue risus vel, aliquet dolor. Donec ut risus vel leo dictum tristique. Nunc sed urna mi. Morbi nulla turpis, vehicula eu maximus ut, gravida id libero. Duis porta risus leo, quis lobortis enim ultrices a. Donec quam augue, vestibulum vitae mollis at, tincidunt non orci. Morbi faucibus dignissim tempor. Vestibulum ornare augue a orci tincidunt porta. Pellentesque et ante et purus gravida euismod. Maecenas sit amet sollicitudin felis, sed egestas nunc.\"),\n",
        "        wr.H2('Et sunt sunt eum asperiores ratione.'),\n",
        "        wr.PanelGrid(\n",
        "            panels=[\n",
        "                wr.LinePlot(x='global_step', y=['charts/episodic_return'], smoothing_factor=0.85, groupby_aggfunc='mean', groupby_rangefunc='minmax', layout={'x': 0, 'y': 0, 'w': 12, 'h': 8}),\n",
        "                wr.MediaBrowser(media_keys=\"videos\", num_columns=4, layout={'w': 12, 'h': 8}),\n",
        "            ],\n",
        "            runsets=[\n",
        "                wr.Runset(entity='openrlbenchmark', project='cleanrl', query='bigfish', groupby=['env_id', 'exp_name'])\n",
        "            ],\n",
        "            custom_run_colors={\n",
        "                ('Run set', 'bigfish', 'ppg_procgen'): \"#2980b9\",\n",
        "                ('Run set', 'bigfish', 'ppo_procgen'): \"#e74c3c\",\n",
        "            }\n",
        "        ),\n",
        "        wr.H2('Sit officia inventore non omnis deleniti.'),\n",
        "        wr.PanelGrid(\n",
        "            panels=[\n",
        "                wr.LinePlot(x='global_step', y=['charts/episodic_return'], smoothing_factor=0.85, groupby_aggfunc='mean', groupby_rangefunc='minmax', layout={'x': 0, 'y': 0, 'w': 12, 'h': 8}),\n",
        "                wr.MediaBrowser(media_keys=\"videos\", num_columns=4, layout={'w': 12, 'h': 8}),\n",
        "            ],\n",
        "            runsets=[\n",
        "                wr.Runset(entity='openrlbenchmark', project='cleanrl', query='starpilot', groupby=['env_id', 'exp_name'])\n",
        "            ],\n",
        "            custom_run_colors={\n",
        "                ('Run set', 'starpilot', 'ppg_procgen'): \"#2980b9\",\n",
        "                ('Run set', 'starpilot', 'ppo_procgen'): \"#e74c3c\",\n",
        "            }\n",
        "        ),\n",
        "        wr.H2('Aut amet nesciunt vel quisquam repellendus sed labore voluptas.'),\n",
        "        wr.PanelGrid(\n",
        "            panels=[\n",
        "                wr.LinePlot(x='global_step', y=['charts/episodic_return'], smoothing_factor=0.85, groupby_aggfunc='mean', groupby_rangefunc='minmax', layout={'x': 0, 'y': 0, 'w': 12, 'h': 8}),\n",
        "                wr.MediaBrowser(media_keys=\"videos\", num_columns=4, layout={'x': 0, 'y': 0, 'w': 12, 'h': 8}),\n",
        "            ],\n",
        "            runsets=[\n",
        "                wr.Runset(entity='openrlbenchmark', project='cleanrl', query='bossfight', groupby=['env_id', 'exp_name'])\n",
        "            ],\n",
        "            custom_run_colors={\n",
        "                ('Run set', 'bossfight', 'ppg_procgen'): \"#2980b9\",\n",
        "                ('Run set', 'bossfight', 'ppo_procgen'): \"#e74c3c\",\n",
        "            }\n",
        "        ),\n",
        "        wr.HorizontalRule(),\n",
        "        wr.H1(\"Sed consectetur vero et voluptas voluptatem et adipisci blanditiis.\"),\n",
        "        wr.P(\"Sit aliquid repellendus et numquam provident quo quaerat earum 33 sunt illo et quos voluptate est officia deleniti. Vel architecto nulla ex nulla voluptatibus qui saepe officiis quo illo excepturi ea dolorum reprehenderit.\"),\n",
        "        wr.H2(\"Qui debitis iure 33 voluptatum eligendi.\"),\n",
        "        wr.P(\"Non veniam laudantium et fugit distinctio qui aliquid eius sed laudantium consequatur et quia perspiciatis. Et odio inventore est voluptas fugiat id perspiciatis dolorum et perferendis recusandae vel Quis odio 33 beatae veritatis. Ex sunt accusamus aut soluta eligendi sed perspiciatis maxime 33 dolorem dolorum est aperiam minima. Et earum rerum eos illo sint eos temporibus similique ea fuga iste sed quia soluta sit doloribus corporis sed tenetur excepturi?\"),\n",
        "        wr.PanelGrid(\n",
        "            panels=[\n",
        "                wr.LinePlot(x='global_step', y=['charts/SPS']),\n",
        "                wr.LinePlot(x='global_step', y=['charts/episodic_length']),\n",
        "                wr.LinePlot(x='global_step', y=['charts/episodic_return']),\n",
        "            ],\n",
        "            runsets=[\n",
        "                wr.Runset(\"openrlbenchmark\", \"cleanrl\", \"DQN\", groupby=[\"exp_name\"]).set_filters_with_python_expr(\"env_id == 'BreakoutNoFrameskip-v4' and exp_name == 'dqn_atari'\"),\n",
        "                wr.Runset(\"openrlbenchmark\", \"cleanrl\", \"SAC-discrete 0.8\", groupby=[\"exp_name\"]).set_filters_with_python_expr(\"env_id == 'BreakoutNoFrameskip-v4' and exp_name == 'sac_atari' and target_entropy_scale == 0.8\"),\n",
        "                wr.Runset(\"openrlbenchmark\", \"cleanrl\", \"SAC-discrete 0.88\", groupby=[\"exp_name\"]).set_filters_with_python_expr(\"env_id == 'BreakoutNoFrameskip-v4' and exp_name == 'sac_atari' and target_entropy_scale == 0.88\"),\n",
        "            ],\n",
        "            custom_run_colors={\n",
        "                ('DQN',               'dqn_atari'): '#e84118',\n",
        "                ('SAC-discrete 0.8',  'sac_atari'): '#fbc531',\n",
        "                ('SAC-discrete 0.88', 'sac_atari'): '#00a8ff',\n",
        "            }\n",
        "        ),\n",
        "    ]\n",
        ").save()"
      ]
    },
    {
      "cell_type": "markdown",
      "metadata": {
        "id": "lKzeGFRg7NDW"
      },
      "source": [
        "## Customer Landing Page"
      ]
    },
    {
      "cell_type": "code",
      "execution_count": null,
      "metadata": {
        "id": "LyayakfB7NDW"
      },
      "outputs": [],
      "source": [
        "report = wr.templates.create_customer_landing_page(\n",
        "    project=PROJECT,\n",
        "    company_name='Company',\n",
        "    main_contact='Contact McContact (email@company.com)',\n",
        "    slack_link='https://company.slack.com/blah',\n",
        ")\n",
        "report.save()"
      ]
    },
    {
      "cell_type": "markdown",
      "metadata": {
        "id": "n8fyWPPR7NDW"
      },
      "source": [
        "## Enterprise Report with Branded Header and Footer"
      ]
    },
    {
      "cell_type": "code",
      "execution_count": null,
      "metadata": {
        "id": "VzeSgfz77NDW"
      },
      "outputs": [],
      "source": [
        "report = wr.templates.create_enterprise_report(\n",
        "    project=PROJECT,\n",
        "    body=[\n",
        "        wr.H1(\"Ea quidem illo est dolorem illo.\"),\n",
        "        wr.P(\"Lorem ipsum dolor sit amet, consectetur adipiscing elit. Sed ac eros ut nunc venenatis tincidunt vel ut dolor. Sed sed felis dictum, congue risus vel, aliquet dolor. Donec ut risus vel leo dictum tristique. Nunc sed urna mi. Morbi nulla turpis, vehicula eu maximus ut, gravida id libero. Duis porta risus leo, quis lobortis enim ultrices a. Donec quam augue, vestibulum vitae mollis at, tincidunt non orci. Morbi faucibus dignissim tempor. Vestibulum ornare augue a orci tincidunt porta. Pellentesque et ante et purus gravida euismod. Maecenas sit amet sollicitudin felis, sed egestas nunc.\"),\n",
        "        wr.H2('Et sunt sunt eum asperiores ratione.'),\n",
        "        wr.PanelGrid(\n",
        "            panels=[\n",
        "                wr.LinePlot(x='global_step', y=['charts/episodic_return'], smoothing_factor=0.85, groupby_aggfunc='mean', groupby_rangefunc='minmax', layout={'x': 0, 'y': 0, 'w': 12, 'h': 8}),\n",
        "                wr.MediaBrowser(media_keys=\"videos\", num_columns=4, layout={'w': 12, 'h': 8}),\n",
        "            ],\n",
        "            runsets=[\n",
        "                wr.Runset(entity='openrlbenchmark', project='cleanrl', query='bigfish', groupby=['env_id', 'exp_name'])\n",
        "            ],\n",
        "            custom_run_colors={\n",
        "                ('Run set', 'bigfish', 'ppg_procgen'): \"#2980b9\",\n",
        "                ('Run set', 'bigfish', 'ppo_procgen'): \"#e74c3c\",\n",
        "            }\n",
        "        ),\n",
        "        wr.H2('Sit officia inventore non omnis deleniti.'),\n",
        "        wr.PanelGrid(\n",
        "            panels=[\n",
        "                wr.LinePlot(x='global_step', y=['charts/episodic_return'], smoothing_factor=0.85, groupby_aggfunc='mean', groupby_rangefunc='minmax', layout={'x': 0, 'y': 0, 'w': 12, 'h': 8}),\n",
        "                wr.MediaBrowser(media_keys=\"videos\", num_columns=4, layout={'w': 12, 'h': 8}),\n",
        "            ],\n",
        "            runsets=[\n",
        "                wr.Runset(entity='openrlbenchmark', project='cleanrl', query='starpilot', groupby=['env_id', 'exp_name'])\n",
        "            ],\n",
        "            custom_run_colors={\n",
        "                ('Run set', 'starpilot', 'ppg_procgen'): \"#2980b9\",\n",
        "                ('Run set', 'starpilot', 'ppo_procgen'): \"#e74c3c\",\n",
        "            }\n",
        "        ),\n",
        "    ]\n",
        ")\n",
        "report.save()"
      ]
    }
  ],
  "metadata": {
    "accelerator": "GPU",
    "colab": {
      "provenance": [],
      "toc_visible": true,
      "include_colab_link": true
    },
    "kernelspec": {
      "display_name": "Python 3",
      "name": "python3"
    },
    "widgets": {
      "application/vnd.jupyter.widget-state+json": {
        "cc8a1942379a4d4a9e25275ebbabfec8": {
          "model_module": "@jupyter-widgets/controls",
          "model_name": "VBoxModel",
          "model_module_version": "1.5.0",
          "state": {
            "_dom_classes": [],
            "_model_module": "@jupyter-widgets/controls",
            "_model_module_version": "1.5.0",
            "_model_name": "VBoxModel",
            "_view_count": null,
            "_view_module": "@jupyter-widgets/controls",
            "_view_module_version": "1.5.0",
            "_view_name": "VBoxView",
            "box_style": "",
            "children": [
              "IPY_MODEL_caea23de078046b8908bd1ff567b09a2",
              "IPY_MODEL_90edc6c8d6954e17bcb733b230f48083"
            ],
            "layout": "IPY_MODEL_45bd35eed5144ea4a6f2255e258dea67"
          }
        },
        "caea23de078046b8908bd1ff567b09a2": {
          "model_module": "@jupyter-widgets/controls",
          "model_name": "LabelModel",
          "model_module_version": "1.5.0",
          "state": {
            "_dom_classes": [],
            "_model_module": "@jupyter-widgets/controls",
            "_model_module_version": "1.5.0",
            "_model_name": "LabelModel",
            "_view_count": null,
            "_view_module": "@jupyter-widgets/controls",
            "_view_module_version": "1.5.0",
            "_view_name": "LabelView",
            "description": "",
            "description_tooltip": null,
            "layout": "IPY_MODEL_e5e3b656910744449413cb066df4f3ab",
            "placeholder": "​",
            "style": "IPY_MODEL_cb17ed4e32ff4a208f40ad0d13a18410",
            "value": "0.102 MB of 0.102 MB uploaded\r"
          }
        },
        "90edc6c8d6954e17bcb733b230f48083": {
          "model_module": "@jupyter-widgets/controls",
          "model_name": "FloatProgressModel",
          "model_module_version": "1.5.0",
          "state": {
            "_dom_classes": [],
            "_model_module": "@jupyter-widgets/controls",
            "_model_module_version": "1.5.0",
            "_model_name": "FloatProgressModel",
            "_view_count": null,
            "_view_module": "@jupyter-widgets/controls",
            "_view_module_version": "1.5.0",
            "_view_name": "ProgressView",
            "bar_style": "",
            "description": "",
            "description_tooltip": null,
            "layout": "IPY_MODEL_bc7ca871032341be88598a89cbe2890c",
            "max": 1,
            "min": 0,
            "orientation": "horizontal",
            "style": "IPY_MODEL_e6cd73414fe7451ea33f90cc1895fc4a",
            "value": 1
          }
        },
        "45bd35eed5144ea4a6f2255e258dea67": {
          "model_module": "@jupyter-widgets/base",
          "model_name": "LayoutModel",
          "model_module_version": "1.2.0",
          "state": {
            "_model_module": "@jupyter-widgets/base",
            "_model_module_version": "1.2.0",
            "_model_name": "LayoutModel",
            "_view_count": null,
            "_view_module": "@jupyter-widgets/base",
            "_view_module_version": "1.2.0",
            "_view_name": "LayoutView",
            "align_content": null,
            "align_items": null,
            "align_self": null,
            "border": null,
            "bottom": null,
            "display": null,
            "flex": null,
            "flex_flow": null,
            "grid_area": null,
            "grid_auto_columns": null,
            "grid_auto_flow": null,
            "grid_auto_rows": null,
            "grid_column": null,
            "grid_gap": null,
            "grid_row": null,
            "grid_template_areas": null,
            "grid_template_columns": null,
            "grid_template_rows": null,
            "height": null,
            "justify_content": null,
            "justify_items": null,
            "left": null,
            "margin": null,
            "max_height": null,
            "max_width": null,
            "min_height": null,
            "min_width": null,
            "object_fit": null,
            "object_position": null,
            "order": null,
            "overflow": null,
            "overflow_x": null,
            "overflow_y": null,
            "padding": null,
            "right": null,
            "top": null,
            "visibility": null,
            "width": null
          }
        },
        "e5e3b656910744449413cb066df4f3ab": {
          "model_module": "@jupyter-widgets/base",
          "model_name": "LayoutModel",
          "model_module_version": "1.2.0",
          "state": {
            "_model_module": "@jupyter-widgets/base",
            "_model_module_version": "1.2.0",
            "_model_name": "LayoutModel",
            "_view_count": null,
            "_view_module": "@jupyter-widgets/base",
            "_view_module_version": "1.2.0",
            "_view_name": "LayoutView",
            "align_content": null,
            "align_items": null,
            "align_self": null,
            "border": null,
            "bottom": null,
            "display": null,
            "flex": null,
            "flex_flow": null,
            "grid_area": null,
            "grid_auto_columns": null,
            "grid_auto_flow": null,
            "grid_auto_rows": null,
            "grid_column": null,
            "grid_gap": null,
            "grid_row": null,
            "grid_template_areas": null,
            "grid_template_columns": null,
            "grid_template_rows": null,
            "height": null,
            "justify_content": null,
            "justify_items": null,
            "left": null,
            "margin": null,
            "max_height": null,
            "max_width": null,
            "min_height": null,
            "min_width": null,
            "object_fit": null,
            "object_position": null,
            "order": null,
            "overflow": null,
            "overflow_x": null,
            "overflow_y": null,
            "padding": null,
            "right": null,
            "top": null,
            "visibility": null,
            "width": null
          }
        },
        "cb17ed4e32ff4a208f40ad0d13a18410": {
          "model_module": "@jupyter-widgets/controls",
          "model_name": "DescriptionStyleModel",
          "model_module_version": "1.5.0",
          "state": {
            "_model_module": "@jupyter-widgets/controls",
            "_model_module_version": "1.5.0",
            "_model_name": "DescriptionStyleModel",
            "_view_count": null,
            "_view_module": "@jupyter-widgets/base",
            "_view_module_version": "1.2.0",
            "_view_name": "StyleView",
            "description_width": ""
          }
        },
        "bc7ca871032341be88598a89cbe2890c": {
          "model_module": "@jupyter-widgets/base",
          "model_name": "LayoutModel",
          "model_module_version": "1.2.0",
          "state": {
            "_model_module": "@jupyter-widgets/base",
            "_model_module_version": "1.2.0",
            "_model_name": "LayoutModel",
            "_view_count": null,
            "_view_module": "@jupyter-widgets/base",
            "_view_module_version": "1.2.0",
            "_view_name": "LayoutView",
            "align_content": null,
            "align_items": null,
            "align_self": null,
            "border": null,
            "bottom": null,
            "display": null,
            "flex": null,
            "flex_flow": null,
            "grid_area": null,
            "grid_auto_columns": null,
            "grid_auto_flow": null,
            "grid_auto_rows": null,
            "grid_column": null,
            "grid_gap": null,
            "grid_row": null,
            "grid_template_areas": null,
            "grid_template_columns": null,
            "grid_template_rows": null,
            "height": null,
            "justify_content": null,
            "justify_items": null,
            "left": null,
            "margin": null,
            "max_height": null,
            "max_width": null,
            "min_height": null,
            "min_width": null,
            "object_fit": null,
            "object_position": null,
            "order": null,
            "overflow": null,
            "overflow_x": null,
            "overflow_y": null,
            "padding": null,
            "right": null,
            "top": null,
            "visibility": null,
            "width": null
          }
        },
        "e6cd73414fe7451ea33f90cc1895fc4a": {
          "model_module": "@jupyter-widgets/controls",
          "model_name": "ProgressStyleModel",
          "model_module_version": "1.5.0",
          "state": {
            "_model_module": "@jupyter-widgets/controls",
            "_model_module_version": "1.5.0",
            "_model_name": "ProgressStyleModel",
            "_view_count": null,
            "_view_module": "@jupyter-widgets/base",
            "_view_module_version": "1.2.0",
            "_view_name": "StyleView",
            "bar_color": null,
            "description_width": ""
          }
        },
        "97c3ee1ec4d2478bb539eb8d9e1fae10": {
          "model_module": "@jupyter-widgets/controls",
          "model_name": "VBoxModel",
          "model_module_version": "1.5.0",
          "state": {
            "_dom_classes": [],
            "_model_module": "@jupyter-widgets/controls",
            "_model_module_version": "1.5.0",
            "_model_name": "VBoxModel",
            "_view_count": null,
            "_view_module": "@jupyter-widgets/controls",
            "_view_module_version": "1.5.0",
            "_view_name": "VBoxView",
            "box_style": "",
            "children": [
              "IPY_MODEL_03c6b34298de4672b12a82d6974e832d",
              "IPY_MODEL_da7804beb2124c9ea8117d00307e2230"
            ],
            "layout": "IPY_MODEL_db81d4c76d754a77afd19ee245deef08"
          }
        },
        "03c6b34298de4672b12a82d6974e832d": {
          "model_module": "@jupyter-widgets/controls",
          "model_name": "LabelModel",
          "model_module_version": "1.5.0",
          "state": {
            "_dom_classes": [],
            "_model_module": "@jupyter-widgets/controls",
            "_model_module_version": "1.5.0",
            "_model_name": "LabelModel",
            "_view_count": null,
            "_view_module": "@jupyter-widgets/controls",
            "_view_module_version": "1.5.0",
            "_view_name": "LabelView",
            "description": "",
            "description_tooltip": null,
            "layout": "IPY_MODEL_4c013f4912974ac895909519b52b9a93",
            "placeholder": "​",
            "style": "IPY_MODEL_66ece129626a4ba7b832640ac3c50ec6",
            "value": "0.113 MB of 0.113 MB uploaded (0.009 MB deduped)\r"
          }
        },
        "da7804beb2124c9ea8117d00307e2230": {
          "model_module": "@jupyter-widgets/controls",
          "model_name": "FloatProgressModel",
          "model_module_version": "1.5.0",
          "state": {
            "_dom_classes": [],
            "_model_module": "@jupyter-widgets/controls",
            "_model_module_version": "1.5.0",
            "_model_name": "FloatProgressModel",
            "_view_count": null,
            "_view_module": "@jupyter-widgets/controls",
            "_view_module_version": "1.5.0",
            "_view_name": "ProgressView",
            "bar_style": "",
            "description": "",
            "description_tooltip": null,
            "layout": "IPY_MODEL_bb6dead6c0ef40f5a2f54fb0b1918df0",
            "max": 1,
            "min": 0,
            "orientation": "horizontal",
            "style": "IPY_MODEL_8b0ca9cfd1a74204a06e269d3dd51694",
            "value": 1
          }
        },
        "db81d4c76d754a77afd19ee245deef08": {
          "model_module": "@jupyter-widgets/base",
          "model_name": "LayoutModel",
          "model_module_version": "1.2.0",
          "state": {
            "_model_module": "@jupyter-widgets/base",
            "_model_module_version": "1.2.0",
            "_model_name": "LayoutModel",
            "_view_count": null,
            "_view_module": "@jupyter-widgets/base",
            "_view_module_version": "1.2.0",
            "_view_name": "LayoutView",
            "align_content": null,
            "align_items": null,
            "align_self": null,
            "border": null,
            "bottom": null,
            "display": null,
            "flex": null,
            "flex_flow": null,
            "grid_area": null,
            "grid_auto_columns": null,
            "grid_auto_flow": null,
            "grid_auto_rows": null,
            "grid_column": null,
            "grid_gap": null,
            "grid_row": null,
            "grid_template_areas": null,
            "grid_template_columns": null,
            "grid_template_rows": null,
            "height": null,
            "justify_content": null,
            "justify_items": null,
            "left": null,
            "margin": null,
            "max_height": null,
            "max_width": null,
            "min_height": null,
            "min_width": null,
            "object_fit": null,
            "object_position": null,
            "order": null,
            "overflow": null,
            "overflow_x": null,
            "overflow_y": null,
            "padding": null,
            "right": null,
            "top": null,
            "visibility": null,
            "width": null
          }
        },
        "4c013f4912974ac895909519b52b9a93": {
          "model_module": "@jupyter-widgets/base",
          "model_name": "LayoutModel",
          "model_module_version": "1.2.0",
          "state": {
            "_model_module": "@jupyter-widgets/base",
            "_model_module_version": "1.2.0",
            "_model_name": "LayoutModel",
            "_view_count": null,
            "_view_module": "@jupyter-widgets/base",
            "_view_module_version": "1.2.0",
            "_view_name": "LayoutView",
            "align_content": null,
            "align_items": null,
            "align_self": null,
            "border": null,
            "bottom": null,
            "display": null,
            "flex": null,
            "flex_flow": null,
            "grid_area": null,
            "grid_auto_columns": null,
            "grid_auto_flow": null,
            "grid_auto_rows": null,
            "grid_column": null,
            "grid_gap": null,
            "grid_row": null,
            "grid_template_areas": null,
            "grid_template_columns": null,
            "grid_template_rows": null,
            "height": null,
            "justify_content": null,
            "justify_items": null,
            "left": null,
            "margin": null,
            "max_height": null,
            "max_width": null,
            "min_height": null,
            "min_width": null,
            "object_fit": null,
            "object_position": null,
            "order": null,
            "overflow": null,
            "overflow_x": null,
            "overflow_y": null,
            "padding": null,
            "right": null,
            "top": null,
            "visibility": null,
            "width": null
          }
        },
        "66ece129626a4ba7b832640ac3c50ec6": {
          "model_module": "@jupyter-widgets/controls",
          "model_name": "DescriptionStyleModel",
          "model_module_version": "1.5.0",
          "state": {
            "_model_module": "@jupyter-widgets/controls",
            "_model_module_version": "1.5.0",
            "_model_name": "DescriptionStyleModel",
            "_view_count": null,
            "_view_module": "@jupyter-widgets/base",
            "_view_module_version": "1.2.0",
            "_view_name": "StyleView",
            "description_width": ""
          }
        },
        "bb6dead6c0ef40f5a2f54fb0b1918df0": {
          "model_module": "@jupyter-widgets/base",
          "model_name": "LayoutModel",
          "model_module_version": "1.2.0",
          "state": {
            "_model_module": "@jupyter-widgets/base",
            "_model_module_version": "1.2.0",
            "_model_name": "LayoutModel",
            "_view_count": null,
            "_view_module": "@jupyter-widgets/base",
            "_view_module_version": "1.2.0",
            "_view_name": "LayoutView",
            "align_content": null,
            "align_items": null,
            "align_self": null,
            "border": null,
            "bottom": null,
            "display": null,
            "flex": null,
            "flex_flow": null,
            "grid_area": null,
            "grid_auto_columns": null,
            "grid_auto_flow": null,
            "grid_auto_rows": null,
            "grid_column": null,
            "grid_gap": null,
            "grid_row": null,
            "grid_template_areas": null,
            "grid_template_columns": null,
            "grid_template_rows": null,
            "height": null,
            "justify_content": null,
            "justify_items": null,
            "left": null,
            "margin": null,
            "max_height": null,
            "max_width": null,
            "min_height": null,
            "min_width": null,
            "object_fit": null,
            "object_position": null,
            "order": null,
            "overflow": null,
            "overflow_x": null,
            "overflow_y": null,
            "padding": null,
            "right": null,
            "top": null,
            "visibility": null,
            "width": null
          }
        },
        "8b0ca9cfd1a74204a06e269d3dd51694": {
          "model_module": "@jupyter-widgets/controls",
          "model_name": "ProgressStyleModel",
          "model_module_version": "1.5.0",
          "state": {
            "_model_module": "@jupyter-widgets/controls",
            "_model_module_version": "1.5.0",
            "_model_name": "ProgressStyleModel",
            "_view_count": null,
            "_view_module": "@jupyter-widgets/base",
            "_view_module_version": "1.2.0",
            "_view_name": "StyleView",
            "bar_color": null,
            "description_width": ""
          }
        },
        "3bfe6893316845e59105dc3b4972c052": {
          "model_module": "@jupyter-widgets/controls",
          "model_name": "VBoxModel",
          "model_module_version": "1.5.0",
          "state": {
            "_dom_classes": [],
            "_model_module": "@jupyter-widgets/controls",
            "_model_module_version": "1.5.0",
            "_model_name": "VBoxModel",
            "_view_count": null,
            "_view_module": "@jupyter-widgets/controls",
            "_view_module_version": "1.5.0",
            "_view_name": "VBoxView",
            "box_style": "",
            "children": [
              "IPY_MODEL_c7260edeef2245c798b9a46209bf1b13",
              "IPY_MODEL_66c1dcf96a504bbfb7819942fdb10236"
            ],
            "layout": "IPY_MODEL_8b99f76414da47c786a5030ed82e8a4f"
          }
        },
        "c7260edeef2245c798b9a46209bf1b13": {
          "model_module": "@jupyter-widgets/controls",
          "model_name": "LabelModel",
          "model_module_version": "1.5.0",
          "state": {
            "_dom_classes": [],
            "_model_module": "@jupyter-widgets/controls",
            "_model_module_version": "1.5.0",
            "_model_name": "LabelModel",
            "_view_count": null,
            "_view_module": "@jupyter-widgets/controls",
            "_view_module_version": "1.5.0",
            "_view_name": "LabelView",
            "description": "",
            "description_tooltip": null,
            "layout": "IPY_MODEL_c475be00a6d641a0adf520957cd39087",
            "placeholder": "​",
            "style": "IPY_MODEL_ee2b88cd2b5247ccbcb0e640b873c11d",
            "value": "0.124 MB of 0.124 MB uploaded (0.009 MB deduped)\r"
          }
        },
        "66c1dcf96a504bbfb7819942fdb10236": {
          "model_module": "@jupyter-widgets/controls",
          "model_name": "FloatProgressModel",
          "model_module_version": "1.5.0",
          "state": {
            "_dom_classes": [],
            "_model_module": "@jupyter-widgets/controls",
            "_model_module_version": "1.5.0",
            "_model_name": "FloatProgressModel",
            "_view_count": null,
            "_view_module": "@jupyter-widgets/controls",
            "_view_module_version": "1.5.0",
            "_view_name": "ProgressView",
            "bar_style": "",
            "description": "",
            "description_tooltip": null,
            "layout": "IPY_MODEL_cbc886a502ce46859adcc7c39ce9d0f5",
            "max": 1,
            "min": 0,
            "orientation": "horizontal",
            "style": "IPY_MODEL_8dbdc901a44c4bc385a39533890bbb2d",
            "value": 1
          }
        },
        "8b99f76414da47c786a5030ed82e8a4f": {
          "model_module": "@jupyter-widgets/base",
          "model_name": "LayoutModel",
          "model_module_version": "1.2.0",
          "state": {
            "_model_module": "@jupyter-widgets/base",
            "_model_module_version": "1.2.0",
            "_model_name": "LayoutModel",
            "_view_count": null,
            "_view_module": "@jupyter-widgets/base",
            "_view_module_version": "1.2.0",
            "_view_name": "LayoutView",
            "align_content": null,
            "align_items": null,
            "align_self": null,
            "border": null,
            "bottom": null,
            "display": null,
            "flex": null,
            "flex_flow": null,
            "grid_area": null,
            "grid_auto_columns": null,
            "grid_auto_flow": null,
            "grid_auto_rows": null,
            "grid_column": null,
            "grid_gap": null,
            "grid_row": null,
            "grid_template_areas": null,
            "grid_template_columns": null,
            "grid_template_rows": null,
            "height": null,
            "justify_content": null,
            "justify_items": null,
            "left": null,
            "margin": null,
            "max_height": null,
            "max_width": null,
            "min_height": null,
            "min_width": null,
            "object_fit": null,
            "object_position": null,
            "order": null,
            "overflow": null,
            "overflow_x": null,
            "overflow_y": null,
            "padding": null,
            "right": null,
            "top": null,
            "visibility": null,
            "width": null
          }
        },
        "c475be00a6d641a0adf520957cd39087": {
          "model_module": "@jupyter-widgets/base",
          "model_name": "LayoutModel",
          "model_module_version": "1.2.0",
          "state": {
            "_model_module": "@jupyter-widgets/base",
            "_model_module_version": "1.2.0",
            "_model_name": "LayoutModel",
            "_view_count": null,
            "_view_module": "@jupyter-widgets/base",
            "_view_module_version": "1.2.0",
            "_view_name": "LayoutView",
            "align_content": null,
            "align_items": null,
            "align_self": null,
            "border": null,
            "bottom": null,
            "display": null,
            "flex": null,
            "flex_flow": null,
            "grid_area": null,
            "grid_auto_columns": null,
            "grid_auto_flow": null,
            "grid_auto_rows": null,
            "grid_column": null,
            "grid_gap": null,
            "grid_row": null,
            "grid_template_areas": null,
            "grid_template_columns": null,
            "grid_template_rows": null,
            "height": null,
            "justify_content": null,
            "justify_items": null,
            "left": null,
            "margin": null,
            "max_height": null,
            "max_width": null,
            "min_height": null,
            "min_width": null,
            "object_fit": null,
            "object_position": null,
            "order": null,
            "overflow": null,
            "overflow_x": null,
            "overflow_y": null,
            "padding": null,
            "right": null,
            "top": null,
            "visibility": null,
            "width": null
          }
        },
        "ee2b88cd2b5247ccbcb0e640b873c11d": {
          "model_module": "@jupyter-widgets/controls",
          "model_name": "DescriptionStyleModel",
          "model_module_version": "1.5.0",
          "state": {
            "_model_module": "@jupyter-widgets/controls",
            "_model_module_version": "1.5.0",
            "_model_name": "DescriptionStyleModel",
            "_view_count": null,
            "_view_module": "@jupyter-widgets/base",
            "_view_module_version": "1.2.0",
            "_view_name": "StyleView",
            "description_width": ""
          }
        },
        "cbc886a502ce46859adcc7c39ce9d0f5": {
          "model_module": "@jupyter-widgets/base",
          "model_name": "LayoutModel",
          "model_module_version": "1.2.0",
          "state": {
            "_model_module": "@jupyter-widgets/base",
            "_model_module_version": "1.2.0",
            "_model_name": "LayoutModel",
            "_view_count": null,
            "_view_module": "@jupyter-widgets/base",
            "_view_module_version": "1.2.0",
            "_view_name": "LayoutView",
            "align_content": null,
            "align_items": null,
            "align_self": null,
            "border": null,
            "bottom": null,
            "display": null,
            "flex": null,
            "flex_flow": null,
            "grid_area": null,
            "grid_auto_columns": null,
            "grid_auto_flow": null,
            "grid_auto_rows": null,
            "grid_column": null,
            "grid_gap": null,
            "grid_row": null,
            "grid_template_areas": null,
            "grid_template_columns": null,
            "grid_template_rows": null,
            "height": null,
            "justify_content": null,
            "justify_items": null,
            "left": null,
            "margin": null,
            "max_height": null,
            "max_width": null,
            "min_height": null,
            "min_width": null,
            "object_fit": null,
            "object_position": null,
            "order": null,
            "overflow": null,
            "overflow_x": null,
            "overflow_y": null,
            "padding": null,
            "right": null,
            "top": null,
            "visibility": null,
            "width": null
          }
        },
        "8dbdc901a44c4bc385a39533890bbb2d": {
          "model_module": "@jupyter-widgets/controls",
          "model_name": "ProgressStyleModel",
          "model_module_version": "1.5.0",
          "state": {
            "_model_module": "@jupyter-widgets/controls",
            "_model_module_version": "1.5.0",
            "_model_name": "ProgressStyleModel",
            "_view_count": null,
            "_view_module": "@jupyter-widgets/base",
            "_view_module_version": "1.2.0",
            "_view_name": "StyleView",
            "bar_color": null,
            "description_width": ""
          }
        },
        "60d7e99a8b4149ee90f6d33b60717e43": {
          "model_module": "@jupyter-widgets/controls",
          "model_name": "VBoxModel",
          "model_module_version": "1.5.0",
          "state": {
            "_dom_classes": [],
            "_model_module": "@jupyter-widgets/controls",
            "_model_module_version": "1.5.0",
            "_model_name": "VBoxModel",
            "_view_count": null,
            "_view_module": "@jupyter-widgets/controls",
            "_view_module_version": "1.5.0",
            "_view_name": "VBoxView",
            "box_style": "",
            "children": [
              "IPY_MODEL_003fc28238d743ffbd992033a2274db5",
              "IPY_MODEL_4552745a99984d1ab0ff63d6fdd2aec3"
            ],
            "layout": "IPY_MODEL_ae36822dc20f464e945cb15e443be96b"
          }
        },
        "003fc28238d743ffbd992033a2274db5": {
          "model_module": "@jupyter-widgets/controls",
          "model_name": "LabelModel",
          "model_module_version": "1.5.0",
          "state": {
            "_dom_classes": [],
            "_model_module": "@jupyter-widgets/controls",
            "_model_module_version": "1.5.0",
            "_model_name": "LabelModel",
            "_view_count": null,
            "_view_module": "@jupyter-widgets/controls",
            "_view_module_version": "1.5.0",
            "_view_name": "LabelView",
            "description": "",
            "description_tooltip": null,
            "layout": "IPY_MODEL_a67a3f3cd1bb45b59b2cd819987eeaea",
            "placeholder": "​",
            "style": "IPY_MODEL_bf2b3cdb872f4df3ba5fec5a296fbe9c",
            "value": "0.135 MB of 0.135 MB uploaded (0.009 MB deduped)\r"
          }
        },
        "4552745a99984d1ab0ff63d6fdd2aec3": {
          "model_module": "@jupyter-widgets/controls",
          "model_name": "FloatProgressModel",
          "model_module_version": "1.5.0",
          "state": {
            "_dom_classes": [],
            "_model_module": "@jupyter-widgets/controls",
            "_model_module_version": "1.5.0",
            "_model_name": "FloatProgressModel",
            "_view_count": null,
            "_view_module": "@jupyter-widgets/controls",
            "_view_module_version": "1.5.0",
            "_view_name": "ProgressView",
            "bar_style": "",
            "description": "",
            "description_tooltip": null,
            "layout": "IPY_MODEL_b58e5b7c0fc548c5b9cf7a3a625c25bd",
            "max": 1,
            "min": 0,
            "orientation": "horizontal",
            "style": "IPY_MODEL_258d98ee0caf45328ecba4920cd12046",
            "value": 1
          }
        },
        "ae36822dc20f464e945cb15e443be96b": {
          "model_module": "@jupyter-widgets/base",
          "model_name": "LayoutModel",
          "model_module_version": "1.2.0",
          "state": {
            "_model_module": "@jupyter-widgets/base",
            "_model_module_version": "1.2.0",
            "_model_name": "LayoutModel",
            "_view_count": null,
            "_view_module": "@jupyter-widgets/base",
            "_view_module_version": "1.2.0",
            "_view_name": "LayoutView",
            "align_content": null,
            "align_items": null,
            "align_self": null,
            "border": null,
            "bottom": null,
            "display": null,
            "flex": null,
            "flex_flow": null,
            "grid_area": null,
            "grid_auto_columns": null,
            "grid_auto_flow": null,
            "grid_auto_rows": null,
            "grid_column": null,
            "grid_gap": null,
            "grid_row": null,
            "grid_template_areas": null,
            "grid_template_columns": null,
            "grid_template_rows": null,
            "height": null,
            "justify_content": null,
            "justify_items": null,
            "left": null,
            "margin": null,
            "max_height": null,
            "max_width": null,
            "min_height": null,
            "min_width": null,
            "object_fit": null,
            "object_position": null,
            "order": null,
            "overflow": null,
            "overflow_x": null,
            "overflow_y": null,
            "padding": null,
            "right": null,
            "top": null,
            "visibility": null,
            "width": null
          }
        },
        "a67a3f3cd1bb45b59b2cd819987eeaea": {
          "model_module": "@jupyter-widgets/base",
          "model_name": "LayoutModel",
          "model_module_version": "1.2.0",
          "state": {
            "_model_module": "@jupyter-widgets/base",
            "_model_module_version": "1.2.0",
            "_model_name": "LayoutModel",
            "_view_count": null,
            "_view_module": "@jupyter-widgets/base",
            "_view_module_version": "1.2.0",
            "_view_name": "LayoutView",
            "align_content": null,
            "align_items": null,
            "align_self": null,
            "border": null,
            "bottom": null,
            "display": null,
            "flex": null,
            "flex_flow": null,
            "grid_area": null,
            "grid_auto_columns": null,
            "grid_auto_flow": null,
            "grid_auto_rows": null,
            "grid_column": null,
            "grid_gap": null,
            "grid_row": null,
            "grid_template_areas": null,
            "grid_template_columns": null,
            "grid_template_rows": null,
            "height": null,
            "justify_content": null,
            "justify_items": null,
            "left": null,
            "margin": null,
            "max_height": null,
            "max_width": null,
            "min_height": null,
            "min_width": null,
            "object_fit": null,
            "object_position": null,
            "order": null,
            "overflow": null,
            "overflow_x": null,
            "overflow_y": null,
            "padding": null,
            "right": null,
            "top": null,
            "visibility": null,
            "width": null
          }
        },
        "bf2b3cdb872f4df3ba5fec5a296fbe9c": {
          "model_module": "@jupyter-widgets/controls",
          "model_name": "DescriptionStyleModel",
          "model_module_version": "1.5.0",
          "state": {
            "_model_module": "@jupyter-widgets/controls",
            "_model_module_version": "1.5.0",
            "_model_name": "DescriptionStyleModel",
            "_view_count": null,
            "_view_module": "@jupyter-widgets/base",
            "_view_module_version": "1.2.0",
            "_view_name": "StyleView",
            "description_width": ""
          }
        },
        "b58e5b7c0fc548c5b9cf7a3a625c25bd": {
          "model_module": "@jupyter-widgets/base",
          "model_name": "LayoutModel",
          "model_module_version": "1.2.0",
          "state": {
            "_model_module": "@jupyter-widgets/base",
            "_model_module_version": "1.2.0",
            "_model_name": "LayoutModel",
            "_view_count": null,
            "_view_module": "@jupyter-widgets/base",
            "_view_module_version": "1.2.0",
            "_view_name": "LayoutView",
            "align_content": null,
            "align_items": null,
            "align_self": null,
            "border": null,
            "bottom": null,
            "display": null,
            "flex": null,
            "flex_flow": null,
            "grid_area": null,
            "grid_auto_columns": null,
            "grid_auto_flow": null,
            "grid_auto_rows": null,
            "grid_column": null,
            "grid_gap": null,
            "grid_row": null,
            "grid_template_areas": null,
            "grid_template_columns": null,
            "grid_template_rows": null,
            "height": null,
            "justify_content": null,
            "justify_items": null,
            "left": null,
            "margin": null,
            "max_height": null,
            "max_width": null,
            "min_height": null,
            "min_width": null,
            "object_fit": null,
            "object_position": null,
            "order": null,
            "overflow": null,
            "overflow_x": null,
            "overflow_y": null,
            "padding": null,
            "right": null,
            "top": null,
            "visibility": null,
            "width": null
          }
        },
        "258d98ee0caf45328ecba4920cd12046": {
          "model_module": "@jupyter-widgets/controls",
          "model_name": "ProgressStyleModel",
          "model_module_version": "1.5.0",
          "state": {
            "_model_module": "@jupyter-widgets/controls",
            "_model_module_version": "1.5.0",
            "_model_name": "ProgressStyleModel",
            "_view_count": null,
            "_view_module": "@jupyter-widgets/base",
            "_view_module_version": "1.2.0",
            "_view_name": "StyleView",
            "bar_color": null,
            "description_width": ""
          }
        },
        "59a9be80a3884a7d8678c38b38c76781": {
          "model_module": "@jupyter-widgets/controls",
          "model_name": "VBoxModel",
          "model_module_version": "1.5.0",
          "state": {
            "_dom_classes": [],
            "_model_module": "@jupyter-widgets/controls",
            "_model_module_version": "1.5.0",
            "_model_name": "VBoxModel",
            "_view_count": null,
            "_view_module": "@jupyter-widgets/controls",
            "_view_module_version": "1.5.0",
            "_view_name": "VBoxView",
            "box_style": "",
            "children": [
              "IPY_MODEL_0cb8bdb5e7d7470d955fedcd7f86a731",
              "IPY_MODEL_8d7056676e1d400e997b5ae95b3e4a1d"
            ],
            "layout": "IPY_MODEL_d5aa774587994387b85023ace6224c03"
          }
        },
        "0cb8bdb5e7d7470d955fedcd7f86a731": {
          "model_module": "@jupyter-widgets/controls",
          "model_name": "LabelModel",
          "model_module_version": "1.5.0",
          "state": {
            "_dom_classes": [],
            "_model_module": "@jupyter-widgets/controls",
            "_model_module_version": "1.5.0",
            "_model_name": "LabelModel",
            "_view_count": null,
            "_view_module": "@jupyter-widgets/controls",
            "_view_module_version": "1.5.0",
            "_view_name": "LabelView",
            "description": "",
            "description_tooltip": null,
            "layout": "IPY_MODEL_3b17a6c5882e4daf97d65192920bdaa5",
            "placeholder": "​",
            "style": "IPY_MODEL_8de24964596843048efa669f098d07a6",
            "value": "0.903 MB of 0.903 MB uploaded (0.009 MB deduped)\r"
          }
        },
        "8d7056676e1d400e997b5ae95b3e4a1d": {
          "model_module": "@jupyter-widgets/controls",
          "model_name": "FloatProgressModel",
          "model_module_version": "1.5.0",
          "state": {
            "_dom_classes": [],
            "_model_module": "@jupyter-widgets/controls",
            "_model_module_version": "1.5.0",
            "_model_name": "FloatProgressModel",
            "_view_count": null,
            "_view_module": "@jupyter-widgets/controls",
            "_view_module_version": "1.5.0",
            "_view_name": "ProgressView",
            "bar_style": "",
            "description": "",
            "description_tooltip": null,
            "layout": "IPY_MODEL_e24cc0739dc442589816cae605ad5fb7",
            "max": 1,
            "min": 0,
            "orientation": "horizontal",
            "style": "IPY_MODEL_3412a6443ba7452996b665668de9423e",
            "value": 1
          }
        },
        "d5aa774587994387b85023ace6224c03": {
          "model_module": "@jupyter-widgets/base",
          "model_name": "LayoutModel",
          "model_module_version": "1.2.0",
          "state": {
            "_model_module": "@jupyter-widgets/base",
            "_model_module_version": "1.2.0",
            "_model_name": "LayoutModel",
            "_view_count": null,
            "_view_module": "@jupyter-widgets/base",
            "_view_module_version": "1.2.0",
            "_view_name": "LayoutView",
            "align_content": null,
            "align_items": null,
            "align_self": null,
            "border": null,
            "bottom": null,
            "display": null,
            "flex": null,
            "flex_flow": null,
            "grid_area": null,
            "grid_auto_columns": null,
            "grid_auto_flow": null,
            "grid_auto_rows": null,
            "grid_column": null,
            "grid_gap": null,
            "grid_row": null,
            "grid_template_areas": null,
            "grid_template_columns": null,
            "grid_template_rows": null,
            "height": null,
            "justify_content": null,
            "justify_items": null,
            "left": null,
            "margin": null,
            "max_height": null,
            "max_width": null,
            "min_height": null,
            "min_width": null,
            "object_fit": null,
            "object_position": null,
            "order": null,
            "overflow": null,
            "overflow_x": null,
            "overflow_y": null,
            "padding": null,
            "right": null,
            "top": null,
            "visibility": null,
            "width": null
          }
        },
        "3b17a6c5882e4daf97d65192920bdaa5": {
          "model_module": "@jupyter-widgets/base",
          "model_name": "LayoutModel",
          "model_module_version": "1.2.0",
          "state": {
            "_model_module": "@jupyter-widgets/base",
            "_model_module_version": "1.2.0",
            "_model_name": "LayoutModel",
            "_view_count": null,
            "_view_module": "@jupyter-widgets/base",
            "_view_module_version": "1.2.0",
            "_view_name": "LayoutView",
            "align_content": null,
            "align_items": null,
            "align_self": null,
            "border": null,
            "bottom": null,
            "display": null,
            "flex": null,
            "flex_flow": null,
            "grid_area": null,
            "grid_auto_columns": null,
            "grid_auto_flow": null,
            "grid_auto_rows": null,
            "grid_column": null,
            "grid_gap": null,
            "grid_row": null,
            "grid_template_areas": null,
            "grid_template_columns": null,
            "grid_template_rows": null,
            "height": null,
            "justify_content": null,
            "justify_items": null,
            "left": null,
            "margin": null,
            "max_height": null,
            "max_width": null,
            "min_height": null,
            "min_width": null,
            "object_fit": null,
            "object_position": null,
            "order": null,
            "overflow": null,
            "overflow_x": null,
            "overflow_y": null,
            "padding": null,
            "right": null,
            "top": null,
            "visibility": null,
            "width": null
          }
        },
        "8de24964596843048efa669f098d07a6": {
          "model_module": "@jupyter-widgets/controls",
          "model_name": "DescriptionStyleModel",
          "model_module_version": "1.5.0",
          "state": {
            "_model_module": "@jupyter-widgets/controls",
            "_model_module_version": "1.5.0",
            "_model_name": "DescriptionStyleModel",
            "_view_count": null,
            "_view_module": "@jupyter-widgets/base",
            "_view_module_version": "1.2.0",
            "_view_name": "StyleView",
            "description_width": ""
          }
        },
        "e24cc0739dc442589816cae605ad5fb7": {
          "model_module": "@jupyter-widgets/base",
          "model_name": "LayoutModel",
          "model_module_version": "1.2.0",
          "state": {
            "_model_module": "@jupyter-widgets/base",
            "_model_module_version": "1.2.0",
            "_model_name": "LayoutModel",
            "_view_count": null,
            "_view_module": "@jupyter-widgets/base",
            "_view_module_version": "1.2.0",
            "_view_name": "LayoutView",
            "align_content": null,
            "align_items": null,
            "align_self": null,
            "border": null,
            "bottom": null,
            "display": null,
            "flex": null,
            "flex_flow": null,
            "grid_area": null,
            "grid_auto_columns": null,
            "grid_auto_flow": null,
            "grid_auto_rows": null,
            "grid_column": null,
            "grid_gap": null,
            "grid_row": null,
            "grid_template_areas": null,
            "grid_template_columns": null,
            "grid_template_rows": null,
            "height": null,
            "justify_content": null,
            "justify_items": null,
            "left": null,
            "margin": null,
            "max_height": null,
            "max_width": null,
            "min_height": null,
            "min_width": null,
            "object_fit": null,
            "object_position": null,
            "order": null,
            "overflow": null,
            "overflow_x": null,
            "overflow_y": null,
            "padding": null,
            "right": null,
            "top": null,
            "visibility": null,
            "width": null
          }
        },
        "3412a6443ba7452996b665668de9423e": {
          "model_module": "@jupyter-widgets/controls",
          "model_name": "ProgressStyleModel",
          "model_module_version": "1.5.0",
          "state": {
            "_model_module": "@jupyter-widgets/controls",
            "_model_module_version": "1.5.0",
            "_model_name": "ProgressStyleModel",
            "_view_count": null,
            "_view_module": "@jupyter-widgets/base",
            "_view_module_version": "1.2.0",
            "_view_name": "StyleView",
            "bar_color": null,
            "description_width": ""
          }
        },
        "ec080e46ffdb41a689ef4b2a344f5c48": {
          "model_module": "@jupyter-widgets/controls",
          "model_name": "VBoxModel",
          "model_module_version": "1.5.0",
          "state": {
            "_dom_classes": [],
            "_model_module": "@jupyter-widgets/controls",
            "_model_module_version": "1.5.0",
            "_model_name": "VBoxModel",
            "_view_count": null,
            "_view_module": "@jupyter-widgets/controls",
            "_view_module_version": "1.5.0",
            "_view_name": "VBoxView",
            "box_style": "",
            "children": [
              "IPY_MODEL_ed70652acd0a42a5bba7b3f7607daf1f",
              "IPY_MODEL_0c140d856cc74a8b92ef6166c0f89406"
            ],
            "layout": "IPY_MODEL_cb3d763540664e3592954785e42b3592"
          }
        },
        "ed70652acd0a42a5bba7b3f7607daf1f": {
          "model_module": "@jupyter-widgets/controls",
          "model_name": "LabelModel",
          "model_module_version": "1.5.0",
          "state": {
            "_dom_classes": [],
            "_model_module": "@jupyter-widgets/controls",
            "_model_module_version": "1.5.0",
            "_model_name": "LabelModel",
            "_view_count": null,
            "_view_module": "@jupyter-widgets/controls",
            "_view_module_version": "1.5.0",
            "_view_name": "LabelView",
            "description": "",
            "description_tooltip": null,
            "layout": "IPY_MODEL_7b13a3a31e0548a39bf94ac64902164f",
            "placeholder": "​",
            "style": "IPY_MODEL_6e1975bfa38b48cba8b1c4a91c6912de",
            "value": "1.287 MB of 1.287 MB uploaded (1.134 MB deduped)\r"
          }
        },
        "0c140d856cc74a8b92ef6166c0f89406": {
          "model_module": "@jupyter-widgets/controls",
          "model_name": "FloatProgressModel",
          "model_module_version": "1.5.0",
          "state": {
            "_dom_classes": [],
            "_model_module": "@jupyter-widgets/controls",
            "_model_module_version": "1.5.0",
            "_model_name": "FloatProgressModel",
            "_view_count": null,
            "_view_module": "@jupyter-widgets/controls",
            "_view_module_version": "1.5.0",
            "_view_name": "ProgressView",
            "bar_style": "",
            "description": "",
            "description_tooltip": null,
            "layout": "IPY_MODEL_9b322e89321e4b9984fe6fdb71e2e2b7",
            "max": 1,
            "min": 0,
            "orientation": "horizontal",
            "style": "IPY_MODEL_9625490ca4d34c93a7790ceb725aa333",
            "value": 1
          }
        },
        "cb3d763540664e3592954785e42b3592": {
          "model_module": "@jupyter-widgets/base",
          "model_name": "LayoutModel",
          "model_module_version": "1.2.0",
          "state": {
            "_model_module": "@jupyter-widgets/base",
            "_model_module_version": "1.2.0",
            "_model_name": "LayoutModel",
            "_view_count": null,
            "_view_module": "@jupyter-widgets/base",
            "_view_module_version": "1.2.0",
            "_view_name": "LayoutView",
            "align_content": null,
            "align_items": null,
            "align_self": null,
            "border": null,
            "bottom": null,
            "display": null,
            "flex": null,
            "flex_flow": null,
            "grid_area": null,
            "grid_auto_columns": null,
            "grid_auto_flow": null,
            "grid_auto_rows": null,
            "grid_column": null,
            "grid_gap": null,
            "grid_row": null,
            "grid_template_areas": null,
            "grid_template_columns": null,
            "grid_template_rows": null,
            "height": null,
            "justify_content": null,
            "justify_items": null,
            "left": null,
            "margin": null,
            "max_height": null,
            "max_width": null,
            "min_height": null,
            "min_width": null,
            "object_fit": null,
            "object_position": null,
            "order": null,
            "overflow": null,
            "overflow_x": null,
            "overflow_y": null,
            "padding": null,
            "right": null,
            "top": null,
            "visibility": null,
            "width": null
          }
        },
        "7b13a3a31e0548a39bf94ac64902164f": {
          "model_module": "@jupyter-widgets/base",
          "model_name": "LayoutModel",
          "model_module_version": "1.2.0",
          "state": {
            "_model_module": "@jupyter-widgets/base",
            "_model_module_version": "1.2.0",
            "_model_name": "LayoutModel",
            "_view_count": null,
            "_view_module": "@jupyter-widgets/base",
            "_view_module_version": "1.2.0",
            "_view_name": "LayoutView",
            "align_content": null,
            "align_items": null,
            "align_self": null,
            "border": null,
            "bottom": null,
            "display": null,
            "flex": null,
            "flex_flow": null,
            "grid_area": null,
            "grid_auto_columns": null,
            "grid_auto_flow": null,
            "grid_auto_rows": null,
            "grid_column": null,
            "grid_gap": null,
            "grid_row": null,
            "grid_template_areas": null,
            "grid_template_columns": null,
            "grid_template_rows": null,
            "height": null,
            "justify_content": null,
            "justify_items": null,
            "left": null,
            "margin": null,
            "max_height": null,
            "max_width": null,
            "min_height": null,
            "min_width": null,
            "object_fit": null,
            "object_position": null,
            "order": null,
            "overflow": null,
            "overflow_x": null,
            "overflow_y": null,
            "padding": null,
            "right": null,
            "top": null,
            "visibility": null,
            "width": null
          }
        },
        "6e1975bfa38b48cba8b1c4a91c6912de": {
          "model_module": "@jupyter-widgets/controls",
          "model_name": "DescriptionStyleModel",
          "model_module_version": "1.5.0",
          "state": {
            "_model_module": "@jupyter-widgets/controls",
            "_model_module_version": "1.5.0",
            "_model_name": "DescriptionStyleModel",
            "_view_count": null,
            "_view_module": "@jupyter-widgets/base",
            "_view_module_version": "1.2.0",
            "_view_name": "StyleView",
            "description_width": ""
          }
        },
        "9b322e89321e4b9984fe6fdb71e2e2b7": {
          "model_module": "@jupyter-widgets/base",
          "model_name": "LayoutModel",
          "model_module_version": "1.2.0",
          "state": {
            "_model_module": "@jupyter-widgets/base",
            "_model_module_version": "1.2.0",
            "_model_name": "LayoutModel",
            "_view_count": null,
            "_view_module": "@jupyter-widgets/base",
            "_view_module_version": "1.2.0",
            "_view_name": "LayoutView",
            "align_content": null,
            "align_items": null,
            "align_self": null,
            "border": null,
            "bottom": null,
            "display": null,
            "flex": null,
            "flex_flow": null,
            "grid_area": null,
            "grid_auto_columns": null,
            "grid_auto_flow": null,
            "grid_auto_rows": null,
            "grid_column": null,
            "grid_gap": null,
            "grid_row": null,
            "grid_template_areas": null,
            "grid_template_columns": null,
            "grid_template_rows": null,
            "height": null,
            "justify_content": null,
            "justify_items": null,
            "left": null,
            "margin": null,
            "max_height": null,
            "max_width": null,
            "min_height": null,
            "min_width": null,
            "object_fit": null,
            "object_position": null,
            "order": null,
            "overflow": null,
            "overflow_x": null,
            "overflow_y": null,
            "padding": null,
            "right": null,
            "top": null,
            "visibility": null,
            "width": null
          }
        },
        "9625490ca4d34c93a7790ceb725aa333": {
          "model_module": "@jupyter-widgets/controls",
          "model_name": "ProgressStyleModel",
          "model_module_version": "1.5.0",
          "state": {
            "_model_module": "@jupyter-widgets/controls",
            "_model_module_version": "1.5.0",
            "_model_name": "ProgressStyleModel",
            "_view_count": null,
            "_view_module": "@jupyter-widgets/base",
            "_view_module_version": "1.2.0",
            "_view_name": "StyleView",
            "bar_color": null,
            "description_width": ""
          }
        },
        "21e24356ef8e4ee89e156bdf12f052ac": {
          "model_module": "@jupyter-widgets/controls",
          "model_name": "VBoxModel",
          "model_module_version": "1.5.0",
          "state": {
            "_dom_classes": [],
            "_model_module": "@jupyter-widgets/controls",
            "_model_module_version": "1.5.0",
            "_model_name": "VBoxModel",
            "_view_count": null,
            "_view_module": "@jupyter-widgets/controls",
            "_view_module_version": "1.5.0",
            "_view_name": "VBoxView",
            "box_style": "",
            "children": [
              "IPY_MODEL_1a1f995bc4a0465390926716dc61d185",
              "IPY_MODEL_008e3164c8e04864b7a7d0cefff4a8ef"
            ],
            "layout": "IPY_MODEL_0eb3d9009f814ab7939381d95c5f3553"
          }
        },
        "1a1f995bc4a0465390926716dc61d185": {
          "model_module": "@jupyter-widgets/controls",
          "model_name": "LabelModel",
          "model_module_version": "1.5.0",
          "state": {
            "_dom_classes": [],
            "_model_module": "@jupyter-widgets/controls",
            "_model_module_version": "1.5.0",
            "_model_name": "LabelModel",
            "_view_count": null,
            "_view_module": "@jupyter-widgets/controls",
            "_view_module_version": "1.5.0",
            "_view_name": "LabelView",
            "description": "",
            "description_tooltip": null,
            "layout": "IPY_MODEL_4cb0d0da5e6e450a8c1138058cfd047b",
            "placeholder": "​",
            "style": "IPY_MODEL_9570160fc177417c80fe9ad8739f06e4",
            "value": "1.296 MB of 1.296 MB uploaded (1.143 MB deduped)\r"
          }
        },
        "008e3164c8e04864b7a7d0cefff4a8ef": {
          "model_module": "@jupyter-widgets/controls",
          "model_name": "FloatProgressModel",
          "model_module_version": "1.5.0",
          "state": {
            "_dom_classes": [],
            "_model_module": "@jupyter-widgets/controls",
            "_model_module_version": "1.5.0",
            "_model_name": "FloatProgressModel",
            "_view_count": null,
            "_view_module": "@jupyter-widgets/controls",
            "_view_module_version": "1.5.0",
            "_view_name": "ProgressView",
            "bar_style": "",
            "description": "",
            "description_tooltip": null,
            "layout": "IPY_MODEL_d8c47f4a8dd14874851e5ca5524caf86",
            "max": 1,
            "min": 0,
            "orientation": "horizontal",
            "style": "IPY_MODEL_33dee98f901943d889c42a0d3ea8bb1a",
            "value": 1
          }
        },
        "0eb3d9009f814ab7939381d95c5f3553": {
          "model_module": "@jupyter-widgets/base",
          "model_name": "LayoutModel",
          "model_module_version": "1.2.0",
          "state": {
            "_model_module": "@jupyter-widgets/base",
            "_model_module_version": "1.2.0",
            "_model_name": "LayoutModel",
            "_view_count": null,
            "_view_module": "@jupyter-widgets/base",
            "_view_module_version": "1.2.0",
            "_view_name": "LayoutView",
            "align_content": null,
            "align_items": null,
            "align_self": null,
            "border": null,
            "bottom": null,
            "display": null,
            "flex": null,
            "flex_flow": null,
            "grid_area": null,
            "grid_auto_columns": null,
            "grid_auto_flow": null,
            "grid_auto_rows": null,
            "grid_column": null,
            "grid_gap": null,
            "grid_row": null,
            "grid_template_areas": null,
            "grid_template_columns": null,
            "grid_template_rows": null,
            "height": null,
            "justify_content": null,
            "justify_items": null,
            "left": null,
            "margin": null,
            "max_height": null,
            "max_width": null,
            "min_height": null,
            "min_width": null,
            "object_fit": null,
            "object_position": null,
            "order": null,
            "overflow": null,
            "overflow_x": null,
            "overflow_y": null,
            "padding": null,
            "right": null,
            "top": null,
            "visibility": null,
            "width": null
          }
        },
        "4cb0d0da5e6e450a8c1138058cfd047b": {
          "model_module": "@jupyter-widgets/base",
          "model_name": "LayoutModel",
          "model_module_version": "1.2.0",
          "state": {
            "_model_module": "@jupyter-widgets/base",
            "_model_module_version": "1.2.0",
            "_model_name": "LayoutModel",
            "_view_count": null,
            "_view_module": "@jupyter-widgets/base",
            "_view_module_version": "1.2.0",
            "_view_name": "LayoutView",
            "align_content": null,
            "align_items": null,
            "align_self": null,
            "border": null,
            "bottom": null,
            "display": null,
            "flex": null,
            "flex_flow": null,
            "grid_area": null,
            "grid_auto_columns": null,
            "grid_auto_flow": null,
            "grid_auto_rows": null,
            "grid_column": null,
            "grid_gap": null,
            "grid_row": null,
            "grid_template_areas": null,
            "grid_template_columns": null,
            "grid_template_rows": null,
            "height": null,
            "justify_content": null,
            "justify_items": null,
            "left": null,
            "margin": null,
            "max_height": null,
            "max_width": null,
            "min_height": null,
            "min_width": null,
            "object_fit": null,
            "object_position": null,
            "order": null,
            "overflow": null,
            "overflow_x": null,
            "overflow_y": null,
            "padding": null,
            "right": null,
            "top": null,
            "visibility": null,
            "width": null
          }
        },
        "9570160fc177417c80fe9ad8739f06e4": {
          "model_module": "@jupyter-widgets/controls",
          "model_name": "DescriptionStyleModel",
          "model_module_version": "1.5.0",
          "state": {
            "_model_module": "@jupyter-widgets/controls",
            "_model_module_version": "1.5.0",
            "_model_name": "DescriptionStyleModel",
            "_view_count": null,
            "_view_module": "@jupyter-widgets/base",
            "_view_module_version": "1.2.0",
            "_view_name": "StyleView",
            "description_width": ""
          }
        },
        "d8c47f4a8dd14874851e5ca5524caf86": {
          "model_module": "@jupyter-widgets/base",
          "model_name": "LayoutModel",
          "model_module_version": "1.2.0",
          "state": {
            "_model_module": "@jupyter-widgets/base",
            "_model_module_version": "1.2.0",
            "_model_name": "LayoutModel",
            "_view_count": null,
            "_view_module": "@jupyter-widgets/base",
            "_view_module_version": "1.2.0",
            "_view_name": "LayoutView",
            "align_content": null,
            "align_items": null,
            "align_self": null,
            "border": null,
            "bottom": null,
            "display": null,
            "flex": null,
            "flex_flow": null,
            "grid_area": null,
            "grid_auto_columns": null,
            "grid_auto_flow": null,
            "grid_auto_rows": null,
            "grid_column": null,
            "grid_gap": null,
            "grid_row": null,
            "grid_template_areas": null,
            "grid_template_columns": null,
            "grid_template_rows": null,
            "height": null,
            "justify_content": null,
            "justify_items": null,
            "left": null,
            "margin": null,
            "max_height": null,
            "max_width": null,
            "min_height": null,
            "min_width": null,
            "object_fit": null,
            "object_position": null,
            "order": null,
            "overflow": null,
            "overflow_x": null,
            "overflow_y": null,
            "padding": null,
            "right": null,
            "top": null,
            "visibility": null,
            "width": null
          }
        },
        "33dee98f901943d889c42a0d3ea8bb1a": {
          "model_module": "@jupyter-widgets/controls",
          "model_name": "ProgressStyleModel",
          "model_module_version": "1.5.0",
          "state": {
            "_model_module": "@jupyter-widgets/controls",
            "_model_module_version": "1.5.0",
            "_model_name": "ProgressStyleModel",
            "_view_count": null,
            "_view_module": "@jupyter-widgets/base",
            "_view_module_version": "1.2.0",
            "_view_name": "StyleView",
            "bar_color": null,
            "description_width": ""
          }
        },
        "695ec5e51e844fe08970480af6cf673f": {
          "model_module": "@jupyter-widgets/controls",
          "model_name": "VBoxModel",
          "model_module_version": "1.5.0",
          "state": {
            "_dom_classes": [],
            "_model_module": "@jupyter-widgets/controls",
            "_model_module_version": "1.5.0",
            "_model_name": "VBoxModel",
            "_view_count": null,
            "_view_module": "@jupyter-widgets/controls",
            "_view_module_version": "1.5.0",
            "_view_name": "VBoxView",
            "box_style": "",
            "children": [
              "IPY_MODEL_baced93ad67141319b9cdeaba6f5e080",
              "IPY_MODEL_06372f4f21ec4d56a7e1a296ad73758f"
            ],
            "layout": "IPY_MODEL_c509ffee6bb74961b15516f5ca5c57ca"
          }
        },
        "baced93ad67141319b9cdeaba6f5e080": {
          "model_module": "@jupyter-widgets/controls",
          "model_name": "LabelModel",
          "model_module_version": "1.5.0",
          "state": {
            "_dom_classes": [],
            "_model_module": "@jupyter-widgets/controls",
            "_model_module_version": "1.5.0",
            "_model_name": "LabelModel",
            "_view_count": null,
            "_view_module": "@jupyter-widgets/controls",
            "_view_module_version": "1.5.0",
            "_view_name": "LabelView",
            "description": "",
            "description_tooltip": null,
            "layout": "IPY_MODEL_64eb07ed9f924981afaa9a07c89d46dd",
            "placeholder": "​",
            "style": "IPY_MODEL_1abfe8027d6b4bf1951acc7edfbd150f",
            "value": "1.305 MB of 1.305 MB uploaded (1.143 MB deduped)\r"
          }
        },
        "06372f4f21ec4d56a7e1a296ad73758f": {
          "model_module": "@jupyter-widgets/controls",
          "model_name": "FloatProgressModel",
          "model_module_version": "1.5.0",
          "state": {
            "_dom_classes": [],
            "_model_module": "@jupyter-widgets/controls",
            "_model_module_version": "1.5.0",
            "_model_name": "FloatProgressModel",
            "_view_count": null,
            "_view_module": "@jupyter-widgets/controls",
            "_view_module_version": "1.5.0",
            "_view_name": "ProgressView",
            "bar_style": "",
            "description": "",
            "description_tooltip": null,
            "layout": "IPY_MODEL_636bc6b5442a4f73a285102115526ee3",
            "max": 1,
            "min": 0,
            "orientation": "horizontal",
            "style": "IPY_MODEL_48a8d506e12342ce8847b2426ef29291",
            "value": 1
          }
        },
        "c509ffee6bb74961b15516f5ca5c57ca": {
          "model_module": "@jupyter-widgets/base",
          "model_name": "LayoutModel",
          "model_module_version": "1.2.0",
          "state": {
            "_model_module": "@jupyter-widgets/base",
            "_model_module_version": "1.2.0",
            "_model_name": "LayoutModel",
            "_view_count": null,
            "_view_module": "@jupyter-widgets/base",
            "_view_module_version": "1.2.0",
            "_view_name": "LayoutView",
            "align_content": null,
            "align_items": null,
            "align_self": null,
            "border": null,
            "bottom": null,
            "display": null,
            "flex": null,
            "flex_flow": null,
            "grid_area": null,
            "grid_auto_columns": null,
            "grid_auto_flow": null,
            "grid_auto_rows": null,
            "grid_column": null,
            "grid_gap": null,
            "grid_row": null,
            "grid_template_areas": null,
            "grid_template_columns": null,
            "grid_template_rows": null,
            "height": null,
            "justify_content": null,
            "justify_items": null,
            "left": null,
            "margin": null,
            "max_height": null,
            "max_width": null,
            "min_height": null,
            "min_width": null,
            "object_fit": null,
            "object_position": null,
            "order": null,
            "overflow": null,
            "overflow_x": null,
            "overflow_y": null,
            "padding": null,
            "right": null,
            "top": null,
            "visibility": null,
            "width": null
          }
        },
        "64eb07ed9f924981afaa9a07c89d46dd": {
          "model_module": "@jupyter-widgets/base",
          "model_name": "LayoutModel",
          "model_module_version": "1.2.0",
          "state": {
            "_model_module": "@jupyter-widgets/base",
            "_model_module_version": "1.2.0",
            "_model_name": "LayoutModel",
            "_view_count": null,
            "_view_module": "@jupyter-widgets/base",
            "_view_module_version": "1.2.0",
            "_view_name": "LayoutView",
            "align_content": null,
            "align_items": null,
            "align_self": null,
            "border": null,
            "bottom": null,
            "display": null,
            "flex": null,
            "flex_flow": null,
            "grid_area": null,
            "grid_auto_columns": null,
            "grid_auto_flow": null,
            "grid_auto_rows": null,
            "grid_column": null,
            "grid_gap": null,
            "grid_row": null,
            "grid_template_areas": null,
            "grid_template_columns": null,
            "grid_template_rows": null,
            "height": null,
            "justify_content": null,
            "justify_items": null,
            "left": null,
            "margin": null,
            "max_height": null,
            "max_width": null,
            "min_height": null,
            "min_width": null,
            "object_fit": null,
            "object_position": null,
            "order": null,
            "overflow": null,
            "overflow_x": null,
            "overflow_y": null,
            "padding": null,
            "right": null,
            "top": null,
            "visibility": null,
            "width": null
          }
        },
        "1abfe8027d6b4bf1951acc7edfbd150f": {
          "model_module": "@jupyter-widgets/controls",
          "model_name": "DescriptionStyleModel",
          "model_module_version": "1.5.0",
          "state": {
            "_model_module": "@jupyter-widgets/controls",
            "_model_module_version": "1.5.0",
            "_model_name": "DescriptionStyleModel",
            "_view_count": null,
            "_view_module": "@jupyter-widgets/base",
            "_view_module_version": "1.2.0",
            "_view_name": "StyleView",
            "description_width": ""
          }
        },
        "636bc6b5442a4f73a285102115526ee3": {
          "model_module": "@jupyter-widgets/base",
          "model_name": "LayoutModel",
          "model_module_version": "1.2.0",
          "state": {
            "_model_module": "@jupyter-widgets/base",
            "_model_module_version": "1.2.0",
            "_model_name": "LayoutModel",
            "_view_count": null,
            "_view_module": "@jupyter-widgets/base",
            "_view_module_version": "1.2.0",
            "_view_name": "LayoutView",
            "align_content": null,
            "align_items": null,
            "align_self": null,
            "border": null,
            "bottom": null,
            "display": null,
            "flex": null,
            "flex_flow": null,
            "grid_area": null,
            "grid_auto_columns": null,
            "grid_auto_flow": null,
            "grid_auto_rows": null,
            "grid_column": null,
            "grid_gap": null,
            "grid_row": null,
            "grid_template_areas": null,
            "grid_template_columns": null,
            "grid_template_rows": null,
            "height": null,
            "justify_content": null,
            "justify_items": null,
            "left": null,
            "margin": null,
            "max_height": null,
            "max_width": null,
            "min_height": null,
            "min_width": null,
            "object_fit": null,
            "object_position": null,
            "order": null,
            "overflow": null,
            "overflow_x": null,
            "overflow_y": null,
            "padding": null,
            "right": null,
            "top": null,
            "visibility": null,
            "width": null
          }
        },
        "48a8d506e12342ce8847b2426ef29291": {
          "model_module": "@jupyter-widgets/controls",
          "model_name": "ProgressStyleModel",
          "model_module_version": "1.5.0",
          "state": {
            "_model_module": "@jupyter-widgets/controls",
            "_model_module_version": "1.5.0",
            "_model_name": "ProgressStyleModel",
            "_view_count": null,
            "_view_module": "@jupyter-widgets/base",
            "_view_module_version": "1.2.0",
            "_view_name": "StyleView",
            "bar_color": null,
            "description_width": ""
          }
        },
        "6e596ec5e4f5412e933e184c45080338": {
          "model_module": "@jupyter-widgets/controls",
          "model_name": "VBoxModel",
          "model_module_version": "1.5.0",
          "state": {
            "_dom_classes": [],
            "_model_module": "@jupyter-widgets/controls",
            "_model_module_version": "1.5.0",
            "_model_name": "VBoxModel",
            "_view_count": null,
            "_view_module": "@jupyter-widgets/controls",
            "_view_module_version": "1.5.0",
            "_view_name": "VBoxView",
            "box_style": "",
            "children": [
              "IPY_MODEL_fea4145acea44e80acce426802e94feb",
              "IPY_MODEL_90f4bdc351c0496bad830140bdd965c8"
            ],
            "layout": "IPY_MODEL_6adce86d9b2e4f829e63cdbde020262e"
          }
        },
        "fea4145acea44e80acce426802e94feb": {
          "model_module": "@jupyter-widgets/controls",
          "model_name": "LabelModel",
          "model_module_version": "1.5.0",
          "state": {
            "_dom_classes": [],
            "_model_module": "@jupyter-widgets/controls",
            "_model_module_version": "1.5.0",
            "_model_name": "LabelModel",
            "_view_count": null,
            "_view_module": "@jupyter-widgets/controls",
            "_view_module_version": "1.5.0",
            "_view_name": "LabelView",
            "description": "",
            "description_tooltip": null,
            "layout": "IPY_MODEL_743da28a9ac94674ab0d3cd277f8cd37",
            "placeholder": "​",
            "style": "IPY_MODEL_5ef8190ecb494ee8a02ec7c40ecaecdd",
            "value": "1.314 MB of 1.314 MB uploaded (1.143 MB deduped)\r"
          }
        },
        "90f4bdc351c0496bad830140bdd965c8": {
          "model_module": "@jupyter-widgets/controls",
          "model_name": "FloatProgressModel",
          "model_module_version": "1.5.0",
          "state": {
            "_dom_classes": [],
            "_model_module": "@jupyter-widgets/controls",
            "_model_module_version": "1.5.0",
            "_model_name": "FloatProgressModel",
            "_view_count": null,
            "_view_module": "@jupyter-widgets/controls",
            "_view_module_version": "1.5.0",
            "_view_name": "ProgressView",
            "bar_style": "",
            "description": "",
            "description_tooltip": null,
            "layout": "IPY_MODEL_0bb563a4847d4de58b10cfc827c4d6b9",
            "max": 1,
            "min": 0,
            "orientation": "horizontal",
            "style": "IPY_MODEL_c266d7d0c41b4a95bff2c9162e44152f",
            "value": 1
          }
        },
        "6adce86d9b2e4f829e63cdbde020262e": {
          "model_module": "@jupyter-widgets/base",
          "model_name": "LayoutModel",
          "model_module_version": "1.2.0",
          "state": {
            "_model_module": "@jupyter-widgets/base",
            "_model_module_version": "1.2.0",
            "_model_name": "LayoutModel",
            "_view_count": null,
            "_view_module": "@jupyter-widgets/base",
            "_view_module_version": "1.2.0",
            "_view_name": "LayoutView",
            "align_content": null,
            "align_items": null,
            "align_self": null,
            "border": null,
            "bottom": null,
            "display": null,
            "flex": null,
            "flex_flow": null,
            "grid_area": null,
            "grid_auto_columns": null,
            "grid_auto_flow": null,
            "grid_auto_rows": null,
            "grid_column": null,
            "grid_gap": null,
            "grid_row": null,
            "grid_template_areas": null,
            "grid_template_columns": null,
            "grid_template_rows": null,
            "height": null,
            "justify_content": null,
            "justify_items": null,
            "left": null,
            "margin": null,
            "max_height": null,
            "max_width": null,
            "min_height": null,
            "min_width": null,
            "object_fit": null,
            "object_position": null,
            "order": null,
            "overflow": null,
            "overflow_x": null,
            "overflow_y": null,
            "padding": null,
            "right": null,
            "top": null,
            "visibility": null,
            "width": null
          }
        },
        "743da28a9ac94674ab0d3cd277f8cd37": {
          "model_module": "@jupyter-widgets/base",
          "model_name": "LayoutModel",
          "model_module_version": "1.2.0",
          "state": {
            "_model_module": "@jupyter-widgets/base",
            "_model_module_version": "1.2.0",
            "_model_name": "LayoutModel",
            "_view_count": null,
            "_view_module": "@jupyter-widgets/base",
            "_view_module_version": "1.2.0",
            "_view_name": "LayoutView",
            "align_content": null,
            "align_items": null,
            "align_self": null,
            "border": null,
            "bottom": null,
            "display": null,
            "flex": null,
            "flex_flow": null,
            "grid_area": null,
            "grid_auto_columns": null,
            "grid_auto_flow": null,
            "grid_auto_rows": null,
            "grid_column": null,
            "grid_gap": null,
            "grid_row": null,
            "grid_template_areas": null,
            "grid_template_columns": null,
            "grid_template_rows": null,
            "height": null,
            "justify_content": null,
            "justify_items": null,
            "left": null,
            "margin": null,
            "max_height": null,
            "max_width": null,
            "min_height": null,
            "min_width": null,
            "object_fit": null,
            "object_position": null,
            "order": null,
            "overflow": null,
            "overflow_x": null,
            "overflow_y": null,
            "padding": null,
            "right": null,
            "top": null,
            "visibility": null,
            "width": null
          }
        },
        "5ef8190ecb494ee8a02ec7c40ecaecdd": {
          "model_module": "@jupyter-widgets/controls",
          "model_name": "DescriptionStyleModel",
          "model_module_version": "1.5.0",
          "state": {
            "_model_module": "@jupyter-widgets/controls",
            "_model_module_version": "1.5.0",
            "_model_name": "DescriptionStyleModel",
            "_view_count": null,
            "_view_module": "@jupyter-widgets/base",
            "_view_module_version": "1.2.0",
            "_view_name": "StyleView",
            "description_width": ""
          }
        },
        "0bb563a4847d4de58b10cfc827c4d6b9": {
          "model_module": "@jupyter-widgets/base",
          "model_name": "LayoutModel",
          "model_module_version": "1.2.0",
          "state": {
            "_model_module": "@jupyter-widgets/base",
            "_model_module_version": "1.2.0",
            "_model_name": "LayoutModel",
            "_view_count": null,
            "_view_module": "@jupyter-widgets/base",
            "_view_module_version": "1.2.0",
            "_view_name": "LayoutView",
            "align_content": null,
            "align_items": null,
            "align_self": null,
            "border": null,
            "bottom": null,
            "display": null,
            "flex": null,
            "flex_flow": null,
            "grid_area": null,
            "grid_auto_columns": null,
            "grid_auto_flow": null,
            "grid_auto_rows": null,
            "grid_column": null,
            "grid_gap": null,
            "grid_row": null,
            "grid_template_areas": null,
            "grid_template_columns": null,
            "grid_template_rows": null,
            "height": null,
            "justify_content": null,
            "justify_items": null,
            "left": null,
            "margin": null,
            "max_height": null,
            "max_width": null,
            "min_height": null,
            "min_width": null,
            "object_fit": null,
            "object_position": null,
            "order": null,
            "overflow": null,
            "overflow_x": null,
            "overflow_y": null,
            "padding": null,
            "right": null,
            "top": null,
            "visibility": null,
            "width": null
          }
        },
        "c266d7d0c41b4a95bff2c9162e44152f": {
          "model_module": "@jupyter-widgets/controls",
          "model_name": "ProgressStyleModel",
          "model_module_version": "1.5.0",
          "state": {
            "_model_module": "@jupyter-widgets/controls",
            "_model_module_version": "1.5.0",
            "_model_name": "ProgressStyleModel",
            "_view_count": null,
            "_view_module": "@jupyter-widgets/base",
            "_view_module_version": "1.2.0",
            "_view_name": "StyleView",
            "bar_color": null,
            "description_width": ""
          }
        },
        "6ec04ca45c4c4e6c97b14bc612f5798f": {
          "model_module": "@jupyter-widgets/controls",
          "model_name": "VBoxModel",
          "model_module_version": "1.5.0",
          "state": {
            "_dom_classes": [],
            "_model_module": "@jupyter-widgets/controls",
            "_model_module_version": "1.5.0",
            "_model_name": "VBoxModel",
            "_view_count": null,
            "_view_module": "@jupyter-widgets/controls",
            "_view_module_version": "1.5.0",
            "_view_name": "VBoxView",
            "box_style": "",
            "children": [
              "IPY_MODEL_98cae8d463c1488380c37ffb2d2d365f",
              "IPY_MODEL_a94bb4839e9f465a8a287f70bafe9c60"
            ],
            "layout": "IPY_MODEL_59031ac53652463c8f7ce661e680342a"
          }
        },
        "98cae8d463c1488380c37ffb2d2d365f": {
          "model_module": "@jupyter-widgets/controls",
          "model_name": "LabelModel",
          "model_module_version": "1.5.0",
          "state": {
            "_dom_classes": [],
            "_model_module": "@jupyter-widgets/controls",
            "_model_module_version": "1.5.0",
            "_model_name": "LabelModel",
            "_view_count": null,
            "_view_module": "@jupyter-widgets/controls",
            "_view_module_version": "1.5.0",
            "_view_name": "LabelView",
            "description": "",
            "description_tooltip": null,
            "layout": "IPY_MODEL_6fd16e3a314b429397ee0d4e575295b2",
            "placeholder": "​",
            "style": "IPY_MODEL_30c31b99bb604b868c51f7da792666e2",
            "value": "1.323 MB of 1.323 MB uploaded (1.143 MB deduped)\r"
          }
        },
        "a94bb4839e9f465a8a287f70bafe9c60": {
          "model_module": "@jupyter-widgets/controls",
          "model_name": "FloatProgressModel",
          "model_module_version": "1.5.0",
          "state": {
            "_dom_classes": [],
            "_model_module": "@jupyter-widgets/controls",
            "_model_module_version": "1.5.0",
            "_model_name": "FloatProgressModel",
            "_view_count": null,
            "_view_module": "@jupyter-widgets/controls",
            "_view_module_version": "1.5.0",
            "_view_name": "ProgressView",
            "bar_style": "",
            "description": "",
            "description_tooltip": null,
            "layout": "IPY_MODEL_26440cec08bc4e9a87005a641e8de4e0",
            "max": 1,
            "min": 0,
            "orientation": "horizontal",
            "style": "IPY_MODEL_f7898729fe6d4b93b103b9f968e5a9d6",
            "value": 1
          }
        },
        "59031ac53652463c8f7ce661e680342a": {
          "model_module": "@jupyter-widgets/base",
          "model_name": "LayoutModel",
          "model_module_version": "1.2.0",
          "state": {
            "_model_module": "@jupyter-widgets/base",
            "_model_module_version": "1.2.0",
            "_model_name": "LayoutModel",
            "_view_count": null,
            "_view_module": "@jupyter-widgets/base",
            "_view_module_version": "1.2.0",
            "_view_name": "LayoutView",
            "align_content": null,
            "align_items": null,
            "align_self": null,
            "border": null,
            "bottom": null,
            "display": null,
            "flex": null,
            "flex_flow": null,
            "grid_area": null,
            "grid_auto_columns": null,
            "grid_auto_flow": null,
            "grid_auto_rows": null,
            "grid_column": null,
            "grid_gap": null,
            "grid_row": null,
            "grid_template_areas": null,
            "grid_template_columns": null,
            "grid_template_rows": null,
            "height": null,
            "justify_content": null,
            "justify_items": null,
            "left": null,
            "margin": null,
            "max_height": null,
            "max_width": null,
            "min_height": null,
            "min_width": null,
            "object_fit": null,
            "object_position": null,
            "order": null,
            "overflow": null,
            "overflow_x": null,
            "overflow_y": null,
            "padding": null,
            "right": null,
            "top": null,
            "visibility": null,
            "width": null
          }
        },
        "6fd16e3a314b429397ee0d4e575295b2": {
          "model_module": "@jupyter-widgets/base",
          "model_name": "LayoutModel",
          "model_module_version": "1.2.0",
          "state": {
            "_model_module": "@jupyter-widgets/base",
            "_model_module_version": "1.2.0",
            "_model_name": "LayoutModel",
            "_view_count": null,
            "_view_module": "@jupyter-widgets/base",
            "_view_module_version": "1.2.0",
            "_view_name": "LayoutView",
            "align_content": null,
            "align_items": null,
            "align_self": null,
            "border": null,
            "bottom": null,
            "display": null,
            "flex": null,
            "flex_flow": null,
            "grid_area": null,
            "grid_auto_columns": null,
            "grid_auto_flow": null,
            "grid_auto_rows": null,
            "grid_column": null,
            "grid_gap": null,
            "grid_row": null,
            "grid_template_areas": null,
            "grid_template_columns": null,
            "grid_template_rows": null,
            "height": null,
            "justify_content": null,
            "justify_items": null,
            "left": null,
            "margin": null,
            "max_height": null,
            "max_width": null,
            "min_height": null,
            "min_width": null,
            "object_fit": null,
            "object_position": null,
            "order": null,
            "overflow": null,
            "overflow_x": null,
            "overflow_y": null,
            "padding": null,
            "right": null,
            "top": null,
            "visibility": null,
            "width": null
          }
        },
        "30c31b99bb604b868c51f7da792666e2": {
          "model_module": "@jupyter-widgets/controls",
          "model_name": "DescriptionStyleModel",
          "model_module_version": "1.5.0",
          "state": {
            "_model_module": "@jupyter-widgets/controls",
            "_model_module_version": "1.5.0",
            "_model_name": "DescriptionStyleModel",
            "_view_count": null,
            "_view_module": "@jupyter-widgets/base",
            "_view_module_version": "1.2.0",
            "_view_name": "StyleView",
            "description_width": ""
          }
        },
        "26440cec08bc4e9a87005a641e8de4e0": {
          "model_module": "@jupyter-widgets/base",
          "model_name": "LayoutModel",
          "model_module_version": "1.2.0",
          "state": {
            "_model_module": "@jupyter-widgets/base",
            "_model_module_version": "1.2.0",
            "_model_name": "LayoutModel",
            "_view_count": null,
            "_view_module": "@jupyter-widgets/base",
            "_view_module_version": "1.2.0",
            "_view_name": "LayoutView",
            "align_content": null,
            "align_items": null,
            "align_self": null,
            "border": null,
            "bottom": null,
            "display": null,
            "flex": null,
            "flex_flow": null,
            "grid_area": null,
            "grid_auto_columns": null,
            "grid_auto_flow": null,
            "grid_auto_rows": null,
            "grid_column": null,
            "grid_gap": null,
            "grid_row": null,
            "grid_template_areas": null,
            "grid_template_columns": null,
            "grid_template_rows": null,
            "height": null,
            "justify_content": null,
            "justify_items": null,
            "left": null,
            "margin": null,
            "max_height": null,
            "max_width": null,
            "min_height": null,
            "min_width": null,
            "object_fit": null,
            "object_position": null,
            "order": null,
            "overflow": null,
            "overflow_x": null,
            "overflow_y": null,
            "padding": null,
            "right": null,
            "top": null,
            "visibility": null,
            "width": null
          }
        },
        "f7898729fe6d4b93b103b9f968e5a9d6": {
          "model_module": "@jupyter-widgets/controls",
          "model_name": "ProgressStyleModel",
          "model_module_version": "1.5.0",
          "state": {
            "_model_module": "@jupyter-widgets/controls",
            "_model_module_version": "1.5.0",
            "_model_name": "ProgressStyleModel",
            "_view_count": null,
            "_view_module": "@jupyter-widgets/base",
            "_view_module_version": "1.2.0",
            "_view_name": "StyleView",
            "bar_color": null,
            "description_width": ""
          }
        },
        "636baee728f14e57bd80e03a39ec55f0": {
          "model_module": "@jupyter-widgets/controls",
          "model_name": "VBoxModel",
          "model_module_version": "1.5.0",
          "state": {
            "_dom_classes": [],
            "_model_module": "@jupyter-widgets/controls",
            "_model_module_version": "1.5.0",
            "_model_name": "VBoxModel",
            "_view_count": null,
            "_view_module": "@jupyter-widgets/controls",
            "_view_module_version": "1.5.0",
            "_view_name": "VBoxView",
            "box_style": "",
            "children": [
              "IPY_MODEL_9fc695cdbcbe40fba5206d6677fc43e7",
              "IPY_MODEL_38e5335a7c644915a518a3d54b6d05c8"
            ],
            "layout": "IPY_MODEL_8901397b69c546939c8609847a199f8a"
          }
        },
        "9fc695cdbcbe40fba5206d6677fc43e7": {
          "model_module": "@jupyter-widgets/controls",
          "model_name": "LabelModel",
          "model_module_version": "1.5.0",
          "state": {
            "_dom_classes": [],
            "_model_module": "@jupyter-widgets/controls",
            "_model_module_version": "1.5.0",
            "_model_name": "LabelModel",
            "_view_count": null,
            "_view_module": "@jupyter-widgets/controls",
            "_view_module_version": "1.5.0",
            "_view_name": "LabelView",
            "description": "",
            "description_tooltip": null,
            "layout": "IPY_MODEL_3f57ac12ac7a45f2a6d0dcd7f3cf1128",
            "placeholder": "​",
            "style": "IPY_MODEL_d39fa43c75f34a029c64dd452e3ecc8c",
            "value": "1.332 MB of 1.332 MB uploaded (1.143 MB deduped)\r"
          }
        },
        "38e5335a7c644915a518a3d54b6d05c8": {
          "model_module": "@jupyter-widgets/controls",
          "model_name": "FloatProgressModel",
          "model_module_version": "1.5.0",
          "state": {
            "_dom_classes": [],
            "_model_module": "@jupyter-widgets/controls",
            "_model_module_version": "1.5.0",
            "_model_name": "FloatProgressModel",
            "_view_count": null,
            "_view_module": "@jupyter-widgets/controls",
            "_view_module_version": "1.5.0",
            "_view_name": "ProgressView",
            "bar_style": "",
            "description": "",
            "description_tooltip": null,
            "layout": "IPY_MODEL_fc83fab8acbd4fc8ad2793cde9f3013d",
            "max": 1,
            "min": 0,
            "orientation": "horizontal",
            "style": "IPY_MODEL_a03da2728d734ca88a719c729c30fdb2",
            "value": 1
          }
        },
        "8901397b69c546939c8609847a199f8a": {
          "model_module": "@jupyter-widgets/base",
          "model_name": "LayoutModel",
          "model_module_version": "1.2.0",
          "state": {
            "_model_module": "@jupyter-widgets/base",
            "_model_module_version": "1.2.0",
            "_model_name": "LayoutModel",
            "_view_count": null,
            "_view_module": "@jupyter-widgets/base",
            "_view_module_version": "1.2.0",
            "_view_name": "LayoutView",
            "align_content": null,
            "align_items": null,
            "align_self": null,
            "border": null,
            "bottom": null,
            "display": null,
            "flex": null,
            "flex_flow": null,
            "grid_area": null,
            "grid_auto_columns": null,
            "grid_auto_flow": null,
            "grid_auto_rows": null,
            "grid_column": null,
            "grid_gap": null,
            "grid_row": null,
            "grid_template_areas": null,
            "grid_template_columns": null,
            "grid_template_rows": null,
            "height": null,
            "justify_content": null,
            "justify_items": null,
            "left": null,
            "margin": null,
            "max_height": null,
            "max_width": null,
            "min_height": null,
            "min_width": null,
            "object_fit": null,
            "object_position": null,
            "order": null,
            "overflow": null,
            "overflow_x": null,
            "overflow_y": null,
            "padding": null,
            "right": null,
            "top": null,
            "visibility": null,
            "width": null
          }
        },
        "3f57ac12ac7a45f2a6d0dcd7f3cf1128": {
          "model_module": "@jupyter-widgets/base",
          "model_name": "LayoutModel",
          "model_module_version": "1.2.0",
          "state": {
            "_model_module": "@jupyter-widgets/base",
            "_model_module_version": "1.2.0",
            "_model_name": "LayoutModel",
            "_view_count": null,
            "_view_module": "@jupyter-widgets/base",
            "_view_module_version": "1.2.0",
            "_view_name": "LayoutView",
            "align_content": null,
            "align_items": null,
            "align_self": null,
            "border": null,
            "bottom": null,
            "display": null,
            "flex": null,
            "flex_flow": null,
            "grid_area": null,
            "grid_auto_columns": null,
            "grid_auto_flow": null,
            "grid_auto_rows": null,
            "grid_column": null,
            "grid_gap": null,
            "grid_row": null,
            "grid_template_areas": null,
            "grid_template_columns": null,
            "grid_template_rows": null,
            "height": null,
            "justify_content": null,
            "justify_items": null,
            "left": null,
            "margin": null,
            "max_height": null,
            "max_width": null,
            "min_height": null,
            "min_width": null,
            "object_fit": null,
            "object_position": null,
            "order": null,
            "overflow": null,
            "overflow_x": null,
            "overflow_y": null,
            "padding": null,
            "right": null,
            "top": null,
            "visibility": null,
            "width": null
          }
        },
        "d39fa43c75f34a029c64dd452e3ecc8c": {
          "model_module": "@jupyter-widgets/controls",
          "model_name": "DescriptionStyleModel",
          "model_module_version": "1.5.0",
          "state": {
            "_model_module": "@jupyter-widgets/controls",
            "_model_module_version": "1.5.0",
            "_model_name": "DescriptionStyleModel",
            "_view_count": null,
            "_view_module": "@jupyter-widgets/base",
            "_view_module_version": "1.2.0",
            "_view_name": "StyleView",
            "description_width": ""
          }
        },
        "fc83fab8acbd4fc8ad2793cde9f3013d": {
          "model_module": "@jupyter-widgets/base",
          "model_name": "LayoutModel",
          "model_module_version": "1.2.0",
          "state": {
            "_model_module": "@jupyter-widgets/base",
            "_model_module_version": "1.2.0",
            "_model_name": "LayoutModel",
            "_view_count": null,
            "_view_module": "@jupyter-widgets/base",
            "_view_module_version": "1.2.0",
            "_view_name": "LayoutView",
            "align_content": null,
            "align_items": null,
            "align_self": null,
            "border": null,
            "bottom": null,
            "display": null,
            "flex": null,
            "flex_flow": null,
            "grid_area": null,
            "grid_auto_columns": null,
            "grid_auto_flow": null,
            "grid_auto_rows": null,
            "grid_column": null,
            "grid_gap": null,
            "grid_row": null,
            "grid_template_areas": null,
            "grid_template_columns": null,
            "grid_template_rows": null,
            "height": null,
            "justify_content": null,
            "justify_items": null,
            "left": null,
            "margin": null,
            "max_height": null,
            "max_width": null,
            "min_height": null,
            "min_width": null,
            "object_fit": null,
            "object_position": null,
            "order": null,
            "overflow": null,
            "overflow_x": null,
            "overflow_y": null,
            "padding": null,
            "right": null,
            "top": null,
            "visibility": null,
            "width": null
          }
        },
        "a03da2728d734ca88a719c729c30fdb2": {
          "model_module": "@jupyter-widgets/controls",
          "model_name": "ProgressStyleModel",
          "model_module_version": "1.5.0",
          "state": {
            "_model_module": "@jupyter-widgets/controls",
            "_model_module_version": "1.5.0",
            "_model_name": "ProgressStyleModel",
            "_view_count": null,
            "_view_module": "@jupyter-widgets/base",
            "_view_module_version": "1.2.0",
            "_view_name": "StyleView",
            "bar_color": null,
            "description_width": ""
          }
        },
        "7c59d339fb3147f9a3f76f3947a814bd": {
          "model_module": "@jupyter-widgets/controls",
          "model_name": "VBoxModel",
          "model_module_version": "1.5.0",
          "state": {
            "_dom_classes": [],
            "_model_module": "@jupyter-widgets/controls",
            "_model_module_version": "1.5.0",
            "_model_name": "VBoxModel",
            "_view_count": null,
            "_view_module": "@jupyter-widgets/controls",
            "_view_module_version": "1.5.0",
            "_view_name": "VBoxView",
            "box_style": "",
            "children": [
              "IPY_MODEL_6a954c3821e44e2d94437a86898d0360",
              "IPY_MODEL_26e0deccf21544b5b29171a91764ac8f"
            ],
            "layout": "IPY_MODEL_e2fc80c4f46941d8907a0ef0765c475f"
          }
        },
        "6a954c3821e44e2d94437a86898d0360": {
          "model_module": "@jupyter-widgets/controls",
          "model_name": "LabelModel",
          "model_module_version": "1.5.0",
          "state": {
            "_dom_classes": [],
            "_model_module": "@jupyter-widgets/controls",
            "_model_module_version": "1.5.0",
            "_model_name": "LabelModel",
            "_view_count": null,
            "_view_module": "@jupyter-widgets/controls",
            "_view_module_version": "1.5.0",
            "_view_name": "LabelView",
            "description": "",
            "description_tooltip": null,
            "layout": "IPY_MODEL_1ac5fd6564eb43bf8984883149c1fb41",
            "placeholder": "​",
            "style": "IPY_MODEL_0c6a5aabc92e477699c13368529419a1",
            "value": "1.341 MB of 1.341 MB uploaded (1.143 MB deduped)\r"
          }
        },
        "26e0deccf21544b5b29171a91764ac8f": {
          "model_module": "@jupyter-widgets/controls",
          "model_name": "FloatProgressModel",
          "model_module_version": "1.5.0",
          "state": {
            "_dom_classes": [],
            "_model_module": "@jupyter-widgets/controls",
            "_model_module_version": "1.5.0",
            "_model_name": "FloatProgressModel",
            "_view_count": null,
            "_view_module": "@jupyter-widgets/controls",
            "_view_module_version": "1.5.0",
            "_view_name": "ProgressView",
            "bar_style": "",
            "description": "",
            "description_tooltip": null,
            "layout": "IPY_MODEL_c8255f560a3f468e9665c3c7b1b39ebb",
            "max": 1,
            "min": 0,
            "orientation": "horizontal",
            "style": "IPY_MODEL_b6def1e026b34a83b57136275d65b6d6",
            "value": 1
          }
        },
        "e2fc80c4f46941d8907a0ef0765c475f": {
          "model_module": "@jupyter-widgets/base",
          "model_name": "LayoutModel",
          "model_module_version": "1.2.0",
          "state": {
            "_model_module": "@jupyter-widgets/base",
            "_model_module_version": "1.2.0",
            "_model_name": "LayoutModel",
            "_view_count": null,
            "_view_module": "@jupyter-widgets/base",
            "_view_module_version": "1.2.0",
            "_view_name": "LayoutView",
            "align_content": null,
            "align_items": null,
            "align_self": null,
            "border": null,
            "bottom": null,
            "display": null,
            "flex": null,
            "flex_flow": null,
            "grid_area": null,
            "grid_auto_columns": null,
            "grid_auto_flow": null,
            "grid_auto_rows": null,
            "grid_column": null,
            "grid_gap": null,
            "grid_row": null,
            "grid_template_areas": null,
            "grid_template_columns": null,
            "grid_template_rows": null,
            "height": null,
            "justify_content": null,
            "justify_items": null,
            "left": null,
            "margin": null,
            "max_height": null,
            "max_width": null,
            "min_height": null,
            "min_width": null,
            "object_fit": null,
            "object_position": null,
            "order": null,
            "overflow": null,
            "overflow_x": null,
            "overflow_y": null,
            "padding": null,
            "right": null,
            "top": null,
            "visibility": null,
            "width": null
          }
        },
        "1ac5fd6564eb43bf8984883149c1fb41": {
          "model_module": "@jupyter-widgets/base",
          "model_name": "LayoutModel",
          "model_module_version": "1.2.0",
          "state": {
            "_model_module": "@jupyter-widgets/base",
            "_model_module_version": "1.2.0",
            "_model_name": "LayoutModel",
            "_view_count": null,
            "_view_module": "@jupyter-widgets/base",
            "_view_module_version": "1.2.0",
            "_view_name": "LayoutView",
            "align_content": null,
            "align_items": null,
            "align_self": null,
            "border": null,
            "bottom": null,
            "display": null,
            "flex": null,
            "flex_flow": null,
            "grid_area": null,
            "grid_auto_columns": null,
            "grid_auto_flow": null,
            "grid_auto_rows": null,
            "grid_column": null,
            "grid_gap": null,
            "grid_row": null,
            "grid_template_areas": null,
            "grid_template_columns": null,
            "grid_template_rows": null,
            "height": null,
            "justify_content": null,
            "justify_items": null,
            "left": null,
            "margin": null,
            "max_height": null,
            "max_width": null,
            "min_height": null,
            "min_width": null,
            "object_fit": null,
            "object_position": null,
            "order": null,
            "overflow": null,
            "overflow_x": null,
            "overflow_y": null,
            "padding": null,
            "right": null,
            "top": null,
            "visibility": null,
            "width": null
          }
        },
        "0c6a5aabc92e477699c13368529419a1": {
          "model_module": "@jupyter-widgets/controls",
          "model_name": "DescriptionStyleModel",
          "model_module_version": "1.5.0",
          "state": {
            "_model_module": "@jupyter-widgets/controls",
            "_model_module_version": "1.5.0",
            "_model_name": "DescriptionStyleModel",
            "_view_count": null,
            "_view_module": "@jupyter-widgets/base",
            "_view_module_version": "1.2.0",
            "_view_name": "StyleView",
            "description_width": ""
          }
        },
        "c8255f560a3f468e9665c3c7b1b39ebb": {
          "model_module": "@jupyter-widgets/base",
          "model_name": "LayoutModel",
          "model_module_version": "1.2.0",
          "state": {
            "_model_module": "@jupyter-widgets/base",
            "_model_module_version": "1.2.0",
            "_model_name": "LayoutModel",
            "_view_count": null,
            "_view_module": "@jupyter-widgets/base",
            "_view_module_version": "1.2.0",
            "_view_name": "LayoutView",
            "align_content": null,
            "align_items": null,
            "align_self": null,
            "border": null,
            "bottom": null,
            "display": null,
            "flex": null,
            "flex_flow": null,
            "grid_area": null,
            "grid_auto_columns": null,
            "grid_auto_flow": null,
            "grid_auto_rows": null,
            "grid_column": null,
            "grid_gap": null,
            "grid_row": null,
            "grid_template_areas": null,
            "grid_template_columns": null,
            "grid_template_rows": null,
            "height": null,
            "justify_content": null,
            "justify_items": null,
            "left": null,
            "margin": null,
            "max_height": null,
            "max_width": null,
            "min_height": null,
            "min_width": null,
            "object_fit": null,
            "object_position": null,
            "order": null,
            "overflow": null,
            "overflow_x": null,
            "overflow_y": null,
            "padding": null,
            "right": null,
            "top": null,
            "visibility": null,
            "width": null
          }
        },
        "b6def1e026b34a83b57136275d65b6d6": {
          "model_module": "@jupyter-widgets/controls",
          "model_name": "ProgressStyleModel",
          "model_module_version": "1.5.0",
          "state": {
            "_model_module": "@jupyter-widgets/controls",
            "_model_module_version": "1.5.0",
            "_model_name": "ProgressStyleModel",
            "_view_count": null,
            "_view_module": "@jupyter-widgets/base",
            "_view_module_version": "1.2.0",
            "_view_name": "StyleView",
            "bar_color": null,
            "description_width": ""
          }
        },
        "7388e06c99ba44f3bb7f0574c0bfbaeb": {
          "model_module": "@jupyter-widgets/controls",
          "model_name": "VBoxModel",
          "model_module_version": "1.5.0",
          "state": {
            "_dom_classes": [],
            "_model_module": "@jupyter-widgets/controls",
            "_model_module_version": "1.5.0",
            "_model_name": "VBoxModel",
            "_view_count": null,
            "_view_module": "@jupyter-widgets/controls",
            "_view_module_version": "1.5.0",
            "_view_name": "VBoxView",
            "box_style": "",
            "children": [
              "IPY_MODEL_ebdca8b212334b9787eb5e4ac7041477",
              "IPY_MODEL_f7f3d7aba83b4d9b8182a730b8321f66"
            ],
            "layout": "IPY_MODEL_0ad3cec56d324d4f932fc17870ca5fb8"
          }
        },
        "ebdca8b212334b9787eb5e4ac7041477": {
          "model_module": "@jupyter-widgets/controls",
          "model_name": "LabelModel",
          "model_module_version": "1.5.0",
          "state": {
            "_dom_classes": [],
            "_model_module": "@jupyter-widgets/controls",
            "_model_module_version": "1.5.0",
            "_model_name": "LabelModel",
            "_view_count": null,
            "_view_module": "@jupyter-widgets/controls",
            "_view_module_version": "1.5.0",
            "_view_name": "LabelView",
            "description": "",
            "description_tooltip": null,
            "layout": "IPY_MODEL_b1a5deadacae4ebca088e614d55b3d51",
            "placeholder": "​",
            "style": "IPY_MODEL_7c31e75e624f40aeaea671bba8fe2015",
            "value": "0.594 MB of 0.594 MB uploaded (0.387 MB deduped)\r"
          }
        },
        "f7f3d7aba83b4d9b8182a730b8321f66": {
          "model_module": "@jupyter-widgets/controls",
          "model_name": "FloatProgressModel",
          "model_module_version": "1.5.0",
          "state": {
            "_dom_classes": [],
            "_model_module": "@jupyter-widgets/controls",
            "_model_module_version": "1.5.0",
            "_model_name": "FloatProgressModel",
            "_view_count": null,
            "_view_module": "@jupyter-widgets/controls",
            "_view_module_version": "1.5.0",
            "_view_name": "ProgressView",
            "bar_style": "",
            "description": "",
            "description_tooltip": null,
            "layout": "IPY_MODEL_1016151c49654b85b14f16338deb41bf",
            "max": 1,
            "min": 0,
            "orientation": "horizontal",
            "style": "IPY_MODEL_001e6c022aba464d846087bca9e955dd",
            "value": 1
          }
        },
        "0ad3cec56d324d4f932fc17870ca5fb8": {
          "model_module": "@jupyter-widgets/base",
          "model_name": "LayoutModel",
          "model_module_version": "1.2.0",
          "state": {
            "_model_module": "@jupyter-widgets/base",
            "_model_module_version": "1.2.0",
            "_model_name": "LayoutModel",
            "_view_count": null,
            "_view_module": "@jupyter-widgets/base",
            "_view_module_version": "1.2.0",
            "_view_name": "LayoutView",
            "align_content": null,
            "align_items": null,
            "align_self": null,
            "border": null,
            "bottom": null,
            "display": null,
            "flex": null,
            "flex_flow": null,
            "grid_area": null,
            "grid_auto_columns": null,
            "grid_auto_flow": null,
            "grid_auto_rows": null,
            "grid_column": null,
            "grid_gap": null,
            "grid_row": null,
            "grid_template_areas": null,
            "grid_template_columns": null,
            "grid_template_rows": null,
            "height": null,
            "justify_content": null,
            "justify_items": null,
            "left": null,
            "margin": null,
            "max_height": null,
            "max_width": null,
            "min_height": null,
            "min_width": null,
            "object_fit": null,
            "object_position": null,
            "order": null,
            "overflow": null,
            "overflow_x": null,
            "overflow_y": null,
            "padding": null,
            "right": null,
            "top": null,
            "visibility": null,
            "width": null
          }
        },
        "b1a5deadacae4ebca088e614d55b3d51": {
          "model_module": "@jupyter-widgets/base",
          "model_name": "LayoutModel",
          "model_module_version": "1.2.0",
          "state": {
            "_model_module": "@jupyter-widgets/base",
            "_model_module_version": "1.2.0",
            "_model_name": "LayoutModel",
            "_view_count": null,
            "_view_module": "@jupyter-widgets/base",
            "_view_module_version": "1.2.0",
            "_view_name": "LayoutView",
            "align_content": null,
            "align_items": null,
            "align_self": null,
            "border": null,
            "bottom": null,
            "display": null,
            "flex": null,
            "flex_flow": null,
            "grid_area": null,
            "grid_auto_columns": null,
            "grid_auto_flow": null,
            "grid_auto_rows": null,
            "grid_column": null,
            "grid_gap": null,
            "grid_row": null,
            "grid_template_areas": null,
            "grid_template_columns": null,
            "grid_template_rows": null,
            "height": null,
            "justify_content": null,
            "justify_items": null,
            "left": null,
            "margin": null,
            "max_height": null,
            "max_width": null,
            "min_height": null,
            "min_width": null,
            "object_fit": null,
            "object_position": null,
            "order": null,
            "overflow": null,
            "overflow_x": null,
            "overflow_y": null,
            "padding": null,
            "right": null,
            "top": null,
            "visibility": null,
            "width": null
          }
        },
        "7c31e75e624f40aeaea671bba8fe2015": {
          "model_module": "@jupyter-widgets/controls",
          "model_name": "DescriptionStyleModel",
          "model_module_version": "1.5.0",
          "state": {
            "_model_module": "@jupyter-widgets/controls",
            "_model_module_version": "1.5.0",
            "_model_name": "DescriptionStyleModel",
            "_view_count": null,
            "_view_module": "@jupyter-widgets/base",
            "_view_module_version": "1.2.0",
            "_view_name": "StyleView",
            "description_width": ""
          }
        },
        "1016151c49654b85b14f16338deb41bf": {
          "model_module": "@jupyter-widgets/base",
          "model_name": "LayoutModel",
          "model_module_version": "1.2.0",
          "state": {
            "_model_module": "@jupyter-widgets/base",
            "_model_module_version": "1.2.0",
            "_model_name": "LayoutModel",
            "_view_count": null,
            "_view_module": "@jupyter-widgets/base",
            "_view_module_version": "1.2.0",
            "_view_name": "LayoutView",
            "align_content": null,
            "align_items": null,
            "align_self": null,
            "border": null,
            "bottom": null,
            "display": null,
            "flex": null,
            "flex_flow": null,
            "grid_area": null,
            "grid_auto_columns": null,
            "grid_auto_flow": null,
            "grid_auto_rows": null,
            "grid_column": null,
            "grid_gap": null,
            "grid_row": null,
            "grid_template_areas": null,
            "grid_template_columns": null,
            "grid_template_rows": null,
            "height": null,
            "justify_content": null,
            "justify_items": null,
            "left": null,
            "margin": null,
            "max_height": null,
            "max_width": null,
            "min_height": null,
            "min_width": null,
            "object_fit": null,
            "object_position": null,
            "order": null,
            "overflow": null,
            "overflow_x": null,
            "overflow_y": null,
            "padding": null,
            "right": null,
            "top": null,
            "visibility": null,
            "width": null
          }
        },
        "001e6c022aba464d846087bca9e955dd": {
          "model_module": "@jupyter-widgets/controls",
          "model_name": "ProgressStyleModel",
          "model_module_version": "1.5.0",
          "state": {
            "_model_module": "@jupyter-widgets/controls",
            "_model_module_version": "1.5.0",
            "_model_name": "ProgressStyleModel",
            "_view_count": null,
            "_view_module": "@jupyter-widgets/base",
            "_view_module_version": "1.2.0",
            "_view_name": "StyleView",
            "bar_color": null,
            "description_width": ""
          }
        }
      }
    }
  },
  "nbformat": 4,
  "nbformat_minor": 0
}