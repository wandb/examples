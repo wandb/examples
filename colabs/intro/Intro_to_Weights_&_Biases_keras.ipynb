{
 "cells": [
  {
   "cell_type": "markdown",
   "metadata": {},
   "source": [
    "<img src=\"http://wandb.me/logo-im-png\" width=\"400\" alt=\"Weights & Biases\" />\n",
    "\n",
    "<!--- @wandbcode{intro-colab} -->\n",
    "\n",
    "# 🏃‍♀️ Quickstart\n",
    "Use Weights & Biases for machine learning experiment tracking, dataset versioning, and project collaboration.\n",
    "\n",
    "<img src=\"http://wandb.me/mini-diagram\" width=\"650\" alt=\"Weights & Biases\" />\n"
   ]
  },
  {
   "cell_type": "markdown",
   "metadata": {},
   "source": [
    "<a href=\"https://colab.research.google.com/github/wandb/examples/blob/master/colabs/intro/Intro_to_Weights_%26_Biases.ipynb\" target=\"_parent\"><img src=\"https://colab.research.google.com/assets/colab-badge.svg\" alt=\"Open In Colab\"/></a>"
   ]
  },
  {
   "cell_type": "markdown",
   "metadata": {},
   "source": [
    "With just a few lines of code,\n",
    "you'll get rich, interactive, shareable dashboards\n",
    "like the one in the screenshot below (interactive version\n",
    "[here](example](https://wandb.ai/stacey/deep-drive?workspace=user-lavanyashukla)))."
   ]
  },
  {
   "cell_type": "markdown",
   "metadata": {},
   "source": [
    "![](https://i.imgur.com/nHPvS1C.png)"
   ]
  },
  {
   "cell_type": "markdown",
   "metadata": {},
   "source": [
    "\n",
    "## 🔒 Data & Privacy\n",
    "\n",
    "We take security very seriously, and our cloud-hosted dashboard uses industry standard best practices for encryption. If you're working with datasets that cannot leave your enterprise cluster, we have [on-prem](https://docs.wandb.com/self-hosted) installations available. \n",
    "\n",
    "It's also easy to download all your data and export it to other tools— like custom analysis in a Jupyter notebook. Here's [more on our API](https://docs.wandb.com/library/api).\n",
    "\n",
    "\n"
   ]
  },
  {
   "cell_type": "markdown",
   "metadata": {},
   "source": [
    "Start by installing the library and logging in to your free account."
   ]
  },
  {
   "cell_type": "code",
   "execution_count": null,
   "metadata": {},
   "outputs": [],
   "source": [
    "!pip install wandb -qqq\n",
    "import wandb"
   ]
  },
  {
   "cell_type": "code",
   "execution_count": null,
   "metadata": {},
   "outputs": [],
   "source": [
    "# Log in to your W&B account\n",
    "wandb.login()"
   ]
  },
  {
   "cell_type": "markdown",
   "metadata": {},
   "source": [
    "## 👟 Run an experiment\n",
    "1️⃣. **Start a new run** and pass in hyperparameters to track\n",
    "\n",
    "2️⃣. **Log metrics** from training or evaluation\n",
    "\n",
    "3️⃣. **Visualize results** in the dashboard"
   ]
  },
  {
   "cell_type": "code",
   "execution_count": null,
   "metadata": {},
   "outputs": [],
   "source": [
    "import random\n",
    "\n",
    "# Launch 5 simulated experiments\n",
    "for run in range(5):\n",
    "  # 1️⃣ Start a new run to track this script\n",
    "  wandb.init(\n",
    "      # Set entity to specify your username or team name\n",
    "      # ex: entity=\"carey\",\n",
    "      # Set the project where this run will be logged\n",
    "      project=\"basic-intro\", \n",
    "      # Track hyperparameters and run metadata\n",
    "      config={\n",
    "      \"learning_rate\": 0.02,\n",
    "      \"architecture\": \"CNN\",\n",
    "      \"dataset\": \"CIFAR-100\",})\n",
    "  \n",
    "  # This simple block simulates a training loop logging metrics\n",
    "  offset = random.random() / 5\n",
    "  for ii in range(2, 10):\n",
    "      acc = 1 - 2 ** -ii - random.random() / ii - offset\n",
    "      loss = 2 ** -ii + random.random() / ii + offset\n",
    "      # 2️⃣ Log metrics from your script to W&B\n",
    "      wandb.log({\"acc\": acc, \"loss\": loss})\n",
    "      \n",
    "  # Mark the run as finished\n",
    "  wandb.finish()"
   ]
  },
  {
   "cell_type": "markdown",
   "metadata": {},
   "source": [
    "You can find your interactive dashboard by clicking any of the\n",
    "[project page]()\n",
    "(for a project-level dashboard)\n",
    "or [run page]()\n",
    "(for a run-level dashboard)\n",
    "links printed by the cell above."
   ]
  },
  {
   "cell_type": "markdown",
   "metadata": {},
   "source": [
    "You can also\n",
    "[interact with W&B dashboards inside Jupyter](http://wandb.me/jupyter-interact-colab).\n",
    "\n",
    "Here's a dashboard from an autonomous driving project, rendered interactively inside this notebook using the `%wandb` magic:"
   ]
  },
  {
   "cell_type": "code",
   "execution_count": null,
   "metadata": {},
   "outputs": [],
   "source": [
    "%wandb stacey/deep-drive/runs/1wyssjcx -h 720"
   ]
  },
  {
   "cell_type": "markdown",
   "metadata": {},
   "source": [
    "# 🧠 Example Model\n",
    "Train a quick model in Keras and track results with W&B. Check our [examples repo](https://github.com/wandb/examples) for scripts and\n",
    "[colabs](https://github.com/wandb/examples/tree/master/colabs)\n",
    "using Keras, PyTorch, TensorFlow, Scikit, XGBoost and more."
   ]
  },
  {
   "cell_type": "markdown",
   "metadata": {},
   "source": [
    "## 🥕 Simple Keras DNN\n",
    "Run this model to train a simple MNIST classifier, and click on the project page link to see your results stream in live to a W&B project.\n"
   ]
  },
  {
   "cell_type": "markdown",
   "metadata": {},
   "source": [
    "\n",
    "In addition to logged [metrics](https://docs.wandb.ai/ref/app/pages/run-page#charts-tab),\n",
    "[system information](https://docs.wandb.ai/ref/app/pages/run-page#system-tab),\n",
    "[hyperparameters](https://docs.wandb.ai/ref/app/pages/run-page#overview-tab), and\n",
    "[terminal output](https://docs.wandb.ai/ref/app/pages/run-page#logs-tab),\n",
    "you'll see an [interactive table](https://docs.wandb.ai/guides/data-vis)\n",
    "with model inputs and outputs.\n",
    "\n",
    "See [this Report](http://wandb.me/debug-dashboard)\n",
    "for an example visualization backed by this table --\n",
    "a model debugging dashboard --\n",
    "or read more about our Tables feature [here](https://docs.wandb.ai/guides/data-vis/tables-quickstart)."
   ]
  },
  {
   "cell_type": "code",
   "execution_count": null,
   "metadata": {},
   "outputs": [],
   "source": [
    "import random\n",
    "\n",
    "import numpy as np\n",
    "import tensorflow as tf\n",
    "from wandb.keras import WandbCallback\n",
    "\n",
    "# Simple Keras Model\n",
    "\n",
    "# Launch 20 experiments, trying different dropout rates\n",
    "for run in range(20):\n",
    "  # Start a run, tracking hyperparameters\n",
    "  wandb.init(\n",
    "      project=\"keras-intro\",\n",
    "      # Set entity to specify your username or team name\n",
    "      # ex: entity=\"wandb\",\n",
    "      config={\n",
    "          \"layer_1\": 512,\n",
    "          \"activation_1\": \"relu\",\n",
    "          \"dropout\": random.uniform(0.01, 0.80),\n",
    "          \"layer_2\": 10,\n",
    "          \"activation_2\": \"softmax\",\n",
    "          \"optimizer\": \"sgd\",\n",
    "          \"loss\": \"sparse_categorical_crossentropy\",\n",
    "          \"metric\": \"accuracy\",\n",
    "          \"epoch\": 6,\n",
    "          \"batch_size\": 256\n",
    "      })\n",
    "  config = wandb.config\n",
    "\n",
    "  # Get the data\n",
    "  mnist = tf.keras.datasets.mnist\n",
    "  (x_train, y_train), (x_test, y_test) = mnist.load_data()\n",
    "  x_train, x_test = x_train / 255.0, x_test / 255.0\n",
    "  x_train, y_train = x_train[::5], y_train[::5]  # Subset data for a faster demo\n",
    "  x_test, y_test = x_test[::20], y_test[::20]\n",
    "  labels = [str(digit) for digit in range(np.max(y_train) + 1)]\n",
    "\n",
    "  # Build a model\n",
    "  model = tf.keras.models.Sequential([\n",
    "      tf.keras.layers.Flatten(input_shape=(28, 28)),\n",
    "      tf.keras.layers.Dense(config.layer_1, activation=config.activation_1),\n",
    "      tf.keras.layers.Dropout(config.dropout),\n",
    "      tf.keras.layers.Dense(config.layer_2, activation=config.activation_2)\n",
    "      ])\n",
    "\n",
    "  model.compile(optimizer=config.optimizer,\n",
    "                loss=config.loss,\n",
    "                metrics=[config.metric]\n",
    "                )\n",
    "\n",
    "  # WandbCallback auto-saves all metrics from model.fit(), plus predictions on validation_data\n",
    "  logging_callback = WandbCallback(log_evaluation=True)\n",
    "\n",
    "  history = model.fit(x=x_train, y=y_train,\n",
    "                      epochs=config.epoch,\n",
    "                      batch_size=config.batch_size,\n",
    "                      validation_data=(x_test, y_test),\n",
    "                      callbacks=[logging_callback]\n",
    "                      )\n",
    "\n",
    "  # Mark the run as finished\n",
    "  wandb.finish()"
   ]
  },
  {
   "cell_type": "markdown",
   "metadata": {},
   "source": [
    "## 📊 Visualize Results\n",
    "\n",
    "Click on the \"[project page](https://docs.wandb.ai/ref/app/pages/project-page)\"\n",
    "link above to see your live results.\n"
   ]
  },
  {
   "cell_type": "markdown",
   "metadata": {},
   "source": [
    "\n",
    "## 🎨 Example Gallery\n",
    "\n",
    "See examples of projects tracked and visualized with W&B in our gallery, [Fully Connected→](https://app.wandb.ai/gallery)"
   ]
  },
  {
   "cell_type": "markdown",
   "metadata": {},
   "source": [
    "# 🏙️ Community\n",
    "\n",
    "Join a community of ML practitioners in our\n",
    "[Discourse forum→](http://wandb.me/and-you)"
   ]
  },
  {
   "cell_type": "markdown",
   "metadata": {},
   "source": [
    "# 📏 Best Practices\n",
    "\n",
    "1. **Projects**: Log multiple runs to a project to compare them. `wandb.init(project=\"project-name\")`\n",
    "2. **Groups**: For multiple processes or cross validation folds, log each process as a run and group them together. `wandb.init(group='experiment-1')`\n",
    "3. **Tags**: Add tags to track your current baseline or production model.\n",
    "4. **Notes**: Type notes in the table to track the changes between runs.\n",
    "5. **Reports**: Take quick notes on progress to share with colleagues and make dashboards and snapshots of your ML projects.\n"
   ]
  },
  {
   "cell_type": "markdown",
   "metadata": {},
   "source": [
    "\n",
    "### 🤓 Advanced Setup\n",
    "\n",
    "1. [Environment variables](https://docs.wandb.com/library/environment-variables): Set API keys in environment variables so you can run training on a managed cluster.\n",
    "2. [Offline mode](https://docs.wandb.com/library/technical-faq#can-i-run-wandb-offline): Use `dryrun` mode to train offline and sync results later.\n",
    "3. [On-prem](https://docs.wandb.com/self-hosted): Install W&B in a private cloud or air-gapped servers in your own infrastructure. We have local installations for everyone from academics to enterprise teams.\n",
    "4. [Sweeps](http://wandb.me/sweeps-colab): Set up hyperparameter search quickly with our lightweight tool for tuning.\n",
    "5. [Artifacts](http://wandb.me/artifacts-colab): Track and version models and datasets in a streamlined way that automatically picks up your pipeline steps as you train models.\n",
    "6. [Tables](http://wandb.me/dsviz-nature-colab): Log, query, and analyze tabular data. Understand your datasets, visualize model predictions, and share insights in a central dashboard."
   ]
  }
 ],
 "metadata": {
  "kernelspec": {
   "display_name": "Python 3",
   "name": "python3"
  }
 },
 "nbformat": 4,
 "nbformat_minor": 0
}
