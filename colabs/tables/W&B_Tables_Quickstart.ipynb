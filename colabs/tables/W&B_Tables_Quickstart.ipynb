{
 "cells": [
  {
   "cell_type": "markdown",
   "metadata": {},
   "source": [
    "<img src=\"https://i.imgur.com/gb6B4ig.png\" width=\"300\" alt=\"Weights & Biases\" />\n",
    "\n",
    "<!--- @wandbcode{tables_quickstart} -->\n",
    "\n",
    "# W&B Tables for Data Visualization\n",
    "\n",
    "Try logging tabular data to visualize and query in the Weights & Biases interactive dashboard."
   ]
  },
  {
   "cell_type": "markdown",
   "metadata": {},
   "source": [
    "<a href=\"https://colab.research.google.com/github/wandb/examples/blob/master/colabs/tables/W%26B_Tables_Quickstart.ipynb\" target=\"_parent\"><img src=\"https://colab.research.google.com/assets/colab-badge.svg\" alt=\"Open In Colab\"/></a>"
   ]
  },
  {
   "cell_type": "code",
   "execution_count": null,
   "metadata": {},
   "outputs": [],
   "source": [
    "# Install Weights & Biases logging library\n",
    "!pip install wandb -qqq"
   ]
  },
  {
   "cell_type": "code",
   "execution_count": null,
   "metadata": {},
   "outputs": [],
   "source": [
    "# Import libraries\n",
    "import wandb\n",
    "import numpy as np\n",
    "import pandas as pd\n",
    "from sklearn.datasets import load_iris"
   ]
  },
  {
   "cell_type": "code",
   "execution_count": null,
   "metadata": {},
   "outputs": [],
   "source": [
    "# Download a simple dataset\n",
    "iris = load_iris()\n",
    "# Load it into a dataframe\n",
    "iris_dataframe = pd.DataFrame(data=np.c_[iris['data'], iris['target']],\n",
    "                     columns=iris['feature_names'] + ['target'])"
   ]
  },
  {
   "cell_type": "code",
   "execution_count": null,
   "metadata": {},
   "outputs": [],
   "source": [
    "# Start a W&B run to log data\n",
    "wandb.init(project=\"Tables-Quickstart\")\n",
    "# Log the dataframe to visualize\n",
    "wandb.log({\"iris\": iris_dataframe})\n",
    "# Finish the run (useful in notebooks)\n",
    "wandb.finish()"
   ]
  },
  {
   "cell_type": "markdown",
   "metadata": {},
   "source": [
    "Once you execute the code cells above, look for the blue [run page](https://docs.wandb.com/ref/app/pages/run-page) link in the console, and click to view the dashboard in the Weights & Biases app.\n",
    "\n",
    "[Here's an example dashboard](https://wandb.ai/wandb/Tables%20Quickstart?workspace=user-carey) from a previous execution of this notebook.\n",
    "\n",
    "You can also run the cell below to [render the dashboard inside the notebook](http://wandb/me/jupyter-interact-colab)."
   ]
  },
  {
   "cell_type": "code",
   "execution_count": null,
   "metadata": {},
   "outputs": [],
   "source": [
    "%wandb charlesfrye/Tables-Quickstart -h 1024"
   ]
  }
 ],
 "metadata": {
  "kernelspec": {
   "display_name": "Python 3",
   "name": "python3"
  }
 },
 "nbformat": 4,
 "nbformat_minor": 0
}
