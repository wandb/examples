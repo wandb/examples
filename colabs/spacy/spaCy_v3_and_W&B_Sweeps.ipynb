{
 "cells": [
  {
   "cell_type": "markdown",
   "metadata": {},
   "source": [
    "<img src=\"https://i.imgur.com/gb6B4ig.png\" width=\"400\" alt=\"Weights & Biases\" />\n",
    "\n",
    "<!--- @wandbcode{spacy-sweeps} -->\n"
   ]
  },
  {
   "cell_type": "markdown",
   "metadata": {},
   "source": [
    "<a href=\"https://colab.research.google.com/github/wandb/examples/blob/master/colabs/spacy/spaCy_v3_and_W%26B_Sweeps.ipynb\" target=\"_parent\"><img src=\"https://colab.research.google.com/assets/colab-badge.svg\" alt=\"Open In Colab\"/></a>"
   ]
  },
  {
   "cell_type": "markdown",
   "metadata": {},
   "source": [
    "[Weights & Biases](https://wandb.ai/site) makes running collaborative machine learning projects a breeze. You can focus on what you're trying to experiment with, and W&B will take on the burden of keeping track of everything. If you want to review a loss plot, download the latest model for production, or just see which configurations produced a certain model, W&B is your friend. There's also a bunch of features to help you and your team collaborate, like having a shared dashboard and sharing interactive reports."
   ]
  },
  {
   "cell_type": "markdown",
   "metadata": {},
   "source": [
    "![SpaCy_logo.svg.png](data:image/png;base64,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)"
   ]
  },
  {
   "cell_type": "markdown",
   "metadata": {},
   "source": [
    "[spaCy](https://spacy.io/) can serve a lot of your Natural Language Processing (NLP) needs out-of-the-box. This includes Named Entity Recognition (NER), Part of Speech tagging, text classification and more. Even better, these components are all customizable, extendable and composable."
   ]
  },
  {
   "cell_type": "markdown",
   "metadata": {},
   "source": [
    "# Hyperparameter Search with W&B + spaCy\n",
    "\n",
    "This notebook accompanies and implements a\n",
    "[blog post](https://wandb.ai/wandb/wandb_spacy_sweeps/reports/Hyperparameter-Search-with-spaCy-and-Weights-Biases--Vmlldzo5NDA2MjE)\n",
    "on automating hyperparameter search for spaCy models using W&B sweeps.\n",
    "\n",
    "Run the cells below to start your own hyperparameter search.\n",
    "\n",
    "The code is organized as a [spaCy `project`](https://spacy.io/usage/projects/), available [here](https://github.com/explosion/projects/tree/v3/integrations/wandb)."
   ]
  },
  {
   "cell_type": "markdown",
   "metadata": {},
   "source": [
    "# Setup"
   ]
  },
  {
   "cell_type": "code",
   "execution_count": null,
   "metadata": {},
   "outputs": [],
   "source": [
    "!pip install -qq \"spacy >= 3.0.6\"\n",
    "!pip install -qq wandb --upgrade"
   ]
  },
  {
   "cell_type": "markdown",
   "metadata": {},
   "source": [
    "## ✍️ Login to W&B\n",
    "\n"
   ]
  },
  {
   "cell_type": "code",
   "execution_count": null,
   "metadata": {},
   "outputs": [],
   "source": [
    "import wandb\n",
    "\n",
    "wandb.login()"
   ]
  },
  {
   "cell_type": "markdown",
   "metadata": {},
   "source": [
    "# Clone the project with `spacy project clone`"
   ]
  },
  {
   "cell_type": "code",
   "execution_count": null,
   "metadata": {},
   "outputs": [],
   "source": [
    "!python -m spacy project clone integrations/wandb\n",
    "%cd /content/wandb/"
   ]
  },
  {
   "cell_type": "markdown",
   "metadata": {},
   "source": [
    "# Install the project-specific dependencies"
   ]
  },
  {
   "cell_type": "code",
   "execution_count": null,
   "metadata": {},
   "outputs": [],
   "source": [
    "!python -m spacy project run install"
   ]
  },
  {
   "cell_type": "markdown",
   "metadata": {},
   "source": [
    "# Download the project-specific assets"
   ]
  },
  {
   "cell_type": "code",
   "execution_count": null,
   "metadata": {},
   "outputs": [],
   "source": [
    "!python -m spacy project assets"
   ]
  },
  {
   "cell_type": "markdown",
   "metadata": {},
   "source": [
    "# Run the hyperparameter search"
   ]
  },
  {
   "cell_type": "markdown",
   "metadata": {},
   "source": [
    "Running the cell below will produce a Sweeps page 🧹 link which you can follow to see the all the metrics of your runs."
   ]
  },
  {
   "cell_type": "code",
   "execution_count": null,
   "metadata": {},
   "outputs": [],
   "source": [
    "!python -m spacy project run parameter-search"
   ]
  }
 ],
 "metadata": {
  "kernelspec": {
   "display_name": "Python 3",
   "language": "python",
   "name": "python3"
  }
 },
 "nbformat": 4,
 "nbformat_minor": 0
}
