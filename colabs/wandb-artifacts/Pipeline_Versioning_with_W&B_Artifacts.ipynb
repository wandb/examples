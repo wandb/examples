{
 "accelerator": "GPU",
 "cells": [
  {
   "cell_type": "markdown",
   "metadata": {},
   "source": [
    "<a href=\"https://colab.research.google.com/github/wandb/examples/blob/master/colabs/wandb-artifacts/Pipeline_Versioning_with_W&B_Artifacts.ipynb\" target=\"_parent\"><img src=\"https://colab.research.google.com/assets/colab-badge.svg\" alt=\"Open In Colab\"/></a>\n",
    "<!--- @wandbcode{artifacts-pipeline} -->"
   ]
  },
  {
   "cell_type": "markdown",
   "metadata": {},
   "source": [
    "<img src=\"https://i.imgur.com/gb6B4ig.png\" width=\"400\" alt=\"Weights & Biases\" />\n",
    "\n",
    "<!--- @wandbcode{artifacts-pipeline} -->\n",
    "\n",
    "# 🏺 Artifacts 🏺\n",
    "\n",
    "In this notebook, we'll show you how to use W&B Artifacts (🏺)\n",
    "to track your ML experiment pipelines (🧪).\n",
    "Our sophisticated mathematical models predict the following result:\n",
    "\n",
    "$$\n",
    "{\\Huge\n",
    "🧪 + 🏺 = 😃}\n",
    "$$\n"
   ]
  },
  {
   "cell_type": "markdown",
   "metadata": {},
   "source": [
    "### Follow along with a [video tutorial](http://tiny.cc/wb-artifacts-video)!"
   ]
  },
  {
   "cell_type": "markdown",
   "metadata": {},
   "source": [
    "### 🤔 What are Artifacts and Why Should I Care?\n",
    "\n",
    "An \"artifact\", like a Greek [amphora 🏺](https://en.wikipedia.org/wiki/Amphora),\n",
    "is a produced object -- the output of a process.\n",
    "In ML, the most important artifacts are _datasets_ and _models_.\n",
    "\n",
    "And, like the [Cross of Coronado](https://indianajones.fandom.com/wiki/Cross_of_Coronado), these important artifacts belong in a museum!\n",
    "That is, they should be cataloged and organized\n",
    "so that you, your team, and the ML community at large can learn from them.\n",
    "After all, those who don't track training are doomed to repeat it.\n",
    "\n",
    "Using our Artifacts API, you can log `Artifact`s as outputs of W&B `Run`s or use `Artifact`s as input to `Run`s, as in this diagram,\n",
    "where a training run takes in a dataset and produces a model.\n",
    " \n",
    " ![](https://gblobscdn.gitbook.com/assets%2F-Lqya5RvLedGEWPhtkjU%2F-M94QAXA-oJmE6q07_iT%2F-M94QJCXLeePzH1p_fW1%2Fsimple%20artifact%20diagram%202.png?alt=media&token=94bc438a-bd3b-414d-a4e4-aa4f6f359f21)\n",
    "\n",
    "Since one run can use another's output as an input, Artifacts and Runs together form a directed graph -- actually, a bipartite [DAG](https://en.wikipedia.org/wiki/Directed_acyclic_graph)! -- with nodes for `Artifact`s and `Run`s\n",
    "and arrows connecting `Run`s to the `Artifact`s they consume or produce."
   ]
  },
  {
   "cell_type": "markdown",
   "metadata": {},
   "source": [
    "# 0️⃣ Install and Import"
   ]
  },
  {
   "cell_type": "markdown",
   "metadata": {},
   "source": [
    "Artifacts are part of our Python library, starting with version `0.9.2`.\n",
    "\n",
    "Like most parts of the ML Python stack, it's available via `pip`."
   ]
  },
  {
   "cell_type": "code",
   "execution_count": null,
   "metadata": {},
   "outputs": [],
   "source": [
    "# Compatible with wandb version 0.9.2+\n",
    "!pip install wandb -qqq\n",
    "!apt install tree"
   ]
  },
  {
   "cell_type": "code",
   "execution_count": null,
   "metadata": {},
   "outputs": [],
   "source": [
    "import os\n",
    "import wandb"
   ]
  },
  {
   "cell_type": "markdown",
   "metadata": {},
   "source": [
    "# 1️⃣ Log a Dataset"
   ]
  },
  {
   "cell_type": "markdown",
   "metadata": {},
   "source": [
    "First, let's define some Artifacts.\n",
    "\n",
    "This example is based off of this PyTorch\n",
    "[\"Basic MNIST Example\"](https://github.com/pytorch/examples/tree/master/mnist/),\n",
    "but could just as easily have been done in [TensorFlow](http://wandb.me/artifacts-colab), in any other framework,\n",
    "or in pure Python.\n",
    "\n",
    "We start with the `Dataset`s:\n",
    "- a `train`ing set, for choosing the parameters,\n",
    "- a `validation` set, for choosing the hyperparameters,\n",
    "- a `test`ing set, for evaluating the final model\n",
    "\n",
    "The first cell below defines these three datasets."
   ]
  },
  {
   "cell_type": "code",
   "execution_count": null,
   "metadata": {},
   "outputs": [],
   "source": [
    "import random \n",
    "\n",
    "import torch\n",
    "import torchvision\n",
    "from torch.utils.data import TensorDataset\n",
    "from tqdm.auto import tqdm\n",
    "\n",
    "# Ensure deterministic behavior\n",
    "torch.backends.cudnn.deterministic = True\n",
    "random.seed(0)\n",
    "torch.manual_seed(0)\n",
    "torch.cuda.manual_seed_all(0)\n",
    "\n",
    "# Device configuration\n",
    "device = torch.device(\"cuda:0\" if torch.cuda.is_available() else \"cpu\")\n",
    "\n",
    "# Data parameters\n",
    "num_classes = 10\n",
    "input_shape = (1, 28, 28)\n",
    "\n",
    "# drop slow mirror from list of MNIST mirrors\n",
    "torchvision.datasets.MNIST.mirrors = [mirror for mirror in torchvision.datasets.MNIST.mirrors\n",
    "                                      if not mirror.startswith(\"http://yann.lecun.com\")]\n",
    "\n",
    "def load(train_size=50_000):\n",
    "    \"\"\"\n",
    "    # Load the data\n",
    "    \"\"\"\n",
    "\n",
    "    # the data, split between train and test sets\n",
    "    train = torchvision.datasets.MNIST(\"./\", train=True, download=True)\n",
    "    test = torchvision.datasets.MNIST(\"./\", train=False, download=True)\n",
    "    (x_train, y_train), (x_test, y_test) = (train.data, train.targets), (test.data, test.targets)\n",
    "\n",
    "    # split off a validation set for hyperparameter tuning\n",
    "    x_train, x_val = x_train[:train_size], x_train[train_size:]\n",
    "    y_train, y_val = y_train[:train_size], y_train[train_size:]\n",
    "\n",
    "    training_set = TensorDataset(x_train, y_train)\n",
    "    validation_set = TensorDataset(x_val, y_val)\n",
    "    test_set = TensorDataset(x_test, y_test)\n",
    "\n",
    "    datasets = [training_set, validation_set, test_set]\n",
    "\n",
    "    return datasets"
   ]
  },
  {
   "cell_type": "markdown",
   "metadata": {},
   "source": [
    "This sets up a pattern we'll see repeated in this example:\n",
    "the code to log the data as an Artifact is wrapped around the code for\n",
    "producing that data.\n",
    "In this case, the code for `load`ing the data is\n",
    "separated out from the code for `load_and_log`ging the data.\n",
    "\n",
    "This is good practice!"
   ]
  },
  {
   "cell_type": "markdown",
   "metadata": {},
   "source": [
    "In order to log these datasets as Artifacts,\n",
    "we just need to\n",
    "1. create a `Run` with `wandb.init`, (L4)\n",
    "2. create an `Artifact` for the dataset (L10), and\n",
    "3. save and log the associated `file`s (L20, L23).\n",
    "\n",
    "Check out the example the code cell below\n",
    "and then expand the sections afterwards for more details."
   ]
  },
  {
   "cell_type": "code",
   "execution_count": null,
   "metadata": {},
   "outputs": [],
   "source": [
    "def load_and_log():\n",
    "\n",
    "    # 🚀 start a run, with a type to label it and a project it can call home\n",
    "    with wandb.init(project=\"artifacts-example\", job_type=\"load-data\") as run:\n",
    "        \n",
    "        datasets = load()  # separate code for loading the datasets\n",
    "        names = [\"training\", \"validation\", \"test\"]\n",
    "\n",
    "        # 🏺 create our Artifact\n",
    "        raw_data = wandb.Artifact(\n",
    "            \"mnist-raw\", type=\"dataset\",\n",
    "            description=\"Raw MNIST dataset, split into train/val/test\",\n",
    "            metadata={\"source\": \"torchvision.datasets.MNIST\",\n",
    "                      \"sizes\": [len(dataset) for dataset in datasets]})\n",
    "\n",
    "        for name, data in zip(names, datasets):\n",
    "            # 🐣 Store a new file in the artifact, and write something into its contents.\n",
    "            with raw_data.new_file(name + \".pt\", mode=\"wb\") as file:\n",
    "                x, y = data.tensors\n",
    "                torch.save((x, y), file)\n",
    "\n",
    "        # ✍️ Save the artifact to W&B.\n",
    "        run.log_artifact(raw_data)\n",
    "\n",
    "load_and_log()"
   ]
  },
  {
   "cell_type": "markdown",
   "metadata": {},
   "source": [
    "### 🚀 `wandb.init`"
   ]
  },
  {
   "cell_type": "markdown",
   "metadata": {},
   "source": [
    "\n",
    "When we make the `Run` that's going to produce the `Artifact`s,\n",
    "we need to state which `project` it belongs to.\n",
    "\n",
    "Depending on your workflow,\n",
    "a project might be as big as `car-that-drives-itself`\n",
    "or as small as `iterative-architecture-experiment-117`.\n",
    "\n",
    "> **Rule of 👍**: if you can, keep all of the `Run`s that share `Artifact`s\n",
    "inside a single project. This keeps things simple,\n",
    "but don't worry -- `Artifact`s are portable across projects!\n",
    "\n",
    "To help keep track of all the different kinds of jobs you might run,\n",
    "it's useful to provide a `job_type` when making `Runs`.\n",
    "This keeps the graph of your Artifacts nice and tidy.\n",
    "\n",
    "> **Rule of 👍**: the `job_type` should be descriptive and correspond to a single step of your pipeline. Here, we separate out `load`ing data from `preprocess`ing data."
   ]
  },
  {
   "cell_type": "markdown",
   "metadata": {},
   "source": [
    "### 🏺 `wandb.Artifact`"
   ]
  },
  {
   "cell_type": "markdown",
   "metadata": {},
   "source": [
    "\n",
    "To log something as an `Artifact`, we have to first make an `Artifact` object.\n",
    "\n",
    "Every `Artifact` has a `name` -- that's what the first argument sets.\n",
    "\n",
    "> **Rule of 👍**: the `name` should be descriptive, but easy to remember and type --\n",
    "we like to use names that are hyphen-separated and correspond to variable names in the code.\n",
    "\n",
    "It also has a `type`. Just like `job_type`s for `Run`s,\n",
    "this is used for organizing the graph of `Run`s and `Artifact`s.\n",
    "\n",
    "> **Rule of 👍**: the `type` should be simple:\n",
    "more like `dataset` or `model`\n",
    "than `mnist-data-YYYYMMDD`.\n",
    "\n",
    "You can also attach a `description` and some `metadata`, as a dictionary.\n",
    "The `metadata` just needs to be serializable to JSON.\n",
    "\n",
    "> **Rule of 👍**: the `metadata` should be as descriptive as possible."
   ]
  },
  {
   "cell_type": "markdown",
   "metadata": {},
   "source": [
    "### 🐣 `artifact.new_file` and ✍️ `run.log_artifact`"
   ]
  },
  {
   "cell_type": "markdown",
   "metadata": {},
   "source": [
    "Once we've made an `Artifact` object, we need to add files to it.\n",
    "\n",
    "You read that right: _files_ with an _s_.\n",
    "`Artifact`s are structured like directories,\n",
    "with files and sub-directories.\n",
    "\n",
    "> **Rule of 👍**: whenever it makes sense to do so, split the contents\n",
    "of an `Artifact` up into multiple files. This will help if it comes time to scale!\n",
    "\n",
    "We use the `new_file` method\n",
    "to simultaneously write the file and attach it to the `Artifact`.\n",
    "Below, we'll use the `add_file` method,\n",
    "which separates those two steps.\n",
    "\n",
    "Once we've added all of our files, we need to `log_artifact` to [wandb.ai](https://wandb.ai).\n",
    "\n",
    "You'll notice some URLs appeared in the output,\n",
    "including one for the Run page.\n",
    "That's where you can view the results of the `Run`,\n",
    "including any `Artifact`s that got logged.\n",
    "\n",
    "We'll see some examples that make better use of the other components of the Run page below."
   ]
  },
  {
   "cell_type": "markdown",
   "metadata": {},
   "source": [
    "# 2️⃣ Use a Logged Dataset Artifact"
   ]
  },
  {
   "cell_type": "markdown",
   "metadata": {},
   "source": [
    "`Artifact`s in W&B, unlike artifacts in museums,\n",
    "are designed to be _used_, not just stored.\n",
    "\n",
    "Let's see what that looks like.\n",
    "\n",
    "The cell below defines a pipeline step that takes in a raw dataset\n",
    "and uses it to produce a `preprocess`ed dataset:\n",
    "`normalize`d and shaped correctly.\n",
    "\n",
    "Notice again that we split out the meat of the code, `preprocess`,\n",
    "from the code that interfaces with `wandb`."
   ]
  },
  {
   "cell_type": "code",
   "execution_count": null,
   "metadata": {},
   "outputs": [],
   "source": [
    "def preprocess(dataset, normalize=True, expand_dims=True):\n",
    "    \"\"\"\n",
    "    ## Prepare the data\n",
    "    \"\"\"\n",
    "    x, y = dataset.tensors\n",
    "\n",
    "    if normalize:\n",
    "        # Scale images to the [0, 1] range\n",
    "        x = x.type(torch.float32) / 255\n",
    "\n",
    "    if expand_dims:\n",
    "        # Make sure images have shape (1, 28, 28)\n",
    "        x = torch.unsqueeze(x, 1)\n",
    "    \n",
    "    return TensorDataset(x, y)"
   ]
  },
  {
   "cell_type": "markdown",
   "metadata": {},
   "source": [
    "Now for the code that instruments this `preprocess` step with `wandb.Artifact` logging.\n",
    "\n",
    "Note that the example below both `use`s an `Artifact`,\n",
    "which is new,\n",
    "and `log`s it,\n",
    "which is the same as the last step.\n",
    "`Artifact`s are both the inputs and the outputs of `Run`s!\n",
    "\n",
    "We use a new `job_type`, `preprocess-data`,\n",
    "to make it clear that this is a different kind of job from the previous one."
   ]
  },
  {
   "cell_type": "code",
   "execution_count": null,
   "metadata": {},
   "outputs": [],
   "source": [
    "def preprocess_and_log(steps):\n",
    "\n",
    "    with wandb.init(project=\"artifacts-example\", job_type=\"preprocess-data\") as run:\n",
    "\n",
    "        processed_data = wandb.Artifact(\n",
    "            \"mnist-preprocess\", type=\"dataset\",\n",
    "            description=\"Preprocessed MNIST dataset\",\n",
    "            metadata=steps)\n",
    "         \n",
    "        # ✔️ declare which artifact we'll be using\n",
    "        raw_data_artifact = run.use_artifact('mnist-raw:latest')\n",
    "\n",
    "        # 📥 if need be, download the artifact\n",
    "        raw_dataset = raw_data_artifact.download()\n",
    "        \n",
    "        for split in [\"training\", \"validation\", \"test\"]:\n",
    "            raw_split = read(raw_dataset, split)\n",
    "            processed_dataset = preprocess(raw_split, **steps)\n",
    "\n",
    "            with processed_data.new_file(split + \".pt\", mode=\"wb\") as file:\n",
    "                x, y = processed_dataset.tensors\n",
    "                torch.save((x, y), file)\n",
    "\n",
    "        run.log_artifact(processed_data)\n",
    "\n",
    "\n",
    "def read(data_dir, split):\n",
    "    filename = split + \".pt\"\n",
    "    x, y = torch.load(os.path.join(data_dir, filename))\n",
    "\n",
    "    return TensorDataset(x, y)"
   ]
  },
  {
   "cell_type": "markdown",
   "metadata": {},
   "source": [
    "One thing to notice here is that the `steps` of the preprocessing\n",
    "are saved with the `preprocessed_data` as `metadata`.\n",
    "\n",
    "If you're trying to make your experiments reproducible,\n",
    "capturing lots of metadata is a good idea!\n",
    "\n",
    "Also, even though our dataset is a \"`large artifact`\",\n",
    "the `download` step is done in much less than a second.\n",
    "\n",
    "Expand the markdown cell below for details."
   ]
  },
  {
   "cell_type": "code",
   "execution_count": null,
   "metadata": {},
   "outputs": [],
   "source": [
    "steps = {\"normalize\": True,\n",
    "         \"expand_dims\": True}\n",
    "\n",
    "preprocess_and_log(steps)"
   ]
  },
  {
   "cell_type": "markdown",
   "metadata": {},
   "source": [
    "### ✔️ `run.use_artifact`"
   ]
  },
  {
   "cell_type": "markdown",
   "metadata": {},
   "source": [
    "These steps are simpler. The consumer just needs to know the `name` of the `Artifact`, plus a bit more.\n",
    "\n",
    "That \"bit more\" is the `alias` of the particular version of the `Artifact` you want.\n",
    "\n",
    "By default, the last version to be uploaded is tagged `latest`.\n",
    "Otherwise, you can pick older versions with `v0`/`v1`, etc.,\n",
    "or you can provide your own aliases, like `best` or `jit-script`.\n",
    "Just like [Docker Hub](https://hub.docker.com/) tags,\n",
    "aliases are separated from names with `:`,\n",
    "so the `Artifact` we want is `mnist-raw:latest`.\n",
    "\n",
    "> **Rule of 👍**: Keep aliases short and sweet.\n",
    "Use custom `alias`es like `latest` or `best` when you want an `Artifact`\n",
    "that satisifies some property"
   ]
  },
  {
   "cell_type": "markdown",
   "metadata": {},
   "source": [
    "### 📥 `artifact.download`"
   ]
  },
  {
   "cell_type": "markdown",
   "metadata": {},
   "source": [
    "\n",
    "Now, you may be worrying about the `download` call.\n",
    "If we download another copy, won't that double the burden on memory?\n",
    "\n",
    "Don't worry friend. Before we actually download anything,\n",
    "we check to see if the right version is available locally.\n",
    "This uses the same technology that underlies [torrenting](https://en.wikipedia.org/wiki/Torrent_file) and [version control with `git`](https://blog.thoughtram.io/git/2014/11/18/the-anatomy-of-a-git-commit.html): hashing.\n",
    "\n",
    "As `Artifact`s are created and logged,\n",
    "a folder called `artifacts` in the working directory\n",
    "will start to fill with sub-directories,\n",
    "one for each `Artifact`.\n",
    "Check out its contents with `!tree artifacts`:"
   ]
  },
  {
   "cell_type": "code",
   "execution_count": null,
   "metadata": {},
   "outputs": [],
   "source": [
    "!tree artifacts"
   ]
  },
  {
   "cell_type": "markdown",
   "metadata": {},
   "source": [
    "### 🌐 The Artifacts page on [wandb.ai](https://wandb.ai)\n",
    "\n",
    "Now that we've logged and used an `Artifact`,\n",
    "let's check out the Artifacts tab on the Run page.\n",
    "\n",
    "Navigate to the Run page URL from the `wandb` output\n",
    "and select the \"Artifacts\" tab from the left sidebar\n",
    "(it's the one with the database icon,\n",
    "which looks like three hockey pucks stacked on top of one another).\n",
    "\n",
    "Click a row in either the \"Input Artifacts\" table\n",
    "or in the \"Output Artifacts\" table,\n",
    "then check out the tabs (\"Overview\", \"Metadata\")\n",
    "to see everything logged about the `Artifact`.\n",
    "\n",
    "We particularly like the \"Graph View\".\n",
    "By default, it shows a graph\n",
    "with the `type`s of `Artifact`s\n",
    "and the `job_type`s of `Run` as the two types of nodes,\n",
    "with arrows to represent consumption and production."
   ]
  },
  {
   "cell_type": "markdown",
   "metadata": {},
   "source": [
    "# 3️⃣ Log a Model"
   ]
  },
  {
   "cell_type": "markdown",
   "metadata": {},
   "source": [
    "That's enough to see how the API for `Artifact`s works,\n",
    "but let's follow this example through to the end of the pipeline\n",
    "so we can see how `Artifact`s can improve your ML workflow.\n",
    "\n",
    "This first cell here builds a DNN `model` in PyTorch -- a really simple ConvNet.\n",
    "\n",
    "We'll start by just initializing the `model`, not training it.\n",
    "That way, we can repeat the training while keeping everything else constant."
   ]
  },
  {
   "cell_type": "code",
   "execution_count": null,
   "metadata": {},
   "outputs": [],
   "source": [
    "from math import floor\n",
    "\n",
    "import torch.nn as nn\n",
    "\n",
    "class ConvNet(nn.Module):\n",
    "    def __init__(self, hidden_layer_sizes=[32, 64],\n",
    "                  kernel_sizes=[3],\n",
    "                  activation=\"ReLU\",\n",
    "                  pool_sizes=[2],\n",
    "                  dropout=0.5,\n",
    "                  num_classes=num_classes,\n",
    "                  input_shape=input_shape):\n",
    "      \n",
    "        super(ConvNet, self).__init__()\n",
    "\n",
    "        self.layer1 = nn.Sequential(\n",
    "              nn.Conv2d(in_channels=input_shape[0], out_channels=hidden_layer_sizes[0], kernel_size=kernel_sizes[0]),\n",
    "              getattr(nn, activation)(),\n",
    "              nn.MaxPool2d(kernel_size=pool_sizes[0])\n",
    "        )\n",
    "        self.layer2 = nn.Sequential(\n",
    "              nn.Conv2d(in_channels=hidden_layer_sizes[0], out_channels=hidden_layer_sizes[-1], kernel_size=kernel_sizes[-1]),\n",
    "              getattr(nn, activation)(),\n",
    "              nn.MaxPool2d(kernel_size=pool_sizes[-1])\n",
    "        )\n",
    "        self.layer3 = nn.Sequential(\n",
    "              nn.Flatten(),\n",
    "              nn.Dropout(dropout)\n",
    "        )\n",
    "\n",
    "        fc_input_dims = floor((input_shape[1] - kernel_sizes[0] + 1) / pool_sizes[0]) # layer 1 output size\n",
    "        fc_input_dims = floor((fc_input_dims - kernel_sizes[-1] + 1) / pool_sizes[-1]) # layer 2 output size\n",
    "        fc_input_dims = fc_input_dims*fc_input_dims*hidden_layer_sizes[-1] # layer 3 output size\n",
    "\n",
    "        self.fc = nn.Linear(fc_input_dims, num_classes)\n",
    "\n",
    "    def forward(self, x):\n",
    "        x = self.layer1(x)\n",
    "        x = self.layer2(x)\n",
    "        x = self.layer3(x)\n",
    "        x = self.fc(x)\n",
    "        return x"
   ]
  },
  {
   "cell_type": "markdown",
   "metadata": {},
   "source": [
    "Here, we're using W&B to track the run,\n",
    "and so using the [`wandb.config`](https://colab.research.google.com/github/wandb/examples/blob/master/colabs/wandb-config/Configs_in_W%26B.ipynb)\n",
    "object to store all of the hyperparameters.\n",
    "\n",
    "The `dict`ionary version of that `config` object is a really useful piece of `metadata`, so make sure to include it!"
   ]
  },
  {
   "cell_type": "code",
   "execution_count": null,
   "metadata": {},
   "outputs": [],
   "source": [
    "def build_model_and_log(config):\n",
    "    with wandb.init(project=\"artifacts-example\", job_type=\"initialize\", config=config) as run:\n",
    "        config = wandb.config\n",
    "        \n",
    "        model = ConvNet(**config)\n",
    "\n",
    "        model_artifact = wandb.Artifact(\n",
    "            \"convnet\", type=\"model\",\n",
    "            description=\"Simple AlexNet style CNN\",\n",
    "            metadata=dict(config))\n",
    "\n",
    "        torch.save(model.state_dict(), \"initialized_model.pth\")\n",
    "        # ➕ another way to add a file to an Artifact\n",
    "        model_artifact.add_file(\"initialized_model.pth\")\n",
    "\n",
    "        wandb.save(\"initialized_model.pth\")\n",
    "\n",
    "        run.log_artifact(model_artifact)\n",
    "\n",
    "model_config = {\"hidden_layer_sizes\": [32, 64],\n",
    "                \"kernel_sizes\": [3],\n",
    "                \"activation\": \"ReLU\",\n",
    "                \"pool_sizes\": [2],\n",
    "                \"dropout\": 0.5,\n",
    "                \"num_classes\": 10}\n",
    "\n",
    "build_model_and_log(model_config)"
   ]
  },
  {
   "cell_type": "markdown",
   "metadata": {},
   "source": [
    "### ➕ `artifact.add_file`"
   ]
  },
  {
   "cell_type": "markdown",
   "metadata": {},
   "source": [
    "\n",
    "Instead of simultaneously writing a `new_file` and adding it to the `Artifact`,\n",
    "as in the dataset logging examples,\n",
    "we can also write files in one step\n",
    "(here, `torch.save`)\n",
    "and then `add` them to the `Artifact` in another.\n",
    "\n",
    "> **Rule of 👍**: use `new_file` when you can, to prevent duplication."
   ]
  },
  {
   "cell_type": "markdown",
   "metadata": {},
   "source": [
    "# 4️⃣ Use a Logged Model Artifact"
   ]
  },
  {
   "cell_type": "markdown",
   "metadata": {},
   "source": [
    "Just like we could call `use_artifact` on a `dataset`,\n",
    "we can call it on our `initialized_model`\n",
    "to use it in another `Run`.\n",
    "\n",
    "This time, let's `train` the `model`.\n",
    "\n",
    "For more details, check out our Colab on\n",
    "[instrumenting W&B with PyTorch](http://wandb.me/pytorch-colab)."
   ]
  },
  {
   "cell_type": "code",
   "execution_count": null,
   "metadata": {},
   "outputs": [],
   "source": [
    "import torch.nn.functional as F\n",
    "\n",
    "def train(model, train_loader, valid_loader, config):\n",
    "    optimizer = getattr(torch.optim, config.optimizer)(model.parameters())\n",
    "    model.train()\n",
    "    example_ct = 0\n",
    "    for epoch in range(config.epochs):\n",
    "        for batch_idx, (data, target) in enumerate(train_loader):\n",
    "            data, target = data.to(device), target.to(device)\n",
    "            optimizer.zero_grad()\n",
    "            output = model(data)\n",
    "            loss = F.cross_entropy(output, target)\n",
    "            loss.backward()\n",
    "            optimizer.step()\n",
    "\n",
    "            example_ct += len(data)\n",
    "\n",
    "            if batch_idx % config.batch_log_interval == 0:\n",
    "                print('Train Epoch: {} [{}/{} ({:.0%})]\\tLoss: {:.6f}'.format(\n",
    "                    epoch, batch_idx * len(data), len(train_loader.dataset),\n",
    "                    batch_idx / len(train_loader), loss.item()))\n",
    "                \n",
    "                train_log(loss, example_ct, epoch)\n",
    "\n",
    "        # evaluate the model on the validation set at each epoch\n",
    "        loss, accuracy = test(model, valid_loader)  \n",
    "        test_log(loss, accuracy, example_ct, epoch)\n",
    "\n",
    "    \n",
    "def test(model, test_loader):\n",
    "    model.eval()\n",
    "    test_loss = 0\n",
    "    correct = 0\n",
    "    with torch.no_grad():\n",
    "        for data, target in test_loader:\n",
    "            data, target = data.to(device), target.to(device)\n",
    "            output = model(data)\n",
    "            test_loss += F.cross_entropy(output, target, reduction='sum')  # sum up batch loss\n",
    "            pred = output.argmax(dim=1, keepdim=True)  # get the index of the max log-probability\n",
    "            correct += pred.eq(target.view_as(pred)).sum()\n",
    "\n",
    "    test_loss /= len(test_loader.dataset)\n",
    "\n",
    "    accuracy = 100. * correct / len(test_loader.dataset)\n",
    "    \n",
    "    return test_loss, accuracy\n",
    "\n",
    "\n",
    "def train_log(loss, example_ct, epoch):\n",
    "    loss = float(loss)\n",
    "\n",
    "    # where the magic happens\n",
    "    wandb.log({\"epoch\": epoch, \"train/loss\": loss}, step=example_ct)\n",
    "    print(f\"Loss after \" + str(example_ct).zfill(5) + f\" examples: {loss:.3f}\")\n",
    "    \n",
    "\n",
    "def test_log(loss, accuracy, example_ct, epoch):\n",
    "    loss = float(loss)\n",
    "    accuracy = float(accuracy)\n",
    "\n",
    "    # where the magic happens\n",
    "    wandb.log({\"epoch\": epoch, \"validation/loss\": loss, \"validation/accuracy\": accuracy}, step=example_ct)\n",
    "    print(f\"Loss/accuracy after \" + str(example_ct).zfill(5) + f\" examples: {loss:.3f}/{accuracy:.3f}\")"
   ]
  },
  {
   "cell_type": "markdown",
   "metadata": {},
   "source": [
    "We'll run two separate `Artifact`-producing `Run`s this time.\n",
    "\n",
    "Once the first finishes `train`ing the `model`,\n",
    "the `second` will consume the `trained-model` `Artifact`\n",
    "by `evaluate`ing its performance on the `test_dataset`.\n",
    "\n",
    "Also, we'll pull out the 32 examples on which the network gets the most confused --\n",
    "on which the `categorical_crossentropy` is highest.\n",
    "\n",
    "This is a good way to diagnose issues with your dataset and your model!"
   ]
  },
  {
   "cell_type": "code",
   "execution_count": null,
   "metadata": {},
   "outputs": [],
   "source": [
    "def evaluate(model, test_loader):\n",
    "    \"\"\"\n",
    "    ## Evaluate the trained model\n",
    "    \"\"\"\n",
    "\n",
    "    loss, accuracy = test(model, test_loader)\n",
    "    highest_losses, hardest_examples, true_labels, predictions = get_hardest_k_examples(model, test_loader.dataset)\n",
    "\n",
    "    return loss, accuracy, highest_losses, hardest_examples, true_labels, predictions\n",
    "\n",
    "def get_hardest_k_examples(model, testing_set, k=32):\n",
    "    model.eval()\n",
    "\n",
    "    loader = DataLoader(testing_set, 1, shuffle=False)\n",
    "\n",
    "    # get the losses and predictions for each item in the dataset\n",
    "    losses = None\n",
    "    predictions = None\n",
    "    with torch.no_grad():\n",
    "        for data, target in loader:\n",
    "            data, target = data.to(device), target.to(device)\n",
    "            output = model(data)\n",
    "            loss = F.cross_entropy(output, target)\n",
    "            pred = output.argmax(dim=1, keepdim=True)\n",
    "            \n",
    "            if losses is None:\n",
    "                losses = loss.view((1, 1))\n",
    "                predictions = pred\n",
    "            else:\n",
    "                losses = torch.cat((losses, loss.view((1, 1))), 0)\n",
    "                predictions = torch.cat((predictions, pred), 0)\n",
    "\n",
    "    argsort_loss = torch.argsort(losses, dim=0)\n",
    "\n",
    "    highest_k_losses = losses[argsort_loss[-k:]]\n",
    "    hardest_k_examples = testing_set[argsort_loss[-k:]][0]\n",
    "    true_labels = testing_set[argsort_loss[-k:]][1]\n",
    "    predicted_labels = predictions[argsort_loss[-k:]]\n",
    "\n",
    "    return highest_k_losses, hardest_k_examples, true_labels, predicted_labels"
   ]
  },
  {
   "cell_type": "markdown",
   "metadata": {},
   "source": [
    "These logging functions don't add any new `Artifact` features,\n",
    "so we won't comment on them:\n",
    "we're just `use`ing, `download`ing,\n",
    "and `log`ging `Artifact`s."
   ]
  },
  {
   "cell_type": "code",
   "execution_count": null,
   "metadata": {},
   "outputs": [],
   "source": [
    "from torch.utils.data import DataLoader\n",
    "\n",
    "def train_and_log(config):\n",
    "\n",
    "    with wandb.init(project=\"artifacts-example\", job_type=\"train\", config=config) as run:\n",
    "        config = wandb.config\n",
    "\n",
    "        data = run.use_artifact('mnist-preprocess:latest')\n",
    "        data_dir = data.download()\n",
    "\n",
    "        training_dataset =  read(data_dir, \"training\")\n",
    "        validation_dataset = read(data_dir, \"validation\")\n",
    "\n",
    "        train_loader = DataLoader(training_dataset, batch_size=config.batch_size)\n",
    "        validation_loader = DataLoader(validation_dataset, batch_size=config.batch_size)\n",
    "        \n",
    "        model_artifact = run.use_artifact(\"convnet:latest\")\n",
    "        model_dir = model_artifact.download()\n",
    "        model_path = os.path.join(model_dir, \"initialized_model.pth\")\n",
    "        model_config = model_artifact.metadata\n",
    "        config.update(model_config)\n",
    "\n",
    "        model = ConvNet(**model_config)\n",
    "        model.load_state_dict(torch.load(model_path))\n",
    "        model = model.to(device)\n",
    " \n",
    "        train(model, train_loader, validation_loader, config)\n",
    "\n",
    "        model_artifact = wandb.Artifact(\n",
    "            \"trained-model\", type=\"model\",\n",
    "            description=\"Trained NN model\",\n",
    "            metadata=dict(model_config))\n",
    "\n",
    "        torch.save(model.state_dict(), \"trained_model.pth\")\n",
    "        model_artifact.add_file(\"trained_model.pth\")\n",
    "        wandb.save(\"trained_model.pth\")\n",
    "\n",
    "        run.log_artifact(model_artifact)\n",
    "\n",
    "    return model\n",
    "\n",
    "    \n",
    "def evaluate_and_log(config=None):\n",
    "    \n",
    "    with wandb.init(project=\"artifacts-example\", job_type=\"report\", config=config) as run:\n",
    "        data = run.use_artifact('mnist-preprocess:latest')\n",
    "        data_dir = data.download()\n",
    "        testing_set = read(data_dir, \"test\")\n",
    "\n",
    "        test_loader = torch.utils.data.DataLoader(testing_set, batch_size=128, shuffle=False)\n",
    "\n",
    "        model_artifact = run.use_artifact(\"trained-model:latest\")\n",
    "        model_dir = model_artifact.download()\n",
    "        model_path = os.path.join(model_dir, \"trained_model.pth\")\n",
    "        model_config = model_artifact.metadata\n",
    "\n",
    "        model = ConvNet(**model_config)\n",
    "        model.load_state_dict(torch.load(model_path))\n",
    "        model.to(device)\n",
    "\n",
    "        loss, accuracy, highest_losses, hardest_examples, true_labels, preds = evaluate(model, test_loader)\n",
    "\n",
    "        run.summary.update({\"loss\": loss, \"accuracy\": accuracy})\n",
    "\n",
    "        wandb.log({\"high-loss-examples\":\n",
    "            [wandb.Image(hard_example, caption=str(int(pred)) + \",\" +  str(int(label)))\n",
    "             for hard_example, pred, label in zip(hardest_examples, preds, true_labels)]})"
   ]
  },
  {
   "cell_type": "code",
   "execution_count": null,
   "metadata": {},
   "outputs": [],
   "source": [
    "train_config = {\"batch_size\": 128,\n",
    "                \"epochs\": 5,\n",
    "                \"batch_log_interval\": 25,\n",
    "                \"optimizer\": \"Adam\"}\n",
    "\n",
    "model = train_and_log(train_config)\n",
    "evaluate_and_log()"
   ]
  },
  {
   "cell_type": "markdown",
   "metadata": {},
   "source": [
    "### 🔁 The Graph View\n",
    "\n",
    "Notice that we changed the `type` of the `Artifact`:\n",
    "these `Run`s used a `model`, rather than `dataset`.\n",
    "`Run`s that produce `model`s will be separated\n",
    "from those that produce `dataset`s in the graph view on the Artifacts page.\n",
    "\n",
    "Go check it out! As before, you'll want to head to the Run page,\n",
    "select the \"Artifacts\" tab from the left sidebar,\n",
    "pick an `Artifact`,\n",
    "and then click the \"Graph View\" tab."
   ]
  },
  {
   "cell_type": "markdown",
   "metadata": {},
   "source": [
    "\n",
    "### 💣 Exploded Graphs"
   ]
  },
  {
   "cell_type": "markdown",
   "metadata": {},
   "source": [
    "You may have noticed a button labeled \"Explode\". Don't click that, as it will set off a small bomb underneath your humble author's desk in the W&B HQ!\n",
    "\n",
    "Just kidding. It \"explodes\" the graph in a much gentler way:\n",
    "`Artifact`s and `Run`s become separated at the level of a single instance,\n",
    "rather than a `type`:\n",
    "the nodes are not `dataset` and `load-data`, but `dataset:mnist-raw:v1` and `load-data:sunny-smoke-1`, and so on.\n",
    "\n",
    "This provides total insight into your pipeline,\n",
    "with logged metrics, metadata, and more\n",
    "all at your fingertips --\n",
    "you're only limited by what you choose to log with us."
   ]
  }
 ],
 "metadata": {
  "kernelspec": {
   "display_name": "Python 3.10.5 64-bit",
   "language": "python",
   "name": "python3"
  }
 },
 "nbformat": 4,
 "nbformat_minor": 0
}
