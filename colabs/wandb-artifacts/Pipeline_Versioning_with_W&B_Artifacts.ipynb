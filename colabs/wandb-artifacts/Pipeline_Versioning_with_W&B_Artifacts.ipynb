{
  "nbformat": 4,
  "nbformat_minor": 0,
  "metadata": {
    "colab": {
      "name": "Pipeline Versioning with W&B Artifacts",
      "provenance": [],
      "private_outputs": true,
      "collapsed_sections": [
        "8A5aj32pEXHs",
        "o009LqLwEQkG",
        "wIhAc8zjI7Zg",
        "4smXoW4RSWsg",
        "5JAU4gvm2pOz",
        "RyMOJCfqgTto",
        "y2JFEQZ1oiob"
      ],
      "toc_visible": true,
      "include_colab_link": true
    },
    "kernelspec": {
      "name": "python3",
      "display_name": "Python 3"
    },
    "accelerator": "GPU"
  },
  "cells": [
    {
      "cell_type": "markdown",
      "metadata": {
        "id": "view-in-github",
        "colab_type": "text"
      },
      "source": [
        "<a href=\"https://colab.research.google.com/github/wandb/examples/blob/master/colabs/wandb-artifacts/Pipeline_Versioning_with_W%26B_Artifacts.ipynb\" target=\"_parent\"><img src=\"https://colab.research.google.com/assets/colab-badge.svg\" alt=\"Open In Colab\"/></a>"
      ]
    },
    {
      "cell_type": "markdown",
      "metadata": {
        "id": "hpPsCoeioB9F"
      },
      "source": [
        "<img src=\"https://i.imgur.com/gb6B4ig.png\" width=\"400\" alt=\"Weights & Biases\" />\n",
        "\n",
        "# 🏺 Artifacts 🏺\n",
        "\n",
        "In this notebook, we'll show you how to use W&B Artifacts (🏺)\n",
        "to track your ML experiment pipelines (🧪).\n",
        "Our sophisticated mathematical models predict the following result:\n",
        "\n",
        "$$\n",
        "{\\Huge\n",
        "🧪 + 🏺 = 😃}\n",
        "$$\n"
      ]
    },
    {
      "cell_type": "markdown",
      "metadata": {
        "id": "w0msIV2W_oRZ"
      },
      "source": [
        "\n",
        "### 🤔 What are Artifacts and Why Should I Care?\n",
        "\n",
        "An \"artifact\", like a Greek [amphora 🏺](https://en.wikipedia.org/wiki/Amphora),\n",
        "is a produced object -- the output of a process.\n",
        "In ML, the most important artifacts are _datasets_ and _models_.\n",
        "\n",
        "And, like the [Cross of Coronado](https://indianajones.fandom.com/wiki/Cross_of_Coronado), these important artifacts belong in a museum!\n",
        "That is, they should be cataloged and organized\n",
        "so that you, your team, and the ML community at large can learn from them.\n",
        "After all, those who don't track training are doomed to repeat it.\n",
        "\n",
        "Using our Artifacts API, you can log `Artifact`s as outputs of W&B `Run`s or use `Artifact`s as input to `Run`s, as in this diagram,\n",
        "where a training run takes in a dataset and produces a model.\n",
        " \n",
        " ![](https://gblobscdn.gitbook.com/assets%2F-Lqya5RvLedGEWPhtkjU%2F-M94QAXA-oJmE6q07_iT%2F-M94QJCXLeePzH1p_fW1%2Fsimple%20artifact%20diagram%202.png?alt=media&token=94bc438a-bd3b-414d-a4e4-aa4f6f359f21)\n",
        "\n",
        "Since one run can use another's output as an input, Artifacts and Runs together form a directed graph -- actually, a bipartite [DAG](https://en.wikipedia.org/wiki/Directed_acyclic_graph)! -- with nodes for `Artifact`s and `Run`s\n",
        "and arrows connecting `Run`s to the `Artifact`s they consume or produce.\n",
        "\n"
      ]
    },
    {
      "cell_type": "markdown",
      "metadata": {
        "id": "AsmjJi7bBcwh"
      },
      "source": [
        "# 0️⃣ Install and Import"
      ]
    },
    {
      "cell_type": "markdown",
      "metadata": {
        "id": "fAJc0tVhBhCJ"
      },
      "source": [
        "Artifacts are part of our Python library, starting with version `0.9.2`.\n",
        "\n",
        "Like most parts of the ML Python stack, it's available via `pip`."
      ]
    },
    {
      "cell_type": "code",
      "metadata": {
        "id": "Ny-d-pHrnrui"
      },
      "source": [
        "# Compatible with wandb version 0.9.2+\n",
        "!pip install wandb -qqq\n",
        "!apt install tree"
      ],
      "execution_count": null,
      "outputs": []
    },
    {
      "cell_type": "code",
      "metadata": {
        "id": "6CIHL0Ovn9iR"
      },
      "source": [
        "import os\n",
        "import wandb"
      ],
      "execution_count": null,
      "outputs": []
    },
    {
      "cell_type": "markdown",
      "metadata": {
        "id": "8oHEjUi1AMvJ"
      },
      "source": [
        "# 1️⃣ Log a Dataset"
      ]
    },
    {
      "cell_type": "markdown",
      "metadata": {
        "id": "BbHr9LfnCQNl"
      },
      "source": [
        "First, let's define some Artifacts.\n",
        "\n",
        "This example is based off of Francois Chollet's\n",
        "[\"Simple MNIST ConvNet Example\"](https://keras.io/examples/vision/mnist_convnet/),\n",
        "but could just as easily have been done in PyTorch, in any other framework,\n",
        "or in pure Python.\n",
        "\n",
        "We start with the `Dataset`s:\n",
        "- a `train`ing set, for choosing the parameters,\n",
        "- a `validation` set, for choosing the hyperparameters,\n",
        "- a `test`ing set, for evaluating the final model\n",
        "\n",
        "The first cell below defines these three datasets."
      ]
    },
    {
      "cell_type": "code",
      "metadata": {
        "id": "vpk-bXM8Bwi2"
      },
      "source": [
        "import random\n",
        "\n",
        "import numpy as np\n",
        "import tensorflow as tf\n",
        "from tensorflow import keras\n",
        "from tensorflow.keras import layers\n",
        "\n",
        "# Set the random seeds\n",
        "os.environ['TF_CUDNN_DETERMINISTIC'] = '1' \n",
        "random.seed(hash(\"setting random seeds\") % 2**32 - 1)\n",
        "np.random.seed(hash(\"improves reproducibility\") % 2**32 - 1)\n",
        "tf.random.set_seed(hash(\"by removing stochasticity\") % 2**32 - 1)\n",
        "\n",
        "from collections import namedtuple\n",
        "\n",
        "Dataset = namedtuple(\"Dataset\", [\"x\", \"y\"])\n",
        "\n",
        "# Data parameters\n",
        "num_classes = 10\n",
        "input_shape = (28, 28, 1)\n",
        "\n",
        "def load(train_size=50_000):\n",
        "    \"\"\"\n",
        "    # Load the data\n",
        "    \"\"\"\n",
        "    # the data, split between train and test sets\n",
        "    (x_train, y_train), (x_test, y_test) = keras.datasets.mnist.load_data()\n",
        "\n",
        "    # split off a validation set for hyperparameter tuning\n",
        "    x_train, x_val = x_train[:train_size], x_train[train_size:]\n",
        "    y_train, y_val = y_train[:train_size], y_train[train_size:]\n",
        "\n",
        "    training_set = Dataset(x_train, y_train)\n",
        "    validation_set = Dataset(x_val, y_val)\n",
        "    test_set = Dataset(x_test, y_test)\n",
        "\n",
        "    datasets = [training_set, validation_set, test_set]\n",
        "\n",
        "    return datasets"
      ],
      "execution_count": null,
      "outputs": []
    },
    {
      "cell_type": "markdown",
      "metadata": {
        "id": "mCFTZs-iDiwI"
      },
      "source": [
        "This sets up a pattern we'll see repeated in this example:\n",
        "the code to log the data as an Artifact is wrapped around the code for\n",
        "producing that data.\n",
        "In this case, the code for `load`ing the data is\n",
        "separated out from the code for `load_and_log`ging the data.\n",
        "\n",
        "This is good practice!"
      ]
    },
    {
      "cell_type": "markdown",
      "metadata": {
        "id": "5TetHxXoC-f_"
      },
      "source": [
        "In order to log these datasets as Artifacts,\n",
        "we just need to\n",
        "1. create a `Run` with `wandb.init`, (L3)\n",
        "2. create an `Artifact` for the dataset (e.g. L7), and\n",
        "3. save and log the associated `file`s (L26, L31).\n",
        "\n",
        "Check out the example the code cell below\n",
        "and then expand the sections afterwards for more details."
      ]
    },
    {
      "cell_type": "code",
      "metadata": {
        "id": "ZYgAEjIJCVaY"
      },
      "source": [
        "def load_and_log():\n",
        "\n",
        "    # 🚀 start a run, with a type to label it and a project it can call home\n",
        "    with wandb.init(project=\"artifacts-example\", job_type=\"load-data\") as run:\n",
        "        \n",
        "        datasets = load()  # separate code for loading the datasets\n",
        "        names = [\"training\", \"validation\", \"test\"]\n",
        "\n",
        "        # 🏺 create our Artifact\n",
        "        raw_data = wandb.Artifact(\n",
        "            \"mnist-raw\", type=\"dataset\",\n",
        "            description=\"Raw MNIST dataset, split into train/val/test\",\n",
        "            metadata={\"source\": \"keras.datasets.mnist\",\n",
        "                      \"sizes\": [len(dataset.x) for dataset in datasets]})\n",
        "\n",
        "        for name, data in zip(names, datasets):\n",
        "            # 🐣 Store a new file in the artifact, and write something into its contents.\n",
        "            with raw_data.new_file(name + \".npz\", mode=\"wb\") as file:\n",
        "                np.savez(file, x=data.x, y=data.y)\n",
        "\n",
        "        # ✍️ Save the artifact to W&B.\n",
        "        run.log_artifact(raw_data)\n",
        "\n",
        "load_and_log()"
      ],
      "execution_count": null,
      "outputs": []
    },
    {
      "cell_type": "markdown",
      "metadata": {
        "id": "8A5aj32pEXHs"
      },
      "source": [
        "### 🚀 `wandb.init`\n"
      ]
    },
    {
      "cell_type": "markdown",
      "metadata": {
        "id": "rXrAryBDIwZa"
      },
      "source": [
        "\n",
        "When we make the `Run` that's going to produce the `Artifact`s,\n",
        "we need to state which `project` it belongs to.\n",
        "\n",
        "Depending on your workflow,\n",
        "a project might be as big as `car-that-drives-itself`\n",
        "or as small as `iterative-architecture-experiment-117`.\n",
        "\n",
        "> **Rule of 👍**: if you can, keep all of the `Run`s that share `Artifact`s\n",
        "inside a single project. This keeps things simple,\n",
        "but don't worry -- `Artifact`s are portable across projects!\n",
        "\n",
        "To help keep track of all the different kinds of jobs you might run,\n",
        "it's useful to provide a `job_type` when making `Runs`.\n",
        "This keeps the graph of your Artifacts nice and tidy.\n",
        "\n",
        "> **Rule of 👍**: the `job_type` should be descriptive and correspond to a single step of your pipeline. Here, we separate out `load`ing data from `preprocess`ing data."
      ]
    },
    {
      "cell_type": "markdown",
      "metadata": {
        "id": "o009LqLwEQkG"
      },
      "source": [
        "### 🏺 `wandb.Artifact`\n"
      ]
    },
    {
      "cell_type": "markdown",
      "metadata": {
        "id": "9VP6ZGGUIyId"
      },
      "source": [
        "\n",
        "To log something as an `Artifact`, we have to first make an `Artifact` object.\n",
        "\n",
        "Every `Artifact` has a `name` -- that's what the first argument sets.\n",
        "\n",
        "> **Rule of 👍**: the `name` should be descriptive, but easy to remember and type --\n",
        "we like to use names that are hyphen-separated and correspond to variable names in the code.\n",
        "\n",
        "It also has a `type`. Just like `job_type`s for `Run`s,\n",
        "this is used for organizing the graph of `Run`s and `Artifact`s.\n",
        "\n",
        "> **Rule of 👍**: the `type` should be simple:\n",
        "more like `dataset` or `model`\n",
        "than `mnist-data-YYYYMMDD`.\n",
        "\n",
        "You can also attach a `description` and some `metadata`, as a dictionary.\n",
        "The `metadata` just needs to be serializable to JSON.\n",
        "\n",
        "> **Rule of 👍**: the `metadata` should be as descriptive as possible."
      ]
    },
    {
      "cell_type": "markdown",
      "metadata": {
        "id": "wIhAc8zjI7Zg"
      },
      "source": [
        "### 🐣 `artifact.new_file` and ✍️ `run.log_artifact`"
      ]
    },
    {
      "cell_type": "markdown",
      "metadata": {
        "id": "NaDOhxMNJEp3"
      },
      "source": [
        "Once we've made an `Artifact` object, we need to add files to it.\n",
        "\n",
        "You read that right: _files_ with an _s_.\n",
        "`Artifact`s are structured like directories,\n",
        "with files and sub-directories.\n",
        "\n",
        "> **Rule of 👍**: whenever it makes sense to do so, split the contents\n",
        "of an `Artifact` up into multiple files. This will help if it comes time to scale!\n",
        "\n",
        "We use the `new_file` method\n",
        "to simultaneously write the file and attach it to the `Artifact`.\n",
        "Below, we'll use the `add_file` method,\n",
        "which separates those two steps.\n",
        "\n",
        "Once we've added all of our files, we need to `log_artifact` to [wandb.ai](https://wandb.ai).\n",
        "\n",
        "You'll notice some URLs appeared in the output,\n",
        "including one for the Run page.\n",
        "That's where you can view the results of the `Run`,\n",
        "including any `Artifact`s that got logged.\n",
        "\n",
        "We'll see some examples that make better use of the other components of the Run page below."
      ]
    },
    {
      "cell_type": "markdown",
      "metadata": {
        "id": "lrhTlkN-Ac_r"
      },
      "source": [
        "# 2️⃣ Use a Logged Dataset Artifact"
      ]
    },
    {
      "cell_type": "markdown",
      "metadata": {
        "id": "i-JjqzZsOQ1y"
      },
      "source": [
        "`Artifact`s in W&B, unlike artifacts in museums,\n",
        "are designed to be _used_, not just stored.\n",
        "\n",
        "Let's see what that looks like.\n",
        "\n",
        "The cell below defines a pipeline step that takes in a raw dataset\n",
        "and uses it to produce a `preprocess`ed dataset:\n",
        "`normalize`d and shaped correctly.\n",
        "\n",
        "Notice again that we split out the meat of the code, `preprocess`,\n",
        "from the code that interfaces with `wandb`."
      ]
    },
    {
      "cell_type": "code",
      "metadata": {
        "id": "XZ3dp-1jCbEG"
      },
      "source": [
        "def preprocess(dataset, normalize=True, expand_dims=True, to_categorical=True):\n",
        "    \"\"\"\n",
        "    ## Prepare the data\n",
        "    \"\"\"\n",
        "    x, y = dataset.x, dataset.y\n",
        "\n",
        "    if normalize:\n",
        "        # Scale images to the [0, 1] range\n",
        "        x = x.astype(\"float32\") / 255\n",
        "\n",
        "    if expand_dims:\n",
        "        # Make sure images have shape (28, 28, 1)\n",
        "        x = np.expand_dims(x, -1)\n",
        "\n",
        "    if to_categorical:\n",
        "        # convert class vectors to binary class matrices\n",
        "        y = keras.utils.to_categorical(y, num_classes)\n",
        "        \n",
        "    return Dataset(x, y)"
      ],
      "execution_count": null,
      "outputs": []
    },
    {
      "cell_type": "markdown",
      "metadata": {
        "id": "MzczshSIP2GZ"
      },
      "source": [
        "Now for the code that instruments this `preprocess` step with `wandb.Artifact` logging.\n",
        "\n",
        "Note that the example below both `use`s an `Artifact`,\n",
        "which is new,\n",
        "and `log`s it,\n",
        "which is the same as the last step.\n",
        "`Artifact`s are both the inputs and the outputs of `Run`s!\n",
        "\n",
        "We use a new `job_type`, `preprocess-data`,\n",
        "to make it clear that this is a different kind of job from the previous one."
      ]
    },
    {
      "cell_type": "code",
      "metadata": {
        "id": "8FnhZZuoKYF7"
      },
      "source": [
        "def preprocess_and_log(steps):\n",
        "\n",
        "    with wandb.init(project=\"artifacts-example\", job_type=\"preprocess-data\") as run:\n",
        "\n",
        "        processed_data = wandb.Artifact(\n",
        "            \"mnist-preprocess\", type=\"dataset\",\n",
        "            description=\"Preprocessed MNIST dataset\",\n",
        "            metadata=steps)\n",
        "         \n",
        "        # ✔️ declare which artifact we'll be using\n",
        "        raw_data_artifact = run.use_artifact('mnist-raw:latest')\n",
        "\n",
        "        # 📥 if need be, download the artifact\n",
        "        raw_dataset = raw_data_artifact.download()\n",
        "        \n",
        "        for split in [\"training\", \"validation\", \"test\"]:\n",
        "            raw_split = read(raw_dataset, split)\n",
        "            processed_dataset = preprocess(raw_split, **steps)\n",
        "\n",
        "            with processed_data.new_file(split + \".npz\", mode=\"wb\") as file:\n",
        "                np.savez(file, x=processed_dataset.x, y=processed_dataset.y)\n",
        "\n",
        "        run.log_artifact(processed_data)\n",
        "\n",
        "\n",
        "def read(data_dir, split):\n",
        "    filename = split + \".npz\"\n",
        "    data = np.load(os.path.join(data_dir, filename))\n",
        "\n",
        "    return Dataset(x=data[\"x\"], y=data[\"y\"])"
      ],
      "execution_count": null,
      "outputs": []
    },
    {
      "cell_type": "markdown",
      "metadata": {
        "id": "t7MXQa90S4D6"
      },
      "source": [
        "One thing to notice here is that the `steps` of the preprocessing\n",
        "are saved with the `preprocessed_data` as `metadata`.\n",
        "\n",
        "If you're trying to make your experiments reproducible,\n",
        "capturing lots of metadata is a good idea!\n",
        "\n",
        "Also, even though our dataset is a \"`large artifact`\",\n",
        "the `download` step is done in much less than a second.\n",
        "\n",
        "Expand the markdown cell below for details."
      ]
    },
    {
      "cell_type": "code",
      "metadata": {
        "id": "uILDl9W2klj8"
      },
      "source": [
        "steps = {\"normalize\": True,\n",
        "         \"expand_dims\": True,\n",
        "         \"to_categorical\" : True}\n",
        "\n",
        "preprocess_and_log(steps)"
      ],
      "execution_count": null,
      "outputs": []
    },
    {
      "cell_type": "markdown",
      "metadata": {
        "id": "4smXoW4RSWsg"
      },
      "source": [
        "### ✔️ `run.use_artifact`"
      ]
    },
    {
      "cell_type": "markdown",
      "metadata": {
        "id": "9qANAEuUS0gN"
      },
      "source": [
        "These steps are simpler. Tthe consumer just needs to know the `name` of the `Artifact`, plus a bit more.\n",
        "\n",
        "That \"bit more\" is the `alias` of the particular version of the `Artifact` you want.\n",
        "\n",
        "By default, the last version to be uploaded is tagged `latest`.\n",
        "Otherwise, you can pick older versions with `v0`/`v1`, etc.,\n",
        "or you can provide your own aliases, like `best` or `tensorflow-js`.\n",
        "Just like [Docker Hub](https://hub.docker.com/) tags,\n",
        "aliases are separated from names with `:`,\n",
        "so the `Artifact` we want is `mnist-raw:latest`.\n",
        "\n",
        "> **Rule of 👍**: Keep aliases short and sweet.\n",
        "Use custom `alias`es like `latest` or `best` when you want an `Artifact`\n",
        "that satisifies some property\n",
        "\n"
      ]
    },
    {
      "cell_type": "markdown",
      "metadata": {
        "id": "5JAU4gvm2pOz"
      },
      "source": [
        "### 📥 `artifact.download`"
      ]
    },
    {
      "cell_type": "markdown",
      "metadata": {
        "id": "TyluBbeO2nek"
      },
      "source": [
        "\n",
        "Now, you may be worrying about the `download` call.\n",
        "If we download another copy, won't that double the burden on memory?\n",
        "\n",
        "Don't worry friend. Before we actually download anything,\n",
        "we check to see if the right version is available locally.\n",
        "This uses the same technology that underlies [torrenting](https://en.wikipedia.org/wiki/Torrent_file) and [version control with `git`](https://blog.thoughtram.io/git/2014/11/18/the-anatomy-of-a-git-commit.html): hashing.\n",
        "\n",
        "As `Artifact`s are created and logged,\n",
        "a folder called `artifacts` in the working directory\n",
        "will start to fill with sub-directories,\n",
        "one for each `Artifact`.\n",
        "Check out its contents with `!tree artifacts`:"
      ]
    },
    {
      "cell_type": "code",
      "metadata": {
        "id": "cNG90PF52u3F"
      },
      "source": [
        "!tree artifacts"
      ],
      "execution_count": null,
      "outputs": []
    },
    {
      "cell_type": "markdown",
      "metadata": {
        "id": "V-tvtlIXmpxn"
      },
      "source": [
        "### 🌐 The Artifacts page on [wandb.ai](https://wandb.ai)\n",
        "\n",
        "Now that we've logged and used an `Artifact`,\n",
        "let's check out the Artifacts tab on the Run page.\n",
        "\n",
        "Navigate to the Run page URL from the `wandb` output\n",
        "and select the \"Artifacts\" tab from the left sidebar\n",
        "(it's the one with the database icon,\n",
        "which looks like three hockey pucks stacked on top of one another).\n",
        "\n",
        "Click a row in either the \"Input Artifacts\" table\n",
        "or in the \"Output Artifacts\" table,\n",
        "then check out the tabs (\"Overview\", \"Metadata\")\n",
        "to see everything logged about the `Artifact`.\n",
        "\n",
        "We particularly like the \"Graph View\".\n",
        "By default, it shows a graph\n",
        "with the `type`s of `Artifact`s\n",
        "and the `job_type`s of `Run` as the two types of nodes,\n",
        "with arrows to represent consumption and production."
      ]
    },
    {
      "cell_type": "markdown",
      "metadata": {
        "id": "T2bwBqHeAhIV"
      },
      "source": [
        "# 3️⃣ Log a Model"
      ]
    },
    {
      "cell_type": "markdown",
      "metadata": {
        "id": "pBSG48J6dulW"
      },
      "source": [
        "That's enough to see how the API for `Artifact`s works,\n",
        "but let's follow this example through to the end of the pipeline\n",
        "so we can see how `Artifact`s can improve your ML workflow.\n",
        "\n",
        "This first cell here builds a DNN `model` in Keras -- a really simple ConvNet,\n",
        "a la [Francois Chollet](https://keras.io/examples/vision/mnist_convnet/).\n",
        "\n",
        "We'll start by just initializing the `model`, not training it.\n",
        "That way, we can repeat the training while keeping everything else constant."
      ]
    },
    {
      "cell_type": "code",
      "metadata": {
        "id": "_400yZUTV9A2"
      },
      "source": [
        "def build_model(hidden_layer_sizes=[32, 64],\n",
        "                kernel_sizes=[(3, 3)],\n",
        "                activation=\"relu\",\n",
        "                pool_sizes=[(2, 2)],\n",
        "                dropout=0.5,\n",
        "                num_classes=10,\n",
        "                input_shape=(28, 28, 1)):\n",
        "\n",
        "    model = keras.Sequential(\n",
        "        [\n",
        "            keras.Input(shape=input_shape),\n",
        "            layers.Conv2D(hidden_layer_sizes[0], kernel_size=kernel_sizes[0],\n",
        "                          activation=activation),\n",
        "            layers.MaxPooling2D(pool_size=pool_sizes[0]),\n",
        "            layers.Conv2D(hidden_layer_sizes[-1], kernel_size=kernel_sizes[-1],\n",
        "                          activation=activation),\n",
        "            layers.MaxPooling2D(pool_size=pool_sizes[-1]),\n",
        "            layers.Flatten(),\n",
        "            layers.Dropout(dropout),\n",
        "            layers.Dense(num_classes, activation=\"softmax\"),\n",
        "        ]\n",
        "    )\n",
        "\n",
        "    model.summary()\n",
        "\n",
        "    return model"
      ],
      "execution_count": null,
      "outputs": []
    },
    {
      "cell_type": "markdown",
      "metadata": {
        "id": "JoOcPLxseq0N"
      },
      "source": [
        "Here, we're using W&B to track the run,\n",
        "and so using the [`wandb.config`](https://colab.research.google.com/github/wandb/examples/blob/master/colabs/wandb-config/Configs_in_W%26B.ipynb)\n",
        "object to store all of the hyperparameters.\n",
        "\n",
        "The `dict`ionary version of that `config` object is a really useful piece of `metadata`, so make sure to include it!"
      ]
    },
    {
      "cell_type": "code",
      "metadata": {
        "id": "c9BogOkLYC9f"
      },
      "source": [
        "def build_model_and_log(config):\n",
        "    with wandb.init(project=\"artifacts-example\", job_type=\"initialize\", config=config) as run:\n",
        "        config = wandb.config\n",
        "        \n",
        "        model = build_model(**config)\n",
        "\n",
        "        model_artifact = wandb.Artifact(\n",
        "            \"convnet\", type=\"model\",\n",
        "            description=\"Simple AlexNet style CNN\",\n",
        "            metadata=dict(config))\n",
        "\n",
        "        model.save(\"initialized_model.keras\")\n",
        "        # ➕ another way to add a file to an Artifact\n",
        "        model_artifact.add_file(\"initialized_model.keras\")\n",
        "        wandb.save(\"initialized_model.keras\")\n",
        "\n",
        "        run.log_artifact(model_artifact)\n",
        "\n",
        "model_config = {\"hidden_layer_sizes\": [32, 64],\n",
        "                \"kernel_sizes\": [(3, 3)],\n",
        "                \"activation\": \"relu\",\n",
        "                \"pool_sizes\": [(2, 2)],\n",
        "                \"dropout\": 0.5,\n",
        "                \"num_classes\": 10,\n",
        "                \"input_shape\": (28, 28, 1)}\n",
        "\n",
        "build_model_and_log(model_config)"
      ],
      "execution_count": null,
      "outputs": []
    },
    {
      "cell_type": "markdown",
      "metadata": {
        "id": "RyMOJCfqgTto"
      },
      "source": [
        "### ➕ `artifact.add_file`\n"
      ]
    },
    {
      "cell_type": "markdown",
      "metadata": {
        "id": "A9Y0O57TjXz-"
      },
      "source": [
        "\n",
        "Instead of simultaneously writing a `new_file` and adding it to the `Artifact`,\n",
        "as in the dataset logging examples,\n",
        "we can also write files in one step\n",
        "(here, `model.save`)\n",
        "and then `add` them to the `Artifact` in another.\n",
        "\n",
        "> **Rule of 👍**: use `new_file` when you can, to prevent duplication."
      ]
    },
    {
      "cell_type": "markdown",
      "metadata": {
        "id": "285z__HLAlRo"
      },
      "source": [
        "# 4️⃣ Use a Logged Model Artifact"
      ]
    },
    {
      "cell_type": "markdown",
      "metadata": {
        "id": "f71C9Epft0VN"
      },
      "source": [
        "Just like we could call `use_artifact` on a `dataset`,\n",
        "we can call it on our `initialized_model`\n",
        "to use it in another `Run`.\n",
        "\n",
        "This time, let's `train` the `model`.\n",
        "And while we're at it,\n",
        "we'll use the `keras.WandbCallback`\n",
        "to track what happens during training:\n",
        "system metrics,\n",
        "loss, parameter values,\n",
        "and predictions on the validation dataset.\n",
        "\n",
        "For more details, check out our Colab on\n",
        "[instrumenting W&B with Keras](https://colab.research.google.com/github/wandb/examples/blob/master/colabs/keras/Simple_Keras_Integration.ipynb)."
      ]
    },
    {
      "cell_type": "code",
      "metadata": {
        "id": "PUI_CQd5CdJQ"
      },
      "source": [
        "def train(model, training, validation, config):\n",
        "    \"\"\"\n",
        "    ## Train the model\n",
        "    \"\"\"\n",
        "    model.compile(loss=\"categorical_crossentropy\",\n",
        "                  optimizer=config.optimizer, metrics=[\"accuracy\"])\n",
        "\n",
        "    callback = wandb.keras.WandbCallback(\n",
        "        validation_data=(validation.x[:32], validation.y[:32]),\n",
        "        input_type=\"images\", labels=[str(i) for i in range(10)],\n",
        "        **config[\"callback_config\"])\n",
        "\n",
        "    model.fit(training.x, training.y,\n",
        "            validation_data=(validation.x, validation.y),\n",
        "            batch_size=config.batch_size, epochs=config.epochs,\n",
        "            callbacks=[callback])"
      ],
      "execution_count": null,
      "outputs": []
    },
    {
      "cell_type": "markdown",
      "metadata": {
        "id": "r3uf5Kybxi17"
      },
      "source": [
        "We'll run two separate `Artifact`-producing `Run`s this time.\n",
        "\n",
        "Once the first finishes `train`ing the `model`,\n",
        "the `second` will consume the `trained-model` `Artifact`\n",
        "by `evaluate`ing its performance on the `test_dataset`.\n",
        "\n",
        "Also, we'll pull out the 32 examples on which the network gets the most confused --\n",
        "on which the `categorical_crossentropy` is highest.\n",
        "\n",
        "This is a good way to diagnose issues with your dataset and your model!"
      ]
    },
    {
      "cell_type": "code",
      "metadata": {
        "id": "EvhwIVoHxheh"
      },
      "source": [
        "def evaluate(model, test_dataset):\n",
        "    \"\"\"\n",
        "    ## Evaluate the trained model\n",
        "    \"\"\"\n",
        "\n",
        "    loss, accuracy = model.evaluate(test_dataset.x, test_dataset.y, verbose=1)\n",
        "    highest_losses, hardest_examples, true_labels, predictions = get_hardest_k_examples(test_dataset, model)\n",
        "\n",
        "    return loss, accuracy, highest_losses, hardest_examples, true_labels, predictions\n",
        "\n",
        "\n",
        "def get_hardest_k_examples(test_dataset, model, k=32):\n",
        "    class_probs = model(test_dataset.x)\n",
        "    predictions = np.argmax(class_probs, axis=1)\n",
        "    losses = keras.losses.categorical_crossentropy(test_dataset.y, class_probs)\n",
        "    argsort_loss =  np.argsort(losses)\n",
        "\n",
        "    highest_k_losses = np.array(losses)[argsort_loss[-k:]]\n",
        "    hardest_k_examples = test_dataset.x[argsort_loss[-k:]]\n",
        "    true_labels = np.argmax(test_dataset.y[argsort_loss[-k:]], axis=1)\n",
        "\n",
        "    return highest_k_losses, hardest_k_examples, true_labels, predictions"
      ],
      "execution_count": null,
      "outputs": []
    },
    {
      "cell_type": "markdown",
      "metadata": {
        "id": "tuvV3CrjwvGy"
      },
      "source": [
        "These logging functions don't add any new `Artifact` features,\n",
        "so we won't comment on them:\n",
        "we're just `use`ing, `download`ing,\n",
        "and `log`ging `Artifact`s."
      ]
    },
    {
      "cell_type": "code",
      "metadata": {
        "id": "ydJB7n6ttf_b"
      },
      "source": [
        "def train_and_log(config):\n",
        "\n",
        "    with wandb.init(project=\"artifacts-example\", job_type=\"train\", config=config) as run:\n",
        "        config = wandb.config\n",
        "\n",
        "        data = run.use_artifact('mnist-preprocess:latest')\n",
        "        data_dir = data.download()\n",
        "        training_dataset =  read(data_dir, \"training\")\n",
        "        validation_dataset = read(data_dir, \"validation\")\n",
        "        \n",
        "        model_artifact = run.use_artifact(\"convnet:latest\")\n",
        "        model_dir = model_artifact.download()\n",
        "        model_path = os.path.join(model_dir, \"initialized_model.keras\")\n",
        "        model = keras.models.load_model(model_path)\n",
        "\n",
        "        model_config = model_artifact.metadata\n",
        "\n",
        "        config.update(model_config)\n",
        " \n",
        "        train(model, training_dataset, validation_dataset, config)\n",
        "\n",
        "        model_artifact = wandb.Artifact(\n",
        "            \"trained-model\", type=\"model\",\n",
        "            description=\"NN model trained with model.fit\",\n",
        "            metadata=dict(config))\n",
        "\n",
        "        model.save(\"trained_model.keras\")\n",
        "        model_artifact.add_file(\"trained_model.keras\")\n",
        "        wandb.save(\"trained_model.keras\")\n",
        "\n",
        "        run.log_artifact(model_artifact)\n",
        "\n",
        "    return model\n",
        "\n",
        "    \n",
        "def evaluate_and_log(config=None):\n",
        "    \n",
        "    with wandb.init(project=\"artifacts-example\", job_type=\"report\", config=config) as run:\n",
        "        data = run.use_artifact('mnist-preprocess:latest')\n",
        "        data_dir = data.download()\n",
        "        test_dataset = read(data_dir, \"test\")\n",
        "\n",
        "        model_artifact = run.use_artifact(\"trained-model:latest\")\n",
        "        model_dir = model_artifact.download()\n",
        "        model_path = os.path.join(model_dir, \"trained_model.keras\")\n",
        "        model = keras.models.load_model(model_path)\n",
        "\n",
        "        loss, accuracy, highest_losses, hardest_examples, true_labels, preds = evaluate(model, test_dataset)\n",
        "\n",
        "        run.summary.update({\"loss\": loss, \"accuracy\": accuracy})\n",
        "\n",
        "        wandb.log({\"high-loss-examples\":\n",
        "            [wandb.Image(hard_example, caption=str(pred) + \",\" +  str(label))\n",
        "             for hard_example, pred, label in zip(hardest_examples, preds, true_labels)]})       "
      ],
      "execution_count": null,
      "outputs": []
    },
    {
      "cell_type": "code",
      "metadata": {
        "id": "I13myiOCyXOK"
      },
      "source": [
        "callback_config = {\"log_weights\": True,\n",
        "                   \"save_model\": False,\n",
        "                   \"log_batch_frequency\": 10}\n",
        "\n",
        "train_config = {\"batch_size\": 128,\n",
        "                \"epochs\": 5,\n",
        "                \"optimizer\": \"adam\",\n",
        "                \"callback_config\": callback_config}\n",
        "\n",
        "model = train_and_log(train_config)\n",
        "evaluate_and_log()"
      ],
      "execution_count": null,
      "outputs": []
    },
    {
      "cell_type": "markdown",
      "metadata": {
        "id": "f_LSbzFimMKV"
      },
      "source": [
        "### 🔁 The Graph View\n",
        "\n",
        "Notice that we changed the `type` of the `Artifact`:\n",
        "these `Run`s used a `model`, rather than `dataset`.\n",
        "`Run`s that produce `model`s will be separated\n",
        "from those that produce `dataset`s in the graph view on the Artifacts page.\n",
        "\n",
        "Go check it out! As before, you'll want to head to the Run page,\n",
        "select the \"Artifacts\" tab from the left sidebar,\n",
        "pick an `Artifact`,\n",
        "and then click the \"Graph View\" tab."
      ]
    },
    {
      "cell_type": "markdown",
      "metadata": {
        "id": "y2JFEQZ1oiob"
      },
      "source": [
        "\n",
        "### 💣 Exploded Graphs"
      ]
    },
    {
      "cell_type": "markdown",
      "metadata": {
        "id": "glh9pMX2okMQ"
      },
      "source": [
        "You may have noticed a button labeled \"Explode\". Don't click that, as it will set off a small bomb underneath your humble author's desk in the W&B HQ!\n",
        "\n",
        "Just kidding. It \"explodes\" the graph in a much gentler way:\n",
        "`Artifact`s and `Run`s become separated at the level of a single instance,\n",
        "rather than a `type`:\n",
        "the nodes are not `dataset` and `load-data`, but `dataset:mnist-raw:v1` and `load-data:sunny-smoke-1`, and so on.\n",
        "\n",
        "This provides total insight into your pipeline,\n",
        "with logged metrics, metadata, and more\n",
        "all at your fingertips --\n",
        "you're only limited by what you choose to log with us."
      ]
    }
  ]
}
