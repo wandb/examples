{
 "cells": [
  {
   "cell_type": "markdown",
   "metadata": {
    "id": "xp4yBKWXdrOO"
   },
   "source": [
    "<a href=\"https://colab.research.google.com/github/wandb/examples/blob/master/colabs/intro/Intro_to_Weights_&_Biases.ipynb\" target=\"_parent\"><img src=\"https://colab.research.google.com/assets/colab-badge.svg\" alt=\"Open In Colab\"/></a>\n",
    "<!--- @wandbcode{alerts-colab} -->"
   ]
  },
  {
   "cell_type": "markdown",
   "metadata": {
    "id": "g95UJqTAFH8k"
   },
   "source": [
    "<img src=\"http://wandb.me/logo-im-png\" width=\"400\" alt=\"Weights & Biases\" />\n",
    "<!--- @wandbcode{alerts-colab} -->\n",
    "\n",
    "# Using `wandb.alert()` to Send Alert Messages\n",
    "\n",
    "Use W&B Alerts to send yourself a Slack message or email when something happens in your Python script. Follow the steps below to send your first Alert. See the [Alerts docs](https://docs.wandb.com/app/features/alerts) for a more detailed description."
   ]
  },
  {
   "cell_type": "markdown",
   "metadata": {
    "id": "_nUkR4WafKIG"
   },
   "source": [
    "## 1. Turn on Alerts in your W&B User Settings\n",
    "- Go to your **[User Settings](https://wandb.ai/settings)**\n",
    "- Turn on **Scriptable Alerts**\n",
    "- Select whether you'd like to get Alerts via email or Slack"
   ]
  },
  {
   "cell_type": "markdown",
   "metadata": {
    "id": "v-WGh_7IFgVS"
   },
   "source": [
    "## 2. Install the W&B Library and Login"
   ]
  },
  {
   "cell_type": "code",
   "execution_count": null,
   "metadata": {
    "id": "EHJldCsBBMn0"
   },
   "outputs": [],
   "source": [
    "!pip install wandb -qqq"
   ]
  },
  {
   "cell_type": "code",
   "execution_count": null,
   "metadata": {
    "id": "j789rSQjeRM4"
   },
   "outputs": [],
   "source": [
    "# Log in to your W&B account\n",
    "import wandb\n",
    "wandb.login()"
   ]
  },
  {
   "cell_type": "markdown",
   "metadata": {
    "id": "4-feBMfuFnd9"
   },
   "source": [
    "## 3. Launch a script that triggers alerts"
   ]
  },
  {
   "cell_type": "code",
   "execution_count": null,
   "metadata": {
    "id": "787ggZ8-BPKf"
   },
   "outputs": [],
   "source": [
    "import random\n",
    "from wandb import AlertLevel\n",
    "\n",
    "# Initialize a new run in Weights & Biases\n",
    "wandb.init(project=\"test_alerts\",\n",
    "                 config={\n",
    "                     \"threshold\": 0.3, # The minimum acceptable accuracy\n",
    "                     \"max_steps\": 1000, # The max number of steps for this run\n",
    "                 })\n",
    "config = wandb.config\n",
    "\n",
    "# Simulating a model training loop\n",
    "for training_step in range(config.max_steps):\n",
    "\n",
    "  # Generate a random number for accuracy\n",
    "  accuracy = round(random.random() + random.random(), 3)\n",
    "  wandb.log({\"Accuracy\": accuracy})\n",
    "\n",
    "  # If the accuracy is below the threshold, fire an alert and stop the run\n",
    "  if accuracy <= config.threshold:\n",
    "    wandb.alert(\n",
    "      title='Low Accuracy',\n",
    "      text=f'Accuracy {accuracy} at step {training_step} is below the acceptable theshold',\n",
    "      level=AlertLevel.WARN,\n",
    "      wait_duration=5\n",
    "    )\n",
    "    print(f\"Script stopped as accuracy is below threshold, {accuracy} vs {config.threshold}\")\n",
    "    break\n",
    "\n",
    "# Mark the run as finished (useful in Jupyter notebooks)\n",
    "wandb.finish()"
   ]
  },
  {
   "cell_type": "markdown",
   "metadata": {
    "id": "q71TTXIXFtwV"
   },
   "source": [
    "## 4. Check your Slack or email\n",
    "\n",
    "Check your Slack or emails for the alert message. If you didn't receive any, check your [Settings](https://wandb.ai/settings) to make sure you've got emails or Slack turned on for **Scriptable Alerts**. More details in the \n",
    "[Alerts docs](https://docs.wandb.com/app/features/alerts). "
   ]
  }
 ],
 "metadata": {
  "colab": {
   "collapsed_sections": [],
   "name": "Weights & Biases Alerts",
   "private_outputs": true,
   "provenance": []
  },
  "kernelspec": {
   "display_name": "Python 3 (ipykernel)",
   "language": "python",
   "name": "python3"
  },
  "language_info": {
   "codemirror_mode": {
    "name": "ipython",
    "version": 3
   },
   "file_extension": ".py",
   "mimetype": "text/x-python",
   "name": "python",
   "nbconvert_exporter": "python",
   "pygments_lexer": "ipython3",
   "version": "3.8.8"
  }
 },
 "nbformat": 4,
 "nbformat_minor": 4
}
