{
 "cells": [
  {
   "cell_type": "markdown",
   "metadata": {},
   "source": [
    "<a href=\"https://colab.research.google.com/github/wandb/examples/blob/master/colabs/wandb-log/Set_Alerts_with_W_&_B.ipynb\" target=\"_parent\"><img src=\"https://colab.research.google.com/assets/colab-badge.svg\" alt=\"Open In Colab\"/></a>\n",
    "<!--- @wandbcode{alerts-colab} -->"
   ]
  },
  {
   "cell_type": "markdown",
   "metadata": {},
   "source": [
    "<img src=\"http://wandb.me/logo-im-png\" width=\"400\" alt=\"Weights & Biases\" />\n",
    "<!--- @wandbcode{alerts-colab} -->\n",
    "\n",
    "# Using `wandb.alert()` to Send Alert Messages\n",
    "\n",
    "Use W&B Alerts to send yourself a Slack message or email when something happens in your Python script. Follow the steps below to send your first Alert. See the [Alerts docs](https://docs.wandb.com/app/features/alerts) for a more detailed description."
   ]
  },
  {
   "cell_type": "markdown",
   "metadata": {},
   "source": [
    "## 1. Turn on Alerts in your W&B User Settings\n",
    "- Go to your **[User Settings](https://wandb.ai/settings)**\n",
    "- Turn on **Scriptable Alerts**\n",
    "- Select whether you'd like to get Alerts via email or Slack"
   ]
  },
  {
   "cell_type": "markdown",
   "metadata": {},
   "source": [
    "## 2. Install the W&B Library and Login"
   ]
  },
  {
   "cell_type": "code",
   "execution_count": null,
   "metadata": {},
   "outputs": [],
   "source": [
    "!pip install wandb -qqq"
   ]
  },
  {
   "cell_type": "code",
   "execution_count": null,
   "metadata": {},
   "outputs": [],
   "source": [
    "# Log in to your W&B account\n",
    "import wandb"
   ]
  },
  {
   "cell_type": "code",
   "execution_count": null,
   "metadata": {},
   "outputs": [],
   "source": [
    "wandb.login()"
   ]
  },
  {
   "cell_type": "markdown",
   "metadata": {},
   "source": [
    "## 3. Launch a script that triggers alerts"
   ]
  },
  {
   "cell_type": "code",
   "execution_count": null,
   "metadata": {},
   "outputs": [],
   "source": [
    "import random\n",
    "from wandb import AlertLevel\n",
    "\n",
    "# Initialize a new run in Weights & Biases\n",
    "wandb.init(project=\"test_alerts\",\n",
    "                 config={\n",
    "                     \"threshold\": 0.3, # The minimum acceptable accuracy\n",
    "                     \"max_steps\": 1000, # The max number of steps for this run\n",
    "                 })\n",
    "config = wandb.config\n",
    "\n",
    "# Simulating a model training loop\n",
    "for training_step in range(config.max_steps):\n",
    "\n",
    "  # Generate a random number for accuracy\n",
    "  accuracy = round(random.random() + random.random(), 3)\n",
    "  wandb.log({\"Accuracy\": accuracy})\n",
    "\n",
    "  # If the accuracy is below the threshold, fire an alert and stop the run\n",
    "  if accuracy <= config.threshold:\n",
    "    wandb.alert(\n",
    "      title='Low Accuracy',\n",
    "      text=f'Accuracy {accuracy} at step {training_step} is below the acceptable theshold',\n",
    "      level=AlertLevel.WARN,\n",
    "      wait_duration=5\n",
    "    )\n",
    "    print(f\"Script stopped as accuracy is below threshold, {accuracy} vs {config.threshold}\")\n",
    "    break\n",
    "\n",
    "# Mark the run as finished (useful in Jupyter notebooks)\n",
    "wandb.finish()"
   ]
  },
  {
   "cell_type": "markdown",
   "metadata": {},
   "source": [
    "## 4. Check your Slack or email\n",
    "\n",
    "Check your Slack or emails for the alert message. If you didn't receive any, check your [Settings](https://wandb.ai/settings) to make sure you've got emails or Slack turned on for **Scriptable Alerts**. More details in the \n",
    "[Alerts docs](https://docs.wandb.com/app/features/alerts). "
   ]
  }
 ],
 "metadata": {
  "accelerator": "GPU",
  "colab": {
   "include_colab_link": true,
   "provenance": [],
   "toc_visible": true
  },
  "kernelspec": {
   "display_name": "Python 3",
   "name": "python3"
  }
 },
 "nbformat": 4,
 "nbformat_minor": 4
}
