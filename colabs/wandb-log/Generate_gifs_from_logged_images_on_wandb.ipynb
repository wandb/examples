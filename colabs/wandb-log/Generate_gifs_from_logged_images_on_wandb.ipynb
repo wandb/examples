{
 "cells": [
  {
   "cell_type": "markdown",
   "metadata": {},
   "source": [
    "<a href=\"https://colab.research.google.com/github/wandb/examples/blob/master/colabs/wandb-log/Generate_gifs_from_logged_images_on_wandb.ipynb\" target=\"_parent\"><img src=\"https://colab.research.google.com/assets/colab-badge.svg\" alt=\"Open In Colab\"/></a>\n"
   ]
  },
  {
   "cell_type": "markdown",
   "metadata": {},
   "source": [
    "# 🎉 Generate gifs from logged images on Weights & Biases"
   ]
  },
  {
   "cell_type": "markdown",
   "metadata": {},
   "source": [
    "This script accompanies a blog post which can be found here:\n",
    "https://wandb.ai/_scott/gif-maker/reports/Create-gifs-from-images-logged-to-W-B---VmlldzoyMTI4ODEz/\n",
    "\n",
    "(with a couple of minor modifications by [Scott Hawley](https://sigmoid.social/@drscotthawley))"
   ]
  },
  {
   "cell_type": "markdown",
   "metadata": {},
   "source": [
    "# 🐝 Install Weights & Biases and login"
   ]
  },
  {
   "cell_type": "code",
   "execution_count": null,
   "metadata": {},
   "outputs": [],
   "source": [
    "!pip install -Uq wandb tqdm"
   ]
  },
  {
   "cell_type": "code",
   "execution_count": null,
   "metadata": {},
   "outputs": [],
   "source": [
    "import wandb"
   ]
  },
  {
   "cell_type": "code",
   "execution_count": null,
   "metadata": {},
   "outputs": [],
   "source": [
    "wandb.login()"
   ]
  },
  {
   "cell_type": "markdown",
   "metadata": {},
   "source": [
    "# 🪄 Use `wandb.Api` to download the images and create the gifs"
   ]
  },
  {
   "cell_type": "code",
   "execution_count": null,
   "metadata": {},
   "outputs": [],
   "source": [
    "from PIL import Image\n",
    "from pathlib import Path\n",
    "from tqdm import tqdm\n",
    "import fnmatch\n",
    "from IPython.display import Image as im, HTML\n",
    "from random import sample\n",
    "import cv2\n",
    "import os\n",
    "from base64 import b64encode\n",
    "\n",
    "def check_if_multiple_logged_images(key, run):\n",
    "    for log in run.scan_history(keys=[key]):\n",
    "        if log[key]['_type'] == 'images/separated':\n",
    "            return True\n",
    "        elif log[key]['_type'] == 'image-file':\n",
    "            return False\n",
    "        else:\n",
    "            return False\n",
    "\n",
    "def get_number_of_images(key, run):\n",
    "    for log in run.scan_history(keys=[key]):\n",
    "        return log[key]['count']\n",
    "\n",
    "def paste_to_bg(x, bg):\n",
    "    \"adds image to background, but since .paste is in-place, we operate on a copy\"\n",
    "    bg2 = bg.copy()\n",
    "    bg2.paste(x, x)  # paste returns None since it's in-place \n",
    "    return bg2 \n",
    "\n",
    "def images_to_gif(image_fnames, fname):\n",
    "    if not image_fnames: return \n",
    "    image_fnames.sort(key=lambda x: int(x.name.split('_')[-2])) #sort by step\n",
    "\n",
    "    frames = [Image.open(image) for image in image_fnames]\n",
    "    max_x = 1024    # 1024x GIF is displayable within RAM limit of Colab free version. mp4s can go bigger.\n",
    "    if frames[0].size[0] > max_x:\n",
    "        print(f\"Rescaling to ({max_x},..) so as not to exceed Colab RAM.\")\n",
    "        ratio = max_x/frames[0].size[0]\n",
    "        newsize = [int(x*ratio) for x in frames[0].size]\n",
    "        if newsize[1]%2 != 0: newsize[1] += 1 # wow ffmpeg hates odd dimensions! \n",
    "        frames = [x.resize(newsize, resample=Image.BICUBIC) for x in frames]\n",
    "\n",
    "    if frames[0].mode == 'RGBA':  # transparency goes black when saved as gif, so let's put it on white first\n",
    "        bg = Image.new('RGBA', frames[0].size, (255, 255, 255)) \n",
    "        frames = [paste_to_bg(x,bg).convert('RGB').convert('P', palette=Image.ADAPTIVE) for x in frames]\n",
    "\n",
    "    print(\"saving gif\")\n",
    "    frame_one = frames[0]\n",
    "    frame_one.save(f'{fname}.gif', format=\"GIF\", append_images=frames,\n",
    "               save_all=True, duration=DURATION, loop=0)\n",
    "    \n",
    "    print(\"making mp4\")\n",
    "    w, h = frames[0].size\n",
    "    cmd = f\"ffmpeg -loglevel error -i {f'{fname}.gif'} -vcodec libx264 -crf 25 -pix_fmt yuv420p {f'{fname}.mp4'}\"\n",
    "    os.system(cmd)\n",
    "    if not os.path.exists(f'{fname}.mp4'):\n",
    "        print(f\"Failed to create mp4 file: {fname}.mp4\\\")\\n\")\n",
    "\n",
    "def make_gifs(key, run, extension):\n",
    "    if check_if_multiple_logged_images(key, run):\n",
    "        count = get_number_of_images(key, run)\n",
    "        for i in range(count):\n",
    "            image_fnames = list(Path('./media/images/').glob(f'{key}*{i}{extension}'))\n",
    "            images_to_gif(image_fnames, f'{key}_{i}')\n",
    "    else:\n",
    "        image_fnames = list(Path('./media/images/').glob(f'{key}*{extension}'))\n",
    "        images_to_gif(image_fnames, key)\n",
    "\n",
    "def download_files(filenames_to_download, run):\n",
    "    keys = set()\n",
    "    print('Downloading Files')\n",
    "    for file in tqdm(run.files()):\n",
    "        if Path(file.name).is_file():\n",
    "            continue\n",
    "        if Path(file.name).name not in filenames_to_download:\n",
    "          continue\n",
    "        file.download()\n",
    "    return keys\n",
    "\n",
    "def sample_fnames(matching_fnames):\n",
    "  length = len(matching_fnames)\n",
    "  if length > NUM_IMAGES_PER_GIF:\n",
    "    matching_fnames.sort(key=lambda x: int(x.split('_')[-2])) #sort by step \n",
    "    fnames = sample(matching_fnames, NUM_IMAGES_PER_GIF)\n",
    "    return fnames\n",
    "  else:\n",
    "    return matching_fnames\n",
    "\n",
    "def get_filenames_for_key(key, all_filenames, extension):\n",
    "  if check_if_multiple_logged_images(key, run):\n",
    "    count = get_number_of_images(key, run)\n",
    "    filenames_for_key = []\n",
    "    for i in range(count):\n",
    "      matching_fnames = fnmatch.filter(all_filenames, f'{key}*{i}{extension}')\n",
    "      filenames_for_key.extend(sample_fnames(matching_fnames))\n",
    "    return filenames_for_key\n",
    "  else: \n",
    "    matching_fnames = fnmatch.filter(all_filenames, f'{key}*{extension}')\n",
    "    length = len(matching_fnames)\n",
    "    return sample_fnames(matching_fnames)\n",
    "  \n",
    "def display_gif(path):\n",
    "  print(f'Generated gif: {path}')\n",
    "  display(im(data=open(path,'rb').read(), format='png'))\n",
    " \n",
    "def display_mp4(path, video_width = 600):\n",
    "  video_file = open(path, \"r+b\").read()\n",
    "  video_url = f\"data:video/mp4;base64,{b64encode(video_file).decode()}\"\n",
    "  print(f'Generated mp4: {path}')\n",
    "  display(HTML(f\"\"\"<video width={video_width} controls><source src=\"{video_url}\"></video>\"\"\"))\n",
    "\n",
    "def make_and_display_gifs(run):\n",
    "  extension = \".png\"\n",
    "  all_filenames = [Path(file.name).name for file in run.files() if file.name.endswith(extension)]\n",
    "  keys = set([Path(fname).stem.split('_')[0] for fname in all_filenames]) \n",
    "  for key in keys:\n",
    "    download_files(get_filenames_for_key(key, all_filenames, extension), run)\n",
    "  for key in keys:\n",
    "    path = make_gifs(key, run, extension)\n",
    "  for path in Path('/content/').glob('*.gif'):\n",
    "    display_mp4(path.name.replace('.gif', '.mp4', 1))\n",
    "    display_gif(path)   # make display_gif call last because this is what crashes Colab Runtime. "
   ]
  },
  {
   "cell_type": "code",
   "execution_count": null,
   "metadata": {},
   "outputs": [],
   "source": [
    "!rm -rf /content/media/images/*.png /content/*.gif /content/*.mp4"
   ]
  },
  {
   "cell_type": "markdown",
   "metadata": {},
   "source": [
    "# 👩‍🎨 Generate your gif and mp4s from a run"
   ]
  },
  {
   "cell_type": "markdown",
   "metadata": {},
   "source": [
    "Put your [run path](https://wandb.ai/_scott/gif-maker/reports/Create-gifs-from-images-logged-to-W-B---VmlldzoyMTI4NDQx#get-your-run-path-from-your-run-overview) in the form (or replace it within the code) to start creating your gif and mp4s. Right click them to save them once it's done, or you can navigate to `/content/` 👈."
   ]
  },
  {
   "cell_type": "code",
   "execution_count": null,
   "metadata": {},
   "outputs": [],
   "source": [
    "RUN_PATH = 'drscotthawley/aa-toy-vicreg/2khoulne' #@param {type:\"string\"}\n",
    "NUM_IMAGES_PER_GIF = 80 #@param {type:\"integer\"}\n",
    "DURATION =  200 #@param {type:\"integer\"}\n",
    "\n",
    "api = wandb.Api()\n",
    "run = api.run(RUN_PATH)\n",
    "make_and_display_gifs(run)"
   ]
  }
 ],
 "metadata": {
  "accelerator": "GPU",
  "colab": {
   "include_colab_link": true,
   "provenance": [],
   "toc_visible": true
  },
  "kernelspec": {
   "display_name": "Python 3",
   "name": "python3"
  }
 },
 "nbformat": 4,
 "nbformat_minor": 0
}
