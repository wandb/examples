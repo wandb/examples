{
 "cells": [
  {
   "cell_type": "markdown",
   "metadata": {},
   "source": [
    "![wandb-logo](http://wandb.me/logo-im-png)\n",
    "\n",
    "<!--- @wandbcode{define_metric} -->\n",
    "\n",
    "\n",
    "# Define your custom metrics with `define_metric`\n",
    "\n",
    "Use `define_metric` to set custom x-axes or capture the min and max values of your metrics. \n",
    "\n",
    "For more details, [see the docs](http://wandb.me/define-metric-docs). "
   ]
  },
  {
   "cell_type": "markdown",
   "metadata": {},
   "source": [
    "<a href=\"https://colab.research.google.com/github/wandb/examples/blob/master/colabs/wandb-log/Customize_metric_logging_with_define_metric.ipynb\" target=\"_parent\"><img src=\"https://colab.research.google.com/assets/colab-badge.svg\" alt=\"Open In Colab\"/></a>"
   ]
  },
  {
   "cell_type": "code",
   "execution_count": null,
   "metadata": {},
   "outputs": [],
   "source": [
    "# Run this cell to set up the notebook imports\n",
    "!pip install wandb -qqq\n",
    "\n",
    "import wandb\n",
    "import random"
   ]
  },
  {
   "cell_type": "markdown",
   "metadata": {},
   "source": [
    "## Custom X Axis\n",
    "\n",
    "Here's how to set a custom step so your charts have a custom x-axis:\n",
    "```python\n",
    "wandb.define_metric(\"my-metric\", step_metric='my-custom-x-axis')\n",
    "```"
   ]
  },
  {
   "cell_type": "code",
   "execution_count": null,
   "metadata": {},
   "outputs": [],
   "source": [
    "random.seed(1)\n",
    "\n",
    "# Initalize a new run\n",
    "wandb.init(project=\"define-metric-demo\", notes=\"custom step\")\n",
    "\n",
    "# Define the custom x axis metric\n",
    "wandb.define_metric(\"custom_step\")\n",
    "\n",
    "# Define which metrics to plot against that x-axis\n",
    "wandb.define_metric(\"validation/loss\", step_metric='custom_step')\n",
    "for i in range(10):\n",
    "  log_dict = {\n",
    "      \"train/loss\": 1/(i+1),\n",
    "      \"custom_step\": i**2,\n",
    "      \"validation/loss\": 1/(i+1)   \n",
    "  }\n",
    "  wandb.log(log_dict)\n",
    "\n",
    "# Use this in the context of a jupyter notebook to mark a run finished\n",
    "wandb.finish()"
   ]
  },
  {
   "cell_type": "markdown",
   "metadata": {},
   "source": [
    "Run the cell above and click on the link that prints out to see the dashboard. It will look something like this:\n",
    "- `train_loss` is plotted against the standard W&B internal step\n",
    "- `custom_step` is plotted too, so you can see how it increases over the W&B internal step\n",
    "- `validation_loss` is plotted against the `custom_step`, replacing the default with the x-axis as the W&B internal step\n",
    "\n",
    "\n",
    "![](https://i.imgur.com/jGcoAIV.png)"
   ]
  },
  {
   "cell_type": "markdown",
   "metadata": {},
   "source": [
    "## Min/Max of Metrics\n",
    "\n",
    "Each time you call `wandb.log()` to log a metric, you're writing to run `history`. The run `summary` saves a single value for each metric. By default, `summary` captures the final step of `history`. So if you log accuracy for 100 steps, your `history` will have all 100 steps and your `summary` will have just the final value for accuracy.\n",
    "\n",
    "Sometimes, you want to get the _best_ value instead of the _last_ value for a metric and save that to `summary`. That's where `define_metric` comes in.\n",
    "\n",
    "Here, you can set `summary=` to either `max` or `min`.\n",
    "\n",
    "```python\n",
    "wandb.define_metric(\"my-metric\", summary=\"max\")\n",
    "```"
   ]
  },
  {
   "cell_type": "code",
   "execution_count": null,
   "metadata": {},
   "outputs": [],
   "source": [
    "random.seed(1)\n",
    "\n",
    "# Start a new run\n",
    "wandb.init(project=\"define-metric-demo\", notes=\"min of loss, max of acc\")\n",
    "\n",
    "# For loss, capture the min value from history in summary\n",
    "wandb.define_metric(\"loss\", summary=\"min\")\n",
    "\n",
    "# For acc, capture the max value from history in summary\n",
    "wandb.define_metric(\"acc\", summary=\"max\")\n",
    "\n",
    "# Simulate a training loop where we're logging metrics\n",
    "for i in range(10):\n",
    "  log_dict = {\n",
    "      \"loss\": random.uniform(0,1/(i+1)),\n",
    "      \"acc\": random.uniform(1/(i+1),1),\n",
    "  }\n",
    "  wandb.log(log_dict)\n",
    "\n",
    "# Mark the run as finished, useful in the context of Jupyter notebooks\n",
    "wandb.finish()"
   ]
  },
  {
   "cell_type": "markdown",
   "metadata": {},
   "source": [
    "Run the cell above and click on the project page link that prints out to see the dashboard. It will look something like this:\n",
    "- `acc.max` is visible in the sidebar, saved in the run summary\n",
    "- `loss.min` is visible in the sidebar, saved in the run summary\n",
    "\n",
    "You can see the summary values in the Project Page Table. Here I've pinned two columns in the sidebar, which you can see on the left.\n",
    "![](https://i.imgur.com/VaO9w25.png)"
   ]
  }
 ],
 "metadata": {
  "kernelspec": {
   "display_name": "Python 3",
   "name": "python3"
  }
 },
 "nbformat": 4,
 "nbformat_minor": 0
}
