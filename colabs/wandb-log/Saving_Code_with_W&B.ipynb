{
 "cells": [
  {
   "cell_type": "markdown",
   "metadata": {},
   "source": [
    "<img src=\"https://i.imgur.com/gb6B4ig.png\" width=\"400\" alt=\"Weights & Biases\" />"
   ]
  },
  {
   "cell_type": "markdown",
   "metadata": {},
   "source": [
    "<a href=\"https://colab.research.google.com/github/wandb/examples/blob/master/colabs/wandb-log/Saving_Code_with_W%26B.ipynb\" target=\"_parent\"><img src=\"https://colab.research.google.com/assets/colab-badge.svg\" alt=\"Open In Colab\"/></a>"
   ]
  },
  {
   "cell_type": "markdown",
   "metadata": {},
   "source": [
    "# 👩🏽‍💻 Never Lose Track of What Code You Ran Ever Again\n",
    "\n",
    "It happens to the best of us:\n",
    "chasing down a good idea for your model,\n",
    "you run the Jupyter cells out of order\n",
    "or you forget to commit while trying several different models.\n",
    "The code is unrecoverable, but the accuracy\n",
    "was higher than anything you've seen!\n",
    "**A really cool result has been severed\n",
    "from the code used to generate it**,\n",
    "and it might as well have been told\n",
    "to you by [Mr. Snuffleupagus](https://muppet.fandom.com/wiki/Mr._Snuffleupagus)\n",
    "or [The Great Gazoo](https://en.wikipedia.org/wiki/The_Great_Gazoo).\n",
    "\n",
    "With Weights & Biases, you **won't need to worry** about that happening again!\n",
    "We'll **save the code you ran along with results and hyperparameters**, all in a centralized location with easy comparison and visualization tools.\n",
    "Even better, in a Jupyter notebbok this feature **tracks all the cells you executed!**\n",
    "\n",
    "Here is a simple implementation where we simulate logging some metrics and the code that generates them -- the same procedure works for both notebooks and Python scripts.\n",
    "\n",
    "_Note_: We don't train any models here 😔. If you'd like to see how W&B integrates with other tools, check out\n",
    "one of our integration demo\n",
    "[colabs](https://github.com/wandb/examples/tree/master/colabs)\n",
    "or [videos](https://www.youtube.com/playlist?list=PLD80i8An1OEGajeVo15ohAQYF1Ttle0lk).\n"
   ]
  },
  {
   "cell_type": "markdown",
   "metadata": {},
   "source": [
    "# 🚀 Installs and Imports"
   ]
  },
  {
   "cell_type": "code",
   "execution_count": null,
   "metadata": {},
   "outputs": [],
   "source": [
    "%%capture\n",
    "! pip install -q wandb"
   ]
  },
  {
   "cell_type": "code",
   "execution_count": null,
   "metadata": {},
   "outputs": [],
   "source": [
    "import wandb\n",
    "import math\n",
    "import random"
   ]
  },
  {
   "cell_type": "markdown",
   "metadata": {},
   "source": [
    "# 🙅‍♂️ Logging without Saving Code\n",
    "\n",
    "First, let's review how W&B logging works without code saving.\n",
    "\n",
    "We need to `init`ialize a `run`, a unit of computation\n",
    "(model training, data preprocessing, etc.)\n",
    "in our `project`.\n",
    "That's also where we set up the `config`uration of the `run`,\n",
    "e.g. hyperparameters like learning rate.\n",
    "\n",
    "Note here we specify the argument `save_code` as `False`, to specifically say that we do not need to save the code for the run.\n",
    "\n",
    "Then, we'll wrap our training `for` loop in a `with` block,\n",
    "ensuring our run closes out when training finishes,\n",
    "and `log` our metrics."
   ]
  },
  {
   "cell_type": "code",
   "execution_count": null,
   "metadata": {},
   "outputs": [],
   "source": [
    "run = wandb.init(project=\"code_save\",\n",
    "                 config={\"hyperparameter\": 4},\n",
    "                 save_code=False)\n",
    "\n",
    "with run:\n",
    "    for step in range(100):\n",
    "        # insert training process here\n",
    "        wandb.log({\n",
    "            \"acc\": math.log(0.1 + random.random() + step * 0.01),\n",
    "            \"val_acc\": math.log(0.1 + random.random() + step * 0.01),\n",
    "            \"loss\": wandb.config.hyperparameter - math.log(0.1 + random.random() + step * 0.01),\n",
    "            \"val_loss\":  wandb.config.hyperparameter - math.log(0.1 + random.random() + step * 0.01)})"
   ]
  },
  {
   "cell_type": "markdown",
   "metadata": {},
   "source": [
    "## 📊 Dashboard Screenshot\n",
    "\n",
    "Here is an example of what the dashboard looks like\n",
    "after running the snippet above.\n",
    "\n",
    "Metrics and hyperparameters are logged, but not the code!\n",
    "\n",
    "![Without Code](https://i.ibb.co/DDx029z/Without-Code.png)\n"
   ]
  },
  {
   "cell_type": "markdown",
   "metadata": {},
   "source": [
    "# 💾 Logging Metrics and Saving Code\n",
    "\n",
    "Adding code saving is easy: we just pass the argument\n",
    "`save_code=True` to `wandb.init`. That's it!\n",
    "\n",
    "_Hot Tip_: If you don't want to worry about setting this on every project,\n",
    "just change your default on the [settings page](https://wandb.ai/settings), as below:"
   ]
  },
  {
   "cell_type": "markdown",
   "metadata": {},
   "source": [
    "![image.png](data:image/png;base64,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)"
   ]
  },
  {
   "cell_type": "code",
   "execution_count": null,
   "metadata": {},
   "outputs": [],
   "source": [
    "run = wandb.init(project=\"code_save\",\n",
    "                 config={\"hyperparameter\": 4},\n",
    "                 save_code=True)\n",
    "\n",
    "with run:\n",
    "    for step in range(100):\n",
    "        # insert training process here\n",
    "        wandb.log({\n",
    "            \"acc\": math.log(0.1 + random.random() + step * 0.01),\n",
    "            \"val_acc\": math.log(0.1 + random.random() + step * 0.01),\n",
    "            \"loss\": wandb.config.hyperparameter - math.log(0.1 + random.random() + step * 0.01),\n",
    "            \"val_loss\":  wandb.config.hyperparameter - math.log(0.1 + random.random() + step * 0.01)})"
   ]
  },
  {
   "cell_type": "markdown",
   "metadata": {},
   "source": [
    "## 📊 Dashboard Screenshot\n",
    "In the left-hand panel on the dashboard, we can see a new icon pop up: `{}`.\n",
    "\n",
    "\n",
    "![Code](https://i.ibb.co/3084138/code.png)\n"
   ]
  },
  {
   "cell_type": "markdown",
   "metadata": {},
   "source": [
    "If you click it, you'll see the entire history of the notebook session! That includes the code we ran for the section without code logging.\n",
    "\n",
    "W&B also automatically catches the standard out and standard error,\n",
    "plus system metrics!\n"
   ]
  },
  {
   "cell_type": "markdown",
   "metadata": {},
   "source": [
    "\n",
    "![With Code](https://i.ibb.co/vhy6hZg/With-Code.png)"
   ]
  },
  {
   "cell_type": "markdown",
   "metadata": {},
   "source": [
    "# 👨🏿‍🏫 Learn more about W&B\n",
    "That's not all!\n",
    "Check out the links below to learn how to use W&B to ...\n",
    "- [log rich media like audio, video, and 3D point clouds](http://wandb.me/media-colab)\n",
    "- [visualize datasets and model predictions](http://wandb.me/dsviz-nature-colab)\n",
    "- [coordinate hyperparameter sweeps](http://wandb.me/sweeps-colab)\n",
    "\n",
    "...or check out our\n",
    "[repository of examples](https://github.com/wandb/examples)\n",
    "for even more features!"
   ]
  }
 ],
 "metadata": {
  "kernelspec": {
   "display_name": "Python 3",
   "name": "python3"
  }
 },
 "nbformat": 4,
 "nbformat_minor": 0
}
