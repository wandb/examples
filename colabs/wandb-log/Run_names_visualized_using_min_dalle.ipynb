{
 "cells": [
  {
   "cell_type": "markdown",
   "metadata": {},
   "source": [
    "<a href=\"https://colab.research.google.com/github/wandb/examples/blob/master/colabs/wandb-log/Run_names_visualized_using_min_dalle.ipynb\" target=\"_parent\"><img src=\"https://colab.research.google.com/assets/colab-badge.svg\" alt=\"Open In Colab\"/></a>\n"
   ]
  },
  {
   "cell_type": "markdown",
   "metadata": {},
   "source": [
    "# Visualize W&B Run Names using Craiyon"
   ]
  },
  {
   "cell_type": "markdown",
   "metadata": {},
   "source": [
    "We use min-dalle, https://github.com/kuprel/min-dalle, a repo with the bare essentials necessary for doing inference on the Craiyon model. We use `wandb.Api` to get the project and run names from your account."
   ]
  },
  {
   "cell_type": "markdown",
   "metadata": {},
   "source": [
    "### Setup"
   ]
  },
  {
   "cell_type": "code",
   "execution_count": null,
   "metadata": {},
   "outputs": [],
   "source": [
    "#@title Setup\n",
    "! git clone https://github.com/kuprel/min-dalle\n",
    "! git lfs install\n",
    "! git clone https://huggingface.co/dalle-mini/vqgan_imagenet_f16_16384 /content/min-dalle/pretrained/vqgan\n",
    "!pip install torch flax==0.4.2 wandb\n",
    "! wandb artifact get --root=/content/min-dalle/pretrained/dalle_bart_mini dalle-mini/dalle-mini/mini-1:v0"
   ]
  },
  {
   "cell_type": "code",
   "execution_count": null,
   "metadata": {},
   "outputs": [],
   "source": [
    "wandb.login()"
   ]
  },
  {
   "cell_type": "markdown",
   "metadata": {},
   "source": [
    "### Generate Images using W&B Run Names"
   ]
  },
  {
   "cell_type": "code",
   "execution_count": null,
   "metadata": {},
   "outputs": [],
   "source": [
    "import wandb\n",
    "import os\n",
    "os.chdir('/content/min-dalle')\n",
    "from min_dalle.min_dalle_torch import MinDalleTorch\n",
    "import ipywidgets as widgets\n",
    "from IPython.display import display, clear_output\n",
    "\n",
    "mega = False\n",
    "model = MinDalleTorch(mega)\n",
    "seed = 7\n",
    "api = wandb.Api()\n",
    "projects = [project.name for project in api.projects()]\n",
    "\n",
    "project_dropdown = widgets.Dropdown(\n",
    "    options = projects,\n",
    "    description = 'Projects:',\n",
    ")\n",
    "\n",
    "run_dropdown = widgets.Dropdown(\n",
    "    options=[run.name for run in api.runs(project_dropdown.value)],\n",
    "    description = 'Run names:',\n",
    ")\n",
    "\n",
    "image_output = widgets.Output()\n",
    "\n",
    "def on_project_value_change(change):\n",
    "    run_dropdown.options = [run.name for run in api.runs(project_dropdown.value)]\n",
    "\n",
    "button = widgets.Button(\n",
    "    description='Generate',\n",
    "    tooltip='Click me to create an image from the currently selected run name',\n",
    ")\n",
    "def generate(b):\n",
    "    button.disabled = True\n",
    "    run_name = run_dropdown.value.replace('-', ' ')\n",
    "    image = model.generate_image(run_name, seed=seed)\n",
    "    with image_output:\n",
    "      clear_output(wait=True)\n",
    "      display(image, run_name)\n",
    "    button.disabled = False\n",
    "button.on_click(generate)\n",
    "\n",
    "project_dropdown.observe(on_project_value_change, 'value')\n",
    "widgets.VBox([project_dropdown, run_dropdown, button, image_output])"
   ]
  }
 ],
 "metadata": {
  "accelerator": "GPU",
  "colab": {
   "include_colab_link": true,
   "provenance": [],
   "toc_visible": true
  },
  "kernelspec": {
   "display_name": "Python 3",
   "name": "python3"
  }
 },
 "nbformat": 4,
 "nbformat_minor": 0
}
