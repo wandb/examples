{
  "nbformat": 4,
  "nbformat_minor": 0,
  "metadata": {
    "colab": {
      "name": "Performant-Sampled-Logs.ipynb",
      "provenance": [],
      "collapsed_sections": [],
      "include_colab_link": true
    },
    "kernelspec": {
      "display_name": "Python 3",
      "name": "python3"
    }
  },
  "cells": [
    {
      "cell_type": "markdown",
      "metadata": {
        "id": "view-in-github",
        "colab_type": "text"
      },
      "source": [
        "<a href=\"https://colab.research.google.com/github/ariG23498/examples/blob/ariG23498%2Fsample-log/colabs/wandb-log/Performant_Sampled_Logs.ipynb\" target=\"_parent\"><img src=\"https://colab.research.google.com/assets/colab-badge.svg\" alt=\"Open In Colab\"/></a>"
      ]
    },
    {
      "cell_type": "markdown",
      "metadata": {
        "id": "cVFWmUQada3Z"
      },
      "source": [
        "<img src=\"https://i.imgur.com/gb6B4ig.png\" width=\"400\" alt=\"Weights & Biases\" />\n",
        "\n",
        "<div><img /></div>\n",
        "\n",
        "<img src=\"https://i.imgur.com/uEtWSEb.png\" width=\"650\" alt=\"Weights & Biases\" />\n",
        "\n",
        "<div><img /></div>"
      ]
    },
    {
      "cell_type": "markdown",
      "metadata": {
        "id": "LYzNyVQEDfgy"
      },
      "source": [
        "# Batching Logs for Higher Performance\n",
        "\n",
        "Sometimes, a large number of small pieces of information need to be logged to Weights & Biases:\n",
        "- loss on every batch \n",
        "- reward on each step of each episode\n",
        "\n",
        "This can lead to substantial slowdown if the logging calls are much slower than the training iterations -- training will finish, but `wandb` will still be catching up.\n",
        "\n",
        "In this notebook we will show you how to improve the performance of `wandb.log()` in this case by sampling logs."
      ]
    },
    {
      "cell_type": "markdown",
      "metadata": {
        "id": "KIJkmk2EfAqS"
      },
      "source": [
        "# Setup"
      ]
    },
    {
      "cell_type": "code",
      "metadata": {
        "id": "lIYdn1woOS1n"
      },
      "source": [
        "%%capture\n",
        "# install the package\n",
        "! pip install wandb -qq"
      ],
      "execution_count": 1,
      "outputs": []
    },
    {
      "cell_type": "code",
      "metadata": {
        "id": "gKJa85JqfNP-"
      },
      "source": [
        "# login with the credentials\n",
        "! wandb login"
      ],
      "execution_count": null,
      "outputs": []
    },
    {
      "cell_type": "code",
      "metadata": {
        "id": "yTIZgjIne6_w"
      },
      "source": [
        "import wandb\n",
        "import random\n",
        "\n",
        "timing_header = \"=\" * 5 + \" Timing Results \" + \"=\" * 5"
      ],
      "execution_count": 3,
      "outputs": []
    },
    {
      "cell_type": "markdown",
      "metadata": {
        "id": "wBcAbZT8jrS9"
      },
      "source": [
        "# Simple, but Slow Method"
      ]
    },
    {
      "cell_type": "markdown",
      "metadata": {
        "id": "Qe1UrIGpjx7j"
      },
      "source": [
        "> In this section we log metrics for each and every iteration."
      ]
    },
    {
      "cell_type": "markdown",
      "metadata": {
        "id": "Ru8hvmtaj7a6"
      },
      "source": [
        "<font color=\"red\">Warning!</font> This cell takes a few minutes to run.\n",
        "\n",
        "If you just want to see the fast version, skip it and run the next code cell."
      ]
    },
    {
      "cell_type": "code",
      "metadata": {
        "id": "sq21nXhvCn_x"
      },
      "source": [
        "%%time\n",
        "\n",
        "total_steps = 100_000\n",
        "\n",
        "with wandb.init(project=\"batched-log\", name=\"before\") as run:\n",
        "\n",
        "    for ii in range(total_steps):\n",
        "        run.log({\"metric\": random.randint(1, 100)})\n",
        "\n",
        "    print(\"Run Finished!\")\n",
        "\n",
        "print(\"Logging Finished!\")\n",
        "print(\"\\n\" + timing_header)"
      ],
      "execution_count": null,
      "outputs": []
    },
    {
      "cell_type": "markdown",
      "metadata": {
        "id": "xF1TOkkcjuex"
      },
      "source": [
        "# More Performant Method with Batching"
      ]
    },
    {
      "cell_type": "markdown",
      "metadata": {
        "id": "iZCtFM8Mj4N_"
      },
      "source": [
        "> In the code below we will sample iterations and log the mean of the metrics. With this approach we will be boosting the logging process and not loose information too."
      ]
    },
    {
      "cell_type": "code",
      "metadata": {
        "id": "e6IAxmoTHZ3Q"
      },
      "source": [
        "%%time\n",
        "\n",
        "total_steps = 100_000\n",
        "log_every = 500\n",
        "metric = []\n",
        "\n",
        "with wandb.init(project=\"batched-log\", name=\"after\") as run:\n",
        "\n",
        "    for ii in range(total_steps):\n",
        "        metric.append(random.randint(1, 100))\n",
        "\n",
        "        if (ii + 1) % log_every == 0:\n",
        "            mean_metric = sum(metric)//log_every\n",
        "            run.log({\"mean_metric\":mean_metric})\n",
        "            metric = []\n",
        "\n",
        "    print(\"Run Finished!\")\n",
        "\n",
        "print(\"Logging Finished!\")\n",
        "print(\"\\n\" + timing_header)"
      ],
      "execution_count": null,
      "outputs": []
    }
  ]
}