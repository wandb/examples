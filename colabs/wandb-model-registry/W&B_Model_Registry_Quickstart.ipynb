{
 "cells": [
  {
   "cell_type": "markdown",
   "metadata": {},
   "source": [
    "<a href=\"https://colab.research.google.com/github/wandb/examples/blob/master/colabs/wandb-model-registry/W%26B_Model_Registry_Quickstart.ipynb\" target=\"_parent\"><img src=\"https://colab.research.google.com/assets/colab-badge.svg\" alt=\"Open In Colab\"/></a>"
   ]
  },
  {
   "cell_type": "markdown",
   "metadata": {},
   "source": [
    "# W&B Model Registry Quickstart"
   ]
  },
  {
   "cell_type": "code",
   "execution_count": null,
   "metadata": {},
   "outputs": [],
   "source": [
    "#@title 1) Run this cell to set up `wandb` and define helper functions\n",
    "\n",
    "\n",
    "# INSTALL W&B LIBRARY\n",
    "!pip install wandb -qqq\n",
    "\n",
    "import wandb\n",
    "import os\n",
    "import math\n",
    "import random\n",
    "\n",
    "# FORM VARIABLES\n",
    "PROJECT = \"Model_Registry_Quickstart\" #@param {type:\"string\"}\n",
    "RUN_COUNT = 3 #@param {type:\"integer\"}\n",
    "\n",
    "\n",
    "# HELPER FUNCTIONS\n",
    "# Create fake data to simulate training a model.\n",
    "\n",
    "# Simulate setting up hyperparameters\n",
    "# Return: A dict of params to log as config to W&B\n",
    "def set_config():\n",
    "  config={\n",
    "    \"learning_rate\": 0.01 + 0.1 * random.random(),\n",
    "    \"batch_size\": 128,\n",
    "    \"architecture\": \"CNN\",\n",
    "  }\n",
    "  return config\n",
    "\n",
    "# Simulate training a model\n",
    "# Return: A model file to log as an artifact to W&B\n",
    "def get_model():\n",
    "  file_name = \"demo_model.h5\"\n",
    "  model_file = open(file_name, 'w')\n",
    "  model_file.write('Imagine this is a big model file! ' + str(random.random()))\n",
    "  model_file.close()\n",
    "  return file_name\n",
    "\n",
    "# Simulate logging metrics from model training\n",
    "# Return: A dictionary of metrics to log to W&B\n",
    "def get_metrics(epoch):\n",
    "  metrics = {\n",
    "    \"acc\": .8 + 0.04 * (math.log(1 + epoch + random.random()) + (0.3 * random.random())),\n",
    "    \"val_acc\": .75 + 0.04 * (math.log(1 + epoch + random.random()) - (0.3 * random.random())),\n",
    "    \"loss\": .1 + 0.1 * (4 - math.log(1 + epoch + random.random()) + (0.3 * random.random())),\n",
    "    \"val_loss\": .1 + 0.16 * (5 - math.log(1 + epoch + random.random()) - (0.3 * random.random())),\n",
    "  }\n",
    "  return metrics\n"
   ]
  },
  {
   "cell_type": "markdown",
   "metadata": {},
   "source": [
    "### 2) Log a model"
   ]
  },
  {
   "cell_type": "code",
   "execution_count": null,
   "metadata": {},
   "outputs": [],
   "source": [
    "for _ in range(RUN_COUNT):\n",
    "\n",
    "  # 1️⃣ Initialize a new W&B run to track this job\n",
    "  run = wandb.init(project=PROJECT, config=set_config())\n",
    "\n",
    "  for epoch in range(5):\n",
    "    # 2️⃣ Log metrics to W&B for each epoch of training\n",
    "    run.log(get_metrics(epoch))\n",
    "\n",
    "  # 3️⃣ At the end of training, save the model artifact\n",
    "  # Name this artifact after the current run\n",
    "  model_artifact_name = \"demo_model_\" + run.id\n",
    "  # Create a new artifact \n",
    "  model = wandb.Artifact(model_artifact_name, type='model')\n",
    "  # Add files to the artifact, in this case a simple text file\n",
    "  model.add_file(get_model())\n",
    "  # Log the model to W&B\n",
    "  run.log_artifact(model)\n",
    "\n",
    "  # Call finish if you're in a notebook, to mark the run as done\n",
    "  run.finish()"
   ]
  }
 ],
 "metadata": {
  "kernelspec": {
   "display_name": "Python 3",
   "name": "python3"
  }
 },
 "nbformat": 4,
 "nbformat_minor": 0
}
