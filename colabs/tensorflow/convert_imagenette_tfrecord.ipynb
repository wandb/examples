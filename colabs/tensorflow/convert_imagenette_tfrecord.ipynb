{
 "cells": [
  {
   "cell_type": "markdown",
   "metadata": {},
   "source": [
    "<a href=\"https://colab.research.google.com/github/soumik12345/examples/blob/master/colabs/tensorflow/convert_imagenette_tfrecord.ipynb\" target=\"_parent\"><img src=\"https://colab.research.google.com/assets/colab-badge.svg\" alt=\"Open In Colab\"/></a>"
   ]
  },
  {
   "cell_type": "code",
   "execution_count": null,
   "metadata": {},
   "outputs": [
    {
     "name": "stdout",
     "output_type": "stream",
     "text": [
      "\u001b[K     |████████████████████████████████| 1.8 MB 7.8 MB/s \n",
      "\u001b[K     |████████████████████████████████| 181 kB 50.0 MB/s \n",
      "\u001b[K     |████████████████████████████████| 147 kB 43.6 MB/s \n",
      "\u001b[K     |████████████████████████████████| 63 kB 2.0 MB/s \n",
      "\u001b[?25h  Building wheel for pathtools (setup.py) ... \u001b[?25l\u001b[?25hdone\n",
      "--2022-07-20 14:45:27--  https://s3.amazonaws.com/fast-ai-imageclas/imagenette2-320.tgz\n",
      "Resolving s3.amazonaws.com (s3.amazonaws.com)... 52.217.81.38\n",
      "Connecting to s3.amazonaws.com (s3.amazonaws.com)|52.217.81.38|:443... connected.\n",
      "HTTP request sent, awaiting response... 200 OK\n",
      "Length: 341663724 (326M) [application/x-tar]\n",
      "Saving to: ‘imagenette2-320.tgz’\n",
      "\n",
      "imagenette2-320.tgz 100%[===================>] 325.83M  45.0MB/s    in 7.9s    \n",
      "\n",
      "2022-07-20 14:45:35 (41.0 MB/s) - ‘imagenette2-320.tgz’ saved [341663724/341663724]\n",
      "\n"
     ]
    }
   ],
   "source": [
    "!pip install -q wandb\n",
    "!wget https://s3.amazonaws.com/fast-ai-imageclas/imagenette2-320.tgz\n",
    "!tar -xzf imagenette2-320.tgz\n",
    "!rm imagenette2-320.tgz"
   ]
  },
  {
   "cell_type": "code",
   "execution_count": null,
   "metadata": {},
   "outputs": [],
   "source": [
    "import os\n",
    "import cv2\n",
    "import math\n",
    "import wandb\n",
    "import random\n",
    "import numpy as np\n",
    "from glob import glob\n",
    "from PIL import Image\n",
    "import tensorflow as tf\n",
    "from tqdm.auto import tqdm\n",
    "import matplotlib.pyplot as plt"
   ]
  },
  {
   "cell_type": "code",
   "execution_count": null,
   "metadata": {},
   "outputs": [],
   "source": [
    "LABEL_DICT = {\n",
    "    \"n01440764\": [\"tench\", 0],\n",
    "    \"n02102040\": [\"english_springer\", 1],\n",
    "    \"n02979186\": [\"cassette_player\", 2],\n",
    "    \"n03000684\": [\"chain_saw\", 3],\n",
    "    \"n03028079\": [\"church\", 4],\n",
    "    \"n03394916\": [\"french_horn\", 5],\n",
    "    \"n03417042\": [\"grabage_truck\", 6],\n",
    "    \"n03425413\": [\"gas_pump\", 7],\n",
    "    \"n03445777\": [\"golf_ball\", 8],\n",
    "    \"n03888257\": [\"parachute\", 9]\n",
    "}"
   ]
  },
  {
   "cell_type": "code",
   "execution_count": null,
   "metadata": {},
   "outputs": [
    {
     "data": {
      "application/javascript": [
       "\n",
       "        window._wandbApiKey = new Promise((resolve, reject) => {\n",
       "            function loadScript(url) {\n",
       "            return new Promise(function(resolve, reject) {\n",
       "                let newScript = document.createElement(\"script\");\n",
       "                newScript.onerror = reject;\n",
       "                newScript.onload = resolve;\n",
       "                document.body.appendChild(newScript);\n",
       "                newScript.src = url;\n",
       "            });\n",
       "            }\n",
       "            loadScript(\"https://cdn.jsdelivr.net/npm/postmate/build/postmate.min.js\").then(() => {\n",
       "            const iframe = document.createElement('iframe')\n",
       "            iframe.style.cssText = \"width:0;height:0;border:none\"\n",
       "            document.body.appendChild(iframe)\n",
       "            const handshake = new Postmate({\n",
       "                container: iframe,\n",
       "                url: 'https://wandb.ai/authorize'\n",
       "            });\n",
       "            const timeout = setTimeout(() => reject(\"Couldn't auto authenticate\"), 5000)\n",
       "            handshake.then(function(child) {\n",
       "                child.on('authorize', data => {\n",
       "                    clearTimeout(timeout)\n",
       "                    resolve(data)\n",
       "                });\n",
       "            });\n",
       "            })\n",
       "        });\n",
       "    "
      ],
      "text/plain": [
       "<IPython.core.display.Javascript object>"
      ]
     },
     "metadata": {},
     "output_type": "display_data"
    },
    {
     "name": "stderr",
     "output_type": "stream",
     "text": [
      "\u001b[34m\u001b[1mwandb\u001b[0m: Appending key for api.wandb.ai to your netrc file: /root/.netrc\n"
     ]
    },
    {
     "data": {
      "text/html": [
       "Tracking run with wandb version 0.12.21"
      ],
      "text/plain": [
       "<IPython.core.display.HTML object>"
      ]
     },
     "metadata": {},
     "output_type": "display_data"
    },
    {
     "data": {
      "text/html": [
       "Run data is saved locally in <code>/content/wandb/run-20220720_144553-kvofxctp</code>"
      ],
      "text/plain": [
       "<IPython.core.display.HTML object>"
      ]
     },
     "metadata": {},
     "output_type": "display_data"
    },
    {
     "data": {
      "text/html": [
       "Syncing run <strong><a href=\"https://wandb.ai/jax-series/simple-training-loop/runs/kvofxctp\" target=\"_blank\">fiery-puddle-41</a></strong> to <a href=\"https://wandb.ai/jax-series/simple-training-loop\" target=\"_blank\">Weights & Biases</a> (<a href=\"https://wandb.me/run\" target=\"_blank\">docs</a>)<br/>"
      ],
      "text/plain": [
       "<IPython.core.display.HTML object>"
      ]
     },
     "metadata": {},
     "output_type": "display_data"
    },
    {
     "data": {
      "text/html": [
       "<button onClick=\"this.nextSibling.style.display='block';this.style.display='none';\">Display W&B run</button><iframe src=\"https://wandb.ai/jax-series/simple-training-loop/runs/kvofxctp?jupyter=true\" style=\"border:none;width:100%;height:420px;display:none;\"></iframe>"
      ],
      "text/plain": [
       "<wandb.sdk.wandb_run.Run at 0x7f5eac5d84d0>"
      ]
     },
     "execution_count": null,
     "metadata": {},
     "output_type": "execute_result"
    }
   ],
   "source": [
    "wandb.init(\n",
    "    project=\"simple-training-loop\",\n",
    "    entity=\"jax-series\",\n",
    "    job_type=\"tfrecord\"\n",
    ")"
   ]
  },
  {
   "cell_type": "code",
   "execution_count": null,
   "metadata": {},
   "outputs": [],
   "source": [
    "def create_example(image_file, label):\n",
    "    feature = {\n",
    "        \"image\": tf.train.Feature(\n",
    "            bytes_list=tf.train.BytesList(\n",
    "                value=[tf.io.read_file(image_file).numpy()]\n",
    "            )\n",
    "        ),\n",
    "        \"label\": tf.train.Feature(\n",
    "            int64_list=tf.train.Int64List(value=[LABEL_DICT[label][1]])\n",
    "        ),\n",
    "        \"label_name\": tf.train.Feature(\n",
    "            bytes_list=tf.train.BytesList(\n",
    "                value=[LABEL_DICT[label][0].encode('utf8')]\n",
    "            )\n",
    "        )\n",
    "    }\n",
    "    return tf.train.Example(\n",
    "        features=tf.train.Features(feature=feature)\n",
    "    )"
   ]
  },
  {
   "cell_type": "code",
   "execution_count": null,
   "metadata": {},
   "outputs": [],
   "source": [
    "train_images = glob(os.path.join(\"imagenette2-320\", \"train/*/*.JPEG\"))\n",
    "random.shuffle(train_images)\n",
    "train_labels = [img.split(\"/\")[-2] for img in train_images]\n",
    "\n",
    "val_images = glob(os.path.join(\"imagenette2-320\", \"val/*/*.JPEG\"))\n",
    "random.shuffle(val_images)\n",
    "val_labels = [img.split(\"/\")[-2] for img in val_images]"
   ]
  },
  {
   "cell_type": "code",
   "execution_count": null,
   "metadata": {},
   "outputs": [],
   "source": [
    "def chunkify(input_list, chunk_size):\n",
    "    chunk_size = max(1, chunk_size)\n",
    "    return [\n",
    "        input_list[i: i + chunk_size]\n",
    "        for i in range(0, len(input_list), chunk_size)\n",
    "    ]\n",
    "\n",
    "\n",
    "def create_tfrecords(images, labels, max_chunk_size: int, dump_dir: str):\n",
    "    os.makedirs(dump_dir)\n",
    "    num_chunks = math.ceil(len(images) / max_chunk_size)\n",
    "    print(\"Total number of image-label pairs:\", len(images))\n",
    "    print(\"Total number of image-label pair chunks:\", num_chunks)\n",
    "    image_chunks = chunkify(images, max_chunk_size)\n",
    "    label_chunks = chunkify(labels, max_chunk_size)\n",
    "    table = wandb.Table(columns=[\n",
    "        \"Image\", \"Label-Name\", \"Label-ID\", \"Split-Name\", \"Chunk-ID\"\n",
    "    ])\n",
    "    for idx in range(num_chunks):\n",
    "        image_chunk = image_chunks[idx]\n",
    "        label_chunk = label_chunks[idx]\n",
    "        current_chunk_size = len(image_chunk)\n",
    "        file_name = \"%.2i-%.3i.tfrec\" % (idx + 1, current_chunk_size)\n",
    "        tfrecord_file = os.path.join(dump_dir, file_name)\n",
    "        writer = tf.io.TFRecordWriter(tfrecord_file)\n",
    "        progress_bar = tqdm(\n",
    "            range(current_chunk_size),\n",
    "            desc=f\"Writing {file_name}\"\n",
    "        )\n",
    "        for chunk_idx in progress_bar:\n",
    "            image = Image.open(image_chunk[chunk_idx])\n",
    "            table.add_data(\n",
    "                wandb.Image(image),\n",
    "                LABEL_DICT[label_chunk[chunk_idx]][0],\n",
    "                LABEL_DICT[label_chunk[chunk_idx]][1],\n",
    "                dump_dir.split(\"/\")[-1],\n",
    "                idx\n",
    "            )\n",
    "            example = create_example(\n",
    "                image_chunk[chunk_idx], label_chunk[chunk_idx]\n",
    "            )\n",
    "            writer.write(example.SerializeToString())\n",
    "        writer.close()\n",
    "    return table"
   ]
  },
  {
   "cell_type": "code",
   "execution_count": null,
   "metadata": {},
   "outputs": [
    {
     "name": "stdout",
     "output_type": "stream",
     "text": [
      "Creating TFRecords for train data...\n",
      "Total number of image-label pairs: 9469\n",
      "Total number of image-label pair chunks: 19\n"
     ]
    },
    {
     "data": {
      "application/vnd.jupyter.widget-view+json": {
       "model_id": "1177c69dd135499694f003ed38d51f9c",
       "version_major": 2,
       "version_minor": 0
      },
      "text/plain": [
       "Writing 01-512.tfrec:   0%|          | 0/512 [00:00<?, ?it/s]"
      ]
     },
     "metadata": {},
     "output_type": "display_data"
    },
    {
     "data": {
      "application/vnd.jupyter.widget-view+json": {
       "model_id": "3ef6ddf4b9bf47a9bbcf17bf4edc8198",
       "version_major": 2,
       "version_minor": 0
      },
      "text/plain": [
       "Writing 02-512.tfrec:   0%|          | 0/512 [00:00<?, ?it/s]"
      ]
     },
     "metadata": {},
     "output_type": "display_data"
    },
    {
     "data": {
      "application/vnd.jupyter.widget-view+json": {
       "model_id": "62d9de20d82442fd96574e1bcb052a6a",
       "version_major": 2,
       "version_minor": 0
      },
      "text/plain": [
       "Writing 03-512.tfrec:   0%|          | 0/512 [00:00<?, ?it/s]"
      ]
     },
     "metadata": {},
     "output_type": "display_data"
    },
    {
     "data": {
      "application/vnd.jupyter.widget-view+json": {
       "model_id": "8a0be82881dd4e6e8ec4fd1a7d0e3834",
       "version_major": 2,
       "version_minor": 0
      },
      "text/plain": [
       "Writing 04-512.tfrec:   0%|          | 0/512 [00:00<?, ?it/s]"
      ]
     },
     "metadata": {},
     "output_type": "display_data"
    },
    {
     "data": {
      "application/vnd.jupyter.widget-view+json": {
       "model_id": "091af542e02140e4b2094ce652564cf0",
       "version_major": 2,
       "version_minor": 0
      },
      "text/plain": [
       "Writing 05-512.tfrec:   0%|          | 0/512 [00:00<?, ?it/s]"
      ]
     },
     "metadata": {},
     "output_type": "display_data"
    },
    {
     "data": {
      "application/vnd.jupyter.widget-view+json": {
       "model_id": "db7f4137f4c34b00a10d7f0a0d38a04b",
       "version_major": 2,
       "version_minor": 0
      },
      "text/plain": [
       "Writing 06-512.tfrec:   0%|          | 0/512 [00:00<?, ?it/s]"
      ]
     },
     "metadata": {},
     "output_type": "display_data"
    },
    {
     "data": {
      "application/vnd.jupyter.widget-view+json": {
       "model_id": "45cdad1f82fe42b3ad34edb5b4151da1",
       "version_major": 2,
       "version_minor": 0
      },
      "text/plain": [
       "Writing 07-512.tfrec:   0%|          | 0/512 [00:00<?, ?it/s]"
      ]
     },
     "metadata": {},
     "output_type": "display_data"
    },
    {
     "data": {
      "application/vnd.jupyter.widget-view+json": {
       "model_id": "89f60a58202f40daa68044b165131727",
       "version_major": 2,
       "version_minor": 0
      },
      "text/plain": [
       "Writing 08-512.tfrec:   0%|          | 0/512 [00:00<?, ?it/s]"
      ]
     },
     "metadata": {},
     "output_type": "display_data"
    },
    {
     "data": {
      "application/vnd.jupyter.widget-view+json": {
       "model_id": "d049f72267b64dd6abe59bdd56501f06",
       "version_major": 2,
       "version_minor": 0
      },
      "text/plain": [
       "Writing 09-512.tfrec:   0%|          | 0/512 [00:00<?, ?it/s]"
      ]
     },
     "metadata": {},
     "output_type": "display_data"
    },
    {
     "data": {
      "application/vnd.jupyter.widget-view+json": {
       "model_id": "a971c6585a224b1bad39d05882b9c739",
       "version_major": 2,
       "version_minor": 0
      },
      "text/plain": [
       "Writing 10-512.tfrec:   0%|          | 0/512 [00:00<?, ?it/s]"
      ]
     },
     "metadata": {},
     "output_type": "display_data"
    },
    {
     "data": {
      "application/vnd.jupyter.widget-view+json": {
       "model_id": "635e13cbe333409395520c30008ed4bf",
       "version_major": 2,
       "version_minor": 0
      },
      "text/plain": [
       "Writing 11-512.tfrec:   0%|          | 0/512 [00:00<?, ?it/s]"
      ]
     },
     "metadata": {},
     "output_type": "display_data"
    },
    {
     "data": {
      "application/vnd.jupyter.widget-view+json": {
       "model_id": "57f798238899416b9f6583bb540114ea",
       "version_major": 2,
       "version_minor": 0
      },
      "text/plain": [
       "Writing 12-512.tfrec:   0%|          | 0/512 [00:00<?, ?it/s]"
      ]
     },
     "metadata": {},
     "output_type": "display_data"
    },
    {
     "data": {
      "application/vnd.jupyter.widget-view+json": {
       "model_id": "6709abd1cb2a462abc22f9438de0b0fc",
       "version_major": 2,
       "version_minor": 0
      },
      "text/plain": [
       "Writing 13-512.tfrec:   0%|          | 0/512 [00:00<?, ?it/s]"
      ]
     },
     "metadata": {},
     "output_type": "display_data"
    },
    {
     "data": {
      "application/vnd.jupyter.widget-view+json": {
       "model_id": "7c3fe0b831fe45e6afc7d64295a7bc87",
       "version_major": 2,
       "version_minor": 0
      },
      "text/plain": [
       "Writing 14-512.tfrec:   0%|          | 0/512 [00:00<?, ?it/s]"
      ]
     },
     "metadata": {},
     "output_type": "display_data"
    },
    {
     "data": {
      "application/vnd.jupyter.widget-view+json": {
       "model_id": "0c83712246a44bd9ae6101baf0400a53",
       "version_major": 2,
       "version_minor": 0
      },
      "text/plain": [
       "Writing 15-512.tfrec:   0%|          | 0/512 [00:00<?, ?it/s]"
      ]
     },
     "metadata": {},
     "output_type": "display_data"
    },
    {
     "data": {
      "application/vnd.jupyter.widget-view+json": {
       "model_id": "44f023847e2a49268dce479f798d7ead",
       "version_major": 2,
       "version_minor": 0
      },
      "text/plain": [
       "Writing 16-512.tfrec:   0%|          | 0/512 [00:00<?, ?it/s]"
      ]
     },
     "metadata": {},
     "output_type": "display_data"
    },
    {
     "data": {
      "application/vnd.jupyter.widget-view+json": {
       "model_id": "e4405fef4872491da3feb1a9a232f7a0",
       "version_major": 2,
       "version_minor": 0
      },
      "text/plain": [
       "Writing 17-512.tfrec:   0%|          | 0/512 [00:00<?, ?it/s]"
      ]
     },
     "metadata": {},
     "output_type": "display_data"
    },
    {
     "data": {
      "application/vnd.jupyter.widget-view+json": {
       "model_id": "f3264eebe5be44698531ad772efaccec",
       "version_major": 2,
       "version_minor": 0
      },
      "text/plain": [
       "Writing 18-512.tfrec:   0%|          | 0/512 [00:00<?, ?it/s]"
      ]
     },
     "metadata": {},
     "output_type": "display_data"
    },
    {
     "data": {
      "application/vnd.jupyter.widget-view+json": {
       "model_id": "1dca4ab20ed94639af6c888715c3213d",
       "version_major": 2,
       "version_minor": 0
      },
      "text/plain": [
       "Writing 19-253.tfrec:   0%|          | 0/253 [00:00<?, ?it/s]"
      ]
     },
     "metadata": {},
     "output_type": "display_data"
    },
    {
     "name": "stdout",
     "output_type": "stream",
     "text": [
      "Creating TFRecords for validation data...\n",
      "Total number of image-label pairs: 3925\n",
      "Total number of image-label pair chunks: 8\n"
     ]
    },
    {
     "data": {
      "application/vnd.jupyter.widget-view+json": {
       "model_id": "fc59a585183d42439636c6a2430fd5d5",
       "version_major": 2,
       "version_minor": 0
      },
      "text/plain": [
       "Writing 01-512.tfrec:   0%|          | 0/512 [00:00<?, ?it/s]"
      ]
     },
     "metadata": {},
     "output_type": "display_data"
    },
    {
     "data": {
      "application/vnd.jupyter.widget-view+json": {
       "model_id": "5b5277bacfaf4249bb73c3c7d7248024",
       "version_major": 2,
       "version_minor": 0
      },
      "text/plain": [
       "Writing 02-512.tfrec:   0%|          | 0/512 [00:00<?, ?it/s]"
      ]
     },
     "metadata": {},
     "output_type": "display_data"
    },
    {
     "data": {
      "application/vnd.jupyter.widget-view+json": {
       "model_id": "7d42ea4146cc4caf96124e54057e168a",
       "version_major": 2,
       "version_minor": 0
      },
      "text/plain": [
       "Writing 03-512.tfrec:   0%|          | 0/512 [00:00<?, ?it/s]"
      ]
     },
     "metadata": {},
     "output_type": "display_data"
    },
    {
     "data": {
      "application/vnd.jupyter.widget-view+json": {
       "model_id": "717364e380c04d17a0312d867190227f",
       "version_major": 2,
       "version_minor": 0
      },
      "text/plain": [
       "Writing 04-512.tfrec:   0%|          | 0/512 [00:00<?, ?it/s]"
      ]
     },
     "metadata": {},
     "output_type": "display_data"
    },
    {
     "data": {
      "application/vnd.jupyter.widget-view+json": {
       "model_id": "e2738ab8a6314032a453c2ca5e7a3649",
       "version_major": 2,
       "version_minor": 0
      },
      "text/plain": [
       "Writing 05-512.tfrec:   0%|          | 0/512 [00:00<?, ?it/s]"
      ]
     },
     "metadata": {},
     "output_type": "display_data"
    },
    {
     "data": {
      "application/vnd.jupyter.widget-view+json": {
       "model_id": "8e3c1141b9134379a92d49f97682a4ad",
       "version_major": 2,
       "version_minor": 0
      },
      "text/plain": [
       "Writing 06-512.tfrec:   0%|          | 0/512 [00:00<?, ?it/s]"
      ]
     },
     "metadata": {},
     "output_type": "display_data"
    },
    {
     "data": {
      "application/vnd.jupyter.widget-view+json": {
       "model_id": "f8e3d478333947f5bc29f521c98a558e",
       "version_major": 2,
       "version_minor": 0
      },
      "text/plain": [
       "Writing 07-512.tfrec:   0%|          | 0/512 [00:00<?, ?it/s]"
      ]
     },
     "metadata": {},
     "output_type": "display_data"
    },
    {
     "data": {
      "application/vnd.jupyter.widget-view+json": {
       "model_id": "32926dfc4e1e47218a27960997e298e3",
       "version_major": 2,
       "version_minor": 0
      },
      "text/plain": [
       "Writing 08-341.tfrec:   0%|          | 0/341 [00:00<?, ?it/s]"
      ]
     },
     "metadata": {},
     "output_type": "display_data"
    }
   ],
   "source": [
    "print(\"Creating TFRecords for train data...\")\n",
    "train_table = create_tfrecords(\n",
    "    train_images,\n",
    "    train_labels,\n",
    "    max_chunk_size=512,\n",
    "    dump_dir=\"tfrecords/train\"\n",
    ")\n",
    "\n",
    "print(\"Creating TFRecords for validation data...\")\n",
    "val_table = create_tfrecords(\n",
    "    val_images,\n",
    "    val_labels,\n",
    "    max_chunk_size=512,\n",
    "    dump_dir=\"tfrecords/val\"\n",
    ")"
   ]
  },
  {
   "cell_type": "code",
   "execution_count": null,
   "metadata": {},
   "outputs": [],
   "source": [
    "wandb.log({\"Train-Data\": train_table})\n",
    "wandb.log({\"Validation-Data\": val_table})"
   ]
  },
  {
   "cell_type": "code",
   "execution_count": null,
   "metadata": {},
   "outputs": [],
   "source": [
    "def parse_tfrecord(example):\n",
    "    example = tf.io.parse_single_example(\n",
    "        example, {\n",
    "            \"image\": tf.io.FixedLenFeature([], tf.string),\n",
    "            \"label\": tf.io.VarLenFeature(tf.int64),\n",
    "            \"label_name\": tf.io.VarLenFeature(tf.string)\n",
    "        }\n",
    "    )\n",
    "    example[\"image\"] = tf.io.decode_jpeg(example[\"image\"], channels=3)\n",
    "    example[\"label\"] = tf.sparse.to_dense(example[\"label\"])\n",
    "    example[\"label_name\"] = tf.sparse.to_dense(example[\"label_name\"])\n",
    "    return example\n",
    "\n",
    "\n",
    "raw_dataset = tf.data.TFRecordDataset(glob(\"./tfrecords/train/*\"))\n",
    "parsed_dataset = raw_dataset.map(parse_tfrecord)"
   ]
  },
  {
   "cell_type": "code",
   "execution_count": null,
   "metadata": {},
   "outputs": [
    {
     "data": {
      "image/png": "[encoded data removed]",
      "text/plain": [
       "<Figure size 432x288 with 1 Axes>"
      ]
     },
     "metadata": {
      "needs_background": "light"
     },
     "output_type": "display_data"
    }
   ],
   "source": [
    "for features in parsed_dataset.take(1):\n",
    "    plt.imshow(features[\"image\"].numpy())\n",
    "    label = features[\"label\"].numpy()\n",
    "    label_name = features[\"label_name\"].numpy()\n",
    "    plt.title(f\"{label}-{label_name}\")\n",
    "    plt.show()"
   ]
  },
  {
   "cell_type": "code",
   "execution_count": null,
   "metadata": {},
   "outputs": [
    {
     "name": "stderr",
     "output_type": "stream",
     "text": [
      "\u001b[34m\u001b[1mwandb\u001b[0m: Adding directory to artifact (./tfrecords)... Done. 2.6s\n"
     ]
    },
    {
     "data": {
      "text/plain": [
       "<wandb.sdk.wandb_artifacts.Artifact at 0x7f5ea202dad0>"
      ]
     },
     "execution_count": null,
     "metadata": {},
     "output_type": "execute_result"
    }
   ],
   "source": [
    "artifact = wandb.Artifact(\n",
    "    'imagenette-tfrecords',\n",
    "    type='dataset',\n",
    "    metadata={\n",
    "        \"author\": \"Jeremy Howard\",\n",
    "        \"title\": \"imagenette\",\n",
    "        \"url\": \"https://github.com/fastai/imagenette/\",\n",
    "        \"source\": \"https://s3.amazonaws.com/fast-ai-imageclas/imagenette2-320.tgz\"\n",
    "    }\n",
    ")\n",
    "artifact.add_dir('tfrecords')\n",
    "wandb.log_artifact(artifact, aliases=[\"320px\"])"
   ]
  },
  {
   "cell_type": "code",
   "execution_count": null,
   "metadata": {},
   "outputs": [
    {
     "data": {
      "text/html": [
       "Waiting for W&B process to finish... <strong style=\"color:green\">(success).</strong>"
      ],
      "text/plain": [
       "<IPython.core.display.HTML object>"
      ]
     },
     "metadata": {},
     "output_type": "display_data"
    },
    {
     "data": {
      "application/vnd.jupyter.widget-view+json": {
       "model_id": "859cb3a1ed644456878f448ac38399d3",
       "version_major": 2,
       "version_minor": 0
      },
      "text/plain": [
       "VBox(children=(Label(value='2839.835 MB of 2839.835 MB uploaded (0.354 MB deduped)\\r'), FloatProgress(value=1.…"
      ]
     },
     "metadata": {},
     "output_type": "display_data"
    },
    {
     "data": {
      "text/html": [
       "Synced <strong style=\"color:#cdcd00\">fiery-puddle-41</strong>: <a href=\"https://wandb.ai/jax-series/simple-training-loop/runs/kvofxctp\" target=\"_blank\">https://wandb.ai/jax-series/simple-training-loop/runs/kvofxctp</a><br/>Synced 5 W&B file(s), 2 media file(s), 13433 artifact file(s) and 1 other file(s)"
      ],
      "text/plain": [
       "<IPython.core.display.HTML object>"
      ]
     },
     "metadata": {},
     "output_type": "display_data"
    },
    {
     "data": {
      "text/html": [
       "Find logs at: <code>./wandb/run-20220720_144553-kvofxctp/logs</code>"
      ],
      "text/plain": [
       "<IPython.core.display.HTML object>"
      ]
     },
     "metadata": {},
     "output_type": "display_data"
    }
   ],
   "source": [
    "wandb.finish()"
   ]
  },
  {
   "cell_type": "code",
   "execution_count": null,
   "metadata": {},
   "outputs": [],
   "source": []
  }
 ],
 "metadata": {
  "kernelspec": {
   "display_name": "Python 3",
   "name": "python3"
  }
 },
 "nbformat": 4,
 "nbformat_minor": 0
}
