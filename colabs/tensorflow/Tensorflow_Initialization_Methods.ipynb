{
  "nbformat": 4,
  "nbformat_minor": 0,
  "metadata": {
    "colab": {
      "name": "Tensorflow: Initialization Methods",
      "provenance": [],
      "authorship_tag": "ABX9TyM3re1IWj4ZNeW2JZowJuDK",
      "include_colab_link": true
    },
    "kernelspec": {
      "name": "python3",
      "display_name": "Python 3"
    },
    "language_info": {
      "name": "python"
    }
  },
  "cells": [
    {
      "cell_type": "markdown",
      "metadata": {
        "id": "view-in-github",
        "colab_type": "text"
      },
      "source": [
        "<a href=\"https://colab.research.google.com/github/SauravMaheshkar/Initialization/blob/main/Notebooks/Tensorflow_Initialization_Methods.ipynb\" target=\"_parent\"><img src=\"https://colab.research.google.com/assets/colab-badge.svg\" alt=\"Open In Colab\"/></a>"
      ]
    },
    {
      "cell_type": "markdown",
      "metadata": {
        "id": "CqYwENgjVA_1"
      },
      "source": [
        "# Packages 📦 and Basic Setup"
      ]
    },
    {
      "cell_type": "code",
      "metadata": {
        "id": "d1Q_akW-L4V6"
      },
      "source": [
        "%%capture\n",
        "!pip install wandb\n",
        "import wandb\n",
        "import numpy as np\n",
        "import tensorflow as tf\n",
        "from wandb.keras import WandbCallback"
      ],
      "execution_count": 1,
      "outputs": []
    },
    {
      "cell_type": "markdown",
      "metadata": {
        "id": "wVn1Sd8iVtdm"
      },
      "source": [
        "# 💿 Dataset\n",
        "\n",
        "For the sake of simplicity, MNIST was chosen"
      ]
    },
    {
      "cell_type": "code",
      "metadata": {
        "id": "smH0Lgo8I6bc"
      },
      "source": [
        "mnist = tf.keras.datasets.mnist\n",
        "\n",
        "(x_train, y_train),(x_test, y_test) = mnist.load_data()\n",
        "x_train, x_test = x_train / 255.0, x_test / 255.0"
      ],
      "execution_count": 3,
      "outputs": []
    },
    {
      "cell_type": "markdown",
      "metadata": {
        "id": "nlbqhgHEVxm1"
      },
      "source": [
        "# The Model 👷‍♀️\n",
        "\n",
        "Initializers used (from `tf.keras.initializers`):-\n",
        "\n",
        "* Zeros\n",
        "* LeCunNormal\n",
        "* GlorotNormal\n",
        "* HeNormal"
      ]
    },
    {
      "cell_type": "code",
      "metadata": {
        "id": "u7q0vfT7JE95"
      },
      "source": [
        "initializer = tf.keras.initializers.LecunNormal()\n",
        "\n",
        "model = tf.keras.models.Sequential([\n",
        "  tf.keras.layers.Flatten(input_shape=(28, 28)),\n",
        "  tf.keras.layers.Dense(128, activation='tanh', kernel_initializer=initializer),\n",
        "  tf.keras.layers.Dense(64, activation='tanh', kernel_initializer=initializer),\n",
        "  tf.keras.layers.Dense(32, activation='tanh', kernel_initializer=initializer),\n",
        "  tf.keras.layers.Dense(10, activation='softmax')\n",
        "])\n",
        "\n",
        "model.compile(optimizer='adam',\n",
        "              loss='sparse_categorical_crossentropy',\n",
        "              metrics=['accuracy'])"
      ],
      "execution_count": 4,
      "outputs": []
    },
    {
      "cell_type": "markdown",
      "metadata": {
        "id": "dK3B6R7nV2Mk"
      },
      "source": [
        "# Training 💪🏻\n",
        "\n",
        "The weights and gradients were logged using the helpful `log_gradients` and `log_weights` parameters of `WandbCallback()`"
      ]
    },
    {
      "cell_type": "code",
      "metadata": {
        "id": "frvqYNnfK9T8"
      },
      "source": [
        "run = wandb.init()\n",
        "\n",
        "model.fit(x_train, y_train, epochs=20, callbacks=[WandbCallback(training_data = (x_train, y_train),log_weights = True, log_gradients = True, save_model = False)])\n",
        "\n",
        "run.finish()"
      ],
      "execution_count": null,
      "outputs": []
    }
  ]
}