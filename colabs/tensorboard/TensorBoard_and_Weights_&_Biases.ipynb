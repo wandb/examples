{
  "nbformat": 4,
  "nbformat_minor": 0,
  "metadata": {
    "colab": {
      "name": "TensorBoard and Weights & Biases.ipynb",
      "provenance": [],
      "collapsed_sections": []
    },
    "kernelspec": {
      "name": "python3",
      "display_name": "Python 3"
    },
    "language_info": {
      "name": "python"
    },
    "accelerator": "GPU"
  },
  "cells": [
    {
      "cell_type": "markdown",
      "source": [
        "<a href=\"https://colab.research.google.com/github/wandb/examples/blob/master/colabs/intro/Intro_to_Weights_&_Biases_keras.ipynb\" target=\"_parent\"><img src=\"https://colab.research.google.com/assets/colab-badge.svg\" alt=\"Open In Colab\"/></a><!--- @wandbcode{tensorboard, v=examples} -->"
      ],
      "metadata": {
        "id": "svUTQUAb8mHc"
      }
    },
    {
      "cell_type": "markdown",
      "source": [
        "<img src=\"http://wandb.me/logo-im-png\" width=\"400\" alt=\"Weights & Biases\"/> <br>\n",
        "\n",
        "<!--- @wandbcode{tensorboard, v=examples} -->\n",
        "\n",
        "<img src=\"http://wandb.me/mini-diagram\" width=\"600\" alt=\"Weights & Biases\"/>\n"
      ],
      "metadata": {
        "id": "8kG-W3iuy_5R"
      }
    },
    {
      "cell_type": "markdown",
      "source": [
        "By the end of this colab you will have a TensorBoard server running in Weights & Biases, just like this:\n",
        "\n",
        "<img src=\"https://i.imgur.com/fjOsTLO.png\" width=\"600\" alt=\"W&B in TensorBoard\"/>\n",
        "\n",
        "This code is modified from the offical TensorBoard [getting started](https://www.tensorflow.org/tensorboard/get_started) code"
      ],
      "metadata": {
        "id": "iK0TnCKo7uLR"
      }
    },
    {
      "cell_type": "markdown",
      "source": [
        "## 🪴 Start a Weights & Biases run\n",
        "When using Weights & Biases for the first time you will need to:\n",
        "\n",
        "1️⃣. Sign-up for a free W&B [account here](https://wandb.ai/site)\n",
        "\n",
        "2️⃣. Get your W&B [API key here](https://wandb.ai/authorize)\n",
        "\n",
        "3️⃣. Initialise a W&B run with wandb.init and pass in your API key to log in"
      ],
      "metadata": {
        "id": "DU7l5i9xzVTD"
      }
    },
    {
      "cell_type": "code",
      "source": [
        "!pip install -qqq wandb"
      ],
      "metadata": {
        "id": "pB0Hdb38zLvv"
      },
      "execution_count": 6,
      "outputs": []
    },
    {
      "cell_type": "markdown",
      "source": [
        "Initialising a Weights & Biases run with `sync_tensorboard=True` will enable wandb to pick up "
      ],
      "metadata": {
        "id": "AzG2YYGd0d6s"
      }
    },
    {
      "cell_type": "code",
      "source": [
        "import wandb\n",
        "wandb.init(project=\"my-wonderful-project\", sync_tensorboard=True)"
      ],
      "metadata": {
        "id": "RTxM14u5zVz4"
      },
      "execution_count": 7,
      "outputs": []
    },
    {
      "cell_type": "markdown",
      "source": [
        "## 🌿 Create Your Dataset and Model"
      ],
      "metadata": {
        "id": "Iv51eXPSzk5O"
      }
    },
    {
      "cell_type": "code",
      "source": [
        "import tensorflow as tf\n",
        "import os\n",
        "import datetime\n",
        "\n",
        "mnist = tf.keras.datasets.mnist\n",
        "\n",
        "(x_train, y_train),(x_test, y_test) = mnist.load_data()\n",
        "x_train, x_test = x_train / 255.0, x_test / 255.0\n",
        "\n",
        "def create_model():\n",
        "  return tf.keras.models.Sequential([\n",
        "    tf.keras.layers.Flatten(input_shape=(28, 28)),\n",
        "    tf.keras.layers.Dense(512, activation='relu'),\n",
        "    tf.keras.layers.Dropout(0.2),\n",
        "    tf.keras.layers.Dense(10, activation='softmax')\n",
        "  ])\n",
        "\n",
        "model = create_model()\n",
        "model.compile(optimizer='adam',\n",
        "              loss='sparse_categorical_crossentropy',\n",
        "              metrics=['accuracy'])"
      ],
      "metadata": {
        "id": "5v3rHxB1z7XA"
      },
      "execution_count": 8,
      "outputs": []
    },
    {
      "cell_type": "markdown",
      "source": [
        "## 🌲 Train Your Model and Log to TensorBoard AND Weights & Biases\n",
        "\n",
        "The tensorboard logs will be automatically picked up by Weights & Biases and logged"
      ],
      "metadata": {
        "id": "7zPeZ_lwzxkv"
      }
    },
    {
      "cell_type": "code",
      "execution_count": 9,
      "metadata": {
        "id": "4g2Gu9gsygsI"
      },
      "outputs": [],
      "source": [
        "tensorboard_callback = tf.keras.callbacks.TensorBoard(histogram_freq=1)\n",
        "\n",
        "model.fit(x=x_train, \n",
        "          y=y_train, \n",
        "          epochs=5, \n",
        "          validation_data=(x_test, y_test), \n",
        "          callbacks=[tensorboard_callback])"
      ]
    },
    {
      "cell_type": "markdown",
      "source": [
        "## (Notebook only) Finish the Weights & Biases Run"
      ],
      "metadata": {
        "id": "zLqJfB060JYn"
      }
    },
    {
      "cell_type": "code",
      "source": [
        "wandb.finish()"
      ],
      "metadata": {
        "id": "F5GVDy6J0J-H"
      },
      "execution_count": 10,
      "outputs": []
    },
    {
      "cell_type": "markdown",
      "source": [
        "## Documentation\n",
        "\n",
        "You can find additional documentation of how to use [Weights & Biases with Tensorboard here](https://docs.wandb.ai/guides/integrations/tensorboard)"
      ],
      "metadata": {
        "id": "mDHOxG9g9Nv4"
      }
    },
    {
      "cell_type": "code",
      "source": [
        ""
      ],
      "metadata": {
        "id": "UI9UErSB9XMf"
      },
      "execution_count": null,
      "outputs": []
    }
  ]
}