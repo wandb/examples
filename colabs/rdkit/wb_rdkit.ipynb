{
 "cells": [
  {
   "cell_type": "markdown",
   "metadata": {},
   "source": [
    "<img src=\"https://i.imgur.com/gb6B4ig.png\" width=\"400\" alt=\"Weights & Biases\" />\n",
    "<!--- @wandbcode{rdkit_molecules} -->\n",
    "\n",
    "# Logging RDKit Molecular Data\n",
    "\n",
    "[RDKit](https://www.rdkit.org/) is a popular open source toolkit for cheminformatics. In version `0.12.7` of the `wandb` client library, we added `wandb.Molecule` support for `rdkit` data formats. In particular, you can now initialize `wandb.Molecule` from [SMILES](https://en.wikipedia.org/wiki/Simplified_molecular-input_line-entry_system) strings, [`rdkit.Chem.rdchem.Mol`](https://www.rdkit.org/docs/source/rdkit.Chem.rdchem.html#rdkit.Chem.rdchem.Mol) objects, and files in `rdkit`-supported formats, such as `.mol`.\n",
    "\n",
    "This Colab showcases how you can log `rdkit` molecular data in Weights & Biases and visualize it both in 3D and 2D.\n",
    "\n",
    "\n",
    "###[Click here](https://wandb.ai/anmolmann/rdkit_molecules) to view and interact with a live W&B Dashboard built with this notebook. "
   ]
  },
  {
   "cell_type": "markdown",
   "id": "3761cf65",
   "metadata": {},
   "source": [
    "<a href=\"https://colab.research.google.com/github/wandb/examples/blob/master/rdkit/wb_rdkit.ipynb\" target=\"_parent\"><img src=\"https://colab.research.google.com/assets/colab-badge.svg\" alt=\"Open In Colab\"/></a>"
   ]
  },
  {
   "cell_type": "code",
   "execution_count": null,
   "metadata": {},
   "outputs": [],
   "source": [
    "!pip install wandb -qqq\n",
    "import wandb\n",
    "wandb.login()"
   ]
  },
  {
   "cell_type": "code",
   "execution_count": null,
   "metadata": {},
   "outputs": [],
   "source": [
    "!pip install rdkit-pypi -qqq"
   ]
  },
  {
   "cell_type": "markdown",
   "metadata": {},
   "source": [
    "## Overview\n",
    "In this example, we're using Google Colab as a convenient hosted environment, but you can run your own training scripts from anywhere and visualize metrics and data with W&B's experiment tracking tool.\n",
    "\n",
    "As an example, we will initialize `wandb.Molecule` objects from different `rdkit` formats and log them to a `wandb.Table` for visualization."
   ]
  },
  {
   "cell_type": "code",
   "execution_count": null,
   "metadata": {},
   "outputs": [],
   "source": [
    "import datetime\n",
    "import pandas as pd\n",
    "from rdkit import Chem\n",
    "from rdkit.Chem import AllChem, Draw"
   ]
  },
  {
   "cell_type": "markdown",
   "metadata": {},
   "source": [
    "Let us save a `.mol` file:"
   ]
  },
  {
   "cell_type": "code",
   "execution_count": null,
   "metadata": {},
   "outputs": [],
   "source": [
    "resveratrol = Chem.MolFromSmiles(\"Oc1ccc(cc1)C=Cc1cc(O)cc(c1)O\")\n",
    "Chem.MolToMolFile(resveratrol, \"resveratrol.mol\")"
   ]
  },
  {
   "cell_type": "markdown",
   "metadata": {},
   "source": [
    "## 2D Views of a Molecule\n",
    "First, we'll log 2D views of molecule using the [`wandb.Image`](https://docs.wandb.ai/ref/python/data-types/image) data type."
   ]
  },
  {
   "cell_type": "code",
   "execution_count": null,
   "metadata": {},
   "outputs": [],
   "source": [
    "def mol_to_pil_image(molecule: Chem.rdchem.Mol, width: int = 300, height: int = 300) -> \"PIL.Image\":\n",
    "    Chem.AllChem.Compute2DCoords(molecule)\n",
    "    Chem.AllChem.GenerateDepictionMatching2DStructure(molecule, molecule)\n",
    "    pil_image = Chem.Draw.MolToImage(molecule, size=(width, height))\n",
    "    return pil_image"
   ]
  },
  {
   "cell_type": "markdown",
   "metadata": {},
   "source": [
    "## 3D Representations of Molecules\n",
    "Now, let us log 3D representations of a few sample molecules using a [`wandb.Table`](https://docs.wandb.ai/ref/python/data-types/table)."
   ]
  },
  {
   "cell_type": "code",
   "execution_count": null,
   "metadata": {},
   "outputs": [],
   "source": [
    "smiles = {\n",
    "    \"resveratrol\": \"Oc1ccc(cc1)C=Cc1cc(O)cc(c1)O\",\n",
    "    \"ciprofloxacin\": \"C1CC1N2C=C(C(=O)C3=CC(=C(C=C32)N4CCNCC4)F)C(=O)O\",\n",
    "    \"acetic acid\": \"CC(=O)O\",\n",
    "}\n",
    "\n",
    "acetic_acid = Chem.MolFromSmiles(smiles[\"acetic acid\"])\n",
    "ciprofloxacin = Chem.MolFromSmiles(smiles[\"ciprofloxacin\"])\n",
    "\n",
    "data = [\n",
    "    {\n",
    "        \"name\": \"resveratrol\",\n",
    "        \"smiles\": smiles[\"resveratrol\"],\n",
    "        # wandb.Molecule from a .mol file:\n",
    "        \"molecule\": wandb.Molecule.from_rdkit(\"resveratrol.mol\"),\n",
    "        \"molecule_2D\": wandb.Image(mol_to_pil_image(resveratrol))\n",
    "    },\n",
    "    {\n",
    "        \"name\": \"ciprofloxacin\",\n",
    "        \"smiles\": smiles[\"ciprofloxacin\"],\n",
    "        # wandb.Molecule from a SMILES string:\n",
    "        \"molecule\": wandb.Molecule.from_smiles(smiles[\"ciprofloxacin\"]),\n",
    "        \"molecule_2D\": wandb.Image(mol_to_pil_image(ciprofloxacin))\n",
    "    },\n",
    "    {\n",
    "        \"name\": \"acetic acid\",\n",
    "        \"smiles\": smiles[\"acetic acid\"],\n",
    "        # wandb.Molecule from an rdkit.Chem.rdchem.Mol object:\n",
    "        \"molecule\": wandb.Molecule.from_rdkit(acetic_acid),\n",
    "        \"molecule_2D\": wandb.Image(mol_to_pil_image(acetic_acid))\n",
    "    },\n",
    "]"
   ]
  },
  {
   "cell_type": "markdown",
   "metadata": {},
   "source": [
    "## Log Molecular Data to W&B"
   ]
  },
  {
   "cell_type": "code",
   "execution_count": null,
   "metadata": {},
   "outputs": [],
   "source": [
    "run = wandb.init(project=\"rdkit_molecules\")\n",
    "\n",
    "dataframe = pd.DataFrame.from_records(data)\n",
    "table = wandb.Table(dataframe=dataframe)\n",
    "wandb.log(\n",
    "    {\n",
    "        \"table\": table,\n",
    "        \"molecules\": [substance.get(\"molecule\") for substance in data],\n",
    "    }\n",
    ")\n",
    "\n",
    "run.finish()"
   ]
  },
  {
   "cell_type": "markdown",
   "metadata": {},
   "source": [
    "This will produce the following visualization:\n",
    "![Kapture 2021-12-01 at 22 06 37](https://user-images.githubusercontent.com/7557205/144367246-cc052e58-ede4-4374-9307-4f185328c361.gif)"
   ]
  },
  {
   "cell_type": "markdown",
   "metadata": {},
   "source": [
    "# More about Weights & Biases\n",
    "We're always free for academics and open source projects. Email carey@wandb.com with any questions or feature suggestions. Here are some more resources:\n",
    "\n",
    "1. [Documentation](http://docs.wandb.com) - Python docs\n",
    "2. [Gallery](https://app.wandb.ai/gallery) - example reports in W&B\n",
    "3. [Articles](https://www.wandb.com/articles) - blog posts and tutorials\n",
    "4. [Community](wandb.me/slack) - join our Slack community forum\n",
    "\n",
    "[Sign up or login](https://wandb.ai/login) to W&B to see and interact with your experiments in the browser."
   ]
  }
 ],
 "metadata": {
  "kernelspec": {
   "display_name": "Python 3",
   "name": "python3"
  }
 },
 "nbformat": 4,
 "nbformat_minor": 0
}
