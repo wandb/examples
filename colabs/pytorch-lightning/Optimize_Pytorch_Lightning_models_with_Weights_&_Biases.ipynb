{
 "cells": [
  {
   "cell_type": "markdown",
   "metadata": {},
   "source": [
    "<a href=\"https://colab.research.google.com/github/wandb/examples/blob/master/colabs/pytorch-lightning/Optimize_Pytorch_Lightning_models_with_Weights_%26_Biases.ipynb\" target=\"_parent\"><img src=\"https://colab.research.google.com/assets/colab-badge.svg\" alt=\"Open In Colab\"/></a>\n",
    "<!--- @wandbcode{pytorch-lightning-colab} -->"
   ]
  },
  {
   "cell_type": "markdown",
   "metadata": {
    "id": "icwKgIgZZc6h"
   },
   "source": [
    "<img src=\"https://wandb.me/logo-im-png\" width=\"400\" alt=\"Weights & Biases\" />\n",
    "\n",
    "<!--- @wandbcode{pytorch-lightning-colab} -->\n",
    "\n",
    "# ⚡ Pytorch Lightning models with Weights & Biases"
   ]
  },
  {
   "cell_type": "markdown",
   "metadata": {
    "id": "ccM6QVi7Zicr"
   },
   "source": [
    "Pytorch Lightning is a lightweight wrapper for organizing your PyTorch code and easily adding advanced features such as distributed training, 16-bit precision or gradient accumulation.\n",
    "\n",
    "Coupled with the [Weights & Biases integration](https://docs.wandb.com/library/integrations/lightning), you can quickly train and monitor models for full traceability and reproducibility with only 2 extra lines of code:\n",
    "\n",
    "```python\n",
    "from pytorch_lightning.loggers import WandbLogger\n",
    "from pytorch_lightning import Trainer\n",
    "\n",
    "wandb_logger = WandbLogger()\n",
    "trainer = Trainer(logger=wandb_logger)\n",
    "```"
   ]
  },
  {
   "cell_type": "markdown",
   "metadata": {
    "id": "921NZK1xZ-Cs"
   },
   "source": [
    "W&B integration with Pytorch-Lightning can automatically:\n",
    "* log your configuration parameters\n",
    "* log your losses and metrics\n",
    "* log your model\n",
    "* keep track of your code\n",
    "* log your system metrics (GPU, CPU, memory, temperature, etc)\n",
    "\n",
    "### 📚 Docs\n",
    "You can find the PyTorch Lightning WandbLogger docs [here](https://pytorch-lightning.readthedocs.io/en/latest/extensions/generated/pytorch_lightning.loggers.WandbLogger.html?highlight=wandblogger) and the Weights & Biases docs [here](https://docs.wandb.com/library/integrations/lightning)"
   ]
  },
  {
   "cell_type": "markdown",
   "metadata": {
    "id": "VOB8WO3MaBxN"
   },
   "source": [
    "### 🛠️ Installation and set-up"
   ]
  },
  {
   "cell_type": "code",
   "execution_count": null,
   "metadata": {
    "id": "0rXeivGaY59-"
   },
   "outputs": [],
   "source": [
    "!pip install -q pytorch-lightning wandb"
   ]
  },
  {
   "cell_type": "markdown",
   "metadata": {
    "id": "w4cUwGwSaZVu"
   },
   "source": [
    "We make sure we're logged into W&B so that our experiments can be associated with our account."
   ]
  },
  {
   "cell_type": "code",
   "execution_count": null,
   "metadata": {
    "id": "bL400lDYaFVd"
   },
   "outputs": [],
   "source": [
    "import wandb\n",
    "wandb.login()"
   ]
  },
  {
   "cell_type": "markdown",
   "metadata": {
    "id": "7g0QvZOXc0vA"
   },
   "source": [
    "## 📊 Setting up the dataloader"
   ]
  },
  {
   "cell_type": "markdown",
   "metadata": {
    "id": "dq_vag3uelGq"
   },
   "source": [
    "For the context of this tutorial we use vanilla pytorch dataloaders on the MNIST dataset"
   ]
  },
  {
   "cell_type": "code",
   "execution_count": null,
   "metadata": {
    "id": "s1Nh84RvacB4"
   },
   "outputs": [],
   "source": [
    "from torchvision.datasets import MNIST\n",
    "from torchvision import transforms\n",
    "from torch.utils.data import DataLoader, random_split\n",
    "\n",
    "transform = transforms.Compose([\n",
    "            transforms.ToTensor(),\n",
    "            transforms.Normalize((0.1307,), (0.3081,))])\n",
    "\n",
    "dataset = MNIST(root=\"./MNIST\", download=True, transform=transform)\n",
    "training_set, validation_set = random_split(dataset, [55000, 5000])"
   ]
  },
  {
   "cell_type": "code",
   "execution_count": 3,
   "metadata": {
    "id": "HbdPs8oEc6MG"
   },
   "outputs": [],
   "source": [
    "training_loader = DataLoader(training_set, batch_size=64, shuffle=True)\n",
    "validation_loader = DataLoader(validation_set, batch_size=64)"
   ]
  },
  {
   "cell_type": "markdown",
   "metadata": {
    "id": "A8HJHLeNfDuu"
   },
   "source": [
    "## 🤓 Defining the Model"
   ]
  },
  {
   "cell_type": "markdown",
   "metadata": {
    "id": "zn8J5vlmfoaH"
   },
   "source": [
    "**Tips**:\n",
    "* Call `self.save_hyperparameters()` in `__init__` to automatically log your hyperparameters to **W&B**\n",
    "* Call self.log in `training_step` and `validation_step` to log the metrics"
   ]
  },
  {
   "cell_type": "code",
   "execution_count": null,
   "metadata": {
    "id": "pUI4W20zdRct"
   },
   "outputs": [],
   "source": [
    "import torch\n",
    "from torch.nn import Linear, CrossEntropyLoss, functional as F\n",
    "from torch.optim import Adam\n",
    "from torchmetrics.functional import accuracy\n",
    "from pytorch_lightning import LightningModule\n",
    "\n",
    "class MNIST_LitModule(LightningModule):\n",
    "\n",
    "    def __init__(self, n_classes=10, n_layer_1=128, n_layer_2=256, lr=1e-3):\n",
    "        '''method used to define our model parameters'''\n",
    "        super().__init__()\n",
    "\n",
    "        # mnist images are (1, 28, 28) (channels, width, height)\n",
    "        self.layer_1 = Linear(28 * 28, n_layer_1)\n",
    "        self.layer_2 = Linear(n_layer_1, n_layer_2)\n",
    "        self.layer_3 = Linear(n_layer_2, n_classes)\n",
    "\n",
    "        # loss\n",
    "        self.loss = CrossEntropyLoss()\n",
    "\n",
    "        # optimizer parameters\n",
    "        self.lr = lr\n",
    "\n",
    "        # save hyper-parameters to self.hparams (auto-logged by W&B)\n",
    "        self.save_hyperparameters()\n",
    "\n",
    "    def forward(self, x):\n",
    "        '''method used for inference input -> output'''\n",
    "\n",
    "        batch_size, channels, width, height = x.size()\n",
    "\n",
    "        # (b, 1, 28, 28) -> (b, 1*28*28)\n",
    "        x = x.view(batch_size, -1)\n",
    "\n",
    "        # let's do 3 x (linear + relu)\n",
    "        x = self.layer_1(x)\n",
    "        x = F.relu(x)\n",
    "        x = self.layer_2(x)\n",
    "        x = F.relu(x)\n",
    "        x = self.layer_3(x)\n",
    "\n",
    "        return x\n",
    "\n",
    "    def training_step(self, batch, batch_idx):\n",
    "        '''needs to return a loss from a single batch'''\n",
    "        _, loss, acc = self._get_preds_loss_accuracy(batch)\n",
    "\n",
    "        # Log loss and metric\n",
    "        self.log('train_loss', loss)\n",
    "        self.log('train_accuracy', acc)\n",
    "\n",
    "        return loss\n",
    "\n",
    "    def validation_step(self, batch, batch_idx):\n",
    "        '''used for logging metrics'''\n",
    "        preds, loss, acc = self._get_preds_loss_accuracy(batch)\n",
    "\n",
    "        # Log loss and metric\n",
    "        self.log('val_loss', loss)\n",
    "        self.log('val_accuracy', acc)\n",
    "\n",
    "        # Let's return preds to use it in a custom callback\n",
    "        return preds\n",
    "\n",
    "    def test_step(self, batch, batch_idx):\n",
    "        '''used for logging metrics'''\n",
    "        _, loss, acc = self._get_preds_loss_accuracy(batch)\n",
    "\n",
    "        # Log loss and metric\n",
    "        self.log('test_loss', loss)\n",
    "        self.log('test_accuracy', acc)\n",
    "    \n",
    "    def configure_optimizers(self):\n",
    "        '''defines model optimizer'''\n",
    "        return Adam(self.parameters(), lr=self.lr)\n",
    "    \n",
    "    def _get_preds_loss_accuracy(self, batch):\n",
    "        '''convenience function since train/valid/test steps are similar'''\n",
    "        x, y = batch\n",
    "        logits = self(x)\n",
    "        preds = torch.argmax(logits, dim=1)\n",
    "        loss = self.loss(logits, y)\n",
    "        acc = accuracy(preds, y)\n",
    "        return preds, loss, acc"
   ]
  },
  {
   "cell_type": "markdown",
   "metadata": {
    "id": "P2G8h3Eif7NL"
   },
   "source": [
    "The model is now ready!"
   ]
  },
  {
   "cell_type": "code",
   "execution_count": null,
   "metadata": {
    "id": "y_eSnHhqe3Dl"
   },
   "outputs": [],
   "source": [
    "model = MNIST_LitModule(n_layer_1=128, n_layer_2=128)"
   ]
  },
  {
   "cell_type": "markdown",
   "metadata": {
    "id": "ApXOI6Ss80EN"
   },
   "source": [
    "## 💾 Save Model Checkpoints\n",
    "\n",
    "The `ModelCheckpoint` callback is required along with the `WandbLogger` argument to log model checkpoints to W&B."
   ]
  },
  {
   "cell_type": "code",
   "execution_count": null,
   "metadata": {
    "id": "tP2QQoD38zqg"
   },
   "outputs": [],
   "source": [
    "from pytorch_lightning.callbacks import ModelCheckpoint\n",
    "\n",
    "checkpoint_callback = ModelCheckpoint(monitor='val_accuracy', mode='max')"
   ]
  },
  {
   "cell_type": "markdown",
   "metadata": {
    "id": "CBkS1y6lhaP_"
   },
   "source": [
    "## 💡 Tracking Experiments with WandbLogger\n",
    "\n",
    "PyTorch Lightning has a `WandbLogger` to easily log your experiments with Wights & Biases. Just pass it to your `Trainer` to log to W&B. See the [WandbLogger docs](https://pytorch-lightning.readthedocs.io/en/stable/extensions/generated/pytorch_lightning.loggers.WandbLogger.html#pytorch_lightning.loggers.WandbLogger) for all parameters. Note, to log the metrics to a specific W&B Team, pass your Team name to the `entity` argument in `WandbLogger`\n",
    "\n",
    "#### `pytorch_lightning.loggers.WandbLogger()`\n",
    "\n",
    "| Functionality | Argument/Function | PS |\n",
    "| ------ | ------ | ------ |\n",
    "| Logging models | `WandbLogger(... ,log_model='all')` or `WandbLogger(... ,log_model=True`) | Log all models if `log_model=\"all\"` and at end of training if `log_model=True`\n",
    "| Set custom run names | `WandbLogger(... ,name='my_run_name'`) | |\n",
    "| Organize runs by project | `WandbLogger(... ,project='my_project')` | |\n",
    "| Log histograms of gradients and parameters | `WandbLogger.watch(model)`  | `WandbLogger.watch(model, log='all')` to log parameter histograms  |\n",
    "| Log hyperparameters | Call `self.save_hyperparameters()` within `LightningModule.__init__()` |\n",
    "| Log custom objects (images, audio, video, molecules…) | Use `WandbLogger.log_text`, `WandbLogger.log_image` and `WandbLogger.log_table` |\n",
    "\n",
    "See the [WandbLogger docs](https://pytorch-lightning.readthedocs.io/en/stable/extensions/generated/pytorch_lightning.loggers.WandbLogger.html#pytorch_lightning.loggers.WandbLogger) here for all parameters. "
   ]
  },
  {
   "cell_type": "code",
   "execution_count": null,
   "metadata": {
    "id": "9rEnTMXAhULI"
   },
   "outputs": [],
   "source": [
    "from pytorch_lightning.loggers import WandbLogger\n",
    "from pytorch_lightning import Trainer\n",
    "\n",
    "wandb_logger = WandbLogger(project='MNIST', # group runs in \"MNIST\" project\n",
    "                           log_model='all') # log all new checkpoints during training"
   ]
  },
  {
   "cell_type": "markdown",
   "metadata": {
    "id": "6sr3MfrBgyEG"
   },
   "source": [
    "## ⚙️ Using WandbLogger to log Images, Text and More\n",
    "Pytorch Lightning is extensible through its callback system. We can create a custom callback to automatically log sample predictions during validation. `WandbLogger` provides convenient media logging functions:\n",
    "* `WandbLogger.log_text` for text data\n",
    "* `WandbLogger.log_image` for images\n",
    "* `WandbLogger.log_table` for [W&B Tables](https://docs.wandb.ai/guides/data-vis).\n",
    "\n",
    "An alternate to `self.log` in the Model class is directly using `wandb.log({dict})` or `trainer.logger.experiment.log({dict})`\n",
    "\n",
    "In this case we log the first 20 images in the first batch of the validation dataset along with the predicted and ground truth labels."
   ]
  },
  {
   "cell_type": "code",
   "execution_count": null,
   "metadata": {
    "id": "3e1NGZuegw9a"
   },
   "outputs": [],
   "source": [
    "from pytorch_lightning.callbacks import Callback\n",
    " \n",
    "class LogPredictionsCallback(Callback):\n",
    "    \n",
    "    def on_validation_batch_end(\n",
    "        self, trainer, pl_module, outputs, batch, batch_idx, dataloader_idx):\n",
    "        \"\"\"Called when the validation batch ends.\"\"\"\n",
    " \n",
    "        # `outputs` comes from `LightningModule.validation_step`\n",
    "        # which corresponds to our model predictions in this case\n",
    "        \n",
    "        # Let's log 20 sample image predictions from first batch\n",
    "        if batch_idx == 0:\n",
    "            n = 20\n",
    "            x, y = batch\n",
    "            images = [img for img in x[:n]]\n",
    "            captions = [f'Ground Truth: {y_i} - Prediction: {y_pred}' for y_i, y_pred in zip(y[:n], outputs[:n])]\n",
    "            \n",
    "            # Option 1: log images with `WandbLogger.log_image`\n",
    "            wandb_logger.log_image(key='sample_images', images=images, caption=captions)\n",
    "\n",
    "            # Option 2: log predictions as a Table\n",
    "            columns = ['image', 'ground truth', 'prediction']\n",
    "            data = [[wandb.Image(x_i), y_i, y_pred] for x_i, y_i, y_pred in list(zip(x[:n], y[:n], outputs[:n]))]\n",
    "            wandb_logger.log_table(key='sample_table', columns=columns, data=data)\n",
    "\n",
    "log_predictions_callback = LogPredictionsCallback()"
   ]
  },
  {
   "cell_type": "markdown",
   "metadata": {},
   "source": [
    "## 🏋️‍ Train Your Model"
   ]
  },
  {
   "cell_type": "code",
   "execution_count": null,
   "metadata": {
    "id": "b1EoAbanhutV"
   },
   "outputs": [],
   "source": [
    "trainer = Trainer(\n",
    "    logger=wandb_logger,                    # W&B integration\n",
    "    callbacks=[log_predictions_callback,    # logging of sample predictions\n",
    "               checkpoint_callback],        # our model checkpoint callback\n",
    "    max_epochs=5)                           # number of epochs"
   ]
  },
  {
   "cell_type": "code",
   "execution_count": null,
   "metadata": {
    "id": "hkkKv690h5gf"
   },
   "outputs": [],
   "source": [
    "trainer.fit(model, training_loader, validation_loader)"
   ]
  },
  {
   "cell_type": "markdown",
   "metadata": {
    "id": "S8VGvCn0pCJp"
   },
   "source": [
    "When we want to close our W&B run, we call `wandb.finish()` (mainly useful in notebooks, called automatically in scripts)."
   ]
  },
  {
   "cell_type": "code",
   "execution_count": null,
   "metadata": {
    "id": "9AZWs6rYlCHs"
   },
   "outputs": [],
   "source": [
    "wandb.finish()"
   ]
  },
  {
   "cell_type": "markdown",
   "metadata": {
    "id": "v6PTagkmklIH"
   },
   "source": [
    "We can monitor losses, metrics, gradients, parameters and sample predictions as the model trains.\n",
    "\n",
    "![image.png](data:image/png;base64,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)"
   ]
  },
  {
   "cell_type": "markdown",
   "metadata": {
    "id": "IiMwW3Itmu6C"
   },
   "source": [
    "## 📚 Resources\n",
    "\n",
    "* [Pytorch Lightning and W&B integration documentation](https://docs.wandb.ai/integrations/lightning) contains a few tips for taking most advantage of W&B\n",
    "* [Pytorch Lightning documentation](https://pytorch-lightning.readthedocs.io/en/stable/common/loggers.html#weights-and-biases) is extremely thorough and full of examples"
   ]
  },
  {
   "cell_type": "markdown",
   "metadata": {
    "id": "b_cJ2XjVmxPD"
   },
   "source": [
    "## ❓ Questions about W&B\n",
    "\n",
    "If you have any questions about using W&B to track your model performance and predictions, please contact support@wandb.com"
   ]
  }
 ],
 "metadata": {
  "accelerator": "GPU",
  "colab": {
   "name": "PyTorch Lightning.ipynb",
   "provenance": [],
   "toc_visible": true
  },
  "kernelspec": {
   "display_name": "Python 3 (ipykernel)",
   "language": "python",
   "name": "python3"
  },
  "language_info": {
   "codemirror_mode": {
    "name": "ipython",
    "version": 3
   },
   "file_extension": ".py",
   "mimetype": "text/x-python",
   "name": "python",
   "nbconvert_exporter": "python",
   "pygments_lexer": "ipython3",
   "version": "3.8.8"
  }
 },
 "nbformat": 4,
 "nbformat_minor": 4
}
