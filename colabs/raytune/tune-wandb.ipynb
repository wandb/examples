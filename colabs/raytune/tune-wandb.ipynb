{
 "cells": [
  {
   "cell_type": "markdown",
   "id": "91d48998",
   "metadata": {},
   "source": [
    "<a href=\"https://colab.research.google.com/github/wandb/examples/blob/master/colabs/raytune/tune-wandb.ipynb\" target=\"_parent\"><img src=\"https://colab.research.google.com/assets/colab-badge.svg\" alt=\"Open In Colab\"/></a>\n"
   ]
  },
  {
   "cell_type": "markdown",
   "id": "b9c22142",
   "metadata": {},
   "source": [
    "# Using Weights & Biases with Tune\n",
    "\n",
    "[Weights & Biases](https://www.wandb.ai/) (Wandb) is a tool for experiment\n",
    "tracking, model optimizaton, and dataset versioning. It is very popular\n",
    "in the machine learning and data science community for its superb visualization\n",
    "tools.\n",
    "\n",
    "\n",
    "Ray Tune currently offers two lightweight integrations for Weights & Biases.\n",
    "One is the {ref}`WandbLoggerCallback <tune-wandb-logger>`, which automatically logs\n",
    "metrics reported to Tune to the Wandb API.\n",
    "\n",
    "The other one is the {ref}`@wandb_mixin <tune-wandb-mixin>` decorator, which can be\n",
    "used with the function API. It automatically\n",
    "initializes the Wandb API with Tune's training information. You can just use the\n",
    "Wandb API like you would normally do, e.g. using `wandb.log()` to log your training\n",
    "process.\n",
    "\n",
    "## Running A Weights & Biases Example\n",
    "\n",
    "In the following example we're going to use both of the above methods, namely the `WandbLoggerCallback` and\n",
    "the `wandb_mixin` decorator to log metrics.\n",
    "Let's start with a few crucial imports:"
   ]
  },
  {
   "cell_type": "code",
   "execution_count": null,
   "id": "2969a4cb",
   "metadata": {},
   "outputs": [],
   "source": [
    "!pip install -Uq ray[tune] wandb"
   ]
  },
  {
   "cell_type": "code",
   "execution_count": null,
   "id": "55026926",
   "metadata": {},
   "outputs": [],
   "source": [
    "import numpy as np\n",
    "import wandb\n",
    "\n",
    "from ray import air, tune\n",
    "from ray.air import session\n",
    "from ray.tune import Trainable\n",
    "from ray.air.callbacks.wandb import WandbLoggerCallback\n",
    "from ray.tune.integration.wandb import (\n",
    "    WandbTrainableMixin,\n",
    "    wandb_mixin,\n",
    ")"
   ]
  },
  {
   "cell_type": "code",
   "execution_count": null,
   "id": "e40e6ca6",
   "metadata": {},
   "outputs": [],
   "source": [
    "wandb.login()"
   ]
  },
  {
   "cell_type": "markdown",
   "id": "1d6c8d04",
   "metadata": {},
   "source": [
    "Next, let's define an easy `objective` function (a Tune `Trainable`) that reports a random loss to Tune.\n",
    "The objective function itself is not important for this example, since we want to focus on the Weights & Biases\n",
    "integration primarily."
   ]
  },
  {
   "cell_type": "code",
   "execution_count": null,
   "id": "e6e75c5c",
   "metadata": {},
   "outputs": [],
   "source": [
    "def objective(config, checkpoint_dir=None):\n",
    "    for i in range(30):\n",
    "        loss = config[\"mean\"] + config[\"sd\"] * np.random.randn()\n",
    "        session.report({\"loss\": loss})"
   ]
  },
  {
   "cell_type": "markdown",
   "id": "ff78ca64",
   "metadata": {},
   "source": [
    "Given that you provide an `api_key_file` pointing to your Weights & Biases API key, you cna define a\n",
    "simple grid-search Tune run using the `WandbLoggerCallback` as follows:"
   ]
  },
  {
   "cell_type": "code",
   "execution_count": null,
   "id": "494e1c84",
   "metadata": {},
   "outputs": [],
   "source": [
    "def tune_function(api_key_file):\n",
    "    \"\"\"Example for using a WandbLoggerCallback with the function API\"\"\"\n",
    "    tuner = tune.Tuner(\n",
    "        objective,\n",
    "        tune_config=tune.TuneConfig(\n",
    "            metric=\"loss\",\n",
    "            mode=\"min\",\n",
    "        ),\n",
    "        run_config=air.RunConfig(\n",
    "            callbacks=[\n",
    "                WandbLoggerCallback(api_key_file=api_key_file, project=\"Wandb_example\")\n",
    "            ],\n",
    "        ),\n",
    "        param_space={\n",
    "            \"mean\": tune.grid_search([1, 2, 3, 4, 5]),\n",
    "            \"sd\": tune.uniform(0.2, 0.8),\n",
    "        },\n",
    "    )\n",
    "    results = tuner.fit()\n",
    "\n",
    "    return results.get_best_result().config"
   ]
  },
  {
   "cell_type": "markdown",
   "id": "de9b195d",
   "metadata": {},
   "source": [
    "To use the `wandb_mixin` decorator, you can simply decorate the objective function from earlier.\n",
    "Note that we also use `wandb.log(...)` to log the `loss` to Weights & Biases as a dictionary.\n",
    "Otherwise, the decorated version of our objective is identical to its original."
   ]
  },
  {
   "cell_type": "code",
   "execution_count": null,
   "id": "e0275757",
   "metadata": {},
   "outputs": [],
   "source": [
    "@wandb_mixin\n",
    "def decorated_objective(config, checkpoint_dir=None):\n",
    "    for i in range(30):\n",
    "        loss = config[\"mean\"] + config[\"sd\"] * np.random.randn()\n",
    "        session.report({\"loss\": loss})\n",
    "        wandb.log(dict(loss=loss))"
   ]
  },
  {
   "cell_type": "markdown",
   "id": "59c23cff",
   "metadata": {},
   "source": [
    "With the `decorated_objective` defined, running a Tune experiment is as simple as providing this objective and\n",
    "passing the `api_key_file` to the `wandb` key of your Tune `config`:"
   ]
  },
  {
   "cell_type": "code",
   "execution_count": null,
   "id": "e4d408df",
   "metadata": {},
   "outputs": [],
   "source": [
    "def tune_decorated(api_key_file):\n",
    "    \"\"\"Example for using the @wandb_mixin decorator with the function API\"\"\"\n",
    "    tuner = tune.Tuner(\n",
    "        objective,\n",
    "        tune_config=tune.TuneConfig(\n",
    "            metric=\"loss\",\n",
    "            mode=\"min\",\n",
    "        ),\n",
    "        param_space={\n",
    "            \"mean\": tune.grid_search([1, 2, 3, 4, 5]),\n",
    "            \"sd\": tune.uniform(0.2, 0.8),\n",
    "            \"wandb\": {\"api_key_file\": api_key_file, \"project\": \"Wandb_example\"},\n",
    "        },\n",
    "    )\n",
    "    results = tuner.fit()\n",
    "\n",
    "    return results.get_best_result().config"
   ]
  },
  {
   "cell_type": "markdown",
   "id": "6565559f",
   "metadata": {},
   "source": [
    "Finally, you can also define a class-based Tune `Trainable` by using the `WandbTrainableMixin` to define your objective:"
   ]
  },
  {
   "cell_type": "code",
   "execution_count": null,
   "id": "1b140b28",
   "metadata": {},
   "outputs": [],
   "source": [
    "class WandbTrainable(WandbTrainableMixin, Trainable):\n",
    "    def step(self):\n",
    "        for i in range(30):\n",
    "            loss = self.config[\"mean\"] + self.config[\"sd\"] * np.random.randn()\n",
    "            wandb.log({\"loss\": loss})\n",
    "        return {\"loss\": loss, \"done\": True}"
   ]
  },
  {
   "cell_type": "markdown",
   "id": "cc42d1a4",
   "metadata": {},
   "source": [
    "Running Tune with this `WandbTrainable` works exactly the same as with the function API.\n",
    "The below `tune_trainable` function differs from `tune_decorated` above only in the first argument we pass to\n",
    "`Tuner()`:"
   ]
  },
  {
   "cell_type": "code",
   "execution_count": null,
   "id": "e2782ef4",
   "metadata": {},
   "outputs": [],
   "source": [
    "def tune_trainable(api_key_file):\n",
    "    \"\"\"Example for using a WandTrainableMixin with the class API\"\"\"\n",
    "    tuner = tune.Tuner(\n",
    "        WandbTrainable,\n",
    "        tune_config=tune.TuneConfig(\n",
    "            metric=\"loss\",\n",
    "            mode=\"min\",\n",
    "        ),\n",
    "        param_space={\n",
    "            \"mean\": tune.grid_search([1, 2, 3, 4, 5]),\n",
    "            \"sd\": tune.uniform(0.2, 0.8),\n",
    "            \"wandb\": {\"api_key_file\": api_key_file, \"project\": \"Wandb_example\"},\n",
    "        },\n",
    "    )\n",
    "    results = tuner.fit()\n",
    "\n",
    "    return results.get_best_result().config"
   ]
  },
  {
   "cell_type": "markdown",
   "id": "58d4914b",
   "metadata": {},
   "source": [
    "Since you may not have an API key for Wandb, we can _mock_ the Wandb logger and test all three of our training\n",
    "functions as follows.\n",
    "If you do have an API key file, make sure to set `mock_api` to `False` and pass in the right `api_key_file` below."
   ]
  },
  {
   "cell_type": "code",
   "execution_count": null,
   "id": "fecd85ed",
   "metadata": {},
   "outputs": [],
   "source": [
    "import tempfile\n",
    "from unittest.mock import MagicMock\n",
    "\n",
    "mock_api = True\n",
    "\n",
    "api_key_file = \"~/.wandb_api_key\"\n",
    "\n",
    "if mock_api:\n",
    "    WandbLoggerCallback._logger_process_cls = MagicMock\n",
    "    decorated_objective.__mixins__ = tuple()\n",
    "    WandbTrainable._wandb = MagicMock()\n",
    "    wandb = MagicMock()  # noqa: F811\n",
    "    temp_file = tempfile.NamedTemporaryFile()\n",
    "    temp_file.write(b\"1234\")\n",
    "    temp_file.flush()\n",
    "    api_key_file = temp_file.name\n",
    "\n",
    "tune_function(api_key_file)\n",
    "tune_decorated(api_key_file)\n",
    "tune_trainable(api_key_file)\n",
    "\n",
    "if mock_api:\n",
    "    temp_file.close()"
   ]
  },
  {
   "cell_type": "markdown",
   "id": "fbd9728a",
   "metadata": {},
   "source": [
    "This completes our Tune and Wandb walk-through.\n",
    "In the following sections you can find more details on the API of the Tune-Wandb integration.\n",
    "\n",
    "## Tune Wandb API Reference\n",
    "\n",
    "### WandbLoggerCallback\n",
    "\n",
    "(tune-wandb-logger)=\n",
    "\n",
    "```{eval-rst}\n",
    ".. autoclass:: ray.air.callbacks.wandb.WandbLoggerCallback\n",
    "   :noindex:\n",
    "```\n",
    "\n",
    "### Wandb-Mixin\n",
    "\n",
    "(tune-wandb-mixin)=\n",
    "\n",
    "```{eval-rst}\n",
    ".. autofunction:: ray.tune.integration.wandb.wandb_mixin\n",
    "   :noindex:\n",
    "```"
   ]
  }
 ],
 "metadata": {
  "accelerator": "GPU",
  "colab": {
   "include_colab_link": true,
   "provenance": [],
   "toc_visible": true
  },
  "kernelspec": {
   "display_name": "Python 3",
   "name": "python3"
  }
 },
 "nbformat": 4,
 "nbformat_minor": 5
}
