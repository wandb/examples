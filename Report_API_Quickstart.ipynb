{
  "cells": [
    {
      "cell_type": "markdown",
      "metadata": {
        "id": "view-in-github",
        "colab_type": "text"
      },
      "source": [
        "<a href=\"https://colab.research.google.com/github/wandb/examples/blob/report_api_v2_updates/Report_API_Quickstart.ipynb\" target=\"_parent\"><img src=\"https://colab.research.google.com/assets/colab-badge.svg\" alt=\"Open In Colab\"/></a>"
      ]
    },
    {
      "cell_type": "markdown",
      "metadata": {
        "id": "cPVgUCLA7NDN"
      },
      "source": [
        "<img src=\"http://wandb.me/logo-im-png\" width=\"400\" alt=\"Weights & Biases\" />\n",
        "<!--- @wandbcode{python-report-api} -->"
      ]
    },
    {
      "cell_type": "markdown",
      "metadata": {
        "id": "moxpZmPF7NDN"
      },
      "source": [
        "## What is the Report API?\n",
        "- Programmatically create and modify reports in Python, including support for editing blocks, panels, and runsets.\n",
        "- Create report templates to reuse and share with others\n",
        "\n"
      ]
    },
    {
      "cell_type": "code",
      "execution_count": null,
      "metadata": {
        "id": "S1e3tnre7NDO"
      },
      "outputs": [],
      "source": [
        "!pip install wandb wandb-workspaces -qqq"
      ]
    },
    {
      "cell_type": "markdown",
      "metadata": {
        "id": "-_yQjU607NDO"
      },
      "source": [
        "## Setup"
      ]
    },
    {
      "cell_type": "code",
      "execution_count": null,
      "metadata": {
        "id": "9UGFOwXG7NDO"
      },
      "outputs": [],
      "source": [
        "#@title ## Log Runs { run: \"auto\", display-mode: \"form\" }\n",
        "#@markdown If this is your first time here, consider running the setup code for a better docs experience!\n",
        "#@markdown If you have run the setup code before, you can uncheck the box below to avoid unnecessary logging.\n",
        "\n",
        "LOG_DUMMY_RUNS = True #@param {type: \"boolean\"}\n",
        "\n",
        "\n",
        "import requests\n",
        "from PIL import Image\n",
        "from io import BytesIO\n",
        "import wandb\n",
        "import pandas as pd\n",
        "from itertools import product\n",
        "import random\n",
        "import math\n",
        "\n",
        "import wandb\n",
        "import random\n",
        "import string\n",
        "\n",
        "ENTITY = wandb.apis.PublicApi().default_entity\n",
        "PROJECT = \"report-api-quickstart\" #@param {type: \"string\"}\n",
        "LINEAGE_PROJECT = \"lineage-example\" #@param {type: \"string\"}\n",
        "\n",
        "\n",
        "def get_image(url):\n",
        "    r = requests.get(url)\n",
        "    return Image.open(BytesIO(r.content))\n",
        "\n",
        "\n",
        "def log_dummy_data():\n",
        "    run_names = [\n",
        "        \"adventurous-aardvark-1\",\n",
        "        \"bountiful-badger-2\",\n",
        "        \"clairvoyant-chipmunk-3\",\n",
        "        \"dastardly-duck-4\",\n",
        "        \"eloquent-elephant-5\",\n",
        "        \"flippant-flamingo-6\",\n",
        "        \"giddy-giraffe-7\",\n",
        "        \"haughty-hippo-8\",\n",
        "        \"ignorant-iguana-9\",\n",
        "        \"jolly-jackal-10\",\n",
        "        \"kind-koala-11\",\n",
        "        \"laughing-lemur-12\",\n",
        "        \"manic-mandrill-13\",\n",
        "        \"neighbourly-narwhal-14\",\n",
        "        \"oblivious-octopus-15\",\n",
        "        \"philistine-platypus-16\",\n",
        "        \"quant-quail-17\",\n",
        "        \"rowdy-rhino-18\",\n",
        "        \"solid-snake-19\",\n",
        "        \"timid-tarantula-20\",\n",
        "        \"understanding-unicorn-21\",\n",
        "        \"voracious-vulture-22\",\n",
        "        \"wu-tang-23\",\n",
        "        \"xenic-xerneas-24\",\n",
        "        \"yielding-yveltal-25\",\n",
        "        \"zooming-zygarde-26\",\n",
        "    ]\n",
        "\n",
        "    opts = [\"adam\", \"sgd\"]\n",
        "    encoders = [\"resnet18\", \"resnet50\"]\n",
        "    learning_rates = [0.01]\n",
        "    for (i, run_name), (opt, encoder, lr) in zip(\n",
        "        enumerate(run_names), product(opts, encoders, learning_rates)\n",
        "    ):\n",
        "        config = {\n",
        "            \"optimizer\": opt,\n",
        "            \"encoder\": encoder,\n",
        "            \"learning_rate\": lr,\n",
        "            \"momentum\": 0.1 * random.random(),\n",
        "        }\n",
        "        displacement1 = random.random() * 2\n",
        "        displacement2 = random.random() * 4\n",
        "        with wandb.init(\n",
        "            entity=ENTITY, project=PROJECT, config=config, name=run_name\n",
        "        ) as run:\n",
        "            for step in range(1000):\n",
        "                wandb.log(\n",
        "                    {\n",
        "                        \"acc\": 0.1\n",
        "                        + 0.4\n",
        "                        * (\n",
        "                            math.log(1 + step + random.random())\n",
        "                            + random.random() * run.config.learning_rate\n",
        "                            + random.random()\n",
        "                            + displacement1\n",
        "                            + random.random() * run.config.momentum\n",
        "                        ),\n",
        "                        \"val_acc\": 0.1\n",
        "                        + 0.4\n",
        "                        * (\n",
        "                            math.log(1 + step + random.random())\n",
        "                            + random.random() * run.config.learning_rate\n",
        "                            - random.random()\n",
        "                            + displacement1\n",
        "                        ),\n",
        "                        \"loss\": 0.1\n",
        "                        + 0.08\n",
        "                        * (\n",
        "                            3.5\n",
        "                            - math.log(1 + step + random.random())\n",
        "                            + random.random() * run.config.momentum\n",
        "                            + random.random()\n",
        "                            + displacement2\n",
        "                        ),\n",
        "                        \"val_loss\": 0.1\n",
        "                        + 0.04\n",
        "                        * (\n",
        "                            4.5\n",
        "                            - math.log(1 + step + random.random())\n",
        "                            + random.random() * run.config.learning_rate\n",
        "                            - random.random()\n",
        "                            + displacement2\n",
        "                        ),\n",
        "                    }\n",
        "                )\n",
        "\n",
        "    with wandb.init(\n",
        "        entity=ENTITY, project=PROJECT, config=config, name=run_names[i + 1]\n",
        "    ) as run:\n",
        "        img = get_image(\n",
        "            \"https://www.akc.org/wp-content/uploads/2017/11/Shiba-Inu-standing-in-profile-outdoors.jpg\"\n",
        "        )\n",
        "        image = wandb.Image(img)\n",
        "        df = pd.DataFrame(\n",
        "            {\n",
        "                \"int\": [1, 2, 3, 4],\n",
        "                \"float\": [1.2, 2.3, 3.4, 4.5],\n",
        "                \"str\": [\"a\", \"b\", \"c\", \"d\"],\n",
        "                \"img\": [image] * 4,\n",
        "            }\n",
        "        )\n",
        "        run.log({\"img\": image, \"my-table\": df})\n",
        "\n",
        "\n",
        "class Step:\n",
        "    def __init__(self, j, r, u, o, at=None):\n",
        "        self.job_type = j\n",
        "        self.runs = r\n",
        "        self.uses_per_run = u\n",
        "        self.outputs_per_run = o\n",
        "        self.artifact_type = at if at is not None else \"model\"\n",
        "        self.artifacts = []\n",
        "\n",
        "\n",
        "def create_artifact(name: str, type: str, content: str):\n",
        "    art = wandb.Artifact(name, type)\n",
        "    with open(\"boom.txt\", \"w\") as f:\n",
        "        f.write(content)\n",
        "    art.add_file(\"boom.txt\", \"test-name\")\n",
        "\n",
        "    img = get_image(\n",
        "        \"https://www.akc.org/wp-content/uploads/2017/11/Shiba-Inu-standing-in-profile-outdoors.jpg\"\n",
        "    )\n",
        "    image = wandb.Image(img)\n",
        "    df = pd.DataFrame(\n",
        "        {\n",
        "            \"int\": [1, 2, 3, 4],\n",
        "            \"float\": [1.2, 2.3, 3.4, 4.5],\n",
        "            \"str\": [\"a\", \"b\", \"c\", \"d\"],\n",
        "            \"img\": [image] * 4,\n",
        "        }\n",
        "    )\n",
        "    art.add(wandb.Table(dataframe=df), \"dataframe\")\n",
        "    return art\n",
        "\n",
        "\n",
        "def log_dummy_lineage():\n",
        "    pipeline = [\n",
        "        Step(\"dataset-generator\", 1, 0, 3, \"dataset\"),\n",
        "        Step(\"trainer\", 4, (1, 2), 3),\n",
        "        Step(\"evaluator\", 2, 1, 3),\n",
        "        Step(\"ensemble\", 1, 1, 1),\n",
        "    ]\n",
        "    for (i, step) in enumerate(pipeline):\n",
        "        for _ in range(step.runs):\n",
        "            with wandb.init(project=LINEAGE_PROJECT, job_type=step.job_type) as run:\n",
        "                # use\n",
        "                uses = step.uses_per_run\n",
        "                if type(uses) == tuple:\n",
        "                    uses = random.choice(list(uses))\n",
        "\n",
        "                if i > 0:\n",
        "                    prev_step = pipeline[i - 1]\n",
        "                    input_artifacts = random.sample(prev_step.artifacts, uses)\n",
        "                    for a in input_artifacts:\n",
        "                        run.use_artifact(a)\n",
        "                # log output artifacts\n",
        "                for j in range(step.outputs_per_run):\n",
        "                    # name = ''.join(random.choices(string.ascii_lowercase + string.digits, k=6))\n",
        "                    name = f\"{step.artifact_type}-{j}\"\n",
        "                    content = \"\".join(\n",
        "                        random.choices(string.ascii_lowercase + string.digits, k=12)\n",
        "                    )\n",
        "                    art = create_artifact(name, step.artifact_type, content)\n",
        "                    run.log_artifact(art)\n",
        "                    art.wait()\n",
        "\n",
        "                    # save in pipeline\n",
        "                    step.artifacts.append(art)\n",
        "\n",
        "if LOG_DUMMY_RUNS:\n",
        "  log_dummy_data()\n",
        "  log_dummy_lineage()"
      ]
    },
    {
      "cell_type": "markdown",
      "metadata": {
        "id": "4tqli7A_7NDP"
      },
      "source": [
        "\n",
        "# 🚀 Quickstart! <a id='quickstart'></a>"
      ]
    },
    {
      "cell_type": "code",
      "execution_count": null,
      "metadata": {
        "id": "EmDzg3wS7NDP"
      },
      "outputs": [],
      "source": [
        "import wandb_workspaces.reports.v2 as wr"
      ]
    },
    {
      "cell_type": "markdown",
      "metadata": {
        "id": "eheAid__7NDP"
      },
      "source": [
        "## Create, save, and load reports\n",
        "- NOTE: Reports are not saved automatically to reduce clutter.  Explicitly save the report by calling `report.save()`"
      ]
    },
    {
      "cell_type": "code",
      "execution_count": null,
      "metadata": {
        "id": "RVlOoOaK7NDP"
      },
      "outputs": [],
      "source": [
        "report = wr.Report(\n",
        "    project=PROJECT,\n",
        "    title='Quickstart Report',\n",
        "    description=\"That was easy!\"\n",
        ")                                 # Create\n",
        "report.save()                     # Save\n",
        "wr.Report.from_url(report.url)    # Load"
      ]
    },
    {
      "cell_type": "markdown",
      "metadata": {
        "id": "d3M7hocj7NDP"
      },
      "source": [
        "## Add content via blocks\n",
        "- Use blocks to add content like text, images, code, and more\n",
        "- See `wr.blocks` for all available blocks"
      ]
    },
    {
      "cell_type": "code",
      "execution_count": null,
      "metadata": {
        "id": "ZaSE1j897NDP"
      },
      "outputs": [],
      "source": [
        "report.blocks = [\n",
        "    wr.TableOfContents(),\n",
        "    wr.H1(\"Text and images example\"),\n",
        "    wr.P(\"Lorem ipsum dolor sit amet. Aut laborum perspiciatis sit odit omnis aut aliquam voluptatibus ut rerum molestiae sed assumenda nulla ut minus illo sit sunt explicabo? Sed quia architecto est voluptatem magni sit molestiae dolores. Non animi repellendus ea enim internos et iste itaque quo labore mollitia aut omnis totam.\"),\n",
        "    wr.Image('https://api.wandb.ai/files/telidavies/images/projects/831572/8ad61fd1.png', caption='Craiyon generated images'),\n",
        "    wr.P(\"Et voluptatem galisum quo facilis sequi quo suscipit sunt sed iste iure! Est voluptas adipisci et doloribus commodi ab tempore numquam qui tempora adipisci. Eum sapiente cupiditate ut natus aliquid sit dolor consequatur?\"),\n",
        "]\n",
        "report.save()"
      ]
    },
    {
      "cell_type": "markdown",
      "metadata": {
        "id": "bMNTXROu7NDQ"
      },
      "source": [
        "## Add charts and more via Panel Grid\n",
        "- `PanelGrid` is a special type of block that holds `runsets` and `panels`\n",
        "  - `runsets` organize data logged to W&B\n",
        "  - `panels` visualize runset data.  For a full set of panels, see `wr.panels`"
      ]
    },
    {
      "cell_type": "code",
      "execution_count": null,
      "metadata": {
        "id": "2lpA3H4R7NDQ"
      },
      "outputs": [],
      "source": [
        "pg = wr.PanelGrid(\n",
        "    runsets=[\n",
        "        wr.Runset(ENTITY, PROJECT, \"First Run Set\"),\n",
        "        wr.Runset(ENTITY, PROJECT, \"Elephants Only!\", query=\"elephant\"),\n",
        "    ],\n",
        "    panels=[\n",
        "        wr.LinePlot(x='Step', y=['val_acc'], smoothing_factor=0.8),\n",
        "        wr.BarPlot(metrics=['acc']),\n",
        "        wr.MediaBrowser(media_keys=['img'], num_columns=1),\n",
        "        wr.RunComparer(diff_only='split', layout={'w': 24, 'h': 9}),\n",
        "    ]\n",
        ")\n",
        "\n",
        "report.blocks = report.blocks[:1] + [wr.H1(\"Panel Grid Example\"), pg] + report.blocks[1:]\n",
        "report.save()"
      ]
    },
    {
      "cell_type": "markdown",
      "metadata": {
        "id": "fbtBNA5k7NDQ"
      },
      "source": [
        "## Add data lineage with Artifact blocks\n",
        "- There are equivalent weave panels as well"
      ]
    },
    {
      "cell_type": "code",
      "execution_count": null,
      "metadata": {
        "id": "rI-kgZpU7NDQ"
      },
      "outputs": [],
      "source": [
        "artifact_lineage = wr.WeaveBlockArtifact(entity=ENTITY, project=LINEAGE_PROJECT, artifact='model-1', tab='lineage')\n",
        "\n",
        "report.blocks = report.blocks[:1] + [wr.H1(\"Artifact lineage example\"), artifact_lineage] + report.blocks[1:]\n",
        "report.save()"
      ]
    },
    {
      "cell_type": "markdown",
      "metadata": {
        "id": "b2mMLGUK7NDQ"
      },
      "source": [
        "## Customize run colors\n",
        "- Pass in a `dict[run_name, color]`"
      ]
    },
    {
      "cell_type": "code",
      "execution_count": null,
      "metadata": {
        "id": "kE72SArq7NDQ"
      },
      "outputs": [],
      "source": [
        "pg.custom_run_colors = {\n",
        "  'adventurous-aardvark-1': '#e84118',\n",
        "  'bountiful-badger-2':     '#fbc531',\n",
        "  'clairvoyant-chipmunk-3': '#4cd137',\n",
        "  'dastardly-duck-4':       '#00a8ff',\n",
        "  'eloquent-elephant-5':    '#9c88ff',\n",
        "}\n",
        "report.save()"
      ]
    },
    {
      "cell_type": "markdown",
      "metadata": {
        "id": "pqu2LPgz7NDQ"
      },
      "source": [
        "# ❓ FAQ <a id='faq'></a>"
      ]
    },
    {
      "cell_type": "markdown",
      "metadata": {
        "id": "c--gAdKg7NDQ"
      },
      "source": [
        "## My report is too wide/narrow\n",
        "- Change the report's width to the right size for you."
      ]
    },
    {
      "cell_type": "code",
      "execution_count": null,
      "metadata": {
        "id": "RQrUg8E17NDQ"
      },
      "outputs": [],
      "source": [
        "report2 = report.save(clone=True)\n",
        "report2.width = 'fluid'\n",
        "report2.save()"
      ]
    },
    {
      "cell_type": "markdown",
      "metadata": {
        "id": "ZBRQ0-Np7NDQ"
      },
      "source": [
        "## How do I resize panels?\n",
        "- Pass a `dict[dim, int]` to `panel.layout`\n",
        "- `dim` is a dimension, which can be `x`, `y` (the coordiantes of the top left corner) `w`, `h` (the size of the panel)\n",
        "- You can pass any or all dimensions at once\n",
        "- The space between two dots in a panel grid is 2."
      ]
    },
    {
      "cell_type": "code",
      "execution_count": null,
      "metadata": {
        "id": "83rhYSSD7NDQ"
      },
      "outputs": [],
      "source": [
        "import wandb_workspaces.reports.v2 as wr\n",
        "\n",
        "\n",
        "report = wr.Report(\n",
        "    project=PROJECT,\n",
        "    title=\"Resizing panels\",\n",
        "    description=\"Look at this wide parallel coordinates plot!\",\n",
        "    blocks=[\n",
        "        wr.PanelGrid(\n",
        "            panels=[\n",
        "                wr.ParallelCoordinatesPlot(\n",
        "                    columns=[\n",
        "                        wr.ParallelCoordinatesPlotColumn(metric=\"Step\"),\n",
        "                        wr.ParallelCoordinatesPlotColumn(metric=\"c::model\"),\n",
        "                        wr.ParallelCoordinatesPlotColumn(metric=\"c::optimizer\"),\n",
        "                        wr.ParallelCoordinatesPlotColumn(metric=\"Step\"),\n",
        "                        wr.ParallelCoordinatesPlotColumn(metric=\"val_acc\"),\n",
        "                        wr.ParallelCoordinatesPlotColumn(metric=\"val_loss\"),\n",
        "                    ],\n",
        "                    layout=wr.Layout(w=24, h=9)  # Adjusting the layout for the plot size\n",
        "                ),\n",
        "            ]\n",
        "        )\n",
        "    ]\n",
        ")\n",
        "\n",
        "\n",
        "report.save()\n"
      ]
    },
    {
      "cell_type": "markdown",
      "metadata": {
        "id": "qQTtzZ9r7NDQ"
      },
      "source": [
        "## What blocks are available?\n",
        "- See `wr.blocks` for a list of blocks.\n",
        "- In an IDE or notebook, you can also do `wr.blocks.<tab>` to get autocomplete."
      ]
    },
    {
      "cell_type": "code",
      "execution_count": null,
      "metadata": {
        "id": "valQfFTQ7NDQ"
      },
      "outputs": [],
      "source": [
        "report = wr.Report(\n",
        "    project=PROJECT,\n",
        "    title='W&B Block Gallery',\n",
        "    description=\"Check out all of the blocks available in W&B\",\n",
        "    blocks=[\n",
        "        wr.H1(text=\"Heading 1\"),\n",
        "        wr.P(text=\"Normal paragraph\"),\n",
        "        wr.H2(text=\"Heading 2\"),\n",
        "        wr.P(\n",
        "            text=[\n",
        "                \"here is some text, followed by\",\n",
        "                wr.InlineCode(text=\"select * from code in line\"),\n",
        "                \"and then latex\",\n",
        "                wr.InlineLatex(text=\"e=mc^2\"),\n",
        "            ]\n",
        "        ),\n",
        "        wr.H3(text=\"Heading 3\"),\n",
        "        wr.CodeBlock(\n",
        "            code=\"this:\\n- is\\n- a\\ncool:\\n- yaml\\n- file\",\n",
        "            language=\"yaml\",\n",
        "        ),\n",
        "        wr.WeaveBlockSummaryTable(\n",
        "            entity=ENTITY,\n",
        "            project=PROJECT,\n",
        "            table_name='my-table'\n",
        "        ),\n",
        "        wr.WeaveBlockArtifact(\n",
        "            entity=ENTITY,\n",
        "            project=LINEAGE_PROJECT,\n",
        "            artifact='model-1',\n",
        "            tab='lineage'\n",
        "        ),\n",
        "        wr.WeaveBlockArtifactVersionedFile(\n",
        "            entity=ENTITY,\n",
        "            project=LINEAGE_PROJECT,\n",
        "            artifact='model-1',\n",
        "            version='v0',\n",
        "            file=\"dataframe.table.json\"\n",
        "        ),\n",
        "        wr.MarkdownBlock(text=\"Markdown cell with *italics* and **bold** and $e=mc^2$\"),\n",
        "        wr.LatexBlock(text=\"\\\\gamma^2+\\\\theta^2=\\\\omega^2\\n\\\\\\\\ a^2 + b^2 = c^2\"),\n",
        "        wr.Image(url=\"https://api.wandb.ai/files/megatruong/images/projects/918598/350382db.gif\", caption=\"It's a me, Pikachu\"),\n",
        "        wr.UnorderedList(items=[\"Bullet 1\", \"Bullet 2\"]),\n",
        "        wr.OrderedList(items=[\"Ordered 1\", \"Ordered 2\"]),\n",
        "        wr.CheckedList(items=[\n",
        "            wr.CheckedListItem(text=\"Unchecked\", checked=False),\n",
        "            wr.CheckedListItem(text=\"Checked\", checked=True)\n",
        "        ]),\n",
        "        wr.BlockQuote(text=\"Block Quote 1\\nBlock Quote 2\\nBlock Quote 3\"),\n",
        "        wr.CalloutBlock(text=\"Callout 1\\nCallout 2\\nCallout 3\"),\n",
        "        wr.HorizontalRule(),\n",
        "        wr.Video(url=\"https://www.youtube.com/embed/6riDJMI-Y8U\"),\n",
        "    ]\n",
        ")\n",
        "\n",
        "report.save()\n"
      ]
    },
    {
      "cell_type": "markdown",
      "metadata": {
        "id": "-koIg4Dp7NDQ"
      },
      "source": [
        "## What panels are available?\n",
        "- See `wr.panels` for a list of panels\n",
        "- In an IDE or notebook, you can also do `wr.panels.<tab>` to get autocomplete.\n",
        "- Panels have a lot of settings.  Inspect the panel to see what you can do!"
      ]
    },
    {
      "cell_type": "code",
      "execution_count": null,
      "metadata": {
        "id": "E95cCJQK7NDQ"
      },
      "outputs": [],
      "source": [
        "import wandb_workspaces.reports.v2 as wr\n",
        "\n",
        "report = wr.Report(\n",
        "    project=PROJECT,\n",
        "    title='W&B Panel Gallery',\n",
        "    description=\"Check out all of the panels available in W&B\",\n",
        "    width='fluid',\n",
        "    blocks=[\n",
        "        wr.PanelGrid(\n",
        "            runsets=[\n",
        "                wr.Runset(project=LINEAGE_PROJECT),\n",
        "                wr.Runset(),\n",
        "            ],\n",
        "            panels=[\n",
        "                wr.MediaBrowser(media_keys=[\"img\"]),\n",
        "                wr.MarkdownPanel(markdown=\"Hello *italic* **bold** $e=mc^2$ `something`\"),\n",
        "\n",
        "                # LinePlot with various settings enabled\n",
        "                wr.LinePlot(\n",
        "                    title=\"Validation Accuracy over Time\",\n",
        "                    x=\"Step\",\n",
        "                    y=[\"val_acc\"],\n",
        "                    range_x=(0, 1000),\n",
        "                    range_y=(1, 4),\n",
        "                    log_x=True,\n",
        "                    log_y=False,\n",
        "                    title_x=\"Training steps\",\n",
        "                    title_y=\"Validation Accuracy\",\n",
        "                    ignore_outliers=True,\n",
        "                    groupby='encoder',\n",
        "                    groupby_aggfunc=\"mean\",\n",
        "                    groupby_rangefunc=\"minmax\",\n",
        "                    smoothing_factor=0.5,\n",
        "                    smoothing_type=\"gaussian\",\n",
        "                    smoothing_show_original=True,\n",
        "                    max_runs_to_show=10,\n",
        "                    font_size=\"large\",\n",
        "                    legend_position=\"west\",\n",
        "                ),\n",
        "                wr.ScatterPlot(\n",
        "                    title=\"Validation Accuracy vs. Validation Loss\",\n",
        "                    x=\"val_acc\",\n",
        "                    y=\"val_loss\",\n",
        "                    log_x=False,\n",
        "                    log_y=False,\n",
        "                    running_ymin=True,\n",
        "                    running_ymean=True,\n",
        "                    running_ymax=True,\n",
        "                    font_size=\"small\",\n",
        "                    regression=True,\n",
        "                ),\n",
        "                wr.BarPlot(\n",
        "                    title=\"Validation Loss by Encoder\",\n",
        "                    metrics=[\"val_loss\"],\n",
        "                    orientation='h',\n",
        "                    range_x=(0, 0.11),\n",
        "                    title_x=\"Validation Loss\",\n",
        "                    groupby='encoder',\n",
        "                    groupby_aggfunc=\"median\",\n",
        "                    groupby_rangefunc=\"stddev\",\n",
        "                    max_runs_to_show=20,\n",
        "                    max_bars_to_show=3,\n",
        "                    font_size=\"auto\",\n",
        "                ),\n",
        "                wr.ScalarChart(\n",
        "                    title=\"Maximum Number of Steps\",\n",
        "                    metric=\"Step\",\n",
        "                    groupby_aggfunc=\"max\",\n",
        "                    groupby_rangefunc=\"stderr\",\n",
        "                    font_size=\"large\",\n",
        "                ),\n",
        "                wr.CodeComparer(diff=\"split\"),\n",
        "                wr.ParallelCoordinatesPlot(\n",
        "                    columns=[\n",
        "                        wr.ParallelCoordinatesPlotColumn(\"Step\"),\n",
        "                        wr.ParallelCoordinatesPlotColumn(\"c::model\"),\n",
        "                        wr.ParallelCoordinatesPlotColumn(\"c::optimizer\"),\n",
        "                        wr.ParallelCoordinatesPlotColumn(\"val_acc\"),\n",
        "                        wr.ParallelCoordinatesPlotColumn(\"val_loss\"),\n",
        "                    ],\n",
        "                ),\n",
        "                wr.ParameterImportancePlot(with_respect_to=\"val_loss\"),\n",
        "                wr.RunComparer(diff_only=True),\n",
        "                wr.CustomChart(\n",
        "                    query={'summary': ['val_loss', 'val_acc']},\n",
        "                    chart_name='wandb/scatter/v0',\n",
        "                    chart_fields={'x': 'val_loss', 'y': 'val_acc'}\n",
        "                ),\n",
        "            ],\n",
        "        ),\n",
        "        # Add WeaveBlock types directly to the blocks list\n",
        "        wr.WeaveBlockSummaryTable(\n",
        "            entity=\"your_entity\",\n",
        "            project=\"your_project\",\n",
        "            table_name=\"my-table\"\n",
        "        ),\n",
        "        wr.WeaveBlockArtifact(\n",
        "            entity=\"your_entity\",\n",
        "            project=\"your_project\",\n",
        "            artifact='model-1',\n",
        "            tab='lineage'\n",
        "        ),\n",
        "        wr.WeaveBlockArtifactVersionedFile(\n",
        "            entity=\"your_entity\",\n",
        "            project=\"your_project\",\n",
        "            artifact='model-1',\n",
        "            version='v0',\n",
        "            file=\"dataframe.table.json\"\n",
        "        ),\n",
        "    ]\n",
        ")\n",
        "report.save()\n"
      ]
    },
    {
      "cell_type": "markdown",
      "metadata": {
        "id": "_ImXrBtN7NDR"
      },
      "source": [
        "## How can I link related reports together?\n",
        "- Suppose have have two reports like below:"
      ]
    },
    {
      "cell_type": "code",
      "execution_count": null,
      "metadata": {
        "id": "ueOH3zoS7NDR"
      },
      "outputs": [],
      "source": [
        "import wandb_workspaces.reports.v2 as wr\n",
        "\n",
        "report1 = wr.Report(\n",
        "    project=PROJECT,\n",
        "    title='Report 1',\n",
        "    description=\"Great content coming from Report 1\",\n",
        "    blocks=[\n",
        "        wr.H1(text='Heading from Report 1'),\n",
        "        wr.P(text='Lorem ipsum dolor sit amet. Aut fuga minus nam vero saepeA aperiam eum omnis dolorum et ducimus tempore aut illum quis aut alias vero. Sed explicabo illum est eius quianon vitae sed voluptatem incidunt. Vel architecto assumenda Ad voluptatem quo dicta provident et velit officia. Aut galisum inventoreSed dolore a illum adipisci a aliquam quidem sit corporis quia cum magnam similique.'),\n",
        "        wr.PanelGrid(\n",
        "            panels=[\n",
        "                wr.LinePlot(\n",
        "                    title=\"Episodic Return\",\n",
        "                    x='global_step',\n",
        "                    y=['charts/episodic_return'],\n",
        "                    smoothing_factor=0.85,\n",
        "                    groupby_aggfunc='mean',\n",
        "                    groupby_rangefunc='minmax',\n",
        "                    layout=wr.Layout(x=0, y=0, w=12, h=8)\n",
        "                ),\n",
        "                wr.MediaBrowser(\n",
        "                    media_keys=[\"videos\"],\n",
        "                    num_columns=4,\n",
        "                    layout=wr.Layout(w=12, h=8)\n",
        "                ),\n",
        "            ],\n",
        "            runsets=[\n",
        "                wr.Runset(\n",
        "                    entity='openrlbenchmark',\n",
        "                    project='cleanrl',\n",
        "                    query='bigfish',\n",
        "                    groupby=['env_id', 'exp_name']\n",
        "                )\n",
        "            ],\n",
        "            custom_run_colors={\n",
        "                wr.RunsetGroup(runset_name='Run set', keys=(wr.RunsetGroupKey(key='bigfish', value='ppg_procgen'),)): \"#2980b9\",\n",
        "                wr.RunsetGroup(runset_name='Run set', keys=(wr.RunsetGroupKey(key='bigfish', value='ppo_procgen'),)): \"#e74c3c\",\n",
        "            }\n",
        "        ),\n",
        "    ]\n",
        ")\n",
        "report1.save()\n",
        "\n",
        "report2 = wr.Report(\n",
        "    project=PROJECT,\n",
        "    title='Report 2',\n",
        "    description=\"Great content coming from Report 2\",\n",
        "    blocks=[\n",
        "        wr.H1(text='Heading from Report 2'),\n",
        "        wr.P(text='Est quod ducimus ut distinctio corruptiid optio qui cupiditate quibusdam ea corporis modi. Eum architecto vero sed error dignissimosEa repudiandae a recusandae sint ut sint molestiae ea pariatur quae. In pariatur voluptas ad facere neque 33 suscipit et odit nostrum ut internos molestiae est modi enim. Et rerum inventoreAut internos et dolores delectus aut Quis sunt sed nostrum magnam ab dolores dicta.'),\n",
        "        wr.PanelGrid(\n",
        "            panels=[\n",
        "                wr.LinePlot(\n",
        "                    title=\"SPS\",\n",
        "                    x='global_step',\n",
        "                    y=['charts/SPS']\n",
        "                ),\n",
        "                wr.LinePlot(\n",
        "                    title=\"Episodic Length\",\n",
        "                    x='global_step',\n",
        "                    y=['charts/episodic_length']\n",
        "                ),\n",
        "                wr.LinePlot(\n",
        "                    title=\"Episodic Return\",\n",
        "                    x='global_step',\n",
        "                    y=['charts/episodic_return']\n",
        "                ),\n",
        "            ],\n",
        "            runsets=[\n",
        "                wr.Runset(\n",
        "                    entity=\"openrlbenchmark\",\n",
        "                    project=\"cleanrl\",\n",
        "                    name=\"DQN\",\n",
        "                    groupby=[\"exp_name\"]\n",
        "\n",
        "                ),\n",
        "                wr.Runset(\n",
        "                    entity=\"openrlbenchmark\",\n",
        "                    project=\"cleanrl\",\n",
        "                    name=\"SAC-discrete 0.8\",\n",
        "                    groupby=[\"exp_name\"]\n",
        "\n",
        "                ),\n",
        "                wr.Runset(\n",
        "                    entity=\"openrlbenchmark\",\n",
        "                    project=\"cleanrl\",\n",
        "                    name=\"SAC-discrete 0.88\",\n",
        "                    groupby=[\"exp_name\"]\n",
        "\n",
        "                ),\n",
        "            ],\n",
        "            custom_run_colors={\n",
        "                wr.RunsetGroup(runset_name='DQN', keys=(wr.RunsetGroupKey(key='dqn_atari', value='exp_name'),)): '#e84118',\n",
        "                wr.RunsetGroup(runset_name='SAC-discrete 0.8', keys=(wr.RunsetGroupKey(key='sac_atari', value='exp_name'),)): '#fbc531',\n",
        "                wr.RunsetGroup(runset_name='SAC-discrete 0.88', keys=(wr.RunsetGroupKey(key='sac_atari', value='exp_name'),)): '#00a8ff',\n",
        "            }\n",
        "        ),\n",
        "    ]\n",
        ")\n",
        "report2.save()\n"
      ]
    },
    {
      "cell_type": "markdown",
      "metadata": {
        "id": "NOhlK4G47NDR"
      },
      "source": [
        "### Combine blocks into a new report"
      ]
    },
    {
      "cell_type": "code",
      "execution_count": null,
      "metadata": {
        "id": "vfRryyUM7NDR"
      },
      "outputs": [],
      "source": [
        "report = wr.Report(PROJECT,\n",
        "    title=\"Report with links\",\n",
        "    description=\"Use `wr.Link(text, url)` to add links inside normal text, or use normal markdown syntax in a MarkdownBlock\",\n",
        "    blocks=[\n",
        "        wr.H1(\"This is a normal heading\"),\n",
        "        wr.P(\"And here is some normal text\"),\n",
        "\n",
        "        wr.H1([\"This is a heading \", wr.Link(\"with a link!\", url=\"https://wandb.ai/\")]),\n",
        "        wr.P([\"Most text formats support \", wr.Link(\"adding links\", url=\"https://wandb.ai/\")]),\n",
        "\n",
        "        wr.MarkdownBlock(\"\"\"You can also use markdown syntax for [links](https://wandb.ai/)\"\"\")\n",
        "    ]\n",
        ")\n",
        "report.save()"
      ]
    },
    {
      "cell_type": "code",
      "execution_count": null,
      "metadata": {
        "id": "9GWSIsVp7NDU"
      },
      "outputs": [],
      "source": [
        "report3 = wr.Report(\n",
        "    PROJECT,\n",
        "    title=\"Combined blocks report\",\n",
        "    description=\"This report combines blocks from both Report 1 and Report 2\",\n",
        "    blocks=[*report1.blocks, *report2.blocks]\n",
        ")\n",
        "report3.save()"
      ]
    },
    {
      "cell_type": "markdown",
      "metadata": {
        "id": "pXt2x1L07NDV"
      },
      "source": [
        "## I tried mutating an object in list but it didn't work!\n",
        "tl;dr: It should always work if you assign a value to the attribute instead of mutating.  If you really need to mutate, do it before assignment.\n",
        "\n",
        "---\n",
        "\n",
        "This can happen in a few places that contain lists of wandb objects, e.g.:\n",
        "- `report.blocks`\n",
        "- `panel_grid.panels`\n",
        "- `panel_grid.runsets`"
      ]
    },
    {
      "cell_type": "code",
      "execution_count": null,
      "metadata": {
        "id": "0EbcQqOM7NDV"
      },
      "outputs": [],
      "source": [
        "report = wr.Report(project=PROJECT)"
      ]
    },
    {
      "cell_type": "markdown",
      "metadata": {
        "id": "H0J06T757NDV"
      },
      "source": [
        "Good: Assign `b`"
      ]
    },
    {
      "cell_type": "code",
      "execution_count": null,
      "metadata": {
        "id": "tgMca01g7NDV"
      },
      "outputs": [],
      "source": [
        "b = wr.H1(text=[\"Hello\", \" World!\"])\n",
        "report.blocks = [b]\n",
        "assert b.text == [\"Hello\", \" World!\"]\n",
        "assert report.blocks[0].text == [\"Hello\", \" World!\"]"
      ]
    },
    {
      "cell_type": "markdown",
      "metadata": {
        "id": "uDQ8wSn77NDV"
      },
      "source": [
        "Bad: Mutate `b` without reassigning"
      ]
    },
    {
      "cell_type": "code",
      "execution_count": null,
      "metadata": {
        "id": "xMX5Xr0x7NDV"
      },
      "outputs": [],
      "source": [
        "b.text = [\"Something\", \" New\"]\n",
        "assert b.text == [\"Something\", \" New\"]\n",
        "assert report.blocks[0].text == [\"Hello\", \" World!\"]\n",
        "\n",
        "# This will error!"
      ]
    },
    {
      "cell_type": "markdown",
      "metadata": {
        "id": "KUMkP_9t7NDV"
      },
      "source": [
        "Good: Mutate `b` and then reassign it"
      ]
    },
    {
      "cell_type": "code",
      "execution_count": null,
      "metadata": {
        "id": "Wif3JPMo7NDV"
      },
      "outputs": [],
      "source": [
        "report.blocks = [b]\n",
        "assert b.text == [\"Something\", \" New\"]\n",
        "assert report.blocks[0].text == [\"Something\", \" New\"]"
      ]
    }
  ],
  "metadata": {
    "accelerator": "GPU",
    "colab": {
      "provenance": [],
      "toc_visible": true,
      "include_colab_link": true
    },
    "kernelspec": {
      "display_name": "Python 3",
      "name": "python3"
    }
  },
  "nbformat": 4,
  "nbformat_minor": 0
}