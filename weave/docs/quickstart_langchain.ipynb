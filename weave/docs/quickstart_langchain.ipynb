{
 "cells": [
  {
   "cell_type": "markdown",
   "metadata": {},
   "source": [
    "# LangChain\n",
    "\n",
    "Weave is designed to make tracking and logging all calls made through the [LangChain Python library](https://github.com/langchain-ai/langchain) effortless.\n",
    "\n",
    "When working with LLMs, debugging is inevitable. Whether a model call fails, an output is misformatted, or nested model calls create confusion, pinpointing issues can be challenging. LangChain applications often consist of multiple steps and LLM call invocations, making it crucial to understand the inner workings of your chains and agents.\n",
    "\n",
    "Weave simplifies this process by automatically capturing traces for your [LangChain](https://python.langchain.com/v0.2/docs/introduction/) applications. This enables you to monitor and analyze your application's performance, making it easier to debug and optimize your LLM workflows.\n",
    "\n"
   ]
  },
  {
   "cell_type": "code",
   "execution_count": null,
   "metadata": {},
   "outputs": [],
   "source": [
    "!pip install weave langchain-core langchain-openai -qqq"
   ]
  },
  {
   "cell_type": "markdown",
   "metadata": {},
   "source": [
    "\n",
    "## Getting Started\n",
    "\n",
    "To get started, simply call `weave.init()` at the beginning of your script. The argument in weave.init() is a project name that will help you organize your traces.\n"
   ]
  },
  {
   "cell_type": "code",
   "execution_count": null,
   "metadata": {},
   "outputs": [],
   "source": [
    "\n",
    "import weave\n",
    "import os\n",
    "import getpass\n",
    "from langchain_core.prompts import PromptTemplate\n",
    "from langchain_openai import ChatOpenAI\n",
    "\n",
    "\n",
    "\n",
    "print(\"Enter your OpenAI API key:\")\n",
    "os.environ[\"OPENAI_API_KEY\"] = getpass.getpass()\n"
   ]
  },
  {
   "cell_type": "markdown",
   "metadata": {},
   "source": [
    "If not already logged in, you will be prompted to log into wandb and authorize using your wandb account in the next step."
   ]
  },
  {
   "cell_type": "code",
   "execution_count": null,
   "metadata": {},
   "outputs": [],
   "source": [
    "# Initialize Weave\n",
    "weave.init(\"quickstart_langchain\")\n"
   ]
  },
  {
   "cell_type": "code",
   "execution_count": null,
   "metadata": {},
   "outputs": [],
   "source": [
    "llm = ChatOpenAI(model_name=\"gpt-4o-mini\")\n",
    "prompt = PromptTemplate.from_template(\"1 + {number} = \")\n",
    "\n",
    "llm_chain = prompt | llm\n",
    "\n",
    "output = llm_chain.invoke({\"number\": 2})\n",
    "\n",
    "print(output)\n"
   ]
  },
  {
   "cell_type": "markdown",
   "metadata": {},
   "source": [
    "## Traces\n",
    "\n",
    "Storing traces of LLM applications in a central database is crucial during both development and production. These traces are essential for debugging and improving your application by providing a valuable dataset.\n",
    "\n",
    "Weave automatically captures traces for your LangChain applications. It will track and log all calls made through the LangChain library, including prompt templates, chains, LLM calls, tools, and agent steps. You can view the traces in the Weave web interface.\n",
    "\n",
    "[![langchain_trace.png](https://weave-docs.wandb.ai/assets/images/langchain_trace-8a5aac7070df8635840cfb6fbb43996f.png)](https://wandb.ai/parambharat/langchain_demo/weave/calls)\n"
   ]
  },
  {
   "cell_type": "markdown",
   "metadata": {},
   "source": [
    "\n",
    "## Manually Tracing Calls\n",
    "\n",
    "In addition to automatic tracing, you can manually trace calls using the `WeaveTracer` callback or the `weave_tracing_enabled` context manager. These methods are akin to using request callbacks in individual parts of a LangChain application.\n",
    "\n",
    "**Note:** Weave traces Langchain Runnables by default and this is enabled when you call `weave.init()`. You can disable this behaviour by setting the environment variable `WEAVE_TRACE_LANGCHAIN` to `\"false\"` before calling `weave.init()`. This allows you to control the tracing behaviour of specific chains or even individual requests in your application.\n"
   ]
  },
  {
   "cell_type": "markdown",
   "metadata": {},
   "source": [
    "\n",
    "### Using `WeaveTracer`\n",
    "\n",
    "You can pass the `WeaveTracer` callback to individual LangChain components to trace specific requests.\n"
   ]
  },
  {
   "cell_type": "code",
   "execution_count": null,
   "metadata": {},
   "outputs": [],
   "source": [
    "os.environ[\"WEAVE_TRACE_LANGCHAIN\"] = \"false\" # <- explicitly disable global tracing.\n",
    "\n",
    "from weave.integrations.langchain import WeaveTracer\n",
    "\n",
    "# <-- we don't enable tracing here because the env var is explicitly set to `false` -->\n",
    "weave_tracer = WeaveTracer()\n",
    "\n",
    "config = {\"callbacks\": [weave_tracer]}\n",
    "\n",
    "llm = ChatOpenAI()\n",
    "prompt = PromptTemplate.from_template(\"1 + {number} = \")\n",
    "\n",
    "llm_chain = prompt | llm\n",
    "\n",
    "output = llm_chain.invoke({\"number\": 2}, config=config) # <-- this enables tracing only for this chain invoke.\n",
    "\n",
    "llm_chain.invoke({\"number\": 4})  # <-- this will not have tracing enabled for langchain calls but openai calls will still be traced\n"
   ]
  },
  {
   "cell_type": "markdown",
   "metadata": {},
   "source": [
    "\n",
    "\n",
    "### Using `weave_tracing_enabled` Context Manager\n",
    "\n",
    "Alternatively, you can use the `weave_tracing_enabled` context manager to enable tracing for specific blocks of code.\n"
   ]
  },
  {
   "cell_type": "code",
   "execution_count": null,
   "metadata": {},
   "outputs": [],
   "source": [
    "from weave.integrations.langchain import weave_tracing_enabled\n",
    "\n",
    "# <-- we don't enable tracing here because the env var is explicitly set to `false` -->\n",
    "\n",
    "llm = ChatOpenAI()\n",
    "prompt = PromptTemplate.from_template(\"1 + {number} = \")\n",
    "\n",
    "llm_chain = prompt | llm\n",
    "\n",
    "\n",
    "with weave_tracing_enabled():  # <-- this enables tracing only for this chain invoke.\n",
    "    output = llm_chain.invoke({\"number\": 2})\n",
    "\n",
    "\n",
    "llm_chain.invoke({\"number\": 4})  # <-- this will not have tracing enabled for langchain calls but openai calls will still be traced"
   ]
  },
  {
   "cell_type": "markdown",
   "metadata": {},
   "source": [
    "## Configuration\n",
    "\n",
    "Upon calling `weave.init`, tracing is enabled by setting the environment variable `WEAVE_TRACE_LANGCHAIN` to `\"true\"`. This allows Weave to automatically capture traces for your LangChain applications. If you wish to disable this behavior, set the environment variable to `\"false\"`.\n",
    "\n",
    "## Relation to LangChain Callbacks\n",
    "\n",
    "### Auto Logging\n",
    "\n",
    "The automatic logging provided by `weave.init()` is similar to passing a constructor callback to every component in a LangChain application. This means that all interactions, including prompt templates, chains, LLM calls, tools, and agent steps, are tracked globally across your entire application.\n",
    "\n",
    "### Manual Logging\n",
    "\n",
    "The manual logging methods (`WeaveTracer` and `weave_tracing_enabled`) are similar to using request callbacks in individual parts of a LangChain application. These methods provide finer control over which parts of your application are traced:\n",
    "\n",
    "- **Constructor Callbacks:** Applied to the entire chain or component, logging all interactions consistently.\n",
    "- **Request Callbacks:** Applied to specific requests, allowing detailed tracing of particular invocations.\n",
    "\n",
    "By integrating Weave with LangChain, you can ensure comprehensive logging and monitoring of your LLM applications, facilitating easier debugging and performance optimization.\n",
    "\n",
    "For more detailed information, refer to the [LangChain documentation](https://python.langchain.com/v0.2/docs/how_to/debugging/#tracing).\n",
    "\n",
    "## Models and Evaluations\n",
    "\n",
    "Organizing and evaluating LLMs in applications for various use cases is challenging with multiple components, such as prompts, model configurations, and inference parameters. Using the [`weave.Model`](https://weave-docs.wandb.ai/guides/core-types/models), you can capture and organize experimental details like system prompts or the models you use, making it easier to compare different iterations.\n",
    "\n",
    "The following example demonstrates wrapping a Langchain chain in a `WeaveModel`:\n"
   ]
  },
  {
   "cell_type": "code",
   "execution_count": null,
   "metadata": {},
   "outputs": [],
   "source": [
    "import json\n",
    "from langchain_core.prompts import PromptTemplate\n",
    "from langchain_openai import ChatOpenAI\n",
    "\n",
    "\n",
    "class ExtractFruitsModel(weave.Model):\n",
    "    model_name: str\n",
    "    prompt_template: str\n",
    "\n",
    "    @weave.op()\n",
    "    async def predict(self, sentence: str) -> dict:\n",
    "        llm = ChatOpenAI(model=self.model_name, temperature=0.0)\n",
    "        prompt = PromptTemplate.from_template(self.prompt_template)\n",
    "\n",
    "        llm_chain = prompt | llm\n",
    "        response = llm_chain.invoke({\"sentence\": sentence})\n",
    "        result = response.content\n",
    "\n",
    "        if result is None:\n",
    "            raise ValueError(\"No response from model\")\n",
    "        parsed = json.loads(result)\n",
    "        return parsed\n",
    "\n",
    "model = ExtractFruitsModel(\n",
    "    model_name=\"gpt-4o-mini\",\n",
    "    prompt_template='Extract fields (\"fruit\": <str>, \"color\": <str>, \"flavor\": <str>) from the following text, as json: {sentence}',\n",
    ")\n",
    "sentence = \"There are many fruits that were found on the recently discovered planet Goocrux. There are neoskizzles that grow there, which are purple and taste like candy.\"\n",
    "\n",
    "prediction = await model.predict(sentence)\n",
    "\n",
    "print(prediction)\n"
   ]
  },
  {
   "cell_type": "markdown",
   "metadata": {},
   "source": [
    "\n",
    "This code creates a model that can be visualized in the Weave UI:\n",
    "\n",
    "[![langchain_model.png](https://weave-docs.wandb.ai/assets/images/langchain_model-aa69f5a21ecde2d30be53e3f1b43c601.png)](https://wandb.ai/parambharat/langchain_demo/weave/object-versions?filter=%7B%22baseObjectClass%22%3A%22Model%22%7D&peekPath=%2Fparambharat%2Flangchain_demo%2Fobjects%2FExtractFruitsModel%2Fversions%2FBeoL6WuCH8wgjy6HfmuBMyKzArETg1oAFpYaXZSq1hw%3F%26)\n",
    "\n",
    "\n",
    "You can also use Weave Models with `serve`, and [`Evaluations`](/guides/core-types/evaluations).\n"
   ]
  },
  {
   "cell_type": "markdown",
   "metadata": {},
   "source": [
    "\n",
    "### Evaluations\n",
    "Evaluations help you measure the performance of your models. By using the [`weave.Evaluation`](/guides/core-types/evaluations) class, you can capture how well your model performs on specific tasks or datasets, making it easier to compare different models and iterations of your application. The following example demonstrates how to evaluate the model we created:\n",
    "\n"
   ]
  },
  {
   "cell_type": "code",
   "execution_count": null,
   "metadata": {},
   "outputs": [],
   "source": [
    "from weave.scorers import MultiTaskBinaryClassificationF1\n",
    "\n",
    "sentences = [\n",
    "    \"There are many fruits that were found on the recently discovered planet Goocrux. There are neoskizzles that grow there, which are purple and taste like candy.\",\n",
    "    \"Pounits are a bright green color and are more savory than sweet.\",\n",
    "    \"Finally, there are fruits called glowls, which have a very sour and bitter taste which is acidic and caustic, and a pale orange tinge to them.\",\n",
    "]\n",
    "labels = [\n",
    "    {\"fruit\": \"neoskizzles\", \"color\": \"purple\", \"flavor\": \"candy\"},\n",
    "    {\"fruit\": \"pounits\", \"color\": \"bright green\", \"flavor\": \"savory\"},\n",
    "    {\"fruit\": \"glowls\", \"color\": \"pale orange\", \"flavor\": \"sour and bitter\"},\n",
    "]\n",
    "examples = [\n",
    "    {\"id\": \"0\", \"sentence\": sentences[0], \"target\": labels[0]},\n",
    "    {\"id\": \"1\", \"sentence\": sentences[1], \"target\": labels[1]},\n",
    "    {\"id\": \"2\", \"sentence\": sentences[2], \"target\": labels[2]},\n",
    "]\n",
    "\n",
    "@weave.op()\n",
    "def fruit_name_score(target: dict, model_output: dict) -> dict:\n",
    "    return {\"correct\": target[\"fruit\"] == model_output[\"fruit\"]}\n",
    "\n",
    "\n",
    "evaluation = weave.Evaluation(\n",
    "    dataset=examples,\n",
    "    scorers=[\n",
    "        MultiTaskBinaryClassificationF1(class_names=[\"fruit\", \"color\", \"flavor\"]),\n",
    "        fruit_name_score,\n",
    "    ],\n",
    ")\n",
    "\n",
    "scores = await evaluation.evaluate(model)\n",
    "\n",
    "print(scores)\n",
    "\n"
   ]
  },
  {
   "cell_type": "markdown",
   "metadata": {},
   "source": [
    "\n",
    "This code generates an evaluation trace that can be visualized in the Weave UI:\n",
    "\n",
    "[![langchain_evaluation.png](https://weave-docs.wandb.ai/assets/images/langchain_eval-59b62a719896a5277d9ea397cfb49fd6.png)](https://wandb.ai/parambharat/langchain_demo/weave/calls?filter=%7B%22traceRootsOnly%22%3Atrue%7D&peekPath=%2Fparambharat%2Flangchain_demo%2Fcalls%2F44c3f26c-d9d3-423e-b434-651ea5174be3)\n",
    "\n",
    "By integrating Weave with Langchain, you can ensure comprehensive logging and monitoring of your LLM applications, facilitating easier debugging and performance optimization.\n"
   ]
  }
 ],
 "metadata": {
  "kernelspec": {
   "display_name": "wandb-examples",
   "language": "python",
   "name": "python3"
  },
  "language_info": {
   "name": "python",
   "version": "3.11.11"
  }
 },
 "nbformat": 4,
 "nbformat_minor": 2
}
