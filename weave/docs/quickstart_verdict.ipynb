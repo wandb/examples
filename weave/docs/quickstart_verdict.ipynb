{
  "cells": [
    {
      "cell_type": "code",
      "execution_count": null,
      "metadata": {
        "id": "lrU6wPCRlVqk"
      },
      "outputs": [],
      "source": [
        "!pip install -qqq git+https://github.com/wandb/weave.git@verdict-integration\n",
        "!pip install -qqq -U git+https://github.com/parambharat/verdict.git@feat/tracing-impl"
      ]
    },
    {
      "cell_type": "code",
      "execution_count": null,
      "metadata": {
        "id": "iwpGIx71lsMF"
      },
      "outputs": [],
      "source": [
        "import wandb\n",
        "wandb.login()"
      ]
    },
    {
      "cell_type": "code",
      "execution_count": null,
      "metadata": {
        "id": "8hwyIIN-lUpX"
      },
      "outputs": [],
      "source": [
        "from verdict import Pipeline\n",
        "from verdict.schema import Schema\n",
        "from verdict.common.judge import JudgeUnit\n",
        "import weave\n",
        "from getpass import getpass\n",
        "import os"
      ]
    },
    {
      "cell_type": "code",
      "execution_count": null,
      "metadata": {
        "id": "bL3RVn7UmjZc"
      },
      "outputs": [],
      "source": [
        "os.environ[\"OPENAI_API_KEY\"] = getpass(\"Enter your OpenAI API Key: \")"
      ]
    },
    {
      "cell_type": "code",
      "execution_count": null,
      "metadata": {
        "id": "EQ3n-mB6mOyx"
      },
      "outputs": [],
      "source": [
        "weave.init(\"verdict-example\")"
      ]
    },
    {
      "cell_type": "code",
      "execution_count": null,
      "metadata": {
        "id": "s6fTxACql9fL"
      },
      "outputs": [],
      "source": [
        "# ref: https://github.com/haizelabs/verdict/blob/main/notebooks/common/judge.ipynb\n",
        "# default scale is DiscreteScale((1, 5))\n",
        "pipeline = Pipeline() \\\n",
        "    >> JudgeUnit().prompt(\"\"\"\n",
        "        Score this on how funny it is.\n",
        "\n",
        "        {source.joke}\n",
        "    \"\"\")\n",
        "\n",
        "response, leaf_node_prefixes = pipeline.run(Schema.of(joke=\"Why did the chicken cross the road? To get to the other side.\"))\n",
        "print(response)"
      ]
    },
    {
      "cell_type": "code",
      "execution_count": null,
      "metadata": {
        "id": "IMNLEyVumXbA"
      },
      "outputs": [],
      "source": [
        "from verdict import Pipeline, Layer\n",
        "from verdict.common.conversational import ConversationalUnit\n",
        "from verdict.schema import Schema\n",
        "\n",
        "pipeline = Pipeline() \\\n",
        ">> Layer(\n",
        "    ConversationalUnit(\"Thinker\").prompt(\"\"\"\n",
        "        Is this joke funny? Read arguments from those before you and come up with a brief, but unique, stance.\n",
        "\n",
        "        Joke:\n",
        "        {source.joke}\n",
        "\n",
        "        Others' thoughts:\n",
        "        {input.conversation}\n",
        "    \"\"\")\n",
        ", 4, inner='chain')\n",
        "\n",
        "response, _ = pipeline.run(Schema.of(joke=\"Why did the chicken cross the road? Because the other side had better documentation.\"))"
      ]
    },
    {
      "cell_type": "code",
      "execution_count": null,
      "metadata": {
        "id": "hLGxHhaOFSYG"
      },
      "outputs": [],
      "source": []
    }
  ],
  "metadata": {
    "colab": {
      "provenance": []
    },
    "kernelspec": {
      "display_name": "Python 3",
      "name": "python3"
    },
    "language_info": {
      "name": "python"
    }
  },
  "nbformat": 4,
  "nbformat_minor": 0
}