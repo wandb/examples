{
  "nbformat": 4,
  "nbformat_minor": 0,
  "metadata": {
    "colab": {
      "provenance": []
    },
    "kernelspec": {
      "name": "python3",
      "display_name": "Python 3"
    },
    "language_info": {
      "name": "python"
    }
  },
  "cells": [
    {
      "cell_type": "markdown",
      "source": [
        "# Cohere\n",
        "\n",
        "Weave automatically tracks and logs LLM calls made via the [Cohere Python library](https://github.com/cohere-ai/cohere-python) after `weave.init()` is called."
      ],
      "metadata": {
        "id": "F-K6jdWwf5iD"
      }
    },
    {
      "cell_type": "markdown",
      "source": [
        "## Traces\n",
        "\n",
        "It's important to store traces of LLM applications in a central database, both during development and in production. You'll use these traces for debugging, and as a dataset that will help you improve your application.\n",
        "\n",
        "Weave will automatically capture traces for [cohere-python](https://github.com/cohere-ai/cohere-python). You can use the library as usual, start by calling `weave.init()`:"
      ],
      "metadata": {
        "id": "GdJUx1Xqf8PV"
      }
    },
    {
      "cell_type": "code",
      "source": [
        "!pip install weave cohere -qqq"
      ],
      "metadata": {
        "id": "vBaLKa1-gD3S"
      },
      "execution_count": null,
      "outputs": []
    },
    {
      "cell_type": "code",
      "source": [
        "import cohere\n",
        "import os\n",
        "import getpass\n",
        "import weave\n",
        "\n",
        "os.environ[\"COHERE_API_KEY\"] = getpass.getpass(\"Enter your Cohere API Key: \")"
      ],
      "metadata": {
        "id": "dl0jXaNSgP9b"
      },
      "execution_count": null,
      "outputs": []
    },
    {
      "cell_type": "markdown",
      "source": [
        "If not already logged in, you will be prompted to log into wandb and authorize using your wandb account in the next step."
      ],
      "metadata": {
        "id": "fu-zC-QXxp4c"
      }
    },
    {
      "cell_type": "code",
      "source": [
        "weave.init(\"quickstart_cohere\")"
      ],
      "metadata": {
        "id": "OowaHkfpxpn3"
      },
      "execution_count": null,
      "outputs": []
    },
    {
      "cell_type": "code",
      "execution_count": null,
      "metadata": {
        "id": "2Op3aBGtfkok"
      },
      "outputs": [],
      "source": [
        "# Use the Cohere library as usual\n",
        "co = cohere.Client(api_key=os.environ[\"COHERE_API_KEY\"])\n",
        "\n",
        "response = co.chat(\n",
        "    message=\"How is the weather in Boston?\",\n",
        "    # perform web search before answering the question. You can also use your own custom connector.\n",
        "    connectors=[\n",
        "        {\"id\": \"web-search\"}\n",
        "    ],\n",
        ")\n",
        "\n",
        "print(response.text)"
      ]
    },
    {
      "cell_type": "markdown",
      "source": [
        "A powerful feature of cohere models is using [connectors](https://docs.cohere.com/docs/overview-rag-connectors#using-connectors-to-create-grounded-generations) enabling you to make requests to other API on the endpoint side. The response will then contain the generated text with citation elements that link to the documents returned from the connector."
      ],
      "metadata": {
        "id": "wzwCTBvpzJc_"
      }
    },
    {
      "cell_type": "markdown",
      "source": [
        "[![cohere_trace.png](https://weave-docs.wandb.ai/assets/images/cohere_trace-a0aab93ed5e3c658f06d8d89bba86398.png)](https://wandb.ai/capecape/cohere_dev/weave/calls)"
      ],
      "metadata": {
        "id": "2KGJKQA1zksY"
      }
    },
    {
      "cell_type": "markdown",
      "source": [
        "**Note**: We patch the Cohere `Client.chat`, `AsyncClient.chat`, `Client.chat_stream`, and `AsyncClient.chat_stream` methods for you to keep track of your LLM calls."
      ],
      "metadata": {
        "id": "TlnADUFh0nwT"
      }
    },
    {
      "cell_type": "markdown",
      "source": [
        "## Wrapping with your own ops\n",
        "\n",
        "Weave ops make results *reproducible* by automatically versioning code as you experiment, and they capture their inputs and outputs. Simply create a function decorated with [`@weave.op()`](https://weave-docs.wandb.ai/guides/tracking/ops) that calls into Cohere's chat methods, and Weave will track the inputs and outputs for you. Here's an example:"
      ],
      "metadata": {
        "id": "5lOy6mCj0yEy"
      }
    },
    {
      "cell_type": "code",
      "source": [
        "co = cohere.Client(api_key=os.environ[\"COHERE_API_KEY\"])\n",
        "\n",
        "@weave.op()\n",
        "def weather(location: str, model: str) -> str:\n",
        "    response = co.chat(\n",
        "        model=model,\n",
        "        message=f\"How is the weather in {location}?\",\n",
        "        # perform web search before answering the question. You can also use your own custom connector.\n",
        "        connectors=[{\"id\": \"web-search\"}],\n",
        "    )\n",
        "    return response.text\n",
        "\n",
        "print(weather(\"Boston\", \"command\"))"
      ],
      "metadata": {
        "id": "zkG-NK9dxY1Q"
      },
      "execution_count": null,
      "outputs": []
    },
    {
      "cell_type": "markdown",
      "source": [
        "[![cohere_ops.png](https://weave-docs.wandb.ai/assets/images/cohere_ops-51ec289bf1149f2b869c3c62b8be6671.png)](https://wandb.ai/capecape/cohere_dev/weave/calls)"
      ],
      "metadata": {
        "id": "MZq3CnIe1T7-"
      }
    },
    {
      "cell_type": "markdown",
      "source": [
        "## Create a `Model` for easier experimentation\n",
        "\n",
        "Organizing experimentation is difficult when there are many moving pieces. By using the [`Model`](https://weave-docs.wandb.ai/guides/core-types/models) class, you can capture and organize the experimental details of your app like your system prompt or the model you're using. This helps organize and compare different iterations of your app.\n",
        "\n",
        "In addition to versioning code and capturing inputs/outputs, [`Model`](https://weave-docs.wandb.ai/guides/core-types/models)s capture structured parameters that control your application's behavior, making it easy to find what parameters worked best. You can also use Weave Models with `serve`, and [`Evaluation`](https://weave-docs.wandb.ai/guides/core-types/evaluations)s.\n",
        "\n",
        "In the example below, you can experiment with `model` and `temperature`. Every time you change one of these, you'll get a new _version_ of `WeatherModel`."
      ],
      "metadata": {
        "id": "wYfrWoWX1dVj"
      }
    },
    {
      "cell_type": "code",
      "source": [
        "class WeatherModel(weave.Model):\n",
        "    model: str\n",
        "    temperature: float\n",
        "\n",
        "    @weave.op()\n",
        "    def predict(self, location: str) -> str:\n",
        "        co = cohere.Client(api_key=os.environ[\"COHERE_API_KEY\"])\n",
        "        response = co.chat(\n",
        "            message=f\"How is the weather in {location}?\",\n",
        "            model=self.model,\n",
        "            temperature=self.temperature,\n",
        "            connectors=[{\"id\": \"web-search\"}]\n",
        "        )\n",
        "        return response.text\n",
        "\n",
        "weather_model = WeatherModel(\n",
        "    model=\"command\",\n",
        "    temperature=0.7\n",
        ")\n",
        "result = weather_model.predict(\"Boston\")\n",
        "print(result)"
      ],
      "metadata": {
        "id": "T-cUCxl81IiJ"
      },
      "execution_count": null,
      "outputs": []
    },
    {
      "cell_type": "markdown",
      "source": [
        "[![cohere_model.png](https://weave-docs.wandb.ai/assets/images/cohere_model-9e02b4eced4beb126276d7c67c81854e.png)](https://wandb.ai/capecape/cohere_dev/weave/models)"
      ],
      "metadata": {
        "id": "TM4zzKk916sx"
      }
    }
  ]
}