{
  "nbformat": 4,
  "nbformat_minor": 0,
  "metadata": {
    "colab": {
      "provenance": []
    },
    "kernelspec": {
      "name": "python3",
      "display_name": "Python 3"
    },
    "language_info": {
      "name": "python"
    }
  },
  "cells": [
    {
      "cell_type": "markdown",
      "source": [
        "## Setup\n",
        "\n",
        "- Download the required dependencies\n",
        "- Ensure we have the API keys"
      ],
      "metadata": {
        "id": "v7f3sU5b3_km"
      }
    },
    {
      "cell_type": "code",
      "execution_count": null,
      "metadata": {
        "id": "RtARO-eZ2ZvB"
      },
      "outputs": [],
      "source": [
        "!pip install -qq google-genai\n",
        "!pip install -qq weave"
      ]
    },
    {
      "cell_type": "code",
      "source": [
        "import os\n",
        "import getpass\n",
        "\n",
        "os.environ[\"GOOGLE_GENAI_KEY\"] = getpass.getpass(\"Enter your Google GenAI API Key: \")"
      ],
      "metadata": {
        "id": "pNU75yiLva90"
      },
      "execution_count": null,
      "outputs": []
    },
    {
      "cell_type": "markdown",
      "source": [
        "Running the cell below will ask you to put in your Weights and Biases API Key."
      ],
      "metadata": {
        "id": "gJLolzDYwJ8x"
      }
    },
    {
      "cell_type": "code",
      "source": [
        "import weave\n",
        "\n",
        "weave_client = weave.init(\"genai-demo\")"
      ],
      "metadata": {
        "id": "ukx8UfPWv09N"
      },
      "execution_count": null,
      "outputs": []
    },
    {
      "cell_type": "markdown",
      "source": [
        "## Generate response"
      ],
      "metadata": {
        "id": "CceQdZO1wtGv"
      }
    },
    {
      "cell_type": "code",
      "source": [
        "from google import genai\n",
        "\n",
        "google_client = genai.Client(api_key=os.getenv(\"GOOGLE_GENAI_KEY\"))\n",
        "\n",
        "response = google_client.models.generate_content(\n",
        "    model=\"gemini-2.0-flash\",\n",
        "    contents=\"What's the capital of France?\",\n",
        ")\n",
        "\n",
        "print(response)"
      ],
      "metadata": {
        "id": "IhAT9R0HwIPg"
      },
      "execution_count": null,
      "outputs": []
    },
    {
      "cell_type": "markdown",
      "source": [
        "Click on the weave URL to head over to the Weave traces dashboard."
      ],
      "metadata": {
        "id": "QU3QwNKsxJK7"
      }
    },
    {
      "cell_type": "markdown",
      "source": [
        "## Track Configs automatically"
      ],
      "metadata": {
        "id": "QnJKIal-xPwJ"
      }
    },
    {
      "cell_type": "code",
      "source": [
        "from google.genai import types\n",
        "\n",
        "response = google_client.models.generate_content(\n",
        "    model='gemini-2.0-flash-001',\n",
        "    contents=types.Part.from_text(text='Why is the sky blue?'),\n",
        "    config=types.GenerateContentConfig(\n",
        "        temperature=0,\n",
        "        top_p=0.95,\n",
        "        top_k=20,\n",
        "        candidate_count=1,\n",
        "        seed=5,\n",
        "        max_output_tokens=100,\n",
        "        stop_sequences=['STOP!'],\n",
        "        presence_penalty=0.0,\n",
        "        frequency_penalty=0.0,\n",
        "    ),\n",
        ")\n",
        "\n",
        "print(response.text)"
      ],
      "metadata": {
        "id": "OHPGv4aow9oK"
      },
      "execution_count": null,
      "outputs": []
    },
    {
      "cell_type": "markdown",
      "source": [
        "## Function calling"
      ],
      "metadata": {
        "id": "PD6xQmJQyqFZ"
      }
    },
    {
      "cell_type": "code",
      "source": [
        "def get_current_weather(location: str) -> str:\n",
        "    \"\"\"Returns the current weather.\n",
        "\n",
        "    Args:\n",
        "      location: The city and state, e.g. San Francisco, CA\n",
        "    \"\"\"\n",
        "    return 'sunny'\n",
        "\n",
        "\n",
        "response = google_client.models.generate_content(\n",
        "    model='gemini-2.0-flash-001',\n",
        "    contents='What is the weather like in Boston?',\n",
        "    config=types.GenerateContentConfig(tools=[get_current_weather]),\n",
        ")\n",
        "\n",
        "print(response.text)"
      ],
      "metadata": {
        "id": "0lR2ThN4yOr4"
      },
      "execution_count": null,
      "outputs": []
    },
    {
      "cell_type": "markdown",
      "source": [
        "## Get structured response"
      ],
      "metadata": {
        "id": "78FlPenUy5ZU"
      }
    },
    {
      "cell_type": "code",
      "source": [
        "from pydantic import BaseModel\n",
        "\n",
        "\n",
        "class CountryInfo(BaseModel):\n",
        "    name: str\n",
        "    population: int\n",
        "    capital: str\n",
        "    continent: str\n",
        "    gdp: int\n",
        "    official_language: str\n",
        "    total_area_sq_mi: int\n",
        "\n",
        "\n",
        "response = google_client.models.generate_content(\n",
        "    model='gemini-2.0-flash-001',\n",
        "    contents='Give me information for the United States.',\n",
        "    config=types.GenerateContentConfig(\n",
        "        response_mime_type='application/json',\n",
        "        response_schema=CountryInfo,\n",
        "    ),\n",
        ")\n",
        "print(response.text)"
      ],
      "metadata": {
        "id": "yNYXyvC_yslW"
      },
      "execution_count": null,
      "outputs": []
    },
    {
      "cell_type": "markdown",
      "source": [
        "## Stream response"
      ],
      "metadata": {
        "id": "vzM8pzsyzRPn"
      }
    },
    {
      "cell_type": "code",
      "source": [
        "for chunk in google_client.models.generate_content_stream(\n",
        "    model='gemini-2.0-flash-001', contents='Tell me a story in 300 words.'\n",
        "):\n",
        "    print(chunk.text, end='')"
      ],
      "metadata": {
        "id": "tjTnZAG1y7e5"
      },
      "execution_count": null,
      "outputs": []
    },
    {
      "cell_type": "markdown",
      "source": [
        "## Generate Image"
      ],
      "metadata": {
        "id": "Bx_55jfi0HaL"
      }
    },
    {
      "cell_type": "code",
      "source": [
        "# Generate Image\n",
        "response1 = google_client.models.generate_images(\n",
        "    model='imagen-3.0-generate-002',\n",
        "    prompt='An umbrella in the foreground, and a rainy night sky in the background',\n",
        "    config=types.GenerateImagesConfig(\n",
        "        number_of_images=1,\n",
        "        include_rai_reason=True,\n",
        "        output_mime_type='image/jpeg',\n",
        "    ),\n",
        ")\n",
        "\n",
        "response1.generated_images[0].image.show()"
      ],
      "metadata": {
        "id": "3PDm1TvxzT2V"
      },
      "execution_count": null,
      "outputs": []
    },
    {
      "cell_type": "markdown",
      "source": [
        "Open the Weave URL to see the image logged/tracked by the integration"
      ],
      "metadata": {
        "id": "Nilxyqjj0RyX"
      }
    },
    {
      "cell_type": "markdown",
      "source": [
        "## Support for async methods and chat methods"
      ],
      "metadata": {
        "id": "hxGwrW2m0jbO"
      }
    },
    {
      "cell_type": "code",
      "source": [
        "chat = google_client.aio.chats.create(model='gemini-2.0-flash-001')\n",
        "response = await chat.send_message('tell me a story')\n",
        "print(response.text)"
      ],
      "metadata": {
        "id": "N6QRZBYjz5Lp"
      },
      "execution_count": null,
      "outputs": []
    },
    {
      "cell_type": "code",
      "source": [],
      "metadata": {
        "id": "TbqGz_BX0c-B"
      },
      "execution_count": null,
      "outputs": []
    }
  ]
}